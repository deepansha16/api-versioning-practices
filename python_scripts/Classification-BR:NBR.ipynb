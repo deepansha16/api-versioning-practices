{
 "cells": [
  {
   "cell_type": "code",
   "execution_count": 1,
   "metadata": {},
   "outputs": [],
   "source": [
    "import pandas as pd\n",
    "import plotly.express as px\n",
    "import plotly.graph_objects as go\n",
    "import numpy as np\n",
    "import matplotlib.pyplot as plt\n",
    "import seaborn as sns\n",
    "import warnings\n",
    "warnings.filterwarnings('ignore')"
   ]
  },
  {
   "cell_type": "code",
   "execution_count": 1,
   "metadata": {},
   "outputs": [
    {
     "name": "stdout",
     "output_type": "stream",
     "text": [
      "Requirement already satisfied: seaborn in /Library/Frameworks/Python.framework/Versions/3.11/lib/python3.11/site-packages (0.12.2)\n",
      "Requirement already satisfied: numpy!=1.24.0,>=1.17 in /Library/Frameworks/Python.framework/Versions/3.11/lib/python3.11/site-packages (from seaborn) (1.24.3)\n",
      "Requirement already satisfied: pandas>=0.25 in /Library/Frameworks/Python.framework/Versions/3.11/lib/python3.11/site-packages (from seaborn) (2.0.0)\n",
      "Requirement already satisfied: matplotlib!=3.6.1,>=3.1 in /Library/Frameworks/Python.framework/Versions/3.11/lib/python3.11/site-packages (from seaborn) (3.7.1)\n",
      "Requirement already satisfied: contourpy>=1.0.1 in /Library/Frameworks/Python.framework/Versions/3.11/lib/python3.11/site-packages (from matplotlib!=3.6.1,>=3.1->seaborn) (1.0.7)\n",
      "Requirement already satisfied: cycler>=0.10 in /Library/Frameworks/Python.framework/Versions/3.11/lib/python3.11/site-packages (from matplotlib!=3.6.1,>=3.1->seaborn) (0.11.0)\n",
      "Requirement already satisfied: fonttools>=4.22.0 in /Library/Frameworks/Python.framework/Versions/3.11/lib/python3.11/site-packages (from matplotlib!=3.6.1,>=3.1->seaborn) (4.39.3)\n",
      "Requirement already satisfied: kiwisolver>=1.0.1 in /Library/Frameworks/Python.framework/Versions/3.11/lib/python3.11/site-packages (from matplotlib!=3.6.1,>=3.1->seaborn) (1.4.4)\n",
      "Requirement already satisfied: packaging>=20.0 in /Users/deepanshachowdhary/Library/Python/3.11/lib/python/site-packages (from matplotlib!=3.6.1,>=3.1->seaborn) (23.0)\n",
      "Requirement already satisfied: pillow>=6.2.0 in /Library/Frameworks/Python.framework/Versions/3.11/lib/python3.11/site-packages (from matplotlib!=3.6.1,>=3.1->seaborn) (9.5.0)\n",
      "Requirement already satisfied: pyparsing>=2.3.1 in /Library/Frameworks/Python.framework/Versions/3.11/lib/python3.11/site-packages (from matplotlib!=3.6.1,>=3.1->seaborn) (3.0.9)\n",
      "Requirement already satisfied: python-dateutil>=2.7 in /Users/deepanshachowdhary/Library/Python/3.11/lib/python/site-packages (from matplotlib!=3.6.1,>=3.1->seaborn) (2.8.2)\n",
      "Requirement already satisfied: pytz>=2020.1 in /Library/Frameworks/Python.framework/Versions/3.11/lib/python3.11/site-packages (from pandas>=0.25->seaborn) (2023.3)\n",
      "Requirement already satisfied: tzdata>=2022.1 in /Library/Frameworks/Python.framework/Versions/3.11/lib/python3.11/site-packages (from pandas>=0.25->seaborn) (2023.3)\n",
      "Requirement already satisfied: six>=1.5 in /Users/deepanshachowdhary/Library/Python/3.11/lib/python/site-packages (from python-dateutil>=2.7->matplotlib!=3.6.1,>=3.1->seaborn) (1.16.0)\n",
      "\n",
      "\u001b[1m[\u001b[0m\u001b[34;49mnotice\u001b[0m\u001b[1;39;49m]\u001b[0m\u001b[39;49m A new release of pip is available: \u001b[0m\u001b[31;49m23.1.1\u001b[0m\u001b[39;49m -> \u001b[0m\u001b[32;49m23.1.2\u001b[0m\n",
      "\u001b[1m[\u001b[0m\u001b[34;49mnotice\u001b[0m\u001b[1;39;49m]\u001b[0m\u001b[39;49m To update, run: \u001b[0m\u001b[32;49mpython3.11 -m pip install --upgrade pip\u001b[0m\n",
      "Note: you may need to restart the kernel to use updated packages.\n"
     ]
    }
   ],
   "source": [
    "pip install seaborn"
   ]
  },
  {
   "cell_type": "code",
   "execution_count": 2,
   "metadata": {},
   "outputs": [
    {
     "name": "stdout",
     "output_type": "stream",
     "text": [
      "Requirement already satisfied: kaleido in /Library/Frameworks/Python.framework/Versions/3.11/lib/python3.11/site-packages (0.2.1)\n",
      "\n",
      "\u001b[1m[\u001b[0m\u001b[34;49mnotice\u001b[0m\u001b[1;39;49m]\u001b[0m\u001b[39;49m A new release of pip is available: \u001b[0m\u001b[31;49m23.1.1\u001b[0m\u001b[39;49m -> \u001b[0m\u001b[32;49m23.1.2\u001b[0m\n",
      "\u001b[1m[\u001b[0m\u001b[34;49mnotice\u001b[0m\u001b[1;39;49m]\u001b[0m\u001b[39;49m To update, run: \u001b[0m\u001b[32;49mpython3.11 -m pip install --upgrade pip\u001b[0m\n",
      "Note: you may need to restart the kernel to use updated packages.\n"
     ]
    }
   ],
   "source": [
    "pip install -U kaleido"
   ]
  },
  {
   "cell_type": "code",
   "execution_count": 2,
   "metadata": {},
   "outputs": [],
   "source": [
    "df = pd.read_csv('api.csv',encoding='utf-8')"
   ]
  },
  {
   "cell_type": "code",
   "execution_count": 3,
   "metadata": {},
   "outputs": [],
   "source": [
    "allowed_labels=['major','minor','patch']\n",
    "labels = df[df['label'].isin(allowed_labels)]\n"
   ]
  },
  {
   "cell_type": "code",
   "execution_count": 4,
   "metadata": {},
   "outputs": [],
   "source": [
    "labels.fillna(0, inplace=True)"
   ]
  },
  {
   "cell_type": "code",
   "execution_count": 5,
   "metadata": {},
   "outputs": [],
   "source": [
    "import pandas as pd\n",
    "df=pd.read_csv('mongoo.csv',encoding='utf-8')"
   ]
  },
  {
   "cell_type": "code",
   "execution_count": 6,
   "metadata": {},
   "outputs": [],
   "source": [
    "final= pd.read_csv('final_api.csv',encoding='utf-8')"
   ]
  },
  {
   "cell_type": "code",
   "execution_count": 7,
   "metadata": {},
   "outputs": [
    {
     "data": {
      "text/plain": [
       "api_spec_id\n",
       "True    74584\n",
       "Name: count, dtype: int64"
      ]
     },
     "execution_count": 7,
     "metadata": {},
     "output_type": "execute_result"
    }
   ],
   "source": [
    "final['api_spec_id'].isin(df['api_spec_id']).value_counts()"
   ]
  },
  {
   "cell_type": "markdown",
   "metadata": {},
   "source": [
    "merged= pd.concat([final,df],axis=1, join='inner')"
   ]
  },
  {
   "cell_type": "code",
   "execution_count": 8,
   "metadata": {},
   "outputs": [],
   "source": [
    "merged=pd.read_csv('merged.csv',encoding='utf-8')"
   ]
  },
  {
   "cell_type": "code",
   "execution_count": 9,
   "metadata": {},
   "outputs": [],
   "source": [
    "merged['commit_date'] = pd.to_datetime(merged['commit_date']).dt.date"
   ]
  },
  {
   "cell_type": "code",
   "execution_count": 10,
   "metadata": {},
   "outputs": [],
   "source": [
    "merged['Year']= pd.to_datetime(merged['commit_date']).dt.year"
   ]
  },
  {
   "cell_type": "code",
   "execution_count": 11,
   "metadata": {},
   "outputs": [],
   "source": [
    "data=df.query('api_spec_id==779')\n",
    "data.to_csv('d.csv',index=False)"
   ]
  },
  {
   "cell_type": "code",
   "execution_count": 12,
   "metadata": {},
   "outputs": [],
   "source": [
    "df['diff2'] = df['diff2'].replace({np.nan: '{}'})"
   ]
  },
  {
   "cell_type": "code",
   "execution_count": 13,
   "metadata": {},
   "outputs": [],
   "source": [
    "import warnings\n",
    "warnings.filterwarnings('ignore')\n",
    "\n",
    "import pandas as pd\n",
    "import re\n",
    "\n",
    "keywords_regex = {\n",
    "    'errors': r'(\\w+ errors)',\n",
    "    'count': r'\\((\\d+)\\)',\n",
    "    'content': r'\\[(.*?)\\]'\n",
    "}\n",
    "\n",
    "# Define a function to extract keywords from a string\n",
    "def extract_keywords(text):\n",
    "    keywords = {}\n",
    "    for name, regex in keywords_regex.items():\n",
    "        keywords[name] = re.findall(regex, text)\n",
    "    return pd.Series(keywords)\n",
    "\n",
    "# Apply the function to the 'diff_2' column and add the extracted keywords as new columns\n",
    "df[list(keywords_regex.keys())] = df['diff2'].apply(extract_keywords)\n"
   ]
  },
  {
   "cell_type": "code",
   "execution_count": 14,
   "metadata": {},
   "outputs": [],
   "source": [
    "# Make new column type of change, if errors= compatability errors, then type of change= breaking change\n",
    "merged['type_of_change'] = np.where(merged['errors'].isnull(), 'Non-Breaking', 'Breaking')\n"
   ]
  },
  {
   "cell_type": "code",
   "execution_count": 15,
   "metadata": {},
   "outputs": [
    {
     "data": {
      "text/plain": [
       "errors                type_of_change\n",
       "compatibility errors  Breaking          11689\n",
       "Name: count, dtype: int64"
      ]
     },
     "execution_count": 15,
     "metadata": {},
     "output_type": "execute_result"
    }
   ],
   "source": [
    "merged['type_of_change'].groupby(merged['errors']).value_counts()"
   ]
  },
  {
   "cell_type": "code",
   "execution_count": 16,
   "metadata": {},
   "outputs": [
    {
     "data": {
      "text/plain": [
       "type_of_change\n",
       "Non-Breaking    62895\n",
       "Breaking        11689\n",
       "Name: count, dtype: int64"
      ]
     },
     "execution_count": 16,
     "metadata": {},
     "output_type": "execute_result"
    }
   ],
   "source": [
    "merged['type_of_change'].value_counts()"
   ]
  },
  {
   "cell_type": "code",
   "execution_count": 17,
   "metadata": {},
   "outputs": [],
   "source": [
    "api=pd.read_csv('api.csv',encoding='utf-8')"
   ]
  },
  {
   "cell_type": "code",
   "execution_count": 18,
   "metadata": {},
   "outputs": [],
   "source": [
    "api.drop(['commit_date','info_version','id','label'],axis=1,inplace=True)"
   ]
  },
  {
   "cell_type": "code",
   "execution_count": 19,
   "metadata": {},
   "outputs": [
    {
     "data": {
      "text/plain": [
       "api_spec_id\n",
       "True    74584\n",
       "Name: count, dtype: int64"
      ]
     },
     "execution_count": 19,
     "metadata": {},
     "output_type": "execute_result"
    }
   ],
   "source": [
    "merged['api_spec_id'].isin(api['api_spec_id']).value_counts()"
   ]
  },
  {
   "cell_type": "code",
   "execution_count": 20,
   "metadata": {},
   "outputs": [],
   "source": [
    "final_api= pd.concat([merged,api],axis=1, join='inner')"
   ]
  },
  {
   "cell_type": "code",
   "execution_count": 21,
   "metadata": {},
   "outputs": [],
   "source": [
    "final_api.to_csv('final.csv',index=False)"
   ]
  },
  {
   "cell_type": "code",
   "execution_count": 22,
   "metadata": {},
   "outputs": [],
   "source": [
    "new_api=pd.read_csv('final.csv',encoding='utf-8')"
   ]
  },
  {
   "cell_type": "markdown",
   "metadata": {},
   "source": [
    "age= pd.read_csv('mongo_docs.csv',encoding='utf-8')"
   ]
  },
  {
   "cell_type": "code",
   "execution_count": 23,
   "metadata": {},
   "outputs": [
    {
     "ename": "NameError",
     "evalue": "name 'age' is not defined",
     "output_type": "error",
     "traceback": [
      "\u001b[0;31m---------------------------------------------------------------------------\u001b[0m",
      "\u001b[0;31mNameError\u001b[0m                                 Traceback (most recent call last)",
      "Cell \u001b[0;32mIn[23], line 1\u001b[0m\n\u001b[0;32m----> 1\u001b[0m new_api[\u001b[38;5;124m'\u001b[39m\u001b[38;5;124mapi_spec_id\u001b[39m\u001b[38;5;124m'\u001b[39m]\u001b[38;5;241m.\u001b[39misin(\u001b[43mage\u001b[49m[\u001b[38;5;124m'\u001b[39m\u001b[38;5;124mid\u001b[39m\u001b[38;5;124m'\u001b[39m])\u001b[38;5;241m.\u001b[39mvalue_counts()\n",
      "\u001b[0;31mNameError\u001b[0m: name 'age' is not defined"
     ]
    }
   ],
   "source": [
    "new_api['api_spec_id'].isin(age['id']).value_counts()"
   ]
  },
  {
   "cell_type": "code",
   "execution_count": 24,
   "metadata": {},
   "outputs": [],
   "source": [
    "new=pd.read_csv('final_new.csv',encoding='utf-8')"
   ]
  },
  {
   "cell_type": "markdown",
   "metadata": {},
   "source": [
    "new['label'] = new['label'].replace({np.nan: 'Empty'})"
   ]
  },
  {
   "cell_type": "code",
   "execution_count": 25,
   "metadata": {},
   "outputs": [],
   "source": [
    "new.replace (0, np.nan, inplace=True)"
   ]
  },
  {
   "cell_type": "code",
   "execution_count": 27,
   "metadata": {},
   "outputs": [
    {
     "data": {
      "text/plain": [
       "label  type_of_change\n",
       "major  Non-Breaking       173\n",
       "       Breaking            49\n",
       "minor  Non-Breaking       847\n",
       "       Breaking           167\n",
       "patch  Non-Breaking      2916\n",
       "       Breaking           622\n",
       "Name: count, dtype: int64"
      ]
     },
     "execution_count": 27,
     "metadata": {},
     "output_type": "execute_result"
    }
   ],
   "source": [
    "labels['type_of_change'].groupby(labels['label']).value_counts()"
   ]
  },
  {
   "cell_type": "code",
   "execution_count": 28,
   "metadata": {},
   "outputs": [],
   "source": [
    "non_breaking_changes=new[new['type_of_change']=='Non-Breaking']\n",
    "\n",
    "# no of rows where label is major and contains at least one non-breaking change\n",
    "num_major_non_breaking = len(non_breaking_changes[non_breaking_changes['label']=='major'])\n",
    "\n",
    "# no of rows where label is minor and contains at least one non-breaking change\n",
    "num_minor_non_breaking = len(non_breaking_changes[non_breaking_changes['label']=='minor'])\n",
    "\n",
    "# no of rows where label is patch and contains at least one non-breaking change\n",
    "num_patch_non_breaking = len(non_breaking_changes[non_breaking_changes['label']=='patch'])\n",
    "\n",
    "total_non_breaking = len(non_breaking_changes)\n",
    "\n",
    "percentage_non_breaking= (total_non_breaking/len(new))*100\n",
    "\n"
   ]
  },
  {
   "cell_type": "code",
   "execution_count": 29,
   "metadata": {},
   "outputs": [
    {
     "name": "stdout",
     "output_type": "stream",
     "text": [
      "49\n",
      "167\n",
      "622\n",
      "11689\n",
      "74584\n",
      "15.672262147377452\n",
      "0.41919753614509364\n",
      "1.4286936435965438\n",
      "5.321242193515271\n",
      "99.58080246385491\n",
      "98.57130635640345\n",
      "94.67875780648473\n"
     ]
    }
   ],
   "source": [
    "# calculate the number of rows where type_of_change is \"breaking\"\n",
    "breaking_changes = new[new[\"type_of_change\"] == \"Breaking\"]\n",
    "\n",
    "# calculate the number of rows where label is \"Major\" and contains at least one breaking change\n",
    "num_major_breaking = len(breaking_changes[breaking_changes[\"label\"] == \"major\"])\n",
    "print(num_major_breaking)\n",
    "\n",
    "# calculate the number of rows where label is \"Minor\" and contains at least one breaking change\n",
    "num_minor_breaking = len(breaking_changes[breaking_changes[\"label\"] == \"minor\"])\n",
    "print(num_minor_breaking)\n",
    "\n",
    "# calculate the number of rows where label is \"Patch\" and contains at least one breaking change\n",
    "num_patch_breaking = len(breaking_changes[breaking_changes[\"label\"] == \"patch\"])\n",
    "print(num_patch_breaking)\n",
    "\n",
    "# calculate the total number of rows that contain at least one breaking change\n",
    "total_breaking = len(breaking_changes)\n",
    "print(total_breaking)\n",
    "\n",
    "# calculate the total number of rows\n",
    "total_changes = len(new)\n",
    "print(total_changes)\n",
    "\n",
    "# calculate the percentage of rows that contain at least one breaking change\n",
    "percentage_breaking = (total_breaking / total_changes) * 100\n",
    "print(percentage_breaking)\n",
    "\n",
    "# calculate the percentage of rows where label is \"Major\" and contains at least one breaking change\n",
    "percentage_major_breaking = (num_major_breaking / total_breaking) * 100\n",
    "print(percentage_major_breaking)\n",
    "\n",
    "# calculate the percentage of rows where label is \"Minor\" and contains at least one breaking change\n",
    "percentage_minor_breaking = (num_minor_breaking / total_breaking) * 100\n",
    "print(percentage_minor_breaking)\n",
    "\n",
    "# calculate the percentage of rows where label is \"Patch\" and contains at least one breaking change\n",
    "percentage_patch_breaking = (num_patch_breaking / total_breaking) * 100\n",
    "print(percentage_patch_breaking)\n",
    "\n",
    "# calculate the percentage of rows where label is \"Major\" and does not contain any breaking changes\n",
    "percentage_major_nonbreaking = 100 - percentage_major_breaking\n",
    "print(percentage_major_nonbreaking)\n",
    "\n",
    "# calculate the percentage of rows where label is \"Minor\" and does not contain any breaking changes\n",
    "percentage_minor_nonbreaking = 100 - percentage_minor_breaking\n",
    "print(percentage_minor_nonbreaking)\n",
    "\n",
    "# calculate the percentage of rows where label is \"Patch\" and does not contain any breaking changes\n",
    "percentage_patch_nonbreaking = 100 - percentage_patch_breaking\n",
    "print(percentage_patch_nonbreaking)\n",
    "\n"
   ]
  },
  {
   "cell_type": "code",
   "execution_count": 31,
   "metadata": {},
   "outputs": [
    {
     "name": "stdout",
     "output_type": "stream",
     "text": [
      "Collecting tabulate\n",
      "  Using cached tabulate-0.9.0-py3-none-any.whl (35 kB)\n",
      "Installing collected packages: tabulate\n",
      "\u001b[33m  WARNING: The script tabulate is installed in '/Library/Frameworks/Python.framework/Versions/3.11/bin' which is not on PATH.\n",
      "  Consider adding this directory to PATH or, if you prefer to suppress this warning, use --no-warn-script-location.\n",
      "  NOTE: The current PATH contains path(s) starting with `~`, which may not be expanded by all applications.\u001b[0m\u001b[33m\n",
      "\u001b[0mSuccessfully installed tabulate-0.9.0\n",
      "\n",
      "\u001b[1m[\u001b[0m\u001b[34;49mnotice\u001b[0m\u001b[1;39;49m]\u001b[0m\u001b[39;49m A new release of pip is available: \u001b[0m\u001b[31;49m23.1.1\u001b[0m\u001b[39;49m -> \u001b[0m\u001b[32;49m23.1.2\u001b[0m\n",
      "\u001b[1m[\u001b[0m\u001b[34;49mnotice\u001b[0m\u001b[1;39;49m]\u001b[0m\u001b[39;49m To update, run: \u001b[0m\u001b[32;49mpython3.11 -m pip install --upgrade pip\u001b[0m\n",
      "Note: you may need to restart the kernel to use updated packages.\n"
     ]
    }
   ],
   "source": [
    "pip install tabulate"
   ]
  },
  {
   "cell_type": "code",
   "execution_count": 32,
   "metadata": {},
   "outputs": [
    {
     "name": "stdout",
     "output_type": "stream",
     "text": [
      "Type of Change                Count  Percentage\n",
      "--------------------------  -------  ------------\n",
      "Total Number of Changes       74584\n",
      "Total Breaking                11689  15.67%\n",
      "Total Non-Breaking            62895  84.33%\n",
      "Major Breaking Changes           49  0.42%\n",
      "Minor Breaking Changes          167  1.43%\n",
      "Patch Breaking Changes          622  5.32%\n",
      "Major Non-Breaking Changes      173  99.58%\n",
      "Minor Non-Breaking Changes      847  98.57%\n",
      "Patch Non-Breaking Changes     2916  94.68%\n"
     ]
    }
   ],
   "source": [
    "from tabulate import tabulate\n",
    "\n",
    "table = [[\"Total Number of Changes\", total_changes],\n",
    "        [ \"Total Breaking\", total_breaking, f\"{percentage_breaking:.2f}%\"],\n",
    "        [ \"Total Non-Breaking\", total_non_breaking, f\"{percentage_non_breaking:.2f}%\"],\n",
    "         [\"Major Breaking Changes\", num_major_breaking, f\"{percentage_major_breaking:.2f}%\"],\n",
    "         [\"Minor Breaking Changes\", num_minor_breaking, f\"{percentage_minor_breaking:.2f}%\"],\n",
    "         [\"Patch Breaking Changes\", num_patch_breaking, f\"{percentage_patch_breaking:.2f}%\"],\n",
    "         [\"Major Non-Breaking Changes\",num_major_non_breaking, f\"{percentage_major_nonbreaking:.2f}%\"],\n",
    "         [\"Minor Non-Breaking Changes\",num_minor_non_breaking, f\"{percentage_minor_nonbreaking:.2f}%\"],\n",
    "         [\"Patch Non-Breaking Changes\",num_patch_non_breaking, f\"{percentage_patch_nonbreaking:.2f}%\"]]\n",
    "\n",
    "headers = [\"Type of Change\", \"Count\", \"Percentage\"]\n",
    "\n",
    "print(tabulate(table, headers=headers))\n"
   ]
  },
  {
   "cell_type": "code",
   "execution_count": 33,
   "metadata": {},
   "outputs": [],
   "source": [
    "new['label'] = new['label'].replace({'0': 'no change'})"
   ]
  },
  {
   "cell_type": "code",
   "execution_count": 34,
   "metadata": {},
   "outputs": [],
   "source": [
    "allowed_labels=['major','minor','patch']\n",
    "labels = new[new['label'].isin(allowed_labels)]\n"
   ]
  },
  {
   "cell_type": "code",
   "execution_count": 35,
   "metadata": {},
   "outputs": [
    {
     "data": {
      "text/plain": [
       "type_of_change\n",
       "Non-Breaking    62895\n",
       "Breaking        11689\n",
       "Name: count, dtype: int64"
      ]
     },
     "execution_count": 35,
     "metadata": {},
     "output_type": "execute_result"
    }
   ],
   "source": [
    "new['type_of_change'].value_counts()"
   ]
  },
  {
   "cell_type": "code",
   "execution_count": 36,
   "metadata": {},
   "outputs": [],
   "source": [
    "import pandas as pd\n",
    "import plotly.express as px\n",
    "import warnings\n",
    "warnings.filterwarnings('ignore')\n",
    "\n",
    "# Convert the 'Date' column to a datetime format\n",
    "labels['commit_date'] = pd.to_datetime(labels['commit_date'])\n",
    "\n",
    "# Group the data by year and label type and count the number of releases\n",
    "df_grouped = labels.groupby([labels['commit_date'].dt.year, 'label'])['label'].count().reset_index(name='count')\n",
    "\n",
    "\n",
    "# Pivot the data to have label types as columns and years as rows\n",
    "df_pivot = df_grouped.pivot(index='commit_date', columns='label', values='count')\n",
    "\n",
    "# Fill any missing values with 0\n",
    "df_pivot.fillna(0, inplace=True)\n",
    "\n"
   ]
  },
  {
   "cell_type": "code",
   "execution_count": 37,
   "metadata": {},
   "outputs": [],
   "source": [
    "df_pivot = df_pivot.drop(2015)\n",
    "df_pivot = df_pivot.drop(2023)"
   ]
  },
  {
   "cell_type": "code",
   "execution_count": 38,
   "metadata": {},
   "outputs": [],
   "source": [
    "import pandas as pd\n",
    "import plotly.express as px\n",
    "import warnings\n",
    "warnings.filterwarnings('ignore')\n",
    "\n",
    "# Convert the 'Date' column to a datetime format\n",
    "labels['commit_date'] = pd.to_datetime(labels['commit_date'])\n",
    "\n",
    "# Group the data by year and label type and count the number of releases\n",
    "df_grouped = labels.groupby([labels['commit_date'].dt.year, 'type_of_change'])['type_of_change'].count().reset_index(name='count')\n",
    "\n",
    "\n",
    "# Pivot the data to have label types as columns and years as rows\n",
    "breaking_pivot = df_grouped.pivot(index='commit_date', columns='type_of_change', values='count')\n",
    "\n",
    "# Fill any missing values with 0\n",
    "breaking_pivot.fillna(0, inplace=True)\n"
   ]
  },
  {
   "cell_type": "code",
   "execution_count": 39,
   "metadata": {},
   "outputs": [],
   "source": [
    "breaking_pivot = breaking_pivot.drop(2015)\n",
    "breaking_pivot = breaking_pivot.drop(2023)"
   ]
  },
  {
   "cell_type": "code",
   "execution_count": 40,
   "metadata": {},
   "outputs": [
    {
     "data": {
      "text/html": [
       "<div>\n",
       "<style scoped>\n",
       "    .dataframe tbody tr th:only-of-type {\n",
       "        vertical-align: middle;\n",
       "    }\n",
       "\n",
       "    .dataframe tbody tr th {\n",
       "        vertical-align: top;\n",
       "    }\n",
       "\n",
       "    .dataframe thead th {\n",
       "        text-align: right;\n",
       "    }\n",
       "</style>\n",
       "<table border=\"1\" class=\"dataframe\">\n",
       "  <thead>\n",
       "    <tr style=\"text-align: right;\">\n",
       "      <th>type_of_change</th>\n",
       "      <th>Breaking</th>\n",
       "      <th>Non-Breaking</th>\n",
       "    </tr>\n",
       "    <tr>\n",
       "      <th>commit_date</th>\n",
       "      <th></th>\n",
       "      <th></th>\n",
       "    </tr>\n",
       "  </thead>\n",
       "  <tbody>\n",
       "    <tr>\n",
       "      <th>2016</th>\n",
       "      <td>11.0</td>\n",
       "      <td>57.0</td>\n",
       "    </tr>\n",
       "    <tr>\n",
       "      <th>2017</th>\n",
       "      <td>40.0</td>\n",
       "      <td>165.0</td>\n",
       "    </tr>\n",
       "    <tr>\n",
       "      <th>2018</th>\n",
       "      <td>82.0</td>\n",
       "      <td>401.0</td>\n",
       "    </tr>\n",
       "    <tr>\n",
       "      <th>2019</th>\n",
       "      <td>277.0</td>\n",
       "      <td>1071.0</td>\n",
       "    </tr>\n",
       "    <tr>\n",
       "      <th>2020</th>\n",
       "      <td>168.0</td>\n",
       "      <td>715.0</td>\n",
       "    </tr>\n",
       "    <tr>\n",
       "      <th>2021</th>\n",
       "      <td>138.0</td>\n",
       "      <td>723.0</td>\n",
       "    </tr>\n",
       "    <tr>\n",
       "      <th>2022</th>\n",
       "      <td>118.0</td>\n",
       "      <td>803.0</td>\n",
       "    </tr>\n",
       "  </tbody>\n",
       "</table>\n",
       "</div>"
      ],
      "text/plain": [
       "type_of_change  Breaking  Non-Breaking\n",
       "commit_date                           \n",
       "2016                11.0          57.0\n",
       "2017                40.0         165.0\n",
       "2018                82.0         401.0\n",
       "2019               277.0        1071.0\n",
       "2020               168.0         715.0\n",
       "2021               138.0         723.0\n",
       "2022               118.0         803.0"
      ]
     },
     "execution_count": 40,
     "metadata": {},
     "output_type": "execute_result"
    }
   ],
   "source": [
    "breaking_pivot"
   ]
  },
  {
   "cell_type": "code",
   "execution_count": 41,
   "metadata": {},
   "outputs": [
    {
     "data": {
      "text/html": [
       "<div>\n",
       "<style scoped>\n",
       "    .dataframe tbody tr th:only-of-type {\n",
       "        vertical-align: middle;\n",
       "    }\n",
       "\n",
       "    .dataframe tbody tr th {\n",
       "        vertical-align: top;\n",
       "    }\n",
       "\n",
       "    .dataframe thead th {\n",
       "        text-align: right;\n",
       "    }\n",
       "</style>\n",
       "<table border=\"1\" class=\"dataframe\">\n",
       "  <thead>\n",
       "    <tr style=\"text-align: right;\">\n",
       "      <th>label</th>\n",
       "      <th>major</th>\n",
       "      <th>minor</th>\n",
       "      <th>patch</th>\n",
       "    </tr>\n",
       "    <tr>\n",
       "      <th>commit_date</th>\n",
       "      <th></th>\n",
       "      <th></th>\n",
       "      <th></th>\n",
       "    </tr>\n",
       "  </thead>\n",
       "  <tbody>\n",
       "    <tr>\n",
       "      <th>2016</th>\n",
       "      <td>9.0</td>\n",
       "      <td>17.0</td>\n",
       "      <td>42.0</td>\n",
       "    </tr>\n",
       "    <tr>\n",
       "      <th>2017</th>\n",
       "      <td>8.0</td>\n",
       "      <td>11.0</td>\n",
       "      <td>186.0</td>\n",
       "    </tr>\n",
       "    <tr>\n",
       "      <th>2018</th>\n",
       "      <td>17.0</td>\n",
       "      <td>37.0</td>\n",
       "      <td>429.0</td>\n",
       "    </tr>\n",
       "    <tr>\n",
       "      <th>2019</th>\n",
       "      <td>107.0</td>\n",
       "      <td>115.0</td>\n",
       "      <td>1126.0</td>\n",
       "    </tr>\n",
       "    <tr>\n",
       "      <th>2020</th>\n",
       "      <td>37.0</td>\n",
       "      <td>244.0</td>\n",
       "      <td>602.0</td>\n",
       "    </tr>\n",
       "    <tr>\n",
       "      <th>2021</th>\n",
       "      <td>29.0</td>\n",
       "      <td>350.0</td>\n",
       "      <td>482.0</td>\n",
       "    </tr>\n",
       "    <tr>\n",
       "      <th>2022</th>\n",
       "      <td>15.0</td>\n",
       "      <td>235.0</td>\n",
       "      <td>671.0</td>\n",
       "    </tr>\n",
       "  </tbody>\n",
       "</table>\n",
       "</div>"
      ],
      "text/plain": [
       "label        major  minor   patch\n",
       "commit_date                      \n",
       "2016           9.0   17.0    42.0\n",
       "2017           8.0   11.0   186.0\n",
       "2018          17.0   37.0   429.0\n",
       "2019         107.0  115.0  1126.0\n",
       "2020          37.0  244.0   602.0\n",
       "2021          29.0  350.0   482.0\n",
       "2022          15.0  235.0   671.0"
      ]
     },
     "execution_count": 41,
     "metadata": {},
     "output_type": "execute_result"
    }
   ],
   "source": [
    "df_pivot"
   ]
  },
  {
   "cell_type": "code",
   "execution_count": 42,
   "metadata": {},
   "outputs": [
    {
     "data": {
      "text/plain": [
       "type_of_change  label\n",
       "Breaking        patch     622\n",
       "                minor     167\n",
       "                major      49\n",
       "Non-Breaking    patch    2916\n",
       "                minor     847\n",
       "                major     173\n",
       "Name: count, dtype: int64"
      ]
     },
     "execution_count": 42,
     "metadata": {},
     "output_type": "execute_result"
    }
   ],
   "source": [
    "labels['label'].groupby(labels['type_of_change']).value_counts()"
   ]
  },
  {
   "cell_type": "code",
   "execution_count": 43,
   "metadata": {},
   "outputs": [],
   "source": [
    "grouped_final = labels.loc[(labels['type_of_change'] == 'Breaking') & (labels['label'] != 'major')].groupby([labels['commit_date'].dt.year, 'type_of_change', 'label'])['label'].count().reset_index(name='count')\n",
    "grouped_final.drop([0, 15], inplace=True)\n",
    "#grouped_final"
   ]
  },
  {
   "cell_type": "code",
   "execution_count": 44,
   "metadata": {},
   "outputs": [
    {
     "data": {
      "text/html": [
       "<div>\n",
       "<style scoped>\n",
       "    .dataframe tbody tr th:only-of-type {\n",
       "        vertical-align: middle;\n",
       "    }\n",
       "\n",
       "    .dataframe tbody tr th {\n",
       "        vertical-align: top;\n",
       "    }\n",
       "\n",
       "    .dataframe thead th {\n",
       "        text-align: right;\n",
       "    }\n",
       "</style>\n",
       "<table border=\"1\" class=\"dataframe\">\n",
       "  <thead>\n",
       "    <tr style=\"text-align: right;\">\n",
       "      <th></th>\n",
       "      <th>commit_date</th>\n",
       "      <th>type_of_change</th>\n",
       "      <th>count</th>\n",
       "    </tr>\n",
       "  </thead>\n",
       "  <tbody>\n",
       "    <tr>\n",
       "      <th>0</th>\n",
       "      <td>2016</td>\n",
       "      <td>Breaking</td>\n",
       "      <td>10</td>\n",
       "    </tr>\n",
       "    <tr>\n",
       "      <th>1</th>\n",
       "      <td>2017</td>\n",
       "      <td>Breaking</td>\n",
       "      <td>39</td>\n",
       "    </tr>\n",
       "    <tr>\n",
       "      <th>2</th>\n",
       "      <td>2018</td>\n",
       "      <td>Breaking</td>\n",
       "      <td>78</td>\n",
       "    </tr>\n",
       "    <tr>\n",
       "      <th>3</th>\n",
       "      <td>2019</td>\n",
       "      <td>Breaking</td>\n",
       "      <td>249</td>\n",
       "    </tr>\n",
       "    <tr>\n",
       "      <th>4</th>\n",
       "      <td>2020</td>\n",
       "      <td>Breaking</td>\n",
       "      <td>160</td>\n",
       "    </tr>\n",
       "    <tr>\n",
       "      <th>5</th>\n",
       "      <td>2021</td>\n",
       "      <td>Breaking</td>\n",
       "      <td>133</td>\n",
       "    </tr>\n",
       "    <tr>\n",
       "      <th>6</th>\n",
       "      <td>2022</td>\n",
       "      <td>Breaking</td>\n",
       "      <td>116</td>\n",
       "    </tr>\n",
       "  </tbody>\n",
       "</table>\n",
       "</div>"
      ],
      "text/plain": [
       "   commit_date type_of_change  count\n",
       "0         2016       Breaking     10\n",
       "1         2017       Breaking     39\n",
       "2         2018       Breaking     78\n",
       "3         2019       Breaking    249\n",
       "4         2020       Breaking    160\n",
       "5         2021       Breaking    133\n",
       "6         2022       Breaking    116"
      ]
     },
     "execution_count": 44,
     "metadata": {},
     "output_type": "execute_result"
    }
   ],
   "source": [
    "grouped_sum = grouped_final.groupby(['commit_date', 'type_of_change'])['count'].sum().reset_index()\n",
    "grouped_sum"
   ]
  },
  {
   "cell_type": "code",
   "execution_count": 45,
   "metadata": {},
   "outputs": [
    {
     "data": {
      "image/svg+xml": "<svg class=\"main-svg\" xmlns=\"http://www.w3.org/2000/svg\" xmlns:xlink=\"http://www.w3.org/1999/xlink\" width=\"1300\" height=\"800\" style=\"\" viewBox=\"0 0 1300 800\"><rect x=\"0\" y=\"0\" width=\"1300\" height=\"800\" style=\"fill: rgb(255, 255, 255); fill-opacity: 1;\"/><defs id=\"defs-a9a851\"><g class=\"clips\"><clipPath id=\"clipa9a851xyplot\" class=\"plotclip\"><rect width=\"1021\" height=\"620\"/></clipPath><clipPath class=\"axesclip\" id=\"clipa9a851x\"><rect x=\"80\" y=\"0\" width=\"1021\" height=\"800\"/></clipPath><clipPath class=\"axesclip\" id=\"clipa9a851y\"><rect x=\"0\" y=\"100\" width=\"1300\" height=\"620\"/></clipPath><clipPath class=\"axesclip\" id=\"clipa9a851xy\"><rect x=\"80\" y=\"100\" width=\"1021\" height=\"620\"/></clipPath></g><g class=\"gradients\"/><g class=\"patterns\"/></defs><g class=\"bglayer\"><rect class=\"bg\" x=\"80\" y=\"100\" width=\"1021\" height=\"620\" style=\"fill: rgb(237, 237, 237); fill-opacity: 1; stroke-width: 0;\"/></g><g class=\"layer-below\"><g class=\"imagelayer\"/><g class=\"shapelayer\"/></g><g class=\"cartesianlayer\"><g class=\"subplot xy\"><g class=\"layer-subplot\"><g class=\"shapelayer\"/><g class=\"imagelayer\"/></g><g class=\"minor-gridlayer\"><g class=\"x\"/><g class=\"y\"/></g><g class=\"gridlayer\"><g class=\"x\"><path class=\"xgrid crisp\" transform=\"translate(134.8,0)\" d=\"M0,100v620\" style=\"stroke: rgb(255, 255, 255); stroke-opacity: 1; stroke-width: 1px;\"/><path class=\"xgrid crisp\" transform=\"translate(286.7,0)\" d=\"M0,100v620\" style=\"stroke: rgb(255, 255, 255); stroke-opacity: 1; stroke-width: 1px;\"/><path class=\"xgrid crisp\" transform=\"translate(438.6,0)\" d=\"M0,100v620\" style=\"stroke: rgb(255, 255, 255); stroke-opacity: 1; stroke-width: 1px;\"/><path class=\"xgrid crisp\" transform=\"translate(590.5,0)\" d=\"M0,100v620\" style=\"stroke: rgb(255, 255, 255); stroke-opacity: 1; stroke-width: 1px;\"/><path class=\"xgrid crisp\" transform=\"translate(742.4,0)\" d=\"M0,100v620\" style=\"stroke: rgb(255, 255, 255); stroke-opacity: 1; stroke-width: 1px;\"/><path class=\"xgrid crisp\" transform=\"translate(894.3,0)\" d=\"M0,100v620\" style=\"stroke: rgb(255, 255, 255); stroke-opacity: 1; stroke-width: 1px;\"/><path class=\"xgrid crisp\" transform=\"translate(1046.2,0)\" d=\"M0,100v620\" style=\"stroke: rgb(255, 255, 255); stroke-opacity: 1; stroke-width: 1px;\"/></g><g class=\"y\"><path class=\"ygrid crisp\" transform=\"translate(0,592.06)\" d=\"M80,0h1021\" style=\"stroke: rgb(255, 255, 255); stroke-opacity: 1; stroke-width: 1px;\"/><path class=\"ygrid crisp\" transform=\"translate(0,493.65)\" d=\"M80,0h1021\" style=\"stroke: rgb(255, 255, 255); stroke-opacity: 1; stroke-width: 1px;\"/><path class=\"ygrid crisp\" transform=\"translate(0,395.24)\" d=\"M80,0h1021\" style=\"stroke: rgb(255, 255, 255); stroke-opacity: 1; stroke-width: 1px;\"/><path class=\"ygrid crisp\" transform=\"translate(0,296.83000000000004)\" d=\"M80,0h1021\" style=\"stroke: rgb(255, 255, 255); stroke-opacity: 1; stroke-width: 1px;\"/><path class=\"ygrid crisp\" transform=\"translate(0,198.41)\" d=\"M80,0h1021\" style=\"stroke: rgb(255, 255, 255); stroke-opacity: 1; stroke-width: 1px;\"/></g></g><g class=\"zerolinelayer\"><path class=\"yzl zl crisp\" transform=\"translate(0,690.48)\" d=\"M80,0h1021\" style=\"stroke: rgb(255, 255, 255); stroke-opacity: 1; stroke-width: 1px;\"/></g><path class=\"xlines-below\"/><path class=\"ylines-below\"/><g class=\"overlines-below\"/><g class=\"xaxislayer-below\"/><g class=\"yaxislayer-below\"/><g class=\"overaxes-below\"/><g class=\"plot\" transform=\"translate(80,100)\" clip-path=\"url(#clipa9a851xyplot)\"><g class=\"scatterlayer mlayer\"><g class=\"trace scatter trace74fb4d\" style=\"stroke-miterlimit: 2; opacity: 1;\"><g class=\"fills\"/><g class=\"errorbars\"/><g class=\"lines\"><path class=\"js-line\" d=\"M54.8,586.05L206.7,586.54L358.6,582.11L510.5,537.83L662.4,572.27L814.3,576.21L966.2,583.1\" style=\"vector-effect: none; fill: none; stroke: rgb(248, 118, 109); stroke-opacity: 1; stroke-width: 2.5px; opacity: 1;\"/></g><g class=\"points\"><path class=\"point\" transform=\"translate(54.8,586.05)\" d=\"M3,0A3,3 0 1,1 0,-3A3,3 0 0,1 3,0Z\" style=\"opacity: 1; stroke-width: 0px; fill: rgb(248, 118, 109); fill-opacity: 1;\"/><path class=\"point\" transform=\"translate(206.7,586.54)\" d=\"M3,0A3,3 0 1,1 0,-3A3,3 0 0,1 3,0Z\" style=\"opacity: 1; stroke-width: 0px; fill: rgb(248, 118, 109); fill-opacity: 1;\"/><path class=\"point\" transform=\"translate(358.6,582.11)\" d=\"M3,0A3,3 0 1,1 0,-3A3,3 0 0,1 3,0Z\" style=\"opacity: 1; stroke-width: 0px; fill: rgb(248, 118, 109); fill-opacity: 1;\"/><path class=\"point\" transform=\"translate(510.5,537.83)\" d=\"M3,0A3,3 0 1,1 0,-3A3,3 0 0,1 3,0Z\" style=\"opacity: 1; stroke-width: 0px; fill: rgb(248, 118, 109); fill-opacity: 1;\"/><path class=\"point\" transform=\"translate(662.4,572.27)\" d=\"M3,0A3,3 0 1,1 0,-3A3,3 0 0,1 3,0Z\" style=\"opacity: 1; stroke-width: 0px; fill: rgb(248, 118, 109); fill-opacity: 1;\"/><path class=\"point\" transform=\"translate(814.3,576.21)\" d=\"M3,0A3,3 0 1,1 0,-3A3,3 0 0,1 3,0Z\" style=\"opacity: 1; stroke-width: 0px; fill: rgb(248, 118, 109); fill-opacity: 1;\"/><path class=\"point\" transform=\"translate(966.2,583.1)\" d=\"M3,0A3,3 0 1,1 0,-3A3,3 0 0,1 3,0Z\" style=\"opacity: 1; stroke-width: 0px; fill: rgb(248, 118, 109); fill-opacity: 1;\"/></g><g class=\"text\"/></g><g class=\"trace scatter trace29d393\" style=\"stroke-miterlimit: 2; opacity: 1;\"><g class=\"fills\"/><g class=\"errorbars\"/><g class=\"lines\"><path class=\"js-line\" d=\"M54.8,582.11L206.7,585.06L358.6,572.27L510.5,533.89L662.4,470.41L814.3,418.25L966.2,474.84\" style=\"vector-effect: none; fill: none; stroke: rgb(163, 165, 0); stroke-opacity: 1; stroke-dasharray: 3px, 3px; stroke-width: 2.5px; opacity: 1;\"/></g><g class=\"points\"><path class=\"point\" transform=\"translate(54.8,582.11)\" d=\"M3,0A3,3 0 1,1 0,-3A3,3 0 0,1 3,0Z\" style=\"opacity: 1; stroke-width: 0px; fill: rgb(163, 165, 0); fill-opacity: 1;\"/><path class=\"point\" transform=\"translate(206.7,585.06)\" d=\"M3,0A3,3 0 1,1 0,-3A3,3 0 0,1 3,0Z\" style=\"opacity: 1; stroke-width: 0px; fill: rgb(163, 165, 0); fill-opacity: 1;\"/><path class=\"point\" transform=\"translate(358.6,572.27)\" d=\"M3,0A3,3 0 1,1 0,-3A3,3 0 0,1 3,0Z\" style=\"opacity: 1; stroke-width: 0px; fill: rgb(163, 165, 0); fill-opacity: 1;\"/><path class=\"point\" transform=\"translate(510.5,533.89)\" d=\"M3,0A3,3 0 1,1 0,-3A3,3 0 0,1 3,0Z\" style=\"opacity: 1; stroke-width: 0px; fill: rgb(163, 165, 0); fill-opacity: 1;\"/><path class=\"point\" transform=\"translate(662.4,470.41)\" d=\"M3,0A3,3 0 1,1 0,-3A3,3 0 0,1 3,0Z\" style=\"opacity: 1; stroke-width: 0px; fill: rgb(163, 165, 0); fill-opacity: 1;\"/><path class=\"point\" transform=\"translate(814.3,418.25)\" d=\"M3,0A3,3 0 1,1 0,-3A3,3 0 0,1 3,0Z\" style=\"opacity: 1; stroke-width: 0px; fill: rgb(163, 165, 0); fill-opacity: 1;\"/><path class=\"point\" transform=\"translate(966.2,474.84)\" d=\"M3,0A3,3 0 1,1 0,-3A3,3 0 0,1 3,0Z\" style=\"opacity: 1; stroke-width: 0px; fill: rgb(163, 165, 0); fill-opacity: 1;\"/></g><g class=\"text\"/></g><g class=\"trace scatter traceacae22\" style=\"stroke-miterlimit: 2; opacity: 1;\"><g class=\"fills\"/><g class=\"errorbars\"/><g class=\"lines\"><path class=\"js-line\" d=\"M54.8,569.81L206.7,498.95L358.6,379.38L510.5,36.41L662.4,294.25L814.3,353.3L966.2,260.3\" style=\"vector-effect: none; fill: none; stroke: rgb(0, 191, 125); stroke-opacity: 1; stroke-dasharray: 9px, 9px; stroke-width: 2.5px; opacity: 1;\"/></g><g class=\"points\"><path class=\"point\" transform=\"translate(54.8,569.81)\" d=\"M3,0A3,3 0 1,1 0,-3A3,3 0 0,1 3,0Z\" style=\"opacity: 1; stroke-width: 0px; fill: rgb(0, 191, 125); fill-opacity: 1;\"/><path class=\"point\" transform=\"translate(206.7,498.95)\" d=\"M3,0A3,3 0 1,1 0,-3A3,3 0 0,1 3,0Z\" style=\"opacity: 1; stroke-width: 0px; fill: rgb(0, 191, 125); fill-opacity: 1;\"/><path class=\"point\" transform=\"translate(358.6,379.38)\" d=\"M3,0A3,3 0 1,1 0,-3A3,3 0 0,1 3,0Z\" style=\"opacity: 1; stroke-width: 0px; fill: rgb(0, 191, 125); fill-opacity: 1;\"/><path class=\"point\" transform=\"translate(510.5,36.41)\" d=\"M3,0A3,3 0 1,1 0,-3A3,3 0 0,1 3,0Z\" style=\"opacity: 1; stroke-width: 0px; fill: rgb(0, 191, 125); fill-opacity: 1;\"/><path class=\"point\" transform=\"translate(662.4,294.25)\" d=\"M3,0A3,3 0 1,1 0,-3A3,3 0 0,1 3,0Z\" style=\"opacity: 1; stroke-width: 0px; fill: rgb(0, 191, 125); fill-opacity: 1;\"/><path class=\"point\" transform=\"translate(814.3,353.3)\" d=\"M3,0A3,3 0 1,1 0,-3A3,3 0 0,1 3,0Z\" style=\"opacity: 1; stroke-width: 0px; fill: rgb(0, 191, 125); fill-opacity: 1;\"/><path class=\"point\" transform=\"translate(966.2,260.3)\" d=\"M3,0A3,3 0 1,1 0,-3A3,3 0 0,1 3,0Z\" style=\"opacity: 1; stroke-width: 0px; fill: rgb(0, 191, 125); fill-opacity: 1;\"/></g><g class=\"text\"/></g><g class=\"trace scatter trace5e1d21\" style=\"stroke-miterlimit: 2; opacity: 1;\"><g class=\"fills\"/><g class=\"errorbars\"/><g class=\"lines\"><path class=\"js-line\" d=\"M54.8,585.06L206.7,570.79L358.6,550.13L510.5,454.17L662.4,507.81L814.3,522.57L966.2,532.41\" style=\"vector-effect: none; fill: none; stroke: rgb(0, 176, 246); stroke-opacity: 1; stroke-width: 2.5px; opacity: 1;\"/></g><g class=\"points\"><path class=\"point\" transform=\"translate(54.8,585.06)\" d=\"M3,0A3,3 0 1,1 0,-3A3,3 0 0,1 3,0Z\" style=\"opacity: 1; stroke-width: 0px; fill: rgb(0, 176, 246); fill-opacity: 1;\"/><path class=\"point\" transform=\"translate(206.7,570.79)\" d=\"M3,0A3,3 0 1,1 0,-3A3,3 0 0,1 3,0Z\" style=\"opacity: 1; stroke-width: 0px; fill: rgb(0, 176, 246); fill-opacity: 1;\"/><path class=\"point\" transform=\"translate(358.6,550.13)\" d=\"M3,0A3,3 0 1,1 0,-3A3,3 0 0,1 3,0Z\" style=\"opacity: 1; stroke-width: 0px; fill: rgb(0, 176, 246); fill-opacity: 1;\"/><path class=\"point\" transform=\"translate(510.5,454.17)\" d=\"M3,0A3,3 0 1,1 0,-3A3,3 0 0,1 3,0Z\" style=\"opacity: 1; stroke-width: 0px; fill: rgb(0, 176, 246); fill-opacity: 1;\"/><path class=\"point\" transform=\"translate(662.4,507.81)\" d=\"M3,0A3,3 0 1,1 0,-3A3,3 0 0,1 3,0Z\" style=\"opacity: 1; stroke-width: 0px; fill: rgb(0, 176, 246); fill-opacity: 1;\"/><path class=\"point\" transform=\"translate(814.3,522.57)\" d=\"M3,0A3,3 0 1,1 0,-3A3,3 0 0,1 3,0Z\" style=\"opacity: 1; stroke-width: 0px; fill: rgb(0, 176, 246); fill-opacity: 1;\"/><path class=\"point\" transform=\"translate(966.2,532.41)\" d=\"M3,0A3,3 0 1,1 0,-3A3,3 0 0,1 3,0Z\" style=\"opacity: 1; stroke-width: 0px; fill: rgb(0, 176, 246); fill-opacity: 1;\"/></g><g class=\"text\"/></g><g class=\"trace scatter trace13c1ed\" style=\"stroke-miterlimit: 2; opacity: 1;\"><g class=\"fills\"/><g class=\"errorbars\"/><g class=\"lines\"><path class=\"js-line\" d=\"M54.8,562.43L206.7,509.29L358.6,393.16L510.5,63.48L662.4,238.65L814.3,234.71L966.2,195.35\" style=\"vector-effect: none; fill: none; stroke: rgb(231, 107, 243); stroke-opacity: 1; stroke-dasharray: 3px, 3px; stroke-width: 2.5px; opacity: 1;\"/></g><g class=\"points\"><path class=\"point\" transform=\"translate(54.8,562.43)\" d=\"M3,0A3,3 0 1,1 0,-3A3,3 0 0,1 3,0Z\" style=\"opacity: 1; stroke-width: 0px; fill: rgb(231, 107, 243); fill-opacity: 1;\"/><path class=\"point\" transform=\"translate(206.7,509.29)\" d=\"M3,0A3,3 0 1,1 0,-3A3,3 0 0,1 3,0Z\" style=\"opacity: 1; stroke-width: 0px; fill: rgb(231, 107, 243); fill-opacity: 1;\"/><path class=\"point\" transform=\"translate(358.6,393.16)\" d=\"M3,0A3,3 0 1,1 0,-3A3,3 0 0,1 3,0Z\" style=\"opacity: 1; stroke-width: 0px; fill: rgb(231, 107, 243); fill-opacity: 1;\"/><path class=\"point\" transform=\"translate(510.5,63.48)\" d=\"M3,0A3,3 0 1,1 0,-3A3,3 0 0,1 3,0Z\" style=\"opacity: 1; stroke-width: 0px; fill: rgb(231, 107, 243); fill-opacity: 1;\"/><path class=\"point\" transform=\"translate(662.4,238.65)\" d=\"M3,0A3,3 0 1,1 0,-3A3,3 0 0,1 3,0Z\" style=\"opacity: 1; stroke-width: 0px; fill: rgb(231, 107, 243); fill-opacity: 1;\"/><path class=\"point\" transform=\"translate(814.3,234.71)\" d=\"M3,0A3,3 0 1,1 0,-3A3,3 0 0,1 3,0Z\" style=\"opacity: 1; stroke-width: 0px; fill: rgb(231, 107, 243); fill-opacity: 1;\"/><path class=\"point\" transform=\"translate(966.2,195.35)\" d=\"M3,0A3,3 0 1,1 0,-3A3,3 0 0,1 3,0Z\" style=\"opacity: 1; stroke-width: 0px; fill: rgb(231, 107, 243); fill-opacity: 1;\"/></g><g class=\"text\"/></g><g class=\"trace scatter trace47552b\" style=\"stroke-miterlimit: 2; opacity: 1;\"><g class=\"fills\"/><g class=\"errorbars\"/><g class=\"lines\"><path class=\"js-line\" d=\"M54.8,585.56L206.7,571.29L358.6,552.1L510.5,467.95L662.4,511.75L814.3,525.03L966.2,533.4\" style=\"vector-effect: none; fill: none; stroke: rgb(248, 118, 109); stroke-opacity: 1; stroke-dasharray: 9px, 3px, 3px, 3px; stroke-width: 2.5px; opacity: 1;\"/></g><g class=\"points\"><path class=\"point\" transform=\"translate(54.8,585.56)\" d=\"M3,0A3,3 0 1,1 0,-3A3,3 0 0,1 3,0Z\" style=\"opacity: 1; stroke-width: 0px; fill: rgb(248, 118, 109); fill-opacity: 1;\"/><path class=\"point\" transform=\"translate(206.7,571.29)\" d=\"M3,0A3,3 0 1,1 0,-3A3,3 0 0,1 3,0Z\" style=\"opacity: 1; stroke-width: 0px; fill: rgb(248, 118, 109); fill-opacity: 1;\"/><path class=\"point\" transform=\"translate(358.6,552.1)\" d=\"M3,0A3,3 0 1,1 0,-3A3,3 0 0,1 3,0Z\" style=\"opacity: 1; stroke-width: 0px; fill: rgb(248, 118, 109); fill-opacity: 1;\"/><path class=\"point\" transform=\"translate(510.5,467.95)\" d=\"M3,0A3,3 0 1,1 0,-3A3,3 0 0,1 3,0Z\" style=\"opacity: 1; stroke-width: 0px; fill: rgb(248, 118, 109); fill-opacity: 1;\"/><path class=\"point\" transform=\"translate(662.4,511.75)\" d=\"M3,0A3,3 0 1,1 0,-3A3,3 0 0,1 3,0Z\" style=\"opacity: 1; stroke-width: 0px; fill: rgb(248, 118, 109); fill-opacity: 1;\"/><path class=\"point\" transform=\"translate(814.3,525.03)\" d=\"M3,0A3,3 0 1,1 0,-3A3,3 0 0,1 3,0Z\" style=\"opacity: 1; stroke-width: 0px; fill: rgb(248, 118, 109); fill-opacity: 1;\"/><path class=\"point\" transform=\"translate(966.2,533.4)\" d=\"M3,0A3,3 0 1,1 0,-3A3,3 0 0,1 3,0Z\" style=\"opacity: 1; stroke-width: 0px; fill: rgb(248, 118, 109); fill-opacity: 1;\"/></g><g class=\"text\"/></g></g></g><g class=\"overplot\"/><path class=\"xlines-above crisp\" d=\"\" style=\"fill: none; stroke-width: 1px; stroke: rgb(0, 0, 0); stroke-opacity: 0;\"/><path class=\"ylines-above crisp\" d=\"\" style=\"fill: none; stroke-width: 1px; stroke: rgb(0, 0, 0); stroke-opacity: 0;\"/><g class=\"overlines-above\"/><g class=\"xaxislayer-above\"><path class=\"xtick ticks crisp\" d=\"M0,721v5\" transform=\"translate(134.8,0)\" style=\"stroke: rgb(51, 51, 51); stroke-opacity: 1; stroke-width: 1px;\"/><path class=\"xtick ticks crisp\" d=\"M0,721v5\" transform=\"translate(286.7,0)\" style=\"stroke: rgb(51, 51, 51); stroke-opacity: 1; stroke-width: 1px;\"/><path class=\"xtick ticks crisp\" d=\"M0,721v5\" transform=\"translate(438.6,0)\" style=\"stroke: rgb(51, 51, 51); stroke-opacity: 1; stroke-width: 1px;\"/><path class=\"xtick ticks crisp\" d=\"M0,721v5\" transform=\"translate(590.5,0)\" style=\"stroke: rgb(51, 51, 51); stroke-opacity: 1; stroke-width: 1px;\"/><path class=\"xtick ticks crisp\" d=\"M0,721v5\" transform=\"translate(742.4,0)\" style=\"stroke: rgb(51, 51, 51); stroke-opacity: 1; stroke-width: 1px;\"/><path class=\"xtick ticks crisp\" d=\"M0,721v5\" transform=\"translate(894.3,0)\" style=\"stroke: rgb(51, 51, 51); stroke-opacity: 1; stroke-width: 1px;\"/><path class=\"xtick ticks crisp\" d=\"M0,721v5\" transform=\"translate(1046.2,0)\" style=\"stroke: rgb(51, 51, 51); stroke-opacity: 1; stroke-width: 1px;\"/><g class=\"xtick\"><text text-anchor=\"middle\" x=\"0\" y=\"740.4\" transform=\"translate(134.8,0)\" style=\"font-family: 'Open Sans', verdana, arial, sans-serif; font-size: 12px; fill: rgb(51, 51, 51); fill-opacity: 1; white-space: pre; opacity: 1;\">2016</text></g><g class=\"xtick\"><text text-anchor=\"middle\" x=\"0\" y=\"740.4\" style=\"font-family: 'Open Sans', verdana, arial, sans-serif; font-size: 12px; fill: rgb(51, 51, 51); fill-opacity: 1; white-space: pre; opacity: 1;\" transform=\"translate(286.7,0)\">2017</text></g><g class=\"xtick\"><text text-anchor=\"middle\" x=\"0\" y=\"740.4\" style=\"font-family: 'Open Sans', verdana, arial, sans-serif; font-size: 12px; fill: rgb(51, 51, 51); fill-opacity: 1; white-space: pre; opacity: 1;\" transform=\"translate(438.6,0)\">2018</text></g><g class=\"xtick\"><text text-anchor=\"middle\" x=\"0\" y=\"740.4\" style=\"font-family: 'Open Sans', verdana, arial, sans-serif; font-size: 12px; fill: rgb(51, 51, 51); fill-opacity: 1; white-space: pre; opacity: 1;\" transform=\"translate(590.5,0)\">2019</text></g><g class=\"xtick\"><text text-anchor=\"middle\" x=\"0\" y=\"740.4\" style=\"font-family: 'Open Sans', verdana, arial, sans-serif; font-size: 12px; fill: rgb(51, 51, 51); fill-opacity: 1; white-space: pre; opacity: 1;\" transform=\"translate(742.4,0)\">2020</text></g><g class=\"xtick\"><text text-anchor=\"middle\" x=\"0\" y=\"740.4\" style=\"font-family: 'Open Sans', verdana, arial, sans-serif; font-size: 12px; fill: rgb(51, 51, 51); fill-opacity: 1; white-space: pre; opacity: 1;\" transform=\"translate(894.3,0)\">2021</text></g><g class=\"xtick\"><text text-anchor=\"middle\" x=\"0\" y=\"740.4\" style=\"font-family: 'Open Sans', verdana, arial, sans-serif; font-size: 12px; fill: rgb(51, 51, 51); fill-opacity: 1; white-space: pre; opacity: 1;\" transform=\"translate(1046.2,0)\">2022</text></g></g><g class=\"yaxislayer-above\"><path class=\"ytick ticks crisp\" d=\"M79,0h-5\" transform=\"translate(0,690.48)\" style=\"stroke: rgb(51, 51, 51); stroke-opacity: 1; stroke-width: 1px;\"/><path class=\"ytick ticks crisp\" d=\"M79,0h-5\" transform=\"translate(0,592.06)\" style=\"stroke: rgb(51, 51, 51); stroke-opacity: 1; stroke-width: 1px;\"/><path class=\"ytick ticks crisp\" d=\"M79,0h-5\" transform=\"translate(0,493.65)\" style=\"stroke: rgb(51, 51, 51); stroke-opacity: 1; stroke-width: 1px;\"/><path class=\"ytick ticks crisp\" d=\"M79,0h-5\" transform=\"translate(0,395.24)\" style=\"stroke: rgb(51, 51, 51); stroke-opacity: 1; stroke-width: 1px;\"/><path class=\"ytick ticks crisp\" d=\"M79,0h-5\" transform=\"translate(0,296.83000000000004)\" style=\"stroke: rgb(51, 51, 51); stroke-opacity: 1; stroke-width: 1px;\"/><path class=\"ytick ticks crisp\" d=\"M79,0h-5\" transform=\"translate(0,198.41)\" style=\"stroke: rgb(51, 51, 51); stroke-opacity: 1; stroke-width: 1px;\"/><path class=\"ytick ticks crisp\" d=\"M79,0h-5\" transform=\"translate(0,100)\" style=\"stroke: rgb(51, 51, 51); stroke-opacity: 1; stroke-width: 1px;\"/><g class=\"ytick\"><text text-anchor=\"end\" x=\"71.6\" y=\"4.199999999999999\" transform=\"translate(0,690.48)\" style=\"font-family: 'Open Sans', verdana, arial, sans-serif; font-size: 12px; fill: rgb(51, 51, 51); fill-opacity: 1; white-space: pre; opacity: 1;\">0</text></g><g class=\"ytick\"><text text-anchor=\"end\" x=\"71.6\" y=\"4.199999999999999\" style=\"font-family: 'Open Sans', verdana, arial, sans-serif; font-size: 12px; fill: rgb(51, 51, 51); fill-opacity: 1; white-space: pre; opacity: 1;\" transform=\"translate(0,592.06)\">200</text></g><g class=\"ytick\"><text text-anchor=\"end\" x=\"71.6\" y=\"4.199999999999999\" style=\"font-family: 'Open Sans', verdana, arial, sans-serif; font-size: 12px; fill: rgb(51, 51, 51); fill-opacity: 1; white-space: pre; opacity: 1;\" transform=\"translate(0,493.65)\">400</text></g><g class=\"ytick\"><text text-anchor=\"end\" x=\"71.6\" y=\"4.199999999999999\" style=\"font-family: 'Open Sans', verdana, arial, sans-serif; font-size: 12px; fill: rgb(51, 51, 51); fill-opacity: 1; white-space: pre; opacity: 1;\" transform=\"translate(0,395.24)\">600</text></g><g class=\"ytick\"><text text-anchor=\"end\" x=\"71.6\" y=\"4.199999999999999\" style=\"font-family: 'Open Sans', verdana, arial, sans-serif; font-size: 12px; fill: rgb(51, 51, 51); fill-opacity: 1; white-space: pre; opacity: 1;\" transform=\"translate(0,296.83000000000004)\">800</text></g><g class=\"ytick\"><text text-anchor=\"end\" x=\"71.6\" y=\"4.199999999999999\" style=\"font-family: 'Open Sans', verdana, arial, sans-serif; font-size: 12px; fill: rgb(51, 51, 51); fill-opacity: 1; white-space: pre; opacity: 1;\" transform=\"translate(0,198.41)\">1000</text></g><g class=\"ytick\"><text text-anchor=\"end\" x=\"71.6\" y=\"4.199999999999999\" style=\"font-family: 'Open Sans', verdana, arial, sans-serif; font-size: 12px; fill: rgb(51, 51, 51); fill-opacity: 1; white-space: pre; opacity: 1;\" transform=\"translate(0,100)\">1200</text></g></g><g class=\"overaxes-above\"/></g></g><g class=\"polarlayer\"/><g class=\"smithlayer\"/><g class=\"ternarylayer\"/><g class=\"geolayer\"/><g class=\"funnelarealayer\"/><g class=\"pielayer\"/><g class=\"iciclelayer\"/><g class=\"treemaplayer\"/><g class=\"sunburstlayer\"/><g class=\"glimages\"/><defs id=\"topdefs-a9a851\"><g class=\"clips\"/><clipPath id=\"legenda9a851\"><rect width=\"167\" height=\"124\" x=\"0\" y=\"0\"/></clipPath></defs><g class=\"layer-above\"><g class=\"imagelayer\"/><g class=\"shapelayer\"/></g><g class=\"infolayer\"><g class=\"legend\" pointer-events=\"all\" transform=\"translate(1121.42,100)\"><rect class=\"bg\" shape-rendering=\"crispEdges\" style=\"stroke: rgb(68, 68, 68); stroke-opacity: 1; fill: rgb(255, 255, 255); fill-opacity: 1; stroke-width: 0px;\" width=\"167\" height=\"124\" x=\"0\" y=\"0\"/><g class=\"scrollbox\" transform=\"\" clip-path=\"url(#legenda9a851)\"><g class=\"groups\"><g class=\"traces\" transform=\"translate(0,14.5)\" style=\"opacity: 1;\"><text class=\"legendtext\" text-anchor=\"start\" x=\"40\" y=\"4.680000000000001\" style=\"font-family: 'Open Sans', verdana, arial, sans-serif; font-size: 12px; fill: rgb(51, 51, 51); fill-opacity: 1; white-space: pre;\">Major</text><g class=\"layers\" style=\"opacity: 1;\"><g class=\"legendfill\"/><g class=\"legendlines\"><path class=\"js-line\" d=\"M5,0h30\" style=\"fill: none; stroke: rgb(248, 118, 109); stroke-opacity: 1; stroke-width: 2.5px;\"/></g><g class=\"legendsymbols\"><g class=\"legendpoints\"><path class=\"scatterpts\" transform=\"translate(20,0)\" d=\"M3,0A3,3 0 1,1 0,-3A3,3 0 0,1 3,0Z\" style=\"opacity: 1; stroke-width: 0px; fill: rgb(248, 118, 109); fill-opacity: 1;\"/></g></g></g><rect class=\"legendtoggle\" x=\"0\" y=\"-9.5\" width=\"161.828125\" height=\"19\" style=\"fill: rgb(0, 0, 0); fill-opacity: 0;\"/></g><g class=\"traces\" transform=\"translate(0,33.5)\" style=\"opacity: 1;\"><text class=\"legendtext\" text-anchor=\"start\" x=\"40\" y=\"4.680000000000001\" style=\"font-family: 'Open Sans', verdana, arial, sans-serif; font-size: 12px; fill: rgb(51, 51, 51); fill-opacity: 1; white-space: pre;\">Minor</text><g class=\"layers\" style=\"opacity: 1;\"><g class=\"legendfill\"/><g class=\"legendlines\"><path class=\"js-line\" d=\"M5,0h30\" style=\"fill: none; stroke: rgb(163, 165, 0); stroke-opacity: 1; stroke-dasharray: 3px, 3px; stroke-width: 2.5px;\"/></g><g class=\"legendsymbols\"><g class=\"legendpoints\"><path class=\"scatterpts\" transform=\"translate(20,0)\" d=\"M3,0A3,3 0 1,1 0,-3A3,3 0 0,1 3,0Z\" style=\"opacity: 1; stroke-width: 0px; fill: rgb(163, 165, 0); fill-opacity: 1;\"/></g></g></g><rect class=\"legendtoggle\" x=\"0\" y=\"-9.5\" width=\"161.828125\" height=\"19\" style=\"fill: rgb(0, 0, 0); fill-opacity: 0;\"/></g><g class=\"traces\" transform=\"translate(0,52.5)\" style=\"opacity: 1;\"><text class=\"legendtext\" text-anchor=\"start\" x=\"40\" y=\"4.680000000000001\" style=\"font-family: 'Open Sans', verdana, arial, sans-serif; font-size: 12px; fill: rgb(51, 51, 51); fill-opacity: 1; white-space: pre;\">Patch</text><g class=\"layers\" style=\"opacity: 1;\"><g class=\"legendfill\"/><g class=\"legendlines\"><path class=\"js-line\" d=\"M5,0h30\" style=\"fill: none; stroke: rgb(0, 191, 125); stroke-opacity: 1; stroke-dasharray: 9px, 9px; stroke-width: 2.5px;\"/></g><g class=\"legendsymbols\"><g class=\"legendpoints\"><path class=\"scatterpts\" transform=\"translate(20,0)\" d=\"M3,0A3,3 0 1,1 0,-3A3,3 0 0,1 3,0Z\" style=\"opacity: 1; stroke-width: 0px; fill: rgb(0, 191, 125); fill-opacity: 1;\"/></g></g></g><rect class=\"legendtoggle\" x=\"0\" y=\"-9.5\" width=\"161.828125\" height=\"19\" style=\"fill: rgb(0, 0, 0); fill-opacity: 0;\"/></g><g class=\"traces\" transform=\"translate(0,71.5)\" style=\"opacity: 1;\"><text class=\"legendtext\" text-anchor=\"start\" x=\"40\" y=\"4.680000000000001\" style=\"font-family: 'Open Sans', verdana, arial, sans-serif; font-size: 12px; fill: rgb(51, 51, 51); fill-opacity: 1; white-space: pre;\">Breaking</text><g class=\"layers\" style=\"opacity: 1;\"><g class=\"legendfill\"/><g class=\"legendlines\"><path class=\"js-line\" d=\"M5,0h30\" style=\"fill: none; stroke: rgb(0, 176, 246); stroke-opacity: 1; stroke-width: 2.5px;\"/></g><g class=\"legendsymbols\"><g class=\"legendpoints\"><path class=\"scatterpts\" transform=\"translate(20,0)\" d=\"M3,0A3,3 0 1,1 0,-3A3,3 0 0,1 3,0Z\" style=\"opacity: 1; stroke-width: 0px; fill: rgb(0, 176, 246); fill-opacity: 1;\"/></g></g></g><rect class=\"legendtoggle\" x=\"0\" y=\"-9.5\" width=\"161.828125\" height=\"19\" style=\"fill: rgb(0, 0, 0); fill-opacity: 0;\"/></g><g class=\"traces\" transform=\"translate(0,90.5)\" style=\"opacity: 1;\"><text class=\"legendtext\" text-anchor=\"start\" x=\"40\" y=\"4.680000000000001\" style=\"font-family: 'Open Sans', verdana, arial, sans-serif; font-size: 12px; fill: rgb(51, 51, 51); fill-opacity: 1; white-space: pre;\">Non-Breaking</text><g class=\"layers\" style=\"opacity: 1;\"><g class=\"legendfill\"/><g class=\"legendlines\"><path class=\"js-line\" d=\"M5,0h30\" style=\"fill: none; stroke: rgb(231, 107, 243); stroke-opacity: 1; stroke-dasharray: 3px, 3px; stroke-width: 2.5px;\"/></g><g class=\"legendsymbols\"><g class=\"legendpoints\"><path class=\"scatterpts\" transform=\"translate(20,0)\" d=\"M3,0A3,3 0 1,1 0,-3A3,3 0 0,1 3,0Z\" style=\"opacity: 1; stroke-width: 0px; fill: rgb(231, 107, 243); fill-opacity: 1;\"/></g></g></g><rect class=\"legendtoggle\" x=\"0\" y=\"-9.5\" width=\"161.828125\" height=\"19\" style=\"fill: rgb(0, 0, 0); fill-opacity: 0;\"/></g><g class=\"traces\" transform=\"translate(0,109.5)\" style=\"opacity: 1;\"><text class=\"legendtext\" text-anchor=\"start\" x=\"40\" y=\"4.680000000000001\" style=\"font-family: 'Open Sans', verdana, arial, sans-serif; font-size: 12px; fill: rgb(51, 51, 51); fill-opacity: 1; white-space: pre;\">Breaking-Non-Major</text><g class=\"layers\" style=\"opacity: 1;\"><g class=\"legendfill\"/><g class=\"legendlines\"><path class=\"js-line\" d=\"M5,0h30\" style=\"fill: none; stroke: rgb(248, 118, 109); stroke-opacity: 1; stroke-dasharray: 9px, 3px, 3px, 3px; stroke-width: 2.5px;\"/></g><g class=\"legendsymbols\"><g class=\"legendpoints\"><path class=\"scatterpts\" transform=\"translate(20,0)\" d=\"M3,0A3,3 0 1,1 0,-3A3,3 0 0,1 3,0Z\" style=\"opacity: 1; stroke-width: 0px; fill: rgb(248, 118, 109); fill-opacity: 1;\"/></g></g></g><rect class=\"legendtoggle\" x=\"0\" y=\"-9.5\" width=\"161.828125\" height=\"19\" style=\"fill: rgb(0, 0, 0); fill-opacity: 0;\"/></g></g></g><rect class=\"scrollbar\" rx=\"20\" ry=\"3\" width=\"0\" height=\"0\" style=\"fill: rgb(128, 139, 164); fill-opacity: 1;\" x=\"0\" y=\"0\"/></g><g class=\"g-gtitle\"><text class=\"gtitle\" x=\"650\" y=\"50\" text-anchor=\"middle\" dy=\"0em\" style=\"font-family: 'Open Sans', verdana, arial, sans-serif; font-size: 17px; fill: rgb(51, 51, 51); opacity: 1; font-weight: normal; white-space: pre;\">Evolution of Releases Over Time</text></g><g class=\"g-xtitle\"><text class=\"xtitle\" x=\"590.5\" y=\"767.20625\" text-anchor=\"middle\" style=\"font-family: 'Open Sans', verdana, arial, sans-serif; font-size: 14px; fill: rgb(51, 51, 51); opacity: 1; font-weight: normal; white-space: pre;\">Year</text></g><g class=\"g-ytitle\"><text class=\"ytitle\" transform=\"rotate(-90,16.778125000000003,410)\" x=\"16.778125000000003\" y=\"410\" text-anchor=\"middle\" style=\"font-family: 'Open Sans', verdana, arial, sans-serif; font-size: 14px; fill: rgb(51, 51, 51); opacity: 1; font-weight: normal; white-space: pre;\">Number of Releases</text></g></g></svg>"
     },
     "metadata": {},
     "output_type": "display_data"
    }
   ],
   "source": [
    "# Create a line chart to plot the number of releases over time\n",
    "fig = go.Figure()\n",
    "\n",
    "fig.add_trace(go.Scatter(x=df_pivot.index, y=df_pivot['major'], name='Major', line=dict(dash='solid'),line_width=2.5))\n",
    "fig.add_trace(go.Scatter(x=df_pivot.index, y=df_pivot['minor'], name='Minor', line=dict(dash='dot'), line_width=2.5))\n",
    "fig.add_trace(go.Scatter(x=df_pivot.index, y=df_pivot['patch'], name='Patch', line=dict(dash='dash'), line_width=2.5))\n",
    "fig.add_trace(go.Scatter(x=breaking_pivot.index, y=breaking_pivot['Breaking'], name='Breaking', line=dict(dash='solid'),line_width=2.5))\n",
    "fig.add_trace(go.Scatter(x=breaking_pivot.index, y=breaking_pivot['Non-Breaking'], name='Non-Breaking', line=dict(dash='dot'), line_width=2.5))\n",
    "fig.add_trace(go.Scatter(x=grouped_sum['commit_date'], y=grouped_sum['count'], name='Breaking-Non-Major', line=dict(dash='dashdot'), line_width=2.5))\n",
    "\n",
    "\n",
    "fig.update_layout(title='Evolution of Releases Over Time', width=1300, height=800, template='ggplot2', yaxis_range=[-60, 1200], xaxis_title='Year', yaxis_title='Number of Releases')\n",
    "fig.show(\"svg\")\n"
   ]
  },
  {
   "cell_type": "code",
   "execution_count": 46,
   "metadata": {},
   "outputs": [
    {
     "data": {
      "image/svg+xml": "<svg class=\"main-svg\" xmlns=\"http://www.w3.org/2000/svg\" xmlns:xlink=\"http://www.w3.org/1999/xlink\" width=\"900\" height=\"600\" style=\"\" viewBox=\"0 0 900 600\"><rect x=\"0\" y=\"0\" width=\"900\" height=\"600\" style=\"fill: rgb(255, 255, 255); fill-opacity: 1;\"/><defs id=\"defs-f6d2ee\"><g class=\"clips\"><clipPath id=\"clipf6d2eexyplot\" class=\"plotclip\"><rect width=\"667\" height=\"420\"/></clipPath><clipPath class=\"axesclip\" id=\"clipf6d2eex\"><rect x=\"80\" y=\"0\" width=\"667\" height=\"600\"/></clipPath><clipPath class=\"axesclip\" id=\"clipf6d2eey\"><rect x=\"0\" y=\"100\" width=\"900\" height=\"420\"/></clipPath><clipPath class=\"axesclip\" id=\"clipf6d2eexy\"><rect x=\"80\" y=\"100\" width=\"667\" height=\"420\"/></clipPath></g><g class=\"gradients\"/><g class=\"patterns\"/></defs><g class=\"bglayer\"><rect class=\"bg\" x=\"80\" y=\"100\" width=\"667\" height=\"420\" style=\"fill: rgb(237, 237, 237); fill-opacity: 1; stroke-width: 0;\"/></g><g class=\"layer-below\"><g class=\"imagelayer\"/><g class=\"shapelayer\"/></g><g class=\"cartesianlayer\"><g class=\"subplot xy\"><g class=\"layer-subplot\"><g class=\"shapelayer\"/><g class=\"imagelayer\"/></g><g class=\"minor-gridlayer\"><g class=\"x\"/><g class=\"y\"/></g><g class=\"gridlayer\"><g class=\"x\"><path class=\"xgrid crisp\" transform=\"translate(117.1,0)\" d=\"M0,100v420\" style=\"stroke: rgb(255, 255, 255); stroke-opacity: 1; stroke-width: 1px;\"/><path class=\"xgrid crisp\" transform=\"translate(215.9,0)\" d=\"M0,100v420\" style=\"stroke: rgb(255, 255, 255); stroke-opacity: 1; stroke-width: 1px;\"/><path class=\"xgrid crisp\" transform=\"translate(314.7,0)\" d=\"M0,100v420\" style=\"stroke: rgb(255, 255, 255); stroke-opacity: 1; stroke-width: 1px;\"/><path class=\"xgrid crisp\" transform=\"translate(413.5,0)\" d=\"M0,100v420\" style=\"stroke: rgb(255, 255, 255); stroke-opacity: 1; stroke-width: 1px;\"/><path class=\"xgrid crisp\" transform=\"translate(512.3,0)\" d=\"M0,100v420\" style=\"stroke: rgb(255, 255, 255); stroke-opacity: 1; stroke-width: 1px;\"/><path class=\"xgrid crisp\" transform=\"translate(611.1,0)\" d=\"M0,100v420\" style=\"stroke: rgb(255, 255, 255); stroke-opacity: 1; stroke-width: 1px;\"/><path class=\"xgrid crisp\" transform=\"translate(709.9,0)\" d=\"M0,100v420\" style=\"stroke: rgb(255, 255, 255); stroke-opacity: 1; stroke-width: 1px;\"/></g><g class=\"y\"><path class=\"ygrid crisp\" transform=\"translate(0,433.33)\" d=\"M80,0h667\" style=\"stroke: rgb(255, 255, 255); stroke-opacity: 1; stroke-width: 1px;\"/><path class=\"ygrid crisp\" transform=\"translate(0,366.67)\" d=\"M80,0h667\" style=\"stroke: rgb(255, 255, 255); stroke-opacity: 1; stroke-width: 1px;\"/><path class=\"ygrid crisp\" transform=\"translate(0,300)\" d=\"M80,0h667\" style=\"stroke: rgb(255, 255, 255); stroke-opacity: 1; stroke-width: 1px;\"/><path class=\"ygrid crisp\" transform=\"translate(0,233.33)\" d=\"M80,0h667\" style=\"stroke: rgb(255, 255, 255); stroke-opacity: 1; stroke-width: 1px;\"/><path class=\"ygrid crisp\" transform=\"translate(0,166.67000000000002)\" d=\"M80,0h667\" style=\"stroke: rgb(255, 255, 255); stroke-opacity: 1; stroke-width: 1px;\"/></g></g><g class=\"zerolinelayer\"><path class=\"yzl zl crisp\" transform=\"translate(0,500)\" d=\"M80,0h667\" style=\"stroke: rgb(255, 255, 255); stroke-opacity: 1; stroke-width: 1px;\"/></g><path class=\"xlines-below\"/><path class=\"ylines-below\"/><g class=\"overlines-below\"/><g class=\"xaxislayer-below\"/><g class=\"yaxislayer-below\"/><g class=\"overaxes-below\"/><g class=\"plot\" transform=\"translate(80,100)\" clip-path=\"url(#clipf6d2eexyplot)\"><g class=\"scatterlayer mlayer\"><g class=\"trace scatter trace529957\" style=\"stroke-miterlimit: 2; opacity: 1;\"><g class=\"fills\"/><g class=\"errorbars\"/><g class=\"lines\"><path class=\"js-line\" d=\"M37.1,396.33L135.9,386.67L234.7,372.67L333.5,307.67L432.3,344L531.1,354L629.9,360.67\" style=\"vector-effect: none; fill: none; stroke: rgb(248, 118, 109); stroke-opacity: 1; stroke-width: 2.5px; opacity: 1;\"/></g><g class=\"points\"><path class=\"point\" transform=\"translate(37.1,396.33)\" d=\"M3,0A3,3 0 1,1 0,-3A3,3 0 0,1 3,0Z\" style=\"opacity: 1; stroke-width: 0px; fill: rgb(248, 118, 109); fill-opacity: 1;\"/><path class=\"point\" transform=\"translate(135.9,386.67)\" d=\"M3,0A3,3 0 1,1 0,-3A3,3 0 0,1 3,0Z\" style=\"opacity: 1; stroke-width: 0px; fill: rgb(248, 118, 109); fill-opacity: 1;\"/><path class=\"point\" transform=\"translate(234.7,372.67)\" d=\"M3,0A3,3 0 1,1 0,-3A3,3 0 0,1 3,0Z\" style=\"opacity: 1; stroke-width: 0px; fill: rgb(248, 118, 109); fill-opacity: 1;\"/><path class=\"point\" transform=\"translate(333.5,307.67)\" d=\"M3,0A3,3 0 1,1 0,-3A3,3 0 0,1 3,0Z\" style=\"opacity: 1; stroke-width: 0px; fill: rgb(248, 118, 109); fill-opacity: 1;\"/><path class=\"point\" transform=\"translate(432.3,344)\" d=\"M3,0A3,3 0 1,1 0,-3A3,3 0 0,1 3,0Z\" style=\"opacity: 1; stroke-width: 0px; fill: rgb(248, 118, 109); fill-opacity: 1;\"/><path class=\"point\" transform=\"translate(531.1,354)\" d=\"M3,0A3,3 0 1,1 0,-3A3,3 0 0,1 3,0Z\" style=\"opacity: 1; stroke-width: 0px; fill: rgb(248, 118, 109); fill-opacity: 1;\"/><path class=\"point\" transform=\"translate(629.9,360.67)\" d=\"M3,0A3,3 0 1,1 0,-3A3,3 0 0,1 3,0Z\" style=\"opacity: 1; stroke-width: 0px; fill: rgb(248, 118, 109); fill-opacity: 1;\"/></g><g class=\"text\"/></g><g class=\"trace scatter trace79c2ee\" style=\"stroke-miterlimit: 2; opacity: 1;\"><g class=\"fills\"/><g class=\"errorbars\"/><g class=\"lines\"><path class=\"js-line\" d=\"M37.1,381L135.9,345L234.7,266.33L333.5,43L432.3,161.67L531.1,159L629.9,132.33\" style=\"vector-effect: none; fill: none; stroke: rgb(163, 165, 0); stroke-opacity: 1; stroke-dasharray: 3px, 3px; stroke-width: 2.5px; opacity: 1;\"/></g><g class=\"points\"><path class=\"point\" transform=\"translate(37.1,381)\" d=\"M3,0A3,3 0 1,1 0,-3A3,3 0 0,1 3,0Z\" style=\"opacity: 1; stroke-width: 0px; fill: rgb(163, 165, 0); fill-opacity: 1;\"/><path class=\"point\" transform=\"translate(135.9,345)\" d=\"M3,0A3,3 0 1,1 0,-3A3,3 0 0,1 3,0Z\" style=\"opacity: 1; stroke-width: 0px; fill: rgb(163, 165, 0); fill-opacity: 1;\"/><path class=\"point\" transform=\"translate(234.7,266.33)\" d=\"M3,0A3,3 0 1,1 0,-3A3,3 0 0,1 3,0Z\" style=\"opacity: 1; stroke-width: 0px; fill: rgb(163, 165, 0); fill-opacity: 1;\"/><path class=\"point\" transform=\"translate(333.5,43)\" d=\"M3,0A3,3 0 1,1 0,-3A3,3 0 0,1 3,0Z\" style=\"opacity: 1; stroke-width: 0px; fill: rgb(163, 165, 0); fill-opacity: 1;\"/><path class=\"point\" transform=\"translate(432.3,161.67)\" d=\"M3,0A3,3 0 1,1 0,-3A3,3 0 0,1 3,0Z\" style=\"opacity: 1; stroke-width: 0px; fill: rgb(163, 165, 0); fill-opacity: 1;\"/><path class=\"point\" transform=\"translate(531.1,159)\" d=\"M3,0A3,3 0 1,1 0,-3A3,3 0 0,1 3,0Z\" style=\"opacity: 1; stroke-width: 0px; fill: rgb(163, 165, 0); fill-opacity: 1;\"/><path class=\"point\" transform=\"translate(629.9,132.33)\" d=\"M3,0A3,3 0 1,1 0,-3A3,3 0 0,1 3,0Z\" style=\"opacity: 1; stroke-width: 0px; fill: rgb(163, 165, 0); fill-opacity: 1;\"/></g><g class=\"text\"/></g></g></g><g class=\"overplot\"/><path class=\"xlines-above crisp\" d=\"\" style=\"fill: none; stroke-width: 1px; stroke: rgb(0, 0, 0); stroke-opacity: 0;\"/><path class=\"ylines-above crisp\" d=\"\" style=\"fill: none; stroke-width: 1px; stroke: rgb(0, 0, 0); stroke-opacity: 0;\"/><g class=\"overlines-above\"/><g class=\"xaxislayer-above\"><path class=\"xtick ticks crisp\" d=\"M0,521v5\" transform=\"translate(117.1,0)\" style=\"stroke: rgb(51, 51, 51); stroke-opacity: 1; stroke-width: 1px;\"/><path class=\"xtick ticks crisp\" d=\"M0,521v5\" transform=\"translate(215.9,0)\" style=\"stroke: rgb(51, 51, 51); stroke-opacity: 1; stroke-width: 1px;\"/><path class=\"xtick ticks crisp\" d=\"M0,521v5\" transform=\"translate(314.7,0)\" style=\"stroke: rgb(51, 51, 51); stroke-opacity: 1; stroke-width: 1px;\"/><path class=\"xtick ticks crisp\" d=\"M0,521v5\" transform=\"translate(413.5,0)\" style=\"stroke: rgb(51, 51, 51); stroke-opacity: 1; stroke-width: 1px;\"/><path class=\"xtick ticks crisp\" d=\"M0,521v5\" transform=\"translate(512.3,0)\" style=\"stroke: rgb(51, 51, 51); stroke-opacity: 1; stroke-width: 1px;\"/><path class=\"xtick ticks crisp\" d=\"M0,521v5\" transform=\"translate(611.1,0)\" style=\"stroke: rgb(51, 51, 51); stroke-opacity: 1; stroke-width: 1px;\"/><path class=\"xtick ticks crisp\" d=\"M0,521v5\" transform=\"translate(709.9,0)\" style=\"stroke: rgb(51, 51, 51); stroke-opacity: 1; stroke-width: 1px;\"/><g class=\"xtick\"><text text-anchor=\"middle\" x=\"0\" y=\"540.4\" transform=\"translate(117.1,0)\" style=\"font-family: 'Open Sans', verdana, arial, sans-serif; font-size: 12px; fill: rgb(51, 51, 51); fill-opacity: 1; white-space: pre; opacity: 1;\">2016</text></g><g class=\"xtick\"><text text-anchor=\"middle\" x=\"0\" y=\"540.4\" style=\"font-family: 'Open Sans', verdana, arial, sans-serif; font-size: 12px; fill: rgb(51, 51, 51); fill-opacity: 1; white-space: pre; opacity: 1;\" transform=\"translate(215.9,0)\">2017</text></g><g class=\"xtick\"><text text-anchor=\"middle\" x=\"0\" y=\"540.4\" style=\"font-family: 'Open Sans', verdana, arial, sans-serif; font-size: 12px; fill: rgb(51, 51, 51); fill-opacity: 1; white-space: pre; opacity: 1;\" transform=\"translate(314.7,0)\">2018</text></g><g class=\"xtick\"><text text-anchor=\"middle\" x=\"0\" y=\"540.4\" style=\"font-family: 'Open Sans', verdana, arial, sans-serif; font-size: 12px; fill: rgb(51, 51, 51); fill-opacity: 1; white-space: pre; opacity: 1;\" transform=\"translate(413.5,0)\">2019</text></g><g class=\"xtick\"><text text-anchor=\"middle\" x=\"0\" y=\"540.4\" style=\"font-family: 'Open Sans', verdana, arial, sans-serif; font-size: 12px; fill: rgb(51, 51, 51); fill-opacity: 1; white-space: pre; opacity: 1;\" transform=\"translate(512.3,0)\">2020</text></g><g class=\"xtick\"><text text-anchor=\"middle\" x=\"0\" y=\"540.4\" style=\"font-family: 'Open Sans', verdana, arial, sans-serif; font-size: 12px; fill: rgb(51, 51, 51); fill-opacity: 1; white-space: pre; opacity: 1;\" transform=\"translate(611.1,0)\">2021</text></g><g class=\"xtick\"><text text-anchor=\"middle\" x=\"0\" y=\"540.4\" style=\"font-family: 'Open Sans', verdana, arial, sans-serif; font-size: 12px; fill: rgb(51, 51, 51); fill-opacity: 1; white-space: pre; opacity: 1;\" transform=\"translate(709.9,0)\">2022</text></g></g><g class=\"yaxislayer-above\"><path class=\"ytick ticks crisp\" d=\"M79,0h-5\" transform=\"translate(0,500)\" style=\"stroke: rgb(51, 51, 51); stroke-opacity: 1; stroke-width: 1px;\"/><path class=\"ytick ticks crisp\" d=\"M79,0h-5\" transform=\"translate(0,433.33)\" style=\"stroke: rgb(51, 51, 51); stroke-opacity: 1; stroke-width: 1px;\"/><path class=\"ytick ticks crisp\" d=\"M79,0h-5\" transform=\"translate(0,366.67)\" style=\"stroke: rgb(51, 51, 51); stroke-opacity: 1; stroke-width: 1px;\"/><path class=\"ytick ticks crisp\" d=\"M79,0h-5\" transform=\"translate(0,300)\" style=\"stroke: rgb(51, 51, 51); stroke-opacity: 1; stroke-width: 1px;\"/><path class=\"ytick ticks crisp\" d=\"M79,0h-5\" transform=\"translate(0,233.33)\" style=\"stroke: rgb(51, 51, 51); stroke-opacity: 1; stroke-width: 1px;\"/><path class=\"ytick ticks crisp\" d=\"M79,0h-5\" transform=\"translate(0,166.67000000000002)\" style=\"stroke: rgb(51, 51, 51); stroke-opacity: 1; stroke-width: 1px;\"/><path class=\"ytick ticks crisp\" d=\"M79,0h-5\" transform=\"translate(0,100)\" style=\"stroke: rgb(51, 51, 51); stroke-opacity: 1; stroke-width: 1px;\"/><g class=\"ytick\"><text text-anchor=\"end\" x=\"71.6\" y=\"4.199999999999999\" transform=\"translate(0,500)\" style=\"font-family: 'Open Sans', verdana, arial, sans-serif; font-size: 12px; fill: rgb(51, 51, 51); fill-opacity: 1; white-space: pre; opacity: 1;\">0</text></g><g class=\"ytick\"><text text-anchor=\"end\" x=\"71.6\" y=\"4.199999999999999\" style=\"font-family: 'Open Sans', verdana, arial, sans-serif; font-size: 12px; fill: rgb(51, 51, 51); fill-opacity: 1; white-space: pre; opacity: 1;\" transform=\"translate(0,433.33)\">200</text></g><g class=\"ytick\"><text text-anchor=\"end\" x=\"71.6\" y=\"4.199999999999999\" style=\"font-family: 'Open Sans', verdana, arial, sans-serif; font-size: 12px; fill: rgb(51, 51, 51); fill-opacity: 1; white-space: pre; opacity: 1;\" transform=\"translate(0,366.67)\">400</text></g><g class=\"ytick\"><text text-anchor=\"end\" x=\"71.6\" y=\"4.199999999999999\" style=\"font-family: 'Open Sans', verdana, arial, sans-serif; font-size: 12px; fill: rgb(51, 51, 51); fill-opacity: 1; white-space: pre; opacity: 1;\" transform=\"translate(0,300)\">600</text></g><g class=\"ytick\"><text text-anchor=\"end\" x=\"71.6\" y=\"4.199999999999999\" style=\"font-family: 'Open Sans', verdana, arial, sans-serif; font-size: 12px; fill: rgb(51, 51, 51); fill-opacity: 1; white-space: pre; opacity: 1;\" transform=\"translate(0,233.33)\">800</text></g><g class=\"ytick\"><text text-anchor=\"end\" x=\"71.6\" y=\"4.199999999999999\" style=\"font-family: 'Open Sans', verdana, arial, sans-serif; font-size: 12px; fill: rgb(51, 51, 51); fill-opacity: 1; white-space: pre; opacity: 1;\" transform=\"translate(0,166.67000000000002)\">1000</text></g><g class=\"ytick\"><text text-anchor=\"end\" x=\"71.6\" y=\"4.199999999999999\" style=\"font-family: 'Open Sans', verdana, arial, sans-serif; font-size: 12px; fill: rgb(51, 51, 51); fill-opacity: 1; white-space: pre; opacity: 1;\" transform=\"translate(0,100)\">1200</text></g></g><g class=\"overaxes-above\"/></g></g><g class=\"polarlayer\"/><g class=\"smithlayer\"/><g class=\"ternarylayer\"/><g class=\"geolayer\"/><g class=\"funnelarealayer\"/><g class=\"pielayer\"/><g class=\"iciclelayer\"/><g class=\"treemaplayer\"/><g class=\"sunburstlayer\"/><g class=\"glimages\"/><defs id=\"topdefs-f6d2ee\"><g class=\"clips\"/><clipPath id=\"legendf6d2ee\"><rect width=\"128\" height=\"48\" x=\"0\" y=\"0\"/></clipPath></defs><g class=\"layer-above\"><g class=\"imagelayer\"/><g class=\"shapelayer\"/></g><g class=\"infolayer\"><g class=\"legend\" pointer-events=\"all\" transform=\"translate(760.34,100)\"><rect class=\"bg\" shape-rendering=\"crispEdges\" width=\"128\" height=\"48\" x=\"0\" y=\"0\" style=\"stroke: rgb(68, 68, 68); stroke-opacity: 1; fill: rgb(255, 255, 255); fill-opacity: 1; stroke-width: 0px;\"/><g class=\"scrollbox\" transform=\"\" clip-path=\"url(#legendf6d2ee)\"><g class=\"groups\"><g class=\"traces\" transform=\"translate(0,14.5)\" style=\"opacity: 1;\"><text class=\"legendtext\" text-anchor=\"start\" x=\"40\" y=\"4.680000000000001\" style=\"font-family: 'Open Sans', verdana, arial, sans-serif; font-size: 12px; fill: rgb(51, 51, 51); fill-opacity: 1; white-space: pre;\">Breaking</text><g class=\"layers\" style=\"opacity: 1;\"><g class=\"legendfill\"/><g class=\"legendlines\"><path class=\"js-line\" d=\"M5,0h30\" style=\"fill: none; stroke: rgb(248, 118, 109); stroke-opacity: 1; stroke-width: 2.5px;\"/></g><g class=\"legendsymbols\"><g class=\"legendpoints\"><path class=\"scatterpts\" transform=\"translate(20,0)\" d=\"M3,0A3,3 0 1,1 0,-3A3,3 0 0,1 3,0Z\" style=\"opacity: 1; stroke-width: 0px; fill: rgb(248, 118, 109); fill-opacity: 1;\"/></g></g></g><rect class=\"legendtoggle\" x=\"0\" y=\"-9.5\" width=\"122.484375\" height=\"19\" style=\"fill: rgb(0, 0, 0); fill-opacity: 0;\"/></g><g class=\"traces\" transform=\"translate(0,33.5)\" style=\"opacity: 1;\"><text class=\"legendtext\" text-anchor=\"start\" x=\"40\" y=\"4.680000000000001\" style=\"font-family: 'Open Sans', verdana, arial, sans-serif; font-size: 12px; fill: rgb(51, 51, 51); fill-opacity: 1; white-space: pre;\">Non-Breaking</text><g class=\"layers\" style=\"opacity: 1;\"><g class=\"legendfill\"/><g class=\"legendlines\"><path class=\"js-line\" d=\"M5,0h30\" style=\"fill: none; stroke: rgb(163, 165, 0); stroke-opacity: 1; stroke-dasharray: 3px, 3px; stroke-width: 2.5px;\"/></g><g class=\"legendsymbols\"><g class=\"legendpoints\"><path class=\"scatterpts\" transform=\"translate(20,0)\" d=\"M3,0A3,3 0 1,1 0,-3A3,3 0 0,1 3,0Z\" style=\"opacity: 1; stroke-width: 0px; fill: rgb(163, 165, 0); fill-opacity: 1;\"/></g></g></g><rect class=\"legendtoggle\" x=\"0\" y=\"-9.5\" width=\"122.484375\" height=\"19\" style=\"fill: rgb(0, 0, 0); fill-opacity: 0;\"/></g></g></g><rect class=\"scrollbar\" rx=\"20\" ry=\"3\" width=\"0\" height=\"0\" x=\"0\" y=\"0\" style=\"fill: rgb(128, 139, 164); fill-opacity: 1;\"/></g><g class=\"g-gtitle\"><text class=\"gtitle\" x=\"450\" y=\"50\" text-anchor=\"middle\" dy=\"0em\" style=\"font-family: 'Open Sans', verdana, arial, sans-serif; font-size: 17px; fill: rgb(51, 51, 51); opacity: 1; font-weight: normal; white-space: pre;\">Evolution of Breaking Changes Over Time</text></g><g class=\"g-xtitle\"><text class=\"xtitle\" x=\"413.5\" y=\"567.20625\" text-anchor=\"middle\" style=\"font-family: 'Open Sans', verdana, arial, sans-serif; font-size: 14px; fill: rgb(51, 51, 51); opacity: 1; font-weight: normal; white-space: pre;\">Year</text></g><g class=\"g-ytitle\"><text class=\"ytitle\" transform=\"rotate(-90,16.778125000000003,310)\" x=\"16.778125000000003\" y=\"310\" text-anchor=\"middle\" style=\"font-family: 'Open Sans', verdana, arial, sans-serif; font-size: 14px; fill: rgb(51, 51, 51); opacity: 1; font-weight: normal; white-space: pre;\">Number of Releases</text></g></g></svg>"
     },
     "metadata": {},
     "output_type": "display_data"
    }
   ],
   "source": [
    "fig= go.Figure()\n",
    "fig.add_trace(go.Scatter(x=breaking_pivot.index, y=breaking_pivot['Breaking'], name='Breaking', line=dict(dash='solid'),line_width=2.5))\n",
    "fig.add_trace(go.Scatter(x=breaking_pivot.index, y=breaking_pivot['Non-Breaking'], name='Non-Breaking', line=dict(dash='dot'), line_width=2.5))\n",
    "\n",
    "fig.update_layout(title='Evolution of Breaking Changes Over Time', width=900, height=600, template='ggplot2', yaxis_range=[-60, 1200], xaxis_title='Year', yaxis_title='Number of Releases')\n",
    "fig.show(\"svg\")"
   ]
  },
  {
   "cell_type": "code",
   "execution_count": 47,
   "metadata": {},
   "outputs": [],
   "source": [
    "new['label'].groupby(new['count']).value_counts().to_csv('count.csv')"
   ]
  },
  {
   "cell_type": "markdown",
   "metadata": {},
   "source": [
    "## Median Age"
   ]
  },
  {
   "cell_type": "code",
   "execution_count": 48,
   "metadata": {},
   "outputs": [],
   "source": [
    "median_api_age = new['api_age'].median(skipna=True)\n"
   ]
  },
  {
   "cell_type": "code",
   "execution_count": 49,
   "metadata": {},
   "outputs": [
    {
     "data": {
      "text/plain": [
       "430.5"
      ]
     },
     "execution_count": 49,
     "metadata": {},
     "output_type": "execute_result"
    }
   ],
   "source": [
    "median_api_age"
   ]
  },
  {
   "cell_type": "code",
   "execution_count": 50,
   "metadata": {},
   "outputs": [
    {
     "data": {
      "text/plain": [
       "api_age\n",
       "595.0     35\n",
       "237.0     20\n",
       "39.0      17\n",
       "5.0       14\n",
       "1.0       14\n",
       "          ..\n",
       "791.0      1\n",
       "1076.0     1\n",
       "590.0      1\n",
       "1371.0     1\n",
       "508.0      1\n",
       "Name: count, Length: 1041, dtype: int64"
      ]
     },
     "execution_count": 50,
     "metadata": {},
     "output_type": "execute_result"
    }
   ],
   "source": [
    "new['api_age'].value_counts()"
   ]
  },
  {
   "cell_type": "code",
   "execution_count": 51,
   "metadata": {},
   "outputs": [
    {
     "data": {
      "text/plain": [
       "count    74584.000000\n",
       "mean        11.566100\n",
       "std         38.331583\n",
       "min          2.000000\n",
       "25%          2.000000\n",
       "50%          4.000000\n",
       "75%         10.000000\n",
       "max       3585.000000\n",
       "Name: commits, dtype: float64"
      ]
     },
     "execution_count": 51,
     "metadata": {},
     "output_type": "execute_result"
    }
   ],
   "source": [
    "new['commits'].describe()"
   ]
  },
  {
   "cell_type": "code",
   "execution_count": 52,
   "metadata": {},
   "outputs": [
    {
     "data": {
      "text/plain": [
       "count    7802.000000\n",
       "mean        4.071648\n",
       "std        14.439052\n",
       "min         1.000000\n",
       "25%         1.000000\n",
       "50%         1.000000\n",
       "75%         2.000000\n",
       "max       496.000000\n",
       "Name: info_versions_changes, dtype: float64"
      ]
     },
     "execution_count": 52,
     "metadata": {},
     "output_type": "execute_result"
    }
   ],
   "source": [
    "new['info_versions_changes'].describe()"
   ]
  },
  {
   "cell_type": "code",
   "execution_count": 53,
   "metadata": {},
   "outputs": [],
   "source": [
    "new.fillna(0, inplace=True)"
   ]
  },
  {
   "cell_type": "markdown",
   "metadata": {},
   "source": [
    "## Segmentation of API"
   ]
  },
  {
   "cell_type": "code",
   "execution_count": 54,
   "metadata": {},
   "outputs": [],
   "source": [
    "import numpy as np\n",
    "\n",
    "conditions = [\n",
    "    (new['commits'].between(0, 80) & new['info_versions_changes'].between(0, 50) & (new['api_age'].between(0, 182))), # 182 days = 6 months\n",
    "    (new['commits'].between(0, 100) & new['info_versions_changes'].between(0, 200) & new['api_age'].between(182, 548)), # 182 days = 6 months and 548 days = 1.5 years\n",
    "    ((new['api_age'].between(548, 1825))),\n",
    "    (new['api_age'] > 1825)  ]\n",
    "\n",
    "\n",
    "\n",
    "choices = ['Early', 'Developing', 'Mature','Legacy']\n",
    "\n",
    "new['api_group'] = np.select(conditions, choices, default='Other')\n"
   ]
  },
  {
   "cell_type": "code",
   "execution_count": 55,
   "metadata": {},
   "outputs": [
    {
     "data": {
      "text/plain": [
       "api_group\n",
       "Early         71693\n",
       "Other          1244\n",
       "Mature          912\n",
       "Developing      684\n",
       "Legacy           51\n",
       "Name: count, dtype: int64"
      ]
     },
     "execution_count": 55,
     "metadata": {},
     "output_type": "execute_result"
    }
   ],
   "source": [
    "new['api_group'].value_counts()"
   ]
  },
  {
   "cell_type": "code",
   "execution_count": 56,
   "metadata": {},
   "outputs": [
    {
     "data": {
      "text/plain": [
       "count    1244.000000\n",
       "mean      185.487138\n",
       "std       183.164827\n",
       "min        52.000000\n",
       "25%        98.000000\n",
       "50%       130.000000\n",
       "75%       194.000000\n",
       "max      3109.000000\n",
       "Name: commits, dtype: float64"
      ]
     },
     "execution_count": 56,
     "metadata": {},
     "output_type": "execute_result"
    }
   ],
   "source": [
    "check = new[new['api_group'] == 'Other']\n",
    "check['commits'].describe()"
   ]
  },
  {
   "cell_type": "code",
   "execution_count": 57,
   "metadata": {},
   "outputs": [
    {
     "data": {
      "text/plain": [
       "count    1244.000000\n",
       "mean        7.458199\n",
       "std        32.492747\n",
       "min         0.000000\n",
       "25%         0.000000\n",
       "50%         0.000000\n",
       "75%         1.000000\n",
       "max       496.000000\n",
       "Name: info_versions_changes, dtype: float64"
      ]
     },
     "execution_count": 57,
     "metadata": {},
     "output_type": "execute_result"
    }
   ],
   "source": [
    "check['info_versions_changes'].describe()"
   ]
  },
  {
   "cell_type": "code",
   "execution_count": 58,
   "metadata": {},
   "outputs": [
    {
     "data": {
      "text/plain": [
       "api_age\n",
       "0.0      1222\n",
       "435.0       3\n",
       "438.0       1\n",
       "3.0         1\n",
       "453.0       1\n",
       "430.0       1\n",
       "57.0        1\n",
       "4.0         1\n",
       "518.0       1\n",
       "93.0        1\n",
       "448.0       1\n",
       "140.0       1\n",
       "41.0        1\n",
       "175.0       1\n",
       "475.0       1\n",
       "302.0       1\n",
       "545.0       1\n",
       "314.0       1\n",
       "501.0       1\n",
       "541.0       1\n",
       "424.0       1\n",
       "Name: count, dtype: int64"
      ]
     },
     "execution_count": 58,
     "metadata": {},
     "output_type": "execute_result"
    }
   ],
   "source": [
    "check['api_age'].value_counts()"
   ]
  },
  {
   "cell_type": "code",
   "execution_count": 59,
   "metadata": {},
   "outputs": [
    {
     "data": {
      "text/html": [
       "<div>\n",
       "<style scoped>\n",
       "    .dataframe tbody tr th:only-of-type {\n",
       "        vertical-align: middle;\n",
       "    }\n",
       "\n",
       "    .dataframe tbody tr th {\n",
       "        vertical-align: top;\n",
       "    }\n",
       "\n",
       "    .dataframe thead th {\n",
       "        text-align: right;\n",
       "    }\n",
       "</style>\n",
       "<table border=\"1\" class=\"dataframe\">\n",
       "  <thead>\n",
       "    <tr style=\"text-align: right;\">\n",
       "      <th>api_group</th>\n",
       "      <th>Developing</th>\n",
       "      <th>Early</th>\n",
       "      <th>Legacy</th>\n",
       "      <th>Mature</th>\n",
       "      <th>Other</th>\n",
       "    </tr>\n",
       "    <tr>\n",
       "      <th>type_of_change</th>\n",
       "      <th></th>\n",
       "      <th></th>\n",
       "      <th></th>\n",
       "      <th></th>\n",
       "      <th></th>\n",
       "    </tr>\n",
       "  </thead>\n",
       "  <tbody>\n",
       "    <tr>\n",
       "      <th>Breaking</th>\n",
       "      <td>67</td>\n",
       "      <td>11356</td>\n",
       "      <td>6</td>\n",
       "      <td>100</td>\n",
       "      <td>160</td>\n",
       "    </tr>\n",
       "    <tr>\n",
       "      <th>Non-Breaking</th>\n",
       "      <td>617</td>\n",
       "      <td>60337</td>\n",
       "      <td>45</td>\n",
       "      <td>812</td>\n",
       "      <td>1084</td>\n",
       "    </tr>\n",
       "  </tbody>\n",
       "</table>\n",
       "</div>"
      ],
      "text/plain": [
       "api_group       Developing  Early  Legacy  Mature  Other\n",
       "type_of_change                                          \n",
       "Breaking                67  11356       6     100    160\n",
       "Non-Breaking           617  60337      45     812   1084"
      ]
     },
     "execution_count": 59,
     "metadata": {},
     "output_type": "execute_result"
    }
   ],
   "source": [
    "pd.crosstab(new['type_of_change'], new['api_group'])"
   ]
  },
  {
   "cell_type": "code",
   "execution_count": 60,
   "metadata": {},
   "outputs": [],
   "source": [
    "new.drop(['id'], axis=1, inplace=True)"
   ]
  },
  {
   "cell_type": "code",
   "execution_count": 61,
   "metadata": {},
   "outputs": [],
   "source": [
    "allowed_groups = [\"Other\"]\n",
    "sub = new[new[\"api_group\"].isin(allowed_groups)]"
   ]
  },
  {
   "cell_type": "code",
   "execution_count": 64,
   "metadata": {},
   "outputs": [],
   "source": [
    "new['commit_date'] = pd.to_datetime(new['commit_date'])\n",
    "new = new[new['commit_date'].dt.year != 2023]"
   ]
  },
  {
   "cell_type": "code",
   "execution_count": 65,
   "metadata": {},
   "outputs": [],
   "source": [
    "new = new[new['commit_date'].dt.year != 2014]"
   ]
  },
  {
   "cell_type": "markdown",
   "metadata": {},
   "source": [
    "## Breaking and Non Breaking Changes over the years for different API Groups"
   ]
  },
  {
   "cell_type": "code",
   "execution_count": 66,
   "metadata": {},
   "outputs": [
    {
     "data": {
      "image/svg+xml": "<svg class=\"main-svg\" xmlns=\"http://www.w3.org/2000/svg\" xmlns:xlink=\"http://www.w3.org/1999/xlink\" width=\"900\" height=\"700\" style=\"\" viewBox=\"0 0 900 700\"><rect x=\"0\" y=\"0\" width=\"900\" height=\"700\" style=\"fill: rgb(255, 255, 255); fill-opacity: 1;\"/><defs id=\"defs-0d60f3\"><g class=\"clips\"><clipPath id=\"clip0d60f3xyplot\" class=\"plotclip\"><rect width=\"667\" height=\"520\"/></clipPath><clipPath class=\"axesclip\" id=\"clip0d60f3x\"><rect x=\"80\" y=\"0\" width=\"667\" height=\"700\"/></clipPath><clipPath class=\"axesclip\" id=\"clip0d60f3y\"><rect x=\"0\" y=\"100\" width=\"900\" height=\"520\"/></clipPath><clipPath class=\"axesclip\" id=\"clip0d60f3xy\"><rect x=\"80\" y=\"100\" width=\"667\" height=\"520\"/></clipPath></g><g class=\"gradients\"/><g class=\"patterns\"/></defs><g class=\"bglayer\"><rect class=\"bg\" x=\"80\" y=\"100\" width=\"667\" height=\"520\" style=\"fill: rgb(237, 237, 237); fill-opacity: 1; stroke-width: 0;\"/></g><g class=\"layer-below\"><g class=\"imagelayer\"/><g class=\"shapelayer\"/></g><g class=\"cartesianlayer\"><g class=\"subplot xy\"><g class=\"layer-subplot\"><g class=\"shapelayer\"/><g class=\"imagelayer\"/></g><g class=\"minor-gridlayer\"><g class=\"x\"/><g class=\"y\"/></g><g class=\"gridlayer\"><g class=\"x\"><path class=\"xgrid crisp\" transform=\"translate(154.11,0)\" d=\"M0,100v520\" style=\"stroke: rgb(255, 255, 255); stroke-opacity: 1; stroke-width: 1px;\"/><path class=\"xgrid crisp\" transform=\"translate(228.22,0)\" d=\"M0,100v520\" style=\"stroke: rgb(255, 255, 255); stroke-opacity: 1; stroke-width: 1px;\"/><path class=\"xgrid crisp\" transform=\"translate(302.33000000000004,0)\" d=\"M0,100v520\" style=\"stroke: rgb(255, 255, 255); stroke-opacity: 1; stroke-width: 1px;\"/><path class=\"xgrid crisp\" transform=\"translate(376.44,0)\" d=\"M0,100v520\" style=\"stroke: rgb(255, 255, 255); stroke-opacity: 1; stroke-width: 1px;\"/><path class=\"xgrid crisp\" transform=\"translate(450.56,0)\" d=\"M0,100v520\" style=\"stroke: rgb(255, 255, 255); stroke-opacity: 1; stroke-width: 1px;\"/><path class=\"xgrid crisp\" transform=\"translate(524.6700000000001,0)\" d=\"M0,100v520\" style=\"stroke: rgb(255, 255, 255); stroke-opacity: 1; stroke-width: 1px;\"/><path class=\"xgrid crisp\" transform=\"translate(598.78,0)\" d=\"M0,100v520\" style=\"stroke: rgb(255, 255, 255); stroke-opacity: 1; stroke-width: 1px;\"/><path class=\"xgrid crisp\" transform=\"translate(672.89,0)\" d=\"M0,100v520\" style=\"stroke: rgb(255, 255, 255); stroke-opacity: 1; stroke-width: 1px;\"/></g><g class=\"y\"><path class=\"ygrid crisp\" transform=\"translate(0,557.75)\" d=\"M80,0h667\" style=\"stroke: rgb(255, 255, 255); stroke-opacity: 1; stroke-width: 1px;\"/><path class=\"ygrid crisp\" transform=\"translate(0,496.71)\" d=\"M80,0h667\" style=\"stroke: rgb(255, 255, 255); stroke-opacity: 1; stroke-width: 1px;\"/><path class=\"ygrid crisp\" transform=\"translate(0,435.68)\" d=\"M80,0h667\" style=\"stroke: rgb(255, 255, 255); stroke-opacity: 1; stroke-width: 1px;\"/><path class=\"ygrid crisp\" transform=\"translate(0,374.65)\" d=\"M80,0h667\" style=\"stroke: rgb(255, 255, 255); stroke-opacity: 1; stroke-width: 1px;\"/><path class=\"ygrid crisp\" transform=\"translate(0,313.62)\" d=\"M80,0h667\" style=\"stroke: rgb(255, 255, 255); stroke-opacity: 1; stroke-width: 1px;\"/><path class=\"ygrid crisp\" transform=\"translate(0,252.58)\" d=\"M80,0h667\" style=\"stroke: rgb(255, 255, 255); stroke-opacity: 1; stroke-width: 1px;\"/><path class=\"ygrid crisp\" transform=\"translate(0,191.55)\" d=\"M80,0h667\" style=\"stroke: rgb(255, 255, 255); stroke-opacity: 1; stroke-width: 1px;\"/><path class=\"ygrid crisp\" transform=\"translate(0,130.52)\" d=\"M80,0h667\" style=\"stroke: rgb(255, 255, 255); stroke-opacity: 1; stroke-width: 1px;\"/></g></g><g class=\"zerolinelayer\"><path class=\"yzl zl crisp\" transform=\"translate(0,618.78)\" d=\"M80,0h667\" style=\"stroke: rgb(255, 255, 255); stroke-opacity: 1; stroke-width: 1px;\"/></g><path class=\"xlines-below\"/><path class=\"ylines-below\"/><g class=\"overlines-below\"/><g class=\"xaxislayer-below\"/><g class=\"yaxislayer-below\"/><g class=\"overaxes-below\"/><g class=\"plot\" transform=\"translate(80,100)\" clip-path=\"url(#clip0d60f3xyplot)\"><g class=\"scatterlayer mlayer\"><g class=\"trace scatter trace235cde\" style=\"stroke-miterlimit: 2; opacity: 1;\"><g class=\"fills\"/><g class=\"errorbars\"/><g class=\"lines\"><path class=\"js-line\" d=\"M74.11,512L148.22,497.08L222.33,479.26L296.44,483.96L370.56,464.06L444.67,428.24L518.78,449.63L592.89,489.51\" style=\"vector-effect: none; fill: none; stroke: rgb(248, 118, 109); stroke-opacity: 1; stroke-width: 2px; opacity: 1;\"/></g><g class=\"points\"><path class=\"point\" transform=\"translate(74.11,512)\" d=\"M3,0A3,3 0 1,1 0,-3A3,3 0 0,1 3,0Z\" style=\"opacity: 1; stroke-width: 0px; fill: rgb(248, 118, 109); fill-opacity: 1;\"/><path class=\"point\" transform=\"translate(148.22,497.08)\" d=\"M3,0A3,3 0 1,1 0,-3A3,3 0 0,1 3,0Z\" style=\"opacity: 1; stroke-width: 0px; fill: rgb(248, 118, 109); fill-opacity: 1;\"/><path class=\"point\" transform=\"translate(222.33,479.26)\" d=\"M3,0A3,3 0 1,1 0,-3A3,3 0 0,1 3,0Z\" style=\"opacity: 1; stroke-width: 0px; fill: rgb(248, 118, 109); fill-opacity: 1;\"/><path class=\"point\" transform=\"translate(296.44,483.96)\" d=\"M3,0A3,3 0 1,1 0,-3A3,3 0 0,1 3,0Z\" style=\"opacity: 1; stroke-width: 0px; fill: rgb(248, 118, 109); fill-opacity: 1;\"/><path class=\"point\" transform=\"translate(370.56,464.06)\" d=\"M3,0A3,3 0 1,1 0,-3A3,3 0 0,1 3,0Z\" style=\"opacity: 1; stroke-width: 0px; fill: rgb(248, 118, 109); fill-opacity: 1;\"/><path class=\"point\" transform=\"translate(444.67,428.24)\" d=\"M3,0A3,3 0 1,1 0,-3A3,3 0 0,1 3,0Z\" style=\"opacity: 1; stroke-width: 0px; fill: rgb(248, 118, 109); fill-opacity: 1;\"/><path class=\"point\" transform=\"translate(518.78,449.63)\" d=\"M3,0A3,3 0 1,1 0,-3A3,3 0 0,1 3,0Z\" style=\"opacity: 1; stroke-width: 0px; fill: rgb(248, 118, 109); fill-opacity: 1;\"/><path class=\"point\" transform=\"translate(592.89,489.51)\" d=\"M3,0A3,3 0 1,1 0,-3A3,3 0 0,1 3,0Z\" style=\"opacity: 1; stroke-width: 0px; fill: rgb(248, 118, 109); fill-opacity: 1;\"/></g><g class=\"text\"/></g><g class=\"trace scatter trace057a69\" style=\"stroke-miterlimit: 2; opacity: 1;\"><g class=\"fills\"/><g class=\"errorbars\"/><g class=\"lines\"><path class=\"js-line\" d=\"M74.11,478.13L148.22,405.65L222.33,307.97L296.44,334.61L370.56,218.5L444.67,58.07L518.78,140.01L592.89,366.2\" style=\"vector-effect: none; fill: none; stroke: rgb(163, 165, 0); stroke-opacity: 1; stroke-dasharray: 3px, 3px; stroke-width: 2px; opacity: 1;\"/></g><g class=\"points\"><path class=\"point\" transform=\"translate(74.11,478.13)\" d=\"M3,0A3,3 0 1,1 0,-3A3,3 0 0,1 3,0Z\" style=\"opacity: 1; stroke-width: 0px; fill: rgb(163, 165, 0); fill-opacity: 1;\"/><path class=\"point\" transform=\"translate(148.22,405.65)\" d=\"M3,0A3,3 0 1,1 0,-3A3,3 0 0,1 3,0Z\" style=\"opacity: 1; stroke-width: 0px; fill: rgb(163, 165, 0); fill-opacity: 1;\"/><path class=\"point\" transform=\"translate(222.33,307.97)\" d=\"M3,0A3,3 0 1,1 0,-3A3,3 0 0,1 3,0Z\" style=\"opacity: 1; stroke-width: 0px; fill: rgb(163, 165, 0); fill-opacity: 1;\"/><path class=\"point\" transform=\"translate(296.44,334.61)\" d=\"M3,0A3,3 0 1,1 0,-3A3,3 0 0,1 3,0Z\" style=\"opacity: 1; stroke-width: 0px; fill: rgb(163, 165, 0); fill-opacity: 1;\"/><path class=\"point\" transform=\"translate(370.56,218.5)\" d=\"M3,0A3,3 0 1,1 0,-3A3,3 0 0,1 3,0Z\" style=\"opacity: 1; stroke-width: 0px; fill: rgb(163, 165, 0); fill-opacity: 1;\"/><path class=\"point\" transform=\"translate(444.67,58.07)\" d=\"M3,0A3,3 0 1,1 0,-3A3,3 0 0,1 3,0Z\" style=\"opacity: 1; stroke-width: 0px; fill: rgb(163, 165, 0); fill-opacity: 1;\"/><path class=\"point\" transform=\"translate(518.78,140.01)\" d=\"M3,0A3,3 0 1,1 0,-3A3,3 0 0,1 3,0Z\" style=\"opacity: 1; stroke-width: 0px; fill: rgb(163, 165, 0); fill-opacity: 1;\"/><path class=\"point\" transform=\"translate(592.89,366.2)\" d=\"M3,0A3,3 0 1,1 0,-3A3,3 0 0,1 3,0Z\" style=\"opacity: 1; stroke-width: 0px; fill: rgb(163, 165, 0); fill-opacity: 1;\"/></g><g class=\"text\"/></g></g></g><g class=\"overplot\"/><path class=\"xlines-above crisp\" d=\"M79,620.5H748M79,99.5H748\" style=\"fill: none; stroke-width: 1px; stroke: rgb(0, 0, 0); stroke-opacity: 1;\"/><path class=\"ylines-above crisp\" d=\"M79.5,100V620M747.5,100V620\" style=\"fill: none; stroke-width: 1px; stroke: rgb(0, 0, 0); stroke-opacity: 1;\"/><g class=\"overlines-above\"/><g class=\"xaxislayer-above\"><path class=\"xtick ticks crisp\" d=\"M0,621v5\" transform=\"translate(80,0)\" style=\"stroke: rgb(51, 51, 51); stroke-opacity: 1; stroke-width: 1px;\"/><path class=\"xtick ticks crisp\" d=\"M0,621v5\" transform=\"translate(154.11,0)\" style=\"stroke: rgb(51, 51, 51); stroke-opacity: 1; stroke-width: 1px;\"/><path class=\"xtick ticks crisp\" d=\"M0,621v5\" transform=\"translate(228.22,0)\" style=\"stroke: rgb(51, 51, 51); stroke-opacity: 1; stroke-width: 1px;\"/><path class=\"xtick ticks crisp\" d=\"M0,621v5\" transform=\"translate(302.33000000000004,0)\" style=\"stroke: rgb(51, 51, 51); stroke-opacity: 1; stroke-width: 1px;\"/><path class=\"xtick ticks crisp\" d=\"M0,621v5\" transform=\"translate(376.44,0)\" style=\"stroke: rgb(51, 51, 51); stroke-opacity: 1; stroke-width: 1px;\"/><path class=\"xtick ticks crisp\" d=\"M0,621v5\" transform=\"translate(450.56,0)\" style=\"stroke: rgb(51, 51, 51); stroke-opacity: 1; stroke-width: 1px;\"/><path class=\"xtick ticks crisp\" d=\"M0,621v5\" transform=\"translate(524.6700000000001,0)\" style=\"stroke: rgb(51, 51, 51); stroke-opacity: 1; stroke-width: 1px;\"/><path class=\"xtick ticks crisp\" d=\"M0,621v5\" transform=\"translate(598.78,0)\" style=\"stroke: rgb(51, 51, 51); stroke-opacity: 1; stroke-width: 1px;\"/><path class=\"xtick ticks crisp\" d=\"M0,621v5\" transform=\"translate(672.89,0)\" style=\"stroke: rgb(51, 51, 51); stroke-opacity: 1; stroke-width: 1px;\"/><path class=\"xtick ticks crisp\" d=\"M0,621v5\" transform=\"translate(747,0)\" style=\"stroke: rgb(51, 51, 51); stroke-opacity: 1; stroke-width: 1px;\"/><g class=\"xtick\"><text text-anchor=\"middle\" x=\"0\" y=\"640.4\" transform=\"translate(80,0)\" style=\"font-family: 'Open Sans', verdana, arial, sans-serif; font-size: 12px; fill: rgb(51, 51, 51); fill-opacity: 1; white-space: pre; opacity: 1;\">2014</text></g><g class=\"xtick\"><text text-anchor=\"middle\" x=\"0\" y=\"640.4\" style=\"font-family: 'Open Sans', verdana, arial, sans-serif; font-size: 12px; fill: rgb(51, 51, 51); fill-opacity: 1; white-space: pre; opacity: 1;\" transform=\"translate(154.11,0)\">2015</text></g><g class=\"xtick\"><text text-anchor=\"middle\" x=\"0\" y=\"640.4\" style=\"font-family: 'Open Sans', verdana, arial, sans-serif; font-size: 12px; fill: rgb(51, 51, 51); fill-opacity: 1; white-space: pre; opacity: 1;\" transform=\"translate(228.22,0)\">2016</text></g><g class=\"xtick\"><text text-anchor=\"middle\" x=\"0\" y=\"640.4\" style=\"font-family: 'Open Sans', verdana, arial, sans-serif; font-size: 12px; fill: rgb(51, 51, 51); fill-opacity: 1; white-space: pre; opacity: 1;\" transform=\"translate(302.33000000000004,0)\">2017</text></g><g class=\"xtick\"><text text-anchor=\"middle\" x=\"0\" y=\"640.4\" style=\"font-family: 'Open Sans', verdana, arial, sans-serif; font-size: 12px; fill: rgb(51, 51, 51); fill-opacity: 1; white-space: pre; opacity: 1;\" transform=\"translate(376.44,0)\">2018</text></g><g class=\"xtick\"><text text-anchor=\"middle\" x=\"0\" y=\"640.4\" style=\"font-family: 'Open Sans', verdana, arial, sans-serif; font-size: 12px; fill: rgb(51, 51, 51); fill-opacity: 1; white-space: pre; opacity: 1;\" transform=\"translate(450.56,0)\">2019</text></g><g class=\"xtick\"><text text-anchor=\"middle\" x=\"0\" y=\"640.4\" style=\"font-family: 'Open Sans', verdana, arial, sans-serif; font-size: 12px; fill: rgb(51, 51, 51); fill-opacity: 1; white-space: pre; opacity: 1;\" transform=\"translate(524.6700000000001,0)\">2020</text></g><g class=\"xtick\"><text text-anchor=\"middle\" x=\"0\" y=\"640.4\" style=\"font-family: 'Open Sans', verdana, arial, sans-serif; font-size: 12px; fill: rgb(51, 51, 51); fill-opacity: 1; white-space: pre; opacity: 1;\" transform=\"translate(598.78,0)\">2021</text></g><g class=\"xtick\"><text text-anchor=\"middle\" x=\"0\" y=\"640.4\" style=\"font-family: 'Open Sans', verdana, arial, sans-serif; font-size: 12px; fill: rgb(51, 51, 51); fill-opacity: 1; white-space: pre; opacity: 1;\" transform=\"translate(672.89,0)\">2022</text></g><g class=\"xtick\"><text text-anchor=\"middle\" x=\"0\" y=\"640.4\" style=\"font-family: 'Open Sans', verdana, arial, sans-serif; font-size: 12px; fill: rgb(51, 51, 51); fill-opacity: 1; white-space: pre; opacity: 1;\" transform=\"translate(747,0)\">2023</text></g></g><g class=\"yaxislayer-above\"><path class=\"ytick ticks crisp\" d=\"M79,0h-5\" transform=\"translate(0,618.78)\" style=\"stroke: rgb(51, 51, 51); stroke-opacity: 1; stroke-width: 1px;\"/><path class=\"ytick ticks crisp\" d=\"M79,0h-5\" transform=\"translate(0,557.75)\" style=\"stroke: rgb(51, 51, 51); stroke-opacity: 1; stroke-width: 1px;\"/><path class=\"ytick ticks crisp\" d=\"M79,0h-5\" transform=\"translate(0,496.71)\" style=\"stroke: rgb(51, 51, 51); stroke-opacity: 1; stroke-width: 1px;\"/><path class=\"ytick ticks crisp\" d=\"M79,0h-5\" transform=\"translate(0,435.68)\" style=\"stroke: rgb(51, 51, 51); stroke-opacity: 1; stroke-width: 1px;\"/><path class=\"ytick ticks crisp\" d=\"M79,0h-5\" transform=\"translate(0,374.65)\" style=\"stroke: rgb(51, 51, 51); stroke-opacity: 1; stroke-width: 1px;\"/><path class=\"ytick ticks crisp\" d=\"M79,0h-5\" transform=\"translate(0,313.62)\" style=\"stroke: rgb(51, 51, 51); stroke-opacity: 1; stroke-width: 1px;\"/><path class=\"ytick ticks crisp\" d=\"M79,0h-5\" transform=\"translate(0,252.58)\" style=\"stroke: rgb(51, 51, 51); stroke-opacity: 1; stroke-width: 1px;\"/><path class=\"ytick ticks crisp\" d=\"M79,0h-5\" transform=\"translate(0,191.55)\" style=\"stroke: rgb(51, 51, 51); stroke-opacity: 1; stroke-width: 1px;\"/><path class=\"ytick ticks crisp\" d=\"M79,0h-5\" transform=\"translate(0,130.52)\" style=\"stroke: rgb(51, 51, 51); stroke-opacity: 1; stroke-width: 1px;\"/><g class=\"ytick\"><text text-anchor=\"end\" x=\"71.6\" y=\"4.199999999999999\" transform=\"translate(0,618.78)\" style=\"font-family: 'Open Sans', verdana, arial, sans-serif; font-size: 12px; fill: rgb(51, 51, 51); fill-opacity: 1; white-space: pre; opacity: 1;\">0</text></g><g class=\"ytick\"><text text-anchor=\"end\" x=\"71.6\" y=\"4.199999999999999\" style=\"font-family: 'Open Sans', verdana, arial, sans-serif; font-size: 12px; fill: rgb(51, 51, 51); fill-opacity: 1; white-space: pre; opacity: 1;\" transform=\"translate(0,557.75)\">2k</text></g><g class=\"ytick\"><text text-anchor=\"end\" x=\"71.6\" y=\"4.199999999999999\" style=\"font-family: 'Open Sans', verdana, arial, sans-serif; font-size: 12px; fill: rgb(51, 51, 51); fill-opacity: 1; white-space: pre; opacity: 1;\" transform=\"translate(0,496.71)\">4k</text></g><g class=\"ytick\"><text text-anchor=\"end\" x=\"71.6\" y=\"4.199999999999999\" style=\"font-family: 'Open Sans', verdana, arial, sans-serif; font-size: 12px; fill: rgb(51, 51, 51); fill-opacity: 1; white-space: pre; opacity: 1;\" transform=\"translate(0,435.68)\">6k</text></g><g class=\"ytick\"><text text-anchor=\"end\" x=\"71.6\" y=\"4.199999999999999\" style=\"font-family: 'Open Sans', verdana, arial, sans-serif; font-size: 12px; fill: rgb(51, 51, 51); fill-opacity: 1; white-space: pre; opacity: 1;\" transform=\"translate(0,374.65)\">8k</text></g><g class=\"ytick\"><text text-anchor=\"end\" x=\"71.6\" y=\"4.199999999999999\" style=\"font-family: 'Open Sans', verdana, arial, sans-serif; font-size: 12px; fill: rgb(51, 51, 51); fill-opacity: 1; white-space: pre; opacity: 1;\" transform=\"translate(0,313.62)\">10k</text></g><g class=\"ytick\"><text text-anchor=\"end\" x=\"71.6\" y=\"4.199999999999999\" style=\"font-family: 'Open Sans', verdana, arial, sans-serif; font-size: 12px; fill: rgb(51, 51, 51); fill-opacity: 1; white-space: pre; opacity: 1;\" transform=\"translate(0,252.58)\">12k</text></g><g class=\"ytick\"><text text-anchor=\"end\" x=\"71.6\" y=\"4.199999999999999\" style=\"font-family: 'Open Sans', verdana, arial, sans-serif; font-size: 12px; fill: rgb(51, 51, 51); fill-opacity: 1; white-space: pre; opacity: 1;\" transform=\"translate(0,191.55)\">14k</text></g><g class=\"ytick\"><text text-anchor=\"end\" x=\"71.6\" y=\"4.199999999999999\" style=\"font-family: 'Open Sans', verdana, arial, sans-serif; font-size: 12px; fill: rgb(51, 51, 51); fill-opacity: 1; white-space: pre; opacity: 1;\" transform=\"translate(0,130.52)\">16k</text></g></g><g class=\"overaxes-above\"/></g></g><g class=\"polarlayer\"/><g class=\"smithlayer\"/><g class=\"ternarylayer\"/><g class=\"geolayer\"/><g class=\"funnelarealayer\"/><g class=\"pielayer\"/><g class=\"iciclelayer\"/><g class=\"treemaplayer\"/><g class=\"sunburstlayer\"/><g class=\"glimages\"/><defs id=\"topdefs-0d60f3\"><g class=\"clips\"/><clipPath id=\"legend0d60f3\"><rect width=\"128\" height=\"67\" x=\"0\" y=\"0\"/></clipPath></defs><g class=\"layer-above\"><g class=\"imagelayer\"/><g class=\"shapelayer\"/></g><g class=\"infolayer\"><g class=\"legend\" pointer-events=\"all\" transform=\"translate(760.34,100)\"><rect class=\"bg\" shape-rendering=\"crispEdges\" style=\"stroke: rgb(68, 68, 68); stroke-opacity: 1; fill: rgb(255, 255, 255); fill-opacity: 1; stroke-width: 0px;\" width=\"128\" height=\"67\" x=\"0\" y=\"0\"/><g class=\"scrollbox\" transform=\"\" clip-path=\"url(#legend0d60f3)\"><text class=\"legendtitletext\" text-anchor=\"start\" x=\"2\" y=\"18.2\" style=\"font-family: 'Open Sans', verdana, arial, sans-serif; font-size: 14px; fill: rgb(51, 51, 51); fill-opacity: 1; white-space: pre;\">Type of Change</text><g class=\"groups\" transform=\"\"><g class=\"traces\" transform=\"translate(0,32.7)\" style=\"opacity: 1;\"><text class=\"legendtext\" text-anchor=\"start\" x=\"40\" y=\"4.680000000000001\" style=\"font-family: 'Open Sans', verdana, arial, sans-serif; font-size: 12px; fill: rgb(51, 51, 51); fill-opacity: 1; white-space: pre;\">Breaking</text><g class=\"layers\" style=\"opacity: 1;\"><g class=\"legendfill\"/><g class=\"legendlines\"><path class=\"js-line\" d=\"M5,0h30\" style=\"fill: none; stroke: rgb(248, 118, 109); stroke-opacity: 1; stroke-width: 2px;\"/></g><g class=\"legendsymbols\"><g class=\"legendpoints\"><path class=\"scatterpts\" transform=\"translate(20,0)\" d=\"M3,0A3,3 0 1,1 0,-3A3,3 0 0,1 3,0Z\" style=\"opacity: 1; stroke-width: 0px; fill: rgb(248, 118, 109); fill-opacity: 1;\"/></g></g></g><rect class=\"legendtoggle\" x=\"0\" y=\"-9.5\" width=\"122.484375\" height=\"19\" style=\"fill: rgb(0, 0, 0); fill-opacity: 0;\"/></g></g><g class=\"groups\" transform=\"\"><g class=\"traces\" transform=\"translate(0,51.7)\" style=\"opacity: 1;\"><text class=\"legendtext\" text-anchor=\"start\" x=\"40\" y=\"4.680000000000001\" style=\"font-family: 'Open Sans', verdana, arial, sans-serif; font-size: 12px; fill: rgb(51, 51, 51); fill-opacity: 1; white-space: pre;\">Non-Breaking</text><g class=\"layers\" style=\"opacity: 1;\"><g class=\"legendfill\"/><g class=\"legendlines\"><path class=\"js-line\" d=\"M5,0h30\" style=\"fill: none; stroke: rgb(163, 165, 0); stroke-opacity: 1; stroke-dasharray: 3px, 3px; stroke-width: 2px;\"/></g><g class=\"legendsymbols\"><g class=\"legendpoints\"><path class=\"scatterpts\" transform=\"translate(20,0)\" d=\"M3,0A3,3 0 1,1 0,-3A3,3 0 0,1 3,0Z\" style=\"opacity: 1; stroke-width: 0px; fill: rgb(163, 165, 0); fill-opacity: 1;\"/></g></g></g><rect class=\"legendtoggle\" x=\"0\" y=\"-9.5\" width=\"122.484375\" height=\"19\" style=\"fill: rgb(0, 0, 0); fill-opacity: 0;\"/></g></g></g><rect class=\"scrollbar\" rx=\"20\" ry=\"3\" width=\"0\" height=\"0\" x=\"0\" y=\"0\" style=\"fill: rgb(128, 139, 164); fill-opacity: 1;\"/></g><g class=\"g-gtitle\"><text class=\"gtitle\" x=\"450\" y=\"50\" text-anchor=\"middle\" dy=\"0em\" style=\"font-family: 'Open Sans', verdana, arial, sans-serif; font-size: 17px; fill: rgb(51, 51, 51); opacity: 1; font-weight: normal; white-space: pre;\">Evolution of Breaking and Non-Breaking Changes Over Time for Early APIs</text></g><g class=\"g-xtitle\"><text class=\"xtitle\" x=\"413.5\" y=\"667.20625\" text-anchor=\"middle\" style=\"font-family: 'Open Sans', verdana, arial, sans-serif; font-size: 14px; fill: rgb(51, 51, 51); opacity: 1; font-weight: normal; white-space: pre;\">Year</text></g><g class=\"g-ytitle\"><text class=\"ytitle\" transform=\"rotate(-90,24.934375000000003,360)\" x=\"24.934375000000003\" y=\"360\" text-anchor=\"middle\" style=\"font-family: 'Open Sans', verdana, arial, sans-serif; font-size: 14px; fill: rgb(51, 51, 51); opacity: 1; font-weight: normal; white-space: pre;\">Number of Releases</text></g><g class=\"annotation\" data-index=\"0\" style=\"opacity: 1;\"><g class=\"annotation-text-g\" transform=\"rotate(0,413.5,90.5)\"><g class=\"cursor-pointer\" transform=\"translate(361,81)\"><rect class=\"bg\" x=\"0.5\" y=\"0.5\" width=\"104\" height=\"18\" style=\"stroke-width: 1px; stroke: rgb(0, 0, 0); stroke-opacity: 0; fill: rgb(0, 0, 0); fill-opacity: 0;\"/><text class=\"annotation-text\" text-anchor=\"middle\" x=\"52.34375\" y=\"14\" style=\"font-family: 'Open Sans', verdana, arial, sans-serif; font-size: 12px; fill: rgb(51, 51, 51); fill-opacity: 1; white-space: pre;\">api_group=Early</text></g></g></g></g></svg>"
     },
     "metadata": {},
     "output_type": "display_data"
    }
   ],
   "source": [
    "import pandas as pd\n",
    "import plotly.express as px\n",
    "\n",
    "new['commit_date'] = pd.to_datetime(new['commit_date'])\n",
    "\n",
    "df_grouped = new.groupby([new['api_group'], new['commit_date'].dt.year, 'type_of_change'])['type_of_change'].count().reset_index(name='count')\n",
    "\n",
    "# Filter the dataframe to only include \"Mature\" and \"Other\" api_group values\n",
    "df_grouped = df_grouped[df_grouped['api_group'].isin(['Early'])]\n",
    "\n",
    "fig = px.line(df_grouped, x='commit_date', y='count', color='type_of_change', facet_col='api_group',\n",
    "              line_dash='type_of_change', labels={'commit_date': 'Year', 'count': 'Number of Releases'},\n",
    "              title='Evolution of Breaking and Non-Breaking Changes Over Time for Early APIs', template='ggplot2')\n",
    "\n",
    "fig.update_xaxes(showline=True, linewidth=1, linecolor='black', mirror=True)\n",
    "fig.update_yaxes(showline=True, linewidth=1, linecolor='black', mirror=True)\n",
    "fig.update_layout(width=900, height=700, xaxis_range=[2014, 2023], yaxis_range=[-40, 17000], legend_title_text='Type of Change')\n",
    "fig.update_traces(mode='lines+markers')\n",
    "\n",
    "fig.show(\"svg\")\n"
   ]
  },
  {
   "cell_type": "code",
   "execution_count": 67,
   "metadata": {},
   "outputs": [
    {
     "data": {
      "image/svg+xml": "<svg class=\"main-svg\" xmlns=\"http://www.w3.org/2000/svg\" xmlns:xlink=\"http://www.w3.org/1999/xlink\" width=\"1600\" height=\"600\" style=\"\" viewBox=\"0 0 1600 600\"><rect x=\"0\" y=\"0\" width=\"1600\" height=\"600\" style=\"fill: rgb(255, 255, 255); fill-opacity: 1;\"/><defs id=\"defs-8ab5b9\"><g class=\"clips\"><clipPath id=\"clip8ab5b9xyplot\" class=\"plotclip\"><rect width=\"432.9599999999999\" height=\"420\"/></clipPath><clipPath id=\"clip8ab5b9x2y2plot\" class=\"plotclip\"><rect width=\"432.9599999999999\" height=\"420\"/></clipPath><clipPath id=\"clip8ab5b9x3y3plot\" class=\"plotclip\"><rect width=\"432.9599999999999\" height=\"420\"/></clipPath><clipPath class=\"axesclip\" id=\"clip8ab5b9x\"><rect x=\"80\" y=\"0\" width=\"432.9599999999999\" height=\"600\"/></clipPath><clipPath class=\"axesclip\" id=\"clip8ab5b9y\"><rect x=\"0\" y=\"100\" width=\"1600\" height=\"420\"/></clipPath><clipPath class=\"axesclip\" id=\"clip8ab5b9xy\"><rect x=\"80\" y=\"100\" width=\"432.9599999999999\" height=\"420\"/></clipPath><clipPath class=\"axesclip\" id=\"clip8ab5b9y2\"><rect x=\"0\" y=\"100\" width=\"1600\" height=\"420\"/></clipPath><clipPath class=\"axesclip\" id=\"clip8ab5b9xy2\"><rect x=\"80\" y=\"100\" width=\"432.9599999999999\" height=\"420\"/></clipPath><clipPath class=\"axesclip\" id=\"clip8ab5b9y3\"><rect x=\"0\" y=\"100\" width=\"1600\" height=\"420\"/></clipPath><clipPath class=\"axesclip\" id=\"clip8ab5b9xy3\"><rect x=\"80\" y=\"100\" width=\"432.9599999999999\" height=\"420\"/></clipPath><clipPath class=\"axesclip\" id=\"clip8ab5b9x2\"><rect x=\"540.02\" y=\"0\" width=\"432.9599999999999\" height=\"600\"/></clipPath><clipPath class=\"axesclip\" id=\"clip8ab5b9x2y\"><rect x=\"540.02\" y=\"100\" width=\"432.9599999999999\" height=\"420\"/></clipPath><clipPath class=\"axesclip\" id=\"clip8ab5b9x2y2\"><rect x=\"540.02\" y=\"100\" width=\"432.9599999999999\" height=\"420\"/></clipPath><clipPath class=\"axesclip\" id=\"clip8ab5b9x2y3\"><rect x=\"540.02\" y=\"100\" width=\"432.9599999999999\" height=\"420\"/></clipPath><clipPath class=\"axesclip\" id=\"clip8ab5b9x3\"><rect x=\"1000.04\" y=\"0\" width=\"432.9599999999999\" height=\"600\"/></clipPath><clipPath class=\"axesclip\" id=\"clip8ab5b9x3y\"><rect x=\"1000.04\" y=\"100\" width=\"432.9599999999999\" height=\"420\"/></clipPath><clipPath class=\"axesclip\" id=\"clip8ab5b9x3y2\"><rect x=\"1000.04\" y=\"100\" width=\"432.9599999999999\" height=\"420\"/></clipPath><clipPath class=\"axesclip\" id=\"clip8ab5b9x3y3\"><rect x=\"1000.04\" y=\"100\" width=\"432.9599999999999\" height=\"420\"/></clipPath></g><g class=\"gradients\"/><g class=\"patterns\"/></defs><g class=\"bglayer\"><rect class=\"bg\" x=\"80\" y=\"100\" width=\"432.9599999999999\" height=\"420\" style=\"fill: rgb(237, 237, 237); fill-opacity: 1; stroke-width: 0;\"/><rect class=\"bg\" x=\"540.02\" y=\"100\" width=\"432.9599999999999\" height=\"420\" style=\"fill: rgb(237, 237, 237); fill-opacity: 1; stroke-width: 0;\"/><rect class=\"bg\" x=\"1000.04\" y=\"100\" width=\"432.9599999999999\" height=\"420\" style=\"fill: rgb(237, 237, 237); fill-opacity: 1; stroke-width: 0;\"/></g><g class=\"layer-below\"><g class=\"imagelayer\"/><g class=\"shapelayer\"/></g><g class=\"cartesianlayer\"><g class=\"subplot xy\"><g class=\"layer-subplot\"><g class=\"shapelayer\"/><g class=\"imagelayer\"/></g><g class=\"minor-gridlayer\"><g class=\"x\"/><g class=\"y\"/></g><g class=\"gridlayer\"><g class=\"x\"><path class=\"xgrid crisp\" transform=\"translate(176.20999999999998,0)\" d=\"M0,100v420\" style=\"stroke: rgb(255, 255, 255); stroke-opacity: 1; stroke-width: 1px;\"/><path class=\"xgrid crisp\" transform=\"translate(272.43,0)\" d=\"M0,100v420\" style=\"stroke: rgb(255, 255, 255); stroke-opacity: 1; stroke-width: 1px;\"/><path class=\"xgrid crisp\" transform=\"translate(368.64,0)\" d=\"M0,100v420\" style=\"stroke: rgb(255, 255, 255); stroke-opacity: 1; stroke-width: 1px;\"/><path class=\"xgrid crisp\" transform=\"translate(464.85,0)\" d=\"M0,100v420\" style=\"stroke: rgb(255, 255, 255); stroke-opacity: 1; stroke-width: 1px;\"/></g><g class=\"y\"><path class=\"ygrid crisp\" transform=\"translate(0,438.71)\" d=\"M80,0h432.9599999999999\" style=\"stroke: rgb(255, 255, 255); stroke-opacity: 1; stroke-width: 1px;\"/><path class=\"ygrid crisp\" transform=\"translate(0,370.97)\" d=\"M80,0h432.9599999999999\" style=\"stroke: rgb(255, 255, 255); stroke-opacity: 1; stroke-width: 1px;\"/><path class=\"ygrid crisp\" transform=\"translate(0,303.23)\" d=\"M80,0h432.9599999999999\" style=\"stroke: rgb(255, 255, 255); stroke-opacity: 1; stroke-width: 1px;\"/><path class=\"ygrid crisp\" transform=\"translate(0,235.48)\" d=\"M80,0h432.9599999999999\" style=\"stroke: rgb(255, 255, 255); stroke-opacity: 1; stroke-width: 1px;\"/><path class=\"ygrid crisp\" transform=\"translate(0,167.74)\" d=\"M80,0h432.9599999999999\" style=\"stroke: rgb(255, 255, 255); stroke-opacity: 1; stroke-width: 1px;\"/></g></g><g class=\"zerolinelayer\"><path class=\"yzl zl crisp\" transform=\"translate(0,506.45)\" d=\"M80,0h432.9599999999999\" style=\"stroke: rgb(255, 255, 255); stroke-opacity: 1; stroke-width: 1px;\"/></g><path class=\"xlines-below\"/><path class=\"ylines-below\"/><g class=\"overlines-below\"/><g class=\"xaxislayer-below\"/><g class=\"yaxislayer-below\"/><g class=\"overaxes-below\"/><g class=\"plot\" transform=\"translate(80,100)\" clip-path=\"url(#clip8ab5b9xyplot)\"><g class=\"scatterlayer mlayer\"><g class=\"trace scatter trace87679a\" style=\"stroke-miterlimit: 2; opacity: 1;\"><g class=\"fills\"/><g class=\"errorbars\"/><g class=\"lines\"><path class=\"js-line\" d=\"M48.11,403.74L96.21,388.84L144.32,394.26L192.43,399.68L240.53,402.39L288.64,383.42L336.75,384.77L384.85,403.74\" style=\"vector-effect: none; fill: none; stroke: rgb(248, 118, 109); stroke-opacity: 1; stroke-width: 2px; opacity: 1;\"/></g><g class=\"points\"><path class=\"point\" transform=\"translate(48.11,403.74)\" d=\"M3,0A3,3 0 1,1 0,-3A3,3 0 0,1 3,0Z\" style=\"opacity: 1; stroke-width: 0px; fill: rgb(248, 118, 109); fill-opacity: 1;\"/><path class=\"point\" transform=\"translate(96.21,388.84)\" d=\"M3,0A3,3 0 1,1 0,-3A3,3 0 0,1 3,0Z\" style=\"opacity: 1; stroke-width: 0px; fill: rgb(248, 118, 109); fill-opacity: 1;\"/><path class=\"point\" transform=\"translate(144.32,394.26)\" d=\"M3,0A3,3 0 1,1 0,-3A3,3 0 0,1 3,0Z\" style=\"opacity: 1; stroke-width: 0px; fill: rgb(248, 118, 109); fill-opacity: 1;\"/><path class=\"point\" transform=\"translate(192.43,399.68)\" d=\"M3,0A3,3 0 1,1 0,-3A3,3 0 0,1 3,0Z\" style=\"opacity: 1; stroke-width: 0px; fill: rgb(248, 118, 109); fill-opacity: 1;\"/><path class=\"point\" transform=\"translate(240.53,402.39)\" d=\"M3,0A3,3 0 1,1 0,-3A3,3 0 0,1 3,0Z\" style=\"opacity: 1; stroke-width: 0px; fill: rgb(248, 118, 109); fill-opacity: 1;\"/><path class=\"point\" transform=\"translate(288.64,383.42)\" d=\"M3,0A3,3 0 1,1 0,-3A3,3 0 0,1 3,0Z\" style=\"opacity: 1; stroke-width: 0px; fill: rgb(248, 118, 109); fill-opacity: 1;\"/><path class=\"point\" transform=\"translate(336.75,384.77)\" d=\"M3,0A3,3 0 1,1 0,-3A3,3 0 0,1 3,0Z\" style=\"opacity: 1; stroke-width: 0px; fill: rgb(248, 118, 109); fill-opacity: 1;\"/><path class=\"point\" transform=\"translate(384.85,403.74)\" d=\"M3,0A3,3 0 1,1 0,-3A3,3 0 0,1 3,0Z\" style=\"opacity: 1; stroke-width: 0px; fill: rgb(248, 118, 109); fill-opacity: 1;\"/></g><g class=\"text\"/></g><g class=\"trace scatter trace2fafe2\" style=\"stroke-miterlimit: 2; opacity: 1;\"><g class=\"fills\"/><g class=\"errorbars\"/><g class=\"lines\"><path class=\"js-line\" d=\"M48.11,383.42L96.21,311.61L144.32,299.42L192.43,342.77L240.53,304.84L288.64,186.97L336.75,219.48L384.85,367.16\" style=\"vector-effect: none; fill: none; stroke: rgb(163, 165, 0); stroke-opacity: 1; stroke-dasharray: 3px, 3px; stroke-width: 2px; opacity: 1;\"/></g><g class=\"points\"><path class=\"point\" transform=\"translate(48.11,383.42)\" d=\"M3,0A3,3 0 1,1 0,-3A3,3 0 0,1 3,0Z\" style=\"opacity: 1; stroke-width: 0px; fill: rgb(163, 165, 0); fill-opacity: 1;\"/><path class=\"point\" transform=\"translate(96.21,311.61)\" d=\"M3,0A3,3 0 1,1 0,-3A3,3 0 0,1 3,0Z\" style=\"opacity: 1; stroke-width: 0px; fill: rgb(163, 165, 0); fill-opacity: 1;\"/><path class=\"point\" transform=\"translate(144.32,299.42)\" d=\"M3,0A3,3 0 1,1 0,-3A3,3 0 0,1 3,0Z\" style=\"opacity: 1; stroke-width: 0px; fill: rgb(163, 165, 0); fill-opacity: 1;\"/><path class=\"point\" transform=\"translate(192.43,342.77)\" d=\"M3,0A3,3 0 1,1 0,-3A3,3 0 0,1 3,0Z\" style=\"opacity: 1; stroke-width: 0px; fill: rgb(163, 165, 0); fill-opacity: 1;\"/><path class=\"point\" transform=\"translate(240.53,304.84)\" d=\"M3,0A3,3 0 1,1 0,-3A3,3 0 0,1 3,0Z\" style=\"opacity: 1; stroke-width: 0px; fill: rgb(163, 165, 0); fill-opacity: 1;\"/><path class=\"point\" transform=\"translate(288.64,186.97)\" d=\"M3,0A3,3 0 1,1 0,-3A3,3 0 0,1 3,0Z\" style=\"opacity: 1; stroke-width: 0px; fill: rgb(163, 165, 0); fill-opacity: 1;\"/><path class=\"point\" transform=\"translate(336.75,219.48)\" d=\"M3,0A3,3 0 1,1 0,-3A3,3 0 0,1 3,0Z\" style=\"opacity: 1; stroke-width: 0px; fill: rgb(163, 165, 0); fill-opacity: 1;\"/><path class=\"point\" transform=\"translate(384.85,367.16)\" d=\"M3,0A3,3 0 1,1 0,-3A3,3 0 0,1 3,0Z\" style=\"opacity: 1; stroke-width: 0px; fill: rgb(163, 165, 0); fill-opacity: 1;\"/></g><g class=\"text\"/></g></g></g><g class=\"overplot\"/><path class=\"xlines-above crisp\" d=\"M79,520.5H513.9599999999999M79,99.5H513.9599999999999\" style=\"fill: none; stroke-width: 1px; stroke: rgb(0, 0, 0); stroke-opacity: 1;\"/><path class=\"ylines-above crisp\" d=\"M79.5,100V520M513.4599999999999,100V520\" style=\"fill: none; stroke-width: 1px; stroke: rgb(0, 0, 0); stroke-opacity: 1;\"/><g class=\"overlines-above\"/><g class=\"xaxislayer-above\"><path class=\"xtick ticks crisp\" d=\"M0,521v5\" transform=\"translate(80,0)\" style=\"stroke: rgb(51, 51, 51); stroke-opacity: 1; stroke-width: 1px;\"/><path class=\"xtick ticks crisp\" d=\"M0,521v5\" transform=\"translate(176.20999999999998,0)\" style=\"stroke: rgb(51, 51, 51); stroke-opacity: 1; stroke-width: 1px;\"/><path class=\"xtick ticks crisp\" d=\"M0,521v5\" transform=\"translate(272.43,0)\" style=\"stroke: rgb(51, 51, 51); stroke-opacity: 1; stroke-width: 1px;\"/><path class=\"xtick ticks crisp\" d=\"M0,521v5\" transform=\"translate(368.64,0)\" style=\"stroke: rgb(51, 51, 51); stroke-opacity: 1; stroke-width: 1px;\"/><path class=\"xtick ticks crisp\" d=\"M0,521v5\" transform=\"translate(464.85,0)\" style=\"stroke: rgb(51, 51, 51); stroke-opacity: 1; stroke-width: 1px;\"/><g class=\"xtick\"><text text-anchor=\"middle\" x=\"0\" y=\"540.4\" transform=\"translate(80,0)\" style=\"font-family: 'Open Sans', verdana, arial, sans-serif; font-size: 12px; fill: rgb(51, 51, 51); fill-opacity: 1; white-space: pre; opacity: 1;\">2014</text></g><g class=\"xtick\"><text text-anchor=\"middle\" x=\"0\" y=\"540.4\" style=\"font-family: 'Open Sans', verdana, arial, sans-serif; font-size: 12px; fill: rgb(51, 51, 51); fill-opacity: 1; white-space: pre; opacity: 1;\" transform=\"translate(176.20999999999998,0)\">2016</text></g><g class=\"xtick\"><text text-anchor=\"middle\" x=\"0\" y=\"540.4\" style=\"font-family: 'Open Sans', verdana, arial, sans-serif; font-size: 12px; fill: rgb(51, 51, 51); fill-opacity: 1; white-space: pre; opacity: 1;\" transform=\"translate(272.43,0)\">2018</text></g><g class=\"xtick\"><text text-anchor=\"middle\" x=\"0\" y=\"540.4\" style=\"font-family: 'Open Sans', verdana, arial, sans-serif; font-size: 12px; fill: rgb(51, 51, 51); fill-opacity: 1; white-space: pre; opacity: 1;\" transform=\"translate(368.64,0)\">2020</text></g><g class=\"xtick\"><text text-anchor=\"middle\" x=\"0\" y=\"540.4\" style=\"font-family: 'Open Sans', verdana, arial, sans-serif; font-size: 12px; fill: rgb(51, 51, 51); fill-opacity: 1; white-space: pre; opacity: 1;\" transform=\"translate(464.85,0)\">2022</text></g></g><g class=\"yaxislayer-above\"><path class=\"ytick ticks crisp\" d=\"M79,0h-5\" transform=\"translate(0,506.45)\" style=\"stroke: rgb(51, 51, 51); stroke-opacity: 1; stroke-width: 1px;\"/><path class=\"ytick ticks crisp\" d=\"M79,0h-5\" transform=\"translate(0,438.71)\" style=\"stroke: rgb(51, 51, 51); stroke-opacity: 1; stroke-width: 1px;\"/><path class=\"ytick ticks crisp\" d=\"M79,0h-5\" transform=\"translate(0,370.97)\" style=\"stroke: rgb(51, 51, 51); stroke-opacity: 1; stroke-width: 1px;\"/><path class=\"ytick ticks crisp\" d=\"M79,0h-5\" transform=\"translate(0,303.23)\" style=\"stroke: rgb(51, 51, 51); stroke-opacity: 1; stroke-width: 1px;\"/><path class=\"ytick ticks crisp\" d=\"M79,0h-5\" transform=\"translate(0,235.48)\" style=\"stroke: rgb(51, 51, 51); stroke-opacity: 1; stroke-width: 1px;\"/><path class=\"ytick ticks crisp\" d=\"M79,0h-5\" transform=\"translate(0,167.74)\" style=\"stroke: rgb(51, 51, 51); stroke-opacity: 1; stroke-width: 1px;\"/><path class=\"ytick ticks crisp\" d=\"M79,0h-5\" transform=\"translate(0,100)\" style=\"stroke: rgb(51, 51, 51); stroke-opacity: 1; stroke-width: 1px;\"/><g class=\"ytick\"><text text-anchor=\"end\" x=\"71.6\" y=\"4.199999999999999\" transform=\"translate(0,506.45)\" style=\"font-family: 'Open Sans', verdana, arial, sans-serif; font-size: 12px; fill: rgb(51, 51, 51); fill-opacity: 1; white-space: pre; opacity: 1;\">0</text></g><g class=\"ytick\"><text text-anchor=\"end\" x=\"71.6\" y=\"4.199999999999999\" style=\"font-family: 'Open Sans', verdana, arial, sans-serif; font-size: 12px; fill: rgb(51, 51, 51); fill-opacity: 1; white-space: pre; opacity: 1;\" transform=\"translate(0,438.71)\">50</text></g><g class=\"ytick\"><text text-anchor=\"end\" x=\"71.6\" y=\"4.199999999999999\" style=\"font-family: 'Open Sans', verdana, arial, sans-serif; font-size: 12px; fill: rgb(51, 51, 51); fill-opacity: 1; white-space: pre; opacity: 1;\" transform=\"translate(0,370.97)\">100</text></g><g class=\"ytick\"><text text-anchor=\"end\" x=\"71.6\" y=\"4.199999999999999\" style=\"font-family: 'Open Sans', verdana, arial, sans-serif; font-size: 12px; fill: rgb(51, 51, 51); fill-opacity: 1; white-space: pre; opacity: 1;\" transform=\"translate(0,303.23)\">150</text></g><g class=\"ytick\"><text text-anchor=\"end\" x=\"71.6\" y=\"4.199999999999999\" style=\"font-family: 'Open Sans', verdana, arial, sans-serif; font-size: 12px; fill: rgb(51, 51, 51); fill-opacity: 1; white-space: pre; opacity: 1;\" transform=\"translate(0,235.48)\">200</text></g><g class=\"ytick\"><text text-anchor=\"end\" x=\"71.6\" y=\"4.199999999999999\" style=\"font-family: 'Open Sans', verdana, arial, sans-serif; font-size: 12px; fill: rgb(51, 51, 51); fill-opacity: 1; white-space: pre; opacity: 1;\" transform=\"translate(0,167.74)\">250</text></g><g class=\"ytick\"><text text-anchor=\"end\" x=\"71.6\" y=\"4.199999999999999\" style=\"font-family: 'Open Sans', verdana, arial, sans-serif; font-size: 12px; fill: rgb(51, 51, 51); fill-opacity: 1; white-space: pre; opacity: 1;\" transform=\"translate(0,100)\">300</text></g></g><g class=\"overaxes-above\"/></g><g class=\"subplot x2y2\"><g class=\"layer-subplot\"><g class=\"shapelayer\"/><g class=\"imagelayer\"/></g><g class=\"minor-gridlayer\"><g class=\"x2\"/><g class=\"y2\"/></g><g class=\"gridlayer\"><g class=\"x2\"><path class=\"x2grid crisp\" transform=\"translate(636.23,0)\" d=\"M0,100v420\" style=\"stroke: rgb(255, 255, 255); stroke-opacity: 1; stroke-width: 1px;\"/><path class=\"x2grid crisp\" transform=\"translate(732.45,0)\" d=\"M0,100v420\" style=\"stroke: rgb(255, 255, 255); stroke-opacity: 1; stroke-width: 1px;\"/><path class=\"x2grid crisp\" transform=\"translate(828.66,0)\" d=\"M0,100v420\" style=\"stroke: rgb(255, 255, 255); stroke-opacity: 1; stroke-width: 1px;\"/><path class=\"x2grid crisp\" transform=\"translate(924.87,0)\" d=\"M0,100v420\" style=\"stroke: rgb(255, 255, 255); stroke-opacity: 1; stroke-width: 1px;\"/></g><g class=\"y2\"><path class=\"y2grid crisp\" transform=\"translate(0,438.71)\" d=\"M540.02,0h432.9599999999999\" style=\"stroke: rgb(255, 255, 255); stroke-opacity: 1; stroke-width: 1px;\"/><path class=\"y2grid crisp\" transform=\"translate(0,370.97)\" d=\"M540.02,0h432.9599999999999\" style=\"stroke: rgb(255, 255, 255); stroke-opacity: 1; stroke-width: 1px;\"/><path class=\"y2grid crisp\" transform=\"translate(0,303.23)\" d=\"M540.02,0h432.9599999999999\" style=\"stroke: rgb(255, 255, 255); stroke-opacity: 1; stroke-width: 1px;\"/><path class=\"y2grid crisp\" transform=\"translate(0,235.48)\" d=\"M540.02,0h432.9599999999999\" style=\"stroke: rgb(255, 255, 255); stroke-opacity: 1; stroke-width: 1px;\"/><path class=\"y2grid crisp\" transform=\"translate(0,167.74)\" d=\"M540.02,0h432.9599999999999\" style=\"stroke: rgb(255, 255, 255); stroke-opacity: 1; stroke-width: 1px;\"/></g></g><g class=\"zerolinelayer\"><path class=\"y2zl zl crisp\" transform=\"translate(0,506.45)\" d=\"M540.02,0h432.9599999999999\" style=\"stroke: rgb(255, 255, 255); stroke-opacity: 1; stroke-width: 1px;\"/></g><path class=\"xlines-below\"/><path class=\"ylines-below\"/><g class=\"overlines-below\"/><g class=\"xaxislayer-below\"/><g class=\"yaxislayer-below\"/><g class=\"overaxes-below\"/><g class=\"plot\" transform=\"translate(540.02,100)\" clip-path=\"url(#clip8ab5b9x2y2plot)\"><g class=\"scatterlayer mlayer\"><g class=\"trace scatter trace249a4f\" style=\"stroke-miterlimit: 2; opacity: 1;\"><g class=\"fills\"/><g class=\"errorbars\"/><g class=\"lines\"><path class=\"js-line\" d=\"M48.11,405.1L96.21,391.55L144.32,379.35L192.43,392.9L240.53,386.13L288.64,382.06L336.75,375.29L384.85,403.74\" style=\"vector-effect: none; fill: none; stroke: rgb(248, 118, 109); stroke-opacity: 1; stroke-width: 2px; opacity: 1;\"/></g><g class=\"points\"><path class=\"point\" transform=\"translate(48.11,405.1)\" d=\"M3,0A3,3 0 1,1 0,-3A3,3 0 0,1 3,0Z\" style=\"opacity: 1; stroke-width: 0px; fill: rgb(248, 118, 109); fill-opacity: 1;\"/><path class=\"point\" transform=\"translate(96.21,391.55)\" d=\"M3,0A3,3 0 1,1 0,-3A3,3 0 0,1 3,0Z\" style=\"opacity: 1; stroke-width: 0px; fill: rgb(248, 118, 109); fill-opacity: 1;\"/><path class=\"point\" transform=\"translate(144.32,379.35)\" d=\"M3,0A3,3 0 1,1 0,-3A3,3 0 0,1 3,0Z\" style=\"opacity: 1; stroke-width: 0px; fill: rgb(248, 118, 109); fill-opacity: 1;\"/><path class=\"point\" transform=\"translate(192.43,392.9)\" d=\"M3,0A3,3 0 1,1 0,-3A3,3 0 0,1 3,0Z\" style=\"opacity: 1; stroke-width: 0px; fill: rgb(248, 118, 109); fill-opacity: 1;\"/><path class=\"point\" transform=\"translate(240.53,386.13)\" d=\"M3,0A3,3 0 1,1 0,-3A3,3 0 0,1 3,0Z\" style=\"opacity: 1; stroke-width: 0px; fill: rgb(248, 118, 109); fill-opacity: 1;\"/><path class=\"point\" transform=\"translate(288.64,382.06)\" d=\"M3,0A3,3 0 1,1 0,-3A3,3 0 0,1 3,0Z\" style=\"opacity: 1; stroke-width: 0px; fill: rgb(248, 118, 109); fill-opacity: 1;\"/><path class=\"point\" transform=\"translate(336.75,375.29)\" d=\"M3,0A3,3 0 1,1 0,-3A3,3 0 0,1 3,0Z\" style=\"opacity: 1; stroke-width: 0px; fill: rgb(248, 118, 109); fill-opacity: 1;\"/><path class=\"point\" transform=\"translate(384.85,403.74)\" d=\"M3,0A3,3 0 1,1 0,-3A3,3 0 0,1 3,0Z\" style=\"opacity: 1; stroke-width: 0px; fill: rgb(248, 118, 109); fill-opacity: 1;\"/></g><g class=\"text\"/></g><g class=\"trace scatter traceeddfbe\" style=\"stroke-miterlimit: 2; opacity: 1;\"><g class=\"fills\"/><g class=\"errorbars\"/><g class=\"lines\"><path class=\"js-line\" d=\"M48.11,390.19L96.21,276.39L144.32,299.42L192.43,310.26L240.53,254.71L288.64,117.87L336.75,136.84L384.85,365.81\" style=\"vector-effect: none; fill: none; stroke: rgb(163, 165, 0); stroke-opacity: 1; stroke-dasharray: 3px, 3px; stroke-width: 2px; opacity: 1;\"/></g><g class=\"points\"><path class=\"point\" transform=\"translate(48.11,390.19)\" d=\"M3,0A3,3 0 1,1 0,-3A3,3 0 0,1 3,0Z\" style=\"opacity: 1; stroke-width: 0px; fill: rgb(163, 165, 0); fill-opacity: 1;\"/><path class=\"point\" transform=\"translate(96.21,276.39)\" d=\"M3,0A3,3 0 1,1 0,-3A3,3 0 0,1 3,0Z\" style=\"opacity: 1; stroke-width: 0px; fill: rgb(163, 165, 0); fill-opacity: 1;\"/><path class=\"point\" transform=\"translate(144.32,299.42)\" d=\"M3,0A3,3 0 1,1 0,-3A3,3 0 0,1 3,0Z\" style=\"opacity: 1; stroke-width: 0px; fill: rgb(163, 165, 0); fill-opacity: 1;\"/><path class=\"point\" transform=\"translate(192.43,310.26)\" d=\"M3,0A3,3 0 1,1 0,-3A3,3 0 0,1 3,0Z\" style=\"opacity: 1; stroke-width: 0px; fill: rgb(163, 165, 0); fill-opacity: 1;\"/><path class=\"point\" transform=\"translate(240.53,254.71)\" d=\"M3,0A3,3 0 1,1 0,-3A3,3 0 0,1 3,0Z\" style=\"opacity: 1; stroke-width: 0px; fill: rgb(163, 165, 0); fill-opacity: 1;\"/><path class=\"point\" transform=\"translate(288.64,117.87)\" d=\"M3,0A3,3 0 1,1 0,-3A3,3 0 0,1 3,0Z\" style=\"opacity: 1; stroke-width: 0px; fill: rgb(163, 165, 0); fill-opacity: 1;\"/><path class=\"point\" transform=\"translate(336.75,136.84)\" d=\"M3,0A3,3 0 1,1 0,-3A3,3 0 0,1 3,0Z\" style=\"opacity: 1; stroke-width: 0px; fill: rgb(163, 165, 0); fill-opacity: 1;\"/><path class=\"point\" transform=\"translate(384.85,365.81)\" d=\"M3,0A3,3 0 1,1 0,-3A3,3 0 0,1 3,0Z\" style=\"opacity: 1; stroke-width: 0px; fill: rgb(163, 165, 0); fill-opacity: 1;\"/></g><g class=\"text\"/></g></g></g><g class=\"overplot\"/><path class=\"xlines-above crisp\" d=\"M539.02,520.5H973.9799999999999M539.02,99.5H973.9799999999999\" style=\"fill: none; stroke-width: 1px; stroke: rgb(0, 0, 0); stroke-opacity: 1;\"/><path class=\"ylines-above crisp\" d=\"M539.52,100V520M973.4799999999999,100V520\" style=\"fill: none; stroke-width: 1px; stroke: rgb(0, 0, 0); stroke-opacity: 1;\"/><g class=\"overlines-above\"/><g class=\"xaxislayer-above\"><path class=\"x2tick ticks crisp\" d=\"M0,521v5\" transform=\"translate(540.02,0)\" style=\"stroke: rgb(51, 51, 51); stroke-opacity: 1; stroke-width: 1px;\"/><path class=\"x2tick ticks crisp\" d=\"M0,521v5\" transform=\"translate(636.23,0)\" style=\"stroke: rgb(51, 51, 51); stroke-opacity: 1; stroke-width: 1px;\"/><path class=\"x2tick ticks crisp\" d=\"M0,521v5\" transform=\"translate(732.45,0)\" style=\"stroke: rgb(51, 51, 51); stroke-opacity: 1; stroke-width: 1px;\"/><path class=\"x2tick ticks crisp\" d=\"M0,521v5\" transform=\"translate(828.66,0)\" style=\"stroke: rgb(51, 51, 51); stroke-opacity: 1; stroke-width: 1px;\"/><path class=\"x2tick ticks crisp\" d=\"M0,521v5\" transform=\"translate(924.87,0)\" style=\"stroke: rgb(51, 51, 51); stroke-opacity: 1; stroke-width: 1px;\"/><g class=\"x2tick\"><text text-anchor=\"middle\" x=\"0\" y=\"540.4\" transform=\"translate(540.02,0)\" style=\"font-family: 'Open Sans', verdana, arial, sans-serif; font-size: 12px; fill: rgb(51, 51, 51); fill-opacity: 1; white-space: pre; opacity: 1;\">2014</text></g><g class=\"x2tick\"><text text-anchor=\"middle\" x=\"0\" y=\"540.4\" style=\"font-family: 'Open Sans', verdana, arial, sans-serif; font-size: 12px; fill: rgb(51, 51, 51); fill-opacity: 1; white-space: pre; opacity: 1;\" transform=\"translate(636.23,0)\">2016</text></g><g class=\"x2tick\"><text text-anchor=\"middle\" x=\"0\" y=\"540.4\" style=\"font-family: 'Open Sans', verdana, arial, sans-serif; font-size: 12px; fill: rgb(51, 51, 51); fill-opacity: 1; white-space: pre; opacity: 1;\" transform=\"translate(732.45,0)\">2018</text></g><g class=\"x2tick\"><text text-anchor=\"middle\" x=\"0\" y=\"540.4\" style=\"font-family: 'Open Sans', verdana, arial, sans-serif; font-size: 12px; fill: rgb(51, 51, 51); fill-opacity: 1; white-space: pre; opacity: 1;\" transform=\"translate(828.66,0)\">2020</text></g><g class=\"x2tick\"><text text-anchor=\"middle\" x=\"0\" y=\"540.4\" style=\"font-family: 'Open Sans', verdana, arial, sans-serif; font-size: 12px; fill: rgb(51, 51, 51); fill-opacity: 1; white-space: pre; opacity: 1;\" transform=\"translate(924.87,0)\">2022</text></g></g><g class=\"yaxislayer-above\"><path class=\"y2tick ticks crisp\" d=\"M539.02,0h-5\" transform=\"translate(0,506.45)\" style=\"stroke: rgb(51, 51, 51); stroke-opacity: 1; stroke-width: 1px;\"/><path class=\"y2tick ticks crisp\" d=\"M539.02,0h-5\" transform=\"translate(0,438.71)\" style=\"stroke: rgb(51, 51, 51); stroke-opacity: 1; stroke-width: 1px;\"/><path class=\"y2tick ticks crisp\" d=\"M539.02,0h-5\" transform=\"translate(0,370.97)\" style=\"stroke: rgb(51, 51, 51); stroke-opacity: 1; stroke-width: 1px;\"/><path class=\"y2tick ticks crisp\" d=\"M539.02,0h-5\" transform=\"translate(0,303.23)\" style=\"stroke: rgb(51, 51, 51); stroke-opacity: 1; stroke-width: 1px;\"/><path class=\"y2tick ticks crisp\" d=\"M539.02,0h-5\" transform=\"translate(0,235.48)\" style=\"stroke: rgb(51, 51, 51); stroke-opacity: 1; stroke-width: 1px;\"/><path class=\"y2tick ticks crisp\" d=\"M539.02,0h-5\" transform=\"translate(0,167.74)\" style=\"stroke: rgb(51, 51, 51); stroke-opacity: 1; stroke-width: 1px;\"/><path class=\"y2tick ticks crisp\" d=\"M539.02,0h-5\" transform=\"translate(0,100)\" style=\"stroke: rgb(51, 51, 51); stroke-opacity: 1; stroke-width: 1px;\"/></g><g class=\"overaxes-above\"/></g><g class=\"subplot x3y3\"><g class=\"layer-subplot\"><g class=\"shapelayer\"/><g class=\"imagelayer\"/></g><g class=\"minor-gridlayer\"><g class=\"x3\"/><g class=\"y3\"/></g><g class=\"gridlayer\"><g class=\"x3\"><path class=\"x3grid crisp\" transform=\"translate(1096.25,0)\" d=\"M0,100v420\" style=\"stroke: rgb(255, 255, 255); stroke-opacity: 1; stroke-width: 1px;\"/><path class=\"x3grid crisp\" transform=\"translate(1192.47,0)\" d=\"M0,100v420\" style=\"stroke: rgb(255, 255, 255); stroke-opacity: 1; stroke-width: 1px;\"/><path class=\"x3grid crisp\" transform=\"translate(1288.6799999999998,0)\" d=\"M0,100v420\" style=\"stroke: rgb(255, 255, 255); stroke-opacity: 1; stroke-width: 1px;\"/><path class=\"x3grid crisp\" transform=\"translate(1384.8899999999999,0)\" d=\"M0,100v420\" style=\"stroke: rgb(255, 255, 255); stroke-opacity: 1; stroke-width: 1px;\"/></g><g class=\"y3\"><path class=\"y3grid crisp\" transform=\"translate(0,438.71)\" d=\"M1000.04,0h432.9599999999999\" style=\"stroke: rgb(255, 255, 255); stroke-opacity: 1; stroke-width: 1px;\"/><path class=\"y3grid crisp\" transform=\"translate(0,370.97)\" d=\"M1000.04,0h432.9599999999999\" style=\"stroke: rgb(255, 255, 255); stroke-opacity: 1; stroke-width: 1px;\"/><path class=\"y3grid crisp\" transform=\"translate(0,303.23)\" d=\"M1000.04,0h432.9599999999999\" style=\"stroke: rgb(255, 255, 255); stroke-opacity: 1; stroke-width: 1px;\"/><path class=\"y3grid crisp\" transform=\"translate(0,235.48)\" d=\"M1000.04,0h432.9599999999999\" style=\"stroke: rgb(255, 255, 255); stroke-opacity: 1; stroke-width: 1px;\"/><path class=\"y3grid crisp\" transform=\"translate(0,167.74)\" d=\"M1000.04,0h432.9599999999999\" style=\"stroke: rgb(255, 255, 255); stroke-opacity: 1; stroke-width: 1px;\"/></g></g><g class=\"zerolinelayer\"><path class=\"y3zl zl crisp\" transform=\"translate(0,506.45)\" d=\"M1000.04,0h432.9599999999999\" style=\"stroke: rgb(255, 255, 255); stroke-opacity: 1; stroke-width: 1px;\"/></g><path class=\"xlines-below\"/><path class=\"ylines-below\"/><g class=\"overlines-below\"/><g class=\"xaxislayer-below\"/><g class=\"yaxislayer-below\"/><g class=\"overaxes-below\"/><g class=\"plot\" transform=\"translate(1000.04,100)\" clip-path=\"url(#clip8ab5b9x3y3plot)\"><g class=\"scatterlayer mlayer\"><g class=\"trace scatter trace8153e3\" style=\"stroke-miterlimit: 2; opacity: 1;\"><g class=\"fills\"/><g class=\"errorbars\"/><g class=\"lines\"><path class=\"js-line\" d=\"M48.11,405.1L96.21,387.48L144.32,378L192.43,382.06L240.53,378L288.64,360.39L336.75,349.55L384.85,394.26\" style=\"vector-effect: none; fill: none; stroke: rgb(248, 118, 109); stroke-opacity: 1; stroke-width: 2px; opacity: 1;\"/></g><g class=\"points\"><path class=\"point\" transform=\"translate(48.11,405.1)\" d=\"M3,0A3,3 0 1,1 0,-3A3,3 0 0,1 3,0Z\" style=\"opacity: 1; stroke-width: 0px; fill: rgb(248, 118, 109); fill-opacity: 1;\"/><path class=\"point\" transform=\"translate(96.21,387.48)\" d=\"M3,0A3,3 0 1,1 0,-3A3,3 0 0,1 3,0Z\" style=\"opacity: 1; stroke-width: 0px; fill: rgb(248, 118, 109); fill-opacity: 1;\"/><path class=\"point\" transform=\"translate(144.32,378)\" d=\"M3,0A3,3 0 1,1 0,-3A3,3 0 0,1 3,0Z\" style=\"opacity: 1; stroke-width: 0px; fill: rgb(248, 118, 109); fill-opacity: 1;\"/><path class=\"point\" transform=\"translate(192.43,382.06)\" d=\"M3,0A3,3 0 1,1 0,-3A3,3 0 0,1 3,0Z\" style=\"opacity: 1; stroke-width: 0px; fill: rgb(248, 118, 109); fill-opacity: 1;\"/><path class=\"point\" transform=\"translate(240.53,378)\" d=\"M3,0A3,3 0 1,1 0,-3A3,3 0 0,1 3,0Z\" style=\"opacity: 1; stroke-width: 0px; fill: rgb(248, 118, 109); fill-opacity: 1;\"/><path class=\"point\" transform=\"translate(288.64,360.39)\" d=\"M3,0A3,3 0 1,1 0,-3A3,3 0 0,1 3,0Z\" style=\"opacity: 1; stroke-width: 0px; fill: rgb(248, 118, 109); fill-opacity: 1;\"/><path class=\"point\" transform=\"translate(336.75,349.55)\" d=\"M3,0A3,3 0 1,1 0,-3A3,3 0 0,1 3,0Z\" style=\"opacity: 1; stroke-width: 0px; fill: rgb(248, 118, 109); fill-opacity: 1;\"/><path class=\"point\" transform=\"translate(384.85,394.26)\" d=\"M3,0A3,3 0 1,1 0,-3A3,3 0 0,1 3,0Z\" style=\"opacity: 1; stroke-width: 0px; fill: rgb(248, 118, 109); fill-opacity: 1;\"/></g><g class=\"text\"/></g><g class=\"trace scatter tracefd169a\" style=\"stroke-miterlimit: 2; opacity: 1;\"><g class=\"fills\"/><g class=\"errorbars\"/><g class=\"lines\"><path class=\"js-line\" d=\"M48.11,375.29L96.21,268.26L144.32,238.45L192.43,279.1L240.53,205.94L288.64,9.48L336.75,88.06L384.85,319.74\" style=\"vector-effect: none; fill: none; stroke: rgb(163, 165, 0); stroke-opacity: 1; stroke-dasharray: 3px, 3px; stroke-width: 2px; opacity: 1;\"/></g><g class=\"points\"><path class=\"point\" transform=\"translate(48.11,375.29)\" d=\"M3,0A3,3 0 1,1 0,-3A3,3 0 0,1 3,0Z\" style=\"opacity: 1; stroke-width: 0px; fill: rgb(163, 165, 0); fill-opacity: 1;\"/><path class=\"point\" transform=\"translate(96.21,268.26)\" d=\"M3,0A3,3 0 1,1 0,-3A3,3 0 0,1 3,0Z\" style=\"opacity: 1; stroke-width: 0px; fill: rgb(163, 165, 0); fill-opacity: 1;\"/><path class=\"point\" transform=\"translate(144.32,238.45)\" d=\"M3,0A3,3 0 1,1 0,-3A3,3 0 0,1 3,0Z\" style=\"opacity: 1; stroke-width: 0px; fill: rgb(163, 165, 0); fill-opacity: 1;\"/><path class=\"point\" transform=\"translate(192.43,279.1)\" d=\"M3,0A3,3 0 1,1 0,-3A3,3 0 0,1 3,0Z\" style=\"opacity: 1; stroke-width: 0px; fill: rgb(163, 165, 0); fill-opacity: 1;\"/><path class=\"point\" transform=\"translate(240.53,205.94)\" d=\"M3,0A3,3 0 1,1 0,-3A3,3 0 0,1 3,0Z\" style=\"opacity: 1; stroke-width: 0px; fill: rgb(163, 165, 0); fill-opacity: 1;\"/><path class=\"point\" transform=\"translate(288.64,9.48)\" d=\"M3,0A3,3 0 1,1 0,-3A3,3 0 0,1 3,0Z\" style=\"opacity: 1; stroke-width: 0px; fill: rgb(163, 165, 0); fill-opacity: 1;\"/><path class=\"point\" transform=\"translate(336.75,88.06)\" d=\"M3,0A3,3 0 1,1 0,-3A3,3 0 0,1 3,0Z\" style=\"opacity: 1; stroke-width: 0px; fill: rgb(163, 165, 0); fill-opacity: 1;\"/><path class=\"point\" transform=\"translate(384.85,319.74)\" d=\"M3,0A3,3 0 1,1 0,-3A3,3 0 0,1 3,0Z\" style=\"opacity: 1; stroke-width: 0px; fill: rgb(163, 165, 0); fill-opacity: 1;\"/></g><g class=\"text\"/></g></g></g><g class=\"overplot\"/><path class=\"xlines-above crisp\" d=\"M999.04,520.5H1434M999.04,99.5H1434\" style=\"fill: none; stroke-width: 1px; stroke: rgb(0, 0, 0); stroke-opacity: 1;\"/><path class=\"ylines-above crisp\" d=\"M999.54,100V520M1433.5,100V520\" style=\"fill: none; stroke-width: 1px; stroke: rgb(0, 0, 0); stroke-opacity: 1;\"/><g class=\"overlines-above\"/><g class=\"xaxislayer-above\"><path class=\"x3tick ticks crisp\" d=\"M0,521v5\" transform=\"translate(1000.04,0)\" style=\"stroke: rgb(51, 51, 51); stroke-opacity: 1; stroke-width: 1px;\"/><path class=\"x3tick ticks crisp\" d=\"M0,521v5\" transform=\"translate(1096.25,0)\" style=\"stroke: rgb(51, 51, 51); stroke-opacity: 1; stroke-width: 1px;\"/><path class=\"x3tick ticks crisp\" d=\"M0,521v5\" transform=\"translate(1192.47,0)\" style=\"stroke: rgb(51, 51, 51); stroke-opacity: 1; stroke-width: 1px;\"/><path class=\"x3tick ticks crisp\" d=\"M0,521v5\" transform=\"translate(1288.6799999999998,0)\" style=\"stroke: rgb(51, 51, 51); stroke-opacity: 1; stroke-width: 1px;\"/><path class=\"x3tick ticks crisp\" d=\"M0,521v5\" transform=\"translate(1384.8899999999999,0)\" style=\"stroke: rgb(51, 51, 51); stroke-opacity: 1; stroke-width: 1px;\"/><g class=\"x3tick\"><text text-anchor=\"middle\" x=\"0\" y=\"540.4\" transform=\"translate(1000.04,0)\" style=\"font-family: 'Open Sans', verdana, arial, sans-serif; font-size: 12px; fill: rgb(51, 51, 51); fill-opacity: 1; white-space: pre; opacity: 1;\">2014</text></g><g class=\"x3tick\"><text text-anchor=\"middle\" x=\"0\" y=\"540.4\" style=\"font-family: 'Open Sans', verdana, arial, sans-serif; font-size: 12px; fill: rgb(51, 51, 51); fill-opacity: 1; white-space: pre; opacity: 1;\" transform=\"translate(1096.25,0)\">2016</text></g><g class=\"x3tick\"><text text-anchor=\"middle\" x=\"0\" y=\"540.4\" style=\"font-family: 'Open Sans', verdana, arial, sans-serif; font-size: 12px; fill: rgb(51, 51, 51); fill-opacity: 1; white-space: pre; opacity: 1;\" transform=\"translate(1192.47,0)\">2018</text></g><g class=\"x3tick\"><text text-anchor=\"middle\" x=\"0\" y=\"540.4\" style=\"font-family: 'Open Sans', verdana, arial, sans-serif; font-size: 12px; fill: rgb(51, 51, 51); fill-opacity: 1; white-space: pre; opacity: 1;\" transform=\"translate(1288.6799999999998,0)\">2020</text></g><g class=\"x3tick\"><text text-anchor=\"middle\" x=\"0\" y=\"540.4\" style=\"font-family: 'Open Sans', verdana, arial, sans-serif; font-size: 12px; fill: rgb(51, 51, 51); fill-opacity: 1; white-space: pre; opacity: 1;\" transform=\"translate(1384.8899999999999,0)\">2022</text></g></g><g class=\"yaxislayer-above\"><path class=\"y3tick ticks crisp\" d=\"M999.04,0h-5\" transform=\"translate(0,506.45)\" style=\"stroke: rgb(51, 51, 51); stroke-opacity: 1; stroke-width: 1px;\"/><path class=\"y3tick ticks crisp\" d=\"M999.04,0h-5\" transform=\"translate(0,438.71)\" style=\"stroke: rgb(51, 51, 51); stroke-opacity: 1; stroke-width: 1px;\"/><path class=\"y3tick ticks crisp\" d=\"M999.04,0h-5\" transform=\"translate(0,370.97)\" style=\"stroke: rgb(51, 51, 51); stroke-opacity: 1; stroke-width: 1px;\"/><path class=\"y3tick ticks crisp\" d=\"M999.04,0h-5\" transform=\"translate(0,303.23)\" style=\"stroke: rgb(51, 51, 51); stroke-opacity: 1; stroke-width: 1px;\"/><path class=\"y3tick ticks crisp\" d=\"M999.04,0h-5\" transform=\"translate(0,235.48)\" style=\"stroke: rgb(51, 51, 51); stroke-opacity: 1; stroke-width: 1px;\"/><path class=\"y3tick ticks crisp\" d=\"M999.04,0h-5\" transform=\"translate(0,167.74)\" style=\"stroke: rgb(51, 51, 51); stroke-opacity: 1; stroke-width: 1px;\"/><path class=\"y3tick ticks crisp\" d=\"M999.04,0h-5\" transform=\"translate(0,100)\" style=\"stroke: rgb(51, 51, 51); stroke-opacity: 1; stroke-width: 1px;\"/></g><g class=\"overaxes-above\"/></g></g><g class=\"polarlayer\"/><g class=\"smithlayer\"/><g class=\"ternarylayer\"/><g class=\"geolayer\"/><g class=\"funnelarealayer\"/><g class=\"pielayer\"/><g class=\"iciclelayer\"/><g class=\"treemaplayer\"/><g class=\"sunburstlayer\"/><g class=\"glimages\"/><defs id=\"topdefs-8ab5b9\"><g class=\"clips\"/><clipPath id=\"legend8ab5b9\"><rect width=\"128\" height=\"67\" x=\"0\" y=\"0\"/></clipPath></defs><g class=\"layer-above\"><g class=\"imagelayer\"/><g class=\"shapelayer\"/></g><g class=\"infolayer\"><g class=\"legend\" pointer-events=\"all\" transform=\"translate(1460.06,100)\"><rect class=\"bg\" shape-rendering=\"crispEdges\" width=\"128\" height=\"67\" x=\"0\" y=\"0\" style=\"stroke: rgb(68, 68, 68); stroke-opacity: 1; fill: rgb(255, 255, 255); fill-opacity: 1; stroke-width: 0px;\"/><g class=\"scrollbox\" transform=\"\" clip-path=\"url(#legend8ab5b9)\"><text class=\"legendtitletext\" text-anchor=\"start\" x=\"2\" y=\"18.2\" style=\"font-family: 'Open Sans', verdana, arial, sans-serif; font-size: 14px; fill: rgb(51, 51, 51); fill-opacity: 1; white-space: pre;\">Type of Change</text><g class=\"groups\" transform=\"\"><g class=\"traces\" transform=\"translate(0,32.7)\" style=\"opacity: 1;\"><text class=\"legendtext\" text-anchor=\"start\" x=\"40\" y=\"4.680000000000001\" style=\"font-family: 'Open Sans', verdana, arial, sans-serif; font-size: 12px; fill: rgb(51, 51, 51); fill-opacity: 1; white-space: pre;\">Breaking</text><g class=\"layers\" style=\"opacity: 1;\"><g class=\"legendfill\"/><g class=\"legendlines\"><path class=\"js-line\" d=\"M5,0h30\" style=\"fill: none; stroke: rgb(248, 118, 109); stroke-opacity: 1; stroke-width: 2px;\"/></g><g class=\"legendsymbols\"><g class=\"legendpoints\"><path class=\"scatterpts\" transform=\"translate(20,0)\" d=\"M3,0A3,3 0 1,1 0,-3A3,3 0 0,1 3,0Z\" style=\"opacity: 1; stroke-width: 0px; fill: rgb(248, 118, 109); fill-opacity: 1;\"/></g></g></g><rect class=\"legendtoggle\" x=\"0\" y=\"-9.5\" width=\"122.484375\" height=\"19\" style=\"fill: rgb(0, 0, 0); fill-opacity: 0;\"/></g></g><g class=\"groups\" transform=\"\"><g class=\"traces\" transform=\"translate(0,51.7)\" style=\"opacity: 1;\"><text class=\"legendtext\" text-anchor=\"start\" x=\"40\" y=\"4.680000000000001\" style=\"font-family: 'Open Sans', verdana, arial, sans-serif; font-size: 12px; fill: rgb(51, 51, 51); fill-opacity: 1; white-space: pre;\">Non-Breaking</text><g class=\"layers\" style=\"opacity: 1;\"><g class=\"legendfill\"/><g class=\"legendlines\"><path class=\"js-line\" d=\"M5,0h30\" style=\"fill: none; stroke: rgb(163, 165, 0); stroke-opacity: 1; stroke-dasharray: 3px, 3px; stroke-width: 2px;\"/></g><g class=\"legendsymbols\"><g class=\"legendpoints\"><path class=\"scatterpts\" transform=\"translate(20,0)\" d=\"M3,0A3,3 0 1,1 0,-3A3,3 0 0,1 3,0Z\" style=\"opacity: 1; stroke-width: 0px; fill: rgb(163, 165, 0); fill-opacity: 1;\"/></g></g></g><rect class=\"legendtoggle\" x=\"0\" y=\"-9.5\" width=\"122.484375\" height=\"19\" style=\"fill: rgb(0, 0, 0); fill-opacity: 0;\"/></g></g></g><rect class=\"scrollbar\" rx=\"20\" ry=\"3\" width=\"0\" height=\"0\" x=\"0\" y=\"0\" style=\"fill: rgb(128, 139, 164); fill-opacity: 1;\"/></g><g class=\"g-gtitle\"><text class=\"gtitle\" x=\"800\" y=\"50\" text-anchor=\"middle\" dy=\"0em\" style=\"font-family: 'Open Sans', verdana, arial, sans-serif; font-size: 17px; fill: rgb(51, 51, 51); opacity: 1; font-weight: normal; white-space: pre;\">Evolution of Breaking and Non-Breaking Changes Over Time for Developing, Mature and Unclassified APIs</text></g><g class=\"g-xtitle\"><text class=\"xtitle\" x=\"296.47999999999996\" y=\"567.20625\" text-anchor=\"middle\" style=\"font-family: 'Open Sans', verdana, arial, sans-serif; font-size: 14px; fill: rgb(51, 51, 51); opacity: 1; font-weight: normal; white-space: pre;\">Year</text></g><g class=\"g-x2title\"><text class=\"x2title\" x=\"756.5\" y=\"567.20625\" text-anchor=\"middle\" style=\"font-family: 'Open Sans', verdana, arial, sans-serif; font-size: 14px; fill: rgb(51, 51, 51); opacity: 1; font-weight: normal; white-space: pre;\">Year</text></g><g class=\"g-x3title\"><text class=\"x3title\" x=\"1216.52\" y=\"567.20625\" text-anchor=\"middle\" style=\"font-family: 'Open Sans', verdana, arial, sans-serif; font-size: 14px; fill: rgb(51, 51, 51); opacity: 1; font-weight: normal; white-space: pre;\">Year</text></g><g class=\"g-ytitle\"><text class=\"ytitle\" transform=\"rotate(-90,24.403125000000003,310)\" x=\"24.403125000000003\" y=\"310\" text-anchor=\"middle\" style=\"font-family: 'Open Sans', verdana, arial, sans-serif; font-size: 14px; fill: rgb(51, 51, 51); opacity: 1; font-weight: normal; white-space: pre;\">Number of Releases</text></g><g class=\"g-y2title\"/><g class=\"g-y3title\"/><g class=\"annotation\" data-index=\"0\" style=\"opacity: 1;\"><g class=\"annotation-text-g\" transform=\"rotate(0,296.47999999999996,90.5)\"><g class=\"cursor-pointer\" transform=\"translate(226,81)\"><rect class=\"bg\" x=\"0.5\" y=\"0.5\" width=\"140\" height=\"18\" style=\"stroke-width: 1px; stroke: rgb(0, 0, 0); stroke-opacity: 0; fill: rgb(0, 0, 0); fill-opacity: 0;\"/><text class=\"annotation-text\" text-anchor=\"middle\" x=\"70.71875\" y=\"14\" style=\"font-family: 'Open Sans', verdana, arial, sans-serif; font-size: 12px; fill: rgb(51, 51, 51); fill-opacity: 1; white-space: pre;\">api_group=Developing</text></g></g></g><g class=\"annotation\" data-index=\"1\" style=\"opacity: 1;\"><g class=\"annotation-text-g\" transform=\"rotate(0,756.4999999999999,90.5)\"><g class=\"cursor-pointer\" transform=\"translate(698,81)\"><rect class=\"bg\" x=\"0.5\" y=\"0.5\" width=\"115\" height=\"18\" style=\"stroke-width: 1px; stroke: rgb(0, 0, 0); stroke-opacity: 0; fill: rgb(0, 0, 0); fill-opacity: 0;\"/><text class=\"annotation-text\" text-anchor=\"middle\" x=\"58.15625\" y=\"14\" style=\"font-family: 'Open Sans', verdana, arial, sans-serif; font-size: 12px; fill: rgb(51, 51, 51); fill-opacity: 1; white-space: pre;\">api_group=Mature</text></g></g></g><g class=\"annotation\" data-index=\"2\" style=\"opacity: 1;\"><g class=\"annotation-text-g\" transform=\"rotate(0,1216.5199999999998,90.5)\"><g class=\"cursor-pointer\" transform=\"translate(1163,81)\"><rect class=\"bg\" x=\"0.5\" y=\"0.5\" width=\"107\" height=\"18\" style=\"stroke-width: 1px; stroke: rgb(0, 0, 0); stroke-opacity: 0; fill: rgb(0, 0, 0); fill-opacity: 0;\"/><text class=\"annotation-text\" text-anchor=\"middle\" x=\"54.21875\" y=\"14\" style=\"font-family: 'Open Sans', verdana, arial, sans-serif; font-size: 12px; fill: rgb(51, 51, 51); fill-opacity: 1; white-space: pre;\">api_group=Other</text></g></g></g></g></svg>"
     },
     "metadata": {},
     "output_type": "display_data"
    }
   ],
   "source": [
    "import pandas as pd\n",
    "import plotly.express as px\n",
    "\n",
    "new['commit_date'] = pd.to_datetime(new['commit_date'])\n",
    "\n",
    "df_grouped = new.groupby([new['api_group'], new['commit_date'].dt.year, 'type_of_change'])['type_of_change'].count().reset_index(name='count')\n",
    "\n",
    "# Filter the dataframe to only include \"Mature\" and \"Other\" api_group values\n",
    "df_grouped = df_grouped[df_grouped['api_group'].isin(['Mature', 'Developing','Other'])]\n",
    "\n",
    "fig = px.line(df_grouped, x='commit_date', y='count', color='type_of_change', facet_col='api_group',\n",
    "              line_dash='type_of_change', labels={'commit_date': 'Year', 'count': 'Number of Releases'},\n",
    "              title='Evolution of Breaking and Non-Breaking Changes Over Time for Developing, Mature and Unclassified APIs', template='ggplot2')\n",
    "\n",
    "fig.update_xaxes(showline=True, linewidth=1, linecolor='black', mirror=True)\n",
    "fig.update_yaxes(showline=True, linewidth=1, linecolor='black', mirror=True)\n",
    "fig.update_layout(width=1600, height=600, xaxis_range=[2014, 2023], yaxis_range=[-10, 300], legend_title_text='Type of Change')\n",
    "fig.update_traces(mode='lines+markers')\n",
    "\n",
    "fig.show(\"svg\")\n"
   ]
  },
  {
   "cell_type": "code",
   "execution_count": 68,
   "metadata": {},
   "outputs": [
    {
     "data": {
      "image/svg+xml": "<svg class=\"main-svg\" xmlns=\"http://www.w3.org/2000/svg\" xmlns:xlink=\"http://www.w3.org/1999/xlink\" width=\"900\" height=\"700\" style=\"\" viewBox=\"0 0 900 700\"><rect x=\"0\" y=\"0\" width=\"900\" height=\"700\" style=\"fill: rgb(255, 255, 255); fill-opacity: 1;\"/><defs id=\"defs-3cdf16\"><g class=\"clips\"><clipPath id=\"clip3cdf16xyplot\" class=\"plotclip\"><rect width=\"667\" height=\"520\"/></clipPath><clipPath class=\"axesclip\" id=\"clip3cdf16x\"><rect x=\"80\" y=\"0\" width=\"667\" height=\"700\"/></clipPath><clipPath class=\"axesclip\" id=\"clip3cdf16y\"><rect x=\"0\" y=\"100\" width=\"900\" height=\"520\"/></clipPath><clipPath class=\"axesclip\" id=\"clip3cdf16xy\"><rect x=\"80\" y=\"100\" width=\"667\" height=\"520\"/></clipPath></g><g class=\"gradients\"/><g class=\"patterns\"/></defs><g class=\"bglayer\"><rect class=\"bg\" x=\"80\" y=\"100\" width=\"667\" height=\"520\" style=\"fill: rgb(237, 237, 237); fill-opacity: 1; stroke-width: 0;\"/></g><g class=\"layer-below\"><g class=\"imagelayer\"/><g class=\"shapelayer\"/></g><g class=\"cartesianlayer\"><g class=\"subplot xy\"><g class=\"layer-subplot\"><g class=\"shapelayer\"/><g class=\"imagelayer\"/></g><g class=\"minor-gridlayer\"><g class=\"x\"/><g class=\"y\"/></g><g class=\"gridlayer\"><g class=\"x\"><path class=\"xgrid crisp\" transform=\"translate(154.11,0)\" d=\"M0,100v520\" style=\"stroke: rgb(255, 255, 255); stroke-opacity: 1; stroke-width: 1px;\"/><path class=\"xgrid crisp\" transform=\"translate(228.22,0)\" d=\"M0,100v520\" style=\"stroke: rgb(255, 255, 255); stroke-opacity: 1; stroke-width: 1px;\"/><path class=\"xgrid crisp\" transform=\"translate(302.33000000000004,0)\" d=\"M0,100v520\" style=\"stroke: rgb(255, 255, 255); stroke-opacity: 1; stroke-width: 1px;\"/><path class=\"xgrid crisp\" transform=\"translate(376.44,0)\" d=\"M0,100v520\" style=\"stroke: rgb(255, 255, 255); stroke-opacity: 1; stroke-width: 1px;\"/><path class=\"xgrid crisp\" transform=\"translate(450.56,0)\" d=\"M0,100v520\" style=\"stroke: rgb(255, 255, 255); stroke-opacity: 1; stroke-width: 1px;\"/><path class=\"xgrid crisp\" transform=\"translate(524.6700000000001,0)\" d=\"M0,100v520\" style=\"stroke: rgb(255, 255, 255); stroke-opacity: 1; stroke-width: 1px;\"/><path class=\"xgrid crisp\" transform=\"translate(598.78,0)\" d=\"M0,100v520\" style=\"stroke: rgb(255, 255, 255); stroke-opacity: 1; stroke-width: 1px;\"/><path class=\"xgrid crisp\" transform=\"translate(672.89,0)\" d=\"M0,100v520\" style=\"stroke: rgb(255, 255, 255); stroke-opacity: 1; stroke-width: 1px;\"/></g><g class=\"y\"><path class=\"ygrid crisp\" transform=\"translate(0,528.24)\" d=\"M80,0h667\" style=\"stroke: rgb(255, 255, 255); stroke-opacity: 1; stroke-width: 1px;\"/><path class=\"ygrid crisp\" transform=\"translate(0,467.06)\" d=\"M80,0h667\" style=\"stroke: rgb(255, 255, 255); stroke-opacity: 1; stroke-width: 1px;\"/><path class=\"ygrid crisp\" transform=\"translate(0,405.88)\" d=\"M80,0h667\" style=\"stroke: rgb(255, 255, 255); stroke-opacity: 1; stroke-width: 1px;\"/><path class=\"ygrid crisp\" transform=\"translate(0,344.71000000000004)\" d=\"M80,0h667\" style=\"stroke: rgb(255, 255, 255); stroke-opacity: 1; stroke-width: 1px;\"/><path class=\"ygrid crisp\" transform=\"translate(0,283.53)\" d=\"M80,0h667\" style=\"stroke: rgb(255, 255, 255); stroke-opacity: 1; stroke-width: 1px;\"/><path class=\"ygrid crisp\" transform=\"translate(0,222.35)\" d=\"M80,0h667\" style=\"stroke: rgb(255, 255, 255); stroke-opacity: 1; stroke-width: 1px;\"/><path class=\"ygrid crisp\" transform=\"translate(0,161.18)\" d=\"M80,0h667\" style=\"stroke: rgb(255, 255, 255); stroke-opacity: 1; stroke-width: 1px;\"/></g></g><g class=\"zerolinelayer\"><path class=\"yzl zl crisp\" transform=\"translate(0,589.4100000000001)\" d=\"M80,0h667\" style=\"stroke: rgb(255, 255, 255); stroke-opacity: 1; stroke-width: 1px;\"/></g><path class=\"xlines-below\"/><path class=\"ylines-below\"/><g class=\"overlines-below\"/><g class=\"xaxislayer-below\"/><g class=\"yaxislayer-below\"/><g class=\"overaxes-below\"/><g class=\"plot\" transform=\"translate(80,100)\" clip-path=\"url(#clip3cdf16xyplot)\"><g class=\"scatterlayer mlayer\"><g class=\"trace scatter trace9eafd9\" style=\"stroke-miterlimit: 2; opacity: 1;\"><g class=\"fills\"/><g class=\"errorbars\"/><g class=\"lines\"><path class=\"js-line\" d=\"M148.22,458.82L296.44,428.24L370.56,458.82L444.67,428.24\" style=\"vector-effect: none; fill: none; stroke: rgb(248, 118, 109); stroke-opacity: 1; stroke-width: 2px; opacity: 1;\"/></g><g class=\"points\"><path class=\"point\" transform=\"translate(148.22,458.82)\" d=\"M3,0A3,3 0 1,1 0,-3A3,3 0 0,1 3,0Z\" style=\"opacity: 1; stroke-width: 0px; fill: rgb(248, 118, 109); fill-opacity: 1;\"/><path class=\"point\" transform=\"translate(296.44,428.24)\" d=\"M3,0A3,3 0 1,1 0,-3A3,3 0 0,1 3,0Z\" style=\"opacity: 1; stroke-width: 0px; fill: rgb(248, 118, 109); fill-opacity: 1;\"/><path class=\"point\" transform=\"translate(370.56,458.82)\" d=\"M3,0A3,3 0 1,1 0,-3A3,3 0 0,1 3,0Z\" style=\"opacity: 1; stroke-width: 0px; fill: rgb(248, 118, 109); fill-opacity: 1;\"/><path class=\"point\" transform=\"translate(444.67,428.24)\" d=\"M3,0A3,3 0 1,1 0,-3A3,3 0 0,1 3,0Z\" style=\"opacity: 1; stroke-width: 0px; fill: rgb(248, 118, 109); fill-opacity: 1;\"/></g><g class=\"text\"/></g><g class=\"trace scatter trace05a505\" style=\"stroke-miterlimit: 2; opacity: 1;\"><g class=\"fills\"/><g class=\"errorbars\"/><g class=\"lines\"><path class=\"js-line\" d=\"M148.22,428.24L222.33,367.06L296.44,336.47L370.56,305.88L444.67,91.76L518.78,122.35L592.89,397.65\" style=\"vector-effect: none; fill: none; stroke: rgb(163, 165, 0); stroke-opacity: 1; stroke-dasharray: 3px, 3px; stroke-width: 2px; opacity: 1;\"/></g><g class=\"points\"><path class=\"point\" transform=\"translate(148.22,428.24)\" d=\"M3,0A3,3 0 1,1 0,-3A3,3 0 0,1 3,0Z\" style=\"opacity: 1; stroke-width: 0px; fill: rgb(163, 165, 0); fill-opacity: 1;\"/><path class=\"point\" transform=\"translate(222.33,367.06)\" d=\"M3,0A3,3 0 1,1 0,-3A3,3 0 0,1 3,0Z\" style=\"opacity: 1; stroke-width: 0px; fill: rgb(163, 165, 0); fill-opacity: 1;\"/><path class=\"point\" transform=\"translate(296.44,336.47)\" d=\"M3,0A3,3 0 1,1 0,-3A3,3 0 0,1 3,0Z\" style=\"opacity: 1; stroke-width: 0px; fill: rgb(163, 165, 0); fill-opacity: 1;\"/><path class=\"point\" transform=\"translate(370.56,305.88)\" d=\"M3,0A3,3 0 1,1 0,-3A3,3 0 0,1 3,0Z\" style=\"opacity: 1; stroke-width: 0px; fill: rgb(163, 165, 0); fill-opacity: 1;\"/><path class=\"point\" transform=\"translate(444.67,91.76)\" d=\"M3,0A3,3 0 1,1 0,-3A3,3 0 0,1 3,0Z\" style=\"opacity: 1; stroke-width: 0px; fill: rgb(163, 165, 0); fill-opacity: 1;\"/><path class=\"point\" transform=\"translate(518.78,122.35)\" d=\"M3,0A3,3 0 1,1 0,-3A3,3 0 0,1 3,0Z\" style=\"opacity: 1; stroke-width: 0px; fill: rgb(163, 165, 0); fill-opacity: 1;\"/><path class=\"point\" transform=\"translate(592.89,397.65)\" d=\"M3,0A3,3 0 1,1 0,-3A3,3 0 0,1 3,0Z\" style=\"opacity: 1; stroke-width: 0px; fill: rgb(163, 165, 0); fill-opacity: 1;\"/></g><g class=\"text\"/></g></g></g><g class=\"overplot\"/><path class=\"xlines-above crisp\" d=\"M79,620.5H748M79,99.5H748\" style=\"fill: none; stroke-width: 1px; stroke: rgb(0, 0, 0); stroke-opacity: 1;\"/><path class=\"ylines-above crisp\" d=\"M79.5,100V620M747.5,100V620\" style=\"fill: none; stroke-width: 1px; stroke: rgb(0, 0, 0); stroke-opacity: 1;\"/><g class=\"overlines-above\"/><g class=\"xaxislayer-above\"><path class=\"xtick ticks crisp\" d=\"M0,621v5\" transform=\"translate(80,0)\" style=\"stroke: rgb(51, 51, 51); stroke-opacity: 1; stroke-width: 1px;\"/><path class=\"xtick ticks crisp\" d=\"M0,621v5\" transform=\"translate(154.11,0)\" style=\"stroke: rgb(51, 51, 51); stroke-opacity: 1; stroke-width: 1px;\"/><path class=\"xtick ticks crisp\" d=\"M0,621v5\" transform=\"translate(228.22,0)\" style=\"stroke: rgb(51, 51, 51); stroke-opacity: 1; stroke-width: 1px;\"/><path class=\"xtick ticks crisp\" d=\"M0,621v5\" transform=\"translate(302.33000000000004,0)\" style=\"stroke: rgb(51, 51, 51); stroke-opacity: 1; stroke-width: 1px;\"/><path class=\"xtick ticks crisp\" d=\"M0,621v5\" transform=\"translate(376.44,0)\" style=\"stroke: rgb(51, 51, 51); stroke-opacity: 1; stroke-width: 1px;\"/><path class=\"xtick ticks crisp\" d=\"M0,621v5\" transform=\"translate(450.56,0)\" style=\"stroke: rgb(51, 51, 51); stroke-opacity: 1; stroke-width: 1px;\"/><path class=\"xtick ticks crisp\" d=\"M0,621v5\" transform=\"translate(524.6700000000001,0)\" style=\"stroke: rgb(51, 51, 51); stroke-opacity: 1; stroke-width: 1px;\"/><path class=\"xtick ticks crisp\" d=\"M0,621v5\" transform=\"translate(598.78,0)\" style=\"stroke: rgb(51, 51, 51); stroke-opacity: 1; stroke-width: 1px;\"/><path class=\"xtick ticks crisp\" d=\"M0,621v5\" transform=\"translate(672.89,0)\" style=\"stroke: rgb(51, 51, 51); stroke-opacity: 1; stroke-width: 1px;\"/><path class=\"xtick ticks crisp\" d=\"M0,621v5\" transform=\"translate(747,0)\" style=\"stroke: rgb(51, 51, 51); stroke-opacity: 1; stroke-width: 1px;\"/><g class=\"xtick\"><text text-anchor=\"middle\" x=\"0\" y=\"640.4\" transform=\"translate(80,0)\" style=\"font-family: 'Open Sans', verdana, arial, sans-serif; font-size: 12px; fill: rgb(51, 51, 51); fill-opacity: 1; white-space: pre; opacity: 1;\">2014</text></g><g class=\"xtick\"><text text-anchor=\"middle\" x=\"0\" y=\"640.4\" style=\"font-family: 'Open Sans', verdana, arial, sans-serif; font-size: 12px; fill: rgb(51, 51, 51); fill-opacity: 1; white-space: pre; opacity: 1;\" transform=\"translate(154.11,0)\">2015</text></g><g class=\"xtick\"><text text-anchor=\"middle\" x=\"0\" y=\"640.4\" style=\"font-family: 'Open Sans', verdana, arial, sans-serif; font-size: 12px; fill: rgb(51, 51, 51); fill-opacity: 1; white-space: pre; opacity: 1;\" transform=\"translate(228.22,0)\">2016</text></g><g class=\"xtick\"><text text-anchor=\"middle\" x=\"0\" y=\"640.4\" style=\"font-family: 'Open Sans', verdana, arial, sans-serif; font-size: 12px; fill: rgb(51, 51, 51); fill-opacity: 1; white-space: pre; opacity: 1;\" transform=\"translate(302.33000000000004,0)\">2017</text></g><g class=\"xtick\"><text text-anchor=\"middle\" x=\"0\" y=\"640.4\" style=\"font-family: 'Open Sans', verdana, arial, sans-serif; font-size: 12px; fill: rgb(51, 51, 51); fill-opacity: 1; white-space: pre; opacity: 1;\" transform=\"translate(376.44,0)\">2018</text></g><g class=\"xtick\"><text text-anchor=\"middle\" x=\"0\" y=\"640.4\" style=\"font-family: 'Open Sans', verdana, arial, sans-serif; font-size: 12px; fill: rgb(51, 51, 51); fill-opacity: 1; white-space: pre; opacity: 1;\" transform=\"translate(450.56,0)\">2019</text></g><g class=\"xtick\"><text text-anchor=\"middle\" x=\"0\" y=\"640.4\" style=\"font-family: 'Open Sans', verdana, arial, sans-serif; font-size: 12px; fill: rgb(51, 51, 51); fill-opacity: 1; white-space: pre; opacity: 1;\" transform=\"translate(524.6700000000001,0)\">2020</text></g><g class=\"xtick\"><text text-anchor=\"middle\" x=\"0\" y=\"640.4\" style=\"font-family: 'Open Sans', verdana, arial, sans-serif; font-size: 12px; fill: rgb(51, 51, 51); fill-opacity: 1; white-space: pre; opacity: 1;\" transform=\"translate(598.78,0)\">2021</text></g><g class=\"xtick\"><text text-anchor=\"middle\" x=\"0\" y=\"640.4\" style=\"font-family: 'Open Sans', verdana, arial, sans-serif; font-size: 12px; fill: rgb(51, 51, 51); fill-opacity: 1; white-space: pre; opacity: 1;\" transform=\"translate(672.89,0)\">2022</text></g><g class=\"xtick\"><text text-anchor=\"middle\" x=\"0\" y=\"640.4\" style=\"font-family: 'Open Sans', verdana, arial, sans-serif; font-size: 12px; fill: rgb(51, 51, 51); fill-opacity: 1; white-space: pre; opacity: 1;\" transform=\"translate(747,0)\">2023</text></g></g><g class=\"yaxislayer-above\"><path class=\"ytick ticks crisp\" d=\"M79,0h-5\" transform=\"translate(0,589.4100000000001)\" style=\"stroke: rgb(51, 51, 51); stroke-opacity: 1; stroke-width: 1px;\"/><path class=\"ytick ticks crisp\" d=\"M79,0h-5\" transform=\"translate(0,528.24)\" style=\"stroke: rgb(51, 51, 51); stroke-opacity: 1; stroke-width: 1px;\"/><path class=\"ytick ticks crisp\" d=\"M79,0h-5\" transform=\"translate(0,467.06)\" style=\"stroke: rgb(51, 51, 51); stroke-opacity: 1; stroke-width: 1px;\"/><path class=\"ytick ticks crisp\" d=\"M79,0h-5\" transform=\"translate(0,405.88)\" style=\"stroke: rgb(51, 51, 51); stroke-opacity: 1; stroke-width: 1px;\"/><path class=\"ytick ticks crisp\" d=\"M79,0h-5\" transform=\"translate(0,344.71000000000004)\" style=\"stroke: rgb(51, 51, 51); stroke-opacity: 1; stroke-width: 1px;\"/><path class=\"ytick ticks crisp\" d=\"M79,0h-5\" transform=\"translate(0,283.53)\" style=\"stroke: rgb(51, 51, 51); stroke-opacity: 1; stroke-width: 1px;\"/><path class=\"ytick ticks crisp\" d=\"M79,0h-5\" transform=\"translate(0,222.35)\" style=\"stroke: rgb(51, 51, 51); stroke-opacity: 1; stroke-width: 1px;\"/><path class=\"ytick ticks crisp\" d=\"M79,0h-5\" transform=\"translate(0,161.18)\" style=\"stroke: rgb(51, 51, 51); stroke-opacity: 1; stroke-width: 1px;\"/><path class=\"ytick ticks crisp\" d=\"M79,0h-5\" transform=\"translate(0,100)\" style=\"stroke: rgb(51, 51, 51); stroke-opacity: 1; stroke-width: 1px;\"/><g class=\"ytick\"><text text-anchor=\"end\" x=\"71.6\" y=\"4.199999999999999\" transform=\"translate(0,589.4100000000001)\" style=\"font-family: 'Open Sans', verdana, arial, sans-serif; font-size: 12px; fill: rgb(51, 51, 51); fill-opacity: 1; white-space: pre; opacity: 1;\">0</text></g><g class=\"ytick\"><text text-anchor=\"end\" x=\"71.6\" y=\"4.199999999999999\" style=\"font-family: 'Open Sans', verdana, arial, sans-serif; font-size: 12px; fill: rgb(51, 51, 51); fill-opacity: 1; white-space: pre; opacity: 1;\" transform=\"translate(0,528.24)\">2</text></g><g class=\"ytick\"><text text-anchor=\"end\" x=\"71.6\" y=\"4.199999999999999\" style=\"font-family: 'Open Sans', verdana, arial, sans-serif; font-size: 12px; fill: rgb(51, 51, 51); fill-opacity: 1; white-space: pre; opacity: 1;\" transform=\"translate(0,467.06)\">4</text></g><g class=\"ytick\"><text text-anchor=\"end\" x=\"71.6\" y=\"4.199999999999999\" style=\"font-family: 'Open Sans', verdana, arial, sans-serif; font-size: 12px; fill: rgb(51, 51, 51); fill-opacity: 1; white-space: pre; opacity: 1;\" transform=\"translate(0,405.88)\">6</text></g><g class=\"ytick\"><text text-anchor=\"end\" x=\"71.6\" y=\"4.199999999999999\" style=\"font-family: 'Open Sans', verdana, arial, sans-serif; font-size: 12px; fill: rgb(51, 51, 51); fill-opacity: 1; white-space: pre; opacity: 1;\" transform=\"translate(0,344.71000000000004)\">8</text></g><g class=\"ytick\"><text text-anchor=\"end\" x=\"71.6\" y=\"4.199999999999999\" style=\"font-family: 'Open Sans', verdana, arial, sans-serif; font-size: 12px; fill: rgb(51, 51, 51); fill-opacity: 1; white-space: pre; opacity: 1;\" transform=\"translate(0,283.53)\">10</text></g><g class=\"ytick\"><text text-anchor=\"end\" x=\"71.6\" y=\"4.199999999999999\" style=\"font-family: 'Open Sans', verdana, arial, sans-serif; font-size: 12px; fill: rgb(51, 51, 51); fill-opacity: 1; white-space: pre; opacity: 1;\" transform=\"translate(0,222.35)\">12</text></g><g class=\"ytick\"><text text-anchor=\"end\" x=\"71.6\" y=\"4.199999999999999\" style=\"font-family: 'Open Sans', verdana, arial, sans-serif; font-size: 12px; fill: rgb(51, 51, 51); fill-opacity: 1; white-space: pre; opacity: 1;\" transform=\"translate(0,161.18)\">14</text></g><g class=\"ytick\"><text text-anchor=\"end\" x=\"71.6\" y=\"4.199999999999999\" style=\"font-family: 'Open Sans', verdana, arial, sans-serif; font-size: 12px; fill: rgb(51, 51, 51); fill-opacity: 1; white-space: pre; opacity: 1;\" transform=\"translate(0,100)\">16</text></g></g><g class=\"overaxes-above\"/></g></g><g class=\"polarlayer\"/><g class=\"smithlayer\"/><g class=\"ternarylayer\"/><g class=\"geolayer\"/><g class=\"funnelarealayer\"/><g class=\"pielayer\"/><g class=\"iciclelayer\"/><g class=\"treemaplayer\"/><g class=\"sunburstlayer\"/><g class=\"glimages\"/><defs id=\"topdefs-3cdf16\"><g class=\"clips\"/><clipPath id=\"legend3cdf16\"><rect width=\"128\" height=\"67\" x=\"0\" y=\"0\"/></clipPath></defs><g class=\"layer-above\"><g class=\"imagelayer\"/><g class=\"shapelayer\"/></g><g class=\"infolayer\"><g class=\"legend\" pointer-events=\"all\" transform=\"translate(760.34,100)\"><rect class=\"bg\" shape-rendering=\"crispEdges\" width=\"128\" height=\"67\" x=\"0\" y=\"0\" style=\"stroke: rgb(68, 68, 68); stroke-opacity: 1; fill: rgb(255, 255, 255); fill-opacity: 1; stroke-width: 0px;\"/><g class=\"scrollbox\" transform=\"\" clip-path=\"url(#legend3cdf16)\"><text class=\"legendtitletext\" text-anchor=\"start\" x=\"2\" y=\"18.2\" style=\"font-family: 'Open Sans', verdana, arial, sans-serif; font-size: 14px; fill: rgb(51, 51, 51); fill-opacity: 1; white-space: pre;\">Type of Change</text><g class=\"groups\" transform=\"\"><g class=\"traces\" transform=\"translate(0,32.7)\" style=\"opacity: 1;\"><text class=\"legendtext\" text-anchor=\"start\" x=\"40\" y=\"4.680000000000001\" style=\"font-family: 'Open Sans', verdana, arial, sans-serif; font-size: 12px; fill: rgb(51, 51, 51); fill-opacity: 1; white-space: pre;\">Breaking</text><g class=\"layers\" style=\"opacity: 1;\"><g class=\"legendfill\"/><g class=\"legendlines\"><path class=\"js-line\" d=\"M5,0h30\" style=\"fill: none; stroke: rgb(248, 118, 109); stroke-opacity: 1; stroke-width: 2px;\"/></g><g class=\"legendsymbols\"><g class=\"legendpoints\"><path class=\"scatterpts\" transform=\"translate(20,0)\" d=\"M3,0A3,3 0 1,1 0,-3A3,3 0 0,1 3,0Z\" style=\"opacity: 1; stroke-width: 0px; fill: rgb(248, 118, 109); fill-opacity: 1;\"/></g></g></g><rect class=\"legendtoggle\" x=\"0\" y=\"-9.5\" width=\"122.484375\" height=\"19\" style=\"fill: rgb(0, 0, 0); fill-opacity: 0;\"/></g></g><g class=\"groups\" transform=\"\"><g class=\"traces\" transform=\"translate(0,51.7)\" style=\"opacity: 1;\"><text class=\"legendtext\" text-anchor=\"start\" x=\"40\" y=\"4.680000000000001\" style=\"font-family: 'Open Sans', verdana, arial, sans-serif; font-size: 12px; fill: rgb(51, 51, 51); fill-opacity: 1; white-space: pre;\">Non-Breaking</text><g class=\"layers\" style=\"opacity: 1;\"><g class=\"legendfill\"/><g class=\"legendlines\"><path class=\"js-line\" d=\"M5,0h30\" style=\"fill: none; stroke: rgb(163, 165, 0); stroke-opacity: 1; stroke-dasharray: 3px, 3px; stroke-width: 2px;\"/></g><g class=\"legendsymbols\"><g class=\"legendpoints\"><path class=\"scatterpts\" transform=\"translate(20,0)\" d=\"M3,0A3,3 0 1,1 0,-3A3,3 0 0,1 3,0Z\" style=\"opacity: 1; stroke-width: 0px; fill: rgb(163, 165, 0); fill-opacity: 1;\"/></g></g></g><rect class=\"legendtoggle\" x=\"0\" y=\"-9.5\" width=\"122.484375\" height=\"19\" style=\"fill: rgb(0, 0, 0); fill-opacity: 0;\"/></g></g></g><rect class=\"scrollbar\" rx=\"20\" ry=\"3\" width=\"0\" height=\"0\" x=\"0\" y=\"0\" style=\"fill: rgb(128, 139, 164); fill-opacity: 1;\"/></g><g class=\"g-gtitle\"><text class=\"gtitle\" x=\"450\" y=\"50\" text-anchor=\"middle\" dy=\"0em\" style=\"font-family: 'Open Sans', verdana, arial, sans-serif; font-size: 17px; fill: rgb(51, 51, 51); opacity: 1; font-weight: normal; white-space: pre;\">Evolution of Breaking and Non-Breaking Changes Over Time for Legacy APIs</text></g><g class=\"g-xtitle\"><text class=\"xtitle\" x=\"413.5\" y=\"667.20625\" text-anchor=\"middle\" style=\"font-family: 'Open Sans', verdana, arial, sans-serif; font-size: 14px; fill: rgb(51, 51, 51); opacity: 1; font-weight: normal; white-space: pre;\">Year</text></g><g class=\"g-ytitle\"><text class=\"ytitle\" transform=\"rotate(-90,32.028125,360)\" x=\"32.028125\" y=\"360\" text-anchor=\"middle\" style=\"font-family: 'Open Sans', verdana, arial, sans-serif; font-size: 14px; fill: rgb(51, 51, 51); opacity: 1; font-weight: normal; white-space: pre;\">Number of Releases</text></g><g class=\"annotation\" data-index=\"0\" style=\"opacity: 1;\"><g class=\"annotation-text-g\" transform=\"rotate(0,413.5,90.5)\"><g class=\"cursor-pointer\" transform=\"translate(356,81)\"><rect class=\"bg\" x=\"0.5\" y=\"0.5\" width=\"115\" height=\"18\" style=\"stroke-width: 1px; stroke: rgb(0, 0, 0); stroke-opacity: 0; fill: rgb(0, 0, 0); fill-opacity: 0;\"/><text class=\"annotation-text\" text-anchor=\"middle\" x=\"58.125\" y=\"14\" style=\"font-family: 'Open Sans', verdana, arial, sans-serif; font-size: 12px; fill: rgb(51, 51, 51); fill-opacity: 1; white-space: pre;\">api_group=Legacy</text></g></g></g></g></svg>"
     },
     "metadata": {},
     "output_type": "display_data"
    }
   ],
   "source": [
    "import pandas as pd\n",
    "import plotly.express as px\n",
    "\n",
    "new['commit_date'] = pd.to_datetime(new['commit_date'])\n",
    "\n",
    "df_grouped = new.groupby([new['api_group'], new['commit_date'].dt.year, 'type_of_change'])['type_of_change'].count().reset_index(name='count')\n",
    "\n",
    "# Filter the dataframe to only include \"Mature\" and \"Other\" api_group values\n",
    "df_grouped = df_grouped[df_grouped['api_group'].isin(['Legacy'])]\n",
    "\n",
    "fig = px.line(df_grouped, x='commit_date', y='count', color='type_of_change', facet_col='api_group',\n",
    "              line_dash='type_of_change', labels={'commit_date': 'Year', 'count': 'Number of Releases'},\n",
    "              title='Evolution of Breaking and Non-Breaking Changes Over Time for Legacy APIs', template='ggplot2')\n",
    "\n",
    "fig.update_xaxes(showline=True, linewidth=1, linecolor='black', mirror=True)\n",
    "fig.update_yaxes(showline=True, linewidth=1, linecolor='black', mirror=True)\n",
    "fig.update_layout(width=900, height=700, xaxis_range=[2014, 2023], yaxis_range=[-1, 16], legend_title_text='Type of Change')\n",
    "fig.update_traces(mode='lines+markers')\n",
    "\n",
    "fig.show(\"svg\")\n"
   ]
  },
  {
   "cell_type": "code",
   "execution_count": 69,
   "metadata": {},
   "outputs": [],
   "source": [
    "df_grouped = new.groupby([new['api_group'], new['commit_date'].dt.year, 'type_of_change'])['type_of_change'].count().reset_index(name='count')"
   ]
  },
  {
   "cell_type": "code",
   "execution_count": 70,
   "metadata": {},
   "outputs": [
    {
     "data": {
      "text/html": [
       "<div>\n",
       "<style scoped>\n",
       "    .dataframe tbody tr th:only-of-type {\n",
       "        vertical-align: middle;\n",
       "    }\n",
       "\n",
       "    .dataframe tbody tr th {\n",
       "        vertical-align: top;\n",
       "    }\n",
       "\n",
       "    .dataframe thead th {\n",
       "        text-align: right;\n",
       "    }\n",
       "</style>\n",
       "<table border=\"1\" class=\"dataframe\">\n",
       "  <thead>\n",
       "    <tr style=\"text-align: right;\">\n",
       "      <th></th>\n",
       "      <th>api_group</th>\n",
       "      <th>commit_date</th>\n",
       "      <th>type_of_change</th>\n",
       "      <th>count</th>\n",
       "    </tr>\n",
       "  </thead>\n",
       "  <tbody>\n",
       "    <tr>\n",
       "      <th>0</th>\n",
       "      <td>Developing</td>\n",
       "      <td>2015</td>\n",
       "      <td>Breaking</td>\n",
       "      <td>2</td>\n",
       "    </tr>\n",
       "    <tr>\n",
       "      <th>1</th>\n",
       "      <td>Developing</td>\n",
       "      <td>2015</td>\n",
       "      <td>Non-Breaking</td>\n",
       "      <td>17</td>\n",
       "    </tr>\n",
       "    <tr>\n",
       "      <th>2</th>\n",
       "      <td>Developing</td>\n",
       "      <td>2016</td>\n",
       "      <td>Breaking</td>\n",
       "      <td>13</td>\n",
       "    </tr>\n",
       "    <tr>\n",
       "      <th>3</th>\n",
       "      <td>Developing</td>\n",
       "      <td>2016</td>\n",
       "      <td>Non-Breaking</td>\n",
       "      <td>70</td>\n",
       "    </tr>\n",
       "    <tr>\n",
       "      <th>4</th>\n",
       "      <td>Developing</td>\n",
       "      <td>2017</td>\n",
       "      <td>Breaking</td>\n",
       "      <td>9</td>\n",
       "    </tr>\n",
       "    <tr>\n",
       "      <th>...</th>\n",
       "      <td>...</td>\n",
       "      <td>...</td>\n",
       "      <td>...</td>\n",
       "      <td>...</td>\n",
       "    </tr>\n",
       "    <tr>\n",
       "      <th>70</th>\n",
       "      <td>Other</td>\n",
       "      <td>2020</td>\n",
       "      <td>Non-Breaking</td>\n",
       "      <td>293</td>\n",
       "    </tr>\n",
       "    <tr>\n",
       "      <th>71</th>\n",
       "      <td>Other</td>\n",
       "      <td>2021</td>\n",
       "      <td>Breaking</td>\n",
       "      <td>42</td>\n",
       "    </tr>\n",
       "    <tr>\n",
       "      <th>72</th>\n",
       "      <td>Other</td>\n",
       "      <td>2021</td>\n",
       "      <td>Non-Breaking</td>\n",
       "      <td>235</td>\n",
       "    </tr>\n",
       "    <tr>\n",
       "      <th>73</th>\n",
       "      <td>Other</td>\n",
       "      <td>2022</td>\n",
       "      <td>Breaking</td>\n",
       "      <td>9</td>\n",
       "    </tr>\n",
       "    <tr>\n",
       "      <th>74</th>\n",
       "      <td>Other</td>\n",
       "      <td>2022</td>\n",
       "      <td>Non-Breaking</td>\n",
       "      <td>64</td>\n",
       "    </tr>\n",
       "  </tbody>\n",
       "</table>\n",
       "<p>75 rows × 4 columns</p>\n",
       "</div>"
      ],
      "text/plain": [
       "     api_group  commit_date type_of_change  count\n",
       "0   Developing         2015       Breaking      2\n",
       "1   Developing         2015   Non-Breaking     17\n",
       "2   Developing         2016       Breaking     13\n",
       "3   Developing         2016   Non-Breaking     70\n",
       "4   Developing         2017       Breaking      9\n",
       "..         ...          ...            ...    ...\n",
       "70       Other         2020   Non-Breaking    293\n",
       "71       Other         2021       Breaking     42\n",
       "72       Other         2021   Non-Breaking    235\n",
       "73       Other         2022       Breaking      9\n",
       "74       Other         2022   Non-Breaking     64\n",
       "\n",
       "[75 rows x 4 columns]"
      ]
     },
     "execution_count": 70,
     "metadata": {},
     "output_type": "execute_result"
    }
   ],
   "source": [
    "df_grouped"
   ]
  },
  {
   "cell_type": "code",
   "execution_count": 71,
   "metadata": {},
   "outputs": [],
   "source": [
    "df_new = df_grouped.sort_values(\n",
    "    [\"api_group\",\n",
    "     \"type_of_change\",\n",
    "     \"commit_date\"])\\\n",
    "    .reset_index(drop=True)"
   ]
  },
  {
   "cell_type": "code",
   "execution_count": 72,
   "metadata": {},
   "outputs": [
    {
     "data": {
      "text/html": [
       "<div>\n",
       "<style scoped>\n",
       "    .dataframe tbody tr th:only-of-type {\n",
       "        vertical-align: middle;\n",
       "    }\n",
       "\n",
       "    .dataframe tbody tr th {\n",
       "        vertical-align: top;\n",
       "    }\n",
       "\n",
       "    .dataframe thead th {\n",
       "        text-align: right;\n",
       "    }\n",
       "</style>\n",
       "<table border=\"1\" class=\"dataframe\">\n",
       "  <thead>\n",
       "    <tr style=\"text-align: right;\">\n",
       "      <th></th>\n",
       "      <th>api_group</th>\n",
       "      <th>commit_date</th>\n",
       "      <th>type_of_change</th>\n",
       "      <th>count</th>\n",
       "    </tr>\n",
       "  </thead>\n",
       "  <tbody>\n",
       "    <tr>\n",
       "      <th>0</th>\n",
       "      <td>Developing</td>\n",
       "      <td>2015</td>\n",
       "      <td>Breaking</td>\n",
       "      <td>2</td>\n",
       "    </tr>\n",
       "    <tr>\n",
       "      <th>1</th>\n",
       "      <td>Developing</td>\n",
       "      <td>2016</td>\n",
       "      <td>Breaking</td>\n",
       "      <td>13</td>\n",
       "    </tr>\n",
       "    <tr>\n",
       "      <th>2</th>\n",
       "      <td>Developing</td>\n",
       "      <td>2017</td>\n",
       "      <td>Breaking</td>\n",
       "      <td>9</td>\n",
       "    </tr>\n",
       "    <tr>\n",
       "      <th>3</th>\n",
       "      <td>Developing</td>\n",
       "      <td>2018</td>\n",
       "      <td>Breaking</td>\n",
       "      <td>5</td>\n",
       "    </tr>\n",
       "    <tr>\n",
       "      <th>4</th>\n",
       "      <td>Developing</td>\n",
       "      <td>2019</td>\n",
       "      <td>Breaking</td>\n",
       "      <td>3</td>\n",
       "    </tr>\n",
       "    <tr>\n",
       "      <th>...</th>\n",
       "      <td>...</td>\n",
       "      <td>...</td>\n",
       "      <td>...</td>\n",
       "      <td>...</td>\n",
       "    </tr>\n",
       "    <tr>\n",
       "      <th>70</th>\n",
       "      <td>Other</td>\n",
       "      <td>2018</td>\n",
       "      <td>Non-Breaking</td>\n",
       "      <td>94</td>\n",
       "    </tr>\n",
       "    <tr>\n",
       "      <th>71</th>\n",
       "      <td>Other</td>\n",
       "      <td>2019</td>\n",
       "      <td>Non-Breaking</td>\n",
       "      <td>148</td>\n",
       "    </tr>\n",
       "    <tr>\n",
       "      <th>72</th>\n",
       "      <td>Other</td>\n",
       "      <td>2020</td>\n",
       "      <td>Non-Breaking</td>\n",
       "      <td>293</td>\n",
       "    </tr>\n",
       "    <tr>\n",
       "      <th>73</th>\n",
       "      <td>Other</td>\n",
       "      <td>2021</td>\n",
       "      <td>Non-Breaking</td>\n",
       "      <td>235</td>\n",
       "    </tr>\n",
       "    <tr>\n",
       "      <th>74</th>\n",
       "      <td>Other</td>\n",
       "      <td>2022</td>\n",
       "      <td>Non-Breaking</td>\n",
       "      <td>64</td>\n",
       "    </tr>\n",
       "  </tbody>\n",
       "</table>\n",
       "<p>75 rows × 4 columns</p>\n",
       "</div>"
      ],
      "text/plain": [
       "     api_group  commit_date type_of_change  count\n",
       "0   Developing         2015       Breaking      2\n",
       "1   Developing         2016       Breaking     13\n",
       "2   Developing         2017       Breaking      9\n",
       "3   Developing         2018       Breaking      5\n",
       "4   Developing         2019       Breaking      3\n",
       "..         ...          ...            ...    ...\n",
       "70       Other         2018   Non-Breaking     94\n",
       "71       Other         2019   Non-Breaking    148\n",
       "72       Other         2020   Non-Breaking    293\n",
       "73       Other         2021   Non-Breaking    235\n",
       "74       Other         2022   Non-Breaking     64\n",
       "\n",
       "[75 rows x 4 columns]"
      ]
     },
     "execution_count": 72,
     "metadata": {},
     "output_type": "execute_result"
    }
   ],
   "source": [
    "df_new"
   ]
  },
  {
   "cell_type": "code",
   "execution_count": 73,
   "metadata": {},
   "outputs": [],
   "source": [
    "df_grouped_nb = df_grouped[df_grouped['type_of_change'] == 'Non-Breaking']\n",
    "df_grouped_b = df_grouped[df_grouped['type_of_change'] == 'Breaking']"
   ]
  },
  {
   "cell_type": "markdown",
   "metadata": {},
   "source": [
    "new['commit_date'] = pd.to_datetime(new['commit_date'])\n",
    "\n",
    "df_grouped = new.groupby([new['api_group'], new['commit_date'].dt.year, 'type_of_change'])['type_of_change'].count().reset_index(name='count')\n",
    "for api_group in df_grouped['api_group'].unique():\n",
    "    breaking_pivot = df_grouped[df_grouped['api_group'] == api_group].pivot_table(index='commit_date', columns='type_of_change', values='count', fill_value=0)\n",
    "    print(breaking_pivot)"
   ]
  },
  {
   "cell_type": "code",
   "execution_count": 74,
   "metadata": {},
   "outputs": [
    {
     "name": "stdout",
     "output_type": "stream",
     "text": [
      "Developing\n",
      "type_of_change  Breaking  Non-Breaking\n",
      "commit_date                           \n",
      "2015                   2            17\n",
      "2016                  13            70\n",
      "2017                   9            79\n",
      "2018                   5            47\n",
      "2019                   3            75\n",
      "2020                  17           162\n",
      "2021                  16           138\n",
      "2022                   2            29\n",
      "Early\n",
      "type_of_change  Breaking  Non-Breaking\n",
      "commit_date                           \n",
      "2015                 222          1332\n",
      "2016                 711          3707\n",
      "2017                1295          6908\n",
      "2018                1141          6035\n",
      "2019                1793          9840\n",
      "2020                2967         15097\n",
      "2021                2266         12412\n",
      "2022                 959          5000\n",
      "Legacy\n",
      "type_of_change  Breaking  Non-Breaking\n",
      "commit_date                           \n",
      "2016                   1             2\n",
      "2017                   0             4\n",
      "2018                   2             5\n",
      "2019                   1             6\n",
      "2020                   2            13\n",
      "2021                   0            12\n",
      "2022                   0             3\n",
      "Mature\n",
      "type_of_change  Breaking  Non-Breaking\n",
      "commit_date                           \n",
      "2015                   1            12\n",
      "2016                  11            96\n",
      "2017                  20            79\n",
      "2018                  10            71\n",
      "2019                  15           112\n",
      "2020                  18           213\n",
      "2021                  23           199\n",
      "2022                   2            30\n",
      "Other\n",
      "type_of_change  Breaking  Non-Breaking\n",
      "commit_date                           \n",
      "2015                   1            23\n",
      "2016                  14           102\n",
      "2017                  21           124\n",
      "2018                  18            94\n",
      "2019                  21           148\n",
      "2020                  34           293\n",
      "2021                  42           235\n",
      "2022                   9            64\n"
     ]
    }
   ],
   "source": [
    "new['commit_date'] = pd.to_datetime(new['commit_date'])\n",
    "\n",
    "df_grouped = new.groupby([new['api_group'], new['commit_date'].dt.year, 'type_of_change'])['type_of_change'].count().reset_index(name='count')\n",
    "\n",
    "# Create an empty dictionary to store the pivot tables for each group\n",
    "pivot_tables = {}\n",
    "\n",
    "# Iterate over the unique api groups in the DataFrame\n",
    "for api_group in df_grouped['api_group'].unique():\n",
    "    \n",
    "    # Filter the DataFrame for the current api_group\n",
    "    group_data = df_grouped[df_grouped['api_group'] == api_group]\n",
    "    \n",
    "    # Generate the pivot table for the current group\n",
    "    breaking_pivot = group_data.pivot_table(index='commit_date', columns='type_of_change', values='count', fill_value=0)\n",
    "    \n",
    "    # Store the pivot table in the dictionary with the api_group name as the key\n",
    "    pivot_tables[api_group] = breaking_pivot\n",
    "\n",
    "for api_group, pivot_table in pivot_tables.items():\n",
    "    print(api_group)\n",
    "    print(pivot_table)\n"
   ]
  },
  {
   "cell_type": "code",
   "execution_count": 75,
   "metadata": {},
   "outputs": [],
   "source": [
    "top_content = new[\"content\"].value_counts().nlargest(17).reset_index()\n",
    "top_content_dropped = top_content.drop([0, 7])\n",
    "df5 = pd. DataFrame(top_content_dropped)"
   ]
  },
  {
   "cell_type": "code",
   "execution_count": 78,
   "metadata": {},
   "outputs": [
    {
     "data": {
      "text/html": [
       "<div>\n",
       "<style scoped>\n",
       "    .dataframe tbody tr th:only-of-type {\n",
       "        vertical-align: middle;\n",
       "    }\n",
       "\n",
       "    .dataframe tbody tr th {\n",
       "        vertical-align: top;\n",
       "    }\n",
       "\n",
       "    .dataframe thead th {\n",
       "        text-align: right;\n",
       "    }\n",
       "</style>\n",
       "<table border=\"1\" class=\"dataframe\">\n",
       "  <thead>\n",
       "    <tr style=\"text-align: right;\">\n",
       "      <th></th>\n",
       "      <th>content</th>\n",
       "      <th>count</th>\n",
       "    </tr>\n",
       "  </thead>\n",
       "  <tbody>\n",
       "    <tr>\n",
       "      <th>1</th>\n",
       "      <td>api-path-removed-without-deprecation</td>\n",
       "      <td>4236</td>\n",
       "    </tr>\n",
       "    <tr>\n",
       "      <th>2</th>\n",
       "      <td>request-parameter-removed</td>\n",
       "      <td>2024</td>\n",
       "    </tr>\n",
       "    <tr>\n",
       "      <th>3</th>\n",
       "      <td>request-property-removed</td>\n",
       "      <td>622</td>\n",
       "    </tr>\n",
       "    <tr>\n",
       "      <th>4</th>\n",
       "      <td>api-removed-without-deprecation</td>\n",
       "      <td>524</td>\n",
       "    </tr>\n",
       "    <tr>\n",
       "      <th>5</th>\n",
       "      <td>new-required-request-parameter</td>\n",
       "      <td>502</td>\n",
       "    </tr>\n",
       "    <tr>\n",
       "      <th>6</th>\n",
       "      <td>new-required-request-property</td>\n",
       "      <td>420</td>\n",
       "    </tr>\n",
       "    <tr>\n",
       "      <th>8</th>\n",
       "      <td>response-success-status-removed</td>\n",
       "      <td>367</td>\n",
       "    </tr>\n",
       "    <tr>\n",
       "      <th>9</th>\n",
       "      <td>request-parameter-became-required</td>\n",
       "      <td>351</td>\n",
       "    </tr>\n",
       "    <tr>\n",
       "      <th>10</th>\n",
       "      <td>response-body-type-changed</td>\n",
       "      <td>229</td>\n",
       "    </tr>\n",
       "    <tr>\n",
       "      <th>11</th>\n",
       "      <td>response-property-type-changed</td>\n",
       "      <td>224</td>\n",
       "    </tr>\n",
       "    <tr>\n",
       "      <th>12</th>\n",
       "      <td>response-property-enum-value-added</td>\n",
       "      <td>224</td>\n",
       "    </tr>\n",
       "    <tr>\n",
       "      <th>13</th>\n",
       "      <td>response-media-type-removed</td>\n",
       "      <td>212</td>\n",
       "    </tr>\n",
       "    <tr>\n",
       "      <th>14</th>\n",
       "      <td>request-parameter-type-changed</td>\n",
       "      <td>207</td>\n",
       "    </tr>\n",
       "    <tr>\n",
       "      <th>15</th>\n",
       "      <td>request-property-became-required</td>\n",
       "      <td>162</td>\n",
       "    </tr>\n",
       "    <tr>\n",
       "      <th>16</th>\n",
       "      <td>request-property-type-changed</td>\n",
       "      <td>161</td>\n",
       "    </tr>\n",
       "  </tbody>\n",
       "</table>\n",
       "</div>"
      ],
      "text/plain": [
       "                                 content  count\n",
       "1   api-path-removed-without-deprecation   4236\n",
       "2              request-parameter-removed   2024\n",
       "3               request-property-removed    622\n",
       "4        api-removed-without-deprecation    524\n",
       "5         new-required-request-parameter    502\n",
       "6          new-required-request-property    420\n",
       "8        response-success-status-removed    367\n",
       "9      request-parameter-became-required    351\n",
       "10            response-body-type-changed    229\n",
       "11        response-property-type-changed    224\n",
       "12    response-property-enum-value-added    224\n",
       "13           response-media-type-removed    212\n",
       "14        request-parameter-type-changed    207\n",
       "15      request-property-became-required    162\n",
       "16         request-property-type-changed    161"
      ]
     },
     "execution_count": 78,
     "metadata": {},
     "output_type": "execute_result"
    }
   ],
   "source": [
    "df5"
   ]
  },
  {
   "cell_type": "markdown",
   "metadata": {},
   "source": [
    "## Different Types of Breaking Changes"
   ]
  },
  {
   "cell_type": "code",
   "execution_count": 79,
   "metadata": {},
   "outputs": [
    {
     "data": {
      "image/svg+xml": "<svg class=\"main-svg\" xmlns=\"http://www.w3.org/2000/svg\" xmlns:xlink=\"http://www.w3.org/1999/xlink\" width=\"1500\" height=\"800\" style=\"\" viewBox=\"0 0 1500 800\"><rect x=\"0\" y=\"0\" width=\"1500\" height=\"800\" style=\"fill: rgb(233, 233, 233); fill-opacity: 1;\"/><defs id=\"defs-b82a6d\"><g class=\"clips\"/><g class=\"gradients\"/><g class=\"patterns\"/></defs><g class=\"bglayer\"/><g class=\"layer-below\"><g class=\"imagelayer\"/><g class=\"shapelayer\"/></g><g class=\"cartesianlayer\"/><g class=\"polarlayer\"/><g class=\"smithlayer\"/><g class=\"ternarylayer\"/><g class=\"geolayer\"/><g class=\"funnelarealayer\"/><g class=\"pielayer\"/><g class=\"iciclelayer\"/><g class=\"treemaplayer\"><g class=\"trace treemap\" style=\"opacity: 1;\"><g class=\"slice cursor-pointer\"><path class=\"surface\" d=\"M35,50L1475,50L1475,775L35,775Z\" style=\"pointer-events: none; stroke-width: 0; fill: rgb(0, 0, 0); fill-opacity: 0; stroke: rgb(0, 0, 0); stroke-opacity: 0; opacity: 100;\"/><g class=\"slicetext\"><text data-notex=\"1\" class=\"slicetext\" text-anchor=\"start\" x=\"0\" y=\"0\" style=\"font-family: serif; font-size: 20px; fill: rgb(51, 51, 51); fill-opacity: 1; white-space: pre;\" transform=\"translate(45,71)\"> </text></g></g><g class=\"slice cursor-pointer\"><path class=\"surface\" d=\"M45,90L617.9988533205925,90L617.9988533205925,765L45,765Z\" style=\"pointer-events: none; stroke-width: 1; fill: rgb(102, 197, 204); fill-opacity: 1; stroke: rgb(233, 233, 233); stroke-opacity: 1; opacity: 1;\"/><g class=\"slicetext\"><text data-notex=\"1\" class=\"slicetext\" text-anchor=\"start\" x=\"0\" y=\"0\" style=\"font-family: serif; font-size: 20px; fill: rgb(68, 68, 68); fill-opacity: 1; white-space: pre;\" transform=\"translate(48,111)\"><tspan class=\"line\" dy=\"0em\" x=\"0\" y=\"0\">api-path-removed-without-deprecation</tspan><tspan class=\"line\" dy=\"1.3em\" x=\"0\" y=\"0\">4236</tspan></text></g></g><g class=\"slice cursor-pointer\"><path class=\"surface\" d=\"M620.9988533205925,90L977.7941710463449,90L977.7941710463449,605.6213151927439L620.9988533205925,605.6213151927439Z\" style=\"pointer-events: none; stroke-width: 1; fill: rgb(220, 176, 242); fill-opacity: 1; stroke: rgb(233, 233, 233); stroke-opacity: 1; opacity: 1;\"/><g class=\"slicetext\"><text data-notex=\"1\" class=\"slicetext\" text-anchor=\"start\" x=\"0\" y=\"0\" style=\"font-family: serif; font-size: 20px; fill: rgb(68, 68, 68); fill-opacity: 1; white-space: pre;\" transform=\"translate(623.9988533205925,111)\"><tspan class=\"line\" dy=\"0em\" x=\"0\" y=\"0\">request-parameter-removed</tspan><tspan class=\"line\" dy=\"1.3em\" x=\"0\" y=\"0\">2024</tspan></text></g></g><g class=\"slice cursor-pointer\"><path class=\"surface\" d=\"M620.9988533205925,608.6213151927439L977.7941710463449,608.6213151927439L977.7941710463449,765.0000000000001L620.9988533205925,765.0000000000001Z\" style=\"pointer-events: none; stroke-width: 1; fill: rgb(179, 179, 179); fill-opacity: 1; stroke: rgb(233, 233, 233); stroke-opacity: 1; opacity: 1;\"/><g class=\"slicetext\"><text data-notex=\"1\" class=\"slicetext\" text-anchor=\"start\" x=\"0\" y=\"0\" style=\"font-family: serif; font-size: 20px; fill: rgb(68, 68, 68); fill-opacity: 1; white-space: pre;\" transform=\"translate(623.9988533205925,629.6213151927439)\"><tspan class=\"line\" dy=\"0em\" x=\"0\" y=\"0\">request-property-removed</tspan><tspan class=\"line\" dy=\"1.3em\" x=\"0\" y=\"0\">622</tspan></text></g></g><g class=\"slice cursor-pointer\"><path class=\"surface\" d=\"M980.7941710463449,90L1226.6205398296931,90L1226.6205398296931,281.14680435389334L980.7941710463449,281.14680435389334Z\" style=\"pointer-events: none; stroke-width: 1; fill: rgb(158, 185, 243); fill-opacity: 1; stroke: rgb(233, 233, 233); stroke-opacity: 1; opacity: 1;\"/><g class=\"slicetext\"><text data-notex=\"1\" class=\"slicetext\" text-anchor=\"start\" x=\"0\" y=\"0\" style=\"font-family: serif; font-size: 20px; fill: rgb(68, 68, 68); fill-opacity: 1; white-space: pre;\" transform=\"translate(983.7941710463449,109.06092180202401)scale(0.8922734334457788)\"><tspan class=\"line\" dy=\"0em\" x=\"0\" y=\"0\">api-removed-without-deprecation</tspan><tspan class=\"line\" dy=\"1.3em\" x=\"0\" y=\"0\">524</tspan></text></g></g><g class=\"slice cursor-pointer\"><path class=\"surface\" d=\"M1229.6205398296931,90L1465,90L1465,281.14680435389334L1229.6205398296931,281.14680435389334Z\" style=\"pointer-events: none; stroke-width: 1; fill: rgb(139, 224, 164); fill-opacity: 1; stroke: rgb(233, 233, 233); stroke-opacity: 1; opacity: 1;\"/><g class=\"slicetext\"><text data-notex=\"1\" class=\"slicetext\" text-anchor=\"start\" x=\"0\" y=\"0\" style=\"font-family: serif; font-size: 20px; fill: rgb(68, 68, 68); fill-opacity: 1; white-space: pre;\" transform=\"translate(1232.6205398296931,109.01776917719546)scale(0.8898760653997477)\"><tspan class=\"line\" dy=\"0em\" x=\"0\" y=\"0\">new-required-request-parameter</tspan><tspan class=\"line\" dy=\"1.3em\" x=\"0\" y=\"0\">502</tspan></text></g></g><g class=\"slice cursor-pointer\"><path class=\"surface\" d=\"M980.7941710463449,284.14680435389334L1194.6264875693248,284.14680435389334L1194.6264875693248,459.7217974746006L980.7941710463449,459.7217974746006Z\" style=\"pointer-events: none; stroke-width: 1; fill: rgb(246, 207, 113); fill-opacity: 1; stroke: rgb(233, 233, 233); stroke-opacity: 1; opacity: 1;\"/><g class=\"slicetext\"><text data-notex=\"1\" class=\"slicetext\" text-anchor=\"start\" x=\"0\" y=\"0\" style=\"font-family: serif; font-size: 20px; fill: rgb(68, 68, 68); fill-opacity: 1; white-space: pre;\" transform=\"translate(983.7941710463449,302.38792909986523)scale(0.8467291525539954)\"><tspan class=\"line\" dy=\"0em\" x=\"0\" y=\"0\">new-required-request-property</tspan><tspan class=\"line\" dy=\"1.3em\" x=\"0\" y=\"0\">420</tspan></text></g></g><g class=\"slice cursor-pointer\"><path class=\"surface\" d=\"M980.7941710463449,462.7217974746006L1194.6264875693248,462.7217974746006L1194.6264875693248,615.7623271776947L980.7941710463449,615.7623271776947Z\" style=\"pointer-events: none; stroke-width: 1; fill: rgb(180, 151, 231); fill-opacity: 1; stroke: rgb(233, 233, 233); stroke-opacity: 1; opacity: 1;\"/><g class=\"slicetext\"><text data-notex=\"1\" class=\"slicetext\" text-anchor=\"start\" x=\"0\" y=\"0\" style=\"font-family: serif; font-size: 20px; fill: rgb(68, 68, 68); fill-opacity: 1; white-space: pre;\" transform=\"translate(983.7941710463449,479.8104657477836)scale(0.7827037929546142)\"><tspan class=\"line\" dy=\"0em\" x=\"0\" y=\"0\">response-success-status-removed</tspan><tspan class=\"line\" dy=\"1.3em\" x=\"0\" y=\"0\">367</tspan></text></g></g><g class=\"slice cursor-pointer\"><path class=\"surface\" d=\"M980.7941710463449,618.7623271776947L1194.6264875693248,618.7623271776947L1194.6264875693248,765L980.7941710463449,765Z\" style=\"pointer-events: none; stroke-width: 1; fill: rgb(248, 156, 116); fill-opacity: 1; stroke: rgb(233, 233, 233); stroke-opacity: 1; opacity: 1;\"/><g class=\"slicetext\"><text data-notex=\"1\" class=\"slicetext\" text-anchor=\"start\" x=\"0\" y=\"0\" style=\"font-family: serif; font-size: 20px; fill: rgb(68, 68, 68); fill-opacity: 1; white-space: pre;\" transform=\"translate(983.7941710463449,634.8691771604216)scale(0.7281583323737184)\"><tspan class=\"line\" dy=\"0em\" x=\"0\" y=\"0\">request-parameter-became-required</tspan><tspan class=\"line\" dy=\"1.3em\" x=\"0\" y=\"0\">351</tspan></text></g></g><g class=\"slice cursor-pointer\"><path class=\"surface\" d=\"M1197.6264875693248,284.14680435389334L1331.305371336708,284.14680435389334L1331.305371336708,435.61156660032486L1197.6264875693248,435.61156660032486Z\" style=\"pointer-events: none; stroke-width: 1; fill: rgb(246, 207, 113); fill-opacity: 1; stroke: rgb(233, 233, 233); stroke-opacity: 1; opacity: 1;\"/><g class=\"slicetext\"><text data-notex=\"1\" class=\"slicetext\" text-anchor=\"start\" x=\"0\" y=\"0\" style=\"font-family: serif; font-size: 20px; fill: rgb(68, 68, 68); fill-opacity: 1; white-space: pre;\" transform=\"translate(1200.6264875693248,297.0924446338329)scale(0.5525355711077509)\"><tspan class=\"line\" dy=\"0em\" x=\"0\" y=\"0\">response-body-type-changed</tspan><tspan class=\"line\" dy=\"1.3em\" x=\"0\" y=\"0\">229</tspan></text></g></g><g class=\"slice cursor-pointer\"><path class=\"surface\" d=\"M1334.305371336708,284.14680435389334L1465,284.14680435389334L1465,435.61156660032486L1334.305371336708,435.61156660032486Z\" style=\"pointer-events: none; stroke-width: 1; fill: rgb(254, 136, 177); fill-opacity: 1; stroke: rgb(233, 233, 233); stroke-opacity: 1; opacity: 1;\"/><g class=\"slicetext\"><text data-notex=\"1\" class=\"slicetext\" text-anchor=\"start\" x=\"0\" y=\"0\" style=\"font-family: serif; font-size: 20px; fill: rgb(68, 68, 68); fill-opacity: 1; white-space: pre;\" transform=\"translate(1337.305371336708,294.6304309347796)scale(0.41575703227146055)\"><tspan class=\"line\" dy=\"0em\" x=\"0\" y=\"0\">response-property-enum-value-added</tspan><tspan class=\"line\" dy=\"1.3em\" x=\"0\" y=\"0\">224</tspan></text></g></g><g class=\"slice cursor-pointer\"><path class=\"surface\" d=\"M1197.6264875693248,438.61156660032486L1333.533980194259,438.61156660032486L1333.533980194259,584.2796379898263L1197.6264875693248,584.2796379898263Z\" style=\"pointer-events: none; stroke-width: 1; fill: rgb(201, 219, 116); fill-opacity: 1; stroke: rgb(233, 233, 233); stroke-opacity: 1; opacity: 1;\"/><g class=\"slicetext\"><text data-notex=\"1\" class=\"slicetext\" text-anchor=\"start\" x=\"0\" y=\"0\" style=\"font-family: serif; font-size: 20px; fill: rgb(68, 68, 68); fill-opacity: 1; white-space: pre;\" transform=\"translate(1200.6264875693248,450.64588181335984)scale(0.5019064007241644)\"><tspan class=\"line\" dy=\"0em\" x=\"0\" y=\"0\">response-property-type-changed</tspan><tspan class=\"line\" dy=\"1.3em\" x=\"0\" y=\"0\">224</tspan></text></g></g><g class=\"slice cursor-pointer\"><path class=\"surface\" d=\"M1336.533980194259,438.61156660032486L1465,438.61156660032486L1465,584.2796379898263L1336.533980194259,584.2796379898263Z\" style=\"pointer-events: none; stroke-width: 1; fill: rgb(102, 197, 204); fill-opacity: 1; stroke: rgb(233, 233, 233); stroke-opacity: 1; opacity: 1;\"/><g class=\"slicetext\"><text data-notex=\"1\" class=\"slicetext\" text-anchor=\"start\" x=\"0\" y=\"0\" style=\"font-family: serif; font-size: 20px; fill: rgb(68, 68, 68); fill-opacity: 1; white-space: pre;\" transform=\"translate(1339.533980194259,450.6726362738132)scale(0.5033927596382421)\"><tspan class=\"line\" dy=\"0em\" x=\"0\" y=\"0\">response-media-type-removed</tspan><tspan class=\"line\" dy=\"1.3em\" x=\"0\" y=\"0\">212</tspan></text></g></g><g class=\"slice cursor-pointer\"><path class=\"surface\" d=\"M1197.6264875693248,587.2796379898263L1300.225199028098,587.2796379898263L1300.225199028098,765L1197.6264875693248,765Z\" style=\"pointer-events: none; stroke-width: 1; fill: rgb(220, 176, 242); fill-opacity: 1; stroke: rgb(233, 233, 233); stroke-opacity: 1; opacity: 1;\"/><g class=\"slicetext\"><text data-notex=\"1\" class=\"slicetext\" text-anchor=\"start\" x=\"0\" y=\"0\" style=\"font-family: serif; font-size: 20px; fill: rgb(68, 68, 68); fill-opacity: 1; white-space: pre;\" transform=\"translate(1200.6264875693248,596.9983311976091)scale(0.3732607337657114)\"><tspan class=\"line\" dy=\"0em\" x=\"0\" y=\"0\">request-parameter-type-changed</tspan><tspan class=\"line\" dy=\"1.3em\" x=\"0\" y=\"0\">207</tspan></text></g></g><g class=\"slice cursor-pointer\"><path class=\"surface\" d=\"M1303.225199028098,587.2796379898263L1465,587.2796379898263L1465,674.9195718772818L1303.225199028098,674.9195718772818Z\" style=\"pointer-events: none; stroke-width: 1; fill: rgb(135, 197, 95); fill-opacity: 1; stroke: rgb(233, 233, 233); stroke-opacity: 1; opacity: 1;\"/><g class=\"slicetext\"><text data-notex=\"1\" class=\"slicetext\" text-anchor=\"start\" x=\"0\" y=\"0\" style=\"font-family: serif; font-size: 20px; fill: rgb(68, 68, 68); fill-opacity: 1; white-space: pre;\" transform=\"translate(1306.225199028098,600.5416938438682)scale(0.5701142141134405)\"><tspan class=\"line\" dy=\"0em\" x=\"0\" y=\"0\">request-property-became-required</tspan><tspan class=\"line\" dy=\"1.3em\" x=\"0\" y=\"0\">162</tspan></text></g></g><g class=\"slice cursor-pointer\"><path class=\"surface\" d=\"M1303.225199028098,677.9195718772818L1465,677.9195718772818L1465,765L1303.225199028098,765Z\" style=\"pointer-events: none; stroke-width: 1; fill: rgb(248, 156, 116); fill-opacity: 1; stroke: rgb(233, 233, 233); stroke-opacity: 1; opacity: 1;\"/><g class=\"slicetext\"><text data-notex=\"1\" class=\"slicetext\" text-anchor=\"start\" x=\"0\" y=\"0\" style=\"font-family: serif; font-size: 20px; fill: rgb(68, 68, 68); fill-opacity: 1; white-space: pre;\" transform=\"translate(1306.225199028098,692.2895630525736)scale(0.6316661764051026)\"><tspan class=\"line\" dy=\"0em\" x=\"0\" y=\"0\">request-property-type-changed</tspan><tspan class=\"line\" dy=\"1.3em\" x=\"0\" y=\"0\">161</tspan></text></g></g></g></g><g class=\"sunburstlayer\"/><g class=\"glimages\"/><defs id=\"topdefs-b82a6d\"><g class=\"clips\"/></defs><g class=\"layer-above\"><g class=\"imagelayer\"/><g class=\"shapelayer\"/></g><g class=\"infolayer\"><g class=\"g-gtitle\"><text class=\"gtitle\" x=\"750\" y=\"25\" text-anchor=\"middle\" dy=\"0em\" style=\"font-family: serif; font-size: 28px; fill: rgb(51, 51, 51); opacity: 1; font-weight: normal; white-space: pre;\">Top 15 Types of Breaking Changes</text></g></g></svg>"
     },
     "metadata": {},
     "output_type": "display_data"
    }
   ],
   "source": [
    "import plotly.express as px\n",
    "import plotly.graph_objects as go\n",
    "import numpy as np\n",
    "\n",
    "\n",
    "fig = px.treemap(df5, path=['content'],values='count', color='content', color_discrete_sequence=px.colors.qualitative.Pastel, width = 1500,\n",
    "    height = 800, title='Top 15 Types of Breaking Changes')\n",
    "\n",
    "fig.update_traces(textinfo='label+value')\n",
    "fig.update_layout(margin = dict(t=50, l=35, r=25, b=25), template='ggplot2',font=dict(size=20, family='Serif'), paper_bgcolor='rgba(233,233,233,100)')\n",
    "fig.show(\"svg\")\n"
   ]
  },
  {
   "cell_type": "code",
   "execution_count": 80,
   "metadata": {},
   "outputs": [],
   "source": [
    "mongo=pd.read_csv('trial.csv', encoding='utf-8')"
   ]
  },
  {
   "cell_type": "code",
   "execution_count": 81,
   "metadata": {},
   "outputs": [],
   "source": [
    "mongo.drop(['Unnamed: 0', 'api_version','extracted_versions','commit_date','diff','diff_2'], axis=1, inplace=True)"
   ]
  },
  {
   "cell_type": "code",
   "execution_count": 82,
   "metadata": {},
   "outputs": [
    {
     "data": {
      "text/plain": [
       "api_spec_id\n",
       "True    74575\n",
       "Name: count, dtype: int64"
      ]
     },
     "execution_count": 82,
     "metadata": {},
     "output_type": "execute_result"
    }
   ],
   "source": [
    "new['api_spec_id'].isin(mongo['api_spec_id']).value_counts()"
   ]
  },
  {
   "cell_type": "code",
   "execution_count": 83,
   "metadata": {},
   "outputs": [],
   "source": [
    "final_new= pd.concat([new, mongo], join='inner', axis=1)"
   ]
  },
  {
   "cell_type": "code",
   "execution_count": 87,
   "metadata": {},
   "outputs": [
    {
     "data": {
      "text/html": [
       "<div>\n",
       "<style scoped>\n",
       "    .dataframe tbody tr th:only-of-type {\n",
       "        vertical-align: middle;\n",
       "    }\n",
       "\n",
       "    .dataframe tbody tr th {\n",
       "        vertical-align: top;\n",
       "    }\n",
       "\n",
       "    .dataframe thead th {\n",
       "        text-align: right;\n",
       "    }\n",
       "</style>\n",
       "<table border=\"1\" class=\"dataframe\">\n",
       "  <thead>\n",
       "    <tr style=\"text-align: right;\">\n",
       "      <th></th>\n",
       "      <th>components</th>\n",
       "      <th>count</th>\n",
       "    </tr>\n",
       "  </thead>\n",
       "  <tbody>\n",
       "    <tr>\n",
       "      <th>0</th>\n",
       "      <td>paths-modified,endpoints-modified</td>\n",
       "      <td>3639</td>\n",
       "    </tr>\n",
       "    <tr>\n",
       "      <th>1</th>\n",
       "      <td>paths-added,paths-deleted,endpoints-added,endp...</td>\n",
       "      <td>1581</td>\n",
       "    </tr>\n",
       "    <tr>\n",
       "      <th>2</th>\n",
       "      <td>paths-modified,paths-added,paths-deleted,endpo...</td>\n",
       "      <td>739</td>\n",
       "    </tr>\n",
       "    <tr>\n",
       "      <th>3</th>\n",
       "      <td>paths-deleted,endpoints-deleted</td>\n",
       "      <td>373</td>\n",
       "    </tr>\n",
       "    <tr>\n",
       "      <th>4</th>\n",
       "      <td>paths-modified,paths-added,endpoints-added,end...</td>\n",
       "      <td>362</td>\n",
       "    </tr>\n",
       "    <tr>\n",
       "      <th>5</th>\n",
       "      <td>paths-modified,endpoints-modified,components-s...</td>\n",
       "      <td>283</td>\n",
       "    </tr>\n",
       "    <tr>\n",
       "      <th>6</th>\n",
       "      <td>paths-modified,paths-deleted,endpoints-deleted...</td>\n",
       "      <td>256</td>\n",
       "    </tr>\n",
       "    <tr>\n",
       "      <th>8</th>\n",
       "      <td>info-version,paths-modified,endpoints-modified</td>\n",
       "      <td>159</td>\n",
       "    </tr>\n",
       "    <tr>\n",
       "      <th>9</th>\n",
       "      <td>paths-modified,endpoints-added,endpoints-deleted</td>\n",
       "      <td>151</td>\n",
       "    </tr>\n",
       "    <tr>\n",
       "      <th>10</th>\n",
       "      <td>paths-modified,paths-added,endpoints-added,end...</td>\n",
       "      <td>132</td>\n",
       "    </tr>\n",
       "    <tr>\n",
       "      <th>11</th>\n",
       "      <td>paths-modified,endpoints-added,endpoints-modified</td>\n",
       "      <td>127</td>\n",
       "    </tr>\n",
       "    <tr>\n",
       "      <th>12</th>\n",
       "      <td>paths-modified,endpoints-modified,components-s...</td>\n",
       "      <td>100</td>\n",
       "    </tr>\n",
       "    <tr>\n",
       "      <th>13</th>\n",
       "      <td>paths-modified,paths-added,endpoints-added,end...</td>\n",
       "      <td>88</td>\n",
       "    </tr>\n",
       "    <tr>\n",
       "      <th>14</th>\n",
       "      <td>paths-modified,paths-added,endpoints-added,end...</td>\n",
       "      <td>84</td>\n",
       "    </tr>\n",
       "    <tr>\n",
       "      <th>15</th>\n",
       "      <td>paths-modified,paths-added,paths-deleted,endpo...</td>\n",
       "      <td>73</td>\n",
       "    </tr>\n",
       "    <tr>\n",
       "      <th>16</th>\n",
       "      <td>paths-modified,paths-added,paths-deleted,endpo...</td>\n",
       "      <td>64</td>\n",
       "    </tr>\n",
       "    <tr>\n",
       "      <th>17</th>\n",
       "      <td>paths-modified,paths-added,paths-deleted,endpo...</td>\n",
       "      <td>62</td>\n",
       "    </tr>\n",
       "    <tr>\n",
       "      <th>18</th>\n",
       "      <td>paths-modified,paths-deleted,endpoints-added,e...</td>\n",
       "      <td>59</td>\n",
       "    </tr>\n",
       "    <tr>\n",
       "      <th>19</th>\n",
       "      <td>paths-modified,endpoints-modified,components-s...</td>\n",
       "      <td>59</td>\n",
       "    </tr>\n",
       "    <tr>\n",
       "      <th>20</th>\n",
       "      <td>info-title,info-description,info-termsOfServic...</td>\n",
       "      <td>55</td>\n",
       "    </tr>\n",
       "    <tr>\n",
       "      <th>21</th>\n",
       "      <td>paths-added,paths-deleted,endpoints-added,endp...</td>\n",
       "      <td>54</td>\n",
       "    </tr>\n",
       "    <tr>\n",
       "      <th>22</th>\n",
       "      <td>paths-modified,endpoints-added,endpoints-delet...</td>\n",
       "      <td>53</td>\n",
       "    </tr>\n",
       "    <tr>\n",
       "      <th>23</th>\n",
       "      <td>paths-added,paths-deleted,endpoints-added,endp...</td>\n",
       "      <td>52</td>\n",
       "    </tr>\n",
       "    <tr>\n",
       "      <th>24</th>\n",
       "      <td>info-title,info-description,paths-added,paths-...</td>\n",
       "      <td>52</td>\n",
       "    </tr>\n",
       "    <tr>\n",
       "      <th>25</th>\n",
       "      <td>paths-modified,paths-added,paths-deleted,endpo...</td>\n",
       "      <td>51</td>\n",
       "    </tr>\n",
       "    <tr>\n",
       "      <th>26</th>\n",
       "      <td>info-description,paths-modified,endpoints-modi...</td>\n",
       "      <td>47</td>\n",
       "    </tr>\n",
       "    <tr>\n",
       "      <th>27</th>\n",
       "      <td>paths-modified,paths-deleted,endpoints-deleted...</td>\n",
       "      <td>47</td>\n",
       "    </tr>\n",
       "    <tr>\n",
       "      <th>28</th>\n",
       "      <td>paths-modified,endpoints-deleted</td>\n",
       "      <td>47</td>\n",
       "    </tr>\n",
       "    <tr>\n",
       "      <th>29</th>\n",
       "      <td>paths-modified,endpoints-deleted,endpoints-mod...</td>\n",
       "      <td>45</td>\n",
       "    </tr>\n",
       "    <tr>\n",
       "      <th>30</th>\n",
       "      <td>paths-modified,paths-deleted,endpoints-added,e...</td>\n",
       "      <td>45</td>\n",
       "    </tr>\n",
       "    <tr>\n",
       "      <th>31</th>\n",
       "      <td>paths-modified,paths-deleted,endpoints-deleted...</td>\n",
       "      <td>38</td>\n",
       "    </tr>\n",
       "    <tr>\n",
       "      <th>32</th>\n",
       "      <td>info-version,paths-added,paths-deleted,endpoin...</td>\n",
       "      <td>38</td>\n",
       "    </tr>\n",
       "    <tr>\n",
       "      <th>33</th>\n",
       "      <td>paths-added,paths-deleted,endpoints-added,endp...</td>\n",
       "      <td>37</td>\n",
       "    </tr>\n",
       "    <tr>\n",
       "      <th>34</th>\n",
       "      <td>info-version,info-title,info-description,paths...</td>\n",
       "      <td>36</td>\n",
       "    </tr>\n",
       "    <tr>\n",
       "      <th>35</th>\n",
       "      <td>paths-added,paths-deleted,endpoints-added,endp...</td>\n",
       "      <td>34</td>\n",
       "    </tr>\n",
       "    <tr>\n",
       "      <th>36</th>\n",
       "      <td>paths-deleted,endpoints-deleted,components-sch...</td>\n",
       "      <td>34</td>\n",
       "    </tr>\n",
       "    <tr>\n",
       "      <th>37</th>\n",
       "      <td>info-description,paths-modified,paths-added,pa...</td>\n",
       "      <td>32</td>\n",
       "    </tr>\n",
       "    <tr>\n",
       "      <th>38</th>\n",
       "      <td>info-version,paths-modified,paths-added,paths-...</td>\n",
       "      <td>32</td>\n",
       "    </tr>\n",
       "    <tr>\n",
       "      <th>39</th>\n",
       "      <td>servers-added,servers-deleted,paths-added,path...</td>\n",
       "      <td>26</td>\n",
       "    </tr>\n",
       "    <tr>\n",
       "      <th>40</th>\n",
       "      <td>paths-modified,paths-deleted,endpoints-deleted...</td>\n",
       "      <td>26</td>\n",
       "    </tr>\n",
       "    <tr>\n",
       "      <th>41</th>\n",
       "      <td>info-version,paths-modified,endpoints-modified...</td>\n",
       "      <td>25</td>\n",
       "    </tr>\n",
       "    <tr>\n",
       "      <th>42</th>\n",
       "      <td>info-license-name,paths-modified,endpoints-mod...</td>\n",
       "      <td>25</td>\n",
       "    </tr>\n",
       "    <tr>\n",
       "      <th>43</th>\n",
       "      <td>info-version,paths-modified,paths-deleted,endp...</td>\n",
       "      <td>24</td>\n",
       "    </tr>\n",
       "    <tr>\n",
       "      <th>44</th>\n",
       "      <td>paths-modified,paths-added,endpoints-added,end...</td>\n",
       "      <td>23</td>\n",
       "    </tr>\n",
       "    <tr>\n",
       "      <th>45</th>\n",
       "      <td>info-description,paths-added,paths-deleted,end...</td>\n",
       "      <td>23</td>\n",
       "    </tr>\n",
       "    <tr>\n",
       "      <th>46</th>\n",
       "      <td>paths-modified,paths-added,paths-deleted,endpo...</td>\n",
       "      <td>23</td>\n",
       "    </tr>\n",
       "    <tr>\n",
       "      <th>47</th>\n",
       "      <td>paths-modified,endpoints-modified,components-p...</td>\n",
       "      <td>23</td>\n",
       "    </tr>\n",
       "    <tr>\n",
       "      <th>48</th>\n",
       "      <td>paths-modified,endpoints-added,endpoints-modif...</td>\n",
       "      <td>21</td>\n",
       "    </tr>\n",
       "    <tr>\n",
       "      <th>49</th>\n",
       "      <td>info-title,paths-added,paths-deleted,endpoints...</td>\n",
       "      <td>21</td>\n",
       "    </tr>\n",
       "  </tbody>\n",
       "</table>\n",
       "</div>"
      ],
      "text/plain": [
       "                                           components  count\n",
       "0                   paths-modified,endpoints-modified   3639\n",
       "1   paths-added,paths-deleted,endpoints-added,endp...   1581\n",
       "2   paths-modified,paths-added,paths-deleted,endpo...    739\n",
       "3                     paths-deleted,endpoints-deleted    373\n",
       "4   paths-modified,paths-added,endpoints-added,end...    362\n",
       "5   paths-modified,endpoints-modified,components-s...    283\n",
       "6   paths-modified,paths-deleted,endpoints-deleted...    256\n",
       "8      info-version,paths-modified,endpoints-modified    159\n",
       "9    paths-modified,endpoints-added,endpoints-deleted    151\n",
       "10  paths-modified,paths-added,endpoints-added,end...    132\n",
       "11  paths-modified,endpoints-added,endpoints-modified    127\n",
       "12  paths-modified,endpoints-modified,components-s...    100\n",
       "13  paths-modified,paths-added,endpoints-added,end...     88\n",
       "14  paths-modified,paths-added,endpoints-added,end...     84\n",
       "15  paths-modified,paths-added,paths-deleted,endpo...     73\n",
       "16  paths-modified,paths-added,paths-deleted,endpo...     64\n",
       "17  paths-modified,paths-added,paths-deleted,endpo...     62\n",
       "18  paths-modified,paths-deleted,endpoints-added,e...     59\n",
       "19  paths-modified,endpoints-modified,components-s...     59\n",
       "20  info-title,info-description,info-termsOfServic...     55\n",
       "21  paths-added,paths-deleted,endpoints-added,endp...     54\n",
       "22  paths-modified,endpoints-added,endpoints-delet...     53\n",
       "23  paths-added,paths-deleted,endpoints-added,endp...     52\n",
       "24  info-title,info-description,paths-added,paths-...     52\n",
       "25  paths-modified,paths-added,paths-deleted,endpo...     51\n",
       "26  info-description,paths-modified,endpoints-modi...     47\n",
       "27  paths-modified,paths-deleted,endpoints-deleted...     47\n",
       "28                   paths-modified,endpoints-deleted     47\n",
       "29  paths-modified,endpoints-deleted,endpoints-mod...     45\n",
       "30  paths-modified,paths-deleted,endpoints-added,e...     45\n",
       "31  paths-modified,paths-deleted,endpoints-deleted...     38\n",
       "32  info-version,paths-added,paths-deleted,endpoin...     38\n",
       "33  paths-added,paths-deleted,endpoints-added,endp...     37\n",
       "34  info-version,info-title,info-description,paths...     36\n",
       "35  paths-added,paths-deleted,endpoints-added,endp...     34\n",
       "36  paths-deleted,endpoints-deleted,components-sch...     34\n",
       "37  info-description,paths-modified,paths-added,pa...     32\n",
       "38  info-version,paths-modified,paths-added,paths-...     32\n",
       "39  servers-added,servers-deleted,paths-added,path...     26\n",
       "40  paths-modified,paths-deleted,endpoints-deleted...     26\n",
       "41  info-version,paths-modified,endpoints-modified...     25\n",
       "42  info-license-name,paths-modified,endpoints-mod...     25\n",
       "43  info-version,paths-modified,paths-deleted,endp...     24\n",
       "44  paths-modified,paths-added,endpoints-added,end...     23\n",
       "45  info-description,paths-added,paths-deleted,end...     23\n",
       "46  paths-modified,paths-added,paths-deleted,endpo...     23\n",
       "47  paths-modified,endpoints-modified,components-p...     23\n",
       "48  paths-modified,endpoints-added,endpoints-modif...     21\n",
       "49  info-title,paths-added,paths-deleted,endpoints...     21"
      ]
     },
     "execution_count": 87,
     "metadata": {},
     "output_type": "execute_result"
    }
   ],
   "source": [
    "features_in_breaking_changes = new[new['type_of_change'] == 'Breaking']['components'].value_counts().nlargest(50).reset_index()\n",
    "features_in_breaking_changes.drop([7], inplace=True)\n",
    "features_in_breaking_changes"
   ]
  },
  {
   "cell_type": "markdown",
   "metadata": {},
   "source": [
    "media = new[new['content'] == 'response-media-type-removed']['components'].value_counts().nlargest(15).reset_index()\n",
    "media.drop([9], inplace=True)\n",
    "media=pd.DataFrame(media)"
   ]
  },
  {
   "cell_type": "code",
   "execution_count": 86,
   "metadata": {},
   "outputs": [],
   "source": [
    "df_counts = pd.DataFrame(features_in_breaking_changes)"
   ]
  },
  {
   "cell_type": "code",
   "execution_count": null,
   "metadata": {},
   "outputs": [],
   "source": [
    "df_counts['Percent'] = round(df_counts['Count'] / df_counts['Count'].sum() * 100, 2)\n"
   ]
  },
  {
   "cell_type": "code",
   "execution_count": null,
   "metadata": {},
   "outputs": [
    {
     "data": {
      "text/html": [
       "<div>\n",
       "<style scoped>\n",
       "    .dataframe tbody tr th:only-of-type {\n",
       "        vertical-align: middle;\n",
       "    }\n",
       "\n",
       "    .dataframe tbody tr th {\n",
       "        vertical-align: top;\n",
       "    }\n",
       "\n",
       "    .dataframe thead th {\n",
       "        text-align: right;\n",
       "    }\n",
       "</style>\n",
       "<table border=\"1\" class=\"dataframe\">\n",
       "  <thead>\n",
       "    <tr style=\"text-align: right;\">\n",
       "      <th>label</th>\n",
       "      <th>major</th>\n",
       "      <th>minor</th>\n",
       "      <th>patch</th>\n",
       "    </tr>\n",
       "    <tr>\n",
       "      <th>type_of_change</th>\n",
       "      <th></th>\n",
       "      <th></th>\n",
       "      <th></th>\n",
       "    </tr>\n",
       "  </thead>\n",
       "  <tbody>\n",
       "    <tr>\n",
       "      <th>Breaking</th>\n",
       "      <td>49</td>\n",
       "      <td>167</td>\n",
       "      <td>622</td>\n",
       "    </tr>\n",
       "    <tr>\n",
       "      <th>Non-Breaking</th>\n",
       "      <td>173</td>\n",
       "      <td>847</td>\n",
       "      <td>2916</td>\n",
       "    </tr>\n",
       "  </tbody>\n",
       "</table>\n",
       "</div>"
      ],
      "text/plain": [
       "label           major  minor  patch\n",
       "type_of_change                     \n",
       "Breaking           49    167    622\n",
       "Non-Breaking      173    847   2916"
      ]
     },
     "execution_count": 89,
     "metadata": {},
     "output_type": "execute_result"
    }
   ],
   "source": [
    "pd.crosstab(labels['type_of_change'], labels['label'])"
   ]
  },
  {
   "cell_type": "code",
   "execution_count": null,
   "metadata": {},
   "outputs": [],
   "source": [
    "important_content = ['api-path-removed-without-deprecation', 'request-parameter-removed', 'request-property-removed', \n",
    "                     'api-removed-without-deprecation', 'new-required-request-parameter', 'new-required-request-property', \n",
    "                     'response-success-status-removed', 'request-parameter-became-required', 'response-body-type-changed', \n",
    "                     'response-property-type-changed', 'response-property-enum-value-added', 'response-media-type-removed', \n",
    "                     'request-parameter-type-changed','request-property-became-required','request-property-type-changed']\n",
    "\n",
    "breaking_changes = new[new['type_of_change'] == 'Breaking'][new['content'].isin(important_content)]\n",
    "\n",
    "# Group the data by 'api_group' and 'content', and count the occurrences of each 'content' type in each group\n",
    "grouped_changes = breaking_changes.groupby(['api_group', 'content'])['content'].count().unstack(fill_value=0)\n"
   ]
  },
  {
   "cell_type": "code",
   "execution_count": null,
   "metadata": {},
   "outputs": [],
   "source": [
    "grouped_changes = pd. DataFrame(grouped_changes)"
   ]
  },
  {
   "cell_type": "code",
   "execution_count": null,
   "metadata": {},
   "outputs": [
    {
     "data": {
      "text/html": [
       "<div>\n",
       "<style scoped>\n",
       "    .dataframe tbody tr th:only-of-type {\n",
       "        vertical-align: middle;\n",
       "    }\n",
       "\n",
       "    .dataframe tbody tr th {\n",
       "        vertical-align: top;\n",
       "    }\n",
       "\n",
       "    .dataframe thead th {\n",
       "        text-align: right;\n",
       "    }\n",
       "</style>\n",
       "<table border=\"1\" class=\"dataframe\">\n",
       "  <thead>\n",
       "    <tr style=\"text-align: right;\">\n",
       "      <th>content</th>\n",
       "      <th>api-path-removed-without-deprecation</th>\n",
       "      <th>api-removed-without-deprecation</th>\n",
       "      <th>new-required-request-parameter</th>\n",
       "      <th>new-required-request-property</th>\n",
       "      <th>request-parameter-became-required</th>\n",
       "      <th>request-parameter-removed</th>\n",
       "      <th>request-parameter-type-changed</th>\n",
       "      <th>request-property-became-required</th>\n",
       "      <th>request-property-removed</th>\n",
       "      <th>request-property-type-changed</th>\n",
       "      <th>response-body-type-changed</th>\n",
       "      <th>response-media-type-removed</th>\n",
       "      <th>response-property-enum-value-added</th>\n",
       "      <th>response-property-type-changed</th>\n",
       "      <th>response-success-status-removed</th>\n",
       "    </tr>\n",
       "    <tr>\n",
       "      <th>api_group</th>\n",
       "      <th></th>\n",
       "      <th></th>\n",
       "      <th></th>\n",
       "      <th></th>\n",
       "      <th></th>\n",
       "      <th></th>\n",
       "      <th></th>\n",
       "      <th></th>\n",
       "      <th></th>\n",
       "      <th></th>\n",
       "      <th></th>\n",
       "      <th></th>\n",
       "      <th></th>\n",
       "      <th></th>\n",
       "      <th></th>\n",
       "    </tr>\n",
       "  </thead>\n",
       "  <tbody>\n",
       "    <tr>\n",
       "      <th>Early</th>\n",
       "      <td>4113</td>\n",
       "      <td>503</td>\n",
       "      <td>491</td>\n",
       "      <td>410</td>\n",
       "      <td>346</td>\n",
       "      <td>1973</td>\n",
       "      <td>201</td>\n",
       "      <td>156</td>\n",
       "      <td>603</td>\n",
       "      <td>157</td>\n",
       "      <td>221</td>\n",
       "      <td>201</td>\n",
       "      <td>216</td>\n",
       "      <td>220</td>\n",
       "      <td>357</td>\n",
       "    </tr>\n",
       "    <tr>\n",
       "      <th>Other</th>\n",
       "      <td>63</td>\n",
       "      <td>5</td>\n",
       "      <td>6</td>\n",
       "      <td>2</td>\n",
       "      <td>3</td>\n",
       "      <td>25</td>\n",
       "      <td>2</td>\n",
       "      <td>2</td>\n",
       "      <td>11</td>\n",
       "      <td>2</td>\n",
       "      <td>3</td>\n",
       "      <td>4</td>\n",
       "      <td>3</td>\n",
       "      <td>3</td>\n",
       "      <td>4</td>\n",
       "    </tr>\n",
       "    <tr>\n",
       "      <th>Mature</th>\n",
       "      <td>31</td>\n",
       "      <td>7</td>\n",
       "      <td>3</td>\n",
       "      <td>5</td>\n",
       "      <td>1</td>\n",
       "      <td>17</td>\n",
       "      <td>1</td>\n",
       "      <td>3</td>\n",
       "      <td>4</td>\n",
       "      <td>1</td>\n",
       "      <td>4</td>\n",
       "      <td>6</td>\n",
       "      <td>4</td>\n",
       "      <td>0</td>\n",
       "      <td>3</td>\n",
       "    </tr>\n",
       "    <tr>\n",
       "      <th>Developing</th>\n",
       "      <td>24</td>\n",
       "      <td>8</td>\n",
       "      <td>2</td>\n",
       "      <td>3</td>\n",
       "      <td>1</td>\n",
       "      <td>9</td>\n",
       "      <td>3</td>\n",
       "      <td>1</td>\n",
       "      <td>4</td>\n",
       "      <td>1</td>\n",
       "      <td>1</td>\n",
       "      <td>1</td>\n",
       "      <td>1</td>\n",
       "      <td>1</td>\n",
       "      <td>3</td>\n",
       "    </tr>\n",
       "    <tr>\n",
       "      <th>Legacy</th>\n",
       "      <td>5</td>\n",
       "      <td>1</td>\n",
       "      <td>0</td>\n",
       "      <td>0</td>\n",
       "      <td>0</td>\n",
       "      <td>0</td>\n",
       "      <td>0</td>\n",
       "      <td>0</td>\n",
       "      <td>0</td>\n",
       "      <td>0</td>\n",
       "      <td>0</td>\n",
       "      <td>0</td>\n",
       "      <td>0</td>\n",
       "      <td>0</td>\n",
       "      <td>0</td>\n",
       "    </tr>\n",
       "  </tbody>\n",
       "</table>\n",
       "</div>"
      ],
      "text/plain": [
       "content     api-path-removed-without-deprecation   \n",
       "api_group                                          \n",
       "Early                                       4113  \\\n",
       "Other                                         63   \n",
       "Mature                                        31   \n",
       "Developing                                    24   \n",
       "Legacy                                         5   \n",
       "\n",
       "content     api-removed-without-deprecation  new-required-request-parameter   \n",
       "api_group                                                                     \n",
       "Early                                   503                             491  \\\n",
       "Other                                     5                               6   \n",
       "Mature                                    7                               3   \n",
       "Developing                                8                               2   \n",
       "Legacy                                    1                               0   \n",
       "\n",
       "content     new-required-request-property  request-parameter-became-required   \n",
       "api_group                                                                      \n",
       "Early                                 410                                346  \\\n",
       "Other                                   2                                  3   \n",
       "Mature                                  5                                  1   \n",
       "Developing                              3                                  1   \n",
       "Legacy                                  0                                  0   \n",
       "\n",
       "content     request-parameter-removed  request-parameter-type-changed   \n",
       "api_group                                                               \n",
       "Early                            1973                             201  \\\n",
       "Other                              25                               2   \n",
       "Mature                             17                               1   \n",
       "Developing                          9                               3   \n",
       "Legacy                              0                               0   \n",
       "\n",
       "content     request-property-became-required  request-property-removed   \n",
       "api_group                                                                \n",
       "Early                                    156                       603  \\\n",
       "Other                                      2                        11   \n",
       "Mature                                     3                         4   \n",
       "Developing                                 1                         4   \n",
       "Legacy                                     0                         0   \n",
       "\n",
       "content     request-property-type-changed  response-body-type-changed   \n",
       "api_group                                                               \n",
       "Early                                 157                         221  \\\n",
       "Other                                   2                           3   \n",
       "Mature                                  1                           4   \n",
       "Developing                              1                           1   \n",
       "Legacy                                  0                           0   \n",
       "\n",
       "content     response-media-type-removed  response-property-enum-value-added   \n",
       "api_group                                                                     \n",
       "Early                               201                                 216  \\\n",
       "Other                                 4                                   3   \n",
       "Mature                                6                                   4   \n",
       "Developing                            1                                   1   \n",
       "Legacy                                0                                   0   \n",
       "\n",
       "content     response-property-type-changed  response-success-status-removed  \n",
       "api_group                                                                    \n",
       "Early                                  220                              357  \n",
       "Other                                    3                                4  \n",
       "Mature                                   0                                3  \n",
       "Developing                               1                                3  \n",
       "Legacy                                   0                                0  "
      ]
     },
     "execution_count": 92,
     "metadata": {},
     "output_type": "execute_result"
    }
   ],
   "source": [
    "grouped_changes.sort_values(by=['api-path-removed-without-deprecation'], ascending=False, inplace=True)\n",
    "grouped_changes"
   ]
  },
  {
   "cell_type": "code",
   "execution_count": null,
   "metadata": {},
   "outputs": [],
   "source": [
    "import plotly.express as px\n",
    "\n",
    "# Filter for Early group\n",
    "early_changes = grouped_changes.loc['Early']\n",
    "\n",
    "early_changes = pd.DataFrame(early_changes)\n"
   ]
  },
  {
   "cell_type": "code",
   "execution_count": null,
   "metadata": {},
   "outputs": [],
   "source": [
    "early_changes = early_changes.reset_index()"
   ]
  },
  {
   "cell_type": "code",
   "execution_count": null,
   "metadata": {},
   "outputs": [
    {
     "data": {
      "image/svg+xml": "<svg class=\"main-svg\" xmlns=\"http://www.w3.org/2000/svg\" xmlns:xlink=\"http://www.w3.org/1999/xlink\" width=\"1600\" height=\"700\" style=\"\" viewBox=\"0 0 1600 700\"><rect x=\"0\" y=\"0\" width=\"1600\" height=\"700\" style=\"fill: rgb(255, 255, 255); fill-opacity: 1;\"/><defs id=\"defs-7490dc\"><g class=\"clips\"><clipPath id=\"clip7490dcxyplot\" class=\"plotclip\"><rect width=\"1408\" height=\"520\"/></clipPath><clipPath class=\"axesclip\" id=\"clip7490dcx\"><rect x=\"112\" y=\"0\" width=\"1408\" height=\"700\"/></clipPath><clipPath class=\"axesclip\" id=\"clip7490dcy\"><rect x=\"0\" y=\"100\" width=\"1600\" height=\"520\"/></clipPath><clipPath class=\"axesclip\" id=\"clip7490dcxy\"><rect x=\"112\" y=\"100\" width=\"1408\" height=\"520\"/></clipPath></g><g class=\"gradients\"/><g class=\"patterns\"/></defs><g class=\"bglayer\"><rect class=\"bg\" x=\"112\" y=\"100\" width=\"1408\" height=\"520\" style=\"fill: rgb(237, 237, 237); fill-opacity: 1; stroke-width: 0;\"/></g><g class=\"layer-below\"><g class=\"imagelayer\"/><g class=\"shapelayer\"/></g><g class=\"cartesianlayer\"><g class=\"subplot xy\"><g class=\"layer-subplot\"><g class=\"shapelayer\"/><g class=\"imagelayer\"/></g><g class=\"minor-gridlayer\"><g class=\"x\"/><g class=\"y\"/></g><g class=\"gridlayer\"><g class=\"x\"><path class=\"xgrid crisp\" transform=\"translate(375.1,0)\" d=\"M0,100v520\" style=\"stroke: rgb(255, 255, 255); stroke-opacity: 1; stroke-width: 1px;\"/><path class=\"xgrid crisp\" transform=\"translate(638.2,0)\" d=\"M0,100v520\" style=\"stroke: rgb(255, 255, 255); stroke-opacity: 1; stroke-width: 1px;\"/><path class=\"xgrid crisp\" transform=\"translate(901.3,0)\" d=\"M0,100v520\" style=\"stroke: rgb(255, 255, 255); stroke-opacity: 1; stroke-width: 1px;\"/><path class=\"xgrid crisp\" transform=\"translate(1164.4,0)\" d=\"M0,100v520\" style=\"stroke: rgb(255, 255, 255); stroke-opacity: 1; stroke-width: 1px;\"/><path class=\"xgrid crisp\" transform=\"translate(1427.5,0)\" d=\"M0,100v520\" style=\"stroke: rgb(255, 255, 255); stroke-opacity: 1; stroke-width: 1px;\"/></g><g class=\"y\"><path class=\"ygrid crisp\" transform=\"translate(0,568)\" d=\"M112,0h1408\" style=\"stroke: rgb(255, 255, 255); stroke-opacity: 1; stroke-width: 1px;\"/><path class=\"ygrid crisp\" transform=\"translate(0,464)\" d=\"M112,0h1408\" style=\"stroke: rgb(255, 255, 255); stroke-opacity: 1; stroke-width: 1px;\"/><path class=\"ygrid crisp\" transform=\"translate(0,360)\" d=\"M112,0h1408\" style=\"stroke: rgb(255, 255, 255); stroke-opacity: 1; stroke-width: 1px;\"/><path class=\"ygrid crisp\" transform=\"translate(0,256)\" d=\"M112,0h1408\" style=\"stroke: rgb(255, 255, 255); stroke-opacity: 1; stroke-width: 1px;\"/><path class=\"ygrid crisp\" transform=\"translate(0,152)\" d=\"M112,0h1408\" style=\"stroke: rgb(255, 255, 255); stroke-opacity: 1; stroke-width: 1px;\"/></g></g><g class=\"zerolinelayer\"><path class=\"xzl zl crisp\" transform=\"translate(112,0)\" d=\"M0,100v520\" style=\"stroke: rgb(255, 255, 255); stroke-opacity: 1; stroke-width: 1px;\"/></g><path class=\"xlines-below\"/><path class=\"ylines-below\"/><g class=\"overlines-below\"/><g class=\"xaxislayer-below\"/><g class=\"yaxislayer-below\"/><g class=\"overaxes-below\"/><g class=\"plot\" transform=\"translate(112,100)\" clip-path=\"url(#clip7490dcxyplot)\"><g class=\"barlayer mlayer\"><g class=\"trace bars\" shape-rendering=\"crispEdges\" style=\"opacity: 1;\"><g class=\"points\"><g class=\"point\"><path d=\"M0,93.6V10.4H541.06V93.6Z\" style=\"vector-effect: none; opacity: 1; stroke-width: 0.5px; fill: rgb(165, 105, 189); fill-opacity: 1; stroke: rgb(237, 237, 237); stroke-opacity: 1;\"/><text class=\"bartext bartext-inside\" text-anchor=\"middle\" data-notex=\"1\" x=\"0\" y=\"0\" style=\"font-family: 'Open Sans', verdana, arial, sans-serif; font-size: 12px; fill: rgb(68, 68, 68); fill-opacity: 1; white-space: pre;\" transform=\"translate(522.794375,56.75)\">4113</text></g><g class=\"point\"><path d=\"M0,197.6V114.4H8.29V197.6Z\" style=\"vector-effect: none; opacity: 1; stroke-width: 0.5px; fill: rgb(165, 105, 189); fill-opacity: 1; stroke: rgb(237, 237, 237); stroke-opacity: 1;\"/><text class=\"bartext bartext-inside\" text-anchor=\"middle\" data-notex=\"1\" x=\"0\" y=\"0\" style=\"font-family: 'Open Sans', verdana, arial, sans-serif; font-size: 12px; fill: rgb(68, 68, 68); fill-opacity: 1; white-space: pre;\" transform=\"translate(4.145,156.7501724137931)scale(0.15793103448275855)rotate(90 0 -4.75)\">63</text></g><g class=\"point\"><path d=\"M0,301.6V218.4H4.08V301.6Z\" style=\"vector-effect: none; opacity: 1; stroke-width: 0.5px; fill: rgb(165, 105, 189); fill-opacity: 1; stroke: rgb(237, 237, 237); stroke-opacity: 1;\"/><text class=\"bartext bartext-inside\" text-anchor=\"middle\" data-notex=\"1\" x=\"0\" y=\"0\" style=\"font-family: 'Open Sans', verdana, arial, sans-serif; font-size: 12px; fill: rgb(68, 68, 68); fill-opacity: 1; white-space: pre;\" transform=\"translate(2.04,261.3365517241379)scale(0.28137931034482755)rotate(90 0 -4.75)\">31</text></g><g class=\"point\"><path d=\"M0,405.6V322.4H3.16V405.6Z\" style=\"vector-effect: none; opacity: 1; stroke-width: 0.5px; fill: rgb(165, 105, 189); fill-opacity: 1; stroke: rgb(237, 237, 237); stroke-opacity: 1;\"/><text class=\"bartext bartext-inside\" text-anchor=\"middle\" data-notex=\"1\" x=\"0\" y=\"0\" style=\"font-family: 'Open Sans', verdana, arial, sans-serif; font-size: 12px; fill: rgb(68, 68, 68); fill-opacity: 1; white-space: pre;\" transform=\"translate(1.58,365.0351724137931)scale(0.2179310344827586)rotate(90 0 -4.75)\">24</text></g><g class=\"point\"><path d=\"M0,509.6V426.4H0.66V509.6Z\" style=\"vector-effect: none; opacity: 1; stroke-width: 0.5px; fill: rgb(165, 105, 189); fill-opacity: 1; stroke: rgb(237, 237, 237); stroke-opacity: 1;\"/><text class=\"bartext bartext-inside\" text-anchor=\"middle\" data-notex=\"1\" x=\"0\" y=\"0\" style=\"font-family: 'Open Sans', verdana, arial, sans-serif; font-size: 12px; fill: rgb(68, 68, 68); fill-opacity: 1; white-space: pre;\" transform=\"translate(0.33,468.4094693877551)scale(0.08620408163265307)\">5</text></g></g></g><g class=\"trace bars\" shape-rendering=\"crispEdges\" style=\"opacity: 1;\"><g class=\"points\"><g class=\"point\"><path d=\"M541.06,93.6V10.4H607.23V93.6Z\" style=\"vector-effect: none; opacity: 1; stroke-width: 0.5px; fill: rgb(244, 208, 63); fill-opacity: 1; stroke: rgb(237, 237, 237); stroke-opacity: 1;\"/><text class=\"bartext bartext-inside\" text-anchor=\"middle\" data-notex=\"1\" x=\"0\" y=\"0\" style=\"font-family: 'Open Sans', verdana, arial, sans-serif; font-size: 12px; fill: rgb(68, 68, 68); fill-opacity: 1; white-space: pre;\" transform=\"translate(592.776875,56.75)\">503</text></g><g class=\"point\"><path d=\"M8.29,197.6V114.4H8.95V197.6Z\" style=\"vector-effect: none; opacity: 1; stroke-width: 0.5px; fill: rgb(244, 208, 63); fill-opacity: 1; stroke: rgb(237, 237, 237); stroke-opacity: 1;\"/><text class=\"bartext bartext-inside\" text-anchor=\"middle\" data-notex=\"1\" x=\"0\" y=\"0\" style=\"font-family: 'Open Sans', verdana, arial, sans-serif; font-size: 12px; fill: rgb(68, 68, 68); fill-opacity: 1; white-space: pre;\" transform=\"translate(8.62,156.4094693877551)scale(0.08620408163265308)\">5</text></g><g class=\"point\"><path d=\"M4.08,301.6V218.4H5V301.6Z\" style=\"vector-effect: none; opacity: 1; stroke-width: 0.5px; fill: rgb(244, 208, 63); fill-opacity: 1; stroke: rgb(237, 237, 237); stroke-opacity: 1;\"/><text class=\"bartext bartext-inside\" text-anchor=\"middle\" data-notex=\"1\" x=\"0\" y=\"0\" style=\"font-family: 'Open Sans', verdana, arial, sans-serif; font-size: 12px; fill: rgb(68, 68, 68); fill-opacity: 1; white-space: pre;\" transform=\"translate(4.54,260.5707755102041)scale(0.12016326530612244)\">7</text></g><g class=\"point\"><path d=\"M3.16,405.6V322.4H4.21V405.6Z\" style=\"vector-effect: none; opacity: 1; stroke-width: 0.5px; fill: rgb(244, 208, 63); fill-opacity: 1; stroke: rgb(237, 237, 237); stroke-opacity: 1;\"/><text class=\"bartext bartext-inside\" text-anchor=\"middle\" data-notex=\"1\" x=\"0\" y=\"0\" style=\"font-family: 'Open Sans', verdana, arial, sans-serif; font-size: 12px; fill: rgb(68, 68, 68); fill-opacity: 1; white-space: pre;\" transform=\"translate(3.685,364.6514285714286)scale(0.13714285714285712)\">8</text></g><g class=\"point\"><path d=\"M0.66,509.6V426.4H0.79V509.6Z\" style=\"vector-effect: none; opacity: 1; stroke-width: 0.5px; fill: rgb(244, 208, 63); fill-opacity: 1; stroke: rgb(237, 237, 237); stroke-opacity: 1;\"/><text class=\"bartext bartext-outside\" text-anchor=\"middle\" data-notex=\"1\" x=\"0\" y=\"0\" style=\"font-family: 'Open Sans', verdana, arial, sans-serif; font-size: 12px; fill: rgb(51, 51, 51); fill-opacity: 1; white-space: pre;\" transform=\"translate(7.618125,472.75)\">1</text></g></g></g><g class=\"trace bars\" shape-rendering=\"crispEdges\" style=\"opacity: 1;\"><g class=\"points\"><g class=\"point\"><path d=\"M607.23,93.6V10.4H671.83V93.6Z\" style=\"vector-effect: none; opacity: 1; stroke-width: 0.5px; fill: rgb(245, 176, 65); fill-opacity: 1; stroke: rgb(237, 237, 237); stroke-opacity: 1;\"/><text class=\"bartext bartext-inside\" text-anchor=\"middle\" data-notex=\"1\" x=\"0\" y=\"0\" style=\"font-family: 'Open Sans', verdana, arial, sans-serif; font-size: 12px; fill: rgb(68, 68, 68); fill-opacity: 1; white-space: pre;\" transform=\"translate(657.376875,56.75)\">491</text></g><g class=\"point\"><path d=\"M8.95,197.6V114.4H9.73V197.6Z\" style=\"vector-effect: none; opacity: 1; stroke-width: 0.5px; fill: rgb(245, 176, 65); fill-opacity: 1; stroke: rgb(237, 237, 237); stroke-opacity: 1;\"/><text class=\"bartext bartext-inside\" text-anchor=\"middle\" data-notex=\"1\" x=\"0\" y=\"0\" style=\"font-family: 'Open Sans', verdana, arial, sans-serif; font-size: 12px; fill: rgb(68, 68, 68); fill-opacity: 1; white-space: pre;\" transform=\"translate(9.34,156.48391836734694)scale(0.10187755102040831)\">6</text></g><g class=\"point\"><path d=\"M5,301.6V218.4H5.39V301.6Z\" style=\"vector-effect: none; opacity: 1; stroke-width: 0.5px; fill: rgb(245, 176, 65); fill-opacity: 1; stroke: rgb(237, 237, 237); stroke-opacity: 1;\"/><text class=\"bartext bartext-inside\" text-anchor=\"middle\" data-notex=\"1\" x=\"0\" y=\"0\" style=\"font-family: 'Open Sans', verdana, arial, sans-serif; font-size: 12px; fill: rgb(68, 68, 68); fill-opacity: 1; white-space: pre;\" transform=\"translate(5.195,260.2419591836735)scale(0.05093877551020404)\">3</text></g><g class=\"point\"><path d=\"M4.21,405.6V322.4H4.47V405.6Z\" style=\"vector-effect: none; opacity: 1; stroke-width: 0.5px; fill: rgb(245, 176, 65); fill-opacity: 1; stroke: rgb(237, 237, 237); stroke-opacity: 1;\"/><text class=\"bartext bartext-inside\" text-anchor=\"middle\" data-notex=\"1\" x=\"0\" y=\"0\" style=\"font-family: 'Open Sans', verdana, arial, sans-serif; font-size: 12px; fill: rgb(68, 68, 68); fill-opacity: 1; white-space: pre;\" transform=\"translate(4.34,364.161306122449)scale(0.03395918367346936)\">2</text></g><g class=\"point\"><path d=\"M0.79,509.6V426.4H0.79V509.6Z\" style=\"vector-effect: none; opacity: 1; stroke-width: 0.5px; fill: rgb(245, 176, 65); fill-opacity: 1; stroke: rgb(237, 237, 237); stroke-opacity: 1;\"/></g></g></g><g class=\"trace bars\" shape-rendering=\"crispEdges\" style=\"opacity: 1;\"><g class=\"points\"><g class=\"point\"><path d=\"M671.83,93.6V10.4H725.76V93.6Z\" style=\"vector-effect: none; opacity: 1; stroke-width: 0.5px; fill: rgb(241, 148, 138); fill-opacity: 1; stroke: rgb(237, 237, 237); stroke-opacity: 1;\"/><text class=\"bartext bartext-inside\" text-anchor=\"middle\" data-notex=\"1\" x=\"0\" y=\"0\" style=\"font-family: 'Open Sans', verdana, arial, sans-serif; font-size: 12px; fill: rgb(68, 68, 68); fill-opacity: 1; white-space: pre;\" transform=\"translate(711.306875,56.75)\">410</text></g><g class=\"point\"><path d=\"M9.73,197.6V114.4H10V197.6Z\" style=\"vector-effect: none; opacity: 1; stroke-width: 0.5px; fill: rgb(241, 148, 138); fill-opacity: 1; stroke: rgb(237, 237, 237); stroke-opacity: 1;\"/><text class=\"bartext bartext-inside\" text-anchor=\"middle\" data-notex=\"1\" x=\"0\" y=\"0\" style=\"font-family: 'Open Sans', verdana, arial, sans-serif; font-size: 12px; fill: rgb(68, 68, 68); fill-opacity: 1; white-space: pre;\" transform=\"translate(9.865,156.16751020408162)scale(0.03526530612244892)\">2</text></g><g class=\"point\"><path d=\"M5.39,301.6V218.4H6.05V301.6Z\" style=\"vector-effect: none; opacity: 1; stroke-width: 0.5px; fill: rgb(241, 148, 138); fill-opacity: 1; stroke: rgb(237, 237, 237); stroke-opacity: 1;\"/><text class=\"bartext bartext-inside\" text-anchor=\"middle\" data-notex=\"1\" x=\"0\" y=\"0\" style=\"font-family: 'Open Sans', verdana, arial, sans-serif; font-size: 12px; fill: rgb(68, 68, 68); fill-opacity: 1; white-space: pre;\" transform=\"translate(5.72,260.4094693877551)scale(0.08620408163265308)\">5</text></g><g class=\"point\"><path d=\"M4.47,405.6V322.4H4.87V405.6Z\" style=\"vector-effect: none; opacity: 1; stroke-width: 0.5px; fill: rgb(241, 148, 138); fill-opacity: 1; stroke: rgb(237, 237, 237); stroke-opacity: 1;\"/><text class=\"bartext bartext-inside\" text-anchor=\"middle\" data-notex=\"1\" x=\"0\" y=\"0\" style=\"font-family: 'Open Sans', verdana, arial, sans-serif; font-size: 12px; fill: rgb(68, 68, 68); fill-opacity: 1; white-space: pre;\" transform=\"translate(4.67,364.2481632653061)scale(0.05224489795918372)\">3</text></g><g class=\"point\"><path d=\"M0.79,509.6V426.4H0.79V509.6Z\" style=\"vector-effect: none; opacity: 1; stroke-width: 0.5px; fill: rgb(241, 148, 138); fill-opacity: 1; stroke: rgb(237, 237, 237); stroke-opacity: 1;\"/></g></g></g><g class=\"trace bars\" shape-rendering=\"crispEdges\" style=\"opacity: 1;\"><g class=\"points\"><g class=\"point\"><path d=\"M725.76,93.6V10.4H771.28V93.6Z\" style=\"vector-effect: none; opacity: 1; stroke-width: 0.5px; fill: rgb(125, 206, 160); fill-opacity: 1; stroke: rgb(237, 237, 237); stroke-opacity: 1;\"/><text class=\"bartext bartext-inside\" text-anchor=\"middle\" data-notex=\"1\" x=\"0\" y=\"0\" style=\"font-family: 'Open Sans', verdana, arial, sans-serif; font-size: 12px; fill: rgb(68, 68, 68); fill-opacity: 1; white-space: pre;\" transform=\"translate(756.826875,56.75)\">346</text></g><g class=\"point\"><path d=\"M10,197.6V114.4H10.39V197.6Z\" style=\"vector-effect: none; opacity: 1; stroke-width: 0.5px; fill: rgb(125, 206, 160); fill-opacity: 1; stroke: rgb(237, 237, 237); stroke-opacity: 1;\"/><text class=\"bartext bartext-inside\" text-anchor=\"middle\" data-notex=\"1\" x=\"0\" y=\"0\" style=\"font-family: 'Open Sans', verdana, arial, sans-serif; font-size: 12px; fill: rgb(68, 68, 68); fill-opacity: 1; white-space: pre;\" transform=\"translate(10.195,156.24195918367346)scale(0.050938775510204155)\">3</text></g><g class=\"point\"><path d=\"M6.05,301.6V218.4H6.18V301.6Z\" style=\"vector-effect: none; opacity: 1; stroke-width: 0.5px; fill: rgb(125, 206, 160); fill-opacity: 1; stroke: rgb(237, 237, 237); stroke-opacity: 1;\"/><text class=\"bartext bartext-inside\" text-anchor=\"middle\" data-notex=\"1\" x=\"0\" y=\"0\" style=\"font-family: 'Open Sans', verdana, arial, sans-serif; font-size: 12px; fill: rgb(68, 68, 68); fill-opacity: 1; white-space: pre;\" transform=\"translate(6.115,260.0806530612245)scale(0.01697959183673468)\">1</text></g><g class=\"point\"><path d=\"M4.87,405.6V322.4H5V405.6Z\" style=\"vector-effect: none; opacity: 1; stroke-width: 0.5px; fill: rgb(125, 206, 160); fill-opacity: 1; stroke: rgb(237, 237, 237); stroke-opacity: 1;\"/><text class=\"bartext bartext-inside\" text-anchor=\"middle\" data-notex=\"1\" x=\"0\" y=\"0\" style=\"font-family: 'Open Sans', verdana, arial, sans-serif; font-size: 12px; fill: rgb(68, 68, 68); fill-opacity: 1; white-space: pre;\" transform=\"translate(4.9350000000000005,364.0806530612245)scale(0.01697959183673468)\">1</text></g><g class=\"point\"><path d=\"M0.79,509.6V426.4H0.79V509.6Z\" style=\"vector-effect: none; opacity: 1; stroke-width: 0.5px; fill: rgb(125, 206, 160); fill-opacity: 1; stroke: rgb(237, 237, 237); stroke-opacity: 1;\"/></g></g></g><g class=\"trace bars\" shape-rendering=\"crispEdges\" style=\"opacity: 1;\"><g class=\"points\"><g class=\"point\"><path d=\"M771.28,93.6V10.4H1030.83V93.6Z\" style=\"vector-effect: none; opacity: 1; stroke-width: 0.5px; fill: rgb(118, 215, 196); fill-opacity: 1; stroke: rgb(237, 237, 237); stroke-opacity: 1;\"/><text class=\"bartext bartext-inside\" text-anchor=\"middle\" data-notex=\"1\" x=\"0\" y=\"0\" style=\"font-family: 'Open Sans', verdana, arial, sans-serif; font-size: 12px; fill: rgb(68, 68, 68); fill-opacity: 1; white-space: pre;\" transform=\"translate(1012.5643749999999,56.75)\">1973</text></g><g class=\"point\"><path d=\"M10.39,197.6V114.4H13.68V197.6Z\" style=\"vector-effect: none; opacity: 1; stroke-width: 0.5px; fill: rgb(118, 215, 196); fill-opacity: 1; stroke: rgb(237, 237, 237); stroke-opacity: 1;\"/><text class=\"bartext bartext-inside\" text-anchor=\"middle\" data-notex=\"1\" x=\"0\" y=\"0\" style=\"font-family: 'Open Sans', verdana, arial, sans-serif; font-size: 12px; fill: rgb(68, 68, 68); fill-opacity: 1; white-space: pre;\" transform=\"translate(12.035,157.07775862068965)scale(0.22689655172413783)rotate(90 0 -4.75)\">25</text></g><g class=\"point\"><path d=\"M6.18,301.6V218.4H8.42V301.6Z\" style=\"vector-effect: none; opacity: 1; stroke-width: 0.5px; fill: rgb(118, 215, 196); fill-opacity: 1; stroke: rgb(237, 237, 237); stroke-opacity: 1;\"/><text class=\"bartext bartext-inside\" text-anchor=\"middle\" data-notex=\"1\" x=\"0\" y=\"0\" style=\"font-family: 'Open Sans', verdana, arial, sans-serif; font-size: 12px; fill: rgb(68, 68, 68); fill-opacity: 1; white-space: pre;\" transform=\"translate(7.3,260.73379310344825)scale(0.15448275862068966)rotate(90 0 -4.75)\">17</text></g><g class=\"point\"><path d=\"M5,405.6V322.4H6.18V405.6Z\" style=\"vector-effect: none; opacity: 1; stroke-width: 0.5px; fill: rgb(118, 215, 196); fill-opacity: 1; stroke: rgb(237, 237, 237); stroke-opacity: 1;\"/><text class=\"bartext bartext-inside\" text-anchor=\"middle\" data-notex=\"1\" x=\"0\" y=\"0\" style=\"font-family: 'Open Sans', verdana, arial, sans-serif; font-size: 12px; fill: rgb(68, 68, 68); fill-opacity: 1; white-space: pre;\" transform=\"translate(5.59,364.73208163265303)scale(0.1541224489795918)\">9</text></g><g class=\"point\"><path d=\"M0.79,509.6V426.4H0.79V509.6Z\" style=\"vector-effect: none; opacity: 1; stroke-width: 0.5px; fill: rgb(118, 215, 196); fill-opacity: 1; stroke: rgb(237, 237, 237); stroke-opacity: 1;\"/></g></g></g><g class=\"trace bars\" shape-rendering=\"crispEdges\" style=\"opacity: 1;\"><g class=\"points\"><g class=\"point\"><path d=\"M1030.83,93.6V10.4H1057.27V93.6Z\" style=\"vector-effect: none; opacity: 1; stroke-width: 0.5px; fill: rgb(133, 193, 233); fill-opacity: 1; stroke: rgb(237, 237, 237); stroke-opacity: 1;\"/><text class=\"bartext bartext-inside\" text-anchor=\"middle\" data-notex=\"1\" x=\"0\" y=\"0\" style=\"font-family: 'Open Sans', verdana, arial, sans-serif; font-size: 12px; fill: rgb(68, 68, 68); fill-opacity: 1; white-space: pre;\" transform=\"translate(1047.02,56.75)rotate(90 0 -4.75)\">201</text></g><g class=\"point\"><path d=\"M13.68,197.6V114.4H13.94V197.6Z\" style=\"vector-effect: none; opacity: 1; stroke-width: 0.5px; fill: rgb(133, 193, 233); fill-opacity: 1; stroke: rgb(237, 237, 237); stroke-opacity: 1;\"/><text class=\"bartext bartext-inside\" text-anchor=\"middle\" data-notex=\"1\" x=\"0\" y=\"0\" style=\"font-family: 'Open Sans', verdana, arial, sans-serif; font-size: 12px; fill: rgb(68, 68, 68); fill-opacity: 1; white-space: pre;\" transform=\"translate(13.809999999999999,156.161306122449)scale(0.03395918367346936)\">2</text></g><g class=\"point\"><path d=\"M8.42,301.6V218.4H8.55V301.6Z\" style=\"vector-effect: none; opacity: 1; stroke-width: 0.5px; fill: rgb(133, 193, 233); fill-opacity: 1; stroke: rgb(237, 237, 237); stroke-opacity: 1;\"/><text class=\"bartext bartext-inside\" text-anchor=\"middle\" data-notex=\"1\" x=\"0\" y=\"0\" style=\"font-family: 'Open Sans', verdana, arial, sans-serif; font-size: 12px; fill: rgb(68, 68, 68); fill-opacity: 1; white-space: pre;\" transform=\"translate(8.485,260.0806530612245)scale(0.016979591836734795)\">1</text></g><g class=\"point\"><path d=\"M6.18,405.6V322.4H6.58V405.6Z\" style=\"vector-effect: none; opacity: 1; stroke-width: 0.5px; fill: rgb(133, 193, 233); fill-opacity: 1; stroke: rgb(237, 237, 237); stroke-opacity: 1;\"/><text class=\"bartext bartext-inside\" text-anchor=\"middle\" data-notex=\"1\" x=\"0\" y=\"0\" style=\"font-family: 'Open Sans', verdana, arial, sans-serif; font-size: 12px; fill: rgb(68, 68, 68); fill-opacity: 1; white-space: pre;\" transform=\"translate(6.38,364.2481632653061)scale(0.05224489795918372)\">3</text></g><g class=\"point\"><path d=\"M0.79,509.6V426.4H0.79V509.6Z\" style=\"vector-effect: none; opacity: 1; stroke-width: 0.5px; fill: rgb(133, 193, 233); fill-opacity: 1; stroke: rgb(237, 237, 237); stroke-opacity: 1;\"/></g></g></g><g class=\"trace bars\" shape-rendering=\"crispEdges\" style=\"opacity: 1;\"><g class=\"points\"><g class=\"point\"><path d=\"M1057.27,93.6V10.4H1077.79V93.6Z\" style=\"vector-effect: none; opacity: 1; stroke-width: 0.5px; fill: rgb(174, 214, 241); fill-opacity: 1; stroke: rgb(237, 237, 237); stroke-opacity: 1;\"/><text class=\"bartext bartext-inside\" text-anchor=\"middle\" data-notex=\"1\" x=\"0\" y=\"0\" style=\"font-family: 'Open Sans', verdana, arial, sans-serif; font-size: 12px; fill: rgb(68, 68, 68); fill-opacity: 1; white-space: pre;\" transform=\"translate(1067.54,56.75)rotate(90 0 -4.75)\">156</text></g><g class=\"point\"><path d=\"M13.94,197.6V114.4H14.21V197.6Z\" style=\"vector-effect: none; opacity: 1; stroke-width: 0.5px; fill: rgb(174, 214, 241); fill-opacity: 1; stroke: rgb(237, 237, 237); stroke-opacity: 1;\"/><text class=\"bartext bartext-inside\" text-anchor=\"middle\" data-notex=\"1\" x=\"0\" y=\"0\" style=\"font-family: 'Open Sans', verdana, arial, sans-serif; font-size: 12px; fill: rgb(68, 68, 68); fill-opacity: 1; white-space: pre;\" transform=\"translate(14.075,156.16751020408162)scale(0.03526530612244916)\">2</text></g><g class=\"point\"><path d=\"M8.55,301.6V218.4H8.95V301.6Z\" style=\"vector-effect: none; opacity: 1; stroke-width: 0.5px; fill: rgb(174, 214, 241); fill-opacity: 1; stroke: rgb(237, 237, 237); stroke-opacity: 1;\"/><text class=\"bartext bartext-inside\" text-anchor=\"middle\" data-notex=\"1\" x=\"0\" y=\"0\" style=\"font-family: 'Open Sans', verdana, arial, sans-serif; font-size: 12px; fill: rgb(68, 68, 68); fill-opacity: 1; white-space: pre;\" transform=\"translate(8.75,260.2481632653061)scale(0.05224489795918349)\">3</text></g><g class=\"point\"><path d=\"M6.58,405.6V322.4H6.71V405.6Z\" style=\"vector-effect: none; opacity: 1; stroke-width: 0.5px; fill: rgb(174, 214, 241); fill-opacity: 1; stroke: rgb(237, 237, 237); stroke-opacity: 1;\"/><text class=\"bartext bartext-inside\" text-anchor=\"middle\" data-notex=\"1\" x=\"0\" y=\"0\" style=\"font-family: 'Open Sans', verdana, arial, sans-serif; font-size: 12px; fill: rgb(68, 68, 68); fill-opacity: 1; white-space: pre;\" transform=\"translate(6.645,364.0806530612245)scale(0.01697959183673468)\">1</text></g><g class=\"point\"><path d=\"M0.79,509.6V426.4H0.79V509.6Z\" style=\"vector-effect: none; opacity: 1; stroke-width: 0.5px; fill: rgb(174, 214, 241); fill-opacity: 1; stroke: rgb(237, 237, 237); stroke-opacity: 1;\"/></g></g></g><g class=\"trace bars\" shape-rendering=\"crispEdges\" style=\"opacity: 1;\"><g class=\"points\"><g class=\"point\"><path d=\"M1077.79,93.6V10.4H1157.11V93.6Z\" style=\"vector-effect: none; opacity: 1; stroke-width: 0.5px; fill: rgb(210, 180, 222); fill-opacity: 1; stroke: rgb(237, 237, 237); stroke-opacity: 1;\"/><text class=\"bartext bartext-inside\" text-anchor=\"middle\" data-notex=\"1\" x=\"0\" y=\"0\" style=\"font-family: 'Open Sans', verdana, arial, sans-serif; font-size: 12px; fill: rgb(68, 68, 68); fill-opacity: 1; white-space: pre;\" transform=\"translate(1142.656875,56.75)\">603</text></g><g class=\"point\"><path d=\"M14.21,197.6V114.4H15.65V197.6Z\" style=\"vector-effect: none; opacity: 1; stroke-width: 0.5px; fill: rgb(210, 180, 222); fill-opacity: 1; stroke: rgb(237, 237, 237); stroke-opacity: 1;\"/><text class=\"bartext bartext-inside\" text-anchor=\"middle\" data-notex=\"1\" x=\"0\" y=\"0\" style=\"font-family: 'Open Sans', verdana, arial, sans-serif; font-size: 12px; fill: rgb(68, 68, 68); fill-opacity: 1; white-space: pre;\" transform=\"translate(14.93,156.47172413793103)scale(0.09931034482758616)rotate(90 0 -4.75)\">11</text></g><g class=\"point\"><path d=\"M8.95,301.6V218.4H9.47V301.6Z\" style=\"vector-effect: none; opacity: 1; stroke-width: 0.5px; fill: rgb(210, 180, 222); fill-opacity: 1; stroke: rgb(237, 237, 237); stroke-opacity: 1;\"/><text class=\"bartext bartext-inside\" text-anchor=\"middle\" data-notex=\"1\" x=\"0\" y=\"0\" style=\"font-family: 'Open Sans', verdana, arial, sans-serif; font-size: 12px; fill: rgb(68, 68, 68); fill-opacity: 1; white-space: pre;\" transform=\"translate(9.21,260.322612244898)scale(0.06791836734693896)\">4</text></g><g class=\"point\"><path d=\"M6.71,405.6V322.4H7.24V405.6Z\" style=\"vector-effect: none; opacity: 1; stroke-width: 0.5px; fill: rgb(210, 180, 222); fill-opacity: 1; stroke: rgb(237, 237, 237); stroke-opacity: 1;\"/><text class=\"bartext bartext-inside\" text-anchor=\"middle\" data-notex=\"1\" x=\"0\" y=\"0\" style=\"font-family: 'Open Sans', verdana, arial, sans-serif; font-size: 12px; fill: rgb(68, 68, 68); fill-opacity: 1; white-space: pre;\" transform=\"translate(6.975,364.3288163265306)scale(0.0692244897959184)\">4</text></g><g class=\"point\"><path d=\"M0.79,509.6V426.4H0.79V509.6Z\" style=\"vector-effect: none; opacity: 1; stroke-width: 0.5px; fill: rgb(210, 180, 222); fill-opacity: 1; stroke: rgb(237, 237, 237); stroke-opacity: 1;\"/></g></g></g><g class=\"trace bars\" shape-rendering=\"crispEdges\" style=\"opacity: 1;\"><g class=\"points\"><g class=\"point\"><path d=\"M1157.11,93.6V10.4H1177.77V93.6Z\" style=\"vector-effect: none; opacity: 1; stroke-width: 0.5px; fill: rgb(250, 219, 216); fill-opacity: 1; stroke: rgb(237, 237, 237); stroke-opacity: 1;\"/><text class=\"bartext bartext-inside\" text-anchor=\"middle\" data-notex=\"1\" x=\"0\" y=\"0\" style=\"font-family: 'Open Sans', verdana, arial, sans-serif; font-size: 12px; fill: rgb(68, 68, 68); fill-opacity: 1; white-space: pre;\" transform=\"translate(1167.52,56.75)rotate(90 0 -4.75)\">157</text></g><g class=\"point\"><path d=\"M15.65,197.6V114.4H15.92V197.6Z\" style=\"vector-effect: none; opacity: 1; stroke-width: 0.5px; fill: rgb(250, 219, 216); fill-opacity: 1; stroke: rgb(237, 237, 237); stroke-opacity: 1;\"/><text class=\"bartext bartext-inside\" text-anchor=\"middle\" data-notex=\"1\" x=\"0\" y=\"0\" style=\"font-family: 'Open Sans', verdana, arial, sans-serif; font-size: 12px; fill: rgb(68, 68, 68); fill-opacity: 1; white-space: pre;\" transform=\"translate(15.785,156.16751020408162)scale(0.03526530612244892)\">2</text></g><g class=\"point\"><path d=\"M9.47,301.6V218.4H9.6V301.6Z\" style=\"vector-effect: none; opacity: 1; stroke-width: 0.5px; fill: rgb(250, 219, 216); fill-opacity: 1; stroke: rgb(237, 237, 237); stroke-opacity: 1;\"/><text class=\"bartext bartext-inside\" text-anchor=\"middle\" data-notex=\"1\" x=\"0\" y=\"0\" style=\"font-family: 'Open Sans', verdana, arial, sans-serif; font-size: 12px; fill: rgb(68, 68, 68); fill-opacity: 1; white-space: pre;\" transform=\"translate(9.535,260.0806530612245)scale(0.016979591836734562)\">1</text></g><g class=\"point\"><path d=\"M7.24,405.6V322.4H7.37V405.6Z\" style=\"vector-effect: none; opacity: 1; stroke-width: 0.5px; fill: rgb(250, 219, 216); fill-opacity: 1; stroke: rgb(237, 237, 237); stroke-opacity: 1;\"/><text class=\"bartext bartext-inside\" text-anchor=\"middle\" data-notex=\"1\" x=\"0\" y=\"0\" style=\"font-family: 'Open Sans', verdana, arial, sans-serif; font-size: 12px; fill: rgb(68, 68, 68); fill-opacity: 1; white-space: pre;\" transform=\"translate(7.305,364.0806530612245)scale(0.01697959183673468)\">1</text></g><g class=\"point\"><path d=\"M0.79,509.6V426.4H0.79V509.6Z\" style=\"vector-effect: none; opacity: 1; stroke-width: 0.5px; fill: rgb(250, 219, 216); fill-opacity: 1; stroke: rgb(237, 237, 237); stroke-opacity: 1;\"/></g></g></g><g class=\"trace bars\" shape-rendering=\"crispEdges\" style=\"opacity: 1;\"><g class=\"points\"><g class=\"point\"><path d=\"M1177.77,93.6V10.4H1206.84V93.6Z\" style=\"vector-effect: none; opacity: 1; stroke-width: 0.5px; fill: rgb(245, 183, 177); fill-opacity: 1; stroke: rgb(237, 237, 237); stroke-opacity: 1;\"/><text class=\"bartext bartext-inside\" text-anchor=\"middle\" data-notex=\"1\" x=\"0\" y=\"0\" style=\"font-family: 'Open Sans', verdana, arial, sans-serif; font-size: 12px; fill: rgb(68, 68, 68); fill-opacity: 1; white-space: pre;\" transform=\"translate(1192.386875,56.75)\">221</text></g><g class=\"point\"><path d=\"M15.92,197.6V114.4H16.31V197.6Z\" style=\"vector-effect: none; opacity: 1; stroke-width: 0.5px; fill: rgb(245, 183, 177); fill-opacity: 1; stroke: rgb(237, 237, 237); stroke-opacity: 1;\"/><text class=\"bartext bartext-inside\" text-anchor=\"middle\" data-notex=\"1\" x=\"0\" y=\"0\" style=\"font-family: 'Open Sans', verdana, arial, sans-serif; font-size: 12px; fill: rgb(68, 68, 68); fill-opacity: 1; white-space: pre;\" transform=\"translate(16.115,156.24195918367346)scale(0.050938775510203926)\">3</text></g><g class=\"point\"><path d=\"M9.6,301.6V218.4H10.13V301.6Z\" style=\"vector-effect: none; opacity: 1; stroke-width: 0.5px; fill: rgb(245, 183, 177); fill-opacity: 1; stroke: rgb(237, 237, 237); stroke-opacity: 1;\"/><text class=\"bartext bartext-inside\" text-anchor=\"middle\" data-notex=\"1\" x=\"0\" y=\"0\" style=\"font-family: 'Open Sans', verdana, arial, sans-serif; font-size: 12px; fill: rgb(68, 68, 68); fill-opacity: 1; white-space: pre;\" transform=\"translate(9.865,260.3288163265306)scale(0.06922448979591851)\">4</text></g><g class=\"point\"><path d=\"M7.37,405.6V322.4H7.5V405.6Z\" style=\"vector-effect: none; opacity: 1; stroke-width: 0.5px; fill: rgb(245, 183, 177); fill-opacity: 1; stroke: rgb(237, 237, 237); stroke-opacity: 1;\"/><text class=\"bartext bartext-inside\" text-anchor=\"middle\" data-notex=\"1\" x=\"0\" y=\"0\" style=\"font-family: 'Open Sans', verdana, arial, sans-serif; font-size: 12px; fill: rgb(68, 68, 68); fill-opacity: 1; white-space: pre;\" transform=\"translate(7.4350000000000005,364.0806530612245)scale(0.01697959183673468)\">1</text></g><g class=\"point\"><path d=\"M0.79,509.6V426.4H0.79V509.6Z\" style=\"vector-effect: none; opacity: 1; stroke-width: 0.5px; fill: rgb(245, 183, 177); fill-opacity: 1; stroke: rgb(237, 237, 237); stroke-opacity: 1;\"/></g></g></g><g class=\"trace bars\" shape-rendering=\"crispEdges\" style=\"opacity: 1;\"><g class=\"points\"><g class=\"point\"><path d=\"M1206.84,93.6V10.4H1233.28V93.6Z\" style=\"vector-effect: none; opacity: 1; stroke-width: 0.5px; fill: rgb(241, 148, 138); fill-opacity: 1; stroke: rgb(237, 237, 237); stroke-opacity: 1;\"/><text class=\"bartext bartext-inside\" text-anchor=\"middle\" data-notex=\"1\" x=\"0\" y=\"0\" style=\"font-family: 'Open Sans', verdana, arial, sans-serif; font-size: 12px; fill: rgb(68, 68, 68); fill-opacity: 1; white-space: pre;\" transform=\"translate(1223.03,56.75)rotate(90 0 -4.75)\">201</text></g><g class=\"point\"><path d=\"M16.31,197.6V114.4H16.84V197.6Z\" style=\"vector-effect: none; opacity: 1; stroke-width: 0.5px; fill: rgb(241, 148, 138); fill-opacity: 1; stroke: rgb(237, 237, 237); stroke-opacity: 1;\"/><text class=\"bartext bartext-inside\" text-anchor=\"middle\" data-notex=\"1\" x=\"0\" y=\"0\" style=\"font-family: 'Open Sans', verdana, arial, sans-serif; font-size: 12px; fill: rgb(68, 68, 68); fill-opacity: 1; white-space: pre;\" transform=\"translate(16.575,156.3288163265306)scale(0.06922448979591851)\">4</text></g><g class=\"point\"><path d=\"M10.13,301.6V218.4H10.92V301.6Z\" style=\"vector-effect: none; opacity: 1; stroke-width: 0.5px; fill: rgb(241, 148, 138); fill-opacity: 1; stroke: rgb(237, 237, 237); stroke-opacity: 1;\"/><text class=\"bartext bartext-inside\" text-anchor=\"middle\" data-notex=\"1\" x=\"0\" y=\"0\" style=\"font-family: 'Open Sans', verdana, arial, sans-serif; font-size: 12px; fill: rgb(68, 68, 68); fill-opacity: 1; white-space: pre;\" transform=\"translate(10.525,260.4901224489796)scale(0.10318367346938764)\">6</text></g><g class=\"point\"><path d=\"M7.5,405.6V322.4H7.63V405.6Z\" style=\"vector-effect: none; opacity: 1; stroke-width: 0.5px; fill: rgb(241, 148, 138); fill-opacity: 1; stroke: rgb(237, 237, 237); stroke-opacity: 1;\"/><text class=\"bartext bartext-inside\" text-anchor=\"middle\" data-notex=\"1\" x=\"0\" y=\"0\" style=\"font-family: 'Open Sans', verdana, arial, sans-serif; font-size: 12px; fill: rgb(68, 68, 68); fill-opacity: 1; white-space: pre;\" transform=\"translate(7.5649999999999995,364.0806530612245)scale(0.01697959183673468)\">1</text></g><g class=\"point\"><path d=\"M0.79,509.6V426.4H0.79V509.6Z\" style=\"vector-effect: none; opacity: 1; stroke-width: 0.5px; fill: rgb(241, 148, 138); fill-opacity: 1; stroke: rgb(237, 237, 237); stroke-opacity: 1;\"/></g></g></g><g class=\"trace bars\" shape-rendering=\"crispEdges\" style=\"opacity: 1;\"><g class=\"points\"><g class=\"point\"><path d=\"M1233.28,93.6V10.4H1261.7V93.6Z\" style=\"vector-effect: none; opacity: 1; stroke-width: 0.5px; fill: rgb(245, 183, 177); fill-opacity: 1; stroke: rgb(237, 237, 237); stroke-opacity: 1;\"/><text class=\"bartext bartext-inside\" text-anchor=\"middle\" data-notex=\"1\" x=\"0\" y=\"0\" style=\"font-family: 'Open Sans', verdana, arial, sans-serif; font-size: 12px; fill: rgb(68, 68, 68); fill-opacity: 1; white-space: pre;\" transform=\"translate(1251.45,56.75)rotate(90 0 -4.75)\">216</text></g><g class=\"point\"><path d=\"M16.84,197.6V114.4H17.23V197.6Z\" style=\"vector-effect: none; opacity: 1; stroke-width: 0.5px; fill: rgb(245, 183, 177); fill-opacity: 1; stroke: rgb(237, 237, 237); stroke-opacity: 1;\"/><text class=\"bartext bartext-inside\" text-anchor=\"middle\" data-notex=\"1\" x=\"0\" y=\"0\" style=\"font-family: 'Open Sans', verdana, arial, sans-serif; font-size: 12px; fill: rgb(68, 68, 68); fill-opacity: 1; white-space: pre;\" transform=\"translate(17.035,156.24195918367346)scale(0.050938775510204155)\">3</text></g><g class=\"point\"><path d=\"M10.92,301.6V218.4H11.44V301.6Z\" style=\"vector-effect: none; opacity: 1; stroke-width: 0.5px; fill: rgb(245, 183, 177); fill-opacity: 1; stroke: rgb(237, 237, 237); stroke-opacity: 1;\"/><text class=\"bartext bartext-inside\" text-anchor=\"middle\" data-notex=\"1\" x=\"0\" y=\"0\" style=\"font-family: 'Open Sans', verdana, arial, sans-serif; font-size: 12px; fill: rgb(68, 68, 68); fill-opacity: 1; white-space: pre;\" transform=\"translate(11.18,260.322612244898)scale(0.06791836734693872)\">4</text></g><g class=\"point\"><path d=\"M7.63,405.6V322.4H7.76V405.6Z\" style=\"vector-effect: none; opacity: 1; stroke-width: 0.5px; fill: rgb(245, 183, 177); fill-opacity: 1; stroke: rgb(237, 237, 237); stroke-opacity: 1;\"/><text class=\"bartext bartext-inside\" text-anchor=\"middle\" data-notex=\"1\" x=\"0\" y=\"0\" style=\"font-family: 'Open Sans', verdana, arial, sans-serif; font-size: 12px; fill: rgb(68, 68, 68); fill-opacity: 1; white-space: pre;\" transform=\"translate(7.695,364.0806530612245)scale(0.01697959183673468)\">1</text></g><g class=\"point\"><path d=\"M0.79,509.6V426.4H0.79V509.6Z\" style=\"vector-effect: none; opacity: 1; stroke-width: 0.5px; fill: rgb(245, 183, 177); fill-opacity: 1; stroke: rgb(237, 237, 237); stroke-opacity: 1;\"/></g></g></g><g class=\"trace bars\" shape-rendering=\"crispEdges\" style=\"opacity: 1;\"><g class=\"points\"><g class=\"point\"><path d=\"M1261.7,93.6V10.4H1290.64V93.6Z\" style=\"vector-effect: none; opacity: 1; stroke-width: 0.5px; fill: rgb(165, 105, 189); fill-opacity: 1; stroke: rgb(237, 237, 237); stroke-opacity: 1;\"/><text class=\"bartext bartext-inside\" text-anchor=\"middle\" data-notex=\"1\" x=\"0\" y=\"0\" style=\"font-family: 'Open Sans', verdana, arial, sans-serif; font-size: 12px; fill: rgb(68, 68, 68); fill-opacity: 1; white-space: pre;\" transform=\"translate(1276.186875,56.75)\">220</text></g><g class=\"point\"><path d=\"M17.23,197.6V114.4H17.63V197.6Z\" style=\"vector-effect: none; opacity: 1; stroke-width: 0.5px; fill: rgb(165, 105, 189); fill-opacity: 1; stroke: rgb(237, 237, 237); stroke-opacity: 1;\"/><text class=\"bartext bartext-inside\" text-anchor=\"middle\" data-notex=\"1\" x=\"0\" y=\"0\" style=\"font-family: 'Open Sans', verdana, arial, sans-serif; font-size: 12px; fill: rgb(68, 68, 68); fill-opacity: 1; white-space: pre;\" transform=\"translate(17.43,156.24816326530612)scale(0.05224489795918349)\">3</text></g><g class=\"point\"><path d=\"M11.44,301.6V218.4H11.44V301.6Z\" style=\"vector-effect: none; opacity: 1; stroke-width: 0.5px; fill: rgb(165, 105, 189); fill-opacity: 1; stroke: rgb(237, 237, 237); stroke-opacity: 1;\"/></g><g class=\"point\"><path d=\"M7.76,405.6V322.4H7.89V405.6Z\" style=\"vector-effect: none; opacity: 1; stroke-width: 0.5px; fill: rgb(165, 105, 189); fill-opacity: 1; stroke: rgb(237, 237, 237); stroke-opacity: 1;\"/><text class=\"bartext bartext-inside\" text-anchor=\"middle\" data-notex=\"1\" x=\"0\" y=\"0\" style=\"font-family: 'Open Sans', verdana, arial, sans-serif; font-size: 12px; fill: rgb(68, 68, 68); fill-opacity: 1; white-space: pre;\" transform=\"translate(7.824999999999999,364.0806530612245)scale(0.01697959183673468)\">1</text></g><g class=\"point\"><path d=\"M0.79,509.6V426.4H0.79V509.6Z\" style=\"vector-effect: none; opacity: 1; stroke-width: 0.5px; fill: rgb(165, 105, 189); fill-opacity: 1; stroke: rgb(237, 237, 237); stroke-opacity: 1;\"/></g></g></g><g class=\"trace bars\" shape-rendering=\"crispEdges\" style=\"opacity: 1;\"><g class=\"points\"><g class=\"point\"><path d=\"M1290.64,93.6V10.4H1337.6V93.6Z\" style=\"vector-effect: none; opacity: 1; stroke-width: 0.5px; fill: rgb(244, 208, 63); fill-opacity: 1; stroke: rgb(237, 237, 237); stroke-opacity: 1;\"/><text class=\"bartext bartext-inside\" text-anchor=\"middle\" data-notex=\"1\" x=\"0\" y=\"0\" style=\"font-family: 'Open Sans', verdana, arial, sans-serif; font-size: 12px; fill: rgb(68, 68, 68); fill-opacity: 1; white-space: pre;\" transform=\"translate(1323.146875,56.75)\">357</text></g><g class=\"point\"><path d=\"M17.63,197.6V114.4H18.15V197.6Z\" style=\"vector-effect: none; opacity: 1; stroke-width: 0.5px; fill: rgb(244, 208, 63); fill-opacity: 1; stroke: rgb(237, 237, 237); stroke-opacity: 1;\"/><text class=\"bartext bartext-outside\" text-anchor=\"middle\" data-notex=\"1\" x=\"0\" y=\"0\" style=\"font-family: 'Open Sans', verdana, arial, sans-serif; font-size: 12px; fill: rgb(51, 51, 51); fill-opacity: 1; white-space: pre;\" transform=\"translate(24.978125,160.75)\">4</text></g><g class=\"point\"><path d=\"M11.44,301.6V218.4H11.84V301.6Z\" style=\"vector-effect: none; opacity: 1; stroke-width: 0.5px; fill: rgb(244, 208, 63); fill-opacity: 1; stroke: rgb(237, 237, 237); stroke-opacity: 1;\"/><text class=\"bartext bartext-outside\" text-anchor=\"middle\" data-notex=\"1\" x=\"0\" y=\"0\" style=\"font-family: 'Open Sans', verdana, arial, sans-serif; font-size: 12px; fill: rgb(51, 51, 51); fill-opacity: 1; white-space: pre;\" transform=\"translate(18.668125,264.75)\">3</text></g><g class=\"point\"><path d=\"M7.89,405.6V322.4H8.29V405.6Z\" style=\"vector-effect: none; opacity: 1; stroke-width: 0.5px; fill: rgb(244, 208, 63); fill-opacity: 1; stroke: rgb(237, 237, 237); stroke-opacity: 1;\"/><text class=\"bartext bartext-outside\" text-anchor=\"middle\" data-notex=\"1\" x=\"0\" y=\"0\" style=\"font-family: 'Open Sans', verdana, arial, sans-serif; font-size: 12px; fill: rgb(51, 51, 51); fill-opacity: 1; white-space: pre;\" transform=\"translate(15.118125,368.75)\">3</text></g><g class=\"point\"><path d=\"M0.79,509.6V426.4H0.79V509.6Z\" style=\"vector-effect: none; opacity: 1; stroke-width: 0.5px; fill: rgb(244, 208, 63); fill-opacity: 1; stroke: rgb(237, 237, 237); stroke-opacity: 1;\"/></g></g></g></g></g><g class=\"overplot\"/><path class=\"xlines-above crisp\" d=\"M111,620.5H1521M111,99.5H1521\" style=\"fill: none; stroke-width: 1px; stroke: rgb(0, 0, 0); stroke-opacity: 1;\"/><path class=\"ylines-above crisp\" d=\"M111.5,100V620M1520.5,100V620\" style=\"fill: none; stroke-width: 1px; stroke: rgb(0, 0, 0); stroke-opacity: 1;\"/><g class=\"overlines-above\"/><g class=\"xaxislayer-above\"><path class=\"xtick ticks crisp\" d=\"M0,621v5\" transform=\"translate(112,0)\" style=\"stroke: rgb(51, 51, 51); stroke-opacity: 1; stroke-width: 1px;\"/><path class=\"xtick ticks crisp\" d=\"M0,621v5\" transform=\"translate(375.1,0)\" style=\"stroke: rgb(51, 51, 51); stroke-opacity: 1; stroke-width: 1px;\"/><path class=\"xtick ticks crisp\" d=\"M0,621v5\" transform=\"translate(638.2,0)\" style=\"stroke: rgb(51, 51, 51); stroke-opacity: 1; stroke-width: 1px;\"/><path class=\"xtick ticks crisp\" d=\"M0,621v5\" transform=\"translate(901.3,0)\" style=\"stroke: rgb(51, 51, 51); stroke-opacity: 1; stroke-width: 1px;\"/><path class=\"xtick ticks crisp\" d=\"M0,621v5\" transform=\"translate(1164.4,0)\" style=\"stroke: rgb(51, 51, 51); stroke-opacity: 1; stroke-width: 1px;\"/><path class=\"xtick ticks crisp\" d=\"M0,621v5\" transform=\"translate(1427.5,0)\" style=\"stroke: rgb(51, 51, 51); stroke-opacity: 1; stroke-width: 1px;\"/><g class=\"xtick\"><text text-anchor=\"middle\" x=\"0\" y=\"640.4\" transform=\"translate(112,0)\" style=\"font-family: 'Open Sans', verdana, arial, sans-serif; font-size: 12px; fill: rgb(51, 51, 51); fill-opacity: 1; white-space: pre; opacity: 1;\">0</text></g><g class=\"xtick\"><text text-anchor=\"middle\" x=\"0\" y=\"640.4\" style=\"font-family: 'Open Sans', verdana, arial, sans-serif; font-size: 12px; fill: rgb(51, 51, 51); fill-opacity: 1; white-space: pre; opacity: 1;\" transform=\"translate(375.1,0)\">2k</text></g><g class=\"xtick\"><text text-anchor=\"middle\" x=\"0\" y=\"640.4\" style=\"font-family: 'Open Sans', verdana, arial, sans-serif; font-size: 12px; fill: rgb(51, 51, 51); fill-opacity: 1; white-space: pre; opacity: 1;\" transform=\"translate(638.2,0)\">4k</text></g><g class=\"xtick\"><text text-anchor=\"middle\" x=\"0\" y=\"640.4\" style=\"font-family: 'Open Sans', verdana, arial, sans-serif; font-size: 12px; fill: rgb(51, 51, 51); fill-opacity: 1; white-space: pre; opacity: 1;\" transform=\"translate(901.3,0)\">6k</text></g><g class=\"xtick\"><text text-anchor=\"middle\" x=\"0\" y=\"640.4\" style=\"font-family: 'Open Sans', verdana, arial, sans-serif; font-size: 12px; fill: rgb(51, 51, 51); fill-opacity: 1; white-space: pre; opacity: 1;\" transform=\"translate(1164.4,0)\">8k</text></g><g class=\"xtick\"><text text-anchor=\"middle\" x=\"0\" y=\"640.4\" style=\"font-family: 'Open Sans', verdana, arial, sans-serif; font-size: 12px; fill: rgb(51, 51, 51); fill-opacity: 1; white-space: pre; opacity: 1;\" transform=\"translate(1427.5,0)\">10k</text></g></g><g class=\"yaxislayer-above\"><path class=\"ytick ticks crisp\" d=\"M111,0h-5\" transform=\"translate(0,568)\" style=\"stroke: rgb(51, 51, 51); stroke-opacity: 1; stroke-width: 1px;\"/><path class=\"ytick ticks crisp\" d=\"M111,0h-5\" transform=\"translate(0,464)\" style=\"stroke: rgb(51, 51, 51); stroke-opacity: 1; stroke-width: 1px;\"/><path class=\"ytick ticks crisp\" d=\"M111,0h-5\" transform=\"translate(0,360)\" style=\"stroke: rgb(51, 51, 51); stroke-opacity: 1; stroke-width: 1px;\"/><path class=\"ytick ticks crisp\" d=\"M111,0h-5\" transform=\"translate(0,256)\" style=\"stroke: rgb(51, 51, 51); stroke-opacity: 1; stroke-width: 1px;\"/><path class=\"ytick ticks crisp\" d=\"M111,0h-5\" transform=\"translate(0,152)\" style=\"stroke: rgb(51, 51, 51); stroke-opacity: 1; stroke-width: 1px;\"/><g class=\"ytick\"><text text-anchor=\"end\" x=\"103.6\" y=\"4.199999999999999\" transform=\"translate(0,568)\" style=\"font-family: 'Open Sans', verdana, arial, sans-serif; font-size: 12px; fill: rgb(51, 51, 51); fill-opacity: 1; white-space: pre; opacity: 1;\">Legacy</text></g><g class=\"ytick\"><text text-anchor=\"end\" x=\"103.6\" y=\"4.199999999999999\" transform=\"translate(0,464)\" style=\"font-family: 'Open Sans', verdana, arial, sans-serif; font-size: 12px; fill: rgb(51, 51, 51); fill-opacity: 1; white-space: pre; opacity: 1;\">Developing</text></g><g class=\"ytick\"><text text-anchor=\"end\" x=\"103.6\" y=\"4.199999999999999\" transform=\"translate(0,360)\" style=\"font-family: 'Open Sans', verdana, arial, sans-serif; font-size: 12px; fill: rgb(51, 51, 51); fill-opacity: 1; white-space: pre; opacity: 1;\">Mature</text></g><g class=\"ytick\"><text text-anchor=\"end\" x=\"103.6\" y=\"4.199999999999999\" transform=\"translate(0,256)\" style=\"font-family: 'Open Sans', verdana, arial, sans-serif; font-size: 12px; fill: rgb(51, 51, 51); fill-opacity: 1; white-space: pre; opacity: 1;\">Other</text></g><g class=\"ytick\"><text text-anchor=\"end\" x=\"103.6\" y=\"4.199999999999999\" transform=\"translate(0,152)\" style=\"font-family: 'Open Sans', verdana, arial, sans-serif; font-size: 12px; fill: rgb(51, 51, 51); fill-opacity: 1; white-space: pre; opacity: 1;\">Early</text></g></g><g class=\"overaxes-above\"/></g></g><g class=\"polarlayer\"/><g class=\"smithlayer\"/><g class=\"ternarylayer\"/><g class=\"geolayer\"/><g class=\"funnelarealayer\"/><g class=\"pielayer\"/><g class=\"iciclelayer\"/><g class=\"treemaplayer\"/><g class=\"sunburstlayer\"/><g class=\"glimages\"/><defs id=\"topdefs-7490dc\"><g class=\"clips\"/></defs><g class=\"layer-above\"><g class=\"imagelayer\"/><g class=\"shapelayer\"/></g><g class=\"infolayer\"><g class=\"g-gtitle\"><text class=\"gtitle\" x=\"800\" y=\"50\" text-anchor=\"middle\" dy=\"0em\" style=\"font-family: 'Open Sans', verdana, arial, sans-serif; font-size: 17px; fill: rgb(51, 51, 51); opacity: 1; font-weight: normal; white-space: pre;\">Decrease of Breaking Changes across Different API Groups</text></g><g class=\"g-xtitle\"><text class=\"xtitle\" x=\"816\" y=\"667.20625\" text-anchor=\"middle\" style=\"font-family: 'Open Sans', verdana, arial, sans-serif; font-size: 14px; fill: rgb(51, 51, 51); opacity: 1; font-weight: normal; white-space: pre;\">Number of Occurences</text></g><g class=\"g-ytitle\" transform=\"translate(1.7685546875,0)\"><text class=\"ytitle\" transform=\"rotate(-90,12.231250000000003,360)\" x=\"12.231250000000003\" y=\"360\" text-anchor=\"middle\" style=\"font-family: 'Open Sans', verdana, arial, sans-serif; font-size: 14px; fill: rgb(51, 51, 51); opacity: 1; font-weight: normal; white-space: pre;\">Type of Change</text></g></g></svg>"
     },
     "metadata": {},
     "output_type": "display_data"
    }
   ],
   "source": [
    "# create stacked bar chart wwith df grouped_changes\n",
    "import plotly.express as px\n",
    "\n",
    "fig = px.bar(grouped_changes, x= grouped_changes.columns, y=grouped_changes.index, barmode='stack', color_discrete_sequence=['#A569BD', '#F4D03F', '#F5B041', '#F1948A', '#7DCEA0', '#76D7C4', '#85C1E9', '#AED6F1', '#D2B4DE', '#FADBD8', '#F5B7B1', '#F1948A', '#F5B7B1'], title='Decrease of Breaking Changes across Different API Groups', text_auto=True)\n",
    "\n",
    "fig.update_xaxes(showline=True, linewidth=1, linecolor='black', mirror=True)\n",
    "fig.update_yaxes(categoryorder='total ascending',showline=True, linewidth=1, linecolor='black', mirror=True)\n",
    "fig.update_layout(template='ggplot2',width=1600, height=700, xaxis_title='Number of Occurences', yaxis_title='Type of Change', showlegend=False)\n",
    "\n",
    "fig.show(\"svg\")\n"
   ]
  },
  {
   "cell_type": "code",
   "execution_count": null,
   "metadata": {},
   "outputs": [
    {
     "data": {
      "image/svg+xml": "<svg class=\"main-svg\" xmlns=\"http://www.w3.org/2000/svg\" xmlns:xlink=\"http://www.w3.org/1999/xlink\" width=\"1490\" height=\"700\" style=\"\" viewBox=\"0 0 1490 700\"><rect x=\"0\" y=\"0\" width=\"1490\" height=\"700\" style=\"fill: rgb(255, 255, 255); fill-opacity: 1;\"/><defs id=\"defs-7a0e9d\"><g class=\"clips\"><clipPath id=\"clip7a0e9dxyplot\" class=\"plotclip\"><rect width=\"1129\" height=\"560\"/></clipPath><clipPath class=\"axesclip\" id=\"clip7a0e9dx\"><rect x=\"281\" y=\"0\" width=\"1129\" height=\"700\"/></clipPath><clipPath class=\"axesclip\" id=\"clip7a0e9dy\"><rect x=\"0\" y=\"60\" width=\"1490\" height=\"560\"/></clipPath><clipPath class=\"axesclip\" id=\"clip7a0e9dxy\"><rect x=\"281\" y=\"60\" width=\"1129\" height=\"560\"/></clipPath></g><g class=\"gradients\"/><g class=\"patterns\"/></defs><g class=\"bglayer\"><rect class=\"bg\" x=\"281\" y=\"60\" width=\"1129\" height=\"560\" style=\"fill: rgb(237, 237, 237); fill-opacity: 1; stroke-width: 0;\"/></g><g class=\"layer-below\"><g class=\"imagelayer\"/><g class=\"shapelayer\"/></g><g class=\"cartesianlayer\"><g class=\"subplot xy\"><g class=\"layer-subplot\"><g class=\"shapelayer\"/><g class=\"imagelayer\"/></g><g class=\"minor-gridlayer\"><g class=\"x\"/><g class=\"y\"/></g><g class=\"gridlayer\"><g class=\"x\"><path class=\"xgrid crisp\" transform=\"translate(411.39,0)\" d=\"M0,60v560\" style=\"stroke: rgb(255, 255, 255); stroke-opacity: 1; stroke-width: 1px;\"/><path class=\"xgrid crisp\" transform=\"translate(541.77,0)\" d=\"M0,60v560\" style=\"stroke: rgb(255, 255, 255); stroke-opacity: 1; stroke-width: 1px;\"/><path class=\"xgrid crisp\" transform=\"translate(672.1600000000001,0)\" d=\"M0,60v560\" style=\"stroke: rgb(255, 255, 255); stroke-opacity: 1; stroke-width: 1px;\"/><path class=\"xgrid crisp\" transform=\"translate(802.54,0)\" d=\"M0,60v560\" style=\"stroke: rgb(255, 255, 255); stroke-opacity: 1; stroke-width: 1px;\"/><path class=\"xgrid crisp\" transform=\"translate(932.93,0)\" d=\"M0,60v560\" style=\"stroke: rgb(255, 255, 255); stroke-opacity: 1; stroke-width: 1px;\"/><path class=\"xgrid crisp\" transform=\"translate(1063.31,0)\" d=\"M0,60v560\" style=\"stroke: rgb(255, 255, 255); stroke-opacity: 1; stroke-width: 1px;\"/><path class=\"xgrid crisp\" transform=\"translate(1193.7,0)\" d=\"M0,60v560\" style=\"stroke: rgb(255, 255, 255); stroke-opacity: 1; stroke-width: 1px;\"/><path class=\"xgrid crisp\" transform=\"translate(1324.08,0)\" d=\"M0,60v560\" style=\"stroke: rgb(255, 255, 255); stroke-opacity: 1; stroke-width: 1px;\"/></g><g class=\"y\"><path class=\"ygrid crisp\" transform=\"translate(0,601.33)\" d=\"M281,0h1129\" style=\"stroke: rgb(255, 255, 255); stroke-opacity: 1; stroke-width: 1px;\"/><path class=\"ygrid crisp\" transform=\"translate(0,564)\" d=\"M281,0h1129\" style=\"stroke: rgb(255, 255, 255); stroke-opacity: 1; stroke-width: 1px;\"/><path class=\"ygrid crisp\" transform=\"translate(0,526.6700000000001)\" d=\"M281,0h1129\" style=\"stroke: rgb(255, 255, 255); stroke-opacity: 1; stroke-width: 1px;\"/><path class=\"ygrid crisp\" transform=\"translate(0,489.33)\" d=\"M281,0h1129\" style=\"stroke: rgb(255, 255, 255); stroke-opacity: 1; stroke-width: 1px;\"/><path class=\"ygrid crisp\" transform=\"translate(0,452)\" d=\"M281,0h1129\" style=\"stroke: rgb(255, 255, 255); stroke-opacity: 1; stroke-width: 1px;\"/><path class=\"ygrid crisp\" transform=\"translate(0,414.67)\" d=\"M281,0h1129\" style=\"stroke: rgb(255, 255, 255); stroke-opacity: 1; stroke-width: 1px;\"/><path class=\"ygrid crisp\" transform=\"translate(0,377.33)\" d=\"M281,0h1129\" style=\"stroke: rgb(255, 255, 255); stroke-opacity: 1; stroke-width: 1px;\"/><path class=\"ygrid crisp\" transform=\"translate(0,340)\" d=\"M281,0h1129\" style=\"stroke: rgb(255, 255, 255); stroke-opacity: 1; stroke-width: 1px;\"/><path class=\"ygrid crisp\" transform=\"translate(0,302.66999999999996)\" d=\"M281,0h1129\" style=\"stroke: rgb(255, 255, 255); stroke-opacity: 1; stroke-width: 1px;\"/><path class=\"ygrid crisp\" transform=\"translate(0,265.33000000000004)\" d=\"M281,0h1129\" style=\"stroke: rgb(255, 255, 255); stroke-opacity: 1; stroke-width: 1px;\"/><path class=\"ygrid crisp\" transform=\"translate(0,228)\" d=\"M281,0h1129\" style=\"stroke: rgb(255, 255, 255); stroke-opacity: 1; stroke-width: 1px;\"/><path class=\"ygrid crisp\" transform=\"translate(0,190.67)\" d=\"M281,0h1129\" style=\"stroke: rgb(255, 255, 255); stroke-opacity: 1; stroke-width: 1px;\"/><path class=\"ygrid crisp\" transform=\"translate(0,153.32999999999998)\" d=\"M281,0h1129\" style=\"stroke: rgb(255, 255, 255); stroke-opacity: 1; stroke-width: 1px;\"/><path class=\"ygrid crisp\" transform=\"translate(0,116)\" d=\"M281,0h1129\" style=\"stroke: rgb(255, 255, 255); stroke-opacity: 1; stroke-width: 1px;\"/><path class=\"ygrid crisp\" transform=\"translate(0,78.67)\" d=\"M281,0h1129\" style=\"stroke: rgb(255, 255, 255); stroke-opacity: 1; stroke-width: 1px;\"/></g></g><g class=\"zerolinelayer\"><path class=\"xzl zl crisp\" transform=\"translate(281,0)\" d=\"M0,60v560\" style=\"stroke: rgb(255, 255, 255); stroke-opacity: 1; stroke-width: 1px;\"/></g><path class=\"xlines-below\"/><path class=\"ylines-below\"/><g class=\"overlines-below\"/><g class=\"xaxislayer-below\"/><g class=\"yaxislayer-below\"/><g class=\"overaxes-below\"/><g class=\"plot\" transform=\"translate(281,60)\" clip-path=\"url(#clip7a0e9dxyplot)\"><g class=\"barlayer mlayer\"><g class=\"trace bars\" style=\"opacity: 1;\"><g class=\"points\"><g class=\"point\"><path d=\"M0,33.6V3.73H1072.55V33.6Z\" style=\"vector-effect: none; opacity: 1; stroke-width: 0px; fill: rgb(165, 105, 189); fill-opacity: 1;\"/><text class=\"bartext bartext-inside\" text-anchor=\"middle\" data-notex=\"1\" x=\"0\" y=\"0\" style=\"font-family: 'Open Sans', verdana, arial, sans-serif; font-size: 12px; fill: rgb(68, 68, 68); fill-opacity: 1; white-space: pre;\" transform=\"translate(1054.284375,23.415)\">4113</text></g></g></g><g class=\"trace bars\" style=\"opacity: 1;\"><g class=\"points\"><g class=\"point\"><path d=\"M0,145.6V115.73H131.17V145.6Z\" style=\"vector-effect: none; opacity: 1; stroke-width: 0px; fill: rgb(244, 208, 63); fill-opacity: 1;\"/><text class=\"bartext bartext-inside\" text-anchor=\"middle\" data-notex=\"1\" x=\"0\" y=\"0\" style=\"font-family: 'Open Sans', verdana, arial, sans-serif; font-size: 12px; fill: rgb(68, 68, 68); fill-opacity: 1; white-space: pre;\" transform=\"translate(116.71687499999999,135.415)\">503</text></g></g></g><g class=\"trace bars\" style=\"opacity: 1;\"><g class=\"points\"><g class=\"point\"><path d=\"M0,182.93V153.07H128.04V182.93Z\" style=\"vector-effect: none; opacity: 1; stroke-width: 0px; fill: rgb(245, 176, 65); fill-opacity: 1;\"/><text class=\"bartext bartext-inside\" text-anchor=\"middle\" data-notex=\"1\" x=\"0\" y=\"0\" style=\"font-family: 'Open Sans', verdana, arial, sans-serif; font-size: 12px; fill: rgb(68, 68, 68); fill-opacity: 1; white-space: pre;\" transform=\"translate(113.58687499999999,172.75)\">491</text></g></g></g><g class=\"trace bars\" style=\"opacity: 1;\"><g class=\"points\"><g class=\"point\"><path d=\"M0,220.27V190.4H106.92V220.27Z\" style=\"vector-effect: none; opacity: 1; stroke-width: 0px; fill: rgb(241, 148, 138); fill-opacity: 1;\"/><text class=\"bartext bartext-inside\" text-anchor=\"middle\" data-notex=\"1\" x=\"0\" y=\"0\" style=\"font-family: 'Open Sans', verdana, arial, sans-serif; font-size: 12px; fill: rgb(68, 68, 68); fill-opacity: 1; white-space: pre;\" transform=\"translate(92.466875,210.085)\">410</text></g></g></g><g class=\"trace bars\" style=\"opacity: 1;\"><g class=\"points\"><g class=\"point\"><path d=\"M0,294.93V265.07H90.23V294.93Z\" style=\"vector-effect: none; opacity: 1; stroke-width: 0px; fill: rgb(125, 206, 160); fill-opacity: 1;\"/><text class=\"bartext bartext-inside\" text-anchor=\"middle\" data-notex=\"1\" x=\"0\" y=\"0\" style=\"font-family: 'Open Sans', verdana, arial, sans-serif; font-size: 12px; fill: rgb(68, 68, 68); fill-opacity: 1; white-space: pre;\" transform=\"translate(75.776875,284.75)\">346</text></g></g></g><g class=\"trace bars\" style=\"opacity: 1;\"><g class=\"points\"><g class=\"point\"><path d=\"M0,70.93V41.07H514.5V70.93Z\" style=\"vector-effect: none; opacity: 1; stroke-width: 0px; fill: rgb(118, 215, 196); fill-opacity: 1;\"/><text class=\"bartext bartext-inside\" text-anchor=\"middle\" data-notex=\"1\" x=\"0\" y=\"0\" style=\"font-family: 'Open Sans', verdana, arial, sans-serif; font-size: 12px; fill: rgb(68, 68, 68); fill-opacity: 1; white-space: pre;\" transform=\"translate(496.234375,60.75)\">1973</text></g></g></g><g class=\"trace bars\" style=\"opacity: 1;\"><g class=\"points\"><g class=\"point\"><path d=\"M0,481.6V451.73H52.41V481.6Z\" style=\"vector-effect: none; opacity: 1; stroke-width: 0px; fill: rgb(133, 193, 233); fill-opacity: 1;\"/><text class=\"bartext bartext-inside\" text-anchor=\"middle\" data-notex=\"1\" x=\"0\" y=\"0\" style=\"font-family: 'Open Sans', verdana, arial, sans-serif; font-size: 12px; fill: rgb(68, 68, 68); fill-opacity: 1; white-space: pre;\" transform=\"translate(37.956875,471.415)\">201</text></g></g></g><g class=\"trace bars\" style=\"opacity: 1;\"><g class=\"points\"><g class=\"point\"><path d=\"M0,556.27V526.4H40.68V556.27Z\" style=\"vector-effect: none; opacity: 1; stroke-width: 0px; fill: rgb(174, 214, 241); fill-opacity: 1;\"/><text class=\"bartext bartext-inside\" text-anchor=\"middle\" data-notex=\"1\" x=\"0\" y=\"0\" style=\"font-family: 'Open Sans', verdana, arial, sans-serif; font-size: 12px; fill: rgb(68, 68, 68); fill-opacity: 1; white-space: pre;\" transform=\"translate(26.226875,546.085)\">156</text></g></g></g><g class=\"trace bars\" style=\"opacity: 1;\"><g class=\"points\"><g class=\"point\"><path d=\"M0,108.27V78.4H157.24V108.27Z\" style=\"vector-effect: none; opacity: 1; stroke-width: 0px; fill: rgb(210, 180, 222); fill-opacity: 1;\"/><text class=\"bartext bartext-inside\" text-anchor=\"middle\" data-notex=\"1\" x=\"0\" y=\"0\" style=\"font-family: 'Open Sans', verdana, arial, sans-serif; font-size: 12px; fill: rgb(68, 68, 68); fill-opacity: 1; white-space: pre;\" transform=\"translate(142.786875,98.08500000000001)\">603</text></g></g></g><g class=\"trace bars\" style=\"opacity: 1;\"><g class=\"points\"><g class=\"point\"><path d=\"M0,518.93V489.07H40.94V518.93Z\" style=\"vector-effect: none; opacity: 1; stroke-width: 0px; fill: rgb(250, 219, 216); fill-opacity: 1;\"/><text class=\"bartext bartext-inside\" text-anchor=\"middle\" data-notex=\"1\" x=\"0\" y=\"0\" style=\"font-family: 'Open Sans', verdana, arial, sans-serif; font-size: 12px; fill: rgb(68, 68, 68); fill-opacity: 1; white-space: pre;\" transform=\"translate(26.486874999999998,508.75)\">157</text></g></g></g><g class=\"trace bars\" style=\"opacity: 1;\"><g class=\"points\"><g class=\"point\"><path d=\"M0,332.27V302.4H57.63V332.27Z\" style=\"vector-effect: none; opacity: 1; stroke-width: 0px; fill: rgb(245, 183, 177); fill-opacity: 1;\"/><text class=\"bartext bartext-inside\" text-anchor=\"middle\" data-notex=\"1\" x=\"0\" y=\"0\" style=\"font-family: 'Open Sans', verdana, arial, sans-serif; font-size: 12px; fill: rgb(68, 68, 68); fill-opacity: 1; white-space: pre;\" transform=\"translate(43.176875,322.085)\">221</text></g></g></g><g class=\"trace bars\" style=\"opacity: 1;\"><g class=\"points\"><g class=\"point\"><path d=\"M0,444.27V414.4H52.41V444.27Z\" style=\"vector-effect: none; opacity: 1; stroke-width: 0px; fill: rgb(241, 148, 138); fill-opacity: 1;\"/><text class=\"bartext bartext-inside\" text-anchor=\"middle\" data-notex=\"1\" x=\"0\" y=\"0\" style=\"font-family: 'Open Sans', verdana, arial, sans-serif; font-size: 12px; fill: rgb(68, 68, 68); fill-opacity: 1; white-space: pre;\" transform=\"translate(37.956875,434.085)\">201</text></g></g></g><g class=\"trace bars\" style=\"opacity: 1;\"><g class=\"points\"><g class=\"point\"><path d=\"M0,406.93V377.07H56.33V406.93Z\" style=\"vector-effect: none; opacity: 1; stroke-width: 0px; fill: rgb(245, 183, 177); fill-opacity: 1;\"/><text class=\"bartext bartext-inside\" text-anchor=\"middle\" data-notex=\"1\" x=\"0\" y=\"0\" style=\"font-family: 'Open Sans', verdana, arial, sans-serif; font-size: 12px; fill: rgb(68, 68, 68); fill-opacity: 1; white-space: pre;\" transform=\"translate(41.876875,396.75)\">216</text></g></g></g><g class=\"trace bars\" style=\"opacity: 1;\"><g class=\"points\"><g class=\"point\"><path d=\"M0,369.6V339.73H57.37V369.6Z\" style=\"vector-effect: none; opacity: 1; stroke-width: 0px; fill: rgb(165, 105, 189); fill-opacity: 1;\"/><text class=\"bartext bartext-inside\" text-anchor=\"middle\" data-notex=\"1\" x=\"0\" y=\"0\" style=\"font-family: 'Open Sans', verdana, arial, sans-serif; font-size: 12px; fill: rgb(68, 68, 68); fill-opacity: 1; white-space: pre;\" transform=\"translate(42.916875,359.415)\">220</text></g></g></g><g class=\"trace bars\" style=\"opacity: 1;\"><g class=\"points\"><g class=\"point\"><path d=\"M0,257.6V227.73H93.1V257.6Z\" style=\"vector-effect: none; opacity: 1; stroke-width: 0px; fill: rgb(244, 208, 63); fill-opacity: 1;\"/><text class=\"bartext bartext-inside\" text-anchor=\"middle\" data-notex=\"1\" x=\"0\" y=\"0\" style=\"font-family: 'Open Sans', verdana, arial, sans-serif; font-size: 12px; fill: rgb(68, 68, 68); fill-opacity: 1; white-space: pre;\" transform=\"translate(78.646875,247.41500000000002)\">357</text></g></g></g></g></g><g class=\"overplot\"/><path class=\"xlines-above crisp\" d=\"M280,620.5H1411M280,59.5H1411\" style=\"fill: none; stroke-width: 1px; stroke: rgb(0, 0, 0); stroke-opacity: 1;\"/><path class=\"ylines-above crisp\" d=\"M280.5,60V620M1410.5,60V620\" style=\"fill: none; stroke-width: 1px; stroke: rgb(0, 0, 0); stroke-opacity: 1;\"/><g class=\"overlines-above\"/><g class=\"xaxislayer-above\"><path class=\"xtick ticks crisp\" d=\"M0,621v5\" transform=\"translate(281,0)\" style=\"stroke: rgb(51, 51, 51); stroke-opacity: 1; stroke-width: 1px;\"/><path class=\"xtick ticks crisp\" d=\"M0,621v5\" transform=\"translate(411.39,0)\" style=\"stroke: rgb(51, 51, 51); stroke-opacity: 1; stroke-width: 1px;\"/><path class=\"xtick ticks crisp\" d=\"M0,621v5\" transform=\"translate(541.77,0)\" style=\"stroke: rgb(51, 51, 51); stroke-opacity: 1; stroke-width: 1px;\"/><path class=\"xtick ticks crisp\" d=\"M0,621v5\" transform=\"translate(672.1600000000001,0)\" style=\"stroke: rgb(51, 51, 51); stroke-opacity: 1; stroke-width: 1px;\"/><path class=\"xtick ticks crisp\" d=\"M0,621v5\" transform=\"translate(802.54,0)\" style=\"stroke: rgb(51, 51, 51); stroke-opacity: 1; stroke-width: 1px;\"/><path class=\"xtick ticks crisp\" d=\"M0,621v5\" transform=\"translate(932.93,0)\" style=\"stroke: rgb(51, 51, 51); stroke-opacity: 1; stroke-width: 1px;\"/><path class=\"xtick ticks crisp\" d=\"M0,621v5\" transform=\"translate(1063.31,0)\" style=\"stroke: rgb(51, 51, 51); stroke-opacity: 1; stroke-width: 1px;\"/><path class=\"xtick ticks crisp\" d=\"M0,621v5\" transform=\"translate(1193.7,0)\" style=\"stroke: rgb(51, 51, 51); stroke-opacity: 1; stroke-width: 1px;\"/><path class=\"xtick ticks crisp\" d=\"M0,621v5\" transform=\"translate(1324.08,0)\" style=\"stroke: rgb(51, 51, 51); stroke-opacity: 1; stroke-width: 1px;\"/><g class=\"xtick\"><text text-anchor=\"middle\" x=\"0\" y=\"640.4\" transform=\"translate(281,0)\" style=\"font-family: 'Open Sans', verdana, arial, sans-serif; font-size: 12px; fill: rgb(51, 51, 51); fill-opacity: 1; white-space: pre; opacity: 1;\">0</text></g><g class=\"xtick\"><text text-anchor=\"middle\" x=\"0\" y=\"640.4\" style=\"font-family: 'Open Sans', verdana, arial, sans-serif; font-size: 12px; fill: rgb(51, 51, 51); fill-opacity: 1; white-space: pre; opacity: 1;\" transform=\"translate(411.39,0)\">500</text></g><g class=\"xtick\"><text text-anchor=\"middle\" x=\"0\" y=\"640.4\" style=\"font-family: 'Open Sans', verdana, arial, sans-serif; font-size: 12px; fill: rgb(51, 51, 51); fill-opacity: 1; white-space: pre; opacity: 1;\" transform=\"translate(541.77,0)\">1000</text></g><g class=\"xtick\"><text text-anchor=\"middle\" x=\"0\" y=\"640.4\" style=\"font-family: 'Open Sans', verdana, arial, sans-serif; font-size: 12px; fill: rgb(51, 51, 51); fill-opacity: 1; white-space: pre; opacity: 1;\" transform=\"translate(672.1600000000001,0)\">1500</text></g><g class=\"xtick\"><text text-anchor=\"middle\" x=\"0\" y=\"640.4\" style=\"font-family: 'Open Sans', verdana, arial, sans-serif; font-size: 12px; fill: rgb(51, 51, 51); fill-opacity: 1; white-space: pre; opacity: 1;\" transform=\"translate(802.54,0)\">2000</text></g><g class=\"xtick\"><text text-anchor=\"middle\" x=\"0\" y=\"640.4\" style=\"font-family: 'Open Sans', verdana, arial, sans-serif; font-size: 12px; fill: rgb(51, 51, 51); fill-opacity: 1; white-space: pre; opacity: 1;\" transform=\"translate(932.93,0)\">2500</text></g><g class=\"xtick\"><text text-anchor=\"middle\" x=\"0\" y=\"640.4\" style=\"font-family: 'Open Sans', verdana, arial, sans-serif; font-size: 12px; fill: rgb(51, 51, 51); fill-opacity: 1; white-space: pre; opacity: 1;\" transform=\"translate(1063.31,0)\">3000</text></g><g class=\"xtick\"><text text-anchor=\"middle\" x=\"0\" y=\"640.4\" style=\"font-family: 'Open Sans', verdana, arial, sans-serif; font-size: 12px; fill: rgb(51, 51, 51); fill-opacity: 1; white-space: pre; opacity: 1;\" transform=\"translate(1193.7,0)\">3500</text></g><g class=\"xtick\"><text text-anchor=\"middle\" x=\"0\" y=\"640.4\" style=\"font-family: 'Open Sans', verdana, arial, sans-serif; font-size: 12px; fill: rgb(51, 51, 51); fill-opacity: 1; white-space: pre; opacity: 1;\" transform=\"translate(1324.08,0)\">4000</text></g></g><g class=\"yaxislayer-above\"><path class=\"ytick ticks crisp\" d=\"M280,0h-5\" transform=\"translate(0,601.33)\" style=\"stroke: rgb(51, 51, 51); stroke-opacity: 1; stroke-width: 1px;\"/><path class=\"ytick ticks crisp\" d=\"M280,0h-5\" transform=\"translate(0,564)\" style=\"stroke: rgb(51, 51, 51); stroke-opacity: 1; stroke-width: 1px;\"/><path class=\"ytick ticks crisp\" d=\"M280,0h-5\" transform=\"translate(0,526.6700000000001)\" style=\"stroke: rgb(51, 51, 51); stroke-opacity: 1; stroke-width: 1px;\"/><path class=\"ytick ticks crisp\" d=\"M280,0h-5\" transform=\"translate(0,489.33)\" style=\"stroke: rgb(51, 51, 51); stroke-opacity: 1; stroke-width: 1px;\"/><path class=\"ytick ticks crisp\" d=\"M280,0h-5\" transform=\"translate(0,452)\" style=\"stroke: rgb(51, 51, 51); stroke-opacity: 1; stroke-width: 1px;\"/><path class=\"ytick ticks crisp\" d=\"M280,0h-5\" transform=\"translate(0,414.67)\" style=\"stroke: rgb(51, 51, 51); stroke-opacity: 1; stroke-width: 1px;\"/><path class=\"ytick ticks crisp\" d=\"M280,0h-5\" transform=\"translate(0,377.33)\" style=\"stroke: rgb(51, 51, 51); stroke-opacity: 1; stroke-width: 1px;\"/><path class=\"ytick ticks crisp\" d=\"M280,0h-5\" transform=\"translate(0,340)\" style=\"stroke: rgb(51, 51, 51); stroke-opacity: 1; stroke-width: 1px;\"/><path class=\"ytick ticks crisp\" d=\"M280,0h-5\" transform=\"translate(0,302.66999999999996)\" style=\"stroke: rgb(51, 51, 51); stroke-opacity: 1; stroke-width: 1px;\"/><path class=\"ytick ticks crisp\" d=\"M280,0h-5\" transform=\"translate(0,265.33000000000004)\" style=\"stroke: rgb(51, 51, 51); stroke-opacity: 1; stroke-width: 1px;\"/><path class=\"ytick ticks crisp\" d=\"M280,0h-5\" transform=\"translate(0,228)\" style=\"stroke: rgb(51, 51, 51); stroke-opacity: 1; stroke-width: 1px;\"/><path class=\"ytick ticks crisp\" d=\"M280,0h-5\" transform=\"translate(0,190.67)\" style=\"stroke: rgb(51, 51, 51); stroke-opacity: 1; stroke-width: 1px;\"/><path class=\"ytick ticks crisp\" d=\"M280,0h-5\" transform=\"translate(0,153.32999999999998)\" style=\"stroke: rgb(51, 51, 51); stroke-opacity: 1; stroke-width: 1px;\"/><path class=\"ytick ticks crisp\" d=\"M280,0h-5\" transform=\"translate(0,116)\" style=\"stroke: rgb(51, 51, 51); stroke-opacity: 1; stroke-width: 1px;\"/><path class=\"ytick ticks crisp\" d=\"M280,0h-5\" transform=\"translate(0,78.67)\" style=\"stroke: rgb(51, 51, 51); stroke-opacity: 1; stroke-width: 1px;\"/><g class=\"ytick\"><text text-anchor=\"end\" x=\"272.6\" y=\"4.199999999999999\" transform=\"translate(0,601.33)\" style=\"font-family: 'Open Sans', verdana, arial, sans-serif; font-size: 12px; fill: rgb(51, 51, 51); fill-opacity: 1; white-space: pre; opacity: 1;\">request-property-became-required</text></g><g class=\"ytick\"><text text-anchor=\"end\" x=\"272.6\" y=\"4.199999999999999\" transform=\"translate(0,564)\" style=\"font-family: 'Open Sans', verdana, arial, sans-serif; font-size: 12px; fill: rgb(51, 51, 51); fill-opacity: 1; white-space: pre; opacity: 1;\">request-property-type-changed</text></g><g class=\"ytick\"><text text-anchor=\"end\" x=\"272.6\" y=\"4.199999999999999\" transform=\"translate(0,526.6700000000001)\" style=\"font-family: 'Open Sans', verdana, arial, sans-serif; font-size: 12px; fill: rgb(51, 51, 51); fill-opacity: 1; white-space: pre; opacity: 1;\">request-parameter-type-changed</text></g><g class=\"ytick\"><text text-anchor=\"end\" x=\"272.6\" y=\"4.199999999999999\" transform=\"translate(0,489.33)\" style=\"font-family: 'Open Sans', verdana, arial, sans-serif; font-size: 12px; fill: rgb(51, 51, 51); fill-opacity: 1; white-space: pre; opacity: 1;\">response-media-type-removed</text></g><g class=\"ytick\"><text text-anchor=\"end\" x=\"272.6\" y=\"4.199999999999999\" transform=\"translate(0,452)\" style=\"font-family: 'Open Sans', verdana, arial, sans-serif; font-size: 12px; fill: rgb(51, 51, 51); fill-opacity: 1; white-space: pre; opacity: 1;\">response-property-enum-value-added</text></g><g class=\"ytick\"><text text-anchor=\"end\" x=\"272.6\" y=\"4.199999999999999\" transform=\"translate(0,414.67)\" style=\"font-family: 'Open Sans', verdana, arial, sans-serif; font-size: 12px; fill: rgb(51, 51, 51); fill-opacity: 1; white-space: pre; opacity: 1;\">response-property-type-changed</text></g><g class=\"ytick\"><text text-anchor=\"end\" x=\"272.6\" y=\"4.199999999999999\" transform=\"translate(0,377.33)\" style=\"font-family: 'Open Sans', verdana, arial, sans-serif; font-size: 12px; fill: rgb(51, 51, 51); fill-opacity: 1; white-space: pre; opacity: 1;\">response-body-type-changed</text></g><g class=\"ytick\"><text text-anchor=\"end\" x=\"272.6\" y=\"4.199999999999999\" transform=\"translate(0,340)\" style=\"font-family: 'Open Sans', verdana, arial, sans-serif; font-size: 12px; fill: rgb(51, 51, 51); fill-opacity: 1; white-space: pre; opacity: 1;\">request-parameter-became-required</text></g><g class=\"ytick\"><text text-anchor=\"end\" x=\"272.6\" y=\"4.199999999999999\" transform=\"translate(0,302.66999999999996)\" style=\"font-family: 'Open Sans', verdana, arial, sans-serif; font-size: 12px; fill: rgb(51, 51, 51); fill-opacity: 1; white-space: pre; opacity: 1;\">response-success-status-removed</text></g><g class=\"ytick\"><text text-anchor=\"end\" x=\"272.6\" y=\"4.199999999999999\" transform=\"translate(0,265.33000000000004)\" style=\"font-family: 'Open Sans', verdana, arial, sans-serif; font-size: 12px; fill: rgb(51, 51, 51); fill-opacity: 1; white-space: pre; opacity: 1;\">new-required-request-property</text></g><g class=\"ytick\"><text text-anchor=\"end\" x=\"272.6\" y=\"4.199999999999999\" transform=\"translate(0,228)\" style=\"font-family: 'Open Sans', verdana, arial, sans-serif; font-size: 12px; fill: rgb(51, 51, 51); fill-opacity: 1; white-space: pre; opacity: 1;\">new-required-request-parameter</text></g><g class=\"ytick\"><text text-anchor=\"end\" x=\"272.6\" y=\"4.199999999999999\" transform=\"translate(0,190.67)\" style=\"font-family: 'Open Sans', verdana, arial, sans-serif; font-size: 12px; fill: rgb(51, 51, 51); fill-opacity: 1; white-space: pre; opacity: 1;\">api-removed-without-deprecation</text></g><g class=\"ytick\"><text text-anchor=\"end\" x=\"272.6\" y=\"4.199999999999999\" transform=\"translate(0,153.32999999999998)\" style=\"font-family: 'Open Sans', verdana, arial, sans-serif; font-size: 12px; fill: rgb(51, 51, 51); fill-opacity: 1; white-space: pre; opacity: 1;\">request-property-removed</text></g><g class=\"ytick\"><text text-anchor=\"end\" x=\"272.6\" y=\"4.199999999999999\" transform=\"translate(0,116)\" style=\"font-family: 'Open Sans', verdana, arial, sans-serif; font-size: 12px; fill: rgb(51, 51, 51); fill-opacity: 1; white-space: pre; opacity: 1;\">request-parameter-removed</text></g><g class=\"ytick\"><text text-anchor=\"end\" x=\"272.6\" y=\"4.199999999999999\" transform=\"translate(0,78.67)\" style=\"font-family: 'Open Sans', verdana, arial, sans-serif; font-size: 12px; fill: rgb(51, 51, 51); fill-opacity: 1; white-space: pre; opacity: 1;\">api-path-removed-without-deprecation</text></g></g><g class=\"overaxes-above\"/></g></g><g class=\"polarlayer\"/><g class=\"smithlayer\"/><g class=\"ternarylayer\"/><g class=\"geolayer\"/><g class=\"funnelarealayer\"/><g class=\"pielayer\"/><g class=\"iciclelayer\"/><g class=\"treemaplayer\"/><g class=\"sunburstlayer\"/><g class=\"glimages\"/><defs id=\"topdefs-7a0e9d\"><g class=\"clips\"/></defs><g class=\"layer-above\"><g class=\"imagelayer\"/><g class=\"shapelayer\"/></g><g class=\"infolayer\"><g class=\"g-gtitle\"><text class=\"gtitle\" x=\"745\" y=\"30\" text-anchor=\"middle\" dy=\"0em\" style=\"font-family: 'Open Sans', verdana, arial, sans-serif; font-size: 17px; fill: rgb(51, 51, 51); opacity: 1; font-weight: normal; white-space: pre;\">Occurence of Breaking Changes in Early APIs</text></g><g class=\"g-xtitle\"><text class=\"xtitle\" x=\"845.5\" y=\"667.20625\" text-anchor=\"middle\" style=\"font-family: 'Open Sans', verdana, arial, sans-serif; font-size: 14px; fill: rgb(51, 51, 51); opacity: 1; font-weight: normal; white-space: pre;\">Number of Occurences</text></g><g class=\"g-ytitle\" transform=\"translate(1.2060546875,0)\"><text class=\"ytitle\" transform=\"rotate(-90,12.793749999999989,340)\" x=\"12.793749999999989\" y=\"340\" text-anchor=\"middle\" style=\"font-family: 'Open Sans', verdana, arial, sans-serif; font-size: 14px; fill: rgb(51, 51, 51); opacity: 1; font-weight: normal; white-space: pre;\">Type of Change</text></g></g></svg>"
     },
     "metadata": {},
     "output_type": "display_data"
    }
   ],
   "source": [
    "fig= px.histogram(early_changes, x=\"Early\", y=\"content\",color=\"content\", color_discrete_sequence=['#A569BD', '#F4D03F', '#F5B041', '#F1948A', '#7DCEA0', '#76D7C4', '#85C1E9', '#AED6F1', '#D2B4DE', '#FADBD8', '#F5B7B1', '#F1948A', '#F5B7B1'], text_auto=True)\n",
    "\n",
    "fig.update_xaxes(showline=True, linewidth=1, linecolor='black', mirror=True)\n",
    "fig.update_yaxes(categoryorder='total ascending',showline=True, linewidth=1, linecolor='black', mirror=True)\n",
    "\n",
    "fig.update_layout(template='ggplot2',width=1490, height=700, title = 'Occurence of Breaking Changes in Early APIs', xaxis_title='Number of Occurences', yaxis_title='Type of Change', showlegend=False)\n",
    "\n",
    "fig.show(\"svg\")\n"
   ]
  },
  {
   "cell_type": "code",
   "execution_count": null,
   "metadata": {},
   "outputs": [],
   "source": [
    "import plotly.express as px\n",
    "developing_changes = grouped_changes.loc['Developing']\n",
    "mature_changes = grouped_changes.loc['Mature']\n",
    "legacy_changes = grouped_changes.loc['Legacy']\n",
    "\n",
    "developing_changes = pd.DataFrame(developing_changes)\n",
    "mature_changes = pd.DataFrame(mature_changes)\n",
    "legacy_changes = pd.DataFrame(legacy_changes)"
   ]
  },
  {
   "cell_type": "code",
   "execution_count": null,
   "metadata": {},
   "outputs": [],
   "source": [
    "other_changes = pd.DataFrame(grouped_changes.loc['Other'])\n",
    "other_changes = other_changes.reset_index()"
   ]
  },
  {
   "cell_type": "code",
   "execution_count": null,
   "metadata": {},
   "outputs": [],
   "source": [
    "developing_changes = developing_changes.reset_index()\n",
    "mature_changes = mature_changes.reset_index()\n",
    "legacy_changes = legacy_changes.reset_index()"
   ]
  },
  {
   "cell_type": "code",
   "execution_count": null,
   "metadata": {},
   "outputs": [
    {
     "data": {
      "image/svg+xml": "<svg class=\"main-svg\" xmlns=\"http://www.w3.org/2000/svg\" xmlns:xlink=\"http://www.w3.org/1999/xlink\" width=\"1300\" height=\"600\" style=\"\" viewBox=\"0 0 1300 600\"><rect x=\"0\" y=\"0\" width=\"1300\" height=\"600\" style=\"fill: rgb(255, 255, 255); fill-opacity: 1;\"/><defs id=\"defs-424dc4\"><g class=\"clips\"><clipPath id=\"clip424dc4xyplot\" class=\"plotclip\"><rect width=\"939\" height=\"460\"/></clipPath><clipPath class=\"axesclip\" id=\"clip424dc4x\"><rect x=\"281\" y=\"0\" width=\"939\" height=\"600\"/></clipPath><clipPath class=\"axesclip\" id=\"clip424dc4y\"><rect x=\"0\" y=\"60\" width=\"1300\" height=\"460\"/></clipPath><clipPath class=\"axesclip\" id=\"clip424dc4xy\"><rect x=\"281\" y=\"60\" width=\"939\" height=\"460\"/></clipPath></g><g class=\"gradients\"/><g class=\"patterns\"/></defs><g class=\"bglayer\"><rect class=\"bg\" x=\"281\" y=\"60\" width=\"939\" height=\"460\" style=\"fill: rgb(237, 237, 237); fill-opacity: 1; stroke-width: 0;\"/></g><g class=\"layer-below\"><g class=\"imagelayer\"/><g class=\"shapelayer\"/></g><g class=\"cartesianlayer\"><g class=\"subplot xy\"><g class=\"layer-subplot\"><g class=\"shapelayer\"/><g class=\"imagelayer\"/></g><g class=\"minor-gridlayer\"><g class=\"x\"/><g class=\"y\"/></g><g class=\"gridlayer\"><g class=\"x\"><path class=\"xgrid crisp\" transform=\"translate(466.84000000000003,0)\" d=\"M0,60v460\" style=\"stroke: rgb(255, 255, 255); stroke-opacity: 1; stroke-width: 1px;\"/><path class=\"xgrid crisp\" transform=\"translate(652.69,0)\" d=\"M0,60v460\" style=\"stroke: rgb(255, 255, 255); stroke-opacity: 1; stroke-width: 1px;\"/><path class=\"xgrid crisp\" transform=\"translate(838.53,0)\" d=\"M0,60v460\" style=\"stroke: rgb(255, 255, 255); stroke-opacity: 1; stroke-width: 1px;\"/><path class=\"xgrid crisp\" transform=\"translate(1024.38,0)\" d=\"M0,60v460\" style=\"stroke: rgb(255, 255, 255); stroke-opacity: 1; stroke-width: 1px;\"/><path class=\"xgrid crisp\" transform=\"translate(1210.22,0)\" d=\"M0,60v460\" style=\"stroke: rgb(255, 255, 255); stroke-opacity: 1; stroke-width: 1px;\"/></g><g class=\"y\"><path class=\"ygrid crisp\" transform=\"translate(0,504.67)\" d=\"M281,0h939\" style=\"stroke: rgb(255, 255, 255); stroke-opacity: 1; stroke-width: 1px;\"/><path class=\"ygrid crisp\" transform=\"translate(0,474)\" d=\"M281,0h939\" style=\"stroke: rgb(255, 255, 255); stroke-opacity: 1; stroke-width: 1px;\"/><path class=\"ygrid crisp\" transform=\"translate(0,443.33)\" d=\"M281,0h939\" style=\"stroke: rgb(255, 255, 255); stroke-opacity: 1; stroke-width: 1px;\"/><path class=\"ygrid crisp\" transform=\"translate(0,412.67)\" d=\"M281,0h939\" style=\"stroke: rgb(255, 255, 255); stroke-opacity: 1; stroke-width: 1px;\"/><path class=\"ygrid crisp\" transform=\"translate(0,382)\" d=\"M281,0h939\" style=\"stroke: rgb(255, 255, 255); stroke-opacity: 1; stroke-width: 1px;\"/><path class=\"ygrid crisp\" transform=\"translate(0,351.33)\" d=\"M281,0h939\" style=\"stroke: rgb(255, 255, 255); stroke-opacity: 1; stroke-width: 1px;\"/><path class=\"ygrid crisp\" transform=\"translate(0,320.67)\" d=\"M281,0h939\" style=\"stroke: rgb(255, 255, 255); stroke-opacity: 1; stroke-width: 1px;\"/><path class=\"ygrid crisp\" transform=\"translate(0,290)\" d=\"M281,0h939\" style=\"stroke: rgb(255, 255, 255); stroke-opacity: 1; stroke-width: 1px;\"/><path class=\"ygrid crisp\" transform=\"translate(0,259.33000000000004)\" d=\"M281,0h939\" style=\"stroke: rgb(255, 255, 255); stroke-opacity: 1; stroke-width: 1px;\"/><path class=\"ygrid crisp\" transform=\"translate(0,228.67)\" d=\"M281,0h939\" style=\"stroke: rgb(255, 255, 255); stroke-opacity: 1; stroke-width: 1px;\"/><path class=\"ygrid crisp\" transform=\"translate(0,198)\" d=\"M281,0h939\" style=\"stroke: rgb(255, 255, 255); stroke-opacity: 1; stroke-width: 1px;\"/><path class=\"ygrid crisp\" transform=\"translate(0,167.32999999999998)\" d=\"M281,0h939\" style=\"stroke: rgb(255, 255, 255); stroke-opacity: 1; stroke-width: 1px;\"/><path class=\"ygrid crisp\" transform=\"translate(0,136.67000000000002)\" d=\"M281,0h939\" style=\"stroke: rgb(255, 255, 255); stroke-opacity: 1; stroke-width: 1px;\"/><path class=\"ygrid crisp\" transform=\"translate(0,106)\" d=\"M281,0h939\" style=\"stroke: rgb(255, 255, 255); stroke-opacity: 1; stroke-width: 1px;\"/><path class=\"ygrid crisp\" transform=\"translate(0,75.33)\" d=\"M281,0h939\" style=\"stroke: rgb(255, 255, 255); stroke-opacity: 1; stroke-width: 1px;\"/></g></g><g class=\"zerolinelayer\"><path class=\"xzl zl crisp\" transform=\"translate(281,0)\" d=\"M0,60v460\" style=\"stroke: rgb(255, 255, 255); stroke-opacity: 1; stroke-width: 1px;\"/></g><path class=\"xlines-below\"/><path class=\"ylines-below\"/><g class=\"overlines-below\"/><g class=\"xaxislayer-below\"/><g class=\"yaxislayer-below\"/><g class=\"overaxes-below\"/><g class=\"plot\" transform=\"translate(281,60)\" clip-path=\"url(#clip424dc4xyplot)\"><g class=\"barlayer mlayer\"><g class=\"trace bars\" style=\"opacity: 1;\"><g class=\"points\"><g class=\"point\"><path d=\"M0,27.6V3.07H892.05V27.6Z\" style=\"vector-effect: none; opacity: 1; stroke-width: 0px; fill: rgb(165, 105, 189); fill-opacity: 1;\"/><text class=\"bartext bartext-inside\" text-anchor=\"middle\" data-notex=\"1\" x=\"0\" y=\"0\" style=\"font-family: 'Open Sans', verdana, arial, sans-serif; font-size: 12px; fill: rgb(68, 68, 68); fill-opacity: 1; white-space: pre;\" transform=\"translate(881.409375,20.085)\">24</text></g></g></g><g class=\"trace bars\" style=\"opacity: 1;\"><g class=\"points\"><g class=\"point\"><path d=\"M0,88.93V64.4H297.35V88.93Z\" style=\"vector-effect: none; opacity: 1; stroke-width: 0px; fill: rgb(244, 208, 63); fill-opacity: 1;\"/><text class=\"bartext bartext-inside\" text-anchor=\"middle\" data-notex=\"1\" x=\"0\" y=\"0\" style=\"font-family: 'Open Sans', verdana, arial, sans-serif; font-size: 12px; fill: rgb(68, 68, 68); fill-opacity: 1; white-space: pre;\" transform=\"translate(290.521875,81.415)\">8</text></g></g></g><g class=\"trace bars\" style=\"opacity: 1;\"><g class=\"points\"><g class=\"point\"><path d=\"M0,242.27V217.73H74.34V242.27Z\" style=\"vector-effect: none; opacity: 1; stroke-width: 0px; fill: rgb(245, 176, 65); fill-opacity: 1;\"/><text class=\"bartext bartext-inside\" text-anchor=\"middle\" data-notex=\"1\" x=\"0\" y=\"0\" style=\"font-family: 'Open Sans', verdana, arial, sans-serif; font-size: 12px; fill: rgb(68, 68, 68); fill-opacity: 1; white-space: pre;\" transform=\"translate(67.511875,234.75)\">2</text></g></g></g><g class=\"trace bars\" style=\"opacity: 1;\"><g class=\"points\"><g class=\"point\"><path d=\"M0,211.6V187.07H111.51V211.6Z\" style=\"vector-effect: none; opacity: 1; stroke-width: 0px; fill: rgb(241, 148, 138); fill-opacity: 1;\"/><text class=\"bartext bartext-inside\" text-anchor=\"middle\" data-notex=\"1\" x=\"0\" y=\"0\" style=\"font-family: 'Open Sans', verdana, arial, sans-serif; font-size: 12px; fill: rgb(68, 68, 68); fill-opacity: 1; white-space: pre;\" transform=\"translate(104.681875,204.08499999999998)\">3</text></g></g></g><g class=\"trace bars\" style=\"opacity: 1;\"><g class=\"points\"><g class=\"point\"><path d=\"M0,456.93V432.4H37.17V456.93Z\" style=\"vector-effect: none; opacity: 1; stroke-width: 0px; fill: rgb(125, 206, 160); fill-opacity: 1;\"/><text class=\"bartext bartext-inside\" text-anchor=\"middle\" data-notex=\"1\" x=\"0\" y=\"0\" style=\"font-family: 'Open Sans', verdana, arial, sans-serif; font-size: 12px; fill: rgb(68, 68, 68); fill-opacity: 1; white-space: pre;\" transform=\"translate(30.341875,449.41499999999996)\">1</text></g></g></g><g class=\"trace bars\" style=\"opacity: 1;\"><g class=\"points\"><g class=\"point\"><path d=\"M0,58.27V33.73H334.52V58.27Z\" style=\"vector-effect: none; opacity: 1; stroke-width: 0px; fill: rgb(118, 215, 196); fill-opacity: 1;\"/><text class=\"bartext bartext-inside\" text-anchor=\"middle\" data-notex=\"1\" x=\"0\" y=\"0\" style=\"font-family: 'Open Sans', verdana, arial, sans-serif; font-size: 12px; fill: rgb(68, 68, 68); fill-opacity: 1; white-space: pre;\" transform=\"translate(327.691875,50.75)\">9</text></g></g></g><g class=\"trace bars\" style=\"opacity: 1;\"><g class=\"points\"><g class=\"point\"><path d=\"M0,180.93V156.4H111.51V180.93Z\" style=\"vector-effect: none; opacity: 1; stroke-width: 0px; fill: rgb(133, 193, 233); fill-opacity: 1;\"/><text class=\"bartext bartext-inside\" text-anchor=\"middle\" data-notex=\"1\" x=\"0\" y=\"0\" style=\"font-family: 'Open Sans', verdana, arial, sans-serif; font-size: 12px; fill: rgb(68, 68, 68); fill-opacity: 1; white-space: pre;\" transform=\"translate(104.681875,173.41500000000002)\">3</text></g></g></g><g class=\"trace bars\" style=\"opacity: 1;\"><g class=\"points\"><g class=\"point\"><path d=\"M0,426.27V401.73H37.17V426.27Z\" style=\"vector-effect: none; opacity: 1; stroke-width: 0px; fill: rgb(174, 214, 241); fill-opacity: 1;\"/><text class=\"bartext bartext-inside\" text-anchor=\"middle\" data-notex=\"1\" x=\"0\" y=\"0\" style=\"font-family: 'Open Sans', verdana, arial, sans-serif; font-size: 12px; fill: rgb(68, 68, 68); fill-opacity: 1; white-space: pre;\" transform=\"translate(30.341875,418.75)\">1</text></g></g></g><g class=\"trace bars\" style=\"opacity: 1;\"><g class=\"points\"><g class=\"point\"><path d=\"M0,119.6V95.07H148.68V119.6Z\" style=\"vector-effect: none; opacity: 1; stroke-width: 0px; fill: rgb(210, 180, 222); fill-opacity: 1;\"/><text class=\"bartext bartext-inside\" text-anchor=\"middle\" data-notex=\"1\" x=\"0\" y=\"0\" style=\"font-family: 'Open Sans', verdana, arial, sans-serif; font-size: 12px; fill: rgb(68, 68, 68); fill-opacity: 1; white-space: pre;\" transform=\"translate(141.851875,112.085)\">4</text></g></g></g><g class=\"trace bars\" style=\"opacity: 1;\"><g class=\"points\"><g class=\"point\"><path d=\"M0,395.6V371.07H37.17V395.6Z\" style=\"vector-effect: none; opacity: 1; stroke-width: 0px; fill: rgb(250, 219, 216); fill-opacity: 1;\"/><text class=\"bartext bartext-inside\" text-anchor=\"middle\" data-notex=\"1\" x=\"0\" y=\"0\" style=\"font-family: 'Open Sans', verdana, arial, sans-serif; font-size: 12px; fill: rgb(68, 68, 68); fill-opacity: 1; white-space: pre;\" transform=\"translate(30.341875,388.08500000000004)\">1</text></g></g></g><g class=\"trace bars\" style=\"opacity: 1;\"><g class=\"points\"><g class=\"point\"><path d=\"M0,364.93V340.4H37.17V364.93Z\" style=\"vector-effect: none; opacity: 1; stroke-width: 0px; fill: rgb(245, 183, 177); fill-opacity: 1;\"/><text class=\"bartext bartext-inside\" text-anchor=\"middle\" data-notex=\"1\" x=\"0\" y=\"0\" style=\"font-family: 'Open Sans', verdana, arial, sans-serif; font-size: 12px; fill: rgb(68, 68, 68); fill-opacity: 1; white-space: pre;\" transform=\"translate(30.341875,357.41499999999996)\">1</text></g></g></g><g class=\"trace bars\" style=\"opacity: 1;\"><g class=\"points\"><g class=\"point\"><path d=\"M0,334.27V309.73H37.17V334.27Z\" style=\"vector-effect: none; opacity: 1; stroke-width: 0px; fill: rgb(241, 148, 138); fill-opacity: 1;\"/><text class=\"bartext bartext-inside\" text-anchor=\"middle\" data-notex=\"1\" x=\"0\" y=\"0\" style=\"font-family: 'Open Sans', verdana, arial, sans-serif; font-size: 12px; fill: rgb(68, 68, 68); fill-opacity: 1; white-space: pre;\" transform=\"translate(30.341875,326.75)\">1</text></g></g></g><g class=\"trace bars\" style=\"opacity: 1;\"><g class=\"points\"><g class=\"point\"><path d=\"M0,303.6V279.07H37.17V303.6Z\" style=\"vector-effect: none; opacity: 1; stroke-width: 0px; fill: rgb(245, 183, 177); fill-opacity: 1;\"/><text class=\"bartext bartext-inside\" text-anchor=\"middle\" data-notex=\"1\" x=\"0\" y=\"0\" style=\"font-family: 'Open Sans', verdana, arial, sans-serif; font-size: 12px; fill: rgb(68, 68, 68); fill-opacity: 1; white-space: pre;\" transform=\"translate(30.341875,296.08500000000004)\">1</text></g></g></g><g class=\"trace bars\" style=\"opacity: 1;\"><g class=\"points\"><g class=\"point\"><path d=\"M0,272.93V248.4H37.17V272.93Z\" style=\"vector-effect: none; opacity: 1; stroke-width: 0px; fill: rgb(165, 105, 189); fill-opacity: 1;\"/><text class=\"bartext bartext-inside\" text-anchor=\"middle\" data-notex=\"1\" x=\"0\" y=\"0\" style=\"font-family: 'Open Sans', verdana, arial, sans-serif; font-size: 12px; fill: rgb(68, 68, 68); fill-opacity: 1; white-space: pre;\" transform=\"translate(30.341875,265.415)\">1</text></g></g></g><g class=\"trace bars\" style=\"opacity: 1;\"><g class=\"points\"><g class=\"point\"><path d=\"M0,150.27V125.73H111.51V150.27Z\" style=\"vector-effect: none; opacity: 1; stroke-width: 0px; fill: rgb(244, 208, 63); fill-opacity: 1;\"/><text class=\"bartext bartext-inside\" text-anchor=\"middle\" data-notex=\"1\" x=\"0\" y=\"0\" style=\"font-family: 'Open Sans', verdana, arial, sans-serif; font-size: 12px; fill: rgb(68, 68, 68); fill-opacity: 1; white-space: pre;\" transform=\"translate(104.681875,142.75)\">3</text></g></g></g></g></g><g class=\"overplot\"/><path class=\"xlines-above crisp\" d=\"M280,520.5H1221M280,59.5H1221\" style=\"fill: none; stroke-width: 1px; stroke: rgb(0, 0, 0); stroke-opacity: 1;\"/><path class=\"ylines-above crisp\" d=\"M280.5,60V520M1220.5,60V520\" style=\"fill: none; stroke-width: 1px; stroke: rgb(0, 0, 0); stroke-opacity: 1;\"/><g class=\"overlines-above\"/><g class=\"xaxislayer-above\"><path class=\"xtick ticks crisp\" d=\"M0,521v5\" transform=\"translate(281,0)\" style=\"stroke: rgb(51, 51, 51); stroke-opacity: 1; stroke-width: 1px;\"/><path class=\"xtick ticks crisp\" d=\"M0,521v5\" transform=\"translate(466.84000000000003,0)\" style=\"stroke: rgb(51, 51, 51); stroke-opacity: 1; stroke-width: 1px;\"/><path class=\"xtick ticks crisp\" d=\"M0,521v5\" transform=\"translate(652.69,0)\" style=\"stroke: rgb(51, 51, 51); stroke-opacity: 1; stroke-width: 1px;\"/><path class=\"xtick ticks crisp\" d=\"M0,521v5\" transform=\"translate(838.53,0)\" style=\"stroke: rgb(51, 51, 51); stroke-opacity: 1; stroke-width: 1px;\"/><path class=\"xtick ticks crisp\" d=\"M0,521v5\" transform=\"translate(1024.38,0)\" style=\"stroke: rgb(51, 51, 51); stroke-opacity: 1; stroke-width: 1px;\"/><path class=\"xtick ticks crisp\" d=\"M0,521v5\" transform=\"translate(1210.22,0)\" style=\"stroke: rgb(51, 51, 51); stroke-opacity: 1; stroke-width: 1px;\"/><g class=\"xtick\"><text text-anchor=\"middle\" x=\"0\" y=\"540.4\" transform=\"translate(281,0)\" style=\"font-family: 'Open Sans', verdana, arial, sans-serif; font-size: 12px; fill: rgb(51, 51, 51); fill-opacity: 1; white-space: pre; opacity: 1;\">0</text></g><g class=\"xtick\"><text text-anchor=\"middle\" x=\"0\" y=\"540.4\" style=\"font-family: 'Open Sans', verdana, arial, sans-serif; font-size: 12px; fill: rgb(51, 51, 51); fill-opacity: 1; white-space: pre; opacity: 1;\" transform=\"translate(466.84000000000003,0)\">5</text></g><g class=\"xtick\"><text text-anchor=\"middle\" x=\"0\" y=\"540.4\" style=\"font-family: 'Open Sans', verdana, arial, sans-serif; font-size: 12px; fill: rgb(51, 51, 51); fill-opacity: 1; white-space: pre; opacity: 1;\" transform=\"translate(652.69,0)\">10</text></g><g class=\"xtick\"><text text-anchor=\"middle\" x=\"0\" y=\"540.4\" style=\"font-family: 'Open Sans', verdana, arial, sans-serif; font-size: 12px; fill: rgb(51, 51, 51); fill-opacity: 1; white-space: pre; opacity: 1;\" transform=\"translate(838.53,0)\">15</text></g><g class=\"xtick\"><text text-anchor=\"middle\" x=\"0\" y=\"540.4\" style=\"font-family: 'Open Sans', verdana, arial, sans-serif; font-size: 12px; fill: rgb(51, 51, 51); fill-opacity: 1; white-space: pre; opacity: 1;\" transform=\"translate(1024.38,0)\">20</text></g><g class=\"xtick\"><text text-anchor=\"middle\" x=\"0\" y=\"540.4\" style=\"font-family: 'Open Sans', verdana, arial, sans-serif; font-size: 12px; fill: rgb(51, 51, 51); fill-opacity: 1; white-space: pre; opacity: 1;\" transform=\"translate(1210.22,0)\">25</text></g></g><g class=\"yaxislayer-above\"><path class=\"ytick ticks crisp\" d=\"M280,0h-5\" transform=\"translate(0,504.67)\" style=\"stroke: rgb(51, 51, 51); stroke-opacity: 1; stroke-width: 1px;\"/><path class=\"ytick ticks crisp\" d=\"M280,0h-5\" transform=\"translate(0,474)\" style=\"stroke: rgb(51, 51, 51); stroke-opacity: 1; stroke-width: 1px;\"/><path class=\"ytick ticks crisp\" d=\"M280,0h-5\" transform=\"translate(0,443.33)\" style=\"stroke: rgb(51, 51, 51); stroke-opacity: 1; stroke-width: 1px;\"/><path class=\"ytick ticks crisp\" d=\"M280,0h-5\" transform=\"translate(0,412.67)\" style=\"stroke: rgb(51, 51, 51); stroke-opacity: 1; stroke-width: 1px;\"/><path class=\"ytick ticks crisp\" d=\"M280,0h-5\" transform=\"translate(0,382)\" style=\"stroke: rgb(51, 51, 51); stroke-opacity: 1; stroke-width: 1px;\"/><path class=\"ytick ticks crisp\" d=\"M280,0h-5\" transform=\"translate(0,351.33)\" style=\"stroke: rgb(51, 51, 51); stroke-opacity: 1; stroke-width: 1px;\"/><path class=\"ytick ticks crisp\" d=\"M280,0h-5\" transform=\"translate(0,320.67)\" style=\"stroke: rgb(51, 51, 51); stroke-opacity: 1; stroke-width: 1px;\"/><path class=\"ytick ticks crisp\" d=\"M280,0h-5\" transform=\"translate(0,290)\" style=\"stroke: rgb(51, 51, 51); stroke-opacity: 1; stroke-width: 1px;\"/><path class=\"ytick ticks crisp\" d=\"M280,0h-5\" transform=\"translate(0,259.33000000000004)\" style=\"stroke: rgb(51, 51, 51); stroke-opacity: 1; stroke-width: 1px;\"/><path class=\"ytick ticks crisp\" d=\"M280,0h-5\" transform=\"translate(0,228.67)\" style=\"stroke: rgb(51, 51, 51); stroke-opacity: 1; stroke-width: 1px;\"/><path class=\"ytick ticks crisp\" d=\"M280,0h-5\" transform=\"translate(0,198)\" style=\"stroke: rgb(51, 51, 51); stroke-opacity: 1; stroke-width: 1px;\"/><path class=\"ytick ticks crisp\" d=\"M280,0h-5\" transform=\"translate(0,167.32999999999998)\" style=\"stroke: rgb(51, 51, 51); stroke-opacity: 1; stroke-width: 1px;\"/><path class=\"ytick ticks crisp\" d=\"M280,0h-5\" transform=\"translate(0,136.67000000000002)\" style=\"stroke: rgb(51, 51, 51); stroke-opacity: 1; stroke-width: 1px;\"/><path class=\"ytick ticks crisp\" d=\"M280,0h-5\" transform=\"translate(0,106)\" style=\"stroke: rgb(51, 51, 51); stroke-opacity: 1; stroke-width: 1px;\"/><path class=\"ytick ticks crisp\" d=\"M280,0h-5\" transform=\"translate(0,75.33)\" style=\"stroke: rgb(51, 51, 51); stroke-opacity: 1; stroke-width: 1px;\"/><g class=\"ytick\"><text text-anchor=\"end\" x=\"272.6\" y=\"4.199999999999999\" transform=\"translate(0,504.67)\" style=\"font-family: 'Open Sans', verdana, arial, sans-serif; font-size: 12px; fill: rgb(51, 51, 51); fill-opacity: 1; white-space: pre; opacity: 1;\">request-parameter-became-required</text></g><g class=\"ytick\"><text text-anchor=\"end\" x=\"272.6\" y=\"4.199999999999999\" transform=\"translate(0,474)\" style=\"font-family: 'Open Sans', verdana, arial, sans-serif; font-size: 12px; fill: rgb(51, 51, 51); fill-opacity: 1; white-space: pre; opacity: 1;\">request-property-became-required</text></g><g class=\"ytick\"><text text-anchor=\"end\" x=\"272.6\" y=\"4.199999999999999\" transform=\"translate(0,443.33)\" style=\"font-family: 'Open Sans', verdana, arial, sans-serif; font-size: 12px; fill: rgb(51, 51, 51); fill-opacity: 1; white-space: pre; opacity: 1;\">request-property-type-changed</text></g><g class=\"ytick\"><text text-anchor=\"end\" x=\"272.6\" y=\"4.199999999999999\" transform=\"translate(0,412.67)\" style=\"font-family: 'Open Sans', verdana, arial, sans-serif; font-size: 12px; fill: rgb(51, 51, 51); fill-opacity: 1; white-space: pre; opacity: 1;\">response-body-type-changed</text></g><g class=\"ytick\"><text text-anchor=\"end\" x=\"272.6\" y=\"4.199999999999999\" transform=\"translate(0,382)\" style=\"font-family: 'Open Sans', verdana, arial, sans-serif; font-size: 12px; fill: rgb(51, 51, 51); fill-opacity: 1; white-space: pre; opacity: 1;\">response-media-type-removed</text></g><g class=\"ytick\"><text text-anchor=\"end\" x=\"272.6\" y=\"4.199999999999999\" transform=\"translate(0,351.33)\" style=\"font-family: 'Open Sans', verdana, arial, sans-serif; font-size: 12px; fill: rgb(51, 51, 51); fill-opacity: 1; white-space: pre; opacity: 1;\">response-property-enum-value-added</text></g><g class=\"ytick\"><text text-anchor=\"end\" x=\"272.6\" y=\"4.199999999999999\" transform=\"translate(0,320.67)\" style=\"font-family: 'Open Sans', verdana, arial, sans-serif; font-size: 12px; fill: rgb(51, 51, 51); fill-opacity: 1; white-space: pre; opacity: 1;\">response-property-type-changed</text></g><g class=\"ytick\"><text text-anchor=\"end\" x=\"272.6\" y=\"4.199999999999999\" transform=\"translate(0,290)\" style=\"font-family: 'Open Sans', verdana, arial, sans-serif; font-size: 12px; fill: rgb(51, 51, 51); fill-opacity: 1; white-space: pre; opacity: 1;\">new-required-request-parameter</text></g><g class=\"ytick\"><text text-anchor=\"end\" x=\"272.6\" y=\"4.199999999999999\" transform=\"translate(0,259.33000000000004)\" style=\"font-family: 'Open Sans', verdana, arial, sans-serif; font-size: 12px; fill: rgb(51, 51, 51); fill-opacity: 1; white-space: pre; opacity: 1;\">new-required-request-property</text></g><g class=\"ytick\"><text text-anchor=\"end\" x=\"272.6\" y=\"4.199999999999999\" transform=\"translate(0,228.67)\" style=\"font-family: 'Open Sans', verdana, arial, sans-serif; font-size: 12px; fill: rgb(51, 51, 51); fill-opacity: 1; white-space: pre; opacity: 1;\">request-parameter-type-changed</text></g><g class=\"ytick\"><text text-anchor=\"end\" x=\"272.6\" y=\"4.199999999999999\" transform=\"translate(0,198)\" style=\"font-family: 'Open Sans', verdana, arial, sans-serif; font-size: 12px; fill: rgb(51, 51, 51); fill-opacity: 1; white-space: pre; opacity: 1;\">response-success-status-removed</text></g><g class=\"ytick\"><text text-anchor=\"end\" x=\"272.6\" y=\"4.199999999999999\" transform=\"translate(0,167.32999999999998)\" style=\"font-family: 'Open Sans', verdana, arial, sans-serif; font-size: 12px; fill: rgb(51, 51, 51); fill-opacity: 1; white-space: pre; opacity: 1;\">request-property-removed</text></g><g class=\"ytick\"><text text-anchor=\"end\" x=\"272.6\" y=\"4.199999999999999\" transform=\"translate(0,136.67000000000002)\" style=\"font-family: 'Open Sans', verdana, arial, sans-serif; font-size: 12px; fill: rgb(51, 51, 51); fill-opacity: 1; white-space: pre; opacity: 1;\">api-removed-without-deprecation</text></g><g class=\"ytick\"><text text-anchor=\"end\" x=\"272.6\" y=\"4.199999999999999\" transform=\"translate(0,106)\" style=\"font-family: 'Open Sans', verdana, arial, sans-serif; font-size: 12px; fill: rgb(51, 51, 51); fill-opacity: 1; white-space: pre; opacity: 1;\">request-parameter-removed</text></g><g class=\"ytick\"><text text-anchor=\"end\" x=\"272.6\" y=\"4.199999999999999\" transform=\"translate(0,75.33)\" style=\"font-family: 'Open Sans', verdana, arial, sans-serif; font-size: 12px; fill: rgb(51, 51, 51); fill-opacity: 1; white-space: pre; opacity: 1;\">api-path-removed-without-deprecation</text></g></g><g class=\"overaxes-above\"/></g></g><g class=\"polarlayer\"/><g class=\"smithlayer\"/><g class=\"ternarylayer\"/><g class=\"geolayer\"/><g class=\"funnelarealayer\"/><g class=\"pielayer\"/><g class=\"iciclelayer\"/><g class=\"treemaplayer\"/><g class=\"sunburstlayer\"/><g class=\"glimages\"/><defs id=\"topdefs-424dc4\"><g class=\"clips\"/></defs><g class=\"layer-above\"><g class=\"imagelayer\"/><g class=\"shapelayer\"/></g><g class=\"infolayer\"><g class=\"g-gtitle\"><text class=\"gtitle\" x=\"650\" y=\"30\" text-anchor=\"middle\" dy=\"0em\" style=\"font-family: 'Open Sans', verdana, arial, sans-serif; font-size: 17px; fill: rgb(51, 51, 51); opacity: 1; font-weight: normal; white-space: pre;\">Occurence of Breaking Changes in Developing APIs</text></g><g class=\"g-xtitle\"><text class=\"xtitle\" x=\"750.5\" y=\"567.20625\" text-anchor=\"middle\" style=\"font-family: 'Open Sans', verdana, arial, sans-serif; font-size: 14px; fill: rgb(51, 51, 51); opacity: 1; font-weight: normal; white-space: pre;\">Number of Occurences</text></g><g class=\"g-ytitle\" transform=\"translate(1.2060546875,0)\"><text class=\"ytitle\" transform=\"rotate(-90,12.793749999999989,290)\" x=\"12.793749999999989\" y=\"290\" text-anchor=\"middle\" style=\"font-family: 'Open Sans', verdana, arial, sans-serif; font-size: 14px; fill: rgb(51, 51, 51); opacity: 1; font-weight: normal; white-space: pre;\">Type of Change</text></g></g></svg>"
     },
     "metadata": {},
     "output_type": "display_data"
    }
   ],
   "source": [
    "fig= px.histogram(developing_changes, x=\"Developing\", y=\"content\",color=\"content\", color_discrete_sequence=['#A569BD', '#F4D03F', '#F5B041', '#F1948A', '#7DCEA0', '#76D7C4', '#85C1E9', '#AED6F1', '#D2B4DE', '#FADBD8', '#F5B7B1', '#F1948A', '#F5B7B1'], text_auto=True)\n",
    "\n",
    "fig.update_xaxes(showline=True, linewidth=1, linecolor='black', mirror=True)\n",
    "fig.update_yaxes(categoryorder='total ascending',showline=True, linewidth=1, linecolor='black', mirror=True)\n",
    "\n",
    "fig.update_layout(template='ggplot2',width=1300, height=600, title = 'Occurence of Breaking Changes in Developing APIs', xaxis_title='Number of Occurences', yaxis_title='Type of Change', showlegend=False)\n",
    "\n",
    "fig.show(\"svg\")\n"
   ]
  },
  {
   "cell_type": "code",
   "execution_count": null,
   "metadata": {},
   "outputs": [
    {
     "data": {
      "image/svg+xml": "<svg class=\"main-svg\" xmlns=\"http://www.w3.org/2000/svg\" xmlns:xlink=\"http://www.w3.org/1999/xlink\" width=\"1300\" height=\"600\" style=\"\" viewBox=\"0 0 1300 600\"><rect x=\"0\" y=\"0\" width=\"1300\" height=\"600\" style=\"fill: rgb(255, 255, 255); fill-opacity: 1;\"/><defs id=\"defs-51a34b\"><g class=\"clips\"><clipPath id=\"clip51a34bxyplot\" class=\"plotclip\"><rect width=\"939\" height=\"460\"/></clipPath><clipPath class=\"axesclip\" id=\"clip51a34bx\"><rect x=\"281\" y=\"0\" width=\"939\" height=\"600\"/></clipPath><clipPath class=\"axesclip\" id=\"clip51a34by\"><rect x=\"0\" y=\"60\" width=\"1300\" height=\"460\"/></clipPath><clipPath class=\"axesclip\" id=\"clip51a34bxy\"><rect x=\"281\" y=\"60\" width=\"939\" height=\"460\"/></clipPath></g><g class=\"gradients\"/><g class=\"patterns\"/></defs><g class=\"bglayer\"><rect class=\"bg\" x=\"281\" y=\"60\" width=\"939\" height=\"460\" style=\"fill: rgb(237, 237, 237); fill-opacity: 1; stroke-width: 0;\"/></g><g class=\"layer-below\"><g class=\"imagelayer\"/><g class=\"shapelayer\"/></g><g class=\"cartesianlayer\"><g class=\"subplot xy\"><g class=\"layer-subplot\"><g class=\"shapelayer\"/><g class=\"imagelayer\"/></g><g class=\"minor-gridlayer\"><g class=\"x\"/><g class=\"y\"/></g><g class=\"gridlayer\"><g class=\"x\"><path class=\"xgrid crisp\" transform=\"translate(424.88,0)\" d=\"M0,60v460\" style=\"stroke: rgb(255, 255, 255); stroke-opacity: 1; stroke-width: 1px;\"/><path class=\"xgrid crisp\" transform=\"translate(568.76,0)\" d=\"M0,60v460\" style=\"stroke: rgb(255, 255, 255); stroke-opacity: 1; stroke-width: 1px;\"/><path class=\"xgrid crisp\" transform=\"translate(712.64,0)\" d=\"M0,60v460\" style=\"stroke: rgb(255, 255, 255); stroke-opacity: 1; stroke-width: 1px;\"/><path class=\"xgrid crisp\" transform=\"translate(856.52,0)\" d=\"M0,60v460\" style=\"stroke: rgb(255, 255, 255); stroke-opacity: 1; stroke-width: 1px;\"/><path class=\"xgrid crisp\" transform=\"translate(1000.4,0)\" d=\"M0,60v460\" style=\"stroke: rgb(255, 255, 255); stroke-opacity: 1; stroke-width: 1px;\"/><path class=\"xgrid crisp\" transform=\"translate(1144.27,0)\" d=\"M0,60v460\" style=\"stroke: rgb(255, 255, 255); stroke-opacity: 1; stroke-width: 1px;\"/></g><g class=\"y\"><path class=\"ygrid crisp\" transform=\"translate(0,504.67)\" d=\"M281,0h939\" style=\"stroke: rgb(255, 255, 255); stroke-opacity: 1; stroke-width: 1px;\"/><path class=\"ygrid crisp\" transform=\"translate(0,474)\" d=\"M281,0h939\" style=\"stroke: rgb(255, 255, 255); stroke-opacity: 1; stroke-width: 1px;\"/><path class=\"ygrid crisp\" transform=\"translate(0,443.33)\" d=\"M281,0h939\" style=\"stroke: rgb(255, 255, 255); stroke-opacity: 1; stroke-width: 1px;\"/><path class=\"ygrid crisp\" transform=\"translate(0,412.67)\" d=\"M281,0h939\" style=\"stroke: rgb(255, 255, 255); stroke-opacity: 1; stroke-width: 1px;\"/><path class=\"ygrid crisp\" transform=\"translate(0,382)\" d=\"M281,0h939\" style=\"stroke: rgb(255, 255, 255); stroke-opacity: 1; stroke-width: 1px;\"/><path class=\"ygrid crisp\" transform=\"translate(0,351.33)\" d=\"M281,0h939\" style=\"stroke: rgb(255, 255, 255); stroke-opacity: 1; stroke-width: 1px;\"/><path class=\"ygrid crisp\" transform=\"translate(0,320.67)\" d=\"M281,0h939\" style=\"stroke: rgb(255, 255, 255); stroke-opacity: 1; stroke-width: 1px;\"/><path class=\"ygrid crisp\" transform=\"translate(0,290)\" d=\"M281,0h939\" style=\"stroke: rgb(255, 255, 255); stroke-opacity: 1; stroke-width: 1px;\"/><path class=\"ygrid crisp\" transform=\"translate(0,259.33000000000004)\" d=\"M281,0h939\" style=\"stroke: rgb(255, 255, 255); stroke-opacity: 1; stroke-width: 1px;\"/><path class=\"ygrid crisp\" transform=\"translate(0,228.67)\" d=\"M281,0h939\" style=\"stroke: rgb(255, 255, 255); stroke-opacity: 1; stroke-width: 1px;\"/><path class=\"ygrid crisp\" transform=\"translate(0,198)\" d=\"M281,0h939\" style=\"stroke: rgb(255, 255, 255); stroke-opacity: 1; stroke-width: 1px;\"/><path class=\"ygrid crisp\" transform=\"translate(0,167.32999999999998)\" d=\"M281,0h939\" style=\"stroke: rgb(255, 255, 255); stroke-opacity: 1; stroke-width: 1px;\"/><path class=\"ygrid crisp\" transform=\"translate(0,136.67000000000002)\" d=\"M281,0h939\" style=\"stroke: rgb(255, 255, 255); stroke-opacity: 1; stroke-width: 1px;\"/><path class=\"ygrid crisp\" transform=\"translate(0,106)\" d=\"M281,0h939\" style=\"stroke: rgb(255, 255, 255); stroke-opacity: 1; stroke-width: 1px;\"/><path class=\"ygrid crisp\" transform=\"translate(0,75.33)\" d=\"M281,0h939\" style=\"stroke: rgb(255, 255, 255); stroke-opacity: 1; stroke-width: 1px;\"/></g></g><g class=\"zerolinelayer\"><path class=\"xzl zl crisp\" transform=\"translate(281,0)\" d=\"M0,60v460\" style=\"stroke: rgb(255, 255, 255); stroke-opacity: 1; stroke-width: 1px;\"/></g><path class=\"xlines-below\"/><path class=\"ylines-below\"/><g class=\"overlines-below\"/><g class=\"xaxislayer-below\"/><g class=\"yaxislayer-below\"/><g class=\"overaxes-below\"/><g class=\"plot\" transform=\"translate(281,60)\" clip-path=\"url(#clip51a34bxyplot)\"><g class=\"barlayer mlayer\"><g class=\"trace bars\" style=\"opacity: 1;\"><g class=\"points\"><g class=\"point\"><path d=\"M0,27.6V3.07H892.05V27.6Z\" style=\"vector-effect: none; opacity: 1; stroke-width: 0px; fill: rgb(165, 105, 189); fill-opacity: 1;\"/><text class=\"bartext bartext-inside\" text-anchor=\"middle\" data-notex=\"1\" x=\"0\" y=\"0\" style=\"font-family: 'Open Sans', verdana, arial, sans-serif; font-size: 12px; fill: rgb(68, 68, 68); fill-opacity: 1; white-space: pre;\" transform=\"translate(881.409375,20.085)\">31</text></g></g></g><g class=\"trace bars\" style=\"opacity: 1;\"><g class=\"points\"><g class=\"point\"><path d=\"M0,88.93V64.4H201.43V88.93Z\" style=\"vector-effect: none; opacity: 1; stroke-width: 0px; fill: rgb(244, 208, 63); fill-opacity: 1;\"/><text class=\"bartext bartext-inside\" text-anchor=\"middle\" data-notex=\"1\" x=\"0\" y=\"0\" style=\"font-family: 'Open Sans', verdana, arial, sans-serif; font-size: 12px; fill: rgb(68, 68, 68); fill-opacity: 1; white-space: pre;\" transform=\"translate(194.601875,81.415)\">7</text></g></g></g><g class=\"trace bars\" style=\"opacity: 1;\"><g class=\"points\"><g class=\"point\"><path d=\"M0,334.27V309.73H86.33V334.27Z\" style=\"vector-effect: none; opacity: 1; stroke-width: 0px; fill: rgb(245, 176, 65); fill-opacity: 1;\"/><text class=\"bartext bartext-inside\" text-anchor=\"middle\" data-notex=\"1\" x=\"0\" y=\"0\" style=\"font-family: 'Open Sans', verdana, arial, sans-serif; font-size: 12px; fill: rgb(68, 68, 68); fill-opacity: 1; white-space: pre;\" transform=\"translate(79.501875,326.75)\">3</text></g></g></g><g class=\"trace bars\" style=\"opacity: 1;\"><g class=\"points\"><g class=\"point\"><path d=\"M0,150.27V125.73H143.88V150.27Z\" style=\"vector-effect: none; opacity: 1; stroke-width: 0px; fill: rgb(241, 148, 138); fill-opacity: 1;\"/><text class=\"bartext bartext-inside\" text-anchor=\"middle\" data-notex=\"1\" x=\"0\" y=\"0\" style=\"font-family: 'Open Sans', verdana, arial, sans-serif; font-size: 12px; fill: rgb(68, 68, 68); fill-opacity: 1; white-space: pre;\" transform=\"translate(137.051875,142.75)\">5</text></g></g></g><g class=\"trace bars\" style=\"opacity: 1;\"><g class=\"points\"><g class=\"point\"><path d=\"M0,426.27V401.73H28.78V426.27Z\" style=\"vector-effect: none; opacity: 1; stroke-width: 0px; fill: rgb(125, 206, 160); fill-opacity: 1;\"/><text class=\"bartext bartext-inside\" text-anchor=\"middle\" data-notex=\"1\" x=\"0\" y=\"0\" style=\"font-family: 'Open Sans', verdana, arial, sans-serif; font-size: 12px; fill: rgb(68, 68, 68); fill-opacity: 1; white-space: pre;\" transform=\"translate(21.951875,418.75)\">1</text></g></g></g><g class=\"trace bars\" style=\"opacity: 1;\"><g class=\"points\"><g class=\"point\"><path d=\"M0,58.27V33.73H489.19V58.27Z\" style=\"vector-effect: none; opacity: 1; stroke-width: 0px; fill: rgb(118, 215, 196); fill-opacity: 1;\"/><text class=\"bartext bartext-inside\" text-anchor=\"middle\" data-notex=\"1\" x=\"0\" y=\"0\" style=\"font-family: 'Open Sans', verdana, arial, sans-serif; font-size: 12px; fill: rgb(68, 68, 68); fill-opacity: 1; white-space: pre;\" transform=\"translate(478.549375,50.75)\">17</text></g></g></g><g class=\"trace bars\" style=\"opacity: 1;\"><g class=\"points\"><g class=\"point\"><path d=\"M0,395.6V371.07H28.78V395.6Z\" style=\"vector-effect: none; opacity: 1; stroke-width: 0px; fill: rgb(133, 193, 233); fill-opacity: 1;\"/><text class=\"bartext bartext-inside\" text-anchor=\"middle\" data-notex=\"1\" x=\"0\" y=\"0\" style=\"font-family: 'Open Sans', verdana, arial, sans-serif; font-size: 12px; fill: rgb(68, 68, 68); fill-opacity: 1; white-space: pre;\" transform=\"translate(21.951875,388.08500000000004)\">1</text></g></g></g><g class=\"trace bars\" style=\"opacity: 1;\"><g class=\"points\"><g class=\"point\"><path d=\"M0,303.6V279.07H86.33V303.6Z\" style=\"vector-effect: none; opacity: 1; stroke-width: 0px; fill: rgb(174, 214, 241); fill-opacity: 1;\"/><text class=\"bartext bartext-inside\" text-anchor=\"middle\" data-notex=\"1\" x=\"0\" y=\"0\" style=\"font-family: 'Open Sans', verdana, arial, sans-serif; font-size: 12px; fill: rgb(68, 68, 68); fill-opacity: 1; white-space: pre;\" transform=\"translate(79.501875,296.08500000000004)\">3</text></g></g></g><g class=\"trace bars\" style=\"opacity: 1;\"><g class=\"points\"><g class=\"point\"><path d=\"M0,242.27V217.73H115.1V242.27Z\" style=\"vector-effect: none; opacity: 1; stroke-width: 0px; fill: rgb(210, 180, 222); fill-opacity: 1;\"/><text class=\"bartext bartext-inside\" text-anchor=\"middle\" data-notex=\"1\" x=\"0\" y=\"0\" style=\"font-family: 'Open Sans', verdana, arial, sans-serif; font-size: 12px; fill: rgb(68, 68, 68); fill-opacity: 1; white-space: pre;\" transform=\"translate(108.271875,234.75)\">4</text></g></g></g><g class=\"trace bars\" style=\"opacity: 1;\"><g class=\"points\"><g class=\"point\"><path d=\"M0,364.93V340.4H28.78V364.93Z\" style=\"vector-effect: none; opacity: 1; stroke-width: 0px; fill: rgb(250, 219, 216); fill-opacity: 1;\"/><text class=\"bartext bartext-inside\" text-anchor=\"middle\" data-notex=\"1\" x=\"0\" y=\"0\" style=\"font-family: 'Open Sans', verdana, arial, sans-serif; font-size: 12px; fill: rgb(68, 68, 68); fill-opacity: 1; white-space: pre;\" transform=\"translate(21.951875,357.41499999999996)\">1</text></g></g></g><g class=\"trace bars\" style=\"opacity: 1;\"><g class=\"points\"><g class=\"point\"><path d=\"M0,211.6V187.07H115.1V211.6Z\" style=\"vector-effect: none; opacity: 1; stroke-width: 0px; fill: rgb(245, 183, 177); fill-opacity: 1;\"/><text class=\"bartext bartext-inside\" text-anchor=\"middle\" data-notex=\"1\" x=\"0\" y=\"0\" style=\"font-family: 'Open Sans', verdana, arial, sans-serif; font-size: 12px; fill: rgb(68, 68, 68); fill-opacity: 1; white-space: pre;\" transform=\"translate(108.271875,204.08499999999998)\">4</text></g></g></g><g class=\"trace bars\" style=\"opacity: 1;\"><g class=\"points\"><g class=\"point\"><path d=\"M0,119.6V95.07H172.65V119.6Z\" style=\"vector-effect: none; opacity: 1; stroke-width: 0px; fill: rgb(241, 148, 138); fill-opacity: 1;\"/><text class=\"bartext bartext-inside\" text-anchor=\"middle\" data-notex=\"1\" x=\"0\" y=\"0\" style=\"font-family: 'Open Sans', verdana, arial, sans-serif; font-size: 12px; fill: rgb(68, 68, 68); fill-opacity: 1; white-space: pre;\" transform=\"translate(165.821875,112.085)\">6</text></g></g></g><g class=\"trace bars\" style=\"opacity: 1;\"><g class=\"points\"><g class=\"point\"><path d=\"M0,180.93V156.4H115.1V180.93Z\" style=\"vector-effect: none; opacity: 1; stroke-width: 0px; fill: rgb(245, 183, 177); fill-opacity: 1;\"/><text class=\"bartext bartext-inside\" text-anchor=\"middle\" data-notex=\"1\" x=\"0\" y=\"0\" style=\"font-family: 'Open Sans', verdana, arial, sans-serif; font-size: 12px; fill: rgb(68, 68, 68); fill-opacity: 1; white-space: pre;\" transform=\"translate(108.271875,173.41500000000002)\">4</text></g></g></g><g class=\"trace bars\" style=\"opacity: 1;\"><g class=\"points\"><g class=\"point\"><path d=\"M0,0Z\" style=\"vector-effect: none; opacity: 1; stroke-width: 0px; fill: rgb(165, 105, 189); fill-opacity: 1;\"/></g><g class=\"point\"><path d=\"M0,0Z\" style=\"vector-effect: none; opacity: 1; stroke-width: 0px; fill: rgb(165, 105, 189); fill-opacity: 1;\"/></g><g class=\"point\"><path d=\"M0,0Z\" style=\"vector-effect: none; opacity: 1; stroke-width: 0px; fill: rgb(165, 105, 189); fill-opacity: 1;\"/></g><g class=\"point\"><path d=\"M0,0Z\" style=\"vector-effect: none; opacity: 1; stroke-width: 0px; fill: rgb(165, 105, 189); fill-opacity: 1;\"/></g><g class=\"point\"><path d=\"M0,0Z\" style=\"vector-effect: none; opacity: 1; stroke-width: 0px; fill: rgb(165, 105, 189); fill-opacity: 1;\"/></g><g class=\"point\"><path d=\"M0,0Z\" style=\"vector-effect: none; opacity: 1; stroke-width: 0px; fill: rgb(165, 105, 189); fill-opacity: 1;\"/></g><g class=\"point\"><path d=\"M0,0Z\" style=\"vector-effect: none; opacity: 1; stroke-width: 0px; fill: rgb(165, 105, 189); fill-opacity: 1;\"/></g><g class=\"point\"><path d=\"M0,0Z\" style=\"vector-effect: none; opacity: 1; stroke-width: 0px; fill: rgb(165, 105, 189); fill-opacity: 1;\"/></g><g class=\"point\"><path d=\"M0,0Z\" style=\"vector-effect: none; opacity: 1; stroke-width: 0px; fill: rgb(165, 105, 189); fill-opacity: 1;\"/></g><g class=\"point\"><path d=\"M0,0Z\" style=\"vector-effect: none; opacity: 1; stroke-width: 0px; fill: rgb(165, 105, 189); fill-opacity: 1;\"/></g><g class=\"point\"><path d=\"M0,0Z\" style=\"vector-effect: none; opacity: 1; stroke-width: 0px; fill: rgb(165, 105, 189); fill-opacity: 1;\"/></g><g class=\"point\"><path d=\"M0,0Z\" style=\"vector-effect: none; opacity: 1; stroke-width: 0px; fill: rgb(165, 105, 189); fill-opacity: 1;\"/></g><g class=\"point\"><path d=\"M0,0Z\" style=\"vector-effect: none; opacity: 1; stroke-width: 0px; fill: rgb(165, 105, 189); fill-opacity: 1;\"/></g><g class=\"point\"><path d=\"M0,0Z\" style=\"vector-effect: none; opacity: 1; stroke-width: 0px; fill: rgb(165, 105, 189); fill-opacity: 1;\"/></g><g class=\"point\"><path d=\"M0,0Z\" style=\"vector-effect: none; opacity: 1; stroke-width: 0px; fill: rgb(165, 105, 189); fill-opacity: 1;\"/></g></g></g><g class=\"trace bars\" style=\"opacity: 1;\"><g class=\"points\"><g class=\"point\"><path d=\"M0,272.93V248.4H86.33V272.93Z\" style=\"vector-effect: none; opacity: 1; stroke-width: 0px; fill: rgb(244, 208, 63); fill-opacity: 1;\"/><text class=\"bartext bartext-inside\" text-anchor=\"middle\" data-notex=\"1\" x=\"0\" y=\"0\" style=\"font-family: 'Open Sans', verdana, arial, sans-serif; font-size: 12px; fill: rgb(68, 68, 68); fill-opacity: 1; white-space: pre;\" transform=\"translate(79.501875,265.415)\">3</text></g></g></g></g></g><g class=\"overplot\"/><path class=\"xlines-above crisp\" d=\"M280,520.5H1221M280,59.5H1221\" style=\"fill: none; stroke-width: 1px; stroke: rgb(0, 0, 0); stroke-opacity: 1;\"/><path class=\"ylines-above crisp\" d=\"M280.5,60V520M1220.5,60V520\" style=\"fill: none; stroke-width: 1px; stroke: rgb(0, 0, 0); stroke-opacity: 1;\"/><g class=\"overlines-above\"/><g class=\"xaxislayer-above\"><path class=\"xtick ticks crisp\" d=\"M0,521v5\" transform=\"translate(281,0)\" style=\"stroke: rgb(51, 51, 51); stroke-opacity: 1; stroke-width: 1px;\"/><path class=\"xtick ticks crisp\" d=\"M0,521v5\" transform=\"translate(424.88,0)\" style=\"stroke: rgb(51, 51, 51); stroke-opacity: 1; stroke-width: 1px;\"/><path class=\"xtick ticks crisp\" d=\"M0,521v5\" transform=\"translate(568.76,0)\" style=\"stroke: rgb(51, 51, 51); stroke-opacity: 1; stroke-width: 1px;\"/><path class=\"xtick ticks crisp\" d=\"M0,521v5\" transform=\"translate(712.64,0)\" style=\"stroke: rgb(51, 51, 51); stroke-opacity: 1; stroke-width: 1px;\"/><path class=\"xtick ticks crisp\" d=\"M0,521v5\" transform=\"translate(856.52,0)\" style=\"stroke: rgb(51, 51, 51); stroke-opacity: 1; stroke-width: 1px;\"/><path class=\"xtick ticks crisp\" d=\"M0,521v5\" transform=\"translate(1000.4,0)\" style=\"stroke: rgb(51, 51, 51); stroke-opacity: 1; stroke-width: 1px;\"/><path class=\"xtick ticks crisp\" d=\"M0,521v5\" transform=\"translate(1144.27,0)\" style=\"stroke: rgb(51, 51, 51); stroke-opacity: 1; stroke-width: 1px;\"/><g class=\"xtick\"><text text-anchor=\"middle\" x=\"0\" y=\"540.4\" transform=\"translate(281,0)\" style=\"font-family: 'Open Sans', verdana, arial, sans-serif; font-size: 12px; fill: rgb(51, 51, 51); fill-opacity: 1; white-space: pre; opacity: 1;\">0</text></g><g class=\"xtick\"><text text-anchor=\"middle\" x=\"0\" y=\"540.4\" style=\"font-family: 'Open Sans', verdana, arial, sans-serif; font-size: 12px; fill: rgb(51, 51, 51); fill-opacity: 1; white-space: pre; opacity: 1;\" transform=\"translate(424.88,0)\">5</text></g><g class=\"xtick\"><text text-anchor=\"middle\" x=\"0\" y=\"540.4\" style=\"font-family: 'Open Sans', verdana, arial, sans-serif; font-size: 12px; fill: rgb(51, 51, 51); fill-opacity: 1; white-space: pre; opacity: 1;\" transform=\"translate(568.76,0)\">10</text></g><g class=\"xtick\"><text text-anchor=\"middle\" x=\"0\" y=\"540.4\" style=\"font-family: 'Open Sans', verdana, arial, sans-serif; font-size: 12px; fill: rgb(51, 51, 51); fill-opacity: 1; white-space: pre; opacity: 1;\" transform=\"translate(712.64,0)\">15</text></g><g class=\"xtick\"><text text-anchor=\"middle\" x=\"0\" y=\"540.4\" style=\"font-family: 'Open Sans', verdana, arial, sans-serif; font-size: 12px; fill: rgb(51, 51, 51); fill-opacity: 1; white-space: pre; opacity: 1;\" transform=\"translate(856.52,0)\">20</text></g><g class=\"xtick\"><text text-anchor=\"middle\" x=\"0\" y=\"540.4\" style=\"font-family: 'Open Sans', verdana, arial, sans-serif; font-size: 12px; fill: rgb(51, 51, 51); fill-opacity: 1; white-space: pre; opacity: 1;\" transform=\"translate(1000.4,0)\">25</text></g><g class=\"xtick\"><text text-anchor=\"middle\" x=\"0\" y=\"540.4\" style=\"font-family: 'Open Sans', verdana, arial, sans-serif; font-size: 12px; fill: rgb(51, 51, 51); fill-opacity: 1; white-space: pre; opacity: 1;\" transform=\"translate(1144.27,0)\">30</text></g></g><g class=\"yaxislayer-above\"><path class=\"ytick ticks crisp\" d=\"M280,0h-5\" transform=\"translate(0,504.67)\" style=\"stroke: rgb(51, 51, 51); stroke-opacity: 1; stroke-width: 1px;\"/><path class=\"ytick ticks crisp\" d=\"M280,0h-5\" transform=\"translate(0,474)\" style=\"stroke: rgb(51, 51, 51); stroke-opacity: 1; stroke-width: 1px;\"/><path class=\"ytick ticks crisp\" d=\"M280,0h-5\" transform=\"translate(0,443.33)\" style=\"stroke: rgb(51, 51, 51); stroke-opacity: 1; stroke-width: 1px;\"/><path class=\"ytick ticks crisp\" d=\"M280,0h-5\" transform=\"translate(0,412.67)\" style=\"stroke: rgb(51, 51, 51); stroke-opacity: 1; stroke-width: 1px;\"/><path class=\"ytick ticks crisp\" d=\"M280,0h-5\" transform=\"translate(0,382)\" style=\"stroke: rgb(51, 51, 51); stroke-opacity: 1; stroke-width: 1px;\"/><path class=\"ytick ticks crisp\" d=\"M280,0h-5\" transform=\"translate(0,351.33)\" style=\"stroke: rgb(51, 51, 51); stroke-opacity: 1; stroke-width: 1px;\"/><path class=\"ytick ticks crisp\" d=\"M280,0h-5\" transform=\"translate(0,320.67)\" style=\"stroke: rgb(51, 51, 51); stroke-opacity: 1; stroke-width: 1px;\"/><path class=\"ytick ticks crisp\" d=\"M280,0h-5\" transform=\"translate(0,290)\" style=\"stroke: rgb(51, 51, 51); stroke-opacity: 1; stroke-width: 1px;\"/><path class=\"ytick ticks crisp\" d=\"M280,0h-5\" transform=\"translate(0,259.33000000000004)\" style=\"stroke: rgb(51, 51, 51); stroke-opacity: 1; stroke-width: 1px;\"/><path class=\"ytick ticks crisp\" d=\"M280,0h-5\" transform=\"translate(0,228.67)\" style=\"stroke: rgb(51, 51, 51); stroke-opacity: 1; stroke-width: 1px;\"/><path class=\"ytick ticks crisp\" d=\"M280,0h-5\" transform=\"translate(0,198)\" style=\"stroke: rgb(51, 51, 51); stroke-opacity: 1; stroke-width: 1px;\"/><path class=\"ytick ticks crisp\" d=\"M280,0h-5\" transform=\"translate(0,167.32999999999998)\" style=\"stroke: rgb(51, 51, 51); stroke-opacity: 1; stroke-width: 1px;\"/><path class=\"ytick ticks crisp\" d=\"M280,0h-5\" transform=\"translate(0,136.67000000000002)\" style=\"stroke: rgb(51, 51, 51); stroke-opacity: 1; stroke-width: 1px;\"/><path class=\"ytick ticks crisp\" d=\"M280,0h-5\" transform=\"translate(0,106)\" style=\"stroke: rgb(51, 51, 51); stroke-opacity: 1; stroke-width: 1px;\"/><path class=\"ytick ticks crisp\" d=\"M280,0h-5\" transform=\"translate(0,75.33)\" style=\"stroke: rgb(51, 51, 51); stroke-opacity: 1; stroke-width: 1px;\"/><g class=\"ytick\"><text text-anchor=\"end\" x=\"272.6\" y=\"4.199999999999999\" transform=\"translate(0,504.67)\" style=\"font-family: 'Open Sans', verdana, arial, sans-serif; font-size: 12px; fill: rgb(51, 51, 51); fill-opacity: 1; white-space: pre; opacity: 1;\">response-property-type-changed</text></g><g class=\"ytick\"><text text-anchor=\"end\" x=\"272.6\" y=\"4.199999999999999\" transform=\"translate(0,474)\" style=\"font-family: 'Open Sans', verdana, arial, sans-serif; font-size: 12px; fill: rgb(51, 51, 51); fill-opacity: 1; white-space: pre; opacity: 1;\">request-parameter-became-required</text></g><g class=\"ytick\"><text text-anchor=\"end\" x=\"272.6\" y=\"4.199999999999999\" transform=\"translate(0,443.33)\" style=\"font-family: 'Open Sans', verdana, arial, sans-serif; font-size: 12px; fill: rgb(51, 51, 51); fill-opacity: 1; white-space: pre; opacity: 1;\">request-parameter-type-changed</text></g><g class=\"ytick\"><text text-anchor=\"end\" x=\"272.6\" y=\"4.199999999999999\" transform=\"translate(0,412.67)\" style=\"font-family: 'Open Sans', verdana, arial, sans-serif; font-size: 12px; fill: rgb(51, 51, 51); fill-opacity: 1; white-space: pre; opacity: 1;\">request-property-type-changed</text></g><g class=\"ytick\"><text text-anchor=\"end\" x=\"272.6\" y=\"4.199999999999999\" transform=\"translate(0,382)\" style=\"font-family: 'Open Sans', verdana, arial, sans-serif; font-size: 12px; fill: rgb(51, 51, 51); fill-opacity: 1; white-space: pre; opacity: 1;\">new-required-request-parameter</text></g><g class=\"ytick\"><text text-anchor=\"end\" x=\"272.6\" y=\"4.199999999999999\" transform=\"translate(0,351.33)\" style=\"font-family: 'Open Sans', verdana, arial, sans-serif; font-size: 12px; fill: rgb(51, 51, 51); fill-opacity: 1; white-space: pre; opacity: 1;\">request-property-became-required</text></g><g class=\"ytick\"><text text-anchor=\"end\" x=\"272.6\" y=\"4.199999999999999\" transform=\"translate(0,320.67)\" style=\"font-family: 'Open Sans', verdana, arial, sans-serif; font-size: 12px; fill: rgb(51, 51, 51); fill-opacity: 1; white-space: pre; opacity: 1;\">response-success-status-removed</text></g><g class=\"ytick\"><text text-anchor=\"end\" x=\"272.6\" y=\"4.199999999999999\" transform=\"translate(0,290)\" style=\"font-family: 'Open Sans', verdana, arial, sans-serif; font-size: 12px; fill: rgb(51, 51, 51); fill-opacity: 1; white-space: pre; opacity: 1;\">request-property-removed</text></g><g class=\"ytick\"><text text-anchor=\"end\" x=\"272.6\" y=\"4.199999999999999\" transform=\"translate(0,259.33000000000004)\" style=\"font-family: 'Open Sans', verdana, arial, sans-serif; font-size: 12px; fill: rgb(51, 51, 51); fill-opacity: 1; white-space: pre; opacity: 1;\">response-body-type-changed</text></g><g class=\"ytick\"><text text-anchor=\"end\" x=\"272.6\" y=\"4.199999999999999\" transform=\"translate(0,228.67)\" style=\"font-family: 'Open Sans', verdana, arial, sans-serif; font-size: 12px; fill: rgb(51, 51, 51); fill-opacity: 1; white-space: pre; opacity: 1;\">response-property-enum-value-added</text></g><g class=\"ytick\"><text text-anchor=\"end\" x=\"272.6\" y=\"4.199999999999999\" transform=\"translate(0,198)\" style=\"font-family: 'Open Sans', verdana, arial, sans-serif; font-size: 12px; fill: rgb(51, 51, 51); fill-opacity: 1; white-space: pre; opacity: 1;\">new-required-request-property</text></g><g class=\"ytick\"><text text-anchor=\"end\" x=\"272.6\" y=\"4.199999999999999\" transform=\"translate(0,167.32999999999998)\" style=\"font-family: 'Open Sans', verdana, arial, sans-serif; font-size: 12px; fill: rgb(51, 51, 51); fill-opacity: 1; white-space: pre; opacity: 1;\">response-media-type-removed</text></g><g class=\"ytick\"><text text-anchor=\"end\" x=\"272.6\" y=\"4.199999999999999\" transform=\"translate(0,136.67000000000002)\" style=\"font-family: 'Open Sans', verdana, arial, sans-serif; font-size: 12px; fill: rgb(51, 51, 51); fill-opacity: 1; white-space: pre; opacity: 1;\">api-removed-without-deprecation</text></g><g class=\"ytick\"><text text-anchor=\"end\" x=\"272.6\" y=\"4.199999999999999\" transform=\"translate(0,106)\" style=\"font-family: 'Open Sans', verdana, arial, sans-serif; font-size: 12px; fill: rgb(51, 51, 51); fill-opacity: 1; white-space: pre; opacity: 1;\">request-parameter-removed</text></g><g class=\"ytick\"><text text-anchor=\"end\" x=\"272.6\" y=\"4.199999999999999\" transform=\"translate(0,75.33)\" style=\"font-family: 'Open Sans', verdana, arial, sans-serif; font-size: 12px; fill: rgb(51, 51, 51); fill-opacity: 1; white-space: pre; opacity: 1;\">api-path-removed-without-deprecation</text></g></g><g class=\"overaxes-above\"/></g></g><g class=\"polarlayer\"/><g class=\"smithlayer\"/><g class=\"ternarylayer\"/><g class=\"geolayer\"/><g class=\"funnelarealayer\"/><g class=\"pielayer\"/><g class=\"iciclelayer\"/><g class=\"treemaplayer\"/><g class=\"sunburstlayer\"/><g class=\"glimages\"/><defs id=\"topdefs-51a34b\"><g class=\"clips\"/></defs><g class=\"layer-above\"><g class=\"imagelayer\"/><g class=\"shapelayer\"/></g><g class=\"infolayer\"><g class=\"g-gtitle\"><text class=\"gtitle\" x=\"650\" y=\"30\" text-anchor=\"middle\" dy=\"0em\" style=\"font-family: 'Open Sans', verdana, arial, sans-serif; font-size: 17px; fill: rgb(51, 51, 51); opacity: 1; font-weight: normal; white-space: pre;\">Occurence of Breaking Changes in Mature APIs</text></g><g class=\"g-xtitle\"><text class=\"xtitle\" x=\"750.5\" y=\"567.20625\" text-anchor=\"middle\" style=\"font-family: 'Open Sans', verdana, arial, sans-serif; font-size: 14px; fill: rgb(51, 51, 51); opacity: 1; font-weight: normal; white-space: pre;\">Number of Occurences</text></g><g class=\"g-ytitle\" transform=\"translate(1.2060546875,0)\"><text class=\"ytitle\" transform=\"rotate(-90,12.793749999999989,290)\" x=\"12.793749999999989\" y=\"290\" text-anchor=\"middle\" style=\"font-family: 'Open Sans', verdana, arial, sans-serif; font-size: 14px; fill: rgb(51, 51, 51); opacity: 1; font-weight: normal; white-space: pre;\">Type of Change</text></g></g></svg>"
     },
     "metadata": {},
     "output_type": "display_data"
    }
   ],
   "source": [
    "fig= px.histogram(mature_changes, x=\"Mature\", y=\"content\",color=\"content\", color_discrete_sequence=['#A569BD', '#F4D03F', '#F5B041', '#F1948A', '#7DCEA0', '#76D7C4', '#85C1E9', '#AED6F1', '#D2B4DE', '#FADBD8', '#F5B7B1', '#F1948A', '#F5B7B1'], text_auto=True)\n",
    "\n",
    "fig.update_xaxes(showline=True, linewidth=1, linecolor='black', mirror=True)\n",
    "fig.update_yaxes(categoryorder='total ascending',showline=True, linewidth=1, linecolor='black', mirror=True)\n",
    "\n",
    "fig.update_layout(template='ggplot2',width=1300, height=600, title = 'Occurence of Breaking Changes in Mature APIs', xaxis_title='Number of Occurences', yaxis_title='Type of Change', showlegend=False)\n",
    "\n",
    "fig.show(\"svg\")\n"
   ]
  },
  {
   "cell_type": "code",
   "execution_count": null,
   "metadata": {},
   "outputs": [
    {
     "data": {
      "image/svg+xml": "<svg class=\"main-svg\" xmlns=\"http://www.w3.org/2000/svg\" xmlns:xlink=\"http://www.w3.org/1999/xlink\" width=\"1300\" height=\"600\" style=\"\" viewBox=\"0 0 1300 600\"><rect x=\"0\" y=\"0\" width=\"1300\" height=\"600\" style=\"fill: rgb(255, 255, 255); fill-opacity: 1;\"/><defs id=\"defs-8480f2\"><g class=\"clips\"><clipPath id=\"clip8480f2xyplot\" class=\"plotclip\"><rect width=\"939\" height=\"460\"/></clipPath><clipPath class=\"axesclip\" id=\"clip8480f2x\"><rect x=\"281\" y=\"0\" width=\"939\" height=\"600\"/></clipPath><clipPath class=\"axesclip\" id=\"clip8480f2y\"><rect x=\"0\" y=\"60\" width=\"1300\" height=\"460\"/></clipPath><clipPath class=\"axesclip\" id=\"clip8480f2xy\"><rect x=\"281\" y=\"60\" width=\"939\" height=\"460\"/></clipPath></g><g class=\"gradients\"/><g class=\"patterns\"/></defs><g class=\"bglayer\"><rect class=\"bg\" x=\"281\" y=\"60\" width=\"939\" height=\"460\" style=\"fill: rgb(237, 237, 237); fill-opacity: 1; stroke-width: 0;\"/></g><g class=\"layer-below\"><g class=\"imagelayer\"/><g class=\"shapelayer\"/></g><g class=\"cartesianlayer\"><g class=\"subplot xy\"><g class=\"layer-subplot\"><g class=\"shapelayer\"/><g class=\"imagelayer\"/></g><g class=\"minor-gridlayer\"><g class=\"x\"/><g class=\"y\"/></g><g class=\"gridlayer\"><g class=\"x\"><path class=\"xgrid crisp\" transform=\"translate(422.6,0)\" d=\"M0,60v460\" style=\"stroke: rgb(255, 255, 255); stroke-opacity: 1; stroke-width: 1px;\"/><path class=\"xgrid crisp\" transform=\"translate(564.19,0)\" d=\"M0,60v460\" style=\"stroke: rgb(255, 255, 255); stroke-opacity: 1; stroke-width: 1px;\"/><path class=\"xgrid crisp\" transform=\"translate(705.79,0)\" d=\"M0,60v460\" style=\"stroke: rgb(255, 255, 255); stroke-opacity: 1; stroke-width: 1px;\"/><path class=\"xgrid crisp\" transform=\"translate(847.38,0)\" d=\"M0,60v460\" style=\"stroke: rgb(255, 255, 255); stroke-opacity: 1; stroke-width: 1px;\"/><path class=\"xgrid crisp\" transform=\"translate(988.98,0)\" d=\"M0,60v460\" style=\"stroke: rgb(255, 255, 255); stroke-opacity: 1; stroke-width: 1px;\"/><path class=\"xgrid crisp\" transform=\"translate(1130.5700000000002,0)\" d=\"M0,60v460\" style=\"stroke: rgb(255, 255, 255); stroke-opacity: 1; stroke-width: 1px;\"/></g><g class=\"y\"><path class=\"ygrid crisp\" transform=\"translate(0,504.67)\" d=\"M281,0h939\" style=\"stroke: rgb(255, 255, 255); stroke-opacity: 1; stroke-width: 1px;\"/><path class=\"ygrid crisp\" transform=\"translate(0,474)\" d=\"M281,0h939\" style=\"stroke: rgb(255, 255, 255); stroke-opacity: 1; stroke-width: 1px;\"/><path class=\"ygrid crisp\" transform=\"translate(0,443.33)\" d=\"M281,0h939\" style=\"stroke: rgb(255, 255, 255); stroke-opacity: 1; stroke-width: 1px;\"/><path class=\"ygrid crisp\" transform=\"translate(0,412.67)\" d=\"M281,0h939\" style=\"stroke: rgb(255, 255, 255); stroke-opacity: 1; stroke-width: 1px;\"/><path class=\"ygrid crisp\" transform=\"translate(0,382)\" d=\"M281,0h939\" style=\"stroke: rgb(255, 255, 255); stroke-opacity: 1; stroke-width: 1px;\"/><path class=\"ygrid crisp\" transform=\"translate(0,351.33)\" d=\"M281,0h939\" style=\"stroke: rgb(255, 255, 255); stroke-opacity: 1; stroke-width: 1px;\"/><path class=\"ygrid crisp\" transform=\"translate(0,320.67)\" d=\"M281,0h939\" style=\"stroke: rgb(255, 255, 255); stroke-opacity: 1; stroke-width: 1px;\"/><path class=\"ygrid crisp\" transform=\"translate(0,290)\" d=\"M281,0h939\" style=\"stroke: rgb(255, 255, 255); stroke-opacity: 1; stroke-width: 1px;\"/><path class=\"ygrid crisp\" transform=\"translate(0,259.33000000000004)\" d=\"M281,0h939\" style=\"stroke: rgb(255, 255, 255); stroke-opacity: 1; stroke-width: 1px;\"/><path class=\"ygrid crisp\" transform=\"translate(0,228.67)\" d=\"M281,0h939\" style=\"stroke: rgb(255, 255, 255); stroke-opacity: 1; stroke-width: 1px;\"/><path class=\"ygrid crisp\" transform=\"translate(0,198)\" d=\"M281,0h939\" style=\"stroke: rgb(255, 255, 255); stroke-opacity: 1; stroke-width: 1px;\"/><path class=\"ygrid crisp\" transform=\"translate(0,167.32999999999998)\" d=\"M281,0h939\" style=\"stroke: rgb(255, 255, 255); stroke-opacity: 1; stroke-width: 1px;\"/><path class=\"ygrid crisp\" transform=\"translate(0,136.67000000000002)\" d=\"M281,0h939\" style=\"stroke: rgb(255, 255, 255); stroke-opacity: 1; stroke-width: 1px;\"/><path class=\"ygrid crisp\" transform=\"translate(0,106)\" d=\"M281,0h939\" style=\"stroke: rgb(255, 255, 255); stroke-opacity: 1; stroke-width: 1px;\"/><path class=\"ygrid crisp\" transform=\"translate(0,75.33)\" d=\"M281,0h939\" style=\"stroke: rgb(255, 255, 255); stroke-opacity: 1; stroke-width: 1px;\"/></g></g><g class=\"zerolinelayer\"><path class=\"xzl zl crisp\" transform=\"translate(281,0)\" d=\"M0,60v460\" style=\"stroke: rgb(255, 255, 255); stroke-opacity: 1; stroke-width: 1px;\"/></g><path class=\"xlines-below\"/><path class=\"ylines-below\"/><g class=\"overlines-below\"/><g class=\"xaxislayer-below\"/><g class=\"yaxislayer-below\"/><g class=\"overaxes-below\"/><g class=\"plot\" transform=\"translate(281,60)\" clip-path=\"url(#clip8480f2xyplot)\"><g class=\"barlayer mlayer\"><g class=\"trace bars\" style=\"opacity: 1;\"><g class=\"points\"><g class=\"point\"><path d=\"M0,27.6V3.07H892.05V27.6Z\" style=\"vector-effect: none; opacity: 1; stroke-width: 0px; fill: rgb(165, 105, 189); fill-opacity: 1;\"/><text class=\"bartext bartext-inside\" text-anchor=\"middle\" data-notex=\"1\" x=\"0\" y=\"0\" style=\"font-family: 'Open Sans', verdana, arial, sans-serif; font-size: 12px; fill: rgb(68, 68, 68); fill-opacity: 1; white-space: pre;\" transform=\"translate(881.409375,20.085)\">63</text></g></g></g><g class=\"trace bars\" style=\"opacity: 1;\"><g class=\"points\"><g class=\"point\"><path d=\"M0,150.27V125.73H70.8V150.27Z\" style=\"vector-effect: none; opacity: 1; stroke-width: 0px; fill: rgb(244, 208, 63); fill-opacity: 1;\"/><text class=\"bartext bartext-inside\" text-anchor=\"middle\" data-notex=\"1\" x=\"0\" y=\"0\" style=\"font-family: 'Open Sans', verdana, arial, sans-serif; font-size: 12px; fill: rgb(68, 68, 68); fill-opacity: 1; white-space: pre;\" transform=\"translate(63.971875,142.75)\">5</text></g></g></g><g class=\"trace bars\" style=\"opacity: 1;\"><g class=\"points\"><g class=\"point\"><path d=\"M0,119.6V95.07H84.96V119.6Z\" style=\"vector-effect: none; opacity: 1; stroke-width: 0px; fill: rgb(245, 176, 65); fill-opacity: 1;\"/><text class=\"bartext bartext-inside\" text-anchor=\"middle\" data-notex=\"1\" x=\"0\" y=\"0\" style=\"font-family: 'Open Sans', verdana, arial, sans-serif; font-size: 12px; fill: rgb(68, 68, 68); fill-opacity: 1; white-space: pre;\" transform=\"translate(78.131875,112.085)\">6</text></g></g></g><g class=\"trace bars\" style=\"opacity: 1;\"><g class=\"points\"><g class=\"point\"><path d=\"M0,456.93V432.4H28.32V456.93Z\" style=\"vector-effect: none; opacity: 1; stroke-width: 0px; fill: rgb(241, 148, 138); fill-opacity: 1;\"/><text class=\"bartext bartext-inside\" text-anchor=\"middle\" data-notex=\"1\" x=\"0\" y=\"0\" style=\"font-family: 'Open Sans', verdana, arial, sans-serif; font-size: 12px; fill: rgb(68, 68, 68); fill-opacity: 1; white-space: pre;\" transform=\"translate(21.491875,449.41499999999996)\">2</text></g></g></g><g class=\"trace bars\" style=\"opacity: 1;\"><g class=\"points\"><g class=\"point\"><path d=\"M0,334.27V309.73H42.48V334.27Z\" style=\"vector-effect: none; opacity: 1; stroke-width: 0px; fill: rgb(125, 206, 160); fill-opacity: 1;\"/><text class=\"bartext bartext-inside\" text-anchor=\"middle\" data-notex=\"1\" x=\"0\" y=\"0\" style=\"font-family: 'Open Sans', verdana, arial, sans-serif; font-size: 12px; fill: rgb(68, 68, 68); fill-opacity: 1; white-space: pre;\" transform=\"translate(35.651875,326.75)\">3</text></g></g></g><g class=\"trace bars\" style=\"opacity: 1;\"><g class=\"points\"><g class=\"point\"><path d=\"M0,58.27V33.73H353.99V58.27Z\" style=\"vector-effect: none; opacity: 1; stroke-width: 0px; fill: rgb(118, 215, 196); fill-opacity: 1;\"/><text class=\"bartext bartext-inside\" text-anchor=\"middle\" data-notex=\"1\" x=\"0\" y=\"0\" style=\"font-family: 'Open Sans', verdana, arial, sans-serif; font-size: 12px; fill: rgb(68, 68, 68); fill-opacity: 1; white-space: pre;\" transform=\"translate(343.349375,50.75)\">25</text></g></g></g><g class=\"trace bars\" style=\"opacity: 1;\"><g class=\"points\"><g class=\"point\"><path d=\"M0,426.27V401.73H28.32V426.27Z\" style=\"vector-effect: none; opacity: 1; stroke-width: 0px; fill: rgb(133, 193, 233); fill-opacity: 1;\"/><text class=\"bartext bartext-inside\" text-anchor=\"middle\" data-notex=\"1\" x=\"0\" y=\"0\" style=\"font-family: 'Open Sans', verdana, arial, sans-serif; font-size: 12px; fill: rgb(68, 68, 68); fill-opacity: 1; white-space: pre;\" transform=\"translate(21.491875,418.75)\">2</text></g></g></g><g class=\"trace bars\" style=\"opacity: 1;\"><g class=\"points\"><g class=\"point\"><path d=\"M0,395.6V371.07H28.32V395.6Z\" style=\"vector-effect: none; opacity: 1; stroke-width: 0px; fill: rgb(174, 214, 241); fill-opacity: 1;\"/><text class=\"bartext bartext-inside\" text-anchor=\"middle\" data-notex=\"1\" x=\"0\" y=\"0\" style=\"font-family: 'Open Sans', verdana, arial, sans-serif; font-size: 12px; fill: rgb(68, 68, 68); fill-opacity: 1; white-space: pre;\" transform=\"translate(21.491875,388.08500000000004)\">2</text></g></g></g><g class=\"trace bars\" style=\"opacity: 1;\"><g class=\"points\"><g class=\"point\"><path d=\"M0,88.93V64.4H155.75V88.93Z\" style=\"vector-effect: none; opacity: 1; stroke-width: 0px; fill: rgb(210, 180, 222); fill-opacity: 1;\"/><text class=\"bartext bartext-inside\" text-anchor=\"middle\" data-notex=\"1\" x=\"0\" y=\"0\" style=\"font-family: 'Open Sans', verdana, arial, sans-serif; font-size: 12px; fill: rgb(68, 68, 68); fill-opacity: 1; white-space: pre;\" transform=\"translate(145.109375,81.415)\">11</text></g></g></g><g class=\"trace bars\" style=\"opacity: 1;\"><g class=\"points\"><g class=\"point\"><path d=\"M0,364.93V340.4H28.32V364.93Z\" style=\"vector-effect: none; opacity: 1; stroke-width: 0px; fill: rgb(250, 219, 216); fill-opacity: 1;\"/><text class=\"bartext bartext-inside\" text-anchor=\"middle\" data-notex=\"1\" x=\"0\" y=\"0\" style=\"font-family: 'Open Sans', verdana, arial, sans-serif; font-size: 12px; fill: rgb(68, 68, 68); fill-opacity: 1; white-space: pre;\" transform=\"translate(21.491875,357.41499999999996)\">2</text></g></g></g><g class=\"trace bars\" style=\"opacity: 1;\"><g class=\"points\"><g class=\"point\"><path d=\"M0,303.6V279.07H42.48V303.6Z\" style=\"vector-effect: none; opacity: 1; stroke-width: 0px; fill: rgb(245, 183, 177); fill-opacity: 1;\"/><text class=\"bartext bartext-inside\" text-anchor=\"middle\" data-notex=\"1\" x=\"0\" y=\"0\" style=\"font-family: 'Open Sans', verdana, arial, sans-serif; font-size: 12px; fill: rgb(68, 68, 68); fill-opacity: 1; white-space: pre;\" transform=\"translate(35.651875,296.08500000000004)\">3</text></g></g></g><g class=\"trace bars\" style=\"opacity: 1;\"><g class=\"points\"><g class=\"point\"><path d=\"M0,211.6V187.07H56.64V211.6Z\" style=\"vector-effect: none; opacity: 1; stroke-width: 0px; fill: rgb(241, 148, 138); fill-opacity: 1;\"/><text class=\"bartext bartext-inside\" text-anchor=\"middle\" data-notex=\"1\" x=\"0\" y=\"0\" style=\"font-family: 'Open Sans', verdana, arial, sans-serif; font-size: 12px; fill: rgb(68, 68, 68); fill-opacity: 1; white-space: pre;\" transform=\"translate(49.811875,204.08499999999998)\">4</text></g></g></g><g class=\"trace bars\" style=\"opacity: 1;\"><g class=\"points\"><g class=\"point\"><path d=\"M0,272.93V248.4H42.48V272.93Z\" style=\"vector-effect: none; opacity: 1; stroke-width: 0px; fill: rgb(245, 183, 177); fill-opacity: 1;\"/><text class=\"bartext bartext-inside\" text-anchor=\"middle\" data-notex=\"1\" x=\"0\" y=\"0\" style=\"font-family: 'Open Sans', verdana, arial, sans-serif; font-size: 12px; fill: rgb(68, 68, 68); fill-opacity: 1; white-space: pre;\" transform=\"translate(35.651875,265.415)\">3</text></g></g></g><g class=\"trace bars\" style=\"opacity: 1;\"><g class=\"points\"><g class=\"point\"><path d=\"M0,242.27V217.73H42.48V242.27Z\" style=\"vector-effect: none; opacity: 1; stroke-width: 0px; fill: rgb(165, 105, 189); fill-opacity: 1;\"/><text class=\"bartext bartext-inside\" text-anchor=\"middle\" data-notex=\"1\" x=\"0\" y=\"0\" style=\"font-family: 'Open Sans', verdana, arial, sans-serif; font-size: 12px; fill: rgb(68, 68, 68); fill-opacity: 1; white-space: pre;\" transform=\"translate(35.651875,234.75)\">3</text></g></g></g><g class=\"trace bars\" style=\"opacity: 1;\"><g class=\"points\"><g class=\"point\"><path d=\"M0,180.93V156.4H56.64V180.93Z\" style=\"vector-effect: none; opacity: 1; stroke-width: 0px; fill: rgb(244, 208, 63); fill-opacity: 1;\"/><text class=\"bartext bartext-inside\" text-anchor=\"middle\" data-notex=\"1\" x=\"0\" y=\"0\" style=\"font-family: 'Open Sans', verdana, arial, sans-serif; font-size: 12px; fill: rgb(68, 68, 68); fill-opacity: 1; white-space: pre;\" transform=\"translate(49.811875,173.41500000000002)\">4</text></g></g></g></g></g><g class=\"overplot\"/><path class=\"xlines-above crisp\" d=\"M280,520.5H1221M280,59.5H1221\" style=\"fill: none; stroke-width: 1px; stroke: rgb(0, 0, 0); stroke-opacity: 1;\"/><path class=\"ylines-above crisp\" d=\"M280.5,60V520M1220.5,60V520\" style=\"fill: none; stroke-width: 1px; stroke: rgb(0, 0, 0); stroke-opacity: 1;\"/><g class=\"overlines-above\"/><g class=\"xaxislayer-above\"><path class=\"xtick ticks crisp\" d=\"M0,521v5\" transform=\"translate(281,0)\" style=\"stroke: rgb(51, 51, 51); stroke-opacity: 1; stroke-width: 1px;\"/><path class=\"xtick ticks crisp\" d=\"M0,521v5\" transform=\"translate(422.6,0)\" style=\"stroke: rgb(51, 51, 51); stroke-opacity: 1; stroke-width: 1px;\"/><path class=\"xtick ticks crisp\" d=\"M0,521v5\" transform=\"translate(564.19,0)\" style=\"stroke: rgb(51, 51, 51); stroke-opacity: 1; stroke-width: 1px;\"/><path class=\"xtick ticks crisp\" d=\"M0,521v5\" transform=\"translate(705.79,0)\" style=\"stroke: rgb(51, 51, 51); stroke-opacity: 1; stroke-width: 1px;\"/><path class=\"xtick ticks crisp\" d=\"M0,521v5\" transform=\"translate(847.38,0)\" style=\"stroke: rgb(51, 51, 51); stroke-opacity: 1; stroke-width: 1px;\"/><path class=\"xtick ticks crisp\" d=\"M0,521v5\" transform=\"translate(988.98,0)\" style=\"stroke: rgb(51, 51, 51); stroke-opacity: 1; stroke-width: 1px;\"/><path class=\"xtick ticks crisp\" d=\"M0,521v5\" transform=\"translate(1130.5700000000002,0)\" style=\"stroke: rgb(51, 51, 51); stroke-opacity: 1; stroke-width: 1px;\"/><g class=\"xtick\"><text text-anchor=\"middle\" x=\"0\" y=\"540.4\" transform=\"translate(281,0)\" style=\"font-family: 'Open Sans', verdana, arial, sans-serif; font-size: 12px; fill: rgb(51, 51, 51); fill-opacity: 1; white-space: pre; opacity: 1;\">0</text></g><g class=\"xtick\"><text text-anchor=\"middle\" x=\"0\" y=\"540.4\" style=\"font-family: 'Open Sans', verdana, arial, sans-serif; font-size: 12px; fill: rgb(51, 51, 51); fill-opacity: 1; white-space: pre; opacity: 1;\" transform=\"translate(422.6,0)\">10</text></g><g class=\"xtick\"><text text-anchor=\"middle\" x=\"0\" y=\"540.4\" style=\"font-family: 'Open Sans', verdana, arial, sans-serif; font-size: 12px; fill: rgb(51, 51, 51); fill-opacity: 1; white-space: pre; opacity: 1;\" transform=\"translate(564.19,0)\">20</text></g><g class=\"xtick\"><text text-anchor=\"middle\" x=\"0\" y=\"540.4\" style=\"font-family: 'Open Sans', verdana, arial, sans-serif; font-size: 12px; fill: rgb(51, 51, 51); fill-opacity: 1; white-space: pre; opacity: 1;\" transform=\"translate(705.79,0)\">30</text></g><g class=\"xtick\"><text text-anchor=\"middle\" x=\"0\" y=\"540.4\" style=\"font-family: 'Open Sans', verdana, arial, sans-serif; font-size: 12px; fill: rgb(51, 51, 51); fill-opacity: 1; white-space: pre; opacity: 1;\" transform=\"translate(847.38,0)\">40</text></g><g class=\"xtick\"><text text-anchor=\"middle\" x=\"0\" y=\"540.4\" style=\"font-family: 'Open Sans', verdana, arial, sans-serif; font-size: 12px; fill: rgb(51, 51, 51); fill-opacity: 1; white-space: pre; opacity: 1;\" transform=\"translate(988.98,0)\">50</text></g><g class=\"xtick\"><text text-anchor=\"middle\" x=\"0\" y=\"540.4\" style=\"font-family: 'Open Sans', verdana, arial, sans-serif; font-size: 12px; fill: rgb(51, 51, 51); fill-opacity: 1; white-space: pre; opacity: 1;\" transform=\"translate(1130.5700000000002,0)\">60</text></g></g><g class=\"yaxislayer-above\"><path class=\"ytick ticks crisp\" d=\"M280,0h-5\" transform=\"translate(0,504.67)\" style=\"stroke: rgb(51, 51, 51); stroke-opacity: 1; stroke-width: 1px;\"/><path class=\"ytick ticks crisp\" d=\"M280,0h-5\" transform=\"translate(0,474)\" style=\"stroke: rgb(51, 51, 51); stroke-opacity: 1; stroke-width: 1px;\"/><path class=\"ytick ticks crisp\" d=\"M280,0h-5\" transform=\"translate(0,443.33)\" style=\"stroke: rgb(51, 51, 51); stroke-opacity: 1; stroke-width: 1px;\"/><path class=\"ytick ticks crisp\" d=\"M280,0h-5\" transform=\"translate(0,412.67)\" style=\"stroke: rgb(51, 51, 51); stroke-opacity: 1; stroke-width: 1px;\"/><path class=\"ytick ticks crisp\" d=\"M280,0h-5\" transform=\"translate(0,382)\" style=\"stroke: rgb(51, 51, 51); stroke-opacity: 1; stroke-width: 1px;\"/><path class=\"ytick ticks crisp\" d=\"M280,0h-5\" transform=\"translate(0,351.33)\" style=\"stroke: rgb(51, 51, 51); stroke-opacity: 1; stroke-width: 1px;\"/><path class=\"ytick ticks crisp\" d=\"M280,0h-5\" transform=\"translate(0,320.67)\" style=\"stroke: rgb(51, 51, 51); stroke-opacity: 1; stroke-width: 1px;\"/><path class=\"ytick ticks crisp\" d=\"M280,0h-5\" transform=\"translate(0,290)\" style=\"stroke: rgb(51, 51, 51); stroke-opacity: 1; stroke-width: 1px;\"/><path class=\"ytick ticks crisp\" d=\"M280,0h-5\" transform=\"translate(0,259.33000000000004)\" style=\"stroke: rgb(51, 51, 51); stroke-opacity: 1; stroke-width: 1px;\"/><path class=\"ytick ticks crisp\" d=\"M280,0h-5\" transform=\"translate(0,228.67)\" style=\"stroke: rgb(51, 51, 51); stroke-opacity: 1; stroke-width: 1px;\"/><path class=\"ytick ticks crisp\" d=\"M280,0h-5\" transform=\"translate(0,198)\" style=\"stroke: rgb(51, 51, 51); stroke-opacity: 1; stroke-width: 1px;\"/><path class=\"ytick ticks crisp\" d=\"M280,0h-5\" transform=\"translate(0,167.32999999999998)\" style=\"stroke: rgb(51, 51, 51); stroke-opacity: 1; stroke-width: 1px;\"/><path class=\"ytick ticks crisp\" d=\"M280,0h-5\" transform=\"translate(0,136.67000000000002)\" style=\"stroke: rgb(51, 51, 51); stroke-opacity: 1; stroke-width: 1px;\"/><path class=\"ytick ticks crisp\" d=\"M280,0h-5\" transform=\"translate(0,106)\" style=\"stroke: rgb(51, 51, 51); stroke-opacity: 1; stroke-width: 1px;\"/><path class=\"ytick ticks crisp\" d=\"M280,0h-5\" transform=\"translate(0,75.33)\" style=\"stroke: rgb(51, 51, 51); stroke-opacity: 1; stroke-width: 1px;\"/><g class=\"ytick\"><text text-anchor=\"end\" x=\"272.6\" y=\"4.199999999999999\" transform=\"translate(0,504.67)\" style=\"font-family: 'Open Sans', verdana, arial, sans-serif; font-size: 12px; fill: rgb(51, 51, 51); fill-opacity: 1; white-space: pre; opacity: 1;\">new-required-request-property</text></g><g class=\"ytick\"><text text-anchor=\"end\" x=\"272.6\" y=\"4.199999999999999\" transform=\"translate(0,474)\" style=\"font-family: 'Open Sans', verdana, arial, sans-serif; font-size: 12px; fill: rgb(51, 51, 51); fill-opacity: 1; white-space: pre; opacity: 1;\">request-parameter-type-changed</text></g><g class=\"ytick\"><text text-anchor=\"end\" x=\"272.6\" y=\"4.199999999999999\" transform=\"translate(0,443.33)\" style=\"font-family: 'Open Sans', verdana, arial, sans-serif; font-size: 12px; fill: rgb(51, 51, 51); fill-opacity: 1; white-space: pre; opacity: 1;\">request-property-became-required</text></g><g class=\"ytick\"><text text-anchor=\"end\" x=\"272.6\" y=\"4.199999999999999\" transform=\"translate(0,412.67)\" style=\"font-family: 'Open Sans', verdana, arial, sans-serif; font-size: 12px; fill: rgb(51, 51, 51); fill-opacity: 1; white-space: pre; opacity: 1;\">request-property-type-changed</text></g><g class=\"ytick\"><text text-anchor=\"end\" x=\"272.6\" y=\"4.199999999999999\" transform=\"translate(0,382)\" style=\"font-family: 'Open Sans', verdana, arial, sans-serif; font-size: 12px; fill: rgb(51, 51, 51); fill-opacity: 1; white-space: pre; opacity: 1;\">request-parameter-became-required</text></g><g class=\"ytick\"><text text-anchor=\"end\" x=\"272.6\" y=\"4.199999999999999\" transform=\"translate(0,351.33)\" style=\"font-family: 'Open Sans', verdana, arial, sans-serif; font-size: 12px; fill: rgb(51, 51, 51); fill-opacity: 1; white-space: pre; opacity: 1;\">response-body-type-changed</text></g><g class=\"ytick\"><text text-anchor=\"end\" x=\"272.6\" y=\"4.199999999999999\" transform=\"translate(0,320.67)\" style=\"font-family: 'Open Sans', verdana, arial, sans-serif; font-size: 12px; fill: rgb(51, 51, 51); fill-opacity: 1; white-space: pre; opacity: 1;\">response-property-enum-value-added</text></g><g class=\"ytick\"><text text-anchor=\"end\" x=\"272.6\" y=\"4.199999999999999\" transform=\"translate(0,290)\" style=\"font-family: 'Open Sans', verdana, arial, sans-serif; font-size: 12px; fill: rgb(51, 51, 51); fill-opacity: 1; white-space: pre; opacity: 1;\">response-property-type-changed</text></g><g class=\"ytick\"><text text-anchor=\"end\" x=\"272.6\" y=\"4.199999999999999\" transform=\"translate(0,259.33000000000004)\" style=\"font-family: 'Open Sans', verdana, arial, sans-serif; font-size: 12px; fill: rgb(51, 51, 51); fill-opacity: 1; white-space: pre; opacity: 1;\">response-media-type-removed</text></g><g class=\"ytick\"><text text-anchor=\"end\" x=\"272.6\" y=\"4.199999999999999\" transform=\"translate(0,228.67)\" style=\"font-family: 'Open Sans', verdana, arial, sans-serif; font-size: 12px; fill: rgb(51, 51, 51); fill-opacity: 1; white-space: pre; opacity: 1;\">response-success-status-removed</text></g><g class=\"ytick\"><text text-anchor=\"end\" x=\"272.6\" y=\"4.199999999999999\" transform=\"translate(0,198)\" style=\"font-family: 'Open Sans', verdana, arial, sans-serif; font-size: 12px; fill: rgb(51, 51, 51); fill-opacity: 1; white-space: pre; opacity: 1;\">api-removed-without-deprecation</text></g><g class=\"ytick\"><text text-anchor=\"end\" x=\"272.6\" y=\"4.199999999999999\" transform=\"translate(0,167.32999999999998)\" style=\"font-family: 'Open Sans', verdana, arial, sans-serif; font-size: 12px; fill: rgb(51, 51, 51); fill-opacity: 1; white-space: pre; opacity: 1;\">new-required-request-parameter</text></g><g class=\"ytick\"><text text-anchor=\"end\" x=\"272.6\" y=\"4.199999999999999\" transform=\"translate(0,136.67000000000002)\" style=\"font-family: 'Open Sans', verdana, arial, sans-serif; font-size: 12px; fill: rgb(51, 51, 51); fill-opacity: 1; white-space: pre; opacity: 1;\">request-property-removed</text></g><g class=\"ytick\"><text text-anchor=\"end\" x=\"272.6\" y=\"4.199999999999999\" transform=\"translate(0,106)\" style=\"font-family: 'Open Sans', verdana, arial, sans-serif; font-size: 12px; fill: rgb(51, 51, 51); fill-opacity: 1; white-space: pre; opacity: 1;\">request-parameter-removed</text></g><g class=\"ytick\"><text text-anchor=\"end\" x=\"272.6\" y=\"4.199999999999999\" transform=\"translate(0,75.33)\" style=\"font-family: 'Open Sans', verdana, arial, sans-serif; font-size: 12px; fill: rgb(51, 51, 51); fill-opacity: 1; white-space: pre; opacity: 1;\">api-path-removed-without-deprecation</text></g></g><g class=\"overaxes-above\"/></g></g><g class=\"polarlayer\"/><g class=\"smithlayer\"/><g class=\"ternarylayer\"/><g class=\"geolayer\"/><g class=\"funnelarealayer\"/><g class=\"pielayer\"/><g class=\"iciclelayer\"/><g class=\"treemaplayer\"/><g class=\"sunburstlayer\"/><g class=\"glimages\"/><defs id=\"topdefs-8480f2\"><g class=\"clips\"/></defs><g class=\"layer-above\"><g class=\"imagelayer\"/><g class=\"shapelayer\"/></g><g class=\"infolayer\"><g class=\"g-gtitle\"><text class=\"gtitle\" x=\"650\" y=\"30\" text-anchor=\"middle\" dy=\"0em\" style=\"font-family: 'Open Sans', verdana, arial, sans-serif; font-size: 17px; fill: rgb(51, 51, 51); opacity: 1; font-weight: normal; white-space: pre;\">Occurence of Breaking Changes in Unclassified APIs</text></g><g class=\"g-xtitle\"><text class=\"xtitle\" x=\"750.5\" y=\"567.20625\" text-anchor=\"middle\" style=\"font-family: 'Open Sans', verdana, arial, sans-serif; font-size: 14px; fill: rgb(51, 51, 51); opacity: 1; font-weight: normal; white-space: pre;\">Number of Occurences</text></g><g class=\"g-ytitle\" transform=\"translate(1.2060546875,0)\"><text class=\"ytitle\" transform=\"rotate(-90,12.793749999999989,290)\" x=\"12.793749999999989\" y=\"290\" text-anchor=\"middle\" style=\"font-family: 'Open Sans', verdana, arial, sans-serif; font-size: 14px; fill: rgb(51, 51, 51); opacity: 1; font-weight: normal; white-space: pre;\">Type of Change</text></g></g></svg>"
     },
     "metadata": {},
     "output_type": "display_data"
    }
   ],
   "source": [
    "fig= px.histogram(other_changes, x=\"Other\", y=\"content\",color=\"content\", color_discrete_sequence=['#A569BD', '#F4D03F', '#F5B041', '#F1948A', '#7DCEA0', '#76D7C4', '#85C1E9', '#AED6F1', '#D2B4DE', '#FADBD8', '#F5B7B1', '#F1948A', '#F5B7B1'], text_auto=True)\n",
    "\n",
    "fig.update_xaxes(showline=True, linewidth=1, linecolor='black', mirror=True)\n",
    "fig.update_yaxes(categoryorder='total ascending',showline=True, linewidth=1, linecolor='black', mirror=True)\n",
    "\n",
    "fig.update_layout(template='ggplot2',width=1300, height=600, title = 'Occurence of Breaking Changes in Unclassified APIs', xaxis_title='Number of Occurences', yaxis_title='Type of Change', showlegend=False)\n",
    "\n",
    "fig.show(\"svg\")\n"
   ]
  }
 ],
 "metadata": {
  "kernelspec": {
   "display_name": "Python 3.11.1 64-bit",
   "language": "python",
   "name": "python3"
  },
  "language_info": {
   "codemirror_mode": {
    "name": "ipython",
    "version": 3
   },
   "file_extension": ".py",
   "mimetype": "text/x-python",
   "name": "python",
   "nbconvert_exporter": "python",
   "pygments_lexer": "ipython3",
   "version": "3.11.3"
  },
  "orig_nbformat": 4,
  "vscode": {
   "interpreter": {
    "hash": "1a1af0ee75eeea9e2e1ee996c87e7a2b11a0bebd85af04bb136d915cefc0abce"
   }
  }
 },
 "nbformat": 4,
 "nbformat_minor": 2
}
