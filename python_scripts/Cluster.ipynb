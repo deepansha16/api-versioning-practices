{
 "cells": [
  {
   "cell_type": "code",
   "execution_count": 1,
   "metadata": {},
   "outputs": [],
   "source": [
    "import pandas as pd\n",
    "import numpy as np\n",
    "import plotly.express as px\n",
    "import plotly.graph_objects as go\n",
    "import plotly.io as pio"
   ]
  },
  {
   "cell_type": "code",
   "execution_count": 34,
   "metadata": {},
   "outputs": [],
   "source": [
    "df= pd.read_csv ('api.csv', encoding='utf-8')"
   ]
  },
  {
   "cell_type": "code",
   "execution_count": null,
   "metadata": {},
   "outputs": [],
   "source": [
    "df['API_diff'] = df.loc[:, ].sum(axis=1)['Info_contact_name_changes', 'Servers_modified', 'Endpoints_added', 'Endpoints_deleted', 'Components_parameters_added', 'Servers_added', 'Servers_deleted', 'Paths_added', 'Paths_deleted', 'Components_Security_Schemes_added', 'Components_Security_Schemes_deleted', 'Tags_added', 'Tags_deleted', 'Components_Headers_Added', 'Components_Headers_Deleted', 'Components_Request_Bodies_Added', 'Components_Request_Bodies_Deleted', 'Components_Responses_Added', 'Components_Responses_Deleted', 'Components_Schemas_Added', 'Components_Schemas_Deleted', 'Components_Links_Added', 'Components_Links_Deleted', 'Info_title_changes', 'Info_description_changes', 'Info_contact_url_changes', 'Info_contact_email_changes', 'Info_license_name_changes', 'Info_license_url_changes', 'Info_termsOfService_changes', 'Components_parameters_deleted', 'Components_Security_Schemes_modified', 'Tags_modified', 'Paths_modified']"
   ]
  },
  {
   "cell_type": "code",
   "execution_count": null,
   "metadata": {},
   "outputs": [],
   "source": [
    "df.label=df.label.astype('category').cat.codes"
   ]
  },
  {
   "cell_type": "code",
   "execution_count": 35,
   "metadata": {},
   "outputs": [],
   "source": [
    "allowed_labels = ['major', 'minor', 'patch']\n",
    "labels = df[df['label'].isin(allowed_labels)]"
   ]
  },
  {
   "cell_type": "code",
   "execution_count": 38,
   "metadata": {},
   "outputs": [
    {
     "name": "stderr",
     "output_type": "stream",
     "text": [
      "/var/folders/27/mp6sy3_d6_lgz19hyp_8n8z40000gn/T/ipykernel_78579/853084465.py:1: SettingWithCopyWarning: \n",
      "A value is trying to be set on a copy of a slice from a DataFrame\n",
      "\n",
      "See the caveats in the documentation: https://pandas.pydata.org/pandas-docs/stable/user_guide/indexing.html#returning-a-view-versus-a-copy\n",
      "  labels.sort_values(by=['api_spec_id', 'commit_date'], inplace=True)\n"
     ]
    }
   ],
   "source": [
    "labels.sort_values(by=['api_spec_id', 'commit_date'], inplace=True)"
   ]
  },
  {
   "cell_type": "code",
   "execution_count": null,
   "metadata": {},
   "outputs": [],
   "source": [
    "labels.to_csv('prac.csv', index=False)"
   ]
  },
  {
   "cell_type": "code",
   "execution_count": null,
   "metadata": {},
   "outputs": [],
   "source": [
    "labels.label=labels.label.astype('category').cat.codes"
   ]
  },
  {
   "cell_type": "code",
   "execution_count": null,
   "metadata": {},
   "outputs": [],
   "source": [
    "df.sort_values(by=['api_spec_id', 'commit_date'], inplace=True)"
   ]
  },
  {
   "cell_type": "code",
   "execution_count": null,
   "metadata": {},
   "outputs": [],
   "source": [
    "df.fillna(0, inplace=True)"
   ]
  },
  {
   "cell_type": "code",
   "execution_count": 19,
   "metadata": {},
   "outputs": [],
   "source": [
    "new_label =  labels[['label','api_spec_id','Info_contact_name_changes', 'Servers_modified', 'Endpoints_added', 'Endpoints_deleted', 'Components_parameters_added', 'Servers_added', 'Servers_deleted', 'Paths_added', 'Paths_deleted', 'Components_Security_Schemes_added', 'Components_Security_Schemes_deleted', 'Tags_added', 'Tags_deleted', 'Components_Headers_Added', 'Components_Headers_Deleted', 'Components_Request_Bodies_Added', 'Components_Request_Bodies_Deleted', 'Components_Responses_Added', 'Components_Responses_Deleted', 'Components_Schemas_Added', 'Components_Schemas_Deleted', 'Components_Links_Added', 'Components_Links_Deleted', 'Info_title_changes', 'Info_description_changes', 'Info_contact_url_changes', 'Info_contact_email_changes', 'Info_license_name_changes', 'Info_license_url_changes', 'Info_termsOfService_changes', 'Components_parameters_deleted', 'Components_Security_Schemes_modified', 'Tags_modified', 'Paths_modified']]"
   ]
  },
  {
   "cell_type": "code",
   "execution_count": 20,
   "metadata": {},
   "outputs": [
    {
     "name": "stderr",
     "output_type": "stream",
     "text": [
      "/var/folders/27/mp6sy3_d6_lgz19hyp_8n8z40000gn/T/ipykernel_78579/3669396200.py:1: SettingWithCopyWarning: \n",
      "A value is trying to be set on a copy of a slice from a DataFrame\n",
      "\n",
      "See the caveats in the documentation: https://pandas.pydata.org/pandas-docs/stable/user_guide/indexing.html#returning-a-view-versus-a-copy\n",
      "  new_label.fillna(0, inplace=True)\n"
     ]
    }
   ],
   "source": [
    "new_label.fillna(0, inplace=True)"
   ]
  },
  {
   "cell_type": "code",
   "execution_count": null,
   "metadata": {},
   "outputs": [],
   "source": [
    "X = new_label[['label']]\n",
    "y= new_label[['Info_contact_name_changes', 'Servers_modified', 'Endpoints_added', 'Endpoints_deleted', 'Components_parameters_added', 'Servers_added', 'Servers_deleted', 'Paths_added', 'Paths_deleted', 'Components_Security_Schemes_added', 'Components_Security_Schemes_deleted', 'Tags_added', 'Tags_deleted', 'Components_Headers_Added', 'Components_Headers_Deleted', 'Components_Request_Bodies_Added', 'Components_Request_Bodies_Deleted', 'Components_Responses_Added', 'Components_Responses_Deleted', 'Components_Schemas_Added', 'Components_Schemas_Deleted', 'Components_Links_Added', 'Components_Links_Deleted', 'Info_title_changes', 'Info_description_changes', 'Info_contact_url_changes', 'Info_contact_email_changes', 'Info_license_name_changes', 'Info_license_url_changes', 'Info_termsOfService_changes', 'Components_parameters_deleted', 'Components_Security_Schemes_modified', 'Tags_modified', 'Paths_modified']]"
   ]
  },
  {
   "cell_type": "code",
   "execution_count": 8,
   "metadata": {},
   "outputs": [],
   "source": [
    "X= new_label.drop(columns=[\"label\"])\n",
    "y= new_label['label']"
   ]
  },
  {
   "cell_type": "code",
   "execution_count": 11,
   "metadata": {},
   "outputs": [
    {
     "name": "stderr",
     "output_type": "stream",
     "text": [
      "/usr/local/lib/python3.11/site-packages/sklearn/feature_selection/_univariate_selection.py:112: UserWarning: Features [14 21 22] are constant.\n",
      "  warnings.warn(\"Features %s are constant.\" % constant_features_idx, UserWarning)\n",
      "/usr/local/lib/python3.11/site-packages/sklearn/feature_selection/_univariate_selection.py:113: RuntimeWarning: invalid value encountered in divide\n",
      "  f = msb / msw\n"
     ]
    }
   ],
   "source": [
    "from sklearn.feature_selection import SelectKBest\n",
    "from sklearn.feature_selection import f_classif\n",
    "import matplotlib.pyplot as plt\n",
    "\n",
    "uni = SelectKBest(score_func = f_classif, k =16)\n",
    "fit = uni.fit(X,y)"
   ]
  },
  {
   "cell_type": "code",
   "execution_count": 12,
   "metadata": {},
   "outputs": [
    {
     "data": {
      "text/plain": [
       "['Endpoints_added',\n",
       " 'Endpoints_deleted',\n",
       " 'Components_parameters_added',\n",
       " 'Paths_added',\n",
       " 'Paths_deleted',\n",
       " 'Components_Security_Schemes_added',\n",
       " 'Components_Security_Schemes_deleted',\n",
       " 'Components_Headers_Added',\n",
       " 'Components_Request_Bodies_Added',\n",
       " 'Components_Request_Bodies_Deleted',\n",
       " 'Components_Responses_Added',\n",
       " 'Components_Schemas_Added',\n",
       " 'Info_description_changes',\n",
       " 'Info_termsOfService_changes',\n",
       " 'Tags_modified',\n",
       " 'Paths_modified']"
      ]
     },
     "execution_count": 12,
     "metadata": {},
     "output_type": "execute_result"
    }
   ],
   "source": [
    "X.columns[fit.get_support(indices=True)].tolist()"
   ]
  },
  {
   "cell_type": "code",
   "execution_count": 13,
   "metadata": {},
   "outputs": [
    {
     "name": "stdout",
     "output_type": "stream",
     "text": [
      "Train (3748, 34) (3748,)\n",
      "Test (1607, 34) (1607,)\n"
     ]
    }
   ],
   "source": [
    "# load and summarize the dataset\n",
    "from sklearn.model_selection import train_test_split\n",
    "\n",
    "# split into train and test sets\n",
    "X_train, X_test, y_train, y_test = train_test_split(X, y, test_size=0.3, random_state=1)\n",
    "\n",
    "print('Train', X_train.shape, y_train.shape)\n",
    "print('Test', X_test.shape, y_test.shape)"
   ]
  },
  {
   "cell_type": "code",
   "execution_count": 14,
   "metadata": {},
   "outputs": [
    {
     "name": "stderr",
     "output_type": "stream",
     "text": [
      "/usr/local/lib/python3.11/site-packages/sklearn/feature_selection/_univariate_selection.py:112: UserWarning: Features [14 21 22] are constant.\n",
      "  warnings.warn(\"Features %s are constant.\" % constant_features_idx, UserWarning)\n",
      "/usr/local/lib/python3.11/site-packages/sklearn/feature_selection/_univariate_selection.py:113: RuntimeWarning: invalid value encountered in divide\n",
      "  f = msb / msw\n"
     ]
    }
   ],
   "source": [
    "from sklearn.feature_selection import SelectKBest\n",
    "from sklearn.feature_selection import f_classif\n",
    "import matplotlib.pyplot as plt\n",
    "\n",
    "# configure to select all features\n",
    "fs = SelectKBest(score_func=f_classif, k=5)\n",
    "# learn relationship from training data\n",
    "fs.fit(X_train, y_train)\n",
    "# transform train input data\n",
    "X_train_fs = fs.transform(X_train)\n",
    "# transform test input data\n",
    "X_test_fs = fs.transform(X_test)"
   ]
  },
  {
   "cell_type": "code",
   "execution_count": 15,
   "metadata": {},
   "outputs": [
    {
     "name": "stdout",
     "output_type": "stream",
     "text": [
      "Feature 0: 1.842508\n",
      "Feature 1: 0.507980\n",
      "Feature 2: 13.509282\n",
      "Feature 3: 2.696757\n",
      "Feature 4: 4.045443\n",
      "Feature 5: 0.523961\n",
      "Feature 6: 0.150668\n",
      "Feature 7: 10.828436\n",
      "Feature 8: 1.658768\n",
      "Feature 9: 1.506183\n",
      "Feature 10: 5.648018\n",
      "Feature 11: 0.058653\n",
      "Feature 12: 1.108934\n",
      "Feature 13: 3.760557\n",
      "Feature 14: nan\n",
      "Feature 15: 3.187308\n",
      "Feature 16: 3.036974\n",
      "Feature 17: 7.050070\n",
      "Feature 18: 0.541117\n",
      "Feature 19: 16.344863\n",
      "Feature 20: 0.375145\n",
      "Feature 21: nan\n",
      "Feature 22: nan\n",
      "Feature 23: 0.238638\n",
      "Feature 24: 12.473059\n",
      "Feature 25: 0.991939\n",
      "Feature 26: 2.841857\n",
      "Feature 27: 0.324726\n",
      "Feature 28: 1.180211\n",
      "Feature 29: 241.486125\n",
      "Feature 30: 1.334843\n",
      "Feature 31: 1.071118\n",
      "Feature 32: 255.975522\n",
      "Feature 33: 35.615577\n"
     ]
    },
    {
     "data": {
      "image/png": "[encoded data removed]",
      "text/plain": [
       "<Figure size 640x480 with 1 Axes>"
      ]
     },
     "metadata": {},
     "output_type": "display_data"
    }
   ],
   "source": [
    "from matplotlib import pyplot\n",
    "\n",
    "# what are scores for the features\n",
    "for i in range(len(fs.scores_)):\n",
    "\tprint('Feature %d: %f' % (i, fs.scores_[i]))\n",
    "# plot the scores\n",
    "pyplot.bar([i for i in range(len(fs.scores_))], fs.scores_)\n",
    "pyplot.show()"
   ]
  },
  {
   "cell_type": "code",
   "execution_count": null,
   "metadata": {},
   "outputs": [],
   "source": [
    "import plotly.express as px\n",
    "\n",
    "fig = px.imshow(new_df.corr(), x=new_df.columns, y=new_df.columns,color_continuous_scale='Viridis', aspect=\"auto\", text_auto=True, width=2500, height=1000)\n"
   ]
  },
  {
   "cell_type": "code",
   "execution_count": null,
   "metadata": {},
   "outputs": [],
   "source": [
    "allowed_labels = ['major', 'minor', 'patch']\n",
    "labels = df[df['label'].isin(allowed_labels)]"
   ]
  },
  {
   "cell_type": "code",
   "execution_count": null,
   "metadata": {},
   "outputs": [],
   "source": [
    "labels = labels.drop(['id', 'version_location', 'API_diff','paths.modified'], axis=1)"
   ]
  },
  {
   "cell_type": "code",
   "execution_count": null,
   "metadata": {},
   "outputs": [],
   "source": [
    "labels.to_csv('labels.csv', index=False)"
   ]
  },
  {
   "cell_type": "code",
   "execution_count": null,
   "metadata": {},
   "outputs": [],
   "source": [
    "labels = labels.fillna(0)"
   ]
  },
  {
   "cell_type": "code",
   "execution_count": null,
   "metadata": {},
   "outputs": [],
   "source": [
    "labels['label'] = labels['label'].astype('category')\n",
    "labels['label'].cat.categories"
   ]
  },
  {
   "cell_type": "code",
   "execution_count": null,
   "metadata": {},
   "outputs": [],
   "source": [
    "api_df = labels.sort_values(by=['api_spec_id','commit_date'], ascending=True) "
   ]
  },
  {
   "cell_type": "code",
   "execution_count": null,
   "metadata": {},
   "outputs": [],
   "source": [
    "new = labels.sort_values(by=['api_spec_id','commit_date'], ascending=True)"
   ]
  },
  {
   "cell_type": "code",
   "execution_count": null,
   "metadata": {},
   "outputs": [],
   "source": [
    "new.drop(['commit_date', 'info_version','api_spec_id'], axis=1, inplace=True)"
   ]
  },
  {
   "cell_type": "code",
   "execution_count": null,
   "metadata": {},
   "outputs": [],
   "source": [
    "new.info()"
   ]
  },
  {
   "cell_type": "code",
   "execution_count": null,
   "metadata": {},
   "outputs": [],
   "source": [
    "avg_cosine_distances = new.groupby('api_spec_id')['Cosine_distance'].mean()\n",
    "\n",
    "# add average cosine distance to the dataframe\n",
    "new['average_cosine_distance'] = new['api_spec_id'].map(avg_cosine_distances)\n"
   ]
  },
  {
   "cell_type": "code",
   "execution_count": null,
   "metadata": {},
   "outputs": [],
   "source": [
    "fig=px.histogram(new, x=\"Cosine_distance\", color=\"label\", nbins=100, title=\"Average Cosine Distance of API Versions\", width=1000, height=500)\n",
    "\n",
    "fig.update_layout(xaxis_range=[0, 0.99], yaxis_range=[0, 500])\n",
    "fig.show()"
   ]
  },
  {
   "cell_type": "code",
   "execution_count": null,
   "metadata": {},
   "outputs": [],
   "source": [
    "# for practice dataframe\n",
    "avg_cosine_distances = api_df.groupby('api_spec_id')['Cosine_distance'].mean()\n",
    "\n",
    "# add average cosine distance to the dataframe\n",
    "api_df['average_cosine_distance'] = api_df['api_spec_id'].map(avg_cosine_distances)\n",
    "\n",
    "api_df['commit_date'] = pd.to_datetime(api_df['commit_date'])\n",
    "\n",
    "api_df['Commit_Date'] = api_df['commit_date'].dt.date\n"
   ]
  },
  {
   "cell_type": "code",
   "execution_count": null,
   "metadata": {},
   "outputs": [],
   "source": [
    "new['commit_date'] = pd.to_datetime(new['commit_date'])\n",
    "new['Commit_Date'] = new['commit_date'].dt.date\n"
   ]
  },
  {
   "cell_type": "markdown",
   "metadata": {},
   "source": [
    "#df = pd.DataFrame({'dt': pd.date_range('2021-01-01', '2021-01-05')})\n",
    "new['commit_date_int'] = new['commit_date'].dt.year * 1000 + new['commit_date'].dt.month * 100 + new['commit_date'].dt.day\n"
   ]
  },
  {
   "cell_type": "code",
   "execution_count": null,
   "metadata": {},
   "outputs": [],
   "source": [
    "new = new.fillna(0)"
   ]
  },
  {
   "cell_type": "code",
   "execution_count": null,
   "metadata": {},
   "outputs": [],
   "source": [
    "new.label=new.label.astype('category').cat.codes"
   ]
  },
  {
   "cell_type": "code",
   "execution_count": null,
   "metadata": {},
   "outputs": [],
   "source": [
    "new.drop (['commit_date', 'commit_date_int', 'l2norm', 'Cosine_distance', 'cluster', 'api_spec_id','average_cosine_distance', 'Commit_Date'], axis=1, inplace=True)"
   ]
  },
  {
   "cell_type": "code",
   "execution_count": null,
   "metadata": {},
   "outputs": [],
   "source": [
    "from sklearn.cluster import KMeans\n",
    "\n",
    "wcss = {} \n",
    "# Look through the number of clusters\n",
    "for i in range(1,11):\n",
    "  # Run kmeans model\n",
    "  kmeans = KMeans(n_clusters=i, random_state=0, init='k-means++', n_init='auto').fit(new)\n",
    "  #Sum of squared distances of samples to their closest cluster center.\n",
    "  wcss[i] = (kmeans.inertia_)\n",
    "  # Print the within cluster sum of squares for each cluster number\n",
    "  print(f'The within cluster sum of squares for {i} clusters is {wcss[i]:.2f}')"
   ]
  },
  {
   "cell_type": "code",
   "execution_count": null,
   "metadata": {},
   "outputs": [],
   "source": [
    "import matplotlib.pyplot as plt\n",
    "\n",
    "plt.figure(figsize=(4,4))\n",
    "plt.plot(list(wcss.keys()),list(wcss.values()))\n",
    "plt.title('Elbow Method')\n",
    "plt.xlabel('Number of Clusters')\n",
    "plt.ylabel('Within Cluster Sum Of Squares')\n",
    "plt.show()"
   ]
  },
  {
   "cell_type": "code",
   "execution_count": null,
   "metadata": {},
   "outputs": [],
   "source": [
    "from sklearn.metrics import silhouette_score\n",
    "\n",
    "s_score = {} \n",
    "# Loop through the number of clusters\n",
    "for i in range(2,11): # Note that the minimum number of clusters is 2\n",
    "  # Fit kmeans clustering model for each cluster number\n",
    "  kmeans = KMeans(n_clusters=i, random_state=0,n_init='auto').fit(new)\n",
    "  # Make prediction\n",
    "  classes = kmeans.predict(new)\n",
    "  # Calculate Silhouette score\n",
    "  s_score[i] = (silhouette_score(new, classes)) \n",
    "  # Print the Silhouette score for each cluster number\n",
    "  print(f'The silhouette score for {i} clusters is {s_score[i]:.3f}')"
   ]
  },
  {
   "cell_type": "code",
   "execution_count": null,
   "metadata": {},
   "outputs": [],
   "source": [
    "#Set number of clusters at initialisation time\n",
    "k_means = KMeans(n_clusters=2, n_init='auto', init='k-means++')\n",
    "#Run the clustering algorithm\n",
    "model = k_means.fit(new)\n",
    "model\n",
    "#Generate cluster predictions and store in y_hat\n",
    "y_hat = k_means.predict(new)\n",
    "\n",
    "new['cluster'] = y_hat\n"
   ]
  },
  {
   "cell_type": "code",
   "execution_count": null,
   "metadata": {},
   "outputs": [],
   "source": [
    "# K MEANS CLUSTERING\n",
    "\n",
    "from sklearn.cluster import KMeans\n",
    "import pandas as pd\n",
    "from sklearn.preprocessing import StandardScaler\n",
    "\n",
    "# Scale the data\n",
    "scaler = StandardScaler()\n",
    "data_scaled = scaler.fit_transform(new[['Info_contact_name_changes', 'Servers_modified', 'Endpoints_added', 'Endpoints_deleted',\n",
    "           'Components_parameters_added', 'Servers_added', 'Servers_deleted', 'Paths_added', 'Paths_deleted',\n",
    "           'Components_Security_Schemes_added', 'Components_Security_Schemes_deleted', 'Tags_added', 'Tags_deleted',\n",
    "           'Components_Headers_Added', 'Components_Headers_Deleted', 'Components_Request_Bodies_Added',\n",
    "           'Components_Request_Bodies_Deleted', 'Components_Responses_Added', 'Components_Responses_Deleted',\n",
    "           'Components_Schemas_Added', 'Components_Schemas_Deleted', 'Components_Links_Added', 'Components_Links_Deleted',\n",
    "           'Info_title_changes', 'Info_description_changes', 'Info_contact_url_changes', 'Info_contact_email_changes',\n",
    "           'Info_license_name_changes', 'Info_license_url_changes', 'Info_termsOfService_changes', \n",
    "           'Components_parameters_deleted', 'Components_Security_Schemes_modified', 'Tags_modified', 'Paths_modified']])\n",
    "\n",
    "# Define the number of clusters\n",
    "k = 3\n",
    "\n",
    "# Create an instance of KMeans with the desired number of clusters\n",
    "kmeans = KMeans(n_clusters=k, n_init='auto', init='k-means++', max_iter=300, random_state=0)\n",
    "\n",
    "# Fit the data to the KMeans instance\n",
    "kmeans.fit(data_scaled)\n",
    "\n",
    "# Assign the labels to the data\n",
    "new['cluster'] = kmeans.labels_"
   ]
  },
  {
   "cell_type": "code",
   "execution_count": null,
   "metadata": {},
   "outputs": [],
   "source": [
    "new['cluster'].value_counts()"
   ]
  },
  {
   "cell_type": "code",
   "execution_count": null,
   "metadata": {},
   "outputs": [],
   "source": [
    "# Agglomerative Clustering\n",
    "\n",
    "from sklearn.cluster import AgglomerativeClustering\n",
    "import pandas as pd\n",
    "from sklearn.preprocessing import StandardScaler\n",
    "\n",
    "# Scale the data\n",
    "scaler = StandardScaler()\n",
    "data_scaled = scaler.fit_transform(new[['Info_contact_name_changes', 'Servers_modified', 'Endpoints_added', 'Endpoints_deleted',\n",
    "           'Components_parameters_added', 'Servers_added', 'Servers_deleted', 'Paths_added', 'Paths_deleted',\n",
    "           'Components_Security_Schemes_added', 'Components_Security_Schemes_deleted', 'Tags_added', 'Tags_deleted',\n",
    "           'Components_Headers_Added', 'Components_Headers_Deleted', 'Components_Request_Bodies_Added',\n",
    "           'Components_Request_Bodies_Deleted', 'Components_Responses_Added', 'Components_Responses_Deleted',\n",
    "           'Components_Schemas_Added', 'Components_Schemas_Deleted', 'Components_Links_Added', 'Components_Links_Deleted',\n",
    "           'Info_title_changes', 'Info_description_changes', 'Info_contact_url_changes', 'Info_contact_email_changes',\n",
    "           'Info_license_name_changes', 'Info_license_url_changes', 'Info_termsOfService_changes', \n",
    "           'Components_parameters_deleted', 'Components_Security_Schemes_modified', 'Tags_modified', 'Paths_modified']])\n",
    "\n",
    "# Define the Agglomerative Clustering instance\n",
    "agglo = AgglomerativeClustering(n_clusters=3, metric='cosine', linkage='complete')\n",
    "\n",
    "# Fit the data to the Agglomerative Clustering instance\n",
    "agglo.fit(data_scaled)\n",
    "\n",
    "# Assign the labels to the data\n",
    "new['agg_cluster'] = agglo.labels_\n"
   ]
  },
  {
   "cell_type": "code",
   "execution_count": null,
   "metadata": {},
   "outputs": [],
   "source": [
    "# DBSCAN Clustering\n",
    "\n",
    "from sklearn.cluster import DBSCAN\n",
    "import pandas as pd\n",
    "from sklearn.preprocessing import StandardScaler\n",
    "\n",
    "# Scale the data\n",
    "scaler = StandardScaler()\n",
    "data_scaled = scaler.fit_transform(new[['Info_contact_name_changes', 'Servers_modified', 'Endpoints_added', 'Endpoints_deleted',\n",
    "           'Components_parameters_added', 'Servers_added', 'Servers_deleted', 'Paths_added', 'Paths_deleted',\n",
    "           'Components_Security_Schemes_added', 'Components_Security_Schemes_deleted', 'Tags_added', 'Tags_deleted',\n",
    "           'Components_Headers_Added', 'Components_Headers_Deleted', 'Components_Request_Bodies_Added',\n",
    "           'Components_Request_Bodies_Deleted', 'Components_Responses_Added', 'Components_Responses_Deleted',\n",
    "           'Components_Schemas_Added', 'Components_Schemas_Deleted', 'Components_Links_Added', 'Components_Links_Deleted',\n",
    "           'Info_title_changes', 'Info_description_changes', 'Info_contact_url_changes', 'Info_contact_email_changes',\n",
    "           'Info_license_name_changes', 'Info_license_url_changes', 'Info_termsOfService_changes', \n",
    "           'Components_parameters_deleted', 'Components_Security_Schemes_modified', 'Tags_modified', 'Paths_modified']])\n",
    "\n",
    "# Define the DBSCAN instance\n",
    "dbscan = DBSCAN(eps=0.5, min_samples=5, algorithm='auto', metric='euclidean', n_jobs=-1)\n",
    "\n",
    "# Fit the data to the DBSCAN instance\n",
    "dbscan.fit(data_scaled)\n",
    "\n",
    "# Assign the labels to the data\n",
    "new['dbscan'] = dbscan.labels_\n"
   ]
  },
  {
   "cell_type": "code",
   "execution_count": null,
   "metadata": {},
   "outputs": [],
   "source": [
    "# Decision Tree Classifier for label prediction\n",
    "from sklearn.tree import DecisionTreeClassifier\n",
    "from sklearn.model_selection import train_test_split\n",
    "X = data_scaled\n",
    "y = new['label']\n",
    "\n",
    "X_train, X_test, y_train, y_test = train_test_split(X, y, test_size=0.2, random_state=42)\n",
    "\n",
    "clf = DecisionTreeClassifier()\n",
    "clf.fit(X_train, y_train)\n",
    "\n",
    "score = clf.score(X_test, y_test)\n",
    "print(\"Accuracy:\", score)\n",
    "\n",
    "new_data = scaler.transform(new[['Info_contact_name_changes', 'Servers_modified', 'Endpoints_added', 'Endpoints_deleted',\n",
    "           'Components_parameters_added', 'Servers_added', 'Servers_deleted', 'Paths_added', 'Paths_deleted',\n",
    "           'Components_Security_Schemes_added', 'Components_Security_Schemes_deleted', 'Tags_added', 'Tags_deleted',\n",
    "           'Components_Headers_Added', 'Components_Headers_Deleted', 'Components_Request_Bodies_Added',\n",
    "           'Components_Request_Bodies_Deleted', 'Components_Responses_Added', 'Components_Responses_Deleted',\n",
    "           'Components_Schemas_Added', 'Components_Schemas_Deleted', 'Components_Links_Added', 'Components_Links_Deleted',\n",
    "           'Info_title_changes', 'Info_description_changes', 'Info_contact_url_changes', 'Info_contact_email_changes',\n",
    "           'Info_license_name_changes', 'Info_license_url_changes', 'Info_termsOfService_changes', \n",
    "           'Components_parameters_deleted', 'Components_Security_Schemes_modified', 'Tags_modified', 'Paths_modified']])\n",
    "predicted_labels = clf.predict(new_data)\n",
    "\n",
    "new['predicted_label'] = predicted_labels\n",
    "\n",
    "new['predicted_label'].value_counts()"
   ]
  },
  {
   "cell_type": "code",
   "execution_count": null,
   "metadata": {},
   "outputs": [],
   "source": [
    "new['API_diff'] = new.loc[:, ['Info_contact_name_changes', 'Servers_modified', 'Endpoints_added', 'Endpoints_deleted', 'Components_parameters_added', 'Servers_added', 'Servers_deleted', 'Paths_added', 'Paths_deleted', 'Components_Security_Schemes_added', 'Components_Security_Schemes_deleted', 'Tags_added', 'Tags_deleted', 'Components_Headers_Added', 'Components_Headers_Deleted', 'Components_Request_Bodies_Added', 'Components_Request_Bodies_Deleted', 'Components_Responses_Added', 'Components_Responses_Deleted', 'Components_Schemas_Added', 'Components_Schemas_Deleted', 'Components_Links_Added', 'Components_Links_Deleted', 'Info_title_changes', 'Info_description_changes', 'Info_contact_url_changes', 'Info_contact_email_changes', 'Info_license_name_changes', 'Info_license_url_changes', 'Info_termsOfService_changes', 'Components_parameters_deleted', 'Components_Security_Schemes_modified', 'Tags_modified', 'Paths_modified']].sum(axis=1)\n"
   ]
  },
  {
   "cell_type": "code",
   "execution_count": null,
   "metadata": {},
   "outputs": [],
   "source": [
    "new[['label', 'cluster','dbscan', 'agg_cluster','predicted_label']]\n",
    "\n",
    "new['predicted_label'].groupby(new['label']).value_counts()"
   ]
  },
  {
   "cell_type": "code",
   "execution_count": null,
   "metadata": {},
   "outputs": [],
   "source": [
    "new['cluster'].groupby(new['label']).value_counts()"
   ]
  },
  {
   "cell_type": "code",
   "execution_count": null,
   "metadata": {},
   "outputs": [],
   "source": [
    "new.label=new.label.astype('category').cat.codes"
   ]
  },
  {
   "cell_type": "code",
   "execution_count": null,
   "metadata": {},
   "outputs": [],
   "source": [
    "import plotly.express as px\n",
    "\n",
    "fig = px.scatter_3d(new, x='Endpoints_deleted', y='Paths_added', z='Cosine_distance', color='cluster', opacity=0.5, width=1000, height=1000, hover_data=['label', 'api_spec_id'],symbol='label')\n",
    "\n",
    "fig.update_traces(showlegend=False)\n",
    "\n",
    "\n",
    "fig.show()"
   ]
  },
  {
   "cell_type": "code",
   "execution_count": null,
   "metadata": {},
   "outputs": [],
   "source": [
    "import matplotlib.pyplot as plt\n",
    "\n",
    "# Create a list of clustering algorithms\n",
    "algorithms = ['KMeans', 'Agglomerative', 'DBSCAN']\n",
    "\n",
    "# Create a list of the corresponding labels for each algorithm\n",
    "labels = [kmeans.labels_, agglo.labels_, dbscan.labels_]\n",
    "\n",
    "for i in range(len(algorithms)):\n",
    "    plt.figure()\n",
    "    plt.scatter(new['Paths_modified'], new['Paths_added'], c=labels[i])\n",
    "    plt.title(algorithms[i])\n",
    "\n",
    "# Display the plots\n",
    "plt.show()\n"
   ]
  },
  {
   "cell_type": "code",
   "execution_count": null,
   "metadata": {},
   "outputs": [],
   "source": [
    "fig = px.scatter_3d(new, x='Paths_modified',y='Paths_added',z='commit_date',color='cluster',hover_data=['label', 'api_spec_id'], width=900, height=800, symbol='label', opacity=0.7)\n",
    "\n",
    "fig.update_layout(template='ggplot2')\n",
    "\n",
    "\n",
    "fig.show()"
   ]
  },
  {
   "cell_type": "code",
   "execution_count": null,
   "metadata": {},
   "outputs": [],
   "source": [
    "import plotly.express as px\n",
    "\n",
    "fig = px.scatter(new, x='commit_date', y='Cosine_distance',hover_data=['label', 'api_spec_id'], width=900, height=800, color='agg_cluster', symbol='label', opacity=0.7)\n",
    "\n",
    "fig.update_traces(showlegend=False, legendgroup='label', marker=dict(size=12, line=dict(width=0.6, color='DarkSlateGrey')))\n",
    "\n",
    "fig.update_layout(template='ggplot2')\n",
    "\n",
    "fig.show()\n"
   ]
  },
  {
   "cell_type": "code",
   "execution_count": null,
   "metadata": {},
   "outputs": [],
   "source": [
    "import plotly.express as px\n",
    "\n",
    "features = [\"Paths_modified\", \"Paths_added\",\"Paths_deleted\", \"Endpoints_added\", \"Endpoints_deleted\",\"Tags_modified\"]\n",
    "\n",
    "fig = px.scatter_matrix(\n",
    "    new,\n",
    "    dimensions=features,\n",
    "    hover_data=[\"api_spec_id\", \"label\"],\n",
    "    width=1560,\n",
    "    height=1100,\n",
    "    template=\"ggplot2\",\n",
    "    opacity=0.7,\n",
    "    color_discrete_sequence=px.colors.qualitative.Alphabet,\n",
    "    color=\"label\",\n",
    ")\n",
    "fig.update_traces(diagonal_visible=False)\n",
    "fig.show()"
   ]
  },
  {
   "cell_type": "code",
   "execution_count": null,
   "metadata": {},
   "outputs": [],
   "source": [
    "import plotly.express as px\n",
    "\n",
    "features = [\"Paths_modified\", \"Paths_added\",\"Paths_deleted\", \"Endpoints_added\", \"Endpoints_deleted\",\"Tags_modified\"]\n",
    "\n",
    "fig = px.scatter_matrix(\n",
    "    new,\n",
    "    dimensions=features,\n",
    "    color=\"agg_cluster\",\n",
    "    hover_data=[\"api_spec_id\", \"label\"],\n",
    "    width=1600,\n",
    "    height=1200,\n",
    "    template=\"ggplot2\",\n",
    "    opacity=0.7\n",
    ")\n",
    "fig.update_traces(diagonal_visible=False)\n",
    "fig.show()"
   ]
  },
  {
   "cell_type": "code",
   "execution_count": null,
   "metadata": {},
   "outputs": [],
   "source": [
    "import plotly.express as px\n",
    "\n",
    "features = [\"Paths_modified\", \"Paths_added\",\"Paths_deleted\", \"Endpoints_added\", \"Endpoints_deleted\",\"Tags_modified\"]\n",
    "\n",
    "fig = px.scatter_matrix(\n",
    "    new,\n",
    "    dimensions=features,\n",
    "    color=\"cluster\",\n",
    "    hover_data=[\"api_spec_id\", \"label\"],\n",
    "    width=1600,\n",
    "    height=1200,\n",
    "    template=\"ggplot2\",\n",
    "    opacity=0.7\n",
    ")\n",
    "fig.update_traces(diagonal_visible=False)\n",
    "fig.show()"
   ]
  },
  {
   "cell_type": "code",
   "execution_count": null,
   "metadata": {},
   "outputs": [],
   "source": [
    "new['API_diff'] = new.loc[:, ['Info_contact_name_changes', 'Servers_modified', 'Endpoints_added', 'Endpoints_deleted', 'Components_parameters_added', 'Servers_added', 'Servers_deleted', 'Paths_added', 'Paths_deleted', 'Components_Security_Schemes_added', 'Components_Security_Schemes_deleted', 'Tags_added', 'Tags_deleted', 'Components_Headers_Added', 'Components_Headers_Deleted', 'Components_Request_Bodies_Added', 'Components_Request_Bodies_Deleted', 'Components_Responses_Added', 'Components_Responses_Deleted', 'Components_Schemas_Added', 'Components_Schemas_Deleted', 'Components_Links_Added', 'Components_Links_Deleted', 'Info_title_changes', 'Info_description_changes', 'Info_contact_url_changes', 'Info_contact_email_changes', 'Info_license_name_changes', 'Info_license_url_changes', 'Info_termsOfService_changes', 'Components_parameters_deleted', 'Components_Security_Schemes_modified', 'Tags_modified', 'Paths_modified']].sum(axis=1)\n"
   ]
  },
  {
   "cell_type": "code",
   "execution_count": null,
   "metadata": {},
   "outputs": [],
   "source": [
    "data2= new.query(\"api_spec_id==780\").sort_values(by='commit_date')\n",
    "data2[['api_spec_id', 'label', 'cluster', 'info_version', 'agg_cluster','dbscan']]"
   ]
  },
  {
   "cell_type": "code",
   "execution_count": null,
   "metadata": {},
   "outputs": [],
   "source": [
    "data=new.query(\"api_spec_id==88623\").sort_values(by='Commit_Date')\n",
    "data.to_csv('data.csv')"
   ]
  },
  {
   "cell_type": "code",
   "execution_count": null,
   "metadata": {},
   "outputs": [],
   "source": [
    "data=new.query(\"api_spec_id==88623\").sort_values(by='Commit_Date')\n",
    "#data['dupe'] = data.info_version.where(~data.info_version.duplicated(), '')\n",
    "#data['label'].replace({np.nan: ''}, inplace=True)\n",
    "#data['dupe1'] = data.label.where(~data.label.duplicated(), '').replace({np.nan: ''})\n",
    "\n",
    "\n",
    "fig =px.scatter(data, x='Commit_Date', y='Cosine_distance', color='cluster', width=1500, height=900, hover_data=['label', 'api_spec_id'])\n",
    "fig.add_trace(go.Scatter(mode='lines',\n",
    "                         x=data[\"Commit_Date\"],\n",
    "                         y=data[\"Cosine_distance\"],\n",
    "                         line_color='black',\n",
    "                         line_width=0.6,\n",
    "                         line_shape='hv',\n",
    "                         showlegend=False\n",
    "                       )\n",
    "             )\n",
    "\n",
    "fig.update_layout(template='ggplot2', showlegend=False)\n",
    "\n",
    "for _,row in data.iterrows():\n",
    "    fig.add_annotation(\n",
    "        go.layout.Annotation(\n",
    "            x=row[\"Commit_Date\"],\n",
    "            y=row[\"Cosine_distance\"],\n",
    "            text=row['label'],\n",
    "            showarrow=False,\n",
    "            align='center',\n",
    "            yanchor='auto',\n",
    "            yshift=14,\n",
    "            textangle=-0)\n",
    "       )\n",
    "    fig.add_annotation(\n",
    "        go.layout.Annotation(\n",
    "            x=row[\"Commit_Date\"],\n",
    "            y=row[\"Cosine_distance\"],\n",
    "            text=row['predicted_label'],\n",
    "            showarrow=False,\n",
    "            align='center',\n",
    "            yanchor='auto',\n",
    "            yshift=-10,\n",
    "            textangle=-0)\n",
    "         )\n",
    "\n",
    "fig.update_traces(marker=dict(size=8),\n",
    "                  selector=dict(mode='markers'),textposition='bottom center')\n",
    "\n",
    "fig.show()"
   ]
  },
  {
   "cell_type": "code",
   "execution_count": null,
   "metadata": {},
   "outputs": [],
   "source": [
    "data=new.query(\"api_spec_id==779\").sort_values(by='Commit_Date')\n",
    "data['dupe'] = data.info_version.where(~data.info_version.duplicated(), '')\n",
    "#data['label'].replace({np.nan: ''}, inplace=True)\n",
    "#data['dupe1'] = data.label.where(~data.label.duplicated(), '').replace({np.nan: ''})\n",
    "\n",
    "\n",
    "fig =px.scatter(data, x='Commit_Date', y='Cosine_distance', color='label', width=1500, height=900, hover_data=['label', 'api_spec_id'])\n",
    "fig.add_trace(go.Scatter(mode='lines',\n",
    "                         x=data[\"Commit_Date\"],\n",
    "                         y=data[\"Cosine_distance\"],\n",
    "                         line_color='black',\n",
    "                         line_width=0.6,\n",
    "                         line_shape='hv',\n",
    "                         showlegend=False\n",
    "                       )\n",
    "             )\n",
    "\n",
    "fig.update_layout(template='ggplot2', showlegend=False)\n",
    "\n",
    "for _,row in data.iterrows():\n",
    "    fig.add_annotation(\n",
    "        go.layout.Annotation(\n",
    "            x=row[\"Commit_Date\"],\n",
    "            y=row[\"Cosine_distance\"],\n",
    "            text=row['dupe'],\n",
    "            showarrow=False,\n",
    "            align='center',\n",
    "            yanchor='auto',\n",
    "            yshift=14,\n",
    "            textangle=-0)\n",
    "       )\n",
    "    fig.add_annotation(\n",
    "        go.layout.Annotation(\n",
    "            x=row[\"Commit_Date\"],\n",
    "            y=row[\"Cosine_distance\"],\n",
    "            text=row['predicted_label'],\n",
    "            showarrow=False,\n",
    "            align='center',\n",
    "            yanchor='auto',\n",
    "            yshift=-10,\n",
    "            textangle=-0)\n",
    "         )\n",
    "\n",
    "fig.update_traces(marker=dict(size=8),\n",
    "                  selector=dict(mode='markers'),textposition='bottom center')\n",
    "\n",
    "fig.show()"
   ]
  },
  {
   "cell_type": "code",
   "execution_count": 28,
   "metadata": {},
   "outputs": [
    {
     "name": "stderr",
     "output_type": "stream",
     "text": [
      "/var/folders/27/mp6sy3_d6_lgz19hyp_8n8z40000gn/T/ipykernel_78579/130578025.py:1: DtypeWarning: Columns (15,16,17,18,20,21,22) have mixed types. Specify dtype option on import or set low_memory=False.\n",
      "  api_specs= pd.read_csv('mongo_docs.csv', encoding='utf-8')\n"
     ]
    }
   ],
   "source": [
    "api_specs= pd.read_csv('mongo_docs.csv', encoding='utf-8')"
   ]
  },
  {
   "cell_type": "code",
   "execution_count": 29,
   "metadata": {},
   "outputs": [],
   "source": [
    "api_specs.drop (['_id','filepath', 'filename','url', 'deleted', 'created_at', 'processed_at','updated_at','one_version_location', 'multiple_version_location','path_version_change_dates','path_version_change_interval'], axis=1, inplace=True)"
   ]
  },
  {
   "cell_type": "code",
   "execution_count": 30,
   "metadata": {},
   "outputs": [
    {
     "data": {
      "text/plain": [
       "True    5355\n",
       "Name: api_spec_id, dtype: int64"
      ]
     },
     "execution_count": 30,
     "metadata": {},
     "output_type": "execute_result"
    }
   ],
   "source": [
    "new_label['api_spec_id'].isin(api_specs['id']).value_counts()"
   ]
  },
  {
   "cell_type": "code",
   "execution_count": 31,
   "metadata": {},
   "outputs": [],
   "source": [
    "final_api = new_label.merge(api_specs, left_on='api_spec_id', right_on='id', how='left')"
   ]
  },
  {
   "cell_type": "code",
   "execution_count": 33,
   "metadata": {},
   "outputs": [],
   "source": [
    "final_api.to_csv('final_api.csv', encoding='utf-8')"
   ]
  }
 ],
 "metadata": {
  "kernelspec": {
   "display_name": "Python 3.11.1 64-bit",
   "language": "python",
   "name": "python3"
  },
  "language_info": {
   "codemirror_mode": {
    "name": "ipython",
    "version": 3
   },
   "file_extension": ".py",
   "mimetype": "text/x-python",
   "name": "python",
   "nbconvert_exporter": "python",
   "pygments_lexer": "ipython3",
   "version": "3.11.1"
  },
  "orig_nbformat": 4,
  "vscode": {
   "interpreter": {
    "hash": "1a1af0ee75eeea9e2e1ee996c87e7a2b11a0bebd85af04bb136d915cefc0abce"
   }
  }
 },
 "nbformat": 4,
 "nbformat_minor": 2
}
