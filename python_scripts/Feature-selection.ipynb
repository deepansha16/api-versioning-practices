{
 "cells": [
  {
   "cell_type": "code",
   "execution_count": 1,
   "metadata": {},
   "outputs": [],
   "source": [
    "import pandas as pd\n",
    "import numpy as np"
   ]
  },
  {
   "cell_type": "code",
   "execution_count": 564,
   "metadata": {},
   "outputs": [],
   "source": [
    "df=pd.read_csv('api.csv', encoding='utf-8')"
   ]
  },
  {
   "cell_type": "code",
   "execution_count": 565,
   "metadata": {},
   "outputs": [
    {
     "name": "stderr",
     "output_type": "stream",
     "text": [
      "/var/folders/27/mp6sy3_d6_lgz19hyp_8n8z40000gn/T/ipykernel_2930/26112486.py:3: SettingWithCopyWarning:\n",
      "\n",
      "\n",
      "A value is trying to be set on a copy of a slice from a DataFrame\n",
      "\n",
      "See the caveats in the documentation: https://pandas.pydata.org/pandas-docs/stable/user_guide/indexing.html#returning-a-view-versus-a-copy\n",
      "\n"
     ]
    }
   ],
   "source": [
    "allowed_labels = ['major', 'minor', 'patch']\n",
    "labels = df[df['label'].isin(allowed_labels)]\n",
    "labels.fillna(0, inplace=True)"
   ]
  },
  {
   "cell_type": "code",
   "execution_count": 566,
   "metadata": {},
   "outputs": [
    {
     "name": "stderr",
     "output_type": "stream",
     "text": [
      "/var/folders/27/mp6sy3_d6_lgz19hyp_8n8z40000gn/T/ipykernel_2930/912750066.py:1: SettingWithCopyWarning:\n",
      "\n",
      "\n",
      "A value is trying to be set on a copy of a slice from a DataFrame\n",
      "\n",
      "See the caveats in the documentation: https://pandas.pydata.org/pandas-docs/stable/user_guide/indexing.html#returning-a-view-versus-a-copy\n",
      "\n"
     ]
    }
   ],
   "source": [
    "labels.drop(['commit_date','info_version','api_spec_id','id'], axis=1, inplace=True)"
   ]
  },
  {
   "cell_type": "markdown",
   "metadata": {},
   "source": [
    "##### FEATURE SELECTION\n"
   ]
  },
  {
   "cell_type": "code",
   "execution_count": 8,
   "metadata": {},
   "outputs": [],
   "source": [
    "import numpy as np\n",
    "import pandas as pd\n",
    "import seaborn as sns"
   ]
  },
  {
   "cell_type": "code",
   "execution_count": 567,
   "metadata": {},
   "outputs": [
    {
     "name": "stderr",
     "output_type": "stream",
     "text": [
      "/var/folders/27/mp6sy3_d6_lgz19hyp_8n8z40000gn/T/ipykernel_2930/3661850546.py:5: SettingWithCopyWarning:\n",
      "\n",
      "\n",
      "A value is trying to be set on a copy of a slice from a DataFrame.\n",
      "Try using .loc[row_indexer,col_indexer] = value instead\n",
      "\n",
      "See the caveats in the documentation: https://pandas.pydata.org/pandas-docs/stable/user_guide/indexing.html#returning-a-view-versus-a-copy\n",
      "\n"
     ]
    }
   ],
   "source": [
    "# define a dictionary that maps labels to numbers\n",
    "label_to_number = {'major': 0, 'minor': 1, 'patch': 2}\n",
    "\n",
    "# use the map() method to apply the mapping to the label column\n",
    "labels['label'] = labels['label'].map(label_to_number)"
   ]
  },
  {
   "cell_type": "code",
   "execution_count": 39,
   "metadata": {},
   "outputs": [
    {
     "name": "stdout",
     "output_type": "stream",
     "text": [
      "DecisionTreeRegressor: 0.07658582911947909\n",
      "RandomForestRegressor: 0.12617137041583337\n",
      "SVR: -0.063143535266873\n",
      "GradientBoostingClassifier: 0.7142857142857142\n",
      "RandomForestClassifier: 0.7193277310924369\n",
      "LogisticRegression: 0.7027077497665732\n",
      "KNeighborsClassifier: 0.6840336134453782\n",
      "GaussianNB: 0.6916900093370681\n",
      "SVC: 0.7023342670401493\n",
      "LinearDiscriminantAnalysis: 0.7010270774976657\n",
      "ExtraTreesClassifier: 0.7172735760971054\n",
      "XGBClassifier: 0.7161531279178337\n"
     ]
    }
   ],
   "source": [
    "from sklearn.tree import DecisionTreeRegressor\n",
    "from sklearn.ensemble import RandomForestRegressor\n",
    "from sklearn.svm import SVR\n",
    "from sklearn.model_selection import cross_val_score, KFold\n",
    "import numpy as np\n",
    "from sklearn.model_selection import train_test_split\n",
    "from sklearn.ensemble import GradientBoostingClassifier\n",
    "from sklearn.ensemble import RandomForestClassifier\n",
    "from sklearn.linear_model import LogisticRegression\n",
    "from sklearn.neighbors import KNeighborsClassifier\n",
    "from sklearn.naive_bayes import GaussianNB\n",
    "from sklearn.svm import SVC\n",
    "from sklearn.discriminant_analysis import LinearDiscriminantAnalysis\n",
    "from sklearn.ensemble import ExtraTreesClassifier\n",
    "from xgboost import XGBClassifier\n",
    "\n",
    "\n",
    "\n",
    "X = labels.drop(['label','externalDocs.added','externalDocs.deleted'], axis=1)\n",
    "y = labels['label'] # Target variable\n",
    "\n",
    "# Split data into training and testing sets\n",
    "X_train, X_test, y_train, y_test = train_test_split(X, y, test_size=0.2, random_state=42)\n",
    "\n",
    "# Define candidate estimators\n",
    "estimators = [\n",
    "    DecisionTreeRegressor(),\n",
    "    RandomForestRegressor(),\n",
    "    SVR(),\n",
    "    GradientBoostingClassifier(),\n",
    "    RandomForestClassifier(),\n",
    "    LogisticRegression(max_iter=1000),\n",
    "    KNeighborsClassifier(),\n",
    "    GaussianNB(),\n",
    "    SVC(),\n",
    "    LinearDiscriminantAnalysis(),\n",
    "    ExtraTreesClassifier(),\n",
    "    XGBClassifier()\n",
    "\n",
    "]\n",
    "\n",
    "# Perform k-fold cross-validation on each estimator and compute average score\n",
    "cv = KFold(n_splits=5, shuffle=True, random_state=42)\n",
    "scores = []\n",
    "for estimator in estimators:\n",
    "    scores = cross_val_score(estimator, X, y, cv=cv)\n",
    "    print(f\"{type(estimator).__name__}: {scores.mean()}\")"
   ]
  },
  {
   "cell_type": "code",
   "execution_count": 40,
   "metadata": {},
   "outputs": [
    {
     "name": "stdout",
     "output_type": "stream",
     "text": [
      "Selected features: ['Endpoints_added', 'Servers_added', 'Paths_added', 'Paths_deleted', 'Tags_deleted', 'Components_Schemas_Added', 'Info_description_changes', 'Tags_modified', 'Paths_modified', 'Endpoints_modified']\n"
     ]
    }
   ],
   "source": [
    "import pandas as pd\n",
    "from sklearn.feature_selection import RFE\n",
    "from sklearn.ensemble import GradientBoostingClassifier\n",
    "from sklearn.ensemble import RandomForestClassifier\n",
    "from sklearn.linear_model import LogisticRegression\n",
    "\n",
    "\n",
    "\n",
    "# Load labels data with major minor and patch only\n",
    "\n",
    "X = labels.drop(['label'], axis=1)\n",
    "y = labels['label'] # Target variable\n",
    "\n",
    "# Define the estimator\n",
    "# linear regression - gave not so good results\n",
    "# gradient and random forest gave similar results\n",
    "\n",
    "\n",
    "estimator = GradientBoostingClassifier(n_estimators=100, max_depth=5)\n",
    "\n",
    "#estimator = RandomForestClassifier(n_estimators=100, max_depth=5)\n",
    "\n",
    "\n",
    "# Create RFE object\n",
    "rfe = RFE(estimator, n_features_to_select=10)\n",
    "\n",
    "# Fit RFE object to the data\n",
    "rfe.fit(X, y)\n",
    "\n",
    "# Print selected features and their ranking\n",
    "print('Selected features: %s' % list(X.columns[rfe.support_]))\n",
    "\n"
   ]
  },
  {
   "cell_type": "code",
   "execution_count": 562,
   "metadata": {},
   "outputs": [
    {
     "name": "stdout",
     "output_type": "stream",
     "text": [
      "Selected features: ['Endpoints_added', 'Servers_added', 'Tags_deleted', 'Components_Schemas_Added', 'Info_termsOfService_changes', 'Tags_modified', 'Paths_modified', 'Security_modified', 'Security_deleted', 'Endpoints_modified']\n"
     ]
    }
   ],
   "source": [
    "import pandas as pd\n",
    "from sklearn.feature_selection import RFE\n",
    "from sklearn.ensemble import GradientBoostingClassifier\n",
    "from sklearn.ensemble import RandomForestClassifier\n",
    "from sklearn.linear_model import LogisticRegression\n",
    "\n",
    "\n",
    "\n",
    "# Load labels data with major minor and patch only\n",
    "\n",
    "X = labels.drop(['label'], axis=1)\n",
    "y = labels['label'] # Target variable\n",
    "\n",
    "# Define the estimator\n",
    "# linear regression - gave not so good results\n",
    "# gradient and random forest gave similar results\n",
    "\n",
    "\n",
    "estimator = XGBClassifier(n_estimators=100, max_depth=5)\n",
    "\n",
    "#estimator = RandomForestClassifier(n_estimators=100, max_depth=5)\n",
    "\n",
    "\n",
    "# Create RFE object\n",
    "rfe = RFE(estimator, n_features_to_select=10)\n",
    "\n",
    "# Fit RFE object to the data\n",
    "rfe.fit(X, y)\n",
    "\n",
    "# Print selected features and their ranking\n",
    "print('Selected features: %s' % list(X.columns[rfe.support_]))\n",
    "\n"
   ]
  },
  {
   "cell_type": "code",
   "execution_count": 569,
   "metadata": {},
   "outputs": [
    {
     "name": "stdout",
     "output_type": "stream",
     "text": [
      "Selected features: ['Endpoints_added', 'Endpoints_deleted', 'Components_parameters_added', 'Paths_added', 'Components_Schemas_Added', 'Info_description_changes', 'Info_termsOfService_changes', 'Tags_modified', 'Paths_modified', 'Endpoints_modified']\n"
     ]
    }
   ],
   "source": [
    "import pandas as pd\n",
    "from sklearn.feature_selection import RFE\n",
    "from sklearn.ensemble import GradientBoostingClassifier\n",
    "from sklearn.ensemble import RandomForestClassifier\n",
    "from sklearn.linear_model import LogisticRegression\n",
    "from sklearn.ensemble import ExtraTreesClassifier\n",
    "\n",
    "\n",
    "# Load labels data with major minor and patch only\n",
    "\n",
    "X = labels.drop(['label'], axis=1)\n",
    "y = labels['label'] # Target variable\n",
    "\n",
    "# Define the estimator\n",
    "# linear regression - gave not so good results\n",
    "# gradient and random forest gave similar results\n",
    "\n",
    "\n",
    "estimator = ExtraTreesClassifier(n_estimators=100, max_depth=5)\n",
    "\n",
    "#estimator = RandomForestClassifier(n_estimators=100, max_depth=5)\n",
    "\n",
    "\n",
    "# Create RFE object\n",
    "rfe = RFE(estimator, n_features_to_select=10)\n",
    "\n",
    "# Fit RFE object to the data\n",
    "rfe.fit(X, y)\n",
    "\n",
    "# Print selected features and their ranking\n",
    "print('Selected features: %s' % list(X.columns[rfe.support_]))\n",
    "\n"
   ]
  },
  {
   "cell_type": "code",
   "execution_count": 74,
   "metadata": {},
   "outputs": [
    {
     "name": "stdout",
     "output_type": "stream",
     "text": [
      "                                  Specs        Score\n",
      "24             Info_description_changes  7352.164395\n",
      "19             Components_Schemas_Added  2526.460369\n",
      "32                        Tags_modified  1812.692453\n",
      "37                   Endpoints_modified  1626.523358\n",
      "33                       Paths_modified  1192.193529\n",
      "2                       Endpoints_added   541.848477\n",
      "7                           Paths_added   386.907301\n",
      "3                     Endpoints_deleted   165.410785\n",
      "8                         Paths_deleted   118.664282\n",
      "4           Components_parameters_added   107.402977\n",
      "17           Components_Responses_Added    80.205270\n",
      "20           Components_Schemas_Deleted    40.329016\n",
      "10  Components_Security_Schemes_deleted    35.713568\n",
      "16    Components_Request_Bodies_Deleted    35.692352\n",
      "36                     Security_deleted    26.464768\n"
     ]
    }
   ],
   "source": [
    "## Feature Importance with SelectKBest\n",
    "\n",
    "import pandas as pd\n",
    "import numpy as np\n",
    "from sklearn.feature_selection import SelectKBest\n",
    "from sklearn.feature_selection import chi2\n",
    "\n",
    "\n",
    "X = labels.drop(['label','commit_date','info_version','id','api_spec_id','externalDocs.added','externalDocs.deleted'], axis=1)\n",
    "y = labels['label'] # Target variable\n",
    "\n",
    "\n",
    "#apply SelectKBest class to extract top 10 best features\n",
    "bestfeatures = SelectKBest(score_func=chi2, k=15)\n",
    "fit = bestfeatures.fit(X,y)\n",
    "dfscores = pd.DataFrame(fit.scores_)\n",
    "dfcolumns = pd.DataFrame(X.columns)\n",
    "\n",
    "#concat two dataframes for better visualization \n",
    "featureScores = pd.concat([dfcolumns,dfscores],axis=1)\n",
    "featureScores.columns = ['Specs','Score']  #naming the dataframe columns\n",
    "print(featureScores.nlargest(15,'Score'))  #print 10 best features"
   ]
  },
  {
   "cell_type": "code",
   "execution_count": 571,
   "metadata": {},
   "outputs": [
    {
     "data": {
      "text/plain": [
       "array([0.00347571, 0.        , 0.01546953, 0.01213979, 0.00481043,\n",
       "       0.00220943, 0.00530781, 0.01207672, 0.01126293, 0.        ,\n",
       "       0.00382588, 0.        , 0.        , 0.        , 0.00483186,\n",
       "       0.00079809, 0.02069783, 0.00373418, 0.00104031, 0.01546619,\n",
       "       0.        , 0.        , 0.        , 0.00532827, 0.04411961,\n",
       "       0.        , 0.00657026, 0.00171343, 0.01449384, 0.03516537,\n",
       "       0.0142981 , 0.0063067 , 0.03806506, 0.04461522, 0.00689244,\n",
       "       0.        , 0.        , 0.05540557])"
      ]
     },
     "execution_count": 571,
     "metadata": {},
     "output_type": "execute_result"
    }
   ],
   "source": [
    "from sklearn.feature_selection import mutual_info_classif\n",
    "\n",
    "\n",
    "X = labels.drop(['label','externalDocs.added','externalDocs.deleted'], axis=1)\n",
    "y = labels['label'] # Target variable\n",
    "\n",
    "X_train,X_test,y_train,y_test=train_test_split(X,y,test_size=0.2,random_state=42)\n",
    "\n",
    "mutual_info = mutual_info_classif(X_train, y_train)\n",
    "mutual_info"
   ]
  },
  {
   "cell_type": "code",
   "execution_count": 572,
   "metadata": {},
   "outputs": [
    {
     "data": {
      "text/plain": [
       "Endpoints_modified                      0.055406\n",
       "Paths_modified                          0.044615\n",
       "Info_description_changes                0.044120\n",
       "Tags_modified                           0.038065\n",
       "Info_termsOfService_changes             0.035165\n",
       "Components_Request_Bodies_Deleted       0.020698\n",
       "Endpoints_added                         0.015470\n",
       "Components_Schemas_Added                0.015466\n",
       "Info_license_url_changes                0.014494\n",
       "Components_parameters_deleted           0.014298\n",
       "Endpoints_deleted                       0.012140\n",
       "Paths_added                             0.012077\n",
       "Paths_deleted                           0.011263\n",
       "Security_modified                       0.006892\n",
       "Info_contact_email_changes              0.006570\n",
       "Components_Security_Schemes_modified    0.006307\n",
       "Info_title_changes                      0.005328\n",
       "Servers_deleted                         0.005308\n",
       "Components_Headers_Deleted              0.004832\n",
       "Components_parameters_added             0.004810\n",
       "Components_Security_Schemes_deleted     0.003826\n",
       "Components_Responses_Added              0.003734\n",
       "Info_contact_name_changes               0.003476\n",
       "Servers_added                           0.002209\n",
       "Info_license_name_changes               0.001713\n",
       "Components_Responses_Deleted            0.001040\n",
       "Components_Request_Bodies_Added         0.000798\n",
       "Components_Security_Schemes_added       0.000000\n",
       "Components_Links_Deleted                0.000000\n",
       "Info_contact_url_changes                0.000000\n",
       "Components_Links_Added                  0.000000\n",
       "Components_Headers_Added                0.000000\n",
       "Tags_deleted                            0.000000\n",
       "Components_Schemas_Deleted              0.000000\n",
       "Tags_added                              0.000000\n",
       "Servers_modified                        0.000000\n",
       "Security_added                          0.000000\n",
       "Security_deleted                        0.000000\n",
       "dtype: float64"
      ]
     },
     "execution_count": 572,
     "metadata": {},
     "output_type": "execute_result"
    }
   ],
   "source": [
    "mutual_info = pd.Series(mutual_info)\n",
    "mutual_info.index = X_train.columns\n",
    "mutual_info.sort_values(ascending=False)"
   ]
  },
  {
   "cell_type": "code",
   "execution_count": 573,
   "metadata": {},
   "outputs": [
    {
     "data": {
      "text/plain": [
       "<AxesSubplot: >"
      ]
     },
     "execution_count": 573,
     "metadata": {},
     "output_type": "execute_result"
    },
    {
     "data": {
      "image/png": "[encoded data removed]",
      "text/plain": [
       "<Figure size 2000x800 with 1 Axes>"
      ]
     },
     "metadata": {},
     "output_type": "display_data"
    }
   ],
   "source": [
    "mutual_info.sort_values(ascending=False).plot.bar(figsize=(20, 8))"
   ]
  },
  {
   "cell_type": "code",
   "execution_count": 575,
   "metadata": {},
   "outputs": [
    {
     "data": {
      "text/plain": [
       "Index(['Info_contact_name_changes', 'Endpoints_added', 'Endpoints_deleted',\n",
       "       'Paths_added', 'Components_Schemas_Added', 'Info_description_changes',\n",
       "       'Info_termsOfService_changes', 'Tags_modified', 'Paths_modified',\n",
       "       'Endpoints_modified'],\n",
       "      dtype='object')"
      ]
     },
     "execution_count": 575,
     "metadata": {},
     "output_type": "execute_result"
    }
   ],
   "source": [
    "from sklearn.feature_selection import SelectKBest\n",
    "sel_five_cols = SelectKBest(mutual_info_classif, k=10)\n",
    "sel_five_cols.fit(X_train, y_train)\n",
    "X_train.columns[sel_five_cols.get_support()]"
   ]
  },
  {
   "cell_type": "code",
   "execution_count": 77,
   "metadata": {},
   "outputs": [
    {
     "data": {
      "text/plain": [
       "const                                   3.126758e-08\n",
       "Info_contact_name_changes               8.526256e-01\n",
       "Servers_modified                        1.990954e-01\n",
       "Endpoints_added                         3.389723e-02\n",
       "Endpoints_deleted                       6.442135e-01\n",
       "Components_parameters_added             1.214489e-01\n",
       "Servers_added                           6.703685e-01\n",
       "Servers_deleted                         5.840203e-01\n",
       "Paths_added                             5.449895e-01\n",
       "Paths_deleted                           6.195662e-01\n",
       "Components_Security_Schemes_added       2.449627e-01\n",
       "Components_Security_Schemes_deleted     5.513077e-04\n",
       "Tags_added                              1.730276e-02\n",
       "Tags_deleted                            1.338196e-02\n",
       "Components_Headers_Added                8.630832e-01\n",
       "Components_Headers_Deleted              3.533390e-01\n",
       "Components_Request_Bodies_Added         1.006693e-01\n",
       "Components_Request_Bodies_Deleted       1.120388e-02\n",
       "Components_Responses_Added              3.530779e-01\n",
       "Components_Responses_Deleted            6.290807e-01\n",
       "Components_Schemas_Added                1.832928e-02\n",
       "Components_Schemas_Deleted              1.897212e-01\n",
       "Components_Links_Added                  2.059268e-03\n",
       "Components_Links_Deleted                1.579038e-01\n",
       "Info_title_changes                      3.217782e-01\n",
       "Info_description_changes                7.434478e-03\n",
       "Info_contact_url_changes                3.917514e-02\n",
       "Info_contact_email_changes              5.538285e-01\n",
       "Info_license_name_changes               3.127223e-01\n",
       "Info_license_url_changes                7.373162e-01\n",
       "Info_termsOfService_changes             2.293032e-07\n",
       "Components_parameters_deleted           8.260506e-01\n",
       "Components_Security_Schemes_modified    2.052905e-02\n",
       "Tags_modified                           9.509584e-05\n",
       "Paths_modified                          8.787139e-04\n",
       "Security_modified                       3.632762e-02\n",
       "Security_added                          5.733076e-01\n",
       "Security_deleted                        7.461120e-04\n",
       "Endpoints_modified                      3.183784e-03\n",
       "dtype: float64"
      ]
     },
     "execution_count": 77,
     "metadata": {},
     "output_type": "execute_result"
    }
   ],
   "source": [
    "import statsmodels.api as sm\n",
    "\n",
    "X = labels.drop(['label','commit_date','info_version','id','api_spec_id','externalDocs.added','externalDocs.deleted'], axis=1)\n",
    "y = labels['label'] # Target variable\n",
    "\n",
    "X_new = sm.add_constant(X)\n",
    "model = sm.OLS(y, X_new).fit()\n",
    "model.pvalues\n",
    "\n",
    "selected_features = list(X.columns)\n",
    "pmax = 1\n",
    "while (len(selected_features)>0):\n",
    "    p= []\n",
    "    X_new = X[selected_features]\n",
    "    X_new = sm.add_constant(X_new)\n",
    "    model = sm.OLS(y,X_new).fit()\n",
    "    p = pd.Series(model.pvalues.values[1:],index = selected_features)      \n",
    "    pmax = max(p)\n",
    "    feature_pmax = p.idxmax()\n",
    "    if(pmax>0.05):\n",
    "        selected_features.remove(feature_pmax)\n",
    "    else:\n",
    "        break\n",
    "selected_features"
   ]
  },
  {
   "cell_type": "code",
   "execution_count": 78,
   "metadata": {},
   "outputs": [
    {
     "data": {
      "text/plain": [
       "['Endpoints_added',\n",
       " 'Components_Security_Schemes_deleted',\n",
       " 'Tags_deleted',\n",
       " 'Components_Request_Bodies_Added',\n",
       " 'Components_Request_Bodies_Deleted',\n",
       " 'Components_Schemas_Added',\n",
       " 'Info_description_changes',\n",
       " 'Info_termsOfService_changes',\n",
       " 'Components_Security_Schemes_modified',\n",
       " 'Tags_modified',\n",
       " 'Paths_modified',\n",
       " 'Security_modified',\n",
       " 'Security_deleted',\n",
       " 'Endpoints_modified']"
      ]
     },
     "execution_count": 78,
     "metadata": {},
     "output_type": "execute_result"
    }
   ],
   "source": [
    "selected_features = list(X.columns)\n",
    "pmax = 1\n",
    "while (len(selected_features)>0):\n",
    "    p= []\n",
    "    X_new = X[selected_features]\n",
    "    X_new = sm.add_constant(X_new)\n",
    "    model = sm.OLS(y,X_new).fit()\n",
    "    p = pd.Series(model.pvalues.values[1:],index = selected_features)      \n",
    "    pmax = max(p)\n",
    "    feature_pmax = p.idxmax()\n",
    "    if(pmax>0.05):\n",
    "        selected_features.remove(feature_pmax)\n",
    "    else:\n",
    "        break\n",
    "selected_features"
   ]
  },
  {
   "cell_type": "markdown",
   "metadata": {},
   "source": [
    "#### PCA\n"
   ]
  },
  {
   "cell_type": "code",
   "execution_count": 456,
   "metadata": {},
   "outputs": [],
   "source": [
    "df['commit_date'] = pd.to_datetime(df['commit_date'])\n",
    "\n",
    "df_2014 = df.loc[df['commit_date'].dt.year == 2014]\n",
    "df_2015 = df.loc[df['commit_date'].dt.year == 2015]\n",
    "df_2016 = df.loc[df['commit_date'].dt.year == 2016]\n",
    "df_2017 = df.loc[df['commit_date'].dt.year == 2017]\n",
    "df_2018 = df.loc[df['commit_date'].dt.year == 2018]\n",
    "df_2019 = df.loc[df['commit_date'].dt.year == 2019]\n",
    "df_2020 = df.loc[df['commit_date'].dt.year == 2020]\n",
    "df_2021 = df.loc[df['commit_date'].dt.year == 2021]\n",
    "df_2022 = df.loc[df['commit_date'].dt.year == 2022]"
   ]
  },
  {
   "cell_type": "code",
   "execution_count": 600,
   "metadata": {},
   "outputs": [
    {
     "data": {
      "text/plain": [
       "count      44.000000\n",
       "mean      195.204545\n",
       "std       866.627266\n",
       "min         1.000000\n",
       "25%         2.750000\n",
       "50%        12.000000\n",
       "75%        50.250000\n",
       "max      5712.000000\n",
       "Name: Endpoints_modified, dtype: float64"
      ]
     },
     "execution_count": 600,
     "metadata": {},
     "output_type": "execute_result"
    }
   ],
   "source": [
    "df_2017['Endpoints_modified'].value_counts().describe()"
   ]
  },
  {
   "cell_type": "code",
   "execution_count": 455,
   "metadata": {},
   "outputs": [
    {
     "name": "stderr",
     "output_type": "stream",
     "text": [
      "/var/folders/27/mp6sy3_d6_lgz19hyp_8n8z40000gn/T/ipykernel_2930/882484985.py:8: SettingWithCopyWarning:\n",
      "\n",
      "\n",
      "A value is trying to be set on a copy of a slice from a DataFrame.\n",
      "Try using .loc[row_indexer,col_indexer] = value instead\n",
      "\n",
      "See the caveats in the documentation: https://pandas.pydata.org/pandas-docs/stable/user_guide/indexing.html#returning-a-view-versus-a-copy\n",
      "\n"
     ]
    }
   ],
   "source": [
    "import numpy as np\n",
    "from sklearn.metrics.pairwise import cosine_similarity\n",
    "\n",
    "# Feature columns to use for cosine similarity calculation\n",
    "cols_to_use = labels.loc[:, \"Info_contact_name_changes\":\"Endpoints_modified\"].columns\n",
    "\n",
    "# New column for cosine similarity\n",
    "labels['cosine_sim'] = np.nan\n",
    "\n",
    "# Looping through each api_spec_id\n",
    "for api_spec_id in labels['api_spec_id'].unique():\n",
    "    # Get the rows for the current api_spec_id\n",
    "    api_rows = labels[labels['api_spec_id'] == api_spec_id].sort_values(by='commit_date')\n",
    "\n",
    "    # Set the cosine similarity of the first row to NaN, since there is no previous row to compare to\n",
    "    labels.loc[api_rows.index[0], 'cosine_sim'] = np.nan\n",
    "    \n",
    "    # Calculate the cosine similarity for consecutive rows\n",
    "    for i in range(1, len(api_rows)):\n",
    "        # Get the previous and current row\n",
    "        prev_row = api_rows.iloc[i-1][cols_to_use]\n",
    "        curr_row = api_rows.iloc[i][cols_to_use]\n",
    "        \n",
    "        # Calculate the cosine similarity and store it in the 'cosine_sim' column\n",
    "        cosine_sim = cosine_similarity([prev_row], [curr_row])[0][0]\n",
    "        labels.loc[api_rows.index[i], 'cosine_sim'] = cosine_sim"
   ]
  },
  {
   "cell_type": "code",
   "execution_count": 184,
   "metadata": {},
   "outputs": [
    {
     "name": "stderr",
     "output_type": "stream",
     "text": [
      "/var/folders/27/mp6sy3_d6_lgz19hyp_8n8z40000gn/T/ipykernel_2930/397851503.py:5: SettingWithCopyWarning:\n",
      "\n",
      "\n",
      "A value is trying to be set on a copy of a slice from a DataFrame.\n",
      "Try using .loc[row_indexer,col_indexer] = value instead\n",
      "\n",
      "See the caveats in the documentation: https://pandas.pydata.org/pandas-docs/stable/user_guide/indexing.html#returning-a-view-versus-a-copy\n",
      "\n"
     ]
    }
   ],
   "source": [
    "# for practice dataframe\n",
    "avg_cosine_sim = labels.groupby('api_spec_id')['cosine_sim'].mean()\n",
    "\n",
    "# add average cosine distance to the dataframe\n",
    "labels['avg_cosine_sim'] = labels['api_spec_id'].map(avg_cosine_sim)\n"
   ]
  },
  {
   "cell_type": "markdown",
   "metadata": {},
   "source": [
    "fig=px.histogram(labels, x=\"cosine_sim\", color=\"label\", marginal=\"box\", hover_data=labels.columns)\n",
    "fig.show()\n",
    "labels"
   ]
  },
  {
   "cell_type": "markdown",
   "metadata": {},
   "source": [
    "data2= labels.query(\"api_spec_id==1074\").sort_values(by='commit_date')\n",
    "data2[['api_spec_id','cosine_sim', 'avg_cosine_sim']]"
   ]
  },
  {
   "cell_type": "code",
   "execution_count": 163,
   "metadata": {},
   "outputs": [],
   "source": [
    "labels['Year']= pd.to_datetime(labels['commit_date']).dt.year"
   ]
  },
  {
   "cell_type": "code",
   "execution_count": 173,
   "metadata": {},
   "outputs": [],
   "source": [
    "# Get columns to use\n",
    "cols_to_use = labels.loc[:, \"Info_contact_name_changes\":\"Endpoints_modified\"].columns\n",
    "\n",
    "# Find columns with all zero values\n",
    "all_zero_cols = labels[cols_to_use].columns[(labels[cols_to_use] == 0).all()]\n",
    "\n",
    "# Drop columns with all zero values\n",
    "labels.drop(columns=all_zero_cols, inplace=True)\n"
   ]
  },
  {
   "cell_type": "code",
   "execution_count": 187,
   "metadata": {},
   "outputs": [
    {
     "name": "stderr",
     "output_type": "stream",
     "text": [
      "/var/folders/27/mp6sy3_d6_lgz19hyp_8n8z40000gn/T/ipykernel_2930/763706223.py:1: SettingWithCopyWarning:\n",
      "\n",
      "\n",
      "A value is trying to be set on a copy of a slice from a DataFrame\n",
      "\n",
      "See the caveats in the documentation: https://pandas.pydata.org/pandas-docs/stable/user_guide/indexing.html#returning-a-view-versus-a-copy\n",
      "\n"
     ]
    }
   ],
   "source": [
    "labels.drop(columns=['predicted_labels'], inplace=True)"
   ]
  },
  {
   "cell_type": "code",
   "execution_count": 190,
   "metadata": {},
   "outputs": [
    {
     "name": "stderr",
     "output_type": "stream",
     "text": [
      "/var/folders/27/mp6sy3_d6_lgz19hyp_8n8z40000gn/T/ipykernel_2930/3091135927.py:1: SettingWithCopyWarning:\n",
      "\n",
      "\n",
      "A value is trying to be set on a copy of a slice from a DataFrame\n",
      "\n",
      "See the caveats in the documentation: https://pandas.pydata.org/pandas-docs/stable/user_guide/indexing.html#returning-a-view-versus-a-copy\n",
      "\n"
     ]
    }
   ],
   "source": [
    "labels.fillna(0, inplace=True)"
   ]
  },
  {
   "cell_type": "code",
   "execution_count": 553,
   "metadata": {},
   "outputs": [
    {
     "name": "stdout",
     "output_type": "stream",
     "text": [
      "Accuracy:  0.634547152194211\n",
      "Precision:  0.5636597996883228\n",
      "Recall:  0.634547152194211\n",
      "F1 score:  0.579644524368686\n",
      "              precision    recall  f1-score   support\n",
      "\n",
      "       major       0.08      0.06      0.07       561\n",
      "       minor       0.33      0.11      0.16      1165\n",
      "       patch       0.71      0.89      0.79      3629\n",
      "\n",
      "    accuracy                           0.63      5355\n",
      "   macro avg       0.37      0.35      0.34      5355\n",
      "weighted avg       0.56      0.63      0.58      5355\n",
      "\n"
     ]
    }
   ],
   "source": [
    "from sklearn.model_selection import cross_val_score\n",
    "from sklearn.model_selection import RepeatedStratifiedKFold\n",
    "from sklearn.model_selection import train_test_split\n",
    "from sklearn.metrics import accuracy_score\n",
    "from sklearn.metrics import precision_score\n",
    "from sklearn.metrics import recall_score\n",
    "from sklearn.metrics import f1_score\n",
    "from sklearn.metrics import classification_report\n",
    "from sklearn.mixture import GaussianMixture\n",
    "from sklearn.preprocessing import StandardScaler\n",
    "\n",
    "\n",
    "scaler = StandardScaler()\n",
    "\n",
    "# Get columns to use\n",
    "cols_to_use = labels[['Endpoints_added', 'Servers_added', 'Paths_added', 'Paths_deleted', 'Tags_deleted', 'Components_Schemas_Added', 'Info_description_changes', 'Tags_modified', 'Paths_modified', 'Endpoints_modified']].columns\n",
    "\n",
    "data_scaled = scaler.fit_transform(labels[cols_to_use])\n",
    "\n",
    "# Define the model\n",
    "model = GaussianMixture(n_components=3, random_state=32, max_iter=200, init_params='random', covariance_type='full', n_init=1, warm_start=True)\n",
    "\n",
    "# Fit the model\n",
    "model.fit(data_scaled)\n",
    "\n",
    "# Get the cluster labels\n",
    "cluster_labels = model.predict(data_scaled)\n",
    "\n",
    "# Map the cluster labels to major, minor, and patch labels\n",
    "label_map = {0: \"major\", 1: \"minor\", 2: \"patch\"}\n",
    "predicted_labels = [label_map[label] for label in cluster_labels]\n",
    "\n",
    "# Add the major, minor, and patch labels to the dataframe\n",
    "labels[\"predicted_labels\"] = predicted_labels\n",
    "\n",
    "# Accuracy\n",
    "print(\"Accuracy: \", accuracy_score(labels[\"label\"], labels[\"predicted_labels\"]))\n",
    "# Precision\n",
    "print(\"Precision: \", precision_score(labels[\"label\"], labels[\"predicted_labels\"], average=\"weighted\"))\n",
    "# Recall\n",
    "print(\"Recall: \", recall_score(labels[\"label\"], labels[\"predicted_labels\"], average=\"weighted\"))\n",
    "# F1 score\n",
    "print(\"F1 score: \", f1_score(labels[\"label\"], labels[\"predicted_labels\"], average=\"weighted\"))\n",
    "\n",
    "# Classification report\n",
    "print(classification_report(labels[\"label\"], labels[\"predicted_labels\"]))\n"
   ]
  },
  {
   "cell_type": "code",
   "execution_count": 465,
   "metadata": {},
   "outputs": [
    {
     "name": "stderr",
     "output_type": "stream",
     "text": [
      "/var/folders/27/mp6sy3_d6_lgz19hyp_8n8z40000gn/T/ipykernel_2930/3091135927.py:1: SettingWithCopyWarning:\n",
      "\n",
      "\n",
      "A value is trying to be set on a copy of a slice from a DataFrame\n",
      "\n",
      "See the caveats in the documentation: https://pandas.pydata.org/pandas-docs/stable/user_guide/indexing.html#returning-a-view-versus-a-copy\n",
      "\n"
     ]
    }
   ],
   "source": [
    "labels.fillna(0, inplace=True)"
   ]
  },
  {
   "cell_type": "code",
   "execution_count": 577,
   "metadata": {},
   "outputs": [
    {
     "name": "stdout",
     "output_type": "stream",
     "text": [
      "Accuracy:  0.20989729225023343\n",
      "Precision:  0.5713215381562639\n",
      "Recall:  0.20989729225023343\n",
      "F1 score:  0.2117068941516896\n",
      "              precision    recall  f1-score   support\n",
      "\n",
      "       major       0.12      0.91      0.21       561\n",
      "       minor       0.42      0.06      0.11      1165\n",
      "       patch       0.69      0.15      0.25      3629\n",
      "\n",
      "    accuracy                           0.21      5355\n",
      "   macro avg       0.41      0.37      0.19      5355\n",
      "weighted avg       0.57      0.21      0.21      5355\n",
      "\n"
     ]
    }
   ],
   "source": [
    "from sklearn.cluster import SpectralClustering\n",
    "\n",
    "labels = pd.read_csv('labels.csv')\n",
    "labels.fillna(0, inplace=True)\n",
    "\n",
    "# Get columns to use\n",
    "cols_to_use = labels[['Endpoints_added', 'Servers_added', 'Paths_added', 'Paths_deleted', 'Tags_deleted', 'Components_Schemas_Added', 'Info_description_changes', 'Tags_modified', 'Paths_modified', 'Endpoints_modified']].columns\n",
    "\n",
    "data = labels[cols_to_use]\n",
    "\n",
    "# Define the model and fit the data\n",
    "model = SpectralClustering(n_clusters=3, affinity='cosine',random_state=32)\n",
    "model.fit(data)\n",
    "\n",
    "# Get the cluster labels\n",
    "cluster_labels = model.labels_\n",
    "\n",
    "# Map the cluster labels to major, minor, and patch labels\n",
    "label_map = {0: \"major\", 1: \"minor\", 2: \"patch\"}\n",
    "spectral = [label_map[label] for label in cluster_labels]\n",
    "\n",
    "# Add the major, minor, and patch labels to the dataframe\n",
    "labels[\"spectral\"] = spectral\n",
    "\n",
    "# Accuracy\n",
    "print(\"Accuracy: \", accuracy_score(labels[\"label\"], labels[\"spectral\"]))\n",
    "# Precision\n",
    "print(\"Precision: \", precision_score(labels[\"label\"], labels[\"spectral\"], average=\"weighted\"))\n",
    "# Recall\n",
    "print(\"Recall: \", recall_score(labels[\"label\"], labels[\"spectral\"], average=\"weighted\"))\n",
    "# F1 score\n",
    "print(\"F1 score: \", f1_score(labels[\"label\"], labels[\"spectral\"], average=\"weighted\"))\n",
    "\n",
    "\n",
    "# Classification report\n",
    "print(classification_report(labels[\"label\"], labels[\"spectral\"]))\n"
   ]
  },
  {
   "cell_type": "code",
   "execution_count": 546,
   "metadata": {},
   "outputs": [
    {
     "data": {
      "application/vnd.plotly.v1+json": {
       "config": {
        "plotlyServerURL": "https://plotly.com"
       },
       "data": [
        {
         "colorscale": [
          [
           0,
           "rgb(247,251,255)"
          ],
          [
           0.125,
           "rgb(222,235,247)"
          ],
          [
           0.25,
           "rgb(198,219,239)"
          ],
          [
           0.375,
           "rgb(158,202,225)"
          ],
          [
           0.5,
           "rgb(107,174,214)"
          ],
          [
           0.625,
           "rgb(66,146,198)"
          ],
          [
           0.75,
           "rgb(33,113,181)"
          ],
          [
           0.875,
           "rgb(8,81,156)"
          ],
          [
           1,
           "rgb(8,48,107)"
          ]
         ],
         "hoverongaps": false,
         "type": "heatmap",
         "x": [
          "major",
          "minor",
          "patch"
         ],
         "y": [
          "major",
          "minor",
          "patch"
         ],
         "z": [
          [
           509,
           22,
           30
          ],
          [
           879,
           74,
           212
          ],
          [
           3007,
           81,
           541
          ]
         ]
        }
       ],
       "layout": {
        "annotations": [
         {
          "font": {
           "color": "black",
           "size": 14
          },
          "showarrow": false,
          "text": "509",
          "x": "major",
          "y": "major"
         },
         {
          "font": {
           "color": "black",
           "size": 14
          },
          "showarrow": false,
          "text": "879",
          "x": "major",
          "y": "minor"
         },
         {
          "font": {
           "color": "black",
           "size": 14
          },
          "showarrow": false,
          "text": "3007",
          "x": "major",
          "y": "patch"
         },
         {
          "font": {
           "color": "black",
           "size": 14
          },
          "showarrow": false,
          "text": "22",
          "x": "minor",
          "y": "major"
         },
         {
          "font": {
           "color": "black",
           "size": 14
          },
          "showarrow": false,
          "text": "74",
          "x": "minor",
          "y": "minor"
         },
         {
          "font": {
           "color": "black",
           "size": 14
          },
          "showarrow": false,
          "text": "81",
          "x": "minor",
          "y": "patch"
         },
         {
          "font": {
           "color": "black",
           "size": 14
          },
          "showarrow": false,
          "text": "30",
          "x": "patch",
          "y": "major"
         },
         {
          "font": {
           "color": "black",
           "size": 14
          },
          "showarrow": false,
          "text": "212",
          "x": "patch",
          "y": "minor"
         },
         {
          "font": {
           "color": "black",
           "size": 14
          },
          "showarrow": false,
          "text": "541",
          "x": "patch",
          "y": "patch"
         }
        ],
        "template": {
         "data": {
          "bar": [
           {
            "error_x": {
             "color": "#2a3f5f"
            },
            "error_y": {
             "color": "#2a3f5f"
            },
            "marker": {
             "line": {
              "color": "#E5ECF6",
              "width": 0.5
             },
             "pattern": {
              "fillmode": "overlay",
              "size": 10,
              "solidity": 0.2
             }
            },
            "type": "bar"
           }
          ],
          "barpolar": [
           {
            "marker": {
             "line": {
              "color": "#E5ECF6",
              "width": 0.5
             },
             "pattern": {
              "fillmode": "overlay",
              "size": 10,
              "solidity": 0.2
             }
            },
            "type": "barpolar"
           }
          ],
          "carpet": [
           {
            "aaxis": {
             "endlinecolor": "#2a3f5f",
             "gridcolor": "white",
             "linecolor": "white",
             "minorgridcolor": "white",
             "startlinecolor": "#2a3f5f"
            },
            "baxis": {
             "endlinecolor": "#2a3f5f",
             "gridcolor": "white",
             "linecolor": "white",
             "minorgridcolor": "white",
             "startlinecolor": "#2a3f5f"
            },
            "type": "carpet"
           }
          ],
          "choropleth": [
           {
            "colorbar": {
             "outlinewidth": 0,
             "ticks": ""
            },
            "type": "choropleth"
           }
          ],
          "contour": [
           {
            "colorbar": {
             "outlinewidth": 0,
             "ticks": ""
            },
            "colorscale": [
             [
              0,
              "#0d0887"
             ],
             [
              0.1111111111111111,
              "#46039f"
             ],
             [
              0.2222222222222222,
              "#7201a8"
             ],
             [
              0.3333333333333333,
              "#9c179e"
             ],
             [
              0.4444444444444444,
              "#bd3786"
             ],
             [
              0.5555555555555556,
              "#d8576b"
             ],
             [
              0.6666666666666666,
              "#ed7953"
             ],
             [
              0.7777777777777778,
              "#fb9f3a"
             ],
             [
              0.8888888888888888,
              "#fdca26"
             ],
             [
              1,
              "#f0f921"
             ]
            ],
            "type": "contour"
           }
          ],
          "contourcarpet": [
           {
            "colorbar": {
             "outlinewidth": 0,
             "ticks": ""
            },
            "type": "contourcarpet"
           }
          ],
          "heatmap": [
           {
            "colorbar": {
             "outlinewidth": 0,
             "ticks": ""
            },
            "colorscale": [
             [
              0,
              "#0d0887"
             ],
             [
              0.1111111111111111,
              "#46039f"
             ],
             [
              0.2222222222222222,
              "#7201a8"
             ],
             [
              0.3333333333333333,
              "#9c179e"
             ],
             [
              0.4444444444444444,
              "#bd3786"
             ],
             [
              0.5555555555555556,
              "#d8576b"
             ],
             [
              0.6666666666666666,
              "#ed7953"
             ],
             [
              0.7777777777777778,
              "#fb9f3a"
             ],
             [
              0.8888888888888888,
              "#fdca26"
             ],
             [
              1,
              "#f0f921"
             ]
            ],
            "type": "heatmap"
           }
          ],
          "heatmapgl": [
           {
            "colorbar": {
             "outlinewidth": 0,
             "ticks": ""
            },
            "colorscale": [
             [
              0,
              "#0d0887"
             ],
             [
              0.1111111111111111,
              "#46039f"
             ],
             [
              0.2222222222222222,
              "#7201a8"
             ],
             [
              0.3333333333333333,
              "#9c179e"
             ],
             [
              0.4444444444444444,
              "#bd3786"
             ],
             [
              0.5555555555555556,
              "#d8576b"
             ],
             [
              0.6666666666666666,
              "#ed7953"
             ],
             [
              0.7777777777777778,
              "#fb9f3a"
             ],
             [
              0.8888888888888888,
              "#fdca26"
             ],
             [
              1,
              "#f0f921"
             ]
            ],
            "type": "heatmapgl"
           }
          ],
          "histogram": [
           {
            "marker": {
             "pattern": {
              "fillmode": "overlay",
              "size": 10,
              "solidity": 0.2
             }
            },
            "type": "histogram"
           }
          ],
          "histogram2d": [
           {
            "colorbar": {
             "outlinewidth": 0,
             "ticks": ""
            },
            "colorscale": [
             [
              0,
              "#0d0887"
             ],
             [
              0.1111111111111111,
              "#46039f"
             ],
             [
              0.2222222222222222,
              "#7201a8"
             ],
             [
              0.3333333333333333,
              "#9c179e"
             ],
             [
              0.4444444444444444,
              "#bd3786"
             ],
             [
              0.5555555555555556,
              "#d8576b"
             ],
             [
              0.6666666666666666,
              "#ed7953"
             ],
             [
              0.7777777777777778,
              "#fb9f3a"
             ],
             [
              0.8888888888888888,
              "#fdca26"
             ],
             [
              1,
              "#f0f921"
             ]
            ],
            "type": "histogram2d"
           }
          ],
          "histogram2dcontour": [
           {
            "colorbar": {
             "outlinewidth": 0,
             "ticks": ""
            },
            "colorscale": [
             [
              0,
              "#0d0887"
             ],
             [
              0.1111111111111111,
              "#46039f"
             ],
             [
              0.2222222222222222,
              "#7201a8"
             ],
             [
              0.3333333333333333,
              "#9c179e"
             ],
             [
              0.4444444444444444,
              "#bd3786"
             ],
             [
              0.5555555555555556,
              "#d8576b"
             ],
             [
              0.6666666666666666,
              "#ed7953"
             ],
             [
              0.7777777777777778,
              "#fb9f3a"
             ],
             [
              0.8888888888888888,
              "#fdca26"
             ],
             [
              1,
              "#f0f921"
             ]
            ],
            "type": "histogram2dcontour"
           }
          ],
          "mesh3d": [
           {
            "colorbar": {
             "outlinewidth": 0,
             "ticks": ""
            },
            "type": "mesh3d"
           }
          ],
          "parcoords": [
           {
            "line": {
             "colorbar": {
              "outlinewidth": 0,
              "ticks": ""
             }
            },
            "type": "parcoords"
           }
          ],
          "pie": [
           {
            "automargin": true,
            "type": "pie"
           }
          ],
          "scatter": [
           {
            "fillpattern": {
             "fillmode": "overlay",
             "size": 10,
             "solidity": 0.2
            },
            "type": "scatter"
           }
          ],
          "scatter3d": [
           {
            "line": {
             "colorbar": {
              "outlinewidth": 0,
              "ticks": ""
             }
            },
            "marker": {
             "colorbar": {
              "outlinewidth": 0,
              "ticks": ""
             }
            },
            "type": "scatter3d"
           }
          ],
          "scattercarpet": [
           {
            "marker": {
             "colorbar": {
              "outlinewidth": 0,
              "ticks": ""
             }
            },
            "type": "scattercarpet"
           }
          ],
          "scattergeo": [
           {
            "marker": {
             "colorbar": {
              "outlinewidth": 0,
              "ticks": ""
             }
            },
            "type": "scattergeo"
           }
          ],
          "scattergl": [
           {
            "marker": {
             "colorbar": {
              "outlinewidth": 0,
              "ticks": ""
             }
            },
            "type": "scattergl"
           }
          ],
          "scattermapbox": [
           {
            "marker": {
             "colorbar": {
              "outlinewidth": 0,
              "ticks": ""
             }
            },
            "type": "scattermapbox"
           }
          ],
          "scatterpolar": [
           {
            "marker": {
             "colorbar": {
              "outlinewidth": 0,
              "ticks": ""
             }
            },
            "type": "scatterpolar"
           }
          ],
          "scatterpolargl": [
           {
            "marker": {
             "colorbar": {
              "outlinewidth": 0,
              "ticks": ""
             }
            },
            "type": "scatterpolargl"
           }
          ],
          "scatterternary": [
           {
            "marker": {
             "colorbar": {
              "outlinewidth": 0,
              "ticks": ""
             }
            },
            "type": "scatterternary"
           }
          ],
          "surface": [
           {
            "colorbar": {
             "outlinewidth": 0,
             "ticks": ""
            },
            "colorscale": [
             [
              0,
              "#0d0887"
             ],
             [
              0.1111111111111111,
              "#46039f"
             ],
             [
              0.2222222222222222,
              "#7201a8"
             ],
             [
              0.3333333333333333,
              "#9c179e"
             ],
             [
              0.4444444444444444,
              "#bd3786"
             ],
             [
              0.5555555555555556,
              "#d8576b"
             ],
             [
              0.6666666666666666,
              "#ed7953"
             ],
             [
              0.7777777777777778,
              "#fb9f3a"
             ],
             [
              0.8888888888888888,
              "#fdca26"
             ],
             [
              1,
              "#f0f921"
             ]
            ],
            "type": "surface"
           }
          ],
          "table": [
           {
            "cells": {
             "fill": {
              "color": "#EBF0F8"
             },
             "line": {
              "color": "white"
             }
            },
            "header": {
             "fill": {
              "color": "#C8D4E3"
             },
             "line": {
              "color": "white"
             }
            },
            "type": "table"
           }
          ]
         },
         "layout": {
          "annotationdefaults": {
           "arrowcolor": "#2a3f5f",
           "arrowhead": 0,
           "arrowwidth": 1
          },
          "autotypenumbers": "strict",
          "coloraxis": {
           "colorbar": {
            "outlinewidth": 0,
            "ticks": ""
           }
          },
          "colorscale": {
           "diverging": [
            [
             0,
             "#8e0152"
            ],
            [
             0.1,
             "#c51b7d"
            ],
            [
             0.2,
             "#de77ae"
            ],
            [
             0.3,
             "#f1b6da"
            ],
            [
             0.4,
             "#fde0ef"
            ],
            [
             0.5,
             "#f7f7f7"
            ],
            [
             0.6,
             "#e6f5d0"
            ],
            [
             0.7,
             "#b8e186"
            ],
            [
             0.8,
             "#7fbc41"
            ],
            [
             0.9,
             "#4d9221"
            ],
            [
             1,
             "#276419"
            ]
           ],
           "sequential": [
            [
             0,
             "#0d0887"
            ],
            [
             0.1111111111111111,
             "#46039f"
            ],
            [
             0.2222222222222222,
             "#7201a8"
            ],
            [
             0.3333333333333333,
             "#9c179e"
            ],
            [
             0.4444444444444444,
             "#bd3786"
            ],
            [
             0.5555555555555556,
             "#d8576b"
            ],
            [
             0.6666666666666666,
             "#ed7953"
            ],
            [
             0.7777777777777778,
             "#fb9f3a"
            ],
            [
             0.8888888888888888,
             "#fdca26"
            ],
            [
             1,
             "#f0f921"
            ]
           ],
           "sequentialminus": [
            [
             0,
             "#0d0887"
            ],
            [
             0.1111111111111111,
             "#46039f"
            ],
            [
             0.2222222222222222,
             "#7201a8"
            ],
            [
             0.3333333333333333,
             "#9c179e"
            ],
            [
             0.4444444444444444,
             "#bd3786"
            ],
            [
             0.5555555555555556,
             "#d8576b"
            ],
            [
             0.6666666666666666,
             "#ed7953"
            ],
            [
             0.7777777777777778,
             "#fb9f3a"
            ],
            [
             0.8888888888888888,
             "#fdca26"
            ],
            [
             1,
             "#f0f921"
            ]
           ]
          },
          "colorway": [
           "#636efa",
           "#EF553B",
           "#00cc96",
           "#ab63fa",
           "#FFA15A",
           "#19d3f3",
           "#FF6692",
           "#B6E880",
           "#FF97FF",
           "#FECB52"
          ],
          "font": {
           "color": "#2a3f5f"
          },
          "geo": {
           "bgcolor": "white",
           "lakecolor": "white",
           "landcolor": "#E5ECF6",
           "showlakes": true,
           "showland": true,
           "subunitcolor": "white"
          },
          "hoverlabel": {
           "align": "left"
          },
          "hovermode": "closest",
          "mapbox": {
           "style": "light"
          },
          "paper_bgcolor": "white",
          "plot_bgcolor": "#E5ECF6",
          "polar": {
           "angularaxis": {
            "gridcolor": "white",
            "linecolor": "white",
            "ticks": ""
           },
           "bgcolor": "#E5ECF6",
           "radialaxis": {
            "gridcolor": "white",
            "linecolor": "white",
            "ticks": ""
           }
          },
          "scene": {
           "xaxis": {
            "backgroundcolor": "#E5ECF6",
            "gridcolor": "white",
            "gridwidth": 2,
            "linecolor": "white",
            "showbackground": true,
            "ticks": "",
            "zerolinecolor": "white"
           },
           "yaxis": {
            "backgroundcolor": "#E5ECF6",
            "gridcolor": "white",
            "gridwidth": 2,
            "linecolor": "white",
            "showbackground": true,
            "ticks": "",
            "zerolinecolor": "white"
           },
           "zaxis": {
            "backgroundcolor": "#E5ECF6",
            "gridcolor": "white",
            "gridwidth": 2,
            "linecolor": "white",
            "showbackground": true,
            "ticks": "",
            "zerolinecolor": "white"
           }
          },
          "shapedefaults": {
           "line": {
            "color": "#2a3f5f"
           }
          },
          "ternary": {
           "aaxis": {
            "gridcolor": "white",
            "linecolor": "white",
            "ticks": ""
           },
           "baxis": {
            "gridcolor": "white",
            "linecolor": "white",
            "ticks": ""
           },
           "bgcolor": "#E5ECF6",
           "caxis": {
            "gridcolor": "white",
            "linecolor": "white",
            "ticks": ""
           }
          },
          "title": {
           "x": 0.05
          },
          "xaxis": {
           "automargin": true,
           "gridcolor": "white",
           "linecolor": "white",
           "ticks": "",
           "title": {
            "standoff": 15
           },
           "zerolinecolor": "white",
           "zerolinewidth": 2
          },
          "yaxis": {
           "automargin": true,
           "gridcolor": "white",
           "linecolor": "white",
           "ticks": "",
           "title": {
            "standoff": 15
           },
           "zerolinecolor": "white",
           "zerolinewidth": 2
          }
         }
        },
        "title": {
         "text": "Confusion Matrix for Spectral Clustering"
        },
        "xaxis": {
         "title": {
          "text": "Predicted Labels"
         }
        },
        "yaxis": {
         "title": {
          "text": "True Labels"
         }
        }
       }
      }
     },
     "metadata": {},
     "output_type": "display_data"
    }
   ],
   "source": [
    "from sklearn.metrics import confusion_matrix\n",
    "import matplotlib.pyplot as plt\n",
    "import seaborn as sns\n",
    "import plotly.graph_objects as go\n",
    "\n",
    "# actual labels and predicted labels\n",
    "y_true = labels['label']\n",
    "y_pred = labels['spectral']\n",
    "\n",
    "# create confusion matrix\n",
    "labels = ['major', 'minor', 'patch']\n",
    "cm = confusion_matrix(y_true, y_pred, labels=labels)\n",
    "\n",
    "fig = go.Figure(data=go.Heatmap(\n",
    "                   z=cm,\n",
    "                   x=labels,\n",
    "                   y=labels,\n",
    "                   colorscale='Blues',\n",
    "                   hoverongaps=False))\n",
    "\n",
    "# customize heatmap layout\n",
    "fig.update_layout(\n",
    "    title='Confusion Matrix for Spectral Clustering',\n",
    "    xaxis=dict(title='Predicted Labels'),\n",
    "    yaxis=dict(title='True Labels'))\n",
    "\n",
    "# add annotations to heatmap\n",
    "for i in range(len(labels)):\n",
    "    for j in range(len(labels)):\n",
    "        fig.add_annotation(x=labels[i], y=labels[j], text=str(cm[j][i]),\n",
    "                           font=dict(color='black', size=14),\n",
    "                           showarrow=False)\n",
    "\n",
    "# show plot\n",
    "fig.show()"
   ]
  },
  {
   "cell_type": "code",
   "execution_count": 554,
   "metadata": {},
   "outputs": [
    {
     "data": {
      "application/vnd.plotly.v1+json": {
       "config": {
        "plotlyServerURL": "https://plotly.com"
       },
       "data": [
        {
         "colorscale": [
          [
           0,
           "rgb(247,251,255)"
          ],
          [
           0.125,
           "rgb(222,235,247)"
          ],
          [
           0.25,
           "rgb(198,219,239)"
          ],
          [
           0.375,
           "rgb(158,202,225)"
          ],
          [
           0.5,
           "rgb(107,174,214)"
          ],
          [
           0.625,
           "rgb(66,146,198)"
          ],
          [
           0.75,
           "rgb(33,113,181)"
          ],
          [
           0.875,
           "rgb(8,81,156)"
          ],
          [
           1,
           "rgb(8,48,107)"
          ]
         ],
         "hoverongaps": false,
         "type": "heatmap",
         "x": [
          "major",
          "minor",
          "patch"
         ],
         "y": [
          "major",
          "minor",
          "patch"
         ],
         "z": [
          [
           34,
           96,
           431
          ],
          [
           167,
           125,
           873
          ],
          [
           235,
           155,
           3239
          ]
         ]
        }
       ],
       "layout": {
        "annotations": [
         {
          "font": {
           "color": "black",
           "size": 14
          },
          "showarrow": false,
          "text": "34",
          "x": "major",
          "y": "major"
         },
         {
          "font": {
           "color": "black",
           "size": 14
          },
          "showarrow": false,
          "text": "167",
          "x": "major",
          "y": "minor"
         },
         {
          "font": {
           "color": "black",
           "size": 14
          },
          "showarrow": false,
          "text": "235",
          "x": "major",
          "y": "patch"
         },
         {
          "font": {
           "color": "black",
           "size": 14
          },
          "showarrow": false,
          "text": "96",
          "x": "minor",
          "y": "major"
         },
         {
          "font": {
           "color": "black",
           "size": 14
          },
          "showarrow": false,
          "text": "125",
          "x": "minor",
          "y": "minor"
         },
         {
          "font": {
           "color": "black",
           "size": 14
          },
          "showarrow": false,
          "text": "155",
          "x": "minor",
          "y": "patch"
         },
         {
          "font": {
           "color": "black",
           "size": 14
          },
          "showarrow": false,
          "text": "431",
          "x": "patch",
          "y": "major"
         },
         {
          "font": {
           "color": "black",
           "size": 14
          },
          "showarrow": false,
          "text": "873",
          "x": "patch",
          "y": "minor"
         },
         {
          "font": {
           "color": "black",
           "size": 14
          },
          "showarrow": false,
          "text": "3239",
          "x": "patch",
          "y": "patch"
         }
        ],
        "template": {
         "data": {
          "bar": [
           {
            "error_x": {
             "color": "#2a3f5f"
            },
            "error_y": {
             "color": "#2a3f5f"
            },
            "marker": {
             "line": {
              "color": "#E5ECF6",
              "width": 0.5
             },
             "pattern": {
              "fillmode": "overlay",
              "size": 10,
              "solidity": 0.2
             }
            },
            "type": "bar"
           }
          ],
          "barpolar": [
           {
            "marker": {
             "line": {
              "color": "#E5ECF6",
              "width": 0.5
             },
             "pattern": {
              "fillmode": "overlay",
              "size": 10,
              "solidity": 0.2
             }
            },
            "type": "barpolar"
           }
          ],
          "carpet": [
           {
            "aaxis": {
             "endlinecolor": "#2a3f5f",
             "gridcolor": "white",
             "linecolor": "white",
             "minorgridcolor": "white",
             "startlinecolor": "#2a3f5f"
            },
            "baxis": {
             "endlinecolor": "#2a3f5f",
             "gridcolor": "white",
             "linecolor": "white",
             "minorgridcolor": "white",
             "startlinecolor": "#2a3f5f"
            },
            "type": "carpet"
           }
          ],
          "choropleth": [
           {
            "colorbar": {
             "outlinewidth": 0,
             "ticks": ""
            },
            "type": "choropleth"
           }
          ],
          "contour": [
           {
            "colorbar": {
             "outlinewidth": 0,
             "ticks": ""
            },
            "colorscale": [
             [
              0,
              "#0d0887"
             ],
             [
              0.1111111111111111,
              "#46039f"
             ],
             [
              0.2222222222222222,
              "#7201a8"
             ],
             [
              0.3333333333333333,
              "#9c179e"
             ],
             [
              0.4444444444444444,
              "#bd3786"
             ],
             [
              0.5555555555555556,
              "#d8576b"
             ],
             [
              0.6666666666666666,
              "#ed7953"
             ],
             [
              0.7777777777777778,
              "#fb9f3a"
             ],
             [
              0.8888888888888888,
              "#fdca26"
             ],
             [
              1,
              "#f0f921"
             ]
            ],
            "type": "contour"
           }
          ],
          "contourcarpet": [
           {
            "colorbar": {
             "outlinewidth": 0,
             "ticks": ""
            },
            "type": "contourcarpet"
           }
          ],
          "heatmap": [
           {
            "colorbar": {
             "outlinewidth": 0,
             "ticks": ""
            },
            "colorscale": [
             [
              0,
              "#0d0887"
             ],
             [
              0.1111111111111111,
              "#46039f"
             ],
             [
              0.2222222222222222,
              "#7201a8"
             ],
             [
              0.3333333333333333,
              "#9c179e"
             ],
             [
              0.4444444444444444,
              "#bd3786"
             ],
             [
              0.5555555555555556,
              "#d8576b"
             ],
             [
              0.6666666666666666,
              "#ed7953"
             ],
             [
              0.7777777777777778,
              "#fb9f3a"
             ],
             [
              0.8888888888888888,
              "#fdca26"
             ],
             [
              1,
              "#f0f921"
             ]
            ],
            "type": "heatmap"
           }
          ],
          "heatmapgl": [
           {
            "colorbar": {
             "outlinewidth": 0,
             "ticks": ""
            },
            "colorscale": [
             [
              0,
              "#0d0887"
             ],
             [
              0.1111111111111111,
              "#46039f"
             ],
             [
              0.2222222222222222,
              "#7201a8"
             ],
             [
              0.3333333333333333,
              "#9c179e"
             ],
             [
              0.4444444444444444,
              "#bd3786"
             ],
             [
              0.5555555555555556,
              "#d8576b"
             ],
             [
              0.6666666666666666,
              "#ed7953"
             ],
             [
              0.7777777777777778,
              "#fb9f3a"
             ],
             [
              0.8888888888888888,
              "#fdca26"
             ],
             [
              1,
              "#f0f921"
             ]
            ],
            "type": "heatmapgl"
           }
          ],
          "histogram": [
           {
            "marker": {
             "pattern": {
              "fillmode": "overlay",
              "size": 10,
              "solidity": 0.2
             }
            },
            "type": "histogram"
           }
          ],
          "histogram2d": [
           {
            "colorbar": {
             "outlinewidth": 0,
             "ticks": ""
            },
            "colorscale": [
             [
              0,
              "#0d0887"
             ],
             [
              0.1111111111111111,
              "#46039f"
             ],
             [
              0.2222222222222222,
              "#7201a8"
             ],
             [
              0.3333333333333333,
              "#9c179e"
             ],
             [
              0.4444444444444444,
              "#bd3786"
             ],
             [
              0.5555555555555556,
              "#d8576b"
             ],
             [
              0.6666666666666666,
              "#ed7953"
             ],
             [
              0.7777777777777778,
              "#fb9f3a"
             ],
             [
              0.8888888888888888,
              "#fdca26"
             ],
             [
              1,
              "#f0f921"
             ]
            ],
            "type": "histogram2d"
           }
          ],
          "histogram2dcontour": [
           {
            "colorbar": {
             "outlinewidth": 0,
             "ticks": ""
            },
            "colorscale": [
             [
              0,
              "#0d0887"
             ],
             [
              0.1111111111111111,
              "#46039f"
             ],
             [
              0.2222222222222222,
              "#7201a8"
             ],
             [
              0.3333333333333333,
              "#9c179e"
             ],
             [
              0.4444444444444444,
              "#bd3786"
             ],
             [
              0.5555555555555556,
              "#d8576b"
             ],
             [
              0.6666666666666666,
              "#ed7953"
             ],
             [
              0.7777777777777778,
              "#fb9f3a"
             ],
             [
              0.8888888888888888,
              "#fdca26"
             ],
             [
              1,
              "#f0f921"
             ]
            ],
            "type": "histogram2dcontour"
           }
          ],
          "mesh3d": [
           {
            "colorbar": {
             "outlinewidth": 0,
             "ticks": ""
            },
            "type": "mesh3d"
           }
          ],
          "parcoords": [
           {
            "line": {
             "colorbar": {
              "outlinewidth": 0,
              "ticks": ""
             }
            },
            "type": "parcoords"
           }
          ],
          "pie": [
           {
            "automargin": true,
            "type": "pie"
           }
          ],
          "scatter": [
           {
            "fillpattern": {
             "fillmode": "overlay",
             "size": 10,
             "solidity": 0.2
            },
            "type": "scatter"
           }
          ],
          "scatter3d": [
           {
            "line": {
             "colorbar": {
              "outlinewidth": 0,
              "ticks": ""
             }
            },
            "marker": {
             "colorbar": {
              "outlinewidth": 0,
              "ticks": ""
             }
            },
            "type": "scatter3d"
           }
          ],
          "scattercarpet": [
           {
            "marker": {
             "colorbar": {
              "outlinewidth": 0,
              "ticks": ""
             }
            },
            "type": "scattercarpet"
           }
          ],
          "scattergeo": [
           {
            "marker": {
             "colorbar": {
              "outlinewidth": 0,
              "ticks": ""
             }
            },
            "type": "scattergeo"
           }
          ],
          "scattergl": [
           {
            "marker": {
             "colorbar": {
              "outlinewidth": 0,
              "ticks": ""
             }
            },
            "type": "scattergl"
           }
          ],
          "scattermapbox": [
           {
            "marker": {
             "colorbar": {
              "outlinewidth": 0,
              "ticks": ""
             }
            },
            "type": "scattermapbox"
           }
          ],
          "scatterpolar": [
           {
            "marker": {
             "colorbar": {
              "outlinewidth": 0,
              "ticks": ""
             }
            },
            "type": "scatterpolar"
           }
          ],
          "scatterpolargl": [
           {
            "marker": {
             "colorbar": {
              "outlinewidth": 0,
              "ticks": ""
             }
            },
            "type": "scatterpolargl"
           }
          ],
          "scatterternary": [
           {
            "marker": {
             "colorbar": {
              "outlinewidth": 0,
              "ticks": ""
             }
            },
            "type": "scatterternary"
           }
          ],
          "surface": [
           {
            "colorbar": {
             "outlinewidth": 0,
             "ticks": ""
            },
            "colorscale": [
             [
              0,
              "#0d0887"
             ],
             [
              0.1111111111111111,
              "#46039f"
             ],
             [
              0.2222222222222222,
              "#7201a8"
             ],
             [
              0.3333333333333333,
              "#9c179e"
             ],
             [
              0.4444444444444444,
              "#bd3786"
             ],
             [
              0.5555555555555556,
              "#d8576b"
             ],
             [
              0.6666666666666666,
              "#ed7953"
             ],
             [
              0.7777777777777778,
              "#fb9f3a"
             ],
             [
              0.8888888888888888,
              "#fdca26"
             ],
             [
              1,
              "#f0f921"
             ]
            ],
            "type": "surface"
           }
          ],
          "table": [
           {
            "cells": {
             "fill": {
              "color": "#EBF0F8"
             },
             "line": {
              "color": "white"
             }
            },
            "header": {
             "fill": {
              "color": "#C8D4E3"
             },
             "line": {
              "color": "white"
             }
            },
            "type": "table"
           }
          ]
         },
         "layout": {
          "annotationdefaults": {
           "arrowcolor": "#2a3f5f",
           "arrowhead": 0,
           "arrowwidth": 1
          },
          "autotypenumbers": "strict",
          "coloraxis": {
           "colorbar": {
            "outlinewidth": 0,
            "ticks": ""
           }
          },
          "colorscale": {
           "diverging": [
            [
             0,
             "#8e0152"
            ],
            [
             0.1,
             "#c51b7d"
            ],
            [
             0.2,
             "#de77ae"
            ],
            [
             0.3,
             "#f1b6da"
            ],
            [
             0.4,
             "#fde0ef"
            ],
            [
             0.5,
             "#f7f7f7"
            ],
            [
             0.6,
             "#e6f5d0"
            ],
            [
             0.7,
             "#b8e186"
            ],
            [
             0.8,
             "#7fbc41"
            ],
            [
             0.9,
             "#4d9221"
            ],
            [
             1,
             "#276419"
            ]
           ],
           "sequential": [
            [
             0,
             "#0d0887"
            ],
            [
             0.1111111111111111,
             "#46039f"
            ],
            [
             0.2222222222222222,
             "#7201a8"
            ],
            [
             0.3333333333333333,
             "#9c179e"
            ],
            [
             0.4444444444444444,
             "#bd3786"
            ],
            [
             0.5555555555555556,
             "#d8576b"
            ],
            [
             0.6666666666666666,
             "#ed7953"
            ],
            [
             0.7777777777777778,
             "#fb9f3a"
            ],
            [
             0.8888888888888888,
             "#fdca26"
            ],
            [
             1,
             "#f0f921"
            ]
           ],
           "sequentialminus": [
            [
             0,
             "#0d0887"
            ],
            [
             0.1111111111111111,
             "#46039f"
            ],
            [
             0.2222222222222222,
             "#7201a8"
            ],
            [
             0.3333333333333333,
             "#9c179e"
            ],
            [
             0.4444444444444444,
             "#bd3786"
            ],
            [
             0.5555555555555556,
             "#d8576b"
            ],
            [
             0.6666666666666666,
             "#ed7953"
            ],
            [
             0.7777777777777778,
             "#fb9f3a"
            ],
            [
             0.8888888888888888,
             "#fdca26"
            ],
            [
             1,
             "#f0f921"
            ]
           ]
          },
          "colorway": [
           "#636efa",
           "#EF553B",
           "#00cc96",
           "#ab63fa",
           "#FFA15A",
           "#19d3f3",
           "#FF6692",
           "#B6E880",
           "#FF97FF",
           "#FECB52"
          ],
          "font": {
           "color": "#2a3f5f"
          },
          "geo": {
           "bgcolor": "white",
           "lakecolor": "white",
           "landcolor": "#E5ECF6",
           "showlakes": true,
           "showland": true,
           "subunitcolor": "white"
          },
          "hoverlabel": {
           "align": "left"
          },
          "hovermode": "closest",
          "mapbox": {
           "style": "light"
          },
          "paper_bgcolor": "white",
          "plot_bgcolor": "#E5ECF6",
          "polar": {
           "angularaxis": {
            "gridcolor": "white",
            "linecolor": "white",
            "ticks": ""
           },
           "bgcolor": "#E5ECF6",
           "radialaxis": {
            "gridcolor": "white",
            "linecolor": "white",
            "ticks": ""
           }
          },
          "scene": {
           "xaxis": {
            "backgroundcolor": "#E5ECF6",
            "gridcolor": "white",
            "gridwidth": 2,
            "linecolor": "white",
            "showbackground": true,
            "ticks": "",
            "zerolinecolor": "white"
           },
           "yaxis": {
            "backgroundcolor": "#E5ECF6",
            "gridcolor": "white",
            "gridwidth": 2,
            "linecolor": "white",
            "showbackground": true,
            "ticks": "",
            "zerolinecolor": "white"
           },
           "zaxis": {
            "backgroundcolor": "#E5ECF6",
            "gridcolor": "white",
            "gridwidth": 2,
            "linecolor": "white",
            "showbackground": true,
            "ticks": "",
            "zerolinecolor": "white"
           }
          },
          "shapedefaults": {
           "line": {
            "color": "#2a3f5f"
           }
          },
          "ternary": {
           "aaxis": {
            "gridcolor": "white",
            "linecolor": "white",
            "ticks": ""
           },
           "baxis": {
            "gridcolor": "white",
            "linecolor": "white",
            "ticks": ""
           },
           "bgcolor": "#E5ECF6",
           "caxis": {
            "gridcolor": "white",
            "linecolor": "white",
            "ticks": ""
           }
          },
          "title": {
           "x": 0.05
          },
          "xaxis": {
           "automargin": true,
           "gridcolor": "white",
           "linecolor": "white",
           "ticks": "",
           "title": {
            "standoff": 15
           },
           "zerolinecolor": "white",
           "zerolinewidth": 2
          },
          "yaxis": {
           "automargin": true,
           "gridcolor": "white",
           "linecolor": "white",
           "ticks": "",
           "title": {
            "standoff": 15
           },
           "zerolinecolor": "white",
           "zerolinewidth": 2
          }
         }
        },
        "title": {
         "text": "Confusion Matrix for Gaussian Mixture Model"
        },
        "xaxis": {
         "title": {
          "text": "Predicted Labels"
         }
        },
        "yaxis": {
         "title": {
          "text": "True Labels"
         }
        }
       }
      }
     },
     "metadata": {},
     "output_type": "display_data"
    }
   ],
   "source": [
    "from sklearn.metrics import confusion_matrix\n",
    "import matplotlib.pyplot as plt\n",
    "import seaborn as sns\n",
    "import plotly.graph_objects as go\n",
    "\n",
    "# actual labels and predicted labels\n",
    "y_true = labels['label']\n",
    "y_pred = labels['predicted_labels']\n",
    "\n",
    "# create confusion matrix\n",
    "labels = ['major', 'minor', 'patch']\n",
    "cm = confusion_matrix(y_true, y_pred, labels=labels)\n",
    "\n",
    "fig = go.Figure(data=go.Heatmap(\n",
    "                   z=cm,\n",
    "                   x=labels,\n",
    "                   y=labels,\n",
    "                   colorscale='Blues',\n",
    "                   hoverongaps=False))\n",
    "\n",
    "# customize heatmap layout\n",
    "fig.update_layout(\n",
    "    title='Confusion Matrix for Gaussian Mixture Model',\n",
    "    xaxis=dict(title='Predicted Labels'),\n",
    "    yaxis=dict(title='True Labels'))\n",
    "\n",
    "# add annotations to heatmap\n",
    "for i in range(len(labels)):\n",
    "    for j in range(len(labels)):\n",
    "        fig.add_annotation(x=labels[i], y=labels[j], text=str(cm[j][i]),\n",
    "                           font=dict(color='black', size=14),\n",
    "                           showarrow=False)\n",
    "\n",
    "# show plot\n",
    "fig.show()"
   ]
  },
  {
   "cell_type": "code",
   "execution_count": 491,
   "metadata": {},
   "outputs": [
    {
     "data": {
      "text/plain": [
       "label  spectral\n",
       "major  major        509\n",
       "       patch         30\n",
       "       minor         22\n",
       "minor  major        879\n",
       "       patch        212\n",
       "       minor         74\n",
       "patch  major       3007\n",
       "       patch        541\n",
       "       minor         81\n",
       "Name: spectral, dtype: int64"
      ]
     },
     "execution_count": 491,
     "metadata": {},
     "output_type": "execute_result"
    }
   ],
   "source": [
    "labels['spectral'].groupby(labels['label']).value_counts()"
   ]
  },
  {
   "cell_type": "code",
   "execution_count": 483,
   "metadata": {},
   "outputs": [
    {
     "name": "stdout",
     "output_type": "stream",
     "text": [
      "\u001b[33mWARNING: Skipping /usr/local/lib/python3.11/site-packages/six-1.16.0-py3.11.egg-info due to invalid metadata entry 'name'\u001b[0m\u001b[33m\n",
      "\u001b[0m\u001b[33mWARNING: Skipping /usr/local/lib/python3.11/site-packages/six-1.16.0-py3.11.egg-info due to invalid metadata entry 'name'\u001b[0m\u001b[33m\n",
      "\u001b[0mCollecting kmodes\n",
      "  Downloading kmodes-0.12.2-py2.py3-none-any.whl (20 kB)\n",
      "Requirement already satisfied: numpy>=1.10.4 in /usr/local/lib/python3.11/site-packages (from kmodes) (1.24.2)\n",
      "Requirement already satisfied: scikit-learn>=0.22.0 in /usr/local/lib/python3.11/site-packages (from kmodes) (1.2.2)\n",
      "Requirement already satisfied: scipy>=0.13.3 in /usr/local/lib/python3.11/site-packages (from kmodes) (1.10.1)\n",
      "Requirement already satisfied: joblib>=0.11 in /usr/local/lib/python3.11/site-packages (from kmodes) (1.2.0)\n",
      "Requirement already satisfied: threadpoolctl>=2.0.0 in /usr/local/lib/python3.11/site-packages (from scikit-learn>=0.22.0->kmodes) (3.1.0)\n",
      "\u001b[33mWARNING: Skipping /usr/local/lib/python3.11/site-packages/six-1.16.0-py3.11.egg-info due to invalid metadata entry 'name'\u001b[0m\u001b[33m\n",
      "\u001b[0mInstalling collected packages: kmodes\n",
      "\u001b[33mWARNING: Skipping /usr/local/lib/python3.11/site-packages/six-1.16.0-py3.11.egg-info due to invalid metadata entry 'name'\u001b[0m\u001b[33m\n",
      "\u001b[0mSuccessfully installed kmodes-0.12.2\n",
      "\u001b[33mWARNING: Skipping /usr/local/lib/python3.11/site-packages/six-1.16.0-py3.11.egg-info due to invalid metadata entry 'name'\u001b[0m\u001b[33m\n",
      "\u001b[0m\u001b[33mWARNING: Skipping /usr/local/lib/python3.11/site-packages/six-1.16.0-py3.11.egg-info due to invalid metadata entry 'name'\u001b[0m\u001b[33m\n",
      "\u001b[0m\u001b[33mWARNING: Skipping /usr/local/lib/python3.11/site-packages/six-1.16.0-py3.11.egg-info due to invalid metadata entry 'name'\u001b[0m\u001b[33m\n",
      "\u001b[0m\n",
      "\u001b[1m[\u001b[0m\u001b[34;49mnotice\u001b[0m\u001b[1;39;49m]\u001b[0m\u001b[39;49m A new release of pip available: \u001b[0m\u001b[31;49m22.3.1\u001b[0m\u001b[39;49m -> \u001b[0m\u001b[32;49m23.0.1\u001b[0m\n",
      "\u001b[1m[\u001b[0m\u001b[34;49mnotice\u001b[0m\u001b[1;39;49m]\u001b[0m\u001b[39;49m To update, run: \u001b[0m\u001b[32;49mpython3.11 -m pip install --upgrade pip\u001b[0m\n",
      "Note: you may need to restart the kernel to use updated packages.\n"
     ]
    }
   ],
   "source": [
    "pip install kmodes"
   ]
  },
  {
   "cell_type": "code",
   "execution_count": 195,
   "metadata": {},
   "outputs": [],
   "source": [
    "labels.to_csv ('labels.csv', index = False, header=True)"
   ]
  },
  {
   "cell_type": "code",
   "execution_count": 543,
   "metadata": {},
   "outputs": [
    {
     "data": {
      "image/png": "[encoded data removed]",
      "text/plain": [
       "<Figure size 640x480 with 1 Axes>"
      ]
     },
     "metadata": {},
     "output_type": "display_data"
    }
   ],
   "source": [
    "import networkx as nx\n",
    "import matplotlib.pyplot as plt\n",
    "\n",
    "s = df_2015['label'].astype(str).value_counts().dropna()\n",
    "\n",
    "tmp = (\n",
    " s.reset_index(name='label')\n",
    "  .sort_values(by='index', key=lambda s: s.str.count('.'))\n",
    "  .pipe(lambda d: d.join(d['index'].str.extract(r'(?:([^.]+).)?(\\b[^.]+)$')))\n",
    "  .drop_duplicates(subset=[0, 1])\n",
    ")\n",
    "\n",
    "tmp = tmp.dropna(subset=[0, 1])\n",
    "\n",
    "G = nx.from_pandas_edgelist(tmp, source=0, target=1,\n",
    "                            create_using=nx.DiGraph, edge_attr='label')\n",
    "\n",
    "pos = nx.spring_layout(G, k=0.1, iterations=5)\n",
    "nx.draw(G, pos, with_labels=True, node_size=1000, node_color='lightgray',linewidths=0.2, font_size=8)\n",
    "nx.draw_networkx_edge_labels(G, pos, edge_labels=nx.get_edge_attributes(G, 'label'));\n"
   ]
  },
  {
   "cell_type": "code",
   "execution_count": 545,
   "metadata": {},
   "outputs": [
    {
     "data": {
      "image/png": "[encoded data removed]",
      "text/plain": [
       "<Figure size 640x480 with 1 Axes>"
      ]
     },
     "metadata": {},
     "output_type": "display_data"
    }
   ],
   "source": [
    "import networkx as nx\n",
    "import matplotlib.pyplot as plt\n",
    "\n",
    "s = df_2016['label'].astype(str).value_counts().dropna()\n",
    "\n",
    "tmp = (\n",
    " s.reset_index(name='label')\n",
    "  .sort_values(by='index', key=lambda s: s.str.count('.'))\n",
    "  .pipe(lambda d: d.join(d['index'].str.extract(r'(?:([^.]+).)?(\\b[^.]+)$')))\n",
    "  .drop_duplicates(subset=[0, 1])\n",
    ")\n",
    "\n",
    "tmp = tmp.dropna(subset=[0, 1])\n",
    "\n",
    "G = nx.from_pandas_edgelist(tmp, source=0, target=1,\n",
    "                            create_using=nx.DiGraph, edge_attr='label')\n",
    "\n",
    "pos = nx.spring_layout(G, k=0.1, iterations=5)\n",
    "nx.draw(G, pos, with_labels=True, node_size=1000, node_color='lightgray',linewidths=0.2, font_size=8)\n",
    "nx.draw_networkx_edge_labels(G, pos, edge_labels=nx.get_edge_attributes(G, 'label'));\n"
   ]
  },
  {
   "cell_type": "code",
   "execution_count": 636,
   "metadata": {},
   "outputs": [
    {
     "data": {
      "image/png": "[encoded data removed]",
      "text/plain": [
       "<Figure size 640x480 with 1 Axes>"
      ]
     },
     "metadata": {},
     "output_type": "display_data"
    }
   ],
   "source": [
    "import networkx as nx\n",
    "import matplotlib.pyplot as plt\n",
    "\n",
    "s = df_2017['label'].astype(str).value_counts().dropna()\n",
    "\n",
    "tmp = (\n",
    " s.reset_index(name='label')\n",
    "  .sort_values(by='index', key=lambda s: s.str.count('.'))\n",
    "  .pipe(lambda d: d.join(d['index'].str.extract(r'(?:([^.]+).)?(\\b[^.]+)$').bfill(axis=1)))\n",
    "  .drop_duplicates(subset=[0, 1])\n",
    ")\n",
    "\n",
    "tmp = tmp.dropna(subset=[0, 1])\n",
    "\n",
    "G = nx.from_pandas_edgelist(tmp, source=0, target=1,\n",
    "                            create_using=nx.Graph, edge_attr='label')\n",
    "\n",
    "pos = nx.spring_layout(G, k=0.1, iterations=5)\n",
    "nx.draw(G, pos, with_labels=True, node_size=1000, node_color='lightgray',linewidths=0.2, font_size=8)\n",
    "nx.draw_networkx_edge_labels(G, pos, edge_labels=nx.get_edge_attributes(G, 'label'));"
   ]
  },
  {
   "cell_type": "code",
   "execution_count": 638,
   "metadata": {},
   "outputs": [
    {
     "name": "stdout",
     "output_type": "stream",
     "text": [
      "\u001b[33mWARNING: Skipping /usr/local/lib/python3.11/site-packages/six-1.16.0-py3.11.egg-info due to invalid metadata entry 'name'\u001b[0m\u001b[33m\n",
      "\u001b[0m\u001b[33mWARNING: Skipping /usr/local/lib/python3.11/site-packages/six-1.16.0-py3.11.egg-info due to invalid metadata entry 'name'\u001b[0m\u001b[33m\n",
      "\u001b[0mCollecting graphviz\n",
      "  Downloading graphviz-0.20.1-py3-none-any.whl (47 kB)\n",
      "\u001b[2K     \u001b[90m━━━━━━━━━━━━━━━━━━━━━━━━━━━━━━━━━━━━━━━\u001b[0m \u001b[32m47.0/47.0 kB\u001b[0m \u001b[31m653.4 kB/s\u001b[0m eta \u001b[36m0:00:00\u001b[0m \u001b[36m0:00:01\u001b[0m\n",
      "\u001b[?25h\u001b[33mWARNING: Skipping /usr/local/lib/python3.11/site-packages/six-1.16.0-py3.11.egg-info due to invalid metadata entry 'name'\u001b[0m\u001b[33m\n",
      "\u001b[0mInstalling collected packages: graphviz\n",
      "\u001b[33mWARNING: Skipping /usr/local/lib/python3.11/site-packages/six-1.16.0-py3.11.egg-info due to invalid metadata entry 'name'\u001b[0m\u001b[33m\n",
      "\u001b[0mSuccessfully installed graphviz-0.20.1\n",
      "\u001b[33mWARNING: Skipping /usr/local/lib/python3.11/site-packages/six-1.16.0-py3.11.egg-info due to invalid metadata entry 'name'\u001b[0m\u001b[33m\n",
      "\u001b[0m\u001b[33mWARNING: Skipping /usr/local/lib/python3.11/site-packages/six-1.16.0-py3.11.egg-info due to invalid metadata entry 'name'\u001b[0m\u001b[33m\n",
      "\u001b[0m\u001b[33mWARNING: Skipping /usr/local/lib/python3.11/site-packages/six-1.16.0-py3.11.egg-info due to invalid metadata entry 'name'\u001b[0m\u001b[33m\n",
      "\u001b[0m\n",
      "\u001b[1m[\u001b[0m\u001b[34;49mnotice\u001b[0m\u001b[1;39;49m]\u001b[0m\u001b[39;49m A new release of pip available: \u001b[0m\u001b[31;49m22.3.1\u001b[0m\u001b[39;49m -> \u001b[0m\u001b[32;49m23.0.1\u001b[0m\n",
      "\u001b[1m[\u001b[0m\u001b[34;49mnotice\u001b[0m\u001b[1;39;49m]\u001b[0m\u001b[39;49m To update, run: \u001b[0m\u001b[32;49mpython3.11 -m pip install --upgrade pip\u001b[0m\n",
      "Note: you may need to restart the kernel to use updated packages.\n"
     ]
    }
   ],
   "source": [
    "pip install graphviz"
   ]
  },
  {
   "cell_type": "code",
   "execution_count": 650,
   "metadata": {},
   "outputs": [
    {
     "data": {
      "image/svg+xml": "<?xml version=\"1.0\" encoding=\"UTF-8\" standalone=\"no\"?>\n<!DOCTYPE svg PUBLIC \"-//W3C//DTD SVG 1.1//EN\"\n \"http://www.w3.org/Graphics/SVG/1.1/DTD/svg11.dtd\">\n<!-- Generated by graphviz version 7.0.6 (20230106.0513)\n -->\n<!-- Pages: 1 -->\n<svg width=\"8pt\" height=\"8pt\"\n viewBox=\"0.00 0.00 8.00 8.00\" xmlns=\"http://www.w3.org/2000/svg\" xmlns:xlink=\"http://www.w3.org/1999/xlink\">\n<g id=\"graph0\" class=\"graph\" transform=\"scale(1 1) rotate(0) translate(4 4)\">\n<polygon fill=\"white\" stroke=\"none\" points=\"-4,4 -4,-4 4,-4 4,4 -4,4\"/>\n</g>\n</svg>\n",
      "text/plain": [
       "<graphviz.graphs.Graph at 0x1607049d0>"
      ]
     },
     "execution_count": 650,
     "metadata": {},
     "output_type": "execute_result"
    }
   ],
   "source": [
    "import networkx as nx\n",
    "import graphviz\n",
    "\n",
    "s = df_2017['label'].astype(str).value_counts().dropna()\n",
    "\n",
    "tmp = (\n",
    "    s.reset_index(name='label')\n",
    "    .sort_values(by='index', key=lambda s: s.str.count('.'))\n",
    "    .pipe(lambda d: d.join(d['index'].str.extract(r'(?:([^.]+).)?(\\b[^.]+)$').bfill(axis=1)))\n",
    "    .drop_duplicates(subset=[0, 1])\n",
    ")\n",
    "\n",
    "tmp = tmp.dropna(subset=[0, 1])\n",
    "\n",
    "G = nx.from_pandas_edgelist(tmp, source=0, target=1,\n",
    "                            create_using=nx.Graph, edge_attr='label')\n",
    "\n",
    "\n",
    "dot = graphviz.Graph()\n",
    "for node in G.nodes:\n",
    "    dot.node(str(node))\n",
    "\n",
    "for edge in G.edges:\n",
    "    label = G.edges[edge]['label']\n",
    "    dot.edge(str(edge[0]), str(edge[1]), label=str(label))\n",
    "dot\n"
   ]
  },
  {
   "cell_type": "code",
   "execution_count": 647,
   "metadata": {},
   "outputs": [
    {
     "data": {
      "image/png": "[encoded data removed]",
      "text/plain": [
       "<Figure size 640x480 with 1 Axes>"
      ]
     },
     "metadata": {},
     "output_type": "display_data"
    }
   ],
   "source": [
    "import networkx as nx\n",
    "import matplotlib.pyplot as plt\n",
    "\n",
    "s = df_2018['label'].astype(str).value_counts().dropna()\n",
    "\n",
    "tmp = (\n",
    " s.reset_index(name='label')\n",
    "  .sort_values(by='index', key=lambda s: s.str.count('.'))\n",
    "  .pipe(lambda d: d.join(d['index'].str.extract(r'(?:([^.]+).)?(\\b[^.]+)$')))\n",
    "  .drop_duplicates(subset=[0, 1])\n",
    ")\n",
    "\n",
    "tmp = tmp.dropna(subset=[0, 1])\n",
    "\n",
    "G = nx.from_pandas_edgelist(tmp, source=0, target=1,\n",
    "                            create_using=nx.DiGraph, edge_attr='label')\n",
    "\n",
    "pos = nx.spring_layout(G, k=0.1, iterations=5)\n",
    "nx.draw(G, pos, with_labels=True, node_size=1000, node_color='lightgray',linewidths=0.2, font_size=8)\n",
    "nx.draw_networkx_edge_labels(G, pos, edge_labels=nx.get_edge_attributes(G, 'label'));\n"
   ]
  },
  {
   "cell_type": "code",
   "execution_count": 538,
   "metadata": {},
   "outputs": [
    {
     "data": {
      "image/png": "[encoded data removed]",
      "text/plain": [
       "<Figure size 640x480 with 1 Axes>"
      ]
     },
     "metadata": {},
     "output_type": "display_data"
    }
   ],
   "source": [
    "import networkx as nx\n",
    "import matplotlib.pyplot as plt\n",
    "\n",
    "s = df_2019['label'].astype(str).value_counts().dropna()\n",
    "\n",
    "tmp = (\n",
    " s.reset_index(name='label')\n",
    "  .sort_values(by='index', key=lambda s: s.str.count('.'))\n",
    "  .pipe(lambda d: d.join(d['index'].str.extract(r'(?:([^.]+).)?(\\b[^.]+)$')))\n",
    "  .drop_duplicates(subset=[0, 1])\n",
    ")\n",
    "\n",
    "tmp = tmp.dropna(subset=[0, 1])\n",
    "\n",
    "G = nx.from_pandas_edgelist(tmp, source=0, target=1,\n",
    "                            create_using=nx.DiGraph, edge_attr='label')\n",
    "\n",
    "pos = nx.spring_layout(G, k=0.1, iterations=5)\n",
    "nx.draw(G, pos, with_labels=True, node_size=1000, node_color='lightgray',linewidths=0.2, font_size=8)\n",
    "nx.draw_networkx_edge_labels(G, pos, edge_labels=nx.get_edge_attributes(G, 'label'));\n"
   ]
  },
  {
   "cell_type": "code",
   "execution_count": 380,
   "metadata": {},
   "outputs": [
    {
     "data": {
      "image/png": "[encoded data removed]",
      "text/plain": [
       "<Figure size 640x480 with 1 Axes>"
      ]
     },
     "metadata": {},
     "output_type": "display_data"
    }
   ],
   "source": [
    "import networkx as nx\n",
    "import matplotlib.pyplot as plt\n",
    "\n",
    "s = df_2020['label'].astype(str).value_counts().dropna()\n",
    "\n",
    "tmp = (\n",
    " s.reset_index(name='label')\n",
    "  .sort_values(by='index', key=lambda s: s.str.count('.'))\n",
    "  .pipe(lambda d: d.join(d['index'].str.extract(r'(?:([^.]+).)?(\\b[^.]+)$')))\n",
    "  .drop_duplicates(subset=[0, 1])\n",
    ")\n",
    "\n",
    "tmp = tmp.dropna(subset=[0, 1])\n",
    "\n",
    "G = nx.from_pandas_edgelist(tmp, source=0, target=1,\n",
    "                            create_using=nx.DiGraph, edge_attr='label')\n",
    "\n",
    "\n",
    "pos = nx.spring_layout(G)\n",
    "nx.draw(G, pos, with_labels=True, node_size=1000, node_color='lightgray',linewidths=0.2, font_size=10)\n",
    "nx.draw_networkx_edge_labels(G, pos, edge_labels=nx.get_edge_attributes(G, 'label'));\n"
   ]
  },
  {
   "cell_type": "code",
   "execution_count": 448,
   "metadata": {},
   "outputs": [
    {
     "data": {
      "image/png": "[encoded data removed]",
      "text/plain": [
       "<Figure size 640x480 with 1 Axes>"
      ]
     },
     "metadata": {},
     "output_type": "display_data"
    }
   ],
   "source": [
    "import networkx as nx\n",
    "import matplotlib.pyplot as plt\n",
    "\n",
    "s = df_2021['label'].astype(str).value_counts().dropna()\n",
    "\n",
    "tmp = (\n",
    " s.reset_index(name='label')\n",
    "  .sort_values(by='index', key=lambda s: s.str.count('.'))\n",
    "  .pipe(lambda d: d.join(d['index'].str.extract(r'(?:([^.]+).)?(\\b[^.]+)$')))\n",
    "  .drop_duplicates(subset=[0, 1])\n",
    ")\n",
    "\n",
    "tmp = tmp.dropna(subset=[0, 1])\n",
    "\n",
    "G = nx.from_pandas_edgelist(tmp, source=0, target=1,\n",
    "                            create_using=nx.DiGraph, edge_attr='label')\n",
    "\n",
    "\n",
    "pos = nx.spring_layout(G)\n",
    "nx.draw(G, pos, with_labels=True, node_size=1000, node_color='lightgray',linewidths=0.2, font_size=10)\n",
    "nx.draw_networkx_edge_labels(G, pos, edge_labels=nx.get_edge_attributes(G, 'label'));\n"
   ]
  },
  {
   "cell_type": "code",
   "execution_count": 386,
   "metadata": {},
   "outputs": [
    {
     "data": {
      "image/png": "[encoded data removed]",
      "text/plain": [
       "<Figure size 640x480 with 1 Axes>"
      ]
     },
     "metadata": {},
     "output_type": "display_data"
    }
   ],
   "source": [
    "import networkx as nx\n",
    "import matplotlib.pyplot as plt\n",
    "\n",
    "s = df_2022['label'].astype(str).value_counts().dropna()\n",
    "\n",
    "tmp = (\n",
    " s.reset_index(name='label')\n",
    "  .sort_values(by='index', key=lambda s: s.str.count('.'))\n",
    "  .pipe(lambda d: d.join(d['index'].str.extract(r'(?:([^.]+).)?(\\b[^.]+)$')))\n",
    "  .drop_duplicates(subset=[0, 1])\n",
    ")\n",
    "\n",
    "tmp = tmp.dropna(subset=[0, 1])\n",
    "\n",
    "G = nx.from_pandas_edgelist(tmp, source=0, target=1,\n",
    "                            create_using=nx.DiGraph, edge_attr='label')\n",
    "\n",
    "\n",
    "pos = nx.spring_layout(G)\n",
    "nx.draw(G, pos, with_labels=True, node_size=1000, node_color='lightgray',linewidths=0.2, font_size=10)\n",
    "nx.draw_networkx_edge_labels(G, pos, edge_labels=nx.get_edge_attributes(G, 'label'));\n"
   ]
  }
 ],
 "metadata": {
  "kernelspec": {
   "display_name": "Python 3.11.1 64-bit",
   "language": "python",
   "name": "python3"
  },
  "language_info": {
   "codemirror_mode": {
    "name": "ipython",
    "version": 3
   },
   "file_extension": ".py",
   "mimetype": "text/x-python",
   "name": "python",
   "nbconvert_exporter": "python",
   "pygments_lexer": "ipython3",
   "version": "3.11.1"
  },
  "orig_nbformat": 4,
  "vscode": {
   "interpreter": {
    "hash": "1a1af0ee75eeea9e2e1ee996c87e7a2b11a0bebd85af04bb136d915cefc0abce"
   }
  }
 },
 "nbformat": 4,
 "nbformat_minor": 2
}
