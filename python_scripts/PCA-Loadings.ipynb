{
 "cells": [
  {
   "cell_type": "code",
   "execution_count": 1,
   "metadata": {},
   "outputs": [],
   "source": [
    "import pandas as pd\n",
    "import numpy as np\n",
    "import matplotlib.pyplot as plt\n",
    "import seaborn as sns\n",
    "import statsmodels.api as sm\n",
    "from statsmodels.formula.api import ols\n",
    "from sklearn.model_selection import cross_val_score\n",
    "from sklearn.model_selection import RepeatedStratifiedKFold\n",
    "from sklearn.model_selection import train_test_split\n",
    "from sklearn.metrics import accuracy_score\n",
    "from sklearn.metrics import precision_score\n",
    "from sklearn.metrics import recall_score\n",
    "from sklearn.metrics import f1_score\n",
    "from sklearn.metrics import classification_report\n",
    "from sklearn.mixture import GaussianMixture\n",
    "from sklearn.preprocessing import StandardScaler\n",
    "from sklearn.preprocessing import MinMaxScaler\n"
   ]
  },
  {
   "cell_type": "code",
   "execution_count": 2,
   "metadata": {},
   "outputs": [
    {
     "name": "stdout",
     "output_type": "stream",
     "text": [
      "Requirement already satisfied: statsmodels in /Library/Frameworks/Python.framework/Versions/3.11/lib/python3.11/site-packages (0.13.5)\n",
      "Requirement already satisfied: pandas>=0.25 in /Library/Frameworks/Python.framework/Versions/3.11/lib/python3.11/site-packages (from statsmodels) (2.0.0)\n",
      "Requirement already satisfied: patsy>=0.5.2 in /Library/Frameworks/Python.framework/Versions/3.11/lib/python3.11/site-packages (from statsmodels) (0.5.3)\n",
      "Requirement already satisfied: packaging>=21.3 in /Users/deepanshachowdhary/Library/Python/3.11/lib/python/site-packages (from statsmodels) (23.0)\n",
      "Requirement already satisfied: scipy>=1.3 in /Library/Frameworks/Python.framework/Versions/3.11/lib/python3.11/site-packages (from statsmodels) (1.10.1)\n",
      "Requirement already satisfied: numpy>=1.17 in /Library/Frameworks/Python.framework/Versions/3.11/lib/python3.11/site-packages (from statsmodels) (1.24.3)\n",
      "Requirement already satisfied: python-dateutil>=2.8.2 in /Users/deepanshachowdhary/Library/Python/3.11/lib/python/site-packages (from pandas>=0.25->statsmodels) (2.8.2)\n",
      "Requirement already satisfied: pytz>=2020.1 in /Library/Frameworks/Python.framework/Versions/3.11/lib/python3.11/site-packages (from pandas>=0.25->statsmodels) (2023.3)\n",
      "Requirement already satisfied: tzdata>=2022.1 in /Library/Frameworks/Python.framework/Versions/3.11/lib/python3.11/site-packages (from pandas>=0.25->statsmodels) (2023.3)\n",
      "Requirement already satisfied: six in /Users/deepanshachowdhary/Library/Python/3.11/lib/python/site-packages (from patsy>=0.5.2->statsmodels) (1.16.0)\n",
      "\n",
      "\u001b[1m[\u001b[0m\u001b[34;49mnotice\u001b[0m\u001b[1;39;49m]\u001b[0m\u001b[39;49m A new release of pip is available: \u001b[0m\u001b[31;49m23.1.1\u001b[0m\u001b[39;49m -> \u001b[0m\u001b[32;49m23.1.2\u001b[0m\n",
      "\u001b[1m[\u001b[0m\u001b[34;49mnotice\u001b[0m\u001b[1;39;49m]\u001b[0m\u001b[39;49m To update, run: \u001b[0m\u001b[32;49mpython3.11 -m pip install --upgrade pip\u001b[0m\n",
      "Note: you may need to restart the kernel to use updated packages.\n"
     ]
    }
   ],
   "source": [
    "pip install statsmodels"
   ]
  },
  {
   "cell_type": "code",
   "execution_count": 3,
   "metadata": {},
   "outputs": [
    {
     "name": "stdout",
     "output_type": "stream",
     "text": [
      "Requirement already satisfied: kaleido in /Library/Frameworks/Python.framework/Versions/3.11/lib/python3.11/site-packages (0.2.1)\n",
      "\n",
      "\u001b[1m[\u001b[0m\u001b[34;49mnotice\u001b[0m\u001b[1;39;49m]\u001b[0m\u001b[39;49m A new release of pip is available: \u001b[0m\u001b[31;49m23.1.1\u001b[0m\u001b[39;49m -> \u001b[0m\u001b[32;49m23.1.2\u001b[0m\n",
      "\u001b[1m[\u001b[0m\u001b[34;49mnotice\u001b[0m\u001b[1;39;49m]\u001b[0m\u001b[39;49m To update, run: \u001b[0m\u001b[32;49mpython3.11 -m pip install --upgrade pip\u001b[0m\n",
      "Note: you may need to restart the kernel to use updated packages.\n"
     ]
    }
   ],
   "source": [
    "pip install -U kaleido"
   ]
  },
  {
   "cell_type": "code",
   "execution_count": 4,
   "metadata": {},
   "outputs": [
    {
     "name": "stderr",
     "output_type": "stream",
     "text": [
      "/var/folders/27/mp6sy3_d6_lgz19hyp_8n8z40000gn/T/ipykernel_7135/1942488875.py:1: DtypeWarning: Columns (57) have mixed types. Specify dtype option on import or set low_memory=False.\n",
      "  df = pd.read_csv('api.csv', encoding='utf-8')\n"
     ]
    }
   ],
   "source": [
    "df = pd.read_csv('api.csv', encoding='utf-8')"
   ]
  },
  {
   "cell_type": "code",
   "execution_count": 5,
   "metadata": {},
   "outputs": [
    {
     "data": {
      "text/html": [
       "<div>\n",
       "<style scoped>\n",
       "    .dataframe tbody tr th:only-of-type {\n",
       "        vertical-align: middle;\n",
       "    }\n",
       "\n",
       "    .dataframe tbody tr th {\n",
       "        vertical-align: top;\n",
       "    }\n",
       "\n",
       "    .dataframe thead th {\n",
       "        text-align: right;\n",
       "    }\n",
       "</style>\n",
       "<table border=\"1\" class=\"dataframe\">\n",
       "  <thead>\n",
       "    <tr style=\"text-align: right;\">\n",
       "      <th></th>\n",
       "      <th>api_spec_id</th>\n",
       "      <th>commit_date</th>\n",
       "      <th>info_version</th>\n",
       "      <th>id</th>\n",
       "      <th>label</th>\n",
       "      <th>dom_label</th>\n",
       "      <th>diff2</th>\n",
       "      <th>errors</th>\n",
       "      <th>count</th>\n",
       "      <th>content</th>\n",
       "      <th>...</th>\n",
       "      <th>Security_modified</th>\n",
       "      <th>Security_added</th>\n",
       "      <th>Security_deleted</th>\n",
       "      <th>Endpoints_modified</th>\n",
       "      <th>repo_name</th>\n",
       "      <th>owner</th>\n",
       "      <th>commits</th>\n",
       "      <th>info_versions_changes</th>\n",
       "      <th>api_age</th>\n",
       "      <th>growth_classification</th>\n",
       "    </tr>\n",
       "  </thead>\n",
       "  <tbody>\n",
       "    <tr>\n",
       "      <th>0</th>\n",
       "      <td>96.0</td>\n",
       "      <td>2020-10-06</td>\n",
       "      <td>0.1.0</td>\n",
       "      <td>218.0</td>\n",
       "      <td>Empty</td>\n",
       "      <td>Empty</td>\n",
       "      <td>{}</td>\n",
       "      <td>NaN</td>\n",
       "      <td>NaN</td>\n",
       "      <td>NaN</td>\n",
       "      <td>...</td>\n",
       "      <td>0.0</td>\n",
       "      <td>0</td>\n",
       "      <td>0</td>\n",
       "      <td>0.0</td>\n",
       "      <td>community-calendar</td>\n",
       "      <td>stephenhoward</td>\n",
       "      <td>20</td>\n",
       "      <td>0.0</td>\n",
       "      <td>NaN</td>\n",
       "      <td>NaN</td>\n",
       "    </tr>\n",
       "    <tr>\n",
       "      <th>1</th>\n",
       "      <td>96.0</td>\n",
       "      <td>2020-10-07</td>\n",
       "      <td>0.1.0</td>\n",
       "      <td>217.0</td>\n",
       "      <td>Empty</td>\n",
       "      <td>Empty</td>\n",
       "      <td>{}</td>\n",
       "      <td>NaN</td>\n",
       "      <td>NaN</td>\n",
       "      <td>NaN</td>\n",
       "      <td>...</td>\n",
       "      <td>0.0</td>\n",
       "      <td>0</td>\n",
       "      <td>0</td>\n",
       "      <td>0.0</td>\n",
       "      <td>mcmm-yaml</td>\n",
       "      <td>hboutemy</td>\n",
       "      <td>16</td>\n",
       "      <td>0.0</td>\n",
       "      <td>NaN</td>\n",
       "      <td>NaN</td>\n",
       "    </tr>\n",
       "    <tr>\n",
       "      <th>2</th>\n",
       "      <td>96.0</td>\n",
       "      <td>2020-10-07</td>\n",
       "      <td>0.1.0</td>\n",
       "      <td>216.0</td>\n",
       "      <td>Empty</td>\n",
       "      <td>Empty</td>\n",
       "      <td>{}</td>\n",
       "      <td>NaN</td>\n",
       "      <td>NaN</td>\n",
       "      <td>NaN</td>\n",
       "      <td>...</td>\n",
       "      <td>0.0</td>\n",
       "      <td>0</td>\n",
       "      <td>0</td>\n",
       "      <td>0.0</td>\n",
       "      <td>mcmm-yaml</td>\n",
       "      <td>hboutemy</td>\n",
       "      <td>11</td>\n",
       "      <td>0.0</td>\n",
       "      <td>NaN</td>\n",
       "      <td>NaN</td>\n",
       "    </tr>\n",
       "    <tr>\n",
       "      <th>3</th>\n",
       "      <td>96.0</td>\n",
       "      <td>2020-10-07</td>\n",
       "      <td>0.1.0</td>\n",
       "      <td>215.0</td>\n",
       "      <td>Empty</td>\n",
       "      <td>Empty</td>\n",
       "      <td>{}</td>\n",
       "      <td>NaN</td>\n",
       "      <td>NaN</td>\n",
       "      <td>NaN</td>\n",
       "      <td>...</td>\n",
       "      <td>0.0</td>\n",
       "      <td>0</td>\n",
       "      <td>0</td>\n",
       "      <td>0.0</td>\n",
       "      <td>openapi-directory</td>\n",
       "      <td>ltmert</td>\n",
       "      <td>11</td>\n",
       "      <td>1.0</td>\n",
       "      <td>NaN</td>\n",
       "      <td>NaN</td>\n",
       "    </tr>\n",
       "    <tr>\n",
       "      <th>4</th>\n",
       "      <td>96.0</td>\n",
       "      <td>2020-10-07</td>\n",
       "      <td>0.1.0</td>\n",
       "      <td>214.0</td>\n",
       "      <td>Empty</td>\n",
       "      <td>Empty</td>\n",
       "      <td>{}</td>\n",
       "      <td>NaN</td>\n",
       "      <td>NaN</td>\n",
       "      <td>NaN</td>\n",
       "      <td>...</td>\n",
       "      <td>0.0</td>\n",
       "      <td>1</td>\n",
       "      <td>0</td>\n",
       "      <td>0.0</td>\n",
       "      <td>mcmm-yaml</td>\n",
       "      <td>hboutemy</td>\n",
       "      <td>22</td>\n",
       "      <td>0.0</td>\n",
       "      <td>1183.0</td>\n",
       "      <td>NaN</td>\n",
       "    </tr>\n",
       "    <tr>\n",
       "      <th>...</th>\n",
       "      <td>...</td>\n",
       "      <td>...</td>\n",
       "      <td>...</td>\n",
       "      <td>...</td>\n",
       "      <td>...</td>\n",
       "      <td>...</td>\n",
       "      <td>...</td>\n",
       "      <td>...</td>\n",
       "      <td>...</td>\n",
       "      <td>...</td>\n",
       "      <td>...</td>\n",
       "      <td>...</td>\n",
       "      <td>...</td>\n",
       "      <td>...</td>\n",
       "      <td>...</td>\n",
       "      <td>...</td>\n",
       "      <td>...</td>\n",
       "      <td>...</td>\n",
       "      <td>...</td>\n",
       "      <td>...</td>\n",
       "      <td>...</td>\n",
       "    </tr>\n",
       "    <tr>\n",
       "      <th>74579</th>\n",
       "      <td>242156.0</td>\n",
       "      <td>2019-04-21</td>\n",
       "      <td>2016-11-28</td>\n",
       "      <td>664014.0</td>\n",
       "      <td>Empty</td>\n",
       "      <td>Empty</td>\n",
       "      <td>{}</td>\n",
       "      <td>NaN</td>\n",
       "      <td>NaN</td>\n",
       "      <td>NaN</td>\n",
       "      <td>...</td>\n",
       "      <td>0.0</td>\n",
       "      <td>0</td>\n",
       "      <td>0</td>\n",
       "      <td>0.0</td>\n",
       "      <td>openapi-directory-lite</td>\n",
       "      <td>darosh</td>\n",
       "      <td>2</td>\n",
       "      <td>0.0</td>\n",
       "      <td>NaN</td>\n",
       "      <td>NaN</td>\n",
       "    </tr>\n",
       "    <tr>\n",
       "      <th>74580</th>\n",
       "      <td>242156.0</td>\n",
       "      <td>2019-04-30</td>\n",
       "      <td>2016-11-28</td>\n",
       "      <td>664013.0</td>\n",
       "      <td>Empty</td>\n",
       "      <td>Empty</td>\n",
       "      <td>{}</td>\n",
       "      <td>NaN</td>\n",
       "      <td>NaN</td>\n",
       "      <td>NaN</td>\n",
       "      <td>...</td>\n",
       "      <td>0.0</td>\n",
       "      <td>0</td>\n",
       "      <td>0</td>\n",
       "      <td>0.0</td>\n",
       "      <td>corpus</td>\n",
       "      <td>ogen-go</td>\n",
       "      <td>4</td>\n",
       "      <td>0.0</td>\n",
       "      <td>NaN</td>\n",
       "      <td>NaN</td>\n",
       "    </tr>\n",
       "    <tr>\n",
       "      <th>74581</th>\n",
       "      <td>242156.0</td>\n",
       "      <td>2019-06-07</td>\n",
       "      <td>2016-11-28</td>\n",
       "      <td>664012.0</td>\n",
       "      <td>Empty</td>\n",
       "      <td>Empty</td>\n",
       "      <td>Backward compatibility errors (5):\\nerror at s...</td>\n",
       "      <td>compatibility errors</td>\n",
       "      <td>5.0</td>\n",
       "      <td>request-parameter-became-required</td>\n",
       "      <td>...</td>\n",
       "      <td>0.0</td>\n",
       "      <td>0</td>\n",
       "      <td>0</td>\n",
       "      <td>6.0</td>\n",
       "      <td>WellwardEventGrid</td>\n",
       "      <td>dongravlinnordic</td>\n",
       "      <td>4</td>\n",
       "      <td>0.0</td>\n",
       "      <td>NaN</td>\n",
       "      <td>NaN</td>\n",
       "    </tr>\n",
       "    <tr>\n",
       "      <th>74582</th>\n",
       "      <td>242156.0</td>\n",
       "      <td>2019-06-14</td>\n",
       "      <td>2016-11-28</td>\n",
       "      <td>664011.0</td>\n",
       "      <td>Empty</td>\n",
       "      <td>Empty</td>\n",
       "      <td>{}</td>\n",
       "      <td>NaN</td>\n",
       "      <td>NaN</td>\n",
       "      <td>NaN</td>\n",
       "      <td>...</td>\n",
       "      <td>0.0</td>\n",
       "      <td>0</td>\n",
       "      <td>0</td>\n",
       "      <td>0.0</td>\n",
       "      <td>mineranker</td>\n",
       "      <td>francisypl</td>\n",
       "      <td>14</td>\n",
       "      <td>0.0</td>\n",
       "      <td>NaN</td>\n",
       "      <td>NaN</td>\n",
       "    </tr>\n",
       "    <tr>\n",
       "      <th>74583</th>\n",
       "      <td>242156.0</td>\n",
       "      <td>2019-07-02</td>\n",
       "      <td>2016-11-28</td>\n",
       "      <td>664010.0</td>\n",
       "      <td>Empty</td>\n",
       "      <td>Empty</td>\n",
       "      <td>{}</td>\n",
       "      <td>NaN</td>\n",
       "      <td>NaN</td>\n",
       "      <td>NaN</td>\n",
       "      <td>...</td>\n",
       "      <td>0.0</td>\n",
       "      <td>0</td>\n",
       "      <td>0</td>\n",
       "      <td>1.0</td>\n",
       "      <td>training-plan-backend</td>\n",
       "      <td>jgugala</td>\n",
       "      <td>3</td>\n",
       "      <td>0.0</td>\n",
       "      <td>NaN</td>\n",
       "      <td>NaN</td>\n",
       "    </tr>\n",
       "  </tbody>\n",
       "</table>\n",
       "<p>74584 rows × 58 columns</p>\n",
       "</div>"
      ],
      "text/plain": [
       "       api_spec_id commit_date info_version        id  label dom_label   \n",
       "0             96.0  2020-10-06        0.1.0     218.0  Empty     Empty  \\\n",
       "1             96.0  2020-10-07        0.1.0     217.0  Empty     Empty   \n",
       "2             96.0  2020-10-07        0.1.0     216.0  Empty     Empty   \n",
       "3             96.0  2020-10-07        0.1.0     215.0  Empty     Empty   \n",
       "4             96.0  2020-10-07        0.1.0     214.0  Empty     Empty   \n",
       "...            ...         ...          ...       ...    ...       ...   \n",
       "74579     242156.0  2019-04-21   2016-11-28  664014.0  Empty     Empty   \n",
       "74580     242156.0  2019-04-30   2016-11-28  664013.0  Empty     Empty   \n",
       "74581     242156.0  2019-06-07   2016-11-28  664012.0  Empty     Empty   \n",
       "74582     242156.0  2019-06-14   2016-11-28  664011.0  Empty     Empty   \n",
       "74583     242156.0  2019-07-02   2016-11-28  664010.0  Empty     Empty   \n",
       "\n",
       "                                                   diff2   \n",
       "0                                                     {}  \\\n",
       "1                                                     {}   \n",
       "2                                                     {}   \n",
       "3                                                     {}   \n",
       "4                                                     {}   \n",
       "...                                                  ...   \n",
       "74579                                                 {}   \n",
       "74580                                                 {}   \n",
       "74581  Backward compatibility errors (5):\\nerror at s...   \n",
       "74582                                                 {}   \n",
       "74583                                                 {}   \n",
       "\n",
       "                     errors  count                            content  ...   \n",
       "0                       NaN    NaN                                NaN  ...  \\\n",
       "1                       NaN    NaN                                NaN  ...   \n",
       "2                       NaN    NaN                                NaN  ...   \n",
       "3                       NaN    NaN                                NaN  ...   \n",
       "4                       NaN    NaN                                NaN  ...   \n",
       "...                     ...    ...                                ...  ...   \n",
       "74579                   NaN    NaN                                NaN  ...   \n",
       "74580                   NaN    NaN                                NaN  ...   \n",
       "74581  compatibility errors    5.0  request-parameter-became-required  ...   \n",
       "74582                   NaN    NaN                                NaN  ...   \n",
       "74583                   NaN    NaN                                NaN  ...   \n",
       "\n",
       "       Security_modified Security_added Security_deleted Endpoints_modified   \n",
       "0                    0.0              0                0                0.0  \\\n",
       "1                    0.0              0                0                0.0   \n",
       "2                    0.0              0                0                0.0   \n",
       "3                    0.0              0                0                0.0   \n",
       "4                    0.0              1                0                0.0   \n",
       "...                  ...            ...              ...                ...   \n",
       "74579                0.0              0                0                0.0   \n",
       "74580                0.0              0                0                0.0   \n",
       "74581                0.0              0                0                6.0   \n",
       "74582                0.0              0                0                0.0   \n",
       "74583                0.0              0                0                1.0   \n",
       "\n",
       "                    repo_name             owner  commits   \n",
       "0          community-calendar     stephenhoward       20  \\\n",
       "1                   mcmm-yaml          hboutemy       16   \n",
       "2                   mcmm-yaml          hboutemy       11   \n",
       "3           openapi-directory            ltmert       11   \n",
       "4                   mcmm-yaml          hboutemy       22   \n",
       "...                       ...               ...      ...   \n",
       "74579  openapi-directory-lite            darosh        2   \n",
       "74580                  corpus           ogen-go        4   \n",
       "74581       WellwardEventGrid  dongravlinnordic        4   \n",
       "74582              mineranker        francisypl       14   \n",
       "74583   training-plan-backend           jgugala        3   \n",
       "\n",
       "       info_versions_changes  api_age  growth_classification  \n",
       "0                        0.0      NaN                    NaN  \n",
       "1                        0.0      NaN                    NaN  \n",
       "2                        0.0      NaN                    NaN  \n",
       "3                        1.0      NaN                    NaN  \n",
       "4                        0.0   1183.0                    NaN  \n",
       "...                      ...      ...                    ...  \n",
       "74579                    0.0      NaN                    NaN  \n",
       "74580                    0.0      NaN                    NaN  \n",
       "74581                    0.0      NaN                    NaN  \n",
       "74582                    0.0      NaN                    NaN  \n",
       "74583                    0.0      NaN                    NaN  \n",
       "\n",
       "[74584 rows x 58 columns]"
      ]
     },
     "execution_count": 5,
     "metadata": {},
     "output_type": "execute_result"
    }
   ],
   "source": [
    "df"
   ]
  },
  {
   "cell_type": "code",
   "execution_count": 6,
   "metadata": {},
   "outputs": [
    {
     "name": "stderr",
     "output_type": "stream",
     "text": [
      "/var/folders/27/mp6sy3_d6_lgz19hyp_8n8z40000gn/T/ipykernel_7135/26112486.py:3: SettingWithCopyWarning: \n",
      "A value is trying to be set on a copy of a slice from a DataFrame\n",
      "\n",
      "See the caveats in the documentation: https://pandas.pydata.org/pandas-docs/stable/user_guide/indexing.html#returning-a-view-versus-a-copy\n",
      "  labels.fillna(0, inplace=True)\n"
     ]
    }
   ],
   "source": [
    "allowed_labels = ['major', 'minor', 'patch']\n",
    "labels = df[df['label'].isin(allowed_labels)]\n",
    "labels.fillna(0, inplace=True)"
   ]
  },
  {
   "cell_type": "code",
   "execution_count": 7,
   "metadata": {},
   "outputs": [
    {
     "name": "stdout",
     "output_type": "stream",
     "text": [
      "Accuracy:  0.1514453288646837\n",
      "Precision:  0.5783696999482134\n",
      "              precision    recall  f1-score   support\n",
      "\n",
      "       major       0.04      0.73      0.08       222\n",
      "       minor       0.27      0.13      0.18      1014\n",
      "       patch       0.70      0.12      0.21      3538\n",
      "\n",
      "    accuracy                           0.15      4774\n",
      "   macro avg       0.34      0.33      0.16      4774\n",
      "weighted avg       0.58      0.15      0.19      4774\n",
      "\n"
     ]
    },
    {
     "name": "stderr",
     "output_type": "stream",
     "text": [
      "/var/folders/27/mp6sy3_d6_lgz19hyp_8n8z40000gn/T/ipykernel_7135/2154401288.py:23: SettingWithCopyWarning: \n",
      "A value is trying to be set on a copy of a slice from a DataFrame.\n",
      "Try using .loc[row_indexer,col_indexer] = value instead\n",
      "\n",
      "See the caveats in the documentation: https://pandas.pydata.org/pandas-docs/stable/user_guide/indexing.html#returning-a-view-versus-a-copy\n",
      "  labels[\"predicted_labels\"] = predicted_labels\n"
     ]
    }
   ],
   "source": [
    "# Model Training on cleaned Data\n",
    "scaler = StandardScaler()\n",
    "\n",
    "# Get columns to use\n",
    "cols_to_use = labels[['Endpoints_added', 'Endpoints_deleted','Components_parameters_added', 'Paths_added', 'Paths_deleted', 'Components_Schemas_Added', 'Components_Schemas_Deleted', 'Info_description_changes', 'Paths_modified', 'Endpoints_modified']].columns\n",
    "\n",
    "data_scaled = scaler.fit_transform(labels[cols_to_use])\n",
    "\n",
    "# Define the model\n",
    "model = GaussianMixture(n_components=3, random_state=32, max_iter=200, init_params='random', covariance_type='full', n_init=1, warm_start=True)\n",
    "\n",
    "# Fit the model\n",
    "model.fit(data_scaled)\n",
    "\n",
    "# Get the cluster labels\n",
    "cluster_labels = model.predict(data_scaled)\n",
    "\n",
    "# Map the cluster labels to major, minor, and patch labels\n",
    "label_map = {0: \"major\", 1: \"minor\", 2: \"patch\"}\n",
    "predicted_labels = [label_map[label] for label in cluster_labels]\n",
    "\n",
    "# Add the major, minor, and patch labels to the dataframe\n",
    "labels[\"predicted_labels\"] = predicted_labels\n",
    "\n",
    "# Accuracy\n",
    "print(\"Accuracy: \", accuracy_score(labels[\"label\"], labels[\"predicted_labels\"]))\n",
    "print(\"Precision: \", precision_score(labels[\"label\"], labels[\"predicted_labels\"], average='weighted'))\n",
    "# Classification report\n",
    "print(classification_report(labels[\"label\"], labels[\"predicted_labels\"]))\n",
    "\n"
   ]
  },
  {
   "cell_type": "code",
   "execution_count": 8,
   "metadata": {},
   "outputs": [
    {
     "name": "stdout",
     "output_type": "stream",
     "text": [
      "<class 'pandas.core.frame.DataFrame'>\n",
      "Index: 4774 entries, 39 to 73895\n",
      "Data columns (total 59 columns):\n",
      " #   Column                                Non-Null Count  Dtype  \n",
      "---  ------                                --------------  -----  \n",
      " 0   api_spec_id                           4774 non-null   float64\n",
      " 1   commit_date                           4774 non-null   object \n",
      " 2   info_version                          4774 non-null   object \n",
      " 3   id                                    4774 non-null   float64\n",
      " 4   label                                 4774 non-null   object \n",
      " 5   dom_label                             4774 non-null   object \n",
      " 6   diff2                                 4774 non-null   object \n",
      " 7   errors                                4774 non-null   object \n",
      " 8   count                                 4774 non-null   float64\n",
      " 9   content                               4774 non-null   object \n",
      " 10  Year                                  4774 non-null   int64  \n",
      " 11  type_of_change                        4774 non-null   object \n",
      " 12  externalDocs.added                    4774 non-null   object \n",
      " 13  externalDocs.deleted                  4774 non-null   object \n",
      " 14  Info_contact_name_changes             4774 non-null   int64  \n",
      " 15  Servers_modified                      4774 non-null   float64\n",
      " 16  Endpoints_added                       4774 non-null   int64  \n",
      " 17  Endpoints_deleted                     4774 non-null   int64  \n",
      " 18  Components_parameters_added           4774 non-null   int64  \n",
      " 19  Servers_added                         4774 non-null   int64  \n",
      " 20  Servers_deleted                       4774 non-null   int64  \n",
      " 21  Paths_added                           4774 non-null   int64  \n",
      " 22  Paths_deleted                         4774 non-null   int64  \n",
      " 23  Components_Security_Schemes_added     4774 non-null   int64  \n",
      " 24  Components_Security_Schemes_deleted   4774 non-null   int64  \n",
      " 25  Tags_added                            4774 non-null   int64  \n",
      " 26  Tags_deleted                          4774 non-null   int64  \n",
      " 27  Components_Headers_Added              4774 non-null   int64  \n",
      " 28  Components_Headers_Deleted            4774 non-null   int64  \n",
      " 29  Components_Request_Bodies_Added       4774 non-null   int64  \n",
      " 30  Components_Request_Bodies_Deleted     4774 non-null   int64  \n",
      " 31  Components_Responses_Added            4774 non-null   int64  \n",
      " 32  Components_Responses_Deleted          4774 non-null   int64  \n",
      " 33  Components_Schemas_Added              4774 non-null   int64  \n",
      " 34  Components_Schemas_Deleted            4774 non-null   int64  \n",
      " 35  Components_Links_Added                4774 non-null   int64  \n",
      " 36  Components_Links_Deleted              4774 non-null   int64  \n",
      " 37  Info_title_changes                    4774 non-null   int64  \n",
      " 38  Info_description_changes              4774 non-null   int64  \n",
      " 39  Info_contact_url_changes              4774 non-null   int64  \n",
      " 40  Info_contact_email_changes            4774 non-null   int64  \n",
      " 41  Info_license_name_changes             4774 non-null   int64  \n",
      " 42  Info_license_url_changes              4774 non-null   int64  \n",
      " 43  Info_termsOfService_changes           4774 non-null   int64  \n",
      " 44  Components_parameters_deleted         4774 non-null   int64  \n",
      " 45  Components_Security_Schemes_modified  4774 non-null   float64\n",
      " 46  Tags_modified                         4774 non-null   float64\n",
      " 47  Paths_modified                        4774 non-null   float64\n",
      " 48  Security_modified                     4774 non-null   float64\n",
      " 49  Security_added                        4774 non-null   int64  \n",
      " 50  Security_deleted                      4774 non-null   int64  \n",
      " 51  Endpoints_modified                    4774 non-null   float64\n",
      " 52  repo_name                             4774 non-null   object \n",
      " 53  owner                                 4774 non-null   object \n",
      " 54  commits                               4774 non-null   int64  \n",
      " 55  info_versions_changes                 4774 non-null   float64\n",
      " 56  api_age                               4774 non-null   float64\n",
      " 57  growth_classification                 4774 non-null   object \n",
      " 58  predicted_labels                      4774 non-null   object \n",
      "dtypes: float64(11), int64(34), object(14)\n",
      "memory usage: 2.2+ MB\n"
     ]
    }
   ],
   "source": [
    "labels.info()"
   ]
  },
  {
   "cell_type": "markdown",
   "metadata": {},
   "source": [
    "#### PCA on Cleaned Data"
   ]
  },
  {
   "cell_type": "code",
   "execution_count": 9,
   "metadata": {},
   "outputs": [
    {
     "name": "stdout",
     "output_type": "stream",
     "text": [
      "Shape before PCA:  (4774, 40)\n",
      "Shape after PCA:  (4774, 2)\n"
     ]
    }
   ],
   "source": [
    "from sklearn.decomposition import PCA\n",
    "\n",
    "\n",
    "X = labels.loc[:, \"externalDocs.added\":\"Endpoints_modified\"]\n",
    "y = labels['label']\n",
    "\n",
    "# data scaling\n",
    "x_scaled = StandardScaler().fit_transform(X)\n",
    "\n",
    "pca = PCA(n_components=2)\n",
    " \n",
    "pca_features = pca.fit_transform(x_scaled)\n",
    " \n",
    "print('Shape before PCA: ', x_scaled.shape)\n",
    "print('Shape after PCA: ', pca_features.shape)\n",
    "\n",
    "pca_df = pd.DataFrame(\n",
    "    data=pca_features, \n",
    "    columns=['PC1', 'PC2'])"
   ]
  },
  {
   "cell_type": "code",
   "execution_count": 10,
   "metadata": {},
   "outputs": [
    {
     "name": "stderr",
     "output_type": "stream",
     "text": [
      "/Library/Frameworks/Python.framework/Versions/3.11/lib/python3.11/site-packages/sklearn/utils/deprecation.py:101: FutureWarning: Attribute `n_features_` was deprecated in version 1.2 and will be removed in 1.4. Use `n_features_in_` instead.\n",
      "  warnings.warn(msg, category=FutureWarning)\n"
     ]
    },
    {
     "data": {
      "text/html": [
       "<div>\n",
       "<style scoped>\n",
       "    .dataframe tbody tr th:only-of-type {\n",
       "        vertical-align: middle;\n",
       "    }\n",
       "\n",
       "    .dataframe tbody tr th {\n",
       "        vertical-align: top;\n",
       "    }\n",
       "\n",
       "    .dataframe thead th {\n",
       "        text-align: right;\n",
       "    }\n",
       "</style>\n",
       "<table border=\"1\" class=\"dataframe\">\n",
       "  <thead>\n",
       "    <tr style=\"text-align: right;\">\n",
       "      <th></th>\n",
       "      <th>PC1</th>\n",
       "      <th>PC2</th>\n",
       "    </tr>\n",
       "    <tr>\n",
       "      <th>feature_names</th>\n",
       "      <th></th>\n",
       "      <th></th>\n",
       "    </tr>\n",
       "  </thead>\n",
       "  <tbody>\n",
       "    <tr>\n",
       "      <th>externalDocs.added</th>\n",
       "      <td>0.044034</td>\n",
       "      <td>0.112782</td>\n",
       "    </tr>\n",
       "    <tr>\n",
       "      <th>externalDocs.deleted</th>\n",
       "      <td>0.005206</td>\n",
       "      <td>0.001479</td>\n",
       "    </tr>\n",
       "    <tr>\n",
       "      <th>Info_contact_name_changes</th>\n",
       "      <td>0.003324</td>\n",
       "      <td>0.075387</td>\n",
       "    </tr>\n",
       "    <tr>\n",
       "      <th>Servers_modified</th>\n",
       "      <td>-0.005109</td>\n",
       "      <td>-0.007814</td>\n",
       "    </tr>\n",
       "    <tr>\n",
       "      <th>Endpoints_added</th>\n",
       "      <td>0.413378</td>\n",
       "      <td>-0.048503</td>\n",
       "    </tr>\n",
       "    <tr>\n",
       "      <th>Endpoints_deleted</th>\n",
       "      <td>0.479495</td>\n",
       "      <td>-0.134255</td>\n",
       "    </tr>\n",
       "    <tr>\n",
       "      <th>Components_parameters_added</th>\n",
       "      <td>0.082224</td>\n",
       "      <td>0.094533</td>\n",
       "    </tr>\n",
       "    <tr>\n",
       "      <th>Servers_added</th>\n",
       "      <td>0.064878</td>\n",
       "      <td>-0.000301</td>\n",
       "    </tr>\n",
       "    <tr>\n",
       "      <th>Servers_deleted</th>\n",
       "      <td>0.074014</td>\n",
       "      <td>-0.010636</td>\n",
       "    </tr>\n",
       "    <tr>\n",
       "      <th>Paths_added</th>\n",
       "      <td>0.413807</td>\n",
       "      <td>-0.057112</td>\n",
       "    </tr>\n",
       "    <tr>\n",
       "      <th>Paths_deleted</th>\n",
       "      <td>0.478565</td>\n",
       "      <td>-0.137804</td>\n",
       "    </tr>\n",
       "    <tr>\n",
       "      <th>Components_Security_Schemes_added</th>\n",
       "      <td>0.037742</td>\n",
       "      <td>0.043157</td>\n",
       "    </tr>\n",
       "    <tr>\n",
       "      <th>Components_Security_Schemes_deleted</th>\n",
       "      <td>0.029310</td>\n",
       "      <td>0.017145</td>\n",
       "    </tr>\n",
       "    <tr>\n",
       "      <th>Tags_added</th>\n",
       "      <td>0.106367</td>\n",
       "      <td>0.047019</td>\n",
       "    </tr>\n",
       "    <tr>\n",
       "      <th>Tags_deleted</th>\n",
       "      <td>0.079465</td>\n",
       "      <td>0.033063</td>\n",
       "    </tr>\n",
       "    <tr>\n",
       "      <th>Components_Headers_Added</th>\n",
       "      <td>0.048315</td>\n",
       "      <td>0.088454</td>\n",
       "    </tr>\n",
       "    <tr>\n",
       "      <th>Components_Headers_Deleted</th>\n",
       "      <td>0.029153</td>\n",
       "      <td>0.180659</td>\n",
       "    </tr>\n",
       "    <tr>\n",
       "      <th>Components_Request_Bodies_Added</th>\n",
       "      <td>0.077012</td>\n",
       "      <td>0.196927</td>\n",
       "    </tr>\n",
       "    <tr>\n",
       "      <th>Components_Request_Bodies_Deleted</th>\n",
       "      <td>0.024210</td>\n",
       "      <td>0.096510</td>\n",
       "    </tr>\n",
       "    <tr>\n",
       "      <th>Components_Responses_Added</th>\n",
       "      <td>0.054230</td>\n",
       "      <td>0.074638</td>\n",
       "    </tr>\n",
       "    <tr>\n",
       "      <th>Components_Responses_Deleted</th>\n",
       "      <td>0.027224</td>\n",
       "      <td>0.004784</td>\n",
       "    </tr>\n",
       "    <tr>\n",
       "      <th>Components_Schemas_Added</th>\n",
       "      <td>0.146796</td>\n",
       "      <td>0.118134</td>\n",
       "    </tr>\n",
       "    <tr>\n",
       "      <th>Components_Schemas_Deleted</th>\n",
       "      <td>0.297966</td>\n",
       "      <td>-0.091560</td>\n",
       "    </tr>\n",
       "    <tr>\n",
       "      <th>Components_Links_Added</th>\n",
       "      <td>-0.000000</td>\n",
       "      <td>-0.000000</td>\n",
       "    </tr>\n",
       "    <tr>\n",
       "      <th>Components_Links_Deleted</th>\n",
       "      <td>-0.000000</td>\n",
       "      <td>-0.000000</td>\n",
       "    </tr>\n",
       "    <tr>\n",
       "      <th>Info_title_changes</th>\n",
       "      <td>0.104736</td>\n",
       "      <td>0.002966</td>\n",
       "    </tr>\n",
       "    <tr>\n",
       "      <th>Info_description_changes</th>\n",
       "      <td>-0.007573</td>\n",
       "      <td>-0.000431</td>\n",
       "    </tr>\n",
       "    <tr>\n",
       "      <th>Info_contact_url_changes</th>\n",
       "      <td>0.033486</td>\n",
       "      <td>0.064491</td>\n",
       "    </tr>\n",
       "    <tr>\n",
       "      <th>Info_contact_email_changes</th>\n",
       "      <td>0.006010</td>\n",
       "      <td>0.041112</td>\n",
       "    </tr>\n",
       "    <tr>\n",
       "      <th>Info_license_name_changes</th>\n",
       "      <td>-0.004704</td>\n",
       "      <td>0.017195</td>\n",
       "    </tr>\n",
       "    <tr>\n",
       "      <th>Info_license_url_changes</th>\n",
       "      <td>0.020533</td>\n",
       "      <td>0.047206</td>\n",
       "    </tr>\n",
       "    <tr>\n",
       "      <th>Info_termsOfService_changes</th>\n",
       "      <td>0.009238</td>\n",
       "      <td>0.254928</td>\n",
       "    </tr>\n",
       "    <tr>\n",
       "      <th>Components_parameters_deleted</th>\n",
       "      <td>0.029907</td>\n",
       "      <td>0.044476</td>\n",
       "    </tr>\n",
       "    <tr>\n",
       "      <th>Components_Security_Schemes_modified</th>\n",
       "      <td>0.032463</td>\n",
       "      <td>0.036857</td>\n",
       "    </tr>\n",
       "    <tr>\n",
       "      <th>Tags_modified</th>\n",
       "      <td>0.044964</td>\n",
       "      <td>0.342066</td>\n",
       "    </tr>\n",
       "    <tr>\n",
       "      <th>Paths_modified</th>\n",
       "      <td>0.094262</td>\n",
       "      <td>0.545488</td>\n",
       "    </tr>\n",
       "    <tr>\n",
       "      <th>Security_modified</th>\n",
       "      <td>-0.003416</td>\n",
       "      <td>-0.006633</td>\n",
       "    </tr>\n",
       "    <tr>\n",
       "      <th>Security_added</th>\n",
       "      <td>0.032788</td>\n",
       "      <td>0.036875</td>\n",
       "    </tr>\n",
       "    <tr>\n",
       "      <th>Security_deleted</th>\n",
       "      <td>0.029602</td>\n",
       "      <td>-0.000687</td>\n",
       "    </tr>\n",
       "    <tr>\n",
       "      <th>Endpoints_modified</th>\n",
       "      <td>0.096597</td>\n",
       "      <td>0.561452</td>\n",
       "    </tr>\n",
       "  </tbody>\n",
       "</table>\n",
       "</div>"
      ],
      "text/plain": [
       "                                           PC1       PC2\n",
       "feature_names                                           \n",
       "externalDocs.added                    0.044034  0.112782\n",
       "externalDocs.deleted                  0.005206  0.001479\n",
       "Info_contact_name_changes             0.003324  0.075387\n",
       "Servers_modified                     -0.005109 -0.007814\n",
       "Endpoints_added                       0.413378 -0.048503\n",
       "Endpoints_deleted                     0.479495 -0.134255\n",
       "Components_parameters_added           0.082224  0.094533\n",
       "Servers_added                         0.064878 -0.000301\n",
       "Servers_deleted                       0.074014 -0.010636\n",
       "Paths_added                           0.413807 -0.057112\n",
       "Paths_deleted                         0.478565 -0.137804\n",
       "Components_Security_Schemes_added     0.037742  0.043157\n",
       "Components_Security_Schemes_deleted   0.029310  0.017145\n",
       "Tags_added                            0.106367  0.047019\n",
       "Tags_deleted                          0.079465  0.033063\n",
       "Components_Headers_Added              0.048315  0.088454\n",
       "Components_Headers_Deleted            0.029153  0.180659\n",
       "Components_Request_Bodies_Added       0.077012  0.196927\n",
       "Components_Request_Bodies_Deleted     0.024210  0.096510\n",
       "Components_Responses_Added            0.054230  0.074638\n",
       "Components_Responses_Deleted          0.027224  0.004784\n",
       "Components_Schemas_Added              0.146796  0.118134\n",
       "Components_Schemas_Deleted            0.297966 -0.091560\n",
       "Components_Links_Added               -0.000000 -0.000000\n",
       "Components_Links_Deleted             -0.000000 -0.000000\n",
       "Info_title_changes                    0.104736  0.002966\n",
       "Info_description_changes             -0.007573 -0.000431\n",
       "Info_contact_url_changes              0.033486  0.064491\n",
       "Info_contact_email_changes            0.006010  0.041112\n",
       "Info_license_name_changes            -0.004704  0.017195\n",
       "Info_license_url_changes              0.020533  0.047206\n",
       "Info_termsOfService_changes           0.009238  0.254928\n",
       "Components_parameters_deleted         0.029907  0.044476\n",
       "Components_Security_Schemes_modified  0.032463  0.036857\n",
       "Tags_modified                         0.044964  0.342066\n",
       "Paths_modified                        0.094262  0.545488\n",
       "Security_modified                    -0.003416 -0.006633\n",
       "Security_added                        0.032788  0.036875\n",
       "Security_deleted                      0.029602 -0.000687\n",
       "Endpoints_modified                    0.096597  0.561452"
      ]
     },
     "execution_count": 10,
     "metadata": {},
     "output_type": "execute_result"
    }
   ],
   "source": [
    "# Principal components correlation coefficients\n",
    "loadings = pca.components_\n",
    " \n",
    "# Number of features before PCA\n",
    "n_features = pca.n_features_\n",
    " \n",
    "# Feature names before PCA\n",
    "feature_names = X.columns\n",
    "\n",
    " \n",
    "# PC names\n",
    "pc_list = [f'PC{i}' for i in list(range(1, n_features + 1))]\n",
    " \n",
    "# Match PC names to loadings\n",
    "pc_loadings = dict(zip(pc_list, loadings))\n",
    " \n",
    "# Matrix of corr coefs between feature names and PCs\n",
    "loadings_df = pd.DataFrame.from_dict(pc_loadings)\n",
    "loadings_df['feature_names'] = feature_names\n",
    "loadings_df = loadings_df.set_index('feature_names')\n",
    "\n",
    "# Print the resulting loadings_df\n",
    "loadings_df"
   ]
  },
  {
   "cell_type": "code",
   "execution_count": 11,
   "metadata": {},
   "outputs": [],
   "source": [
    "# Merge the principal components with the original dataframe\n",
    "pca_df = pd.concat([pca_df, labels[['label','predicted_labels','Year']]], axis=1)\n",
    "\n",
    "\n"
   ]
  },
  {
   "cell_type": "code",
   "execution_count": 12,
   "metadata": {},
   "outputs": [],
   "source": [
    "# Set correlation threshold\n",
    "threshold = 0.01\n",
    "\n",
    "# Filter loadings_df based on threshold\n",
    "loadings_df_high_corr = loadings_df[loadings_df.abs() > threshold]\n",
    "\n",
    "# Drop rows with all NaN values\n",
    "loadings_df_high_corr = loadings_df_high_corr.dropna()"
   ]
  },
  {
   "cell_type": "code",
   "execution_count": 13,
   "metadata": {},
   "outputs": [
    {
     "data": {
      "application/vnd.plotly.v1+json": {
       "config": {
        "plotlyServerURL": "https://plotly.com"
       },
       "data": [
        {
         "marker": {
          "color": [
           -0.5603491631623951,
           -0.9074497747248986,
           -0.11011847772321026,
           0.31942684447003417,
           -1.2998883901372738,
           -0.10629623238622452,
           0.9828527329629138,
           1.1827735725534023,
           0.3575096388244308,
           -0.5406079478928524,
           1.618028823627396,
           0.5610891393556148,
           -0.8626033611654567,
           0.20696209307903146,
           0.897165550596205,
           1.1611257823815953,
           -0.20906479318858334,
           0.4396154333508346,
           -0.1534033142636163,
           -1.3287666128718463,
           1.5072978146898444,
           0.19092942397373924,
           0.15899485073341552,
           0.8994293380014836,
           -1.5871232475664383,
           -0.7212932562769886,
           0.8298246450786133,
           -1.4640132409900597,
           0.3132764169900481,
           -0.7463394107515193,
           0.4291815818819625,
           0.3287591513901105,
           -0.30896003431501085,
           0.39768742612387337,
           1.5551615504287144,
           -0.6056817402301318,
           -0.7708783525538729,
           -1.2889554403430972,
           0.9867395848776735,
           1.111610149475639,
           -0.29389310399492663,
           -0.9840308423007259,
           -0.05375225276537083,
           0.7959599901654189,
           0.584662693429409,
           0.46433378148953636,
           1.522822083789801,
           -0.0016083626948742045,
           -1.5297076054296574,
           -0.09555817577011547,
           -1.8439516980792303,
           -0.9949648909727267,
           -1.6617006260174434,
           -1.6152296834338207,
           0.3663663417417353,
           0.2689481292517894,
           0.28934981849749364,
           -0.21719388941971113,
           1.691007263001096,
           0.42182864186699703,
           0.2375634496405445,
           0.9912178682636782,
           -0.6225436942894743,
           -0.163361632188303,
           0.2009396635276296,
           -1.2225470025481298,
           -2.2327721250309964,
           -0.9210654589474367,
           -0.5317347733188942,
           0.04684675144369676,
           0.5199661057569637,
           -0.6785550769415567,
           0.20466152564001094,
           0.6246260428387196,
           0.41474195374146217,
           -0.45041996942168144,
           0.2537606611642345,
           1.7053929192349124,
           -0.20475139397085726,
           1.469670841150124,
           1.9363349629804045,
           0.5115272314030067,
           -0.4230636591834689,
           1.47392794094531,
           1.0077198673916647,
           1.143104697673843,
           -1.201573362323473,
           1.412147525944685,
           0.17149806215310898,
           -2.1543218098551944,
           0.47681914119096647,
           -0.4932783054852218,
           -1.319493084223708,
           -1.01251704409415,
           0.7567158024173183,
           0.04607066238542769,
           1.7369882177008058,
           -2.7048181623688814,
           0.30206100693228427,
           0.4818554366673735,
           -0.8392820586015493,
           0.5857589921756209,
           -0.6267458731122665,
           -0.4641964289868256,
           0.4492425700162769,
           -1.7440696284999289,
           -0.9473546159492793,
           -1.3134198121106748,
           1.1546871948180786,
           -0.3111634795140275,
           0.2975019897323641,
           0.29280566821318077,
           -1.2089107300879063,
           -1.3310338943880053,
           1.1928580068785526,
           0.5093355492202088,
           1.680855536392851,
           -0.9771238786497258,
           -0.0578934417201349,
           -1.4033217867291992,
           0.25299515042529536,
           0.17813213073963863,
           1.386219678981848,
           1.111516784438165,
           -0.10717479838639313,
           0.6175928433029366,
           -1.4518668104156374,
           1.1249383518454144,
           0.47333194366438636,
           -0.1973239316391152,
           -0.31367636395742726,
           -0.12050689547438417,
           0.7483567903351842,
           0.2542959733502946,
           -0.5523997829343001,
           0.6567315109937791,
           0.10548691466237736,
           0.5697164149597861,
           0.6090853108512817,
           0.49302392235536024,
           -1.745610818001815,
           0.018798677777091446,
           -1.8492616328495928,
           -0.05896315450073286,
           0.1402512188946252,
           0.7181187136750466,
           1.0777389417858259,
           -0.22137472014824822,
           0.28828690661084405,
           0.08590360398648754,
           -1.079881381274681,
           -0.9606153964935759,
           0.31568588088259386,
           -0.9021192014559561,
           -0.31736137871513914,
           -1.1732070747498369,
           0.9410677910240028,
           -2.075571394837434,
           -0.12561000078621387,
           -0.5502844018310138,
           -1.0796492176282628,
           -0.9887400811431564,
           -2.1738095087003124,
           -0.6673952686160883,
           -0.5059585494722176,
           0.2944934748626554,
           -1.0897754128656654,
           0.02184838011470741,
           -1.4134142106303988,
           0.5512644207527023,
           1.4812433548084964,
           1.0815692237261656,
           -1.0452715378938342,
           1.233185812022569,
           -0.6530530986196743,
           0.564545009896765,
           0.4248526430831406,
           1.1658648225979724,
           -0.1490894291733556,
           -1.0420163524275519,
           -0.1285371957415209,
           -0.5115152136052188,
           -0.3229664138454864,
           0.629540699765776,
           0.7251888618831978,
           0.2323482271275861,
           0.15415751441242342,
           -0.9986920503125163,
           -1.3181073615113443,
           -1.1952160200491975,
           1.1086118947220058,
           -0.6224101498964536,
           -0.6832729223759396,
           1.1700082040566133,
           1.8721906297766822,
           0.6788128074905307,
           0.8973267346676765,
           1.5102836060415274,
           0.18996118446631047,
           1.7487888274564864,
           -0.40476197111367584,
           -0.9817991304892674,
           0.12070885779662416,
           -0.4911661253888703,
           1.642359559665039,
           -0.23232043455217405,
           0.4337346195177806,
           0.338384887757241,
           0.05349917158837435,
           -0.7190762472976103,
           0.05220202933194397,
           1.6048706399261954,
           -0.013696575485487146,
           1.108372575096998,
           -1.7966475488726876,
           0.8421225698482773,
           -0.3309701982709371,
           -0.9128366063654049,
           0.0436099488149663,
           0.05873877018414414,
           0.7039479299181657,
           -1.250118840819216,
           1.4437031302773449,
           0.7967373767848516,
           -0.03428603627307593,
           -1.2899452823659916,
           -0.023505521238718068,
           -0.6598639710589156,
           -0.2127770904343133,
           -0.46189889571006093,
           -0.6241657044110145,
           0.534675686655274,
           1.0669579122612316,
           -1.9196837071487296,
           -1.7739674669738386,
           0.7542348841867962,
           1.056348411645727,
           0.9174263896096867,
           0.4657731425507247,
           1.7977882124228515,
           -0.8376767612607964,
           -0.7609746072989767,
           0.6378874866761596,
           -0.06458999816308747,
           1.1874245237279426,
           0.6655144776309192,
           -0.5439204743971123,
           -0.007423790464638774,
           -0.493115986137362,
           -0.6325195606425783,
           -0.8755045946736448,
           1.6443780521307148,
           0.7609256282259446,
           2.006981165634431,
           0.18792043980374978,
           -0.29455996755021424,
           0.9739469851917703,
           -1.0526022758640914,
           0.06817602836809568,
           0.36553264884608055,
           -0.405401310343153,
           -0.7509834299372847,
           0.35617043599423487,
           -0.8435534534015694,
           0.5808710757559248,
           -0.1556111226024876,
           -0.17454057168795978,
           -1.0534012192306508,
           -1.5089346800877579,
           -0.7982630398346804,
           0.12754617450142042,
           0.17493540161526197,
           -0.0617496290108985,
           -1.209971889482276,
           1.7942058811215842,
           1.1799365703961093,
           -0.7758260317032047,
           0.6298174434210894,
           -0.41352096295450913,
           0.44310056617721705,
           0.04843640254027403,
           0.0007926355442180587,
           -2.5720091279904804,
           0.48467893889217123,
           0.044742176775426384,
           -0.23637944607779893,
           0.06355511889999786,
           0.10874686783595668,
           -0.9950742360091711,
           -2.038641243181321,
           -0.09440048149843112,
           1.148308868372557,
           -1.2223325541832586,
           -0.250272533991768,
           -0.9793089553146077,
           1.9839721106664354,
           -1.7227835469959871,
           -0.15216672842696732,
           0.45058856739588826,
           0.6983718831599136,
           0.1671604243151647,
           -2.9920645532967347,
           -1.707955525298337,
           -0.8269940903277093,
           -1.0053052497255797,
           0.260479887715581,
           -0.10286054099705909,
           -1.0889841768646393,
           1.1768611334436516,
           0.5806345008242247,
           0.265492328625676,
           -1.1439177903890485,
           -1.3610563500024564,
           0.06444625050017938,
           0.4431399651194248,
           1.7401715510764182,
           0.6387744221883271,
           0.13385245475914503,
           -2.5511986132726086,
           0.8358693912397787,
           0.38997492466821454,
           -1.3430323128029835,
           -0.011108077939238563,
           -0.4625737323977915,
           -0.6534853742173397,
           2.3733623852213452,
           0.4178425345600455,
           -0.28416129140306984,
           0.36301742864823106,
           0.8650557670948675,
           1.4572124999984852,
           0.7655289212055802,
           0.5748612426208761,
           0.26503643350153616,
           -0.3348973619994831,
           0.23274169066341743,
           -0.08555320464102746,
           -0.9522526401515082,
           -0.6814353404812996,
           -0.11473100540364957,
           -1.5260914280404023,
           -1.2827459510809462,
           0.7811233165073692,
           1.0271448283528877,
           0.12105370995861542,
           -1.0893718771147352,
           -0.6835857456885297,
           -0.4234750105674858,
           -0.016173585434180907,
           -1.2705534500297118,
           -1.5217618445089254,
           0.02804224584213546,
           -0.44941164353524554,
           -1.7740659171626199,
           -0.15016513378428778,
           -0.13598779337644543,
           0.3234820804359254,
           -0.9195888449523321,
           1.7532436443224264,
           -0.34275614307041746,
           -1.2839938150303738,
           -0.2999065796895979,
           1.3643768981268818,
           0.15236895318988944,
           0.32478089495476176,
           1.129927708098303,
           -0.6676371418620805,
           0.21378612753499765,
           0.28836066917322284,
           0.4271478287373079,
           -0.49100750829316137,
           0.10653155589656568,
           -0.11360138573262742,
           -1.0325342406949403,
           -0.4479038117304448,
           0.5877583478166982,
           -1.0732353579490488,
           1.799133604971952,
           1.3895869741447877,
           -0.8833122050926567,
           1.428121110589083,
           -0.7278017104716225,
           -0.10599479695480654,
           -0.9580432547728476,
           0.30503689499380154,
           0.6720605401170321,
           -0.004011459744828641,
           1.1222236299063517,
           0.6103739026343155,
           0.47921905178304136,
           0.8846976215931938,
           0.07123113386091737,
           -0.3650791831536219,
           -1.1923478357488297,
           0.9090200523036344,
           -0.6872161047843018,
           1.0067828346098688,
           -0.4903527076739199,
           1.0826632349615912,
           0.5631322970944105,
           0.527501021469464,
           -1.347632198938008,
           0.7523861594980308,
           -0.189046921595444,
           -0.32325246984602013,
           0.908032448406341,
           0.005735103682625902,
           0.3373842269451369,
           0.9565556171998417,
           1.7457207430861608,
           -0.6174985822067358,
           0.13343718350664932,
           0.06011690864820373,
           0.6238643209360818,
           -0.16575724542913375,
           0.3188065351666198,
           0.9757060739294185,
           0.1760919122023342,
           0.3266688649292592,
           0.39709957587422146,
           1.6799608866308047,
           -0.24479466658324636,
           0.10445641427019875,
           -1.1028225218323835,
           -0.8027657463180468,
           -0.3056357455458398,
           0.25204046340159214,
           -1.8625399720050182,
           1.8283483803863927,
           -0.057569063427456574,
           1.683237262978402,
           -0.4878626606514483,
           -0.22180733764906857,
           1.565353094059962,
           -1.0433065730577775,
           -0.11586772789271266,
           -2.4015796849551037,
           1.1249715162885685,
           1.2717850410243774,
           -0.6155312616327444,
           2.7419437847650157,
           0.007968761774657777,
           -1.9788026426921792,
           -1.9862851409994835,
           0.1398035922341429,
           -1.321092502267146,
           -0.9000594579527164,
           -0.957539158384733,
           -0.5723555122753693,
           -0.7961271236492132,
           -2.046207680291205,
           -0.35858584029967316,
           0.3464028131388476,
           -0.376581230387134,
           0.8525912166958635,
           1.7696639939792806,
           1.0200243280981294,
           0.5449998214015881,
           0.8861382882369467,
           -0.8319860564803928,
           0.9239515160094879,
           -0.08315316148649654,
           -0.438394569077957,
           -0.3506979750536089,
           0.1498289358748461,
           -0.044051342834633744,
           1.161174484552296,
           0.8338870445013844,
           -0.18938145583704497,
           -0.007563234810566206,
           0.5426303420627365,
           -0.3475608206917314,
           -0.2064135413801541,
           0.1395109224828758,
           -0.5841865862280732,
           0.9158477386590389,
           -0.8940435413031105,
           -1.1378969687179006,
           -0.45729320604207035,
           -0.5727902149656149,
           -0.19837043889366776,
           0.17034433149613717,
           0.8210202880694595,
           -0.024909787413121047,
           0.12140478816923735,
           0.10392491308511079,
           0.9624541183864312,
           -1.388765919622644,
           0.6011086055130731,
           -0.39568413076101816,
           0.38008367528193004,
           0.6050977449776258,
           -0.20536783480443754,
           0.5724415041004847,
           0.28310643767580734,
           1.2551918751097892,
           0.06952427529154234,
           0.030348271623762635,
           -0.8781749464565552,
           1.3814926164119898
          ],
          "colorscale": [
           [
            0,
            "rgb(158,1,66)"
           ],
           [
            0.1,
            "rgb(213,62,79)"
           ],
           [
            0.2,
            "rgb(244,109,67)"
           ],
           [
            0.3,
            "rgb(253,174,97)"
           ],
           [
            0.4,
            "rgb(254,224,139)"
           ],
           [
            0.5,
            "rgb(255,255,191)"
           ],
           [
            0.6,
            "rgb(230,245,152)"
           ],
           [
            0.7,
            "rgb(171,221,164)"
           ],
           [
            0.8,
            "rgb(102,194,165)"
           ],
           [
            0.9,
            "rgb(50,136,189)"
           ],
           [
            1,
            "rgb(94,79,162)"
           ]
          ],
          "showscale": false,
          "size": 12
         },
         "mode": "markers",
         "type": "scatter",
         "x": [
          0.044034185016717624,
          0.41337845389133543,
          0.47949540176322997,
          0.08222388564475504,
          0.07401432141666603,
          0.4138068726343065,
          0.47856470857412065,
          0.03774199360486247,
          0.029309776584979113,
          0.1063666416442091,
          0.07946495771548281,
          0.04831453648041869,
          0.029152535769370446,
          0.07701170846615517,
          0.024209943323246306,
          0.054229725045379956,
          0.1467963833211481,
          0.29796593464599913,
          0.033486345556491805,
          0.020532620041916416,
          0.029907038946267058,
          0.0324628725994333,
          0.04496392430630323,
          0.09426204373923708,
          0.03278831319641291,
          0.09659658848694859
         ],
         "y": [
          0.11278202078050201,
          -0.04850303433691834,
          -0.13425483148332903,
          0.09453300966008263,
          -0.010636069195972887,
          -0.05711234196109652,
          -0.13780387458313478,
          0.043156577405634805,
          0.01714467636499272,
          0.04701853465561001,
          0.0330628541212702,
          0.0884535302903561,
          0.18065945982992646,
          0.19692660750478652,
          0.0965101610632991,
          0.0746382155197194,
          0.11813442818515102,
          -0.09156047322108547,
          0.06449064828246516,
          0.04720561048575175,
          0.04447566244543167,
          0.036857336846604354,
          0.3420656363062613,
          0.5454878508538119,
          0.036874800784587575,
          0.5614522771952745
         ]
        }
       ],
       "layout": {
        "annotations": [
         {
          "showarrow": false,
          "text": "externalDocs.added",
          "x": 0.044034185016717624,
          "y": 0.11278202078050201
         },
         {
          "showarrow": false,
          "text": "Endpoints_added",
          "x": 0.41337845389133543,
          "y": -0.04850303433691834
         },
         {
          "showarrow": false,
          "text": "Endpoints_deleted",
          "x": 0.47949540176322997,
          "y": -0.13425483148332903
         },
         {
          "showarrow": false,
          "text": "Components_parameters_added",
          "x": 0.08222388564475504,
          "y": 0.09453300966008263
         },
         {
          "showarrow": false,
          "text": "Servers_deleted",
          "x": 0.07401432141666603,
          "y": -0.010636069195972887
         },
         {
          "showarrow": false,
          "text": "Paths_added",
          "x": 0.4138068726343065,
          "y": -0.05711234196109652
         },
         {
          "showarrow": false,
          "text": "Paths_deleted",
          "x": 0.47856470857412065,
          "y": -0.13780387458313478
         },
         {
          "showarrow": false,
          "text": "Components_Security_Schemes_added",
          "x": 0.03774199360486247,
          "y": 0.043156577405634805
         },
         {
          "showarrow": false,
          "text": "Components_Security_Schemes_deleted",
          "x": 0.029309776584979113,
          "y": 0.01714467636499272
         },
         {
          "showarrow": false,
          "text": "Tags_added",
          "x": 0.1063666416442091,
          "y": 0.04701853465561001
         },
         {
          "showarrow": false,
          "text": "Tags_deleted",
          "x": 0.07946495771548281,
          "y": 0.0330628541212702
         },
         {
          "showarrow": false,
          "text": "Components_Headers_Added",
          "x": 0.04831453648041869,
          "y": 0.0884535302903561
         },
         {
          "showarrow": false,
          "text": "Components_Headers_Deleted",
          "x": 0.029152535769370446,
          "y": 0.18065945982992646
         },
         {
          "showarrow": false,
          "text": "Components_Request_Bodies_Added",
          "x": 0.07701170846615517,
          "y": 0.19692660750478652
         },
         {
          "showarrow": false,
          "text": "Components_Request_Bodies_Deleted",
          "x": 0.024209943323246306,
          "y": 0.0965101610632991
         },
         {
          "showarrow": false,
          "text": "Components_Responses_Added",
          "x": 0.054229725045379956,
          "y": 0.0746382155197194
         },
         {
          "showarrow": false,
          "text": "Components_Schemas_Added",
          "x": 0.1467963833211481,
          "y": 0.11813442818515102
         },
         {
          "showarrow": false,
          "text": "Components_Schemas_Deleted",
          "x": 0.29796593464599913,
          "y": -0.09156047322108547
         },
         {
          "showarrow": false,
          "text": "Info_contact_url_changes",
          "x": 0.033486345556491805,
          "y": 0.06449064828246516
         },
         {
          "showarrow": false,
          "text": "Info_license_url_changes",
          "x": 0.020532620041916416,
          "y": 0.04720561048575175
         },
         {
          "showarrow": false,
          "text": "Components_parameters_deleted",
          "x": 0.029907038946267058,
          "y": 0.04447566244543167
         },
         {
          "showarrow": false,
          "text": "Components_Security_Schemes_modified",
          "x": 0.0324628725994333,
          "y": 0.036857336846604354
         },
         {
          "showarrow": false,
          "text": "Tags_modified",
          "x": 0.04496392430630323,
          "y": 0.3420656363062613
         },
         {
          "showarrow": false,
          "text": "Paths_modified",
          "x": 0.09426204373923708,
          "y": 0.5454878508538119
         },
         {
          "showarrow": false,
          "text": "Security_added",
          "x": 0.03278831319641291,
          "y": 0.036874800784587575
         },
         {
          "showarrow": false,
          "text": "Endpoints_modified",
          "x": 0.09659658848694859,
          "y": 0.5614522771952745
         }
        ],
        "height": 1000,
        "shapes": [
         {
          "line": {
           "color": "black",
           "width": 0.4
          },
          "type": "line",
          "x0": 0,
          "x1": 0.044034185016717624,
          "y0": 0,
          "y1": 0.11278202078050201
         },
         {
          "line": {
           "color": "black",
           "width": 0.4
          },
          "type": "line",
          "x0": 0,
          "x1": 0.41337845389133543,
          "y0": 0,
          "y1": -0.04850303433691834
         },
         {
          "line": {
           "color": "black",
           "width": 0.4
          },
          "type": "line",
          "x0": 0,
          "x1": 0.47949540176322997,
          "y0": 0,
          "y1": -0.13425483148332903
         },
         {
          "line": {
           "color": "black",
           "width": 0.4
          },
          "type": "line",
          "x0": 0,
          "x1": 0.08222388564475504,
          "y0": 0,
          "y1": 0.09453300966008263
         },
         {
          "line": {
           "color": "black",
           "width": 0.4
          },
          "type": "line",
          "x0": 0,
          "x1": 0.07401432141666603,
          "y0": 0,
          "y1": -0.010636069195972887
         },
         {
          "line": {
           "color": "black",
           "width": 0.4
          },
          "type": "line",
          "x0": 0,
          "x1": 0.4138068726343065,
          "y0": 0,
          "y1": -0.05711234196109652
         },
         {
          "line": {
           "color": "black",
           "width": 0.4
          },
          "type": "line",
          "x0": 0,
          "x1": 0.47856470857412065,
          "y0": 0,
          "y1": -0.13780387458313478
         },
         {
          "line": {
           "color": "black",
           "width": 0.4
          },
          "type": "line",
          "x0": 0,
          "x1": 0.03774199360486247,
          "y0": 0,
          "y1": 0.043156577405634805
         },
         {
          "line": {
           "color": "black",
           "width": 0.4
          },
          "type": "line",
          "x0": 0,
          "x1": 0.029309776584979113,
          "y0": 0,
          "y1": 0.01714467636499272
         },
         {
          "line": {
           "color": "black",
           "width": 0.4
          },
          "type": "line",
          "x0": 0,
          "x1": 0.1063666416442091,
          "y0": 0,
          "y1": 0.04701853465561001
         },
         {
          "line": {
           "color": "black",
           "width": 0.4
          },
          "type": "line",
          "x0": 0,
          "x1": 0.07946495771548281,
          "y0": 0,
          "y1": 0.0330628541212702
         },
         {
          "line": {
           "color": "black",
           "width": 0.4
          },
          "type": "line",
          "x0": 0,
          "x1": 0.04831453648041869,
          "y0": 0,
          "y1": 0.0884535302903561
         },
         {
          "line": {
           "color": "black",
           "width": 0.4
          },
          "type": "line",
          "x0": 0,
          "x1": 0.029152535769370446,
          "y0": 0,
          "y1": 0.18065945982992646
         },
         {
          "line": {
           "color": "black",
           "width": 0.4
          },
          "type": "line",
          "x0": 0,
          "x1": 0.07701170846615517,
          "y0": 0,
          "y1": 0.19692660750478652
         },
         {
          "line": {
           "color": "black",
           "width": 0.4
          },
          "type": "line",
          "x0": 0,
          "x1": 0.024209943323246306,
          "y0": 0,
          "y1": 0.0965101610632991
         },
         {
          "line": {
           "color": "black",
           "width": 0.4
          },
          "type": "line",
          "x0": 0,
          "x1": 0.054229725045379956,
          "y0": 0,
          "y1": 0.0746382155197194
         },
         {
          "line": {
           "color": "black",
           "width": 0.4
          },
          "type": "line",
          "x0": 0,
          "x1": 0.1467963833211481,
          "y0": 0,
          "y1": 0.11813442818515102
         },
         {
          "line": {
           "color": "black",
           "width": 0.4
          },
          "type": "line",
          "x0": 0,
          "x1": 0.29796593464599913,
          "y0": 0,
          "y1": -0.09156047322108547
         },
         {
          "line": {
           "color": "black",
           "width": 0.4
          },
          "type": "line",
          "x0": 0,
          "x1": 0.033486345556491805,
          "y0": 0,
          "y1": 0.06449064828246516
         },
         {
          "line": {
           "color": "black",
           "width": 0.4
          },
          "type": "line",
          "x0": 0,
          "x1": 0.020532620041916416,
          "y0": 0,
          "y1": 0.04720561048575175
         },
         {
          "line": {
           "color": "black",
           "width": 0.4
          },
          "type": "line",
          "x0": 0,
          "x1": 0.029907038946267058,
          "y0": 0,
          "y1": 0.04447566244543167
         },
         {
          "line": {
           "color": "black",
           "width": 0.4
          },
          "type": "line",
          "x0": 0,
          "x1": 0.0324628725994333,
          "y0": 0,
          "y1": 0.036857336846604354
         },
         {
          "line": {
           "color": "black",
           "width": 0.4
          },
          "type": "line",
          "x0": 0,
          "x1": 0.04496392430630323,
          "y0": 0,
          "y1": 0.3420656363062613
         },
         {
          "line": {
           "color": "black",
           "width": 0.4
          },
          "type": "line",
          "x0": 0,
          "x1": 0.09426204373923708,
          "y0": 0,
          "y1": 0.5454878508538119
         },
         {
          "line": {
           "color": "black",
           "width": 0.4
          },
          "type": "line",
          "x0": 0,
          "x1": 0.03278831319641291,
          "y0": 0,
          "y1": 0.036874800784587575
         },
         {
          "line": {
           "color": "black",
           "width": 0.4
          },
          "type": "line",
          "x0": 0,
          "x1": 0.09659658848694859,
          "y0": 0,
          "y1": 0.5614522771952745
         }
        ],
        "showlegend": false,
        "template": {
         "data": {
          "bar": [
           {
            "error_x": {
             "color": "rgb(51,51,51)"
            },
            "error_y": {
             "color": "rgb(51,51,51)"
            },
            "marker": {
             "line": {
              "color": "rgb(237,237,237)",
              "width": 0.5
             },
             "pattern": {
              "fillmode": "overlay",
              "size": 10,
              "solidity": 0.2
             }
            },
            "type": "bar"
           }
          ],
          "barpolar": [
           {
            "marker": {
             "line": {
              "color": "rgb(237,237,237)",
              "width": 0.5
             },
             "pattern": {
              "fillmode": "overlay",
              "size": 10,
              "solidity": 0.2
             }
            },
            "type": "barpolar"
           }
          ],
          "carpet": [
           {
            "aaxis": {
             "endlinecolor": "rgb(51,51,51)",
             "gridcolor": "white",
             "linecolor": "white",
             "minorgridcolor": "white",
             "startlinecolor": "rgb(51,51,51)"
            },
            "baxis": {
             "endlinecolor": "rgb(51,51,51)",
             "gridcolor": "white",
             "linecolor": "white",
             "minorgridcolor": "white",
             "startlinecolor": "rgb(51,51,51)"
            },
            "type": "carpet"
           }
          ],
          "choropleth": [
           {
            "colorbar": {
             "outlinewidth": 0,
             "tickcolor": "rgb(237,237,237)",
             "ticklen": 6,
             "ticks": "inside"
            },
            "type": "choropleth"
           }
          ],
          "contour": [
           {
            "colorbar": {
             "outlinewidth": 0,
             "tickcolor": "rgb(237,237,237)",
             "ticklen": 6,
             "ticks": "inside"
            },
            "colorscale": [
             [
              0,
              "rgb(20,44,66)"
             ],
             [
              1,
              "rgb(90,179,244)"
             ]
            ],
            "type": "contour"
           }
          ],
          "contourcarpet": [
           {
            "colorbar": {
             "outlinewidth": 0,
             "tickcolor": "rgb(237,237,237)",
             "ticklen": 6,
             "ticks": "inside"
            },
            "type": "contourcarpet"
           }
          ],
          "heatmap": [
           {
            "colorbar": {
             "outlinewidth": 0,
             "tickcolor": "rgb(237,237,237)",
             "ticklen": 6,
             "ticks": "inside"
            },
            "colorscale": [
             [
              0,
              "rgb(20,44,66)"
             ],
             [
              1,
              "rgb(90,179,244)"
             ]
            ],
            "type": "heatmap"
           }
          ],
          "heatmapgl": [
           {
            "colorbar": {
             "outlinewidth": 0,
             "tickcolor": "rgb(237,237,237)",
             "ticklen": 6,
             "ticks": "inside"
            },
            "colorscale": [
             [
              0,
              "rgb(20,44,66)"
             ],
             [
              1,
              "rgb(90,179,244)"
             ]
            ],
            "type": "heatmapgl"
           }
          ],
          "histogram": [
           {
            "marker": {
             "pattern": {
              "fillmode": "overlay",
              "size": 10,
              "solidity": 0.2
             }
            },
            "type": "histogram"
           }
          ],
          "histogram2d": [
           {
            "colorbar": {
             "outlinewidth": 0,
             "tickcolor": "rgb(237,237,237)",
             "ticklen": 6,
             "ticks": "inside"
            },
            "colorscale": [
             [
              0,
              "rgb(20,44,66)"
             ],
             [
              1,
              "rgb(90,179,244)"
             ]
            ],
            "type": "histogram2d"
           }
          ],
          "histogram2dcontour": [
           {
            "colorbar": {
             "outlinewidth": 0,
             "tickcolor": "rgb(237,237,237)",
             "ticklen": 6,
             "ticks": "inside"
            },
            "colorscale": [
             [
              0,
              "rgb(20,44,66)"
             ],
             [
              1,
              "rgb(90,179,244)"
             ]
            ],
            "type": "histogram2dcontour"
           }
          ],
          "mesh3d": [
           {
            "colorbar": {
             "outlinewidth": 0,
             "tickcolor": "rgb(237,237,237)",
             "ticklen": 6,
             "ticks": "inside"
            },
            "type": "mesh3d"
           }
          ],
          "parcoords": [
           {
            "line": {
             "colorbar": {
              "outlinewidth": 0,
              "tickcolor": "rgb(237,237,237)",
              "ticklen": 6,
              "ticks": "inside"
             }
            },
            "type": "parcoords"
           }
          ],
          "pie": [
           {
            "automargin": true,
            "type": "pie"
           }
          ],
          "scatter": [
           {
            "fillpattern": {
             "fillmode": "overlay",
             "size": 10,
             "solidity": 0.2
            },
            "type": "scatter"
           }
          ],
          "scatter3d": [
           {
            "line": {
             "colorbar": {
              "outlinewidth": 0,
              "tickcolor": "rgb(237,237,237)",
              "ticklen": 6,
              "ticks": "inside"
             }
            },
            "marker": {
             "colorbar": {
              "outlinewidth": 0,
              "tickcolor": "rgb(237,237,237)",
              "ticklen": 6,
              "ticks": "inside"
             }
            },
            "type": "scatter3d"
           }
          ],
          "scattercarpet": [
           {
            "marker": {
             "colorbar": {
              "outlinewidth": 0,
              "tickcolor": "rgb(237,237,237)",
              "ticklen": 6,
              "ticks": "inside"
             }
            },
            "type": "scattercarpet"
           }
          ],
          "scattergeo": [
           {
            "marker": {
             "colorbar": {
              "outlinewidth": 0,
              "tickcolor": "rgb(237,237,237)",
              "ticklen": 6,
              "ticks": "inside"
             }
            },
            "type": "scattergeo"
           }
          ],
          "scattergl": [
           {
            "marker": {
             "colorbar": {
              "outlinewidth": 0,
              "tickcolor": "rgb(237,237,237)",
              "ticklen": 6,
              "ticks": "inside"
             }
            },
            "type": "scattergl"
           }
          ],
          "scattermapbox": [
           {
            "marker": {
             "colorbar": {
              "outlinewidth": 0,
              "tickcolor": "rgb(237,237,237)",
              "ticklen": 6,
              "ticks": "inside"
             }
            },
            "type": "scattermapbox"
           }
          ],
          "scatterpolar": [
           {
            "marker": {
             "colorbar": {
              "outlinewidth": 0,
              "tickcolor": "rgb(237,237,237)",
              "ticklen": 6,
              "ticks": "inside"
             }
            },
            "type": "scatterpolar"
           }
          ],
          "scatterpolargl": [
           {
            "marker": {
             "colorbar": {
              "outlinewidth": 0,
              "tickcolor": "rgb(237,237,237)",
              "ticklen": 6,
              "ticks": "inside"
             }
            },
            "type": "scatterpolargl"
           }
          ],
          "scatterternary": [
           {
            "marker": {
             "colorbar": {
              "outlinewidth": 0,
              "tickcolor": "rgb(237,237,237)",
              "ticklen": 6,
              "ticks": "inside"
             }
            },
            "type": "scatterternary"
           }
          ],
          "surface": [
           {
            "colorbar": {
             "outlinewidth": 0,
             "tickcolor": "rgb(237,237,237)",
             "ticklen": 6,
             "ticks": "inside"
            },
            "colorscale": [
             [
              0,
              "rgb(20,44,66)"
             ],
             [
              1,
              "rgb(90,179,244)"
             ]
            ],
            "type": "surface"
           }
          ],
          "table": [
           {
            "cells": {
             "fill": {
              "color": "rgb(237,237,237)"
             },
             "line": {
              "color": "white"
             }
            },
            "header": {
             "fill": {
              "color": "rgb(217,217,217)"
             },
             "line": {
              "color": "white"
             }
            },
            "type": "table"
           }
          ]
         },
         "layout": {
          "annotationdefaults": {
           "arrowhead": 0,
           "arrowwidth": 1
          },
          "autotypenumbers": "strict",
          "coloraxis": {
           "colorbar": {
            "outlinewidth": 0,
            "tickcolor": "rgb(237,237,237)",
            "ticklen": 6,
            "ticks": "inside"
           }
          },
          "colorscale": {
           "sequential": [
            [
             0,
             "rgb(20,44,66)"
            ],
            [
             1,
             "rgb(90,179,244)"
            ]
           ],
           "sequentialminus": [
            [
             0,
             "rgb(20,44,66)"
            ],
            [
             1,
             "rgb(90,179,244)"
            ]
           ]
          },
          "colorway": [
           "#F8766D",
           "#A3A500",
           "#00BF7D",
           "#00B0F6",
           "#E76BF3"
          ],
          "font": {
           "color": "rgb(51,51,51)"
          },
          "geo": {
           "bgcolor": "white",
           "lakecolor": "white",
           "landcolor": "rgb(237,237,237)",
           "showlakes": true,
           "showland": true,
           "subunitcolor": "white"
          },
          "hoverlabel": {
           "align": "left"
          },
          "hovermode": "closest",
          "paper_bgcolor": "white",
          "plot_bgcolor": "rgb(237,237,237)",
          "polar": {
           "angularaxis": {
            "gridcolor": "white",
            "linecolor": "white",
            "showgrid": true,
            "tickcolor": "rgb(51,51,51)",
            "ticks": "outside"
           },
           "bgcolor": "rgb(237,237,237)",
           "radialaxis": {
            "gridcolor": "white",
            "linecolor": "white",
            "showgrid": true,
            "tickcolor": "rgb(51,51,51)",
            "ticks": "outside"
           }
          },
          "scene": {
           "xaxis": {
            "backgroundcolor": "rgb(237,237,237)",
            "gridcolor": "white",
            "gridwidth": 2,
            "linecolor": "white",
            "showbackground": true,
            "showgrid": true,
            "tickcolor": "rgb(51,51,51)",
            "ticks": "outside",
            "zerolinecolor": "white"
           },
           "yaxis": {
            "backgroundcolor": "rgb(237,237,237)",
            "gridcolor": "white",
            "gridwidth": 2,
            "linecolor": "white",
            "showbackground": true,
            "showgrid": true,
            "tickcolor": "rgb(51,51,51)",
            "ticks": "outside",
            "zerolinecolor": "white"
           },
           "zaxis": {
            "backgroundcolor": "rgb(237,237,237)",
            "gridcolor": "white",
            "gridwidth": 2,
            "linecolor": "white",
            "showbackground": true,
            "showgrid": true,
            "tickcolor": "rgb(51,51,51)",
            "ticks": "outside",
            "zerolinecolor": "white"
           }
          },
          "shapedefaults": {
           "fillcolor": "black",
           "line": {
            "width": 0
           },
           "opacity": 0.3
          },
          "ternary": {
           "aaxis": {
            "gridcolor": "white",
            "linecolor": "white",
            "showgrid": true,
            "tickcolor": "rgb(51,51,51)",
            "ticks": "outside"
           },
           "baxis": {
            "gridcolor": "white",
            "linecolor": "white",
            "showgrid": true,
            "tickcolor": "rgb(51,51,51)",
            "ticks": "outside"
           },
           "bgcolor": "rgb(237,237,237)",
           "caxis": {
            "gridcolor": "white",
            "linecolor": "white",
            "showgrid": true,
            "tickcolor": "rgb(51,51,51)",
            "ticks": "outside"
           }
          },
          "xaxis": {
           "automargin": true,
           "gridcolor": "white",
           "linecolor": "white",
           "showgrid": true,
           "tickcolor": "rgb(51,51,51)",
           "ticks": "outside",
           "title": {
            "standoff": 15
           },
           "zerolinecolor": "white"
          },
          "yaxis": {
           "automargin": true,
           "gridcolor": "white",
           "linecolor": "white",
           "showgrid": true,
           "tickcolor": "rgb(51,51,51)",
           "ticks": "outside",
           "title": {
            "standoff": 15
           },
           "zerolinecolor": "white"
          }
         }
        },
        "title": {
         "text": "PCA Loadings on Entire Cleaned Dataset "
        },
        "width": 1400,
        "xaxis": {
         "title": {
          "text": "PC1"
         }
        },
        "yaxis": {
         "title": {
          "text": "PC2"
         }
        }
       }
      }
     },
     "metadata": {},
     "output_type": "display_data"
    }
   ],
   "source": [
    "import plotly.graph_objs as go\n",
    "import numpy as np\n",
    "\n",
    "# Get the loadings of x and y axes\n",
    "xs = loadings_df_high_corr['PC1']\n",
    "ys = loadings_df_high_corr['PC2']\n",
    "\n",
    "# Create a scatterplot of the loadings with vectors\n",
    "fig = go.Figure(data=[go.Scatter(\n",
    "    x=xs,\n",
    "    y=ys,\n",
    "    mode='markers',\n",
    "    marker=dict(\n",
    "        size=12,\n",
    "        color=np.random.randn(500), #set color equal to a variable\n",
    "        colorscale='spectral', # one of plotly colorscales\n",
    "        showscale=False\n",
    "    )\n",
    ")])\n",
    "for i in range(len(xs)):\n",
    " fig.add_shape(\n",
    "        type=\"line\",\n",
    "        x0=0,\n",
    "        y0=0,\n",
    "        x1=xs[i],\n",
    "        y1=ys[i],\n",
    "        line=dict(\n",
    "            color=\"black\",\n",
    "            width=0.4\n",
    "        )\n",
    "    )\n",
    "for i in range(len(xs)):\n",
    "    fig.add_annotation(\n",
    "        x=xs[i],\n",
    "        y=ys[i],\n",
    "        text=loadings_df_high_corr.index[i],\n",
    "        showarrow=False\n",
    "    )\n",
    "\n",
    "fig.update_layout(template='ggplot2', title='PCA Loadings on Entire Cleaned Dataset ', width=1400, height=1000, showlegend=False,xaxis_title='PC1', yaxis_title='PC2')\n"
   ]
  },
  {
   "cell_type": "markdown",
   "metadata": {},
   "source": [
    "### PCA on Young and Old API's"
   ]
  },
  {
   "cell_type": "code",
   "execution_count": 16,
   "metadata": {},
   "outputs": [
    {
     "name": "stderr",
     "output_type": "stream",
     "text": [
      "/var/folders/27/mp6sy3_d6_lgz19hyp_8n8z40000gn/T/ipykernel_7135/289446102.py:1: DtypeWarning:\n",
      "\n",
      "Columns (5,6) have mixed types. Specify dtype option on import or set low_memory=False.\n",
      "\n"
     ]
    }
   ],
   "source": [
    "api_specs=pd.read_csv('api_specs.csv', encoding='utf-8')"
   ]
  },
  {
   "cell_type": "code",
   "execution_count": 17,
   "metadata": {},
   "outputs": [
    {
     "data": {
      "text/html": [
       "<div>\n",
       "<style scoped>\n",
       "    .dataframe tbody tr th:only-of-type {\n",
       "        vertical-align: middle;\n",
       "    }\n",
       "\n",
       "    .dataframe tbody tr th {\n",
       "        vertical-align: top;\n",
       "    }\n",
       "\n",
       "    .dataframe thead th {\n",
       "        text-align: right;\n",
       "    }\n",
       "</style>\n",
       "<table border=\"1\" class=\"dataframe\">\n",
       "  <thead>\n",
       "    <tr style=\"text-align: right;\">\n",
       "      <th></th>\n",
       "      <th>PC1</th>\n",
       "      <th>PC2</th>\n",
       "    </tr>\n",
       "    <tr>\n",
       "      <th>feature_names</th>\n",
       "      <th></th>\n",
       "      <th></th>\n",
       "    </tr>\n",
       "  </thead>\n",
       "  <tbody>\n",
       "    <tr>\n",
       "      <th>externalDocs.added</th>\n",
       "      <td>0.044034</td>\n",
       "      <td>0.112782</td>\n",
       "    </tr>\n",
       "    <tr>\n",
       "      <th>externalDocs.deleted</th>\n",
       "      <td>0.005206</td>\n",
       "      <td>0.001479</td>\n",
       "    </tr>\n",
       "    <tr>\n",
       "      <th>Info_contact_name_changes</th>\n",
       "      <td>0.003324</td>\n",
       "      <td>0.075387</td>\n",
       "    </tr>\n",
       "    <tr>\n",
       "      <th>Servers_modified</th>\n",
       "      <td>-0.005109</td>\n",
       "      <td>-0.007814</td>\n",
       "    </tr>\n",
       "    <tr>\n",
       "      <th>Endpoints_added</th>\n",
       "      <td>0.413378</td>\n",
       "      <td>-0.048503</td>\n",
       "    </tr>\n",
       "    <tr>\n",
       "      <th>Endpoints_deleted</th>\n",
       "      <td>0.479495</td>\n",
       "      <td>-0.134255</td>\n",
       "    </tr>\n",
       "    <tr>\n",
       "      <th>Components_parameters_added</th>\n",
       "      <td>0.082224</td>\n",
       "      <td>0.094533</td>\n",
       "    </tr>\n",
       "    <tr>\n",
       "      <th>Servers_added</th>\n",
       "      <td>0.064878</td>\n",
       "      <td>-0.000301</td>\n",
       "    </tr>\n",
       "    <tr>\n",
       "      <th>Servers_deleted</th>\n",
       "      <td>0.074014</td>\n",
       "      <td>-0.010636</td>\n",
       "    </tr>\n",
       "    <tr>\n",
       "      <th>Paths_added</th>\n",
       "      <td>0.413807</td>\n",
       "      <td>-0.057112</td>\n",
       "    </tr>\n",
       "    <tr>\n",
       "      <th>Paths_deleted</th>\n",
       "      <td>0.478565</td>\n",
       "      <td>-0.137804</td>\n",
       "    </tr>\n",
       "    <tr>\n",
       "      <th>Components_Security_Schemes_added</th>\n",
       "      <td>0.037742</td>\n",
       "      <td>0.043157</td>\n",
       "    </tr>\n",
       "    <tr>\n",
       "      <th>Components_Security_Schemes_deleted</th>\n",
       "      <td>0.029310</td>\n",
       "      <td>0.017145</td>\n",
       "    </tr>\n",
       "    <tr>\n",
       "      <th>Tags_added</th>\n",
       "      <td>0.106367</td>\n",
       "      <td>0.047019</td>\n",
       "    </tr>\n",
       "    <tr>\n",
       "      <th>Tags_deleted</th>\n",
       "      <td>0.079465</td>\n",
       "      <td>0.033063</td>\n",
       "    </tr>\n",
       "    <tr>\n",
       "      <th>Components_Headers_Added</th>\n",
       "      <td>0.048315</td>\n",
       "      <td>0.088454</td>\n",
       "    </tr>\n",
       "    <tr>\n",
       "      <th>Components_Headers_Deleted</th>\n",
       "      <td>0.029153</td>\n",
       "      <td>0.180659</td>\n",
       "    </tr>\n",
       "    <tr>\n",
       "      <th>Components_Request_Bodies_Added</th>\n",
       "      <td>0.077012</td>\n",
       "      <td>0.196927</td>\n",
       "    </tr>\n",
       "    <tr>\n",
       "      <th>Components_Request_Bodies_Deleted</th>\n",
       "      <td>0.024210</td>\n",
       "      <td>0.096510</td>\n",
       "    </tr>\n",
       "    <tr>\n",
       "      <th>Components_Responses_Added</th>\n",
       "      <td>0.054230</td>\n",
       "      <td>0.074638</td>\n",
       "    </tr>\n",
       "    <tr>\n",
       "      <th>Components_Responses_Deleted</th>\n",
       "      <td>0.027224</td>\n",
       "      <td>0.004784</td>\n",
       "    </tr>\n",
       "    <tr>\n",
       "      <th>Components_Schemas_Added</th>\n",
       "      <td>0.146796</td>\n",
       "      <td>0.118134</td>\n",
       "    </tr>\n",
       "    <tr>\n",
       "      <th>Components_Schemas_Deleted</th>\n",
       "      <td>0.297966</td>\n",
       "      <td>-0.091560</td>\n",
       "    </tr>\n",
       "    <tr>\n",
       "      <th>Components_Links_Added</th>\n",
       "      <td>-0.000000</td>\n",
       "      <td>-0.000000</td>\n",
       "    </tr>\n",
       "    <tr>\n",
       "      <th>Components_Links_Deleted</th>\n",
       "      <td>-0.000000</td>\n",
       "      <td>-0.000000</td>\n",
       "    </tr>\n",
       "    <tr>\n",
       "      <th>Info_title_changes</th>\n",
       "      <td>0.104736</td>\n",
       "      <td>0.002966</td>\n",
       "    </tr>\n",
       "    <tr>\n",
       "      <th>Info_description_changes</th>\n",
       "      <td>-0.007573</td>\n",
       "      <td>-0.000431</td>\n",
       "    </tr>\n",
       "    <tr>\n",
       "      <th>Info_contact_url_changes</th>\n",
       "      <td>0.033486</td>\n",
       "      <td>0.064491</td>\n",
       "    </tr>\n",
       "    <tr>\n",
       "      <th>Info_contact_email_changes</th>\n",
       "      <td>0.006010</td>\n",
       "      <td>0.041112</td>\n",
       "    </tr>\n",
       "    <tr>\n",
       "      <th>Info_license_name_changes</th>\n",
       "      <td>-0.004704</td>\n",
       "      <td>0.017195</td>\n",
       "    </tr>\n",
       "    <tr>\n",
       "      <th>Info_license_url_changes</th>\n",
       "      <td>0.020533</td>\n",
       "      <td>0.047206</td>\n",
       "    </tr>\n",
       "    <tr>\n",
       "      <th>Info_termsOfService_changes</th>\n",
       "      <td>0.009238</td>\n",
       "      <td>0.254928</td>\n",
       "    </tr>\n",
       "    <tr>\n",
       "      <th>Components_parameters_deleted</th>\n",
       "      <td>0.029907</td>\n",
       "      <td>0.044476</td>\n",
       "    </tr>\n",
       "    <tr>\n",
       "      <th>Components_Security_Schemes_modified</th>\n",
       "      <td>0.032463</td>\n",
       "      <td>0.036857</td>\n",
       "    </tr>\n",
       "    <tr>\n",
       "      <th>Tags_modified</th>\n",
       "      <td>0.044964</td>\n",
       "      <td>0.342066</td>\n",
       "    </tr>\n",
       "    <tr>\n",
       "      <th>Paths_modified</th>\n",
       "      <td>0.094262</td>\n",
       "      <td>0.545488</td>\n",
       "    </tr>\n",
       "    <tr>\n",
       "      <th>Security_modified</th>\n",
       "      <td>-0.003416</td>\n",
       "      <td>-0.006633</td>\n",
       "    </tr>\n",
       "    <tr>\n",
       "      <th>Security_added</th>\n",
       "      <td>0.032788</td>\n",
       "      <td>0.036875</td>\n",
       "    </tr>\n",
       "    <tr>\n",
       "      <th>Security_deleted</th>\n",
       "      <td>0.029602</td>\n",
       "      <td>-0.000687</td>\n",
       "    </tr>\n",
       "    <tr>\n",
       "      <th>Endpoints_modified</th>\n",
       "      <td>0.096597</td>\n",
       "      <td>0.561452</td>\n",
       "    </tr>\n",
       "  </tbody>\n",
       "</table>\n",
       "</div>"
      ],
      "text/plain": [
       "                                           PC1       PC2\n",
       "feature_names                                           \n",
       "externalDocs.added                    0.044034  0.112782\n",
       "externalDocs.deleted                  0.005206  0.001479\n",
       "Info_contact_name_changes             0.003324  0.075387\n",
       "Servers_modified                     -0.005109 -0.007814\n",
       "Endpoints_added                       0.413378 -0.048503\n",
       "Endpoints_deleted                     0.479495 -0.134255\n",
       "Components_parameters_added           0.082224  0.094533\n",
       "Servers_added                         0.064878 -0.000301\n",
       "Servers_deleted                       0.074014 -0.010636\n",
       "Paths_added                           0.413807 -0.057112\n",
       "Paths_deleted                         0.478565 -0.137804\n",
       "Components_Security_Schemes_added     0.037742  0.043157\n",
       "Components_Security_Schemes_deleted   0.029310  0.017145\n",
       "Tags_added                            0.106367  0.047019\n",
       "Tags_deleted                          0.079465  0.033063\n",
       "Components_Headers_Added              0.048315  0.088454\n",
       "Components_Headers_Deleted            0.029153  0.180659\n",
       "Components_Request_Bodies_Added       0.077012  0.196927\n",
       "Components_Request_Bodies_Deleted     0.024210  0.096510\n",
       "Components_Responses_Added            0.054230  0.074638\n",
       "Components_Responses_Deleted          0.027224  0.004784\n",
       "Components_Schemas_Added              0.146796  0.118134\n",
       "Components_Schemas_Deleted            0.297966 -0.091560\n",
       "Components_Links_Added               -0.000000 -0.000000\n",
       "Components_Links_Deleted             -0.000000 -0.000000\n",
       "Info_title_changes                    0.104736  0.002966\n",
       "Info_description_changes             -0.007573 -0.000431\n",
       "Info_contact_url_changes              0.033486  0.064491\n",
       "Info_contact_email_changes            0.006010  0.041112\n",
       "Info_license_name_changes            -0.004704  0.017195\n",
       "Info_license_url_changes              0.020533  0.047206\n",
       "Info_termsOfService_changes           0.009238  0.254928\n",
       "Components_parameters_deleted         0.029907  0.044476\n",
       "Components_Security_Schemes_modified  0.032463  0.036857\n",
       "Tags_modified                         0.044964  0.342066\n",
       "Paths_modified                        0.094262  0.545488\n",
       "Security_modified                    -0.003416 -0.006633\n",
       "Security_added                        0.032788  0.036875\n",
       "Security_deleted                      0.029602 -0.000687\n",
       "Endpoints_modified                    0.096597  0.561452"
      ]
     },
     "execution_count": 17,
     "metadata": {},
     "output_type": "execute_result"
    }
   ],
   "source": [
    "loadings_df"
   ]
  },
  {
   "cell_type": "code",
   "execution_count": 18,
   "metadata": {},
   "outputs": [],
   "source": [
    "young_api= api_specs[api_specs['API_group'] == 'young']\n",
    "old_api= api_specs[api_specs['API_group'] == 'old']"
   ]
  },
  {
   "cell_type": "code",
   "execution_count": 19,
   "metadata": {},
   "outputs": [
    {
     "name": "stderr",
     "output_type": "stream",
     "text": [
      "/var/folders/27/mp6sy3_d6_lgz19hyp_8n8z40000gn/T/ipykernel_7135/201050396.py:1: SettingWithCopyWarning:\n",
      "\n",
      "\n",
      "A value is trying to be set on a copy of a slice from a DataFrame\n",
      "\n",
      "See the caveats in the documentation: https://pandas.pydata.org/pandas-docs/stable/user_guide/indexing.html#returning-a-view-versus-a-copy\n",
      "\n",
      "/var/folders/27/mp6sy3_d6_lgz19hyp_8n8z40000gn/T/ipykernel_7135/201050396.py:2: SettingWithCopyWarning:\n",
      "\n",
      "\n",
      "A value is trying to be set on a copy of a slice from a DataFrame\n",
      "\n",
      "See the caveats in the documentation: https://pandas.pydata.org/pandas-docs/stable/user_guide/indexing.html#returning-a-view-versus-a-copy\n",
      "\n"
     ]
    }
   ],
   "source": [
    "young_api.fillna(0, inplace=True)\n",
    "old_api.fillna(0, inplace=True)"
   ]
  },
  {
   "cell_type": "code",
   "execution_count": 21,
   "metadata": {},
   "outputs": [
    {
     "name": "stdout",
     "output_type": "stream",
     "text": [
      "<class 'pandas.core.frame.DataFrame'>\n",
      "Index: 6781 entries, 0 to 8488\n",
      "Data columns (total 69 columns):\n",
      " #   Column                                Non-Null Count  Dtype  \n",
      "---  ------                                --------------  -----  \n",
      " 0   commit_date                           6781 non-null   object \n",
      " 1   info_version                          6781 non-null   object \n",
      " 2   id_x                                  6781 non-null   float64\n",
      " 3   api_spec_id                           6781 non-null   float64\n",
      " 4   label                                 6781 non-null   object \n",
      " 5   externalDocs.added                    6781 non-null   object \n",
      " 6   externalDocs.deleted                  6781 non-null   object \n",
      " 7   Info_contact_name_changes             6781 non-null   int64  \n",
      " 8   Servers_modified                      6781 non-null   float64\n",
      " 9   Endpoints_added                       6781 non-null   int64  \n",
      " 10  Endpoints_deleted                     6781 non-null   int64  \n",
      " 11  Components_parameters_added           6781 non-null   int64  \n",
      " 12  Servers_added                         6781 non-null   int64  \n",
      " 13  Servers_deleted                       6781 non-null   int64  \n",
      " 14  Paths_added                           6781 non-null   int64  \n",
      " 15  Paths_deleted                         6781 non-null   int64  \n",
      " 16  Components_Security_Schemes_added     6781 non-null   int64  \n",
      " 17  Components_Security_Schemes_deleted   6781 non-null   int64  \n",
      " 18  Tags_added                            6781 non-null   int64  \n",
      " 19  Tags_deleted                          6781 non-null   int64  \n",
      " 20  Components_Headers_Added              6781 non-null   int64  \n",
      " 21  Components_Headers_Deleted            6781 non-null   int64  \n",
      " 22  Components_Request_Bodies_Added       6781 non-null   int64  \n",
      " 23  Components_Request_Bodies_Deleted     6781 non-null   int64  \n",
      " 24  Components_Responses_Added            6781 non-null   int64  \n",
      " 25  Components_Responses_Deleted          6781 non-null   int64  \n",
      " 26  Components_Schemas_Added              6781 non-null   int64  \n",
      " 27  Components_Schemas_Deleted            6781 non-null   int64  \n",
      " 28  Components_Links_Added                6781 non-null   int64  \n",
      " 29  Components_Links_Deleted              6781 non-null   int64  \n",
      " 30  Info_title_changes                    6781 non-null   int64  \n",
      " 31  Info_description_changes              6781 non-null   int64  \n",
      " 32  Info_contact_url_changes              6781 non-null   int64  \n",
      " 33  Info_contact_email_changes            6781 non-null   int64  \n",
      " 34  Info_license_name_changes             6781 non-null   int64  \n",
      " 35  Info_license_url_changes              6781 non-null   int64  \n",
      " 36  Info_termsOfService_changes           6781 non-null   int64  \n",
      " 37  Components_parameters_deleted         6781 non-null   int64  \n",
      " 38  Components_Security_Schemes_modified  6781 non-null   float64\n",
      " 39  Tags_modified                         6781 non-null   float64\n",
      " 40  Paths_modified                        6781 non-null   float64\n",
      " 41  Security_modified                     6781 non-null   float64\n",
      " 42  Security_added                        6781 non-null   int64  \n",
      " 43  Security_deleted                      6781 non-null   int64  \n",
      " 44  Endpoints_modified                    6781 non-null   float64\n",
      " 45  _id                                   6781 non-null   object \n",
      " 46  id_y                                  6781 non-null   int64  \n",
      " 47  repo_name                             6781 non-null   object \n",
      " 48  owner                                 6781 non-null   object \n",
      " 49  filepath                              6781 non-null   object \n",
      " 50  filename                              6781 non-null   object \n",
      " 51  url                                   6781 non-null   object \n",
      " 52  deleted                               6781 non-null   int64  \n",
      " 53  created_at                            6781 non-null   object \n",
      " 54  updated_at                            6781 non-null   object \n",
      " 55  processed_at                          6781 non-null   object \n",
      " 56  commits                               6781 non-null   int64  \n",
      " 57  info_version_change_dates             6781 non-null   object \n",
      " 58  info_version_change_interval          6781 non-null   object \n",
      " 59  info_versions_changes                 6781 non-null   float64\n",
      " 60  path_version_change_dates             6781 non-null   object \n",
      " 61  path_version_change_interval          6781 non-null   object \n",
      " 62  server_version_change_dates           6781 non-null   object \n",
      " 63  server_version_change_interval        6781 non-null   object \n",
      " 64  api_age                               6781 non-null   float64\n",
      " 65  growth_classification                 6781 non-null   object \n",
      " 66  one_version_location                  6781 non-null   object \n",
      " 67  multiple_version_location             6781 non-null   object \n",
      " 68  API_group                             6781 non-null   object \n",
      "dtypes: float64(10), int64(35), object(24)\n",
      "memory usage: 3.6+ MB\n"
     ]
    }
   ],
   "source": [
    "young_api.info()"
   ]
  },
  {
   "cell_type": "code",
   "execution_count": 22,
   "metadata": {},
   "outputs": [
    {
     "name": "stderr",
     "output_type": "stream",
     "text": [
      "/Library/Frameworks/Python.framework/Versions/3.11/lib/python3.11/site-packages/sklearn/utils/deprecation.py:101: FutureWarning:\n",
      "\n",
      "Attribute `n_features_` was deprecated in version 1.2 and will be removed in 1.4. Use `n_features_in_` instead.\n",
      "\n"
     ]
    },
    {
     "data": {
      "image/svg+xml": "<svg class=\"main-svg\" xmlns=\"http://www.w3.org/2000/svg\" xmlns:xlink=\"http://www.w3.org/1999/xlink\" width=\"1400\" height=\"1000\" style=\"\" viewBox=\"0 0 1400 1000\"><rect x=\"0\" y=\"0\" width=\"1400\" height=\"1000\" style=\"fill: rgb(255, 255, 255); fill-opacity: 1;\"/><defs id=\"defs-7d1476\"><g class=\"clips\"><clipPath id=\"clip7d1476xyplot\" class=\"plotclip\"><rect width=\"1240\" height=\"820\"/></clipPath><clipPath class=\"axesclip\" id=\"clip7d1476x\"><rect x=\"80\" y=\"0\" width=\"1240\" height=\"1000\"/></clipPath><clipPath class=\"axesclip\" id=\"clip7d1476y\"><rect x=\"0\" y=\"100\" width=\"1400\" height=\"820\"/></clipPath><clipPath class=\"axesclip\" id=\"clip7d1476xy\"><rect x=\"80\" y=\"100\" width=\"1240\" height=\"820\"/></clipPath></g><g class=\"gradients\"/><g class=\"patterns\"/></defs><g class=\"bglayer\"><rect class=\"bg\" x=\"80\" y=\"100\" width=\"1240\" height=\"820\" style=\"fill: rgb(237, 237, 237); fill-opacity: 1; stroke-width: 0;\"/></g><g class=\"layer-below\"><g class=\"imagelayer\"/><g class=\"shapelayer\"/></g><g class=\"cartesianlayer\"><g class=\"subplot xy\"><g class=\"layer-subplot\"><g class=\"shapelayer\"/><g class=\"imagelayer\"/></g><g class=\"minor-gridlayer\"><g class=\"x\"/><g class=\"y\"/></g><g class=\"gridlayer\"><g class=\"x\"><path class=\"xgrid crisp\" transform=\"translate(344.74,0)\" d=\"M0,100v820\" style=\"stroke: rgb(255, 255, 255); stroke-opacity: 1; stroke-width: 1px;\"/><path class=\"xgrid crisp\" transform=\"translate(531.78,0)\" d=\"M0,100v820\" style=\"stroke: rgb(255, 255, 255); stroke-opacity: 1; stroke-width: 1px;\"/><path class=\"xgrid crisp\" transform=\"translate(718.82,0)\" d=\"M0,100v820\" style=\"stroke: rgb(255, 255, 255); stroke-opacity: 1; stroke-width: 1px;\"/><path class=\"xgrid crisp\" transform=\"translate(905.87,0)\" d=\"M0,100v820\" style=\"stroke: rgb(255, 255, 255); stroke-opacity: 1; stroke-width: 1px;\"/><path class=\"xgrid crisp\" transform=\"translate(1092.9099999999999,0)\" d=\"M0,100v820\" style=\"stroke: rgb(255, 255, 255); stroke-opacity: 1; stroke-width: 1px;\"/><path class=\"xgrid crisp\" transform=\"translate(1279.95,0)\" d=\"M0,100v820\" style=\"stroke: rgb(255, 255, 255); stroke-opacity: 1; stroke-width: 1px;\"/></g><g class=\"y\"><path class=\"ygrid crisp\" transform=\"translate(0,820.92)\" d=\"M80,0h1240\" style=\"stroke: rgb(255, 255, 255); stroke-opacity: 1; stroke-width: 1px;\"/><path class=\"ygrid crisp\" transform=\"translate(0,685.55)\" d=\"M80,0h1240\" style=\"stroke: rgb(255, 255, 255); stroke-opacity: 1; stroke-width: 1px;\"/><path class=\"ygrid crisp\" transform=\"translate(0,550.19)\" d=\"M80,0h1240\" style=\"stroke: rgb(255, 255, 255); stroke-opacity: 1; stroke-width: 1px;\"/><path class=\"ygrid crisp\" transform=\"translate(0,279.46000000000004)\" d=\"M80,0h1240\" style=\"stroke: rgb(255, 255, 255); stroke-opacity: 1; stroke-width: 1px;\"/><path class=\"ygrid crisp\" transform=\"translate(0,144.1)\" d=\"M80,0h1240\" style=\"stroke: rgb(255, 255, 255); stroke-opacity: 1; stroke-width: 1px;\"/></g></g><g class=\"zerolinelayer\"><path class=\"xzl zl crisp\" transform=\"translate(157.7,0)\" d=\"M0,100v820\" style=\"stroke: rgb(255, 255, 255); stroke-opacity: 1; stroke-width: 1px;\"/><path class=\"yzl zl crisp\" transform=\"translate(0,414.83)\" d=\"M80,0h1240\" style=\"stroke: rgb(255, 255, 255); stroke-opacity: 1; stroke-width: 1px;\"/></g><path class=\"xlines-below\"/><path class=\"ylines-below\"/><g class=\"overlines-below\"/><g class=\"xaxislayer-below\"/><g class=\"yaxislayer-below\"/><g class=\"overaxes-below\"/><g class=\"plot\" transform=\"translate(80,100)\" clip-path=\"url(#clip7d1476xyplot)\"><g class=\"scatterlayer mlayer\"><g class=\"trace scatter tracee5be9e\" style=\"stroke-miterlimit: 2; opacity: 1;\"><g class=\"fills\"/><g class=\"errorbars\"/><g class=\"lines\"/><g class=\"points\"><path class=\"point\" transform=\"translate(218.1,711.07)\" d=\"M6,0A6,6 0 1,1 0,-6A6,6 0 0,1 6,0Z\" style=\"opacity: 1; stroke-width: 0px; fill: rgb(147, 212, 164); fill-opacity: 1;\"/><path class=\"point\" transform=\"translate(149.65,360.8)\" d=\"M6,0A6,6 0 1,1 0,-6A6,6 0 0,1 6,0Z\" style=\"opacity: 1; stroke-width: 0px; fill: rgb(70, 158, 180); fill-opacity: 1;\"/><path class=\"point\" transform=\"translate(1071.56,492.65)\" d=\"M6,0A6,6 0 1,1 0,-6A6,6 0 0,1 6,0Z\" style=\"opacity: 1; stroke-width: 0px; fill: rgb(254, 215, 131); fill-opacity: 1;\"/><path class=\"point\" transform=\"translate(712.45,272.88)\" d=\"M6,0A6,6 0 1,1 0,-6A6,6 0 0,1 6,0Z\" style=\"opacity: 1; stroke-width: 0px; fill: rgb(105, 195, 165); fill-opacity: 1;\"/><path class=\"point\" transform=\"translate(465.83,528.08)\" d=\"M6,0A6,6 0 1,1 0,-6A6,6 0 0,1 6,0Z\" style=\"opacity: 1; stroke-width: 0px; fill: rgb(198, 232, 159); fill-opacity: 1;\"/><path class=\"point\" transform=\"translate(590.93,457.76)\" d=\"M6,0A6,6 0 1,1 0,-6A6,6 0 0,1 6,0Z\" style=\"opacity: 1; stroke-width: 0px; fill: rgb(253, 186, 107); fill-opacity: 1;\"/><path class=\"point\" transform=\"translate(998.04,513.07)\" d=\"M6,0A6,6 0 1,1 0,-6A6,6 0 0,1 6,0Z\" style=\"opacity: 1; stroke-width: 0px; fill: rgb(253, 175, 98); fill-opacity: 1;\"/><path class=\"point\" transform=\"translate(1059,331.56)\" d=\"M6,0A6,6 0 1,1 0,-6A6,6 0 0,1 6,0Z\" style=\"opacity: 1; stroke-width: 0px; fill: rgb(254, 236, 159); fill-opacity: 1;\"/><path class=\"point\" transform=\"translate(584.55,481.63)\" d=\"M6,0A6,6 0 1,1 0,-6A6,6 0 0,1 6,0Z\" style=\"opacity: 1; stroke-width: 0px; fill: rgb(206, 235, 157); fill-opacity: 1;\"/><path class=\"point\" transform=\"translate(749.61,194.88)\" d=\"M6,0A6,6 0 1,1 0,-6A6,6 0 0,1 6,0Z\" style=\"opacity: 1; stroke-width: 0px; fill: rgb(94, 79, 162); fill-opacity: 1;\"/><path class=\"point\" transform=\"translate(968.66,401.43)\" d=\"M6,0A6,6 0 1,1 0,-6A6,6 0 0,1 6,0Z\" style=\"opacity: 1; stroke-width: 0px; fill: rgb(241, 249, 169); fill-opacity: 1;\"/><path class=\"point\" transform=\"translate(1104.09,176.56)\" d=\"M6,0A6,6 0 1,1 0,-6A6,6 0 0,1 6,0Z\" style=\"opacity: 1; stroke-width: 0px; fill: rgb(231, 245, 153); fill-opacity: 1;\"/><path class=\"point\" transform=\"translate(825.67,157.17)\" d=\"M6,0A6,6 0 1,1 0,-6A6,6 0 0,1 6,0Z\" style=\"opacity: 1; stroke-width: 0px; fill: rgb(241, 249, 170); fill-opacity: 1;\"/><path class=\"point\" transform=\"translate(1072.27,123.36)\" d=\"M6,0A6,6 0 1,1 0,-6A6,6 0 0,1 6,0Z\" style=\"opacity: 1; stroke-width: 0px; fill: rgb(154, 214, 164); fill-opacity: 1;\"/><path class=\"point\" transform=\"translate(1013.44,159.85)\" d=\"M6,0A6,6 0 1,1 0,-6A6,6 0 0,1 6,0Z\" style=\"opacity: 1; stroke-width: 0px; fill: rgb(232, 246, 155); fill-opacity: 1;\"/><path class=\"point\" transform=\"translate(1121.5,48.5)\" d=\"M6,0A6,6 0 1,1 0,-6A6,6 0 0,1 6,0Z\" style=\"opacity: 1; stroke-width: 0px; fill: rgb(255, 255, 191); fill-opacity: 1;\"/><path class=\"point\" transform=\"translate(573.94,390.35)\" d=\"M6,0A6,6 0 1,1 0,-6A6,6 0 0,1 6,0Z\" style=\"opacity: 1; stroke-width: 0px; fill: rgb(231, 245, 154); fill-opacity: 1;\"/><path class=\"point\" transform=\"translate(799.33,93.05)\" d=\"M6,0A6,6 0 1,1 0,-6A6,6 0 0,1 6,0Z\" style=\"opacity: 1; stroke-width: 0px; fill: rgb(254, 223, 138); fill-opacity: 1;\"/><path class=\"point\" transform=\"translate(561.32,496.83)\" d=\"M6,0A6,6 0 1,1 0,-6A6,6 0 0,1 6,0Z\" style=\"opacity: 1; stroke-width: 0px; fill: rgb(236, 247, 161); fill-opacity: 1;\"/><path class=\"point\" transform=\"translate(918.51,128.77)\" d=\"M6,0A6,6 0 1,1 0,-6A6,6 0 0,1 6,0Z\" style=\"opacity: 1; stroke-width: 0px; fill: rgb(238, 248, 165); fill-opacity: 1;\"/><path class=\"point\" transform=\"translate(539.35,561.47)\" d=\"M6,0A6,6 0 1,1 0,-6A6,6 0 0,1 6,0Z\" style=\"opacity: 1; stroke-width: 0px; fill: rgb(253, 180, 102); fill-opacity: 1;\"/><path class=\"point\" transform=\"translate(248.49,710.35)\" d=\"M6,0A6,6 0 1,1 0,-6A6,6 0 0,1 6,0Z\" style=\"opacity: 1; stroke-width: 0px; fill: rgb(241, 249, 169); fill-opacity: 1;\"/><path class=\"point\" transform=\"translate(261.29,691.45)\" d=\"M6,0A6,6 0 1,1 0,-6A6,6 0 0,1 6,0Z\" style=\"opacity: 1; stroke-width: 0px; fill: rgb(253, 198, 117); fill-opacity: 1;\"/><path class=\"point\" transform=\"translate(169.4,560.57)\" d=\"M6,0A6,6 0 1,1 0,-6A6,6 0 0,1 6,0Z\" style=\"opacity: 1; stroke-width: 0px; fill: rgb(253, 197, 116); fill-opacity: 1;\"/><path class=\"point\" transform=\"translate(253.49,637.04)\" d=\"M6,0A6,6 0 1,1 0,-6A6,6 0 0,1 6,0Z\" style=\"opacity: 1; stroke-width: 0px; fill: rgb(211, 237, 156); fill-opacity: 1;\"/><path class=\"point\" transform=\"translate(165.21,658.41)\" d=\"M6,0A6,6 0 1,1 0,-6A6,6 0 0,1 6,0Z\" style=\"opacity: 1; stroke-width: 0px; fill: rgb(211, 237, 156); fill-opacity: 1;\"/><path class=\"point\" transform=\"translate(897,81.33)\" d=\"M6,0A6,6 0 1,1 0,-6A6,6 0 0,1 6,0Z\" style=\"opacity: 1; stroke-width: 0px; fill: rgb(246, 251, 177); fill-opacity: 1;\"/><path class=\"point\" transform=\"translate(129,329.96)\" d=\"M6,0A6,6 0 1,1 0,-6A6,6 0 0,1 6,0Z\" style=\"opacity: 1; stroke-width: 0px; fill: rgb(255, 247, 177); fill-opacity: 1;\"/><path class=\"point\" transform=\"translate(151.65,580.25)\" d=\"M6,0A6,6 0 1,1 0,-6A6,6 0 0,1 6,0Z\" style=\"opacity: 1; stroke-width: 0px; fill: rgb(237, 248, 164); fill-opacity: 1;\"/><path class=\"point\" transform=\"translate(306.49,758.49)\" d=\"M6,0A6,6 0 1,1 0,-6A6,6 0 0,1 6,0Z\" style=\"opacity: 1; stroke-width: 0px; fill: rgb(254, 219, 135); fill-opacity: 1;\"/><path class=\"point\" transform=\"translate(487.4,421.64)\" d=\"M6,0A6,6 0 1,1 0,-6A6,6 0 0,1 6,0Z\" style=\"opacity: 1; stroke-width: 0px; fill: rgb(254, 219, 135); fill-opacity: 1;\"/><path class=\"point\" transform=\"translate(497.12,297.17)\" d=\"M6,0A6,6 0 1,1 0,-6A6,6 0 0,1 6,0Z\" style=\"opacity: 1; stroke-width: 0px; fill: rgb(254, 221, 136); fill-opacity: 1;\"/><path class=\"point\" transform=\"translate(288.48,771.5)\" d=\"M6,0A6,6 0 1,1 0,-6A6,6 0 0,1 6,0Z\" style=\"opacity: 1; stroke-width: 0px; fill: rgb(144, 210, 164); fill-opacity: 1;\"/></g><g class=\"text\"/></g></g></g><g class=\"overplot\"/><path class=\"xlines-above crisp\" d=\"\" style=\"fill: none; stroke-width: 1px; stroke: rgb(0, 0, 0); stroke-opacity: 0;\"/><path class=\"ylines-above crisp\" d=\"\" style=\"fill: none; stroke-width: 1px; stroke: rgb(0, 0, 0); stroke-opacity: 0;\"/><g class=\"overlines-above\"/><g class=\"xaxislayer-above\"><path class=\"xtick ticks crisp\" d=\"M0,921v5\" transform=\"translate(157.7,0)\" style=\"stroke: rgb(51, 51, 51); stroke-opacity: 1; stroke-width: 1px;\"/><path class=\"xtick ticks crisp\" d=\"M0,921v5\" transform=\"translate(344.74,0)\" style=\"stroke: rgb(51, 51, 51); stroke-opacity: 1; stroke-width: 1px;\"/><path class=\"xtick ticks crisp\" d=\"M0,921v5\" transform=\"translate(531.78,0)\" style=\"stroke: rgb(51, 51, 51); stroke-opacity: 1; stroke-width: 1px;\"/><path class=\"xtick ticks crisp\" d=\"M0,921v5\" transform=\"translate(718.82,0)\" style=\"stroke: rgb(51, 51, 51); stroke-opacity: 1; stroke-width: 1px;\"/><path class=\"xtick ticks crisp\" d=\"M0,921v5\" transform=\"translate(905.87,0)\" style=\"stroke: rgb(51, 51, 51); stroke-opacity: 1; stroke-width: 1px;\"/><path class=\"xtick ticks crisp\" d=\"M0,921v5\" transform=\"translate(1092.9099999999999,0)\" style=\"stroke: rgb(51, 51, 51); stroke-opacity: 1; stroke-width: 1px;\"/><path class=\"xtick ticks crisp\" d=\"M0,921v5\" transform=\"translate(1279.95,0)\" style=\"stroke: rgb(51, 51, 51); stroke-opacity: 1; stroke-width: 1px;\"/><g class=\"xtick\"><text text-anchor=\"middle\" x=\"0\" y=\"940.4\" transform=\"translate(157.7,0)\" style=\"font-family: 'Open Sans', verdana, arial, sans-serif; font-size: 12px; fill: rgb(51, 51, 51); fill-opacity: 1; white-space: pre; opacity: 1;\">0</text></g><g class=\"xtick\"><text text-anchor=\"middle\" x=\"0\" y=\"940.4\" style=\"font-family: 'Open Sans', verdana, arial, sans-serif; font-size: 12px; fill: rgb(51, 51, 51); fill-opacity: 1; white-space: pre; opacity: 1;\" transform=\"translate(344.74,0)\">0.05</text></g><g class=\"xtick\"><text text-anchor=\"middle\" x=\"0\" y=\"940.4\" style=\"font-family: 'Open Sans', verdana, arial, sans-serif; font-size: 12px; fill: rgb(51, 51, 51); fill-opacity: 1; white-space: pre; opacity: 1;\" transform=\"translate(531.78,0)\">0.1</text></g><g class=\"xtick\"><text text-anchor=\"middle\" x=\"0\" y=\"940.4\" style=\"font-family: 'Open Sans', verdana, arial, sans-serif; font-size: 12px; fill: rgb(51, 51, 51); fill-opacity: 1; white-space: pre; opacity: 1;\" transform=\"translate(718.82,0)\">0.15</text></g><g class=\"xtick\"><text text-anchor=\"middle\" x=\"0\" y=\"940.4\" style=\"font-family: 'Open Sans', verdana, arial, sans-serif; font-size: 12px; fill: rgb(51, 51, 51); fill-opacity: 1; white-space: pre; opacity: 1;\" transform=\"translate(905.87,0)\">0.2</text></g><g class=\"xtick\"><text text-anchor=\"middle\" x=\"0\" y=\"940.4\" style=\"font-family: 'Open Sans', verdana, arial, sans-serif; font-size: 12px; fill: rgb(51, 51, 51); fill-opacity: 1; white-space: pre; opacity: 1;\" transform=\"translate(1092.9099999999999,0)\">0.25</text></g><g class=\"xtick\"><text text-anchor=\"middle\" x=\"0\" y=\"940.4\" style=\"font-family: 'Open Sans', verdana, arial, sans-serif; font-size: 12px; fill: rgb(51, 51, 51); fill-opacity: 1; white-space: pre; opacity: 1;\" transform=\"translate(1279.95,0)\">0.3</text></g></g><g class=\"yaxislayer-above\"><path class=\"ytick ticks crisp\" d=\"M79,0h-5\" transform=\"translate(0,820.92)\" style=\"stroke: rgb(51, 51, 51); stroke-opacity: 1; stroke-width: 1px;\"/><path class=\"ytick ticks crisp\" d=\"M79,0h-5\" transform=\"translate(0,685.55)\" style=\"stroke: rgb(51, 51, 51); stroke-opacity: 1; stroke-width: 1px;\"/><path class=\"ytick ticks crisp\" d=\"M79,0h-5\" transform=\"translate(0,550.19)\" style=\"stroke: rgb(51, 51, 51); stroke-opacity: 1; stroke-width: 1px;\"/><path class=\"ytick ticks crisp\" d=\"M79,0h-5\" transform=\"translate(0,414.83)\" style=\"stroke: rgb(51, 51, 51); stroke-opacity: 1; stroke-width: 1px;\"/><path class=\"ytick ticks crisp\" d=\"M79,0h-5\" transform=\"translate(0,279.46000000000004)\" style=\"stroke: rgb(51, 51, 51); stroke-opacity: 1; stroke-width: 1px;\"/><path class=\"ytick ticks crisp\" d=\"M79,0h-5\" transform=\"translate(0,144.1)\" style=\"stroke: rgb(51, 51, 51); stroke-opacity: 1; stroke-width: 1px;\"/><g class=\"ytick\"><text text-anchor=\"end\" x=\"71.6\" y=\"4.199999999999999\" transform=\"translate(0,820.92)\" style=\"font-family: 'Open Sans', verdana, arial, sans-serif; font-size: 12px; fill: rgb(51, 51, 51); fill-opacity: 1; white-space: pre; opacity: 1;\">−0.3</text></g><g class=\"ytick\"><text text-anchor=\"end\" x=\"71.6\" y=\"4.199999999999999\" style=\"font-family: 'Open Sans', verdana, arial, sans-serif; font-size: 12px; fill: rgb(51, 51, 51); fill-opacity: 1; white-space: pre; opacity: 1;\" transform=\"translate(0,685.55)\">−0.2</text></g><g class=\"ytick\"><text text-anchor=\"end\" x=\"71.6\" y=\"4.199999999999999\" style=\"font-family: 'Open Sans', verdana, arial, sans-serif; font-size: 12px; fill: rgb(51, 51, 51); fill-opacity: 1; white-space: pre; opacity: 1;\" transform=\"translate(0,550.19)\">−0.1</text></g><g class=\"ytick\"><text text-anchor=\"end\" x=\"71.6\" y=\"4.199999999999999\" style=\"font-family: 'Open Sans', verdana, arial, sans-serif; font-size: 12px; fill: rgb(51, 51, 51); fill-opacity: 1; white-space: pre; opacity: 1;\" transform=\"translate(0,414.83)\">0</text></g><g class=\"ytick\"><text text-anchor=\"end\" x=\"71.6\" y=\"4.199999999999999\" style=\"font-family: 'Open Sans', verdana, arial, sans-serif; font-size: 12px; fill: rgb(51, 51, 51); fill-opacity: 1; white-space: pre; opacity: 1;\" transform=\"translate(0,279.46000000000004)\">0.1</text></g><g class=\"ytick\"><text text-anchor=\"end\" x=\"71.6\" y=\"4.199999999999999\" style=\"font-family: 'Open Sans', verdana, arial, sans-serif; font-size: 12px; fill: rgb(51, 51, 51); fill-opacity: 1; white-space: pre; opacity: 1;\" transform=\"translate(0,144.1)\">0.2</text></g></g><g class=\"overaxes-above\"/></g></g><g class=\"polarlayer\"/><g class=\"smithlayer\"/><g class=\"ternarylayer\"/><g class=\"geolayer\"/><g class=\"funnelarealayer\"/><g class=\"pielayer\"/><g class=\"iciclelayer\"/><g class=\"treemaplayer\"/><g class=\"sunburstlayer\"/><g class=\"glimages\"/><defs id=\"topdefs-7d1476\"><g class=\"clips\"/></defs><g class=\"layer-above\"><g class=\"imagelayer\"/><g class=\"shapelayer\"><g class=\"shape-group\" data-index=\"0\" clip-path=\"url(#clip7d1476xy)\"><path data-index=\"0\" fill-rule=\"evenodd\" d=\"M157.7,414.83L298.1,811.07\" style=\"opacity: 0.3; stroke: rgb(0, 0, 0); stroke-opacity: 1; fill: rgb(0, 0, 0); fill-opacity: 1; stroke-width: 0.4px;\"/></g><g class=\"shape-group\" data-index=\"1\" clip-path=\"url(#clip7d1476xy)\"><path data-index=\"1\" fill-rule=\"evenodd\" d=\"M157.7,414.83L229.65,460.8\" style=\"opacity: 0.3; stroke: rgb(0, 0, 0); stroke-opacity: 1; fill: rgb(0, 0, 0); fill-opacity: 1; stroke-width: 0.4px;\"/></g><g class=\"shape-group\" data-index=\"2\" clip-path=\"url(#clip7d1476xy)\"><path data-index=\"2\" fill-rule=\"evenodd\" d=\"M157.7,414.83L1151.56,592.65\" style=\"opacity: 0.3; stroke: rgb(0, 0, 0); stroke-opacity: 1; fill: rgb(0, 0, 0); fill-opacity: 1; stroke-width: 0.4px;\"/></g><g class=\"shape-group\" data-index=\"3\" clip-path=\"url(#clip7d1476xy)\"><path data-index=\"3\" fill-rule=\"evenodd\" d=\"M157.7,414.83L792.45,372.88\" style=\"opacity: 0.3; stroke: rgb(0, 0, 0); stroke-opacity: 1; fill: rgb(0, 0, 0); fill-opacity: 1; stroke-width: 0.4px;\"/></g><g class=\"shape-group\" data-index=\"4\" clip-path=\"url(#clip7d1476xy)\"><path data-index=\"4\" fill-rule=\"evenodd\" d=\"M157.7,414.83L545.8299999999999,628.08\" style=\"opacity: 0.3; stroke: rgb(0, 0, 0); stroke-opacity: 1; fill: rgb(0, 0, 0); fill-opacity: 1; stroke-width: 0.4px;\"/></g><g class=\"shape-group\" data-index=\"5\" clip-path=\"url(#clip7d1476xy)\"><path data-index=\"5\" fill-rule=\"evenodd\" d=\"M157.7,414.83L670.93,557.76\" style=\"opacity: 0.3; stroke: rgb(0, 0, 0); stroke-opacity: 1; fill: rgb(0, 0, 0); fill-opacity: 1; stroke-width: 0.4px;\"/></g><g class=\"shape-group\" data-index=\"6\" clip-path=\"url(#clip7d1476xy)\"><path data-index=\"6\" fill-rule=\"evenodd\" d=\"M157.7,414.83L1078.04,613.07\" style=\"opacity: 0.3; stroke: rgb(0, 0, 0); stroke-opacity: 1; fill: rgb(0, 0, 0); fill-opacity: 1; stroke-width: 0.4px;\"/></g><g class=\"shape-group\" data-index=\"7\" clip-path=\"url(#clip7d1476xy)\"><path data-index=\"7\" fill-rule=\"evenodd\" d=\"M157.7,414.83L1139,431.56\" style=\"opacity: 0.3; stroke: rgb(0, 0, 0); stroke-opacity: 1; fill: rgb(0, 0, 0); fill-opacity: 1; stroke-width: 0.4px;\"/></g><g class=\"shape-group\" data-index=\"8\" clip-path=\"url(#clip7d1476xy)\"><path data-index=\"8\" fill-rule=\"evenodd\" d=\"M157.7,414.83L664.55,581.63\" style=\"opacity: 0.3; stroke: rgb(0, 0, 0); stroke-opacity: 1; fill: rgb(0, 0, 0); fill-opacity: 1; stroke-width: 0.4px;\"/></g><g class=\"shape-group\" data-index=\"9\" clip-path=\"url(#clip7d1476xy)\"><path data-index=\"9\" fill-rule=\"evenodd\" d=\"M157.7,414.83L829.61,294.88\" style=\"opacity: 0.3; stroke: rgb(0, 0, 0); stroke-opacity: 1; fill: rgb(0, 0, 0); fill-opacity: 1; stroke-width: 0.4px;\"/></g><g class=\"shape-group\" data-index=\"10\" clip-path=\"url(#clip7d1476xy)\"><path data-index=\"10\" fill-rule=\"evenodd\" d=\"M157.7,414.83L1048.6599999999999,501.43\" style=\"opacity: 0.3; stroke: rgb(0, 0, 0); stroke-opacity: 1; fill: rgb(0, 0, 0); fill-opacity: 1; stroke-width: 0.4px;\"/></g><g class=\"shape-group\" data-index=\"11\" clip-path=\"url(#clip7d1476xy)\"><path data-index=\"11\" fill-rule=\"evenodd\" d=\"M157.7,414.83L1184.09,276.56\" style=\"opacity: 0.3; stroke: rgb(0, 0, 0); stroke-opacity: 1; fill: rgb(0, 0, 0); fill-opacity: 1; stroke-width: 0.4px;\"/></g><g class=\"shape-group\" data-index=\"12\" clip-path=\"url(#clip7d1476xy)\"><path data-index=\"12\" fill-rule=\"evenodd\" d=\"M157.7,414.83L905.67,257.16999999999996\" style=\"opacity: 0.3; stroke: rgb(0, 0, 0); stroke-opacity: 1; fill: rgb(0, 0, 0); fill-opacity: 1; stroke-width: 0.4px;\"/></g><g class=\"shape-group\" data-index=\"13\" clip-path=\"url(#clip7d1476xy)\"><path data-index=\"13\" fill-rule=\"evenodd\" d=\"M157.7,414.83L1152.27,223.36\" style=\"opacity: 0.3; stroke: rgb(0, 0, 0); stroke-opacity: 1; fill: rgb(0, 0, 0); fill-opacity: 1; stroke-width: 0.4px;\"/></g><g class=\"shape-group\" data-index=\"14\" clip-path=\"url(#clip7d1476xy)\"><path data-index=\"14\" fill-rule=\"evenodd\" d=\"M157.7,414.83L1093.44,259.85\" style=\"opacity: 0.3; stroke: rgb(0, 0, 0); stroke-opacity: 1; fill: rgb(0, 0, 0); fill-opacity: 1; stroke-width: 0.4px;\"/></g><g class=\"shape-group\" data-index=\"15\" clip-path=\"url(#clip7d1476xy)\"><path data-index=\"15\" fill-rule=\"evenodd\" d=\"M157.7,414.83L1201.5,148.5\" style=\"opacity: 0.3; stroke: rgb(0, 0, 0); stroke-opacity: 1; fill: rgb(0, 0, 0); fill-opacity: 1; stroke-width: 0.4px;\"/></g><g class=\"shape-group\" data-index=\"16\" clip-path=\"url(#clip7d1476xy)\"><path data-index=\"16\" fill-rule=\"evenodd\" d=\"M157.7,414.83L653.94,490.35\" style=\"opacity: 0.3; stroke: rgb(0, 0, 0); stroke-opacity: 1; fill: rgb(0, 0, 0); fill-opacity: 1; stroke-width: 0.4px;\"/></g><g class=\"shape-group\" data-index=\"17\" clip-path=\"url(#clip7d1476xy)\"><path data-index=\"17\" fill-rule=\"evenodd\" d=\"M157.7,414.83L879.33,193.05\" style=\"opacity: 0.3; stroke: rgb(0, 0, 0); stroke-opacity: 1; fill: rgb(0, 0, 0); fill-opacity: 1; stroke-width: 0.4px;\"/></g><g class=\"shape-group\" data-index=\"18\" clip-path=\"url(#clip7d1476xy)\"><path data-index=\"18\" fill-rule=\"evenodd\" d=\"M157.7,414.83L641.32,596.8299999999999\" style=\"opacity: 0.3; stroke: rgb(0, 0, 0); stroke-opacity: 1; fill: rgb(0, 0, 0); fill-opacity: 1; stroke-width: 0.4px;\"/></g><g class=\"shape-group\" data-index=\"19\" clip-path=\"url(#clip7d1476xy)\"><path data-index=\"19\" fill-rule=\"evenodd\" d=\"M157.7,414.83L998.51,228.77\" style=\"opacity: 0.3; stroke: rgb(0, 0, 0); stroke-opacity: 1; fill: rgb(0, 0, 0); fill-opacity: 1; stroke-width: 0.4px;\"/></g><g class=\"shape-group\" data-index=\"20\" clip-path=\"url(#clip7d1476xy)\"><path data-index=\"20\" fill-rule=\"evenodd\" d=\"M157.7,414.83L619.35,661.47\" style=\"opacity: 0.3; stroke: rgb(0, 0, 0); stroke-opacity: 1; fill: rgb(0, 0, 0); fill-opacity: 1; stroke-width: 0.4px;\"/></g><g class=\"shape-group\" data-index=\"21\" clip-path=\"url(#clip7d1476xy)\"><path data-index=\"21\" fill-rule=\"evenodd\" d=\"M157.7,414.83L328.49,810.35\" style=\"opacity: 0.3; stroke: rgb(0, 0, 0); stroke-opacity: 1; fill: rgb(0, 0, 0); fill-opacity: 1; stroke-width: 0.4px;\"/></g><g class=\"shape-group\" data-index=\"22\" clip-path=\"url(#clip7d1476xy)\"><path data-index=\"22\" fill-rule=\"evenodd\" d=\"M157.7,414.83L341.29,791.45\" style=\"opacity: 0.3; stroke: rgb(0, 0, 0); stroke-opacity: 1; fill: rgb(0, 0, 0); fill-opacity: 1; stroke-width: 0.4px;\"/></g><g class=\"shape-group\" data-index=\"23\" clip-path=\"url(#clip7d1476xy)\"><path data-index=\"23\" fill-rule=\"evenodd\" d=\"M157.7,414.83L249.4,660.57\" style=\"opacity: 0.3; stroke: rgb(0, 0, 0); stroke-opacity: 1; fill: rgb(0, 0, 0); fill-opacity: 1; stroke-width: 0.4px;\"/></g><g class=\"shape-group\" data-index=\"24\" clip-path=\"url(#clip7d1476xy)\"><path data-index=\"24\" fill-rule=\"evenodd\" d=\"M157.7,414.83L333.49,737.04\" style=\"opacity: 0.3; stroke: rgb(0, 0, 0); stroke-opacity: 1; fill: rgb(0, 0, 0); fill-opacity: 1; stroke-width: 0.4px;\"/></g><g class=\"shape-group\" data-index=\"25\" clip-path=\"url(#clip7d1476xy)\"><path data-index=\"25\" fill-rule=\"evenodd\" d=\"M157.7,414.83L245.21,758.41\" style=\"opacity: 0.3; stroke: rgb(0, 0, 0); stroke-opacity: 1; fill: rgb(0, 0, 0); fill-opacity: 1; stroke-width: 0.4px;\"/></g><g class=\"shape-group\" data-index=\"26\" clip-path=\"url(#clip7d1476xy)\"><path data-index=\"26\" fill-rule=\"evenodd\" d=\"M157.7,414.83L977,181.32999999999998\" style=\"opacity: 0.3; stroke: rgb(0, 0, 0); stroke-opacity: 1; fill: rgb(0, 0, 0); fill-opacity: 1; stroke-width: 0.4px;\"/></g><g class=\"shape-group\" data-index=\"27\" clip-path=\"url(#clip7d1476xy)\"><path data-index=\"27\" fill-rule=\"evenodd\" d=\"M157.7,414.83L209,429.96\" style=\"opacity: 0.3; stroke: rgb(0, 0, 0); stroke-opacity: 1; fill: rgb(0, 0, 0); fill-opacity: 1; stroke-width: 0.4px;\"/></g><g class=\"shape-group\" data-index=\"28\" clip-path=\"url(#clip7d1476xy)\"><path data-index=\"28\" fill-rule=\"evenodd\" d=\"M157.7,414.83L231.65,680.25\" style=\"opacity: 0.3; stroke: rgb(0, 0, 0); stroke-opacity: 1; fill: rgb(0, 0, 0); fill-opacity: 1; stroke-width: 0.4px;\"/></g><g class=\"shape-group\" data-index=\"29\" clip-path=\"url(#clip7d1476xy)\"><path data-index=\"29\" fill-rule=\"evenodd\" d=\"M157.7,414.83L386.49,858.49\" style=\"opacity: 0.3; stroke: rgb(0, 0, 0); stroke-opacity: 1; fill: rgb(0, 0, 0); fill-opacity: 1; stroke-width: 0.4px;\"/></g><g class=\"shape-group\" data-index=\"30\" clip-path=\"url(#clip7d1476xy)\"><path data-index=\"30\" fill-rule=\"evenodd\" d=\"M157.7,414.83L567.4,521.64\" style=\"opacity: 0.3; stroke: rgb(0, 0, 0); stroke-opacity: 1; fill: rgb(0, 0, 0); fill-opacity: 1; stroke-width: 0.4px;\"/></g><g class=\"shape-group\" data-index=\"31\" clip-path=\"url(#clip7d1476xy)\"><path data-index=\"31\" fill-rule=\"evenodd\" d=\"M157.7,414.83L577.12,397.17\" style=\"opacity: 0.3; stroke: rgb(0, 0, 0); stroke-opacity: 1; fill: rgb(0, 0, 0); fill-opacity: 1; stroke-width: 0.4px;\"/></g><g class=\"shape-group\" data-index=\"32\" clip-path=\"url(#clip7d1476xy)\"><path data-index=\"32\" fill-rule=\"evenodd\" d=\"M157.7,414.83L368.48,871.5\" style=\"opacity: 0.3; stroke: rgb(0, 0, 0); stroke-opacity: 1; fill: rgb(0, 0, 0); fill-opacity: 1; stroke-width: 0.4px;\"/></g></g></g><g class=\"infolayer\"><g class=\"g-gtitle\"><text class=\"gtitle\" x=\"700\" y=\"50\" text-anchor=\"middle\" dy=\"0em\" style=\"font-family: 'Open Sans', verdana, arial, sans-serif; font-size: 17px; fill: rgb(51, 51, 51); opacity: 1; font-weight: normal; white-space: pre;\">PCA Loadings for Young APIs</text></g><g class=\"g-xtitle\"><text class=\"xtitle\" x=\"700\" y=\"967.20625\" text-anchor=\"middle\" style=\"font-family: 'Open Sans', verdana, arial, sans-serif; font-size: 14px; fill: rgb(51, 51, 51); opacity: 1; font-weight: normal; white-space: pre;\">PC1</text></g><g class=\"g-ytitle\"><text class=\"ytitle\" transform=\"rotate(-90,17.856250000000003,510)\" x=\"17.856250000000003\" y=\"510\" text-anchor=\"middle\" style=\"font-family: 'Open Sans', verdana, arial, sans-serif; font-size: 14px; fill: rgb(51, 51, 51); opacity: 1; font-weight: normal; white-space: pre;\">PC2</text></g><g class=\"annotation\" data-index=\"0\" style=\"opacity: 1;\"><g class=\"annotation-text-g\" transform=\"rotate(0,298.1,811.07)\"><g class=\"cursor-pointer\" transform=\"translate(209,802)\"><rect class=\"bg\" x=\"0.5\" y=\"0.5\" width=\"177\" height=\"18\" style=\"stroke-width: 1px; stroke: rgb(0, 0, 0); stroke-opacity: 0; fill: rgb(0, 0, 0); fill-opacity: 0;\"/><text class=\"annotation-text\" text-anchor=\"middle\" x=\"89.125\" y=\"14\" style=\"font-family: 'Open Sans', verdana, arial, sans-serif; font-size: 12px; fill: rgb(51, 51, 51); fill-opacity: 1; white-space: pre;\">Info_contact_name_changes</text></g></g></g><g class=\"annotation\" data-index=\"1\" style=\"opacity: 1;\"><g class=\"annotation-text-g\" transform=\"rotate(0,229.65,460.8)\"><g class=\"cursor-pointer\" transform=\"translate(175,451)\"><rect class=\"bg\" x=\"0.5\" y=\"0.5\" width=\"109\" height=\"18\" style=\"stroke-width: 1px; stroke: rgb(0, 0, 0); stroke-opacity: 0; fill: rgb(0, 0, 0); fill-opacity: 0;\"/><text class=\"annotation-text\" text-anchor=\"middle\" x=\"54.796875\" y=\"14\" style=\"font-family: 'Open Sans', verdana, arial, sans-serif; font-size: 12px; fill: rgb(51, 51, 51); fill-opacity: 1; white-space: pre;\">Servers_modified</text></g></g></g><g class=\"annotation\" data-index=\"2\" style=\"opacity: 1;\"><g class=\"annotation-text-g\" transform=\"rotate(0,1151.56,592.65)\"><g class=\"cursor-pointer\" transform=\"translate(1098,583)\"><rect class=\"bg\" x=\"0.5\" y=\"0.5\" width=\"107\" height=\"18\" style=\"stroke-width: 1px; stroke: rgb(0, 0, 0); stroke-opacity: 0; fill: rgb(0, 0, 0); fill-opacity: 0;\"/><text class=\"annotation-text\" text-anchor=\"middle\" x=\"53.859375\" y=\"14\" style=\"font-family: 'Open Sans', verdana, arial, sans-serif; font-size: 12px; fill: rgb(51, 51, 51); fill-opacity: 1; white-space: pre;\">Endpoints_added</text></g></g></g><g class=\"annotation\" data-index=\"3\" style=\"opacity: 1;\"><g class=\"annotation-text-g\" transform=\"rotate(0,792.45,372.88)\"><g class=\"cursor-pointer\" transform=\"translate(692,363)\"><rect class=\"bg\" x=\"0.5\" y=\"0.5\" width=\"200\" height=\"18\" style=\"stroke-width: 1px; stroke: rgb(0, 0, 0); stroke-opacity: 0; fill: rgb(0, 0, 0); fill-opacity: 0;\"/><text class=\"annotation-text\" text-anchor=\"middle\" x=\"100.28125\" y=\"14\" style=\"font-family: 'Open Sans', verdana, arial, sans-serif; font-size: 12px; fill: rgb(51, 51, 51); fill-opacity: 1; white-space: pre;\">Components_parameters_added</text></g></g></g><g class=\"annotation\" data-index=\"4\" style=\"opacity: 1;\"><g class=\"annotation-text-g\" transform=\"rotate(0,545.8299999999999,628.08)\"><g class=\"cursor-pointer\" transform=\"translate(498,619)\"><rect class=\"bg\" x=\"0.5\" y=\"0.5\" width=\"94\" height=\"18\" style=\"stroke-width: 1px; stroke: rgb(0, 0, 0); stroke-opacity: 0; fill: rgb(0, 0, 0); fill-opacity: 0;\"/><text class=\"annotation-text\" text-anchor=\"middle\" x=\"47.265625\" y=\"14\" style=\"font-family: 'Open Sans', verdana, arial, sans-serif; font-size: 12px; fill: rgb(51, 51, 51); fill-opacity: 1; white-space: pre;\">Servers_added</text></g></g></g><g class=\"annotation\" data-index=\"5\" style=\"opacity: 1;\"><g class=\"annotation-text-g\" transform=\"rotate(0,670.93,557.76)\"><g class=\"cursor-pointer\" transform=\"translate(620,548)\"><rect class=\"bg\" x=\"0.5\" y=\"0.5\" width=\"101\" height=\"18\" style=\"stroke-width: 1px; stroke: rgb(0, 0, 0); stroke-opacity: 0; fill: rgb(0, 0, 0); fill-opacity: 0;\"/><text class=\"annotation-text\" text-anchor=\"middle\" x=\"51.078125\" y=\"14\" style=\"font-family: 'Open Sans', verdana, arial, sans-serif; font-size: 12px; fill: rgb(51, 51, 51); fill-opacity: 1; white-space: pre;\">Servers_deleted</text></g></g></g><g class=\"annotation\" data-index=\"6\" style=\"opacity: 1;\"><g class=\"annotation-text-g\" transform=\"rotate(0,1078.04,613.07)\"><g class=\"cursor-pointer\" transform=\"translate(1038,604)\"><rect class=\"bg\" x=\"0.5\" y=\"0.5\" width=\"80\" height=\"18\" style=\"stroke-width: 1px; stroke: rgb(0, 0, 0); stroke-opacity: 0; fill: rgb(0, 0, 0); fill-opacity: 0;\"/><text class=\"annotation-text\" text-anchor=\"middle\" x=\"40.71875\" y=\"14\" style=\"font-family: 'Open Sans', verdana, arial, sans-serif; font-size: 12px; fill: rgb(51, 51, 51); fill-opacity: 1; white-space: pre;\">Paths_added</text></g></g></g><g class=\"annotation\" data-index=\"7\" style=\"opacity: 1;\"><g class=\"annotation-text-g\" transform=\"rotate(0,1139,431.56)\"><g class=\"cursor-pointer\" transform=\"translate(1095,422)\"><rect class=\"bg\" x=\"0.5\" y=\"0.5\" width=\"88\" height=\"18\" style=\"stroke-width: 1px; stroke: rgb(0, 0, 0); stroke-opacity: 0; fill: rgb(0, 0, 0); fill-opacity: 0;\"/><text class=\"annotation-text\" text-anchor=\"middle\" x=\"44.546875\" y=\"14\" style=\"font-family: 'Open Sans', verdana, arial, sans-serif; font-size: 12px; fill: rgb(51, 51, 51); fill-opacity: 1; white-space: pre;\">Paths_deleted</text></g></g></g><g class=\"annotation\" data-index=\"8\" style=\"opacity: 1;\"><g class=\"annotation-text-g\" transform=\"rotate(0,664.55,581.63)\"><g class=\"cursor-pointer\" transform=\"translate(543,572)\"><rect class=\"bg\" x=\"0.5\" y=\"0.5\" width=\"242\" height=\"18\" style=\"stroke-width: 1px; stroke: rgb(0, 0, 0); stroke-opacity: 0; fill: rgb(0, 0, 0); fill-opacity: 0;\"/><text class=\"annotation-text\" text-anchor=\"middle\" x=\"121.40625\" y=\"14\" style=\"font-family: 'Open Sans', verdana, arial, sans-serif; font-size: 12px; fill: rgb(51, 51, 51); fill-opacity: 1; white-space: pre;\">Components_Security_Schemes_added</text></g></g></g><g class=\"annotation\" data-index=\"9\" style=\"opacity: 1;\"><g class=\"annotation-text-g\" transform=\"rotate(0,829.61,294.88)\"><g class=\"cursor-pointer\" transform=\"translate(705,285)\"><rect class=\"bg\" x=\"0.5\" y=\"0.5\" width=\"249\" height=\"18\" style=\"stroke-width: 1px; stroke: rgb(0, 0, 0); stroke-opacity: 0; fill: rgb(0, 0, 0); fill-opacity: 0;\"/><text class=\"annotation-text\" text-anchor=\"middle\" x=\"125.21875\" y=\"14\" style=\"font-family: 'Open Sans', verdana, arial, sans-serif; font-size: 12px; fill: rgb(51, 51, 51); fill-opacity: 1; white-space: pre;\">Components_Security_Schemes_deleted</text></g></g></g><g class=\"annotation\" data-index=\"10\" style=\"opacity: 1;\"><g class=\"annotation-text-g\" transform=\"rotate(0,1048.6599999999999,501.43)\"><g class=\"cursor-pointer\" transform=\"translate(1010,492)\"><rect class=\"bg\" x=\"0.5\" y=\"0.5\" width=\"76\" height=\"18\" style=\"stroke-width: 1px; stroke: rgb(0, 0, 0); stroke-opacity: 0; fill: rgb(0, 0, 0); fill-opacity: 0;\"/><text class=\"annotation-text\" text-anchor=\"middle\" x=\"38.375\" y=\"14\" style=\"font-family: 'Open Sans', verdana, arial, sans-serif; font-size: 12px; fill: rgb(51, 51, 51); fill-opacity: 1; white-space: pre;\">Tags_added</text></g></g></g><g class=\"annotation\" data-index=\"11\" style=\"opacity: 1;\"><g class=\"annotation-text-g\" transform=\"rotate(0,1184.09,276.56)\"><g class=\"cursor-pointer\" transform=\"translate(1142,267)\"><rect class=\"bg\" x=\"0.5\" y=\"0.5\" width=\"83\" height=\"18\" style=\"stroke-width: 1px; stroke: rgb(0, 0, 0); stroke-opacity: 0; fill: rgb(0, 0, 0); fill-opacity: 0;\"/><text class=\"annotation-text\" text-anchor=\"middle\" x=\"42.203125\" y=\"14\" style=\"font-family: 'Open Sans', verdana, arial, sans-serif; font-size: 12px; fill: rgb(51, 51, 51); fill-opacity: 1; white-space: pre;\">Tags_deleted</text></g></g></g><g class=\"annotation\" data-index=\"12\" style=\"opacity: 1;\"><g class=\"annotation-text-g\" transform=\"rotate(0,905.67,257.16999999999996)\"><g class=\"cursor-pointer\" transform=\"translate(815,248)\"><rect class=\"bg\" x=\"0.5\" y=\"0.5\" width=\"181\" height=\"18\" style=\"stroke-width: 1px; stroke: rgb(0, 0, 0); stroke-opacity: 0; fill: rgb(0, 0, 0); fill-opacity: 0;\"/><text class=\"annotation-text\" text-anchor=\"middle\" x=\"90.921875\" y=\"14\" style=\"font-family: 'Open Sans', verdana, arial, sans-serif; font-size: 12px; fill: rgb(51, 51, 51); fill-opacity: 1; white-space: pre;\">Components_Headers_Added</text></g></g></g><g class=\"annotation\" data-index=\"13\" style=\"opacity: 1;\"><g class=\"annotation-text-g\" transform=\"rotate(0,1152.27,223.36)\"><g class=\"cursor-pointer\" transform=\"translate(1057,214)\"><rect class=\"bg\" x=\"0.5\" y=\"0.5\" width=\"189\" height=\"18\" style=\"stroke-width: 1px; stroke: rgb(0, 0, 0); stroke-opacity: 0; fill: rgb(0, 0, 0); fill-opacity: 0;\"/><text class=\"annotation-text\" text-anchor=\"middle\" x=\"95.125\" y=\"14\" style=\"font-family: 'Open Sans', verdana, arial, sans-serif; font-size: 12px; fill: rgb(51, 51, 51); fill-opacity: 1; white-space: pre;\">Components_Headers_Deleted</text></g></g></g><g class=\"annotation\" data-index=\"14\" style=\"opacity: 1;\"><g class=\"annotation-text-g\" transform=\"rotate(0,1093.44,259.85)\"><g class=\"cursor-pointer\" transform=\"translate(979,250)\"><rect class=\"bg\" x=\"0.5\" y=\"0.5\" width=\"227\" height=\"18\" style=\"stroke-width: 1px; stroke: rgb(0, 0, 0); stroke-opacity: 0; fill: rgb(0, 0, 0); fill-opacity: 0;\"/><text class=\"annotation-text\" text-anchor=\"middle\" x=\"114.234375\" y=\"14\" style=\"font-family: 'Open Sans', verdana, arial, sans-serif; font-size: 12px; fill: rgb(51, 51, 51); fill-opacity: 1; white-space: pre;\">Components_Request_Bodies_Added</text></g></g></g><g class=\"annotation\" data-index=\"15\" style=\"opacity: 1;\"><g class=\"annotation-text-g\" transform=\"rotate(0,1201.5,148.5)\"><g class=\"cursor-pointer\" transform=\"translate(1083,139)\"><rect class=\"bg\" x=\"0.5\" y=\"0.5\" width=\"236\" height=\"18\" style=\"stroke-width: 1px; stroke: rgb(0, 0, 0); stroke-opacity: 0; fill: rgb(0, 0, 0); fill-opacity: 0;\"/><text class=\"annotation-text\" text-anchor=\"middle\" x=\"118.4375\" y=\"14\" style=\"font-family: 'Open Sans', verdana, arial, sans-serif; font-size: 12px; fill: rgb(51, 51, 51); fill-opacity: 1; white-space: pre;\">Components_Request_Bodies_Deleted</text></g></g></g><g class=\"annotation\" data-index=\"16\" style=\"opacity: 1;\"><g class=\"annotation-text-g\" transform=\"rotate(0,653.94,490.35)\"><g class=\"cursor-pointer\" transform=\"translate(556,481)\"><rect class=\"bg\" x=\"0.5\" y=\"0.5\" width=\"195\" height=\"18\" style=\"stroke-width: 1px; stroke: rgb(0, 0, 0); stroke-opacity: 0; fill: rgb(0, 0, 0); fill-opacity: 0;\"/><text class=\"annotation-text\" text-anchor=\"middle\" x=\"98.109375\" y=\"14\" style=\"font-family: 'Open Sans', verdana, arial, sans-serif; font-size: 12px; fill: rgb(51, 51, 51); fill-opacity: 1; white-space: pre;\">Components_Responses_Added</text></g></g></g><g class=\"annotation\" data-index=\"17\" style=\"opacity: 1;\"><g class=\"annotation-text-g\" transform=\"rotate(0,879.33,193.05)\"><g class=\"cursor-pointer\" transform=\"translate(777,184)\"><rect class=\"bg\" x=\"0.5\" y=\"0.5\" width=\"204\" height=\"18\" style=\"stroke-width: 1px; stroke: rgb(0, 0, 0); stroke-opacity: 0; fill: rgb(0, 0, 0); fill-opacity: 0;\"/><text class=\"annotation-text\" text-anchor=\"middle\" x=\"102.3125\" y=\"14\" style=\"font-family: 'Open Sans', verdana, arial, sans-serif; font-size: 12px; fill: rgb(51, 51, 51); fill-opacity: 1; white-space: pre;\">Components_Responses_Deleted</text></g></g></g><g class=\"annotation\" data-index=\"18\" style=\"opacity: 1;\"><g class=\"annotation-text-g\" transform=\"rotate(0,641.32,596.8299999999999)\"><g class=\"cursor-pointer\" transform=\"translate(548,587)\"><rect class=\"bg\" x=\"0.5\" y=\"0.5\" width=\"186\" height=\"18\" style=\"stroke-width: 1px; stroke: rgb(0, 0, 0); stroke-opacity: 0; fill: rgb(0, 0, 0); fill-opacity: 0;\"/><text class=\"annotation-text\" text-anchor=\"middle\" x=\"93.390625\" y=\"14\" style=\"font-family: 'Open Sans', verdana, arial, sans-serif; font-size: 12px; fill: rgb(51, 51, 51); fill-opacity: 1; white-space: pre;\">Components_Schemas_Added</text></g></g></g><g class=\"annotation\" data-index=\"19\" style=\"opacity: 1;\"><g class=\"annotation-text-g\" transform=\"rotate(0,998.51,228.77)\"><g class=\"cursor-pointer\" transform=\"translate(901,219)\"><rect class=\"bg\" x=\"0.5\" y=\"0.5\" width=\"194\" height=\"18\" style=\"stroke-width: 1px; stroke: rgb(0, 0, 0); stroke-opacity: 0; fill: rgb(0, 0, 0); fill-opacity: 0;\"/><text class=\"annotation-text\" text-anchor=\"middle\" x=\"97.59375\" y=\"14\" style=\"font-family: 'Open Sans', verdana, arial, sans-serif; font-size: 12px; fill: rgb(51, 51, 51); fill-opacity: 1; white-space: pre;\">Components_Schemas_Deleted</text></g></g></g><g class=\"annotation\" data-index=\"20\" style=\"opacity: 1;\"><g class=\"annotation-text-g\" transform=\"rotate(0,619.35,661.47)\"><g class=\"cursor-pointer\" transform=\"translate(561,652)\"><rect class=\"bg\" x=\"0.5\" y=\"0.5\" width=\"115\" height=\"18\" style=\"stroke-width: 1px; stroke: rgb(0, 0, 0); stroke-opacity: 0; fill: rgb(0, 0, 0); fill-opacity: 0;\"/><text class=\"annotation-text\" text-anchor=\"middle\" x=\"58.0625\" y=\"14\" style=\"font-family: 'Open Sans', verdana, arial, sans-serif; font-size: 12px; fill: rgb(51, 51, 51); fill-opacity: 1; white-space: pre;\">Info_title_changes</text></g></g></g><g class=\"annotation\" data-index=\"21\" style=\"opacity: 1;\"><g class=\"annotation-text-g\" transform=\"rotate(0,328.49,810.35)\"><g class=\"cursor-pointer\" transform=\"translate(248,801)\"><rect class=\"bg\" x=\"0.5\" y=\"0.5\" width=\"160\" height=\"18\" style=\"stroke-width: 1px; stroke: rgb(0, 0, 0); stroke-opacity: 0; fill: rgb(0, 0, 0); fill-opacity: 0;\"/><text class=\"annotation-text\" text-anchor=\"middle\" x=\"80.3125\" y=\"14\" style=\"font-family: 'Open Sans', verdana, arial, sans-serif; font-size: 12px; fill: rgb(51, 51, 51); fill-opacity: 1; white-space: pre;\">Info_contact_url_changes</text></g></g></g><g class=\"annotation\" data-index=\"22\" style=\"opacity: 1;\"><g class=\"annotation-text-g\" transform=\"rotate(0,341.29,791.45)\"><g class=\"cursor-pointer\" transform=\"translate(253,782)\"><rect class=\"bg\" x=\"0.5\" y=\"0.5\" width=\"176\" height=\"18\" style=\"stroke-width: 1px; stroke: rgb(0, 0, 0); stroke-opacity: 0; fill: rgb(0, 0, 0); fill-opacity: 0;\"/><text class=\"annotation-text\" text-anchor=\"middle\" x=\"88.609375\" y=\"14\" style=\"font-family: 'Open Sans', verdana, arial, sans-serif; font-size: 12px; fill: rgb(51, 51, 51); fill-opacity: 1; white-space: pre;\">Info_contact_email_changes</text></g></g></g><g class=\"annotation\" data-index=\"23\" style=\"opacity: 1;\"><g class=\"annotation-text-g\" transform=\"rotate(0,249.4,660.57)\"><g class=\"cursor-pointer\" transform=\"translate(162,651)\"><rect class=\"bg\" x=\"0.5\" y=\"0.5\" width=\"174\" height=\"18\" style=\"stroke-width: 1px; stroke: rgb(0, 0, 0); stroke-opacity: 0; fill: rgb(0, 0, 0); fill-opacity: 0;\"/><text class=\"annotation-text\" text-anchor=\"middle\" x=\"87.59375\" y=\"14\" style=\"font-family: 'Open Sans', verdana, arial, sans-serif; font-size: 12px; fill: rgb(51, 51, 51); fill-opacity: 1; white-space: pre;\">Info_license_name_changes</text></g></g></g><g class=\"annotation\" data-index=\"24\" style=\"opacity: 1;\"><g class=\"annotation-text-g\" transform=\"rotate(0,333.49,737.04)\"><g class=\"cursor-pointer\" transform=\"translate(254,728)\"><rect class=\"bg\" x=\"0.5\" y=\"0.5\" width=\"157\" height=\"18\" style=\"stroke-width: 1px; stroke: rgb(0, 0, 0); stroke-opacity: 0; fill: rgb(0, 0, 0); fill-opacity: 0;\"/><text class=\"annotation-text\" text-anchor=\"middle\" x=\"78.78125\" y=\"14\" style=\"font-family: 'Open Sans', verdana, arial, sans-serif; font-size: 12px; fill: rgb(51, 51, 51); fill-opacity: 1; white-space: pre;\">Info_license_url_changes</text></g></g></g><g class=\"annotation\" data-index=\"25\" style=\"opacity: 1;\"><g class=\"annotation-text-g\" transform=\"rotate(0,245.21,758.41)\"><g class=\"cursor-pointer\" transform=\"translate(152,749)\"><rect class=\"bg\" x=\"0.5\" y=\"0.5\" width=\"185\" height=\"18\" style=\"stroke-width: 1px; stroke: rgb(0, 0, 0); stroke-opacity: 0; fill: rgb(0, 0, 0); fill-opacity: 0;\"/><text class=\"annotation-text\" text-anchor=\"middle\" x=\"92.890625\" y=\"14\" style=\"font-family: 'Open Sans', verdana, arial, sans-serif; font-size: 12px; fill: rgb(51, 51, 51); fill-opacity: 1; white-space: pre;\">Info_termsOfService_changes</text></g></g></g><g class=\"annotation\" data-index=\"26\" style=\"opacity: 1;\"><g class=\"annotation-text-g\" transform=\"rotate(0,977,181.32999999999998)\"><g class=\"cursor-pointer\" transform=\"translate(873,172)\"><rect class=\"bg\" x=\"0.5\" y=\"0.5\" width=\"207\" height=\"18\" style=\"stroke-width: 1px; stroke: rgb(0, 0, 0); stroke-opacity: 0; fill: rgb(0, 0, 0); fill-opacity: 0;\"/><text class=\"annotation-text\" text-anchor=\"middle\" x=\"104.09375\" y=\"14\" style=\"font-family: 'Open Sans', verdana, arial, sans-serif; font-size: 12px; fill: rgb(51, 51, 51); fill-opacity: 1; white-space: pre;\">Components_parameters_deleted</text></g></g></g><g class=\"annotation\" data-index=\"27\" style=\"opacity: 1;\"><g class=\"annotation-text-g\" transform=\"rotate(0,209,429.96)\"><g class=\"cursor-pointer\" transform=\"translate(80,420)\"><rect class=\"bg\" x=\"0.5\" y=\"0.5\" width=\"257\" height=\"18\" style=\"stroke-width: 1px; stroke: rgb(0, 0, 0); stroke-opacity: 0; fill: rgb(0, 0, 0); fill-opacity: 0;\"/><text class=\"annotation-text\" text-anchor=\"middle\" x=\"128.9375\" y=\"14\" style=\"font-family: 'Open Sans', verdana, arial, sans-serif; font-size: 12px; fill: rgb(51, 51, 51); fill-opacity: 1; white-space: pre;\">Components_Security_Schemes_modified</text></g></g></g><g class=\"annotation\" data-index=\"28\" style=\"opacity: 1;\"><g class=\"annotation-text-g\" transform=\"rotate(0,231.65,680.25)\"><g class=\"cursor-pointer\" transform=\"translate(186,671)\"><rect class=\"bg\" x=\"0.5\" y=\"0.5\" width=\"91\" height=\"18\" style=\"stroke-width: 1px; stroke: rgb(0, 0, 0); stroke-opacity: 0; fill: rgb(0, 0, 0); fill-opacity: 0;\"/><text class=\"annotation-text\" text-anchor=\"middle\" x=\"45.921875\" y=\"14\" style=\"font-family: 'Open Sans', verdana, arial, sans-serif; font-size: 12px; fill: rgb(51, 51, 51); fill-opacity: 1; white-space: pre;\">Tags_modified</text></g></g></g><g class=\"annotation\" data-index=\"29\" style=\"opacity: 1;\"><g class=\"annotation-text-g\" transform=\"rotate(0,386.49,858.49)\"><g class=\"cursor-pointer\" transform=\"translate(338,849)\"><rect class=\"bg\" x=\"0.5\" y=\"0.5\" width=\"96\" height=\"18\" style=\"stroke-width: 1px; stroke: rgb(0, 0, 0); stroke-opacity: 0; fill: rgb(0, 0, 0); fill-opacity: 0;\"/><text class=\"annotation-text\" text-anchor=\"middle\" x=\"48.265625\" y=\"14\" style=\"font-family: 'Open Sans', verdana, arial, sans-serif; font-size: 12px; fill: rgb(51, 51, 51); fill-opacity: 1; white-space: pre;\">Paths_modified</text></g></g></g><g class=\"annotation\" data-index=\"30\" style=\"opacity: 1;\"><g class=\"annotation-text-g\" transform=\"rotate(0,567.4,521.64)\"><g class=\"cursor-pointer\" transform=\"translate(518,512)\"><rect class=\"bg\" x=\"0.5\" y=\"0.5\" width=\"97\" height=\"18\" style=\"stroke-width: 1px; stroke: rgb(0, 0, 0); stroke-opacity: 0; fill: rgb(0, 0, 0); fill-opacity: 0;\"/><text class=\"annotation-text\" text-anchor=\"middle\" x=\"48.9375\" y=\"14\" style=\"font-family: 'Open Sans', verdana, arial, sans-serif; font-size: 12px; fill: rgb(51, 51, 51); fill-opacity: 1; white-space: pre;\">Security_added</text></g></g></g><g class=\"annotation\" data-index=\"31\" style=\"opacity: 1;\"><g class=\"annotation-text-g\" transform=\"rotate(0,577.12,397.17)\"><g class=\"cursor-pointer\" transform=\"translate(524,388)\"><rect class=\"bg\" x=\"0.5\" y=\"0.5\" width=\"105\" height=\"18\" style=\"stroke-width: 1px; stroke: rgb(0, 0, 0); stroke-opacity: 0; fill: rgb(0, 0, 0); fill-opacity: 0;\"/><text class=\"annotation-text\" text-anchor=\"middle\" x=\"52.75\" y=\"14\" style=\"font-family: 'Open Sans', verdana, arial, sans-serif; font-size: 12px; fill: rgb(51, 51, 51); fill-opacity: 1; white-space: pre;\">Security_deleted</text></g></g></g><g class=\"annotation\" data-index=\"32\" style=\"opacity: 1;\"><g class=\"annotation-text-g\" transform=\"rotate(0,368.48,871.5)\"><g class=\"cursor-pointer\" transform=\"translate(307,862)\"><rect class=\"bg\" x=\"0.5\" y=\"0.5\" width=\"122\" height=\"18\" style=\"stroke-width: 1px; stroke: rgb(0, 0, 0); stroke-opacity: 0; fill: rgb(0, 0, 0); fill-opacity: 0;\"/><text class=\"annotation-text\" text-anchor=\"middle\" x=\"61.390625\" y=\"14\" style=\"font-family: 'Open Sans', verdana, arial, sans-serif; font-size: 12px; fill: rgb(51, 51, 51); fill-opacity: 1; white-space: pre;\">Endpoints_modified</text></g></g></g></g></svg>"
     },
     "metadata": {},
     "output_type": "display_data"
    }
   ],
   "source": [
    "from sklearn.decomposition import PCA\n",
    "\n",
    "\n",
    "X = young_api.loc[:, \"Info_contact_name_changes\":\"Endpoints_modified\"]\n",
    "y = young_api['label']\n",
    "\n",
    "# data scaling\n",
    "x_scaled = StandardScaler().fit_transform(X)\n",
    "\n",
    "pca = PCA(n_components=2)\n",
    " \n",
    "pca_features = pca.fit_transform(x_scaled)\n",
    "\n",
    "# Principal components correlation coefficients\n",
    "loadings = pca.components_\n",
    " \n",
    "# Number of features before PCA\n",
    "n_features = pca.n_features_\n",
    " \n",
    "# Feature names before PCA\n",
    "feature_names = X.columns\n",
    " \n",
    "# PC names\n",
    "pc_list = [f'PC{i}' for i in list(range(1, n_features + 1))]\n",
    " \n",
    "# Match PC names to loadings\n",
    "pc_loadings = dict(zip(pc_list, loadings))\n",
    " \n",
    "# Matrix of corr coefs between feature names and PCs\n",
    "loadings_df = pd.DataFrame.from_dict(pc_loadings)\n",
    "loadings_df['feature_names'] = feature_names\n",
    "loadings_df = loadings_df.set_index('feature_names')\n",
    "\n",
    "# Set correlation threshold\n",
    "threshold = 0.01\n",
    "\n",
    "# Filter loadings_df based on threshold\n",
    "loadings_df_high_corr = loadings_df[loadings_df.abs() > threshold]\n",
    "\n",
    "# Drop rows with all NaN values\n",
    "loadings_df_high_corr = loadings_df_high_corr.dropna()\n",
    "\n",
    "import plotly.graph_objs as go\n",
    "import numpy as np\n",
    "\n",
    "# Get the loadings of x and y axes\n",
    "xs = loadings_df_high_corr['PC1']\n",
    "ys = loadings_df_high_corr['PC2']\n",
    "\n",
    "# Create a scatterplot of the loadings with vectors\n",
    "fig = go.Figure(data=[go.Scatter(\n",
    "    x=xs,\n",
    "    y=ys,\n",
    "    mode='markers',\n",
    "    marker=dict(\n",
    "        size=12,\n",
    "        color=np.random.randn(500), #set color equal to a variable\n",
    "        colorscale='spectral', # one of plotly colorscales\n",
    "        showscale=False\n",
    "    )\n",
    ")])\n",
    "for i in range(len(xs)):\n",
    " fig.add_shape(\n",
    "        type=\"line\",\n",
    "        x0=0,\n",
    "        y0=0,\n",
    "        x1=xs[i],\n",
    "        y1=ys[i],\n",
    "        line=dict(\n",
    "            color=\"black\",\n",
    "            width=0.4\n",
    "        )\n",
    "    )\n",
    "for i in range(len(xs)):\n",
    "    fig.add_annotation(\n",
    "        x=xs[i],\n",
    "        y=ys[i],\n",
    "        text=loadings_df_high_corr.index[i],\n",
    "        showarrow=False\n",
    "    )\n",
    "\n",
    "fig.update_layout(template='ggplot2', title='PCA Loadings for Young APIs', width=1400, height=1000, showlegend=False,xaxis_title='PC1', yaxis_title='PC2')\n",
    "\n",
    "fig.show(\"svg\")\n"
   ]
  },
  {
   "cell_type": "code",
   "execution_count": 24,
   "metadata": {},
   "outputs": [
    {
     "name": "stderr",
     "output_type": "stream",
     "text": [
      "/Library/Frameworks/Python.framework/Versions/3.11/lib/python3.11/site-packages/sklearn/utils/deprecation.py:101: FutureWarning:\n",
      "\n",
      "Attribute `n_features_` was deprecated in version 1.2 and will be removed in 1.4. Use `n_features_in_` instead.\n",
      "\n"
     ]
    },
    {
     "data": {
      "image/svg+xml": "<svg class=\"main-svg\" xmlns=\"http://www.w3.org/2000/svg\" xmlns:xlink=\"http://www.w3.org/1999/xlink\" width=\"1400\" height=\"1000\" style=\"\" viewBox=\"0 0 1400 1000\"><rect x=\"0\" y=\"0\" width=\"1400\" height=\"1000\" style=\"fill: rgb(255, 255, 255); fill-opacity: 1;\"/><defs id=\"defs-ab0868\"><g class=\"clips\"><clipPath id=\"clipab0868xyplot\" class=\"plotclip\"><rect width=\"1240\" height=\"820\"/></clipPath><clipPath class=\"axesclip\" id=\"clipab0868x\"><rect x=\"80\" y=\"0\" width=\"1240\" height=\"1000\"/></clipPath><clipPath class=\"axesclip\" id=\"clipab0868y\"><rect x=\"0\" y=\"100\" width=\"1400\" height=\"820\"/></clipPath><clipPath class=\"axesclip\" id=\"clipab0868xy\"><rect x=\"80\" y=\"100\" width=\"1240\" height=\"820\"/></clipPath></g><g class=\"gradients\"/><g class=\"patterns\"/></defs><g class=\"bglayer\"><rect class=\"bg\" x=\"80\" y=\"100\" width=\"1240\" height=\"820\" style=\"fill: rgb(237, 237, 237); fill-opacity: 1; stroke-width: 0;\"/></g><g class=\"layer-below\"><g class=\"imagelayer\"/><g class=\"shapelayer\"/></g><g class=\"cartesianlayer\"><g class=\"subplot xy\"><g class=\"layer-subplot\"><g class=\"shapelayer\"/><g class=\"imagelayer\"/></g><g class=\"minor-gridlayer\"><g class=\"x\"/><g class=\"y\"/></g><g class=\"gridlayer\"><g class=\"x\"><path class=\"xgrid crisp\" transform=\"translate(300.38,0)\" d=\"M0,100v820\" style=\"stroke: rgb(255, 255, 255); stroke-opacity: 1; stroke-width: 1px;\"/><path class=\"xgrid crisp\" transform=\"translate(466.74,0)\" d=\"M0,100v820\" style=\"stroke: rgb(255, 255, 255); stroke-opacity: 1; stroke-width: 1px;\"/><path class=\"xgrid crisp\" transform=\"translate(633.11,0)\" d=\"M0,100v820\" style=\"stroke: rgb(255, 255, 255); stroke-opacity: 1; stroke-width: 1px;\"/><path class=\"xgrid crisp\" transform=\"translate(799.47,0)\" d=\"M0,100v820\" style=\"stroke: rgb(255, 255, 255); stroke-opacity: 1; stroke-width: 1px;\"/><path class=\"xgrid crisp\" transform=\"translate(965.83,0)\" d=\"M0,100v820\" style=\"stroke: rgb(255, 255, 255); stroke-opacity: 1; stroke-width: 1px;\"/><path class=\"xgrid crisp\" transform=\"translate(1132.19,0)\" d=\"M0,100v820\" style=\"stroke: rgb(255, 255, 255); stroke-opacity: 1; stroke-width: 1px;\"/><path class=\"xgrid crisp\" transform=\"translate(1298.55,0)\" d=\"M0,100v820\" style=\"stroke: rgb(255, 255, 255); stroke-opacity: 1; stroke-width: 1px;\"/></g><g class=\"y\"><path class=\"ygrid crisp\" transform=\"translate(0,910.52)\" d=\"M80,0h1240\" style=\"stroke: rgb(255, 255, 255); stroke-opacity: 1; stroke-width: 1px;\"/><path class=\"ygrid crisp\" transform=\"translate(0,651.45)\" d=\"M80,0h1240\" style=\"stroke: rgb(255, 255, 255); stroke-opacity: 1; stroke-width: 1px;\"/><path class=\"ygrid crisp\" transform=\"translate(0,521.9200000000001)\" d=\"M80,0h1240\" style=\"stroke: rgb(255, 255, 255); stroke-opacity: 1; stroke-width: 1px;\"/><path class=\"ygrid crisp\" transform=\"translate(0,392.38)\" d=\"M80,0h1240\" style=\"stroke: rgb(255, 255, 255); stroke-opacity: 1; stroke-width: 1px;\"/><path class=\"ygrid crisp\" transform=\"translate(0,262.85)\" d=\"M80,0h1240\" style=\"stroke: rgb(255, 255, 255); stroke-opacity: 1; stroke-width: 1px;\"/><path class=\"ygrid crisp\" transform=\"translate(0,133.31)\" d=\"M80,0h1240\" style=\"stroke: rgb(255, 255, 255); stroke-opacity: 1; stroke-width: 1px;\"/></g></g><g class=\"zerolinelayer\"><path class=\"xzl zl crisp\" transform=\"translate(134.02,0)\" d=\"M0,100v820\" style=\"stroke: rgb(255, 255, 255); stroke-opacity: 1; stroke-width: 1px;\"/><path class=\"yzl zl crisp\" transform=\"translate(0,780.98)\" d=\"M80,0h1240\" style=\"stroke: rgb(255, 255, 255); stroke-opacity: 1; stroke-width: 1px;\"/></g><path class=\"xlines-below\"/><path class=\"ylines-below\"/><g class=\"overlines-below\"/><g class=\"xaxislayer-below\"/><g class=\"yaxislayer-below\"/><g class=\"overaxes-below\"/><g class=\"plot\" transform=\"translate(80,100)\" clip-path=\"url(#clipab0868xyplot)\"><g class=\"scatterlayer mlayer\"><g class=\"trace scatter trace15723c\" style=\"stroke-miterlimit: 2; opacity: 1;\"><g class=\"fills\"/><g class=\"errorbars\"/><g class=\"lines\"/><g class=\"points\"><path class=\"point\" transform=\"translate(788.76,729.71)\" d=\"M6,0A6,6 0 1,1 0,-6A6,6 0 0,1 6,0Z\" style=\"opacity: 1; stroke-width: 0px; fill: rgb(201, 233, 158); fill-opacity: 1;\"/><path class=\"point\" transform=\"translate(258.48,50.28)\" d=\"M6,0A6,6 0 1,1 0,-6A6,6 0 0,1 6,0Z\" style=\"opacity: 1; stroke-width: 0px; fill: rgb(240, 249, 168); fill-opacity: 1;\"/><path class=\"point\" transform=\"translate(258.46,50.54)\" d=\"M6,0A6,6 0 1,1 0,-6A6,6 0 0,1 6,0Z\" style=\"opacity: 1; stroke-width: 0px; fill: rgb(251, 160, 91); fill-opacity: 1;\"/><path class=\"point\" transform=\"translate(151.88,646.46)\" d=\"M6,0A6,6 0 1,1 0,-6A6,6 0 0,1 6,0Z\" style=\"opacity: 1; stroke-width: 0px; fill: rgb(237, 248, 163); fill-opacity: 1;\"/><path class=\"point\" transform=\"translate(902.1,664.05)\" d=\"M6,0A6,6 0 1,1 0,-6A6,6 0 0,1 6,0Z\" style=\"opacity: 1; stroke-width: 0px; fill: rgb(253, 198, 117); fill-opacity: 1;\"/><path class=\"point\" transform=\"translate(240.71,48.5)\" d=\"M6,0A6,6 0 1,1 0,-6A6,6 0 0,1 6,0Z\" style=\"opacity: 1; stroke-width: 0px; fill: rgb(196, 231, 159); fill-opacity: 1;\"/><path class=\"point\" transform=\"translate(245.09,52.78)\" d=\"M6,0A6,6 0 1,1 0,-6A6,6 0 0,1 6,0Z\" style=\"opacity: 1; stroke-width: 0px; fill: rgb(237, 248, 163); fill-opacity: 1;\"/><path class=\"point\" transform=\"translate(1115,771.5)\" d=\"M6,0A6,6 0 1,1 0,-6A6,6 0 0,1 6,0Z\" style=\"opacity: 1; stroke-width: 0px; fill: rgb(254, 205, 123); fill-opacity: 1;\"/><path class=\"point\" transform=\"translate(298.98,620.07)\" d=\"M6,0A6,6 0 1,1 0,-6A6,6 0 0,1 6,0Z\" style=\"opacity: 1; stroke-width: 0px; fill: rgb(254, 215, 131); fill-opacity: 1;\"/><path class=\"point\" transform=\"translate(1054.48,746.85)\" d=\"M6,0A6,6 0 1,1 0,-6A6,6 0 0,1 6,0Z\" style=\"opacity: 1; stroke-width: 0px; fill: rgb(188, 228, 161); fill-opacity: 1;\"/><path class=\"point\" transform=\"translate(93.59,633.45)\" d=\"M6,0A6,6 0 1,1 0,-6A6,6 0 0,1 6,0Z\" style=\"opacity: 1; stroke-width: 0px; fill: rgb(154, 214, 164); fill-opacity: 1;\"/><path class=\"point\" transform=\"translate(95,637.61)\" d=\"M6,0A6,6 0 1,1 0,-6A6,6 0 0,1 6,0Z\" style=\"opacity: 1; stroke-width: 0px; fill: rgb(180, 225, 162); fill-opacity: 1;\"/><path class=\"point\" transform=\"translate(205.56,698.5)\" d=\"M6,0A6,6 0 1,1 0,-6A6,6 0 0,1 6,0Z\" style=\"opacity: 1; stroke-width: 0px; fill: rgb(54, 131, 187); fill-opacity: 1;\"/><path class=\"point\" transform=\"translate(909.46,768.26)\" d=\"M6,0A6,6 0 1,1 0,-6A6,6 0 0,1 6,0Z\" style=\"opacity: 1; stroke-width: 0px; fill: rgb(254, 203, 121); fill-opacity: 1;\"/><path class=\"point\" transform=\"translate(464.44,700.32)\" d=\"M6,0A6,6 0 1,1 0,-6A6,6 0 0,1 6,0Z\" style=\"opacity: 1; stroke-width: 0px; fill: rgb(254, 216, 132); fill-opacity: 1;\"/><path class=\"point\" transform=\"translate(975.62,765.92)\" d=\"M6,0A6,6 0 1,1 0,-6A6,6 0 0,1 6,0Z\" style=\"opacity: 1; stroke-width: 0px; fill: rgb(255, 249, 182); fill-opacity: 1;\"/><path class=\"point\" transform=\"translate(326.69,601.46)\" d=\"M6,0A6,6 0 1,1 0,-6A6,6 0 0,1 6,0Z\" style=\"opacity: 1; stroke-width: 0px; fill: rgb(252, 254, 187); fill-opacity: 1;\"/><path class=\"point\" transform=\"translate(584.49,639.5)\" d=\"M6,0A6,6 0 1,1 0,-6A6,6 0 0,1 6,0Z\" style=\"opacity: 1; stroke-width: 0px; fill: rgb(165, 219, 164); fill-opacity: 1;\"/><path class=\"point\" transform=\"translate(909.46,768.26)\" d=\"M6,0A6,6 0 1,1 0,-6A6,6 0 0,1 6,0Z\" style=\"opacity: 1; stroke-width: 0px; fill: rgb(213, 238, 156); fill-opacity: 1;\"/><path class=\"point\" transform=\"translate(600.77,703.74)\" d=\"M6,0A6,6 0 1,1 0,-6A6,6 0 0,1 6,0Z\" style=\"opacity: 1; stroke-width: 0px; fill: rgb(254, 255, 190); fill-opacity: 1;\"/><path class=\"point\" transform=\"translate(745.6,732.96)\" d=\"M6,0A6,6 0 1,1 0,-6A6,6 0 0,1 6,0Z\" style=\"opacity: 1; stroke-width: 0px; fill: rgb(253, 172, 96); fill-opacity: 1;\"/><path class=\"point\" transform=\"translate(761.21,729.27)\" d=\"M6,0A6,6 0 1,1 0,-6A6,6 0 0,1 6,0Z\" style=\"opacity: 1; stroke-width: 0px; fill: rgb(202, 234, 158); fill-opacity: 1;\"/><path class=\"point\" transform=\"translate(877.49,732.51)\" d=\"M6,0A6,6 0 1,1 0,-6A6,6 0 0,1 6,0Z\" style=\"opacity: 1; stroke-width: 0px; fill: rgb(148, 212, 164); fill-opacity: 1;\"/><path class=\"point\" transform=\"translate(688.78,724.38)\" d=\"M6,0A6,6 0 1,1 0,-6A6,6 0 0,1 6,0Z\" style=\"opacity: 1; stroke-width: 0px; fill: rgb(253, 195, 114); fill-opacity: 1;\"/><path class=\"point\" transform=\"translate(515.36,697.38)\" d=\"M6,0A6,6 0 1,1 0,-6A6,6 0 0,1 6,0Z\" style=\"opacity: 1; stroke-width: 0px; fill: rgb(231, 245, 153); fill-opacity: 1;\"/><path class=\"point\" transform=\"translate(376.47,594.16)\" d=\"M6,0A6,6 0 1,1 0,-6A6,6 0 0,1 6,0Z\" style=\"opacity: 1; stroke-width: 0px; fill: rgb(250, 253, 183); fill-opacity: 1;\"/><path class=\"point\" transform=\"translate(239.5,603.46)\" d=\"M6,0A6,6 0 1,1 0,-6A6,6 0 0,1 6,0Z\" style=\"opacity: 1; stroke-width: 0px; fill: rgb(181, 225, 162); fill-opacity: 1;\"/><path class=\"point\" transform=\"translate(517.09,658.9)\" d=\"M6,0A6,6 0 1,1 0,-6A6,6 0 0,1 6,0Z\" style=\"opacity: 1; stroke-width: 0px; fill: rgb(249, 253, 182); fill-opacity: 1;\"/><path class=\"point\" transform=\"translate(1021.87,723.11)\" d=\"M6,0A6,6 0 1,1 0,-6A6,6 0 0,1 6,0Z\" style=\"opacity: 1; stroke-width: 0px; fill: rgb(253, 175, 98); fill-opacity: 1;\"/><path class=\"point\" transform=\"translate(211.32,610.39)\" d=\"M6,0A6,6 0 1,1 0,-6A6,6 0 0,1 6,0Z\" style=\"opacity: 1; stroke-width: 0px; fill: rgb(254, 225, 141); fill-opacity: 1;\"/></g><g class=\"text\"/></g></g></g><g class=\"overplot\"/><path class=\"xlines-above crisp\" d=\"\" style=\"fill: none; stroke-width: 1px; stroke: rgb(0, 0, 0); stroke-opacity: 0;\"/><path class=\"ylines-above crisp\" d=\"\" style=\"fill: none; stroke-width: 1px; stroke: rgb(0, 0, 0); stroke-opacity: 0;\"/><g class=\"overlines-above\"/><g class=\"xaxislayer-above\"><path class=\"xtick ticks crisp\" d=\"M0,921v5\" transform=\"translate(134.02,0)\" style=\"stroke: rgb(51, 51, 51); stroke-opacity: 1; stroke-width: 1px;\"/><path class=\"xtick ticks crisp\" d=\"M0,921v5\" transform=\"translate(300.38,0)\" style=\"stroke: rgb(51, 51, 51); stroke-opacity: 1; stroke-width: 1px;\"/><path class=\"xtick ticks crisp\" d=\"M0,921v5\" transform=\"translate(466.74,0)\" style=\"stroke: rgb(51, 51, 51); stroke-opacity: 1; stroke-width: 1px;\"/><path class=\"xtick ticks crisp\" d=\"M0,921v5\" transform=\"translate(633.11,0)\" style=\"stroke: rgb(51, 51, 51); stroke-opacity: 1; stroke-width: 1px;\"/><path class=\"xtick ticks crisp\" d=\"M0,921v5\" transform=\"translate(799.47,0)\" style=\"stroke: rgb(51, 51, 51); stroke-opacity: 1; stroke-width: 1px;\"/><path class=\"xtick ticks crisp\" d=\"M0,921v5\" transform=\"translate(965.83,0)\" style=\"stroke: rgb(51, 51, 51); stroke-opacity: 1; stroke-width: 1px;\"/><path class=\"xtick ticks crisp\" d=\"M0,921v5\" transform=\"translate(1132.19,0)\" style=\"stroke: rgb(51, 51, 51); stroke-opacity: 1; stroke-width: 1px;\"/><path class=\"xtick ticks crisp\" d=\"M0,921v5\" transform=\"translate(1298.55,0)\" style=\"stroke: rgb(51, 51, 51); stroke-opacity: 1; stroke-width: 1px;\"/><g class=\"xtick\"><text text-anchor=\"middle\" x=\"0\" y=\"940.4\" transform=\"translate(134.02,0)\" style=\"font-family: 'Open Sans', verdana, arial, sans-serif; font-size: 12px; fill: rgb(51, 51, 51); fill-opacity: 1; white-space: pre; opacity: 1;\">0</text></g><g class=\"xtick\"><text text-anchor=\"middle\" x=\"0\" y=\"940.4\" style=\"font-family: 'Open Sans', verdana, arial, sans-serif; font-size: 12px; fill: rgb(51, 51, 51); fill-opacity: 1; white-space: pre; opacity: 1;\" transform=\"translate(300.38,0)\">0.05</text></g><g class=\"xtick\"><text text-anchor=\"middle\" x=\"0\" y=\"940.4\" style=\"font-family: 'Open Sans', verdana, arial, sans-serif; font-size: 12px; fill: rgb(51, 51, 51); fill-opacity: 1; white-space: pre; opacity: 1;\" transform=\"translate(466.74,0)\">0.1</text></g><g class=\"xtick\"><text text-anchor=\"middle\" x=\"0\" y=\"940.4\" style=\"font-family: 'Open Sans', verdana, arial, sans-serif; font-size: 12px; fill: rgb(51, 51, 51); fill-opacity: 1; white-space: pre; opacity: 1;\" transform=\"translate(633.11,0)\">0.15</text></g><g class=\"xtick\"><text text-anchor=\"middle\" x=\"0\" y=\"940.4\" style=\"font-family: 'Open Sans', verdana, arial, sans-serif; font-size: 12px; fill: rgb(51, 51, 51); fill-opacity: 1; white-space: pre; opacity: 1;\" transform=\"translate(799.47,0)\">0.2</text></g><g class=\"xtick\"><text text-anchor=\"middle\" x=\"0\" y=\"940.4\" style=\"font-family: 'Open Sans', verdana, arial, sans-serif; font-size: 12px; fill: rgb(51, 51, 51); fill-opacity: 1; white-space: pre; opacity: 1;\" transform=\"translate(965.83,0)\">0.25</text></g><g class=\"xtick\"><text text-anchor=\"middle\" x=\"0\" y=\"940.4\" style=\"font-family: 'Open Sans', verdana, arial, sans-serif; font-size: 12px; fill: rgb(51, 51, 51); fill-opacity: 1; white-space: pre; opacity: 1;\" transform=\"translate(1132.19,0)\">0.3</text></g><g class=\"xtick\"><text text-anchor=\"middle\" x=\"0\" y=\"940.4\" style=\"font-family: 'Open Sans', verdana, arial, sans-serif; font-size: 12px; fill: rgb(51, 51, 51); fill-opacity: 1; white-space: pre; opacity: 1;\" transform=\"translate(1298.55,0)\">0.35</text></g></g><g class=\"yaxislayer-above\"><path class=\"ytick ticks crisp\" d=\"M79,0h-5\" transform=\"translate(0,910.52)\" style=\"stroke: rgb(51, 51, 51); stroke-opacity: 1; stroke-width: 1px;\"/><path class=\"ytick ticks crisp\" d=\"M79,0h-5\" transform=\"translate(0,780.98)\" style=\"stroke: rgb(51, 51, 51); stroke-opacity: 1; stroke-width: 1px;\"/><path class=\"ytick ticks crisp\" d=\"M79,0h-5\" transform=\"translate(0,651.45)\" style=\"stroke: rgb(51, 51, 51); stroke-opacity: 1; stroke-width: 1px;\"/><path class=\"ytick ticks crisp\" d=\"M79,0h-5\" transform=\"translate(0,521.9200000000001)\" style=\"stroke: rgb(51, 51, 51); stroke-opacity: 1; stroke-width: 1px;\"/><path class=\"ytick ticks crisp\" d=\"M79,0h-5\" transform=\"translate(0,392.38)\" style=\"stroke: rgb(51, 51, 51); stroke-opacity: 1; stroke-width: 1px;\"/><path class=\"ytick ticks crisp\" d=\"M79,0h-5\" transform=\"translate(0,262.85)\" style=\"stroke: rgb(51, 51, 51); stroke-opacity: 1; stroke-width: 1px;\"/><path class=\"ytick ticks crisp\" d=\"M79,0h-5\" transform=\"translate(0,133.31)\" style=\"stroke: rgb(51, 51, 51); stroke-opacity: 1; stroke-width: 1px;\"/><g class=\"ytick\"><text text-anchor=\"end\" x=\"71.6\" y=\"4.199999999999999\" transform=\"translate(0,910.52)\" style=\"font-family: 'Open Sans', verdana, arial, sans-serif; font-size: 12px; fill: rgb(51, 51, 51); fill-opacity: 1; white-space: pre; opacity: 1;\">−0.1</text></g><g class=\"ytick\"><text text-anchor=\"end\" x=\"71.6\" y=\"4.199999999999999\" style=\"font-family: 'Open Sans', verdana, arial, sans-serif; font-size: 12px; fill: rgb(51, 51, 51); fill-opacity: 1; white-space: pre; opacity: 1;\" transform=\"translate(0,780.98)\">0</text></g><g class=\"ytick\"><text text-anchor=\"end\" x=\"71.6\" y=\"4.199999999999999\" style=\"font-family: 'Open Sans', verdana, arial, sans-serif; font-size: 12px; fill: rgb(51, 51, 51); fill-opacity: 1; white-space: pre; opacity: 1;\" transform=\"translate(0,651.45)\">0.1</text></g><g class=\"ytick\"><text text-anchor=\"end\" x=\"71.6\" y=\"4.199999999999999\" style=\"font-family: 'Open Sans', verdana, arial, sans-serif; font-size: 12px; fill: rgb(51, 51, 51); fill-opacity: 1; white-space: pre; opacity: 1;\" transform=\"translate(0,521.9200000000001)\">0.2</text></g><g class=\"ytick\"><text text-anchor=\"end\" x=\"71.6\" y=\"4.199999999999999\" style=\"font-family: 'Open Sans', verdana, arial, sans-serif; font-size: 12px; fill: rgb(51, 51, 51); fill-opacity: 1; white-space: pre; opacity: 1;\" transform=\"translate(0,392.38)\">0.3</text></g><g class=\"ytick\"><text text-anchor=\"end\" x=\"71.6\" y=\"4.199999999999999\" style=\"font-family: 'Open Sans', verdana, arial, sans-serif; font-size: 12px; fill: rgb(51, 51, 51); fill-opacity: 1; white-space: pre; opacity: 1;\" transform=\"translate(0,262.85)\">0.4</text></g><g class=\"ytick\"><text text-anchor=\"end\" x=\"71.6\" y=\"4.199999999999999\" style=\"font-family: 'Open Sans', verdana, arial, sans-serif; font-size: 12px; fill: rgb(51, 51, 51); fill-opacity: 1; white-space: pre; opacity: 1;\" transform=\"translate(0,133.31)\">0.5</text></g></g><g class=\"overaxes-above\"/></g></g><g class=\"polarlayer\"/><g class=\"smithlayer\"/><g class=\"ternarylayer\"/><g class=\"geolayer\"/><g class=\"funnelarealayer\"/><g class=\"pielayer\"/><g class=\"iciclelayer\"/><g class=\"treemaplayer\"/><g class=\"sunburstlayer\"/><g class=\"glimages\"/><defs id=\"topdefs-ab0868\"><g class=\"clips\"/></defs><g class=\"layer-above\"><g class=\"imagelayer\"/><g class=\"shapelayer\"><g class=\"shape-group\" data-index=\"0\" clip-path=\"url(#clipab0868xy)\"><path data-index=\"0\" fill-rule=\"evenodd\" d=\"M134.02,780.98L868.76,829.71\" style=\"opacity: 0.3; stroke: rgb(0, 0, 0); stroke-opacity: 1; fill: rgb(0, 0, 0); fill-opacity: 1; stroke-width: 0.4px;\"/></g><g class=\"shape-group\" data-index=\"1\" clip-path=\"url(#clipab0868xy)\"><path data-index=\"1\" fill-rule=\"evenodd\" d=\"M134.02,780.98L338.48,150.28\" style=\"opacity: 0.3; stroke: rgb(0, 0, 0); stroke-opacity: 1; fill: rgb(0, 0, 0); fill-opacity: 1; stroke-width: 0.4px;\"/></g><g class=\"shape-group\" data-index=\"2\" clip-path=\"url(#clipab0868xy)\"><path data-index=\"2\" fill-rule=\"evenodd\" d=\"M134.02,780.98L338.46,150.54\" style=\"opacity: 0.3; stroke: rgb(0, 0, 0); stroke-opacity: 1; fill: rgb(0, 0, 0); fill-opacity: 1; stroke-width: 0.4px;\"/></g><g class=\"shape-group\" data-index=\"3\" clip-path=\"url(#clipab0868xy)\"><path data-index=\"3\" fill-rule=\"evenodd\" d=\"M134.02,780.98L231.88,746.46\" style=\"opacity: 0.3; stroke: rgb(0, 0, 0); stroke-opacity: 1; fill: rgb(0, 0, 0); fill-opacity: 1; stroke-width: 0.4px;\"/></g><g class=\"shape-group\" data-index=\"4\" clip-path=\"url(#clipab0868xy)\"><path data-index=\"4\" fill-rule=\"evenodd\" d=\"M134.02,780.98L982.1,764.05\" style=\"opacity: 0.3; stroke: rgb(0, 0, 0); stroke-opacity: 1; fill: rgb(0, 0, 0); fill-opacity: 1; stroke-width: 0.4px;\"/></g><g class=\"shape-group\" data-index=\"5\" clip-path=\"url(#clipab0868xy)\"><path data-index=\"5\" fill-rule=\"evenodd\" d=\"M134.02,780.98L320.71000000000004,148.5\" style=\"opacity: 0.3; stroke: rgb(0, 0, 0); stroke-opacity: 1; fill: rgb(0, 0, 0); fill-opacity: 1; stroke-width: 0.4px;\"/></g><g class=\"shape-group\" data-index=\"6\" clip-path=\"url(#clipab0868xy)\"><path data-index=\"6\" fill-rule=\"evenodd\" d=\"M134.02,780.98L325.09000000000003,152.78\" style=\"opacity: 0.3; stroke: rgb(0, 0, 0); stroke-opacity: 1; fill: rgb(0, 0, 0); fill-opacity: 1; stroke-width: 0.4px;\"/></g><g class=\"shape-group\" data-index=\"7\" clip-path=\"url(#clipab0868xy)\"><path data-index=\"7\" fill-rule=\"evenodd\" d=\"M134.02,780.98L1195,871.5\" style=\"opacity: 0.3; stroke: rgb(0, 0, 0); stroke-opacity: 1; fill: rgb(0, 0, 0); fill-opacity: 1; stroke-width: 0.4px;\"/></g><g class=\"shape-group\" data-index=\"8\" clip-path=\"url(#clipab0868xy)\"><path data-index=\"8\" fill-rule=\"evenodd\" d=\"M134.02,780.98L378.98,720.07\" style=\"opacity: 0.3; stroke: rgb(0, 0, 0); stroke-opacity: 1; fill: rgb(0, 0, 0); fill-opacity: 1; stroke-width: 0.4px;\"/></g><g class=\"shape-group\" data-index=\"9\" clip-path=\"url(#clipab0868xy)\"><path data-index=\"9\" fill-rule=\"evenodd\" d=\"M134.02,780.98L1134.48,846.85\" style=\"opacity: 0.3; stroke: rgb(0, 0, 0); stroke-opacity: 1; fill: rgb(0, 0, 0); fill-opacity: 1; stroke-width: 0.4px;\"/></g><g class=\"shape-group\" data-index=\"10\" clip-path=\"url(#clipab0868xy)\"><path data-index=\"10\" fill-rule=\"evenodd\" d=\"M134.02,780.98L173.59,733.45\" style=\"opacity: 0.3; stroke: rgb(0, 0, 0); stroke-opacity: 1; fill: rgb(0, 0, 0); fill-opacity: 1; stroke-width: 0.4px;\"/></g><g class=\"shape-group\" data-index=\"11\" clip-path=\"url(#clipab0868xy)\"><path data-index=\"11\" fill-rule=\"evenodd\" d=\"M134.02,780.98L175,737.61\" style=\"opacity: 0.3; stroke: rgb(0, 0, 0); stroke-opacity: 1; fill: rgb(0, 0, 0); fill-opacity: 1; stroke-width: 0.4px;\"/></g><g class=\"shape-group\" data-index=\"12\" clip-path=\"url(#clipab0868xy)\"><path data-index=\"12\" fill-rule=\"evenodd\" d=\"M134.02,780.98L285.56,798.5\" style=\"opacity: 0.3; stroke: rgb(0, 0, 0); stroke-opacity: 1; fill: rgb(0, 0, 0); fill-opacity: 1; stroke-width: 0.4px;\"/></g><g class=\"shape-group\" data-index=\"13\" clip-path=\"url(#clipab0868xy)\"><path data-index=\"13\" fill-rule=\"evenodd\" d=\"M134.02,780.98L989.46,868.26\" style=\"opacity: 0.3; stroke: rgb(0, 0, 0); stroke-opacity: 1; fill: rgb(0, 0, 0); fill-opacity: 1; stroke-width: 0.4px;\"/></g><g class=\"shape-group\" data-index=\"14\" clip-path=\"url(#clipab0868xy)\"><path data-index=\"14\" fill-rule=\"evenodd\" d=\"M134.02,780.98L544.44,800.32\" style=\"opacity: 0.3; stroke: rgb(0, 0, 0); stroke-opacity: 1; fill: rgb(0, 0, 0); fill-opacity: 1; stroke-width: 0.4px;\"/></g><g class=\"shape-group\" data-index=\"15\" clip-path=\"url(#clipab0868xy)\"><path data-index=\"15\" fill-rule=\"evenodd\" d=\"M134.02,780.98L1055.62,865.92\" style=\"opacity: 0.3; stroke: rgb(0, 0, 0); stroke-opacity: 1; fill: rgb(0, 0, 0); fill-opacity: 1; stroke-width: 0.4px;\"/></g><g class=\"shape-group\" data-index=\"16\" clip-path=\"url(#clipab0868xy)\"><path data-index=\"16\" fill-rule=\"evenodd\" d=\"M134.02,780.98L406.69,701.46\" style=\"opacity: 0.3; stroke: rgb(0, 0, 0); stroke-opacity: 1; fill: rgb(0, 0, 0); fill-opacity: 1; stroke-width: 0.4px;\"/></g><g class=\"shape-group\" data-index=\"17\" clip-path=\"url(#clipab0868xy)\"><path data-index=\"17\" fill-rule=\"evenodd\" d=\"M134.02,780.98L664.49,739.5\" style=\"opacity: 0.3; stroke: rgb(0, 0, 0); stroke-opacity: 1; fill: rgb(0, 0, 0); fill-opacity: 1; stroke-width: 0.4px;\"/></g><g class=\"shape-group\" data-index=\"18\" clip-path=\"url(#clipab0868xy)\"><path data-index=\"18\" fill-rule=\"evenodd\" d=\"M134.02,780.98L989.46,868.26\" style=\"opacity: 0.3; stroke: rgb(0, 0, 0); stroke-opacity: 1; fill: rgb(0, 0, 0); fill-opacity: 1; stroke-width: 0.4px;\"/></g><g class=\"shape-group\" data-index=\"19\" clip-path=\"url(#clipab0868xy)\"><path data-index=\"19\" fill-rule=\"evenodd\" d=\"M134.02,780.98L680.77,803.74\" style=\"opacity: 0.3; stroke: rgb(0, 0, 0); stroke-opacity: 1; fill: rgb(0, 0, 0); fill-opacity: 1; stroke-width: 0.4px;\"/></g><g class=\"shape-group\" data-index=\"20\" clip-path=\"url(#clipab0868xy)\"><path data-index=\"20\" fill-rule=\"evenodd\" d=\"M134.02,780.98L825.6,832.96\" style=\"opacity: 0.3; stroke: rgb(0, 0, 0); stroke-opacity: 1; fill: rgb(0, 0, 0); fill-opacity: 1; stroke-width: 0.4px;\"/></g><g class=\"shape-group\" data-index=\"21\" clip-path=\"url(#clipab0868xy)\"><path data-index=\"21\" fill-rule=\"evenodd\" d=\"M134.02,780.98L841.21,829.27\" style=\"opacity: 0.3; stroke: rgb(0, 0, 0); stroke-opacity: 1; fill: rgb(0, 0, 0); fill-opacity: 1; stroke-width: 0.4px;\"/></g><g class=\"shape-group\" data-index=\"22\" clip-path=\"url(#clipab0868xy)\"><path data-index=\"22\" fill-rule=\"evenodd\" d=\"M134.02,780.98L957.49,832.51\" style=\"opacity: 0.3; stroke: rgb(0, 0, 0); stroke-opacity: 1; fill: rgb(0, 0, 0); fill-opacity: 1; stroke-width: 0.4px;\"/></g><g class=\"shape-group\" data-index=\"23\" clip-path=\"url(#clipab0868xy)\"><path data-index=\"23\" fill-rule=\"evenodd\" d=\"M134.02,780.98L768.78,824.38\" style=\"opacity: 0.3; stroke: rgb(0, 0, 0); stroke-opacity: 1; fill: rgb(0, 0, 0); fill-opacity: 1; stroke-width: 0.4px;\"/></g><g class=\"shape-group\" data-index=\"24\" clip-path=\"url(#clipab0868xy)\"><path data-index=\"24\" fill-rule=\"evenodd\" d=\"M134.02,780.98L595.36,797.38\" style=\"opacity: 0.3; stroke: rgb(0, 0, 0); stroke-opacity: 1; fill: rgb(0, 0, 0); fill-opacity: 1; stroke-width: 0.4px;\"/></g><g class=\"shape-group\" data-index=\"25\" clip-path=\"url(#clipab0868xy)\"><path data-index=\"25\" fill-rule=\"evenodd\" d=\"M134.02,780.98L456.47,694.16\" style=\"opacity: 0.3; stroke: rgb(0, 0, 0); stroke-opacity: 1; fill: rgb(0, 0, 0); fill-opacity: 1; stroke-width: 0.4px;\"/></g><g class=\"shape-group\" data-index=\"26\" clip-path=\"url(#clipab0868xy)\"><path data-index=\"26\" fill-rule=\"evenodd\" d=\"M134.02,780.98L319.5,703.46\" style=\"opacity: 0.3; stroke: rgb(0, 0, 0); stroke-opacity: 1; fill: rgb(0, 0, 0); fill-opacity: 1; stroke-width: 0.4px;\"/></g><g class=\"shape-group\" data-index=\"27\" clip-path=\"url(#clipab0868xy)\"><path data-index=\"27\" fill-rule=\"evenodd\" d=\"M134.02,780.98L597.09,758.9\" style=\"opacity: 0.3; stroke: rgb(0, 0, 0); stroke-opacity: 1; fill: rgb(0, 0, 0); fill-opacity: 1; stroke-width: 0.4px;\"/></g><g class=\"shape-group\" data-index=\"28\" clip-path=\"url(#clipab0868xy)\"><path data-index=\"28\" fill-rule=\"evenodd\" d=\"M134.02,780.98L1101.87,823.11\" style=\"opacity: 0.3; stroke: rgb(0, 0, 0); stroke-opacity: 1; fill: rgb(0, 0, 0); fill-opacity: 1; stroke-width: 0.4px;\"/></g><g class=\"shape-group\" data-index=\"29\" clip-path=\"url(#clipab0868xy)\"><path data-index=\"29\" fill-rule=\"evenodd\" d=\"M134.02,780.98L291.32,710.39\" style=\"opacity: 0.3; stroke: rgb(0, 0, 0); stroke-opacity: 1; fill: rgb(0, 0, 0); fill-opacity: 1; stroke-width: 0.4px;\"/></g></g></g><g class=\"infolayer\"><g class=\"g-gtitle\"><text class=\"gtitle\" x=\"700\" y=\"50\" text-anchor=\"middle\" dy=\"0em\" style=\"font-family: 'Open Sans', verdana, arial, sans-serif; font-size: 17px; fill: rgb(51, 51, 51); opacity: 1; font-weight: normal; white-space: pre;\">PCA Loadings for Old APIs</text></g><g class=\"g-xtitle\"><text class=\"xtitle\" x=\"700\" y=\"967.20625\" text-anchor=\"middle\" style=\"font-family: 'Open Sans', verdana, arial, sans-serif; font-size: 14px; fill: rgb(51, 51, 51); opacity: 1; font-weight: normal; white-space: pre;\">PC1</text></g><g class=\"g-ytitle\"><text class=\"ytitle\" transform=\"rotate(-90,17.856250000000003,510)\" x=\"17.856250000000003\" y=\"510\" text-anchor=\"middle\" style=\"font-family: 'Open Sans', verdana, arial, sans-serif; font-size: 14px; fill: rgb(51, 51, 51); opacity: 1; font-weight: normal; white-space: pre;\">PC2</text></g><g class=\"annotation\" data-index=\"0\" style=\"opacity: 1;\"><g class=\"annotation-text-g\" transform=\"rotate(0,868.76,829.71)\"><g class=\"cursor-pointer\" transform=\"translate(780,820)\"><rect class=\"bg\" x=\"0.5\" y=\"0.5\" width=\"177\" height=\"18\" style=\"stroke-width: 1px; stroke: rgb(0, 0, 0); stroke-opacity: 0; fill: rgb(0, 0, 0); fill-opacity: 0;\"/><text class=\"annotation-text\" text-anchor=\"middle\" x=\"89.125\" y=\"14\" style=\"font-family: 'Open Sans', verdana, arial, sans-serif; font-size: 12px; fill: rgb(51, 51, 51); fill-opacity: 1; white-space: pre;\">Info_contact_name_changes</text></g></g></g><g class=\"annotation\" data-index=\"1\" style=\"opacity: 1;\"><g class=\"annotation-text-g\" transform=\"rotate(0,338.48,150.28)\"><g class=\"cursor-pointer\" transform=\"translate(284,141)\"><rect class=\"bg\" x=\"0.5\" y=\"0.5\" width=\"107\" height=\"18\" style=\"stroke-width: 1px; stroke: rgb(0, 0, 0); stroke-opacity: 0; fill: rgb(0, 0, 0); fill-opacity: 0;\"/><text class=\"annotation-text\" text-anchor=\"middle\" x=\"53.859375\" y=\"14\" style=\"font-family: 'Open Sans', verdana, arial, sans-serif; font-size: 12px; fill: rgb(51, 51, 51); fill-opacity: 1; white-space: pre;\">Endpoints_added</text></g></g></g><g class=\"annotation\" data-index=\"2\" style=\"opacity: 1;\"><g class=\"annotation-text-g\" transform=\"rotate(0,338.46,150.54)\"><g class=\"cursor-pointer\" transform=\"translate(281,141)\"><rect class=\"bg\" x=\"0.5\" y=\"0.5\" width=\"114\" height=\"18\" style=\"stroke-width: 1px; stroke: rgb(0, 0, 0); stroke-opacity: 0; fill: rgb(0, 0, 0); fill-opacity: 0;\"/><text class=\"annotation-text\" text-anchor=\"middle\" x=\"57.671875\" y=\"14\" style=\"font-family: 'Open Sans', verdana, arial, sans-serif; font-size: 12px; fill: rgb(51, 51, 51); fill-opacity: 1; white-space: pre;\">Endpoints_deleted</text></g></g></g><g class=\"annotation\" data-index=\"3\" style=\"opacity: 1;\"><g class=\"annotation-text-g\" transform=\"rotate(0,231.88,746.46)\"><g class=\"cursor-pointer\" transform=\"translate(131,737)\"><rect class=\"bg\" x=\"0.5\" y=\"0.5\" width=\"200\" height=\"18\" style=\"stroke-width: 1px; stroke: rgb(0, 0, 0); stroke-opacity: 0; fill: rgb(0, 0, 0); fill-opacity: 0;\"/><text class=\"annotation-text\" text-anchor=\"middle\" x=\"100.28125\" y=\"14\" style=\"font-family: 'Open Sans', verdana, arial, sans-serif; font-size: 12px; fill: rgb(51, 51, 51); fill-opacity: 1; white-space: pre;\">Components_parameters_added</text></g></g></g><g class=\"annotation\" data-index=\"4\" style=\"opacity: 1;\"><g class=\"annotation-text-g\" transform=\"rotate(0,982.1,764.05)\"><g class=\"cursor-pointer\" transform=\"translate(931,755)\"><rect class=\"bg\" x=\"0.5\" y=\"0.5\" width=\"101\" height=\"18\" style=\"stroke-width: 1px; stroke: rgb(0, 0, 0); stroke-opacity: 0; fill: rgb(0, 0, 0); fill-opacity: 0;\"/><text class=\"annotation-text\" text-anchor=\"middle\" x=\"51.078125\" y=\"14\" style=\"font-family: 'Open Sans', verdana, arial, sans-serif; font-size: 12px; fill: rgb(51, 51, 51); fill-opacity: 1; white-space: pre;\">Servers_deleted</text></g></g></g><g class=\"annotation\" data-index=\"5\" style=\"opacity: 1;\"><g class=\"annotation-text-g\" transform=\"rotate(0,320.71000000000004,148.5)\"><g class=\"cursor-pointer\" transform=\"translate(280,139)\"><rect class=\"bg\" x=\"0.5\" y=\"0.5\" width=\"80\" height=\"18\" style=\"stroke-width: 1px; stroke: rgb(0, 0, 0); stroke-opacity: 0; fill: rgb(0, 0, 0); fill-opacity: 0;\"/><text class=\"annotation-text\" text-anchor=\"middle\" x=\"40.71875\" y=\"14\" style=\"font-family: 'Open Sans', verdana, arial, sans-serif; font-size: 12px; fill: rgb(51, 51, 51); fill-opacity: 1; white-space: pre;\">Paths_added</text></g></g></g><g class=\"annotation\" data-index=\"6\" style=\"opacity: 1;\"><g class=\"annotation-text-g\" transform=\"rotate(0,325.09000000000003,152.78)\"><g class=\"cursor-pointer\" transform=\"translate(281,143)\"><rect class=\"bg\" x=\"0.5\" y=\"0.5\" width=\"88\" height=\"18\" style=\"stroke-width: 1px; stroke: rgb(0, 0, 0); stroke-opacity: 0; fill: rgb(0, 0, 0); fill-opacity: 0;\"/><text class=\"annotation-text\" text-anchor=\"middle\" x=\"44.546875\" y=\"14\" style=\"font-family: 'Open Sans', verdana, arial, sans-serif; font-size: 12px; fill: rgb(51, 51, 51); fill-opacity: 1; white-space: pre;\">Paths_deleted</text></g></g></g><g class=\"annotation\" data-index=\"7\" style=\"opacity: 1;\"><g class=\"annotation-text-g\" transform=\"rotate(0,1195,871.5)\"><g class=\"cursor-pointer\" transform=\"translate(1070,862)\"><rect class=\"bg\" x=\"0.5\" y=\"0.5\" width=\"249\" height=\"18\" style=\"stroke-width: 1px; stroke: rgb(0, 0, 0); stroke-opacity: 0; fill: rgb(0, 0, 0); fill-opacity: 0;\"/><text class=\"annotation-text\" text-anchor=\"middle\" x=\"125.21875\" y=\"14\" style=\"font-family: 'Open Sans', verdana, arial, sans-serif; font-size: 12px; fill: rgb(51, 51, 51); fill-opacity: 1; white-space: pre;\">Components_Security_Schemes_deleted</text></g></g></g><g class=\"annotation\" data-index=\"8\" style=\"opacity: 1;\"><g class=\"annotation-text-g\" transform=\"rotate(0,378.98,720.07)\"><g class=\"cursor-pointer\" transform=\"translate(340,711)\"><rect class=\"bg\" x=\"0.5\" y=\"0.5\" width=\"76\" height=\"18\" style=\"stroke-width: 1px; stroke: rgb(0, 0, 0); stroke-opacity: 0; fill: rgb(0, 0, 0); fill-opacity: 0;\"/><text class=\"annotation-text\" text-anchor=\"middle\" x=\"38.375\" y=\"14\" style=\"font-family: 'Open Sans', verdana, arial, sans-serif; font-size: 12px; fill: rgb(51, 51, 51); fill-opacity: 1; white-space: pre;\">Tags_added</text></g></g></g><g class=\"annotation\" data-index=\"9\" style=\"opacity: 1;\"><g class=\"annotation-text-g\" transform=\"rotate(0,1134.48,846.85)\"><g class=\"cursor-pointer\" transform=\"translate(1092,837)\"><rect class=\"bg\" x=\"0.5\" y=\"0.5\" width=\"83\" height=\"18\" style=\"stroke-width: 1px; stroke: rgb(0, 0, 0); stroke-opacity: 0; fill: rgb(0, 0, 0); fill-opacity: 0;\"/><text class=\"annotation-text\" text-anchor=\"middle\" x=\"42.203125\" y=\"14\" style=\"font-family: 'Open Sans', verdana, arial, sans-serif; font-size: 12px; fill: rgb(51, 51, 51); fill-opacity: 1; white-space: pre;\">Tags_deleted</text></g></g></g><g class=\"annotation\" data-index=\"10\" style=\"opacity: 1;\"><g class=\"annotation-text-g\" transform=\"rotate(0,173.59,733.45)\"><g class=\"cursor-pointer\" transform=\"translate(83,724)\"><rect class=\"bg\" x=\"0.5\" y=\"0.5\" width=\"181\" height=\"18\" style=\"stroke-width: 1px; stroke: rgb(0, 0, 0); stroke-opacity: 0; fill: rgb(0, 0, 0); fill-opacity: 0;\"/><text class=\"annotation-text\" text-anchor=\"middle\" x=\"90.921875\" y=\"14\" style=\"font-family: 'Open Sans', verdana, arial, sans-serif; font-size: 12px; fill: rgb(51, 51, 51); fill-opacity: 1; white-space: pre;\">Components_Headers_Added</text></g></g></g><g class=\"annotation\" data-index=\"11\" style=\"opacity: 1;\"><g class=\"annotation-text-g\" transform=\"rotate(0,175,737.61)\"><g class=\"cursor-pointer\" transform=\"translate(80,728)\"><rect class=\"bg\" x=\"0.5\" y=\"0.5\" width=\"189\" height=\"18\" style=\"stroke-width: 1px; stroke: rgb(0, 0, 0); stroke-opacity: 0; fill: rgb(0, 0, 0); fill-opacity: 0;\"/><text class=\"annotation-text\" text-anchor=\"middle\" x=\"95.125\" y=\"14\" style=\"font-family: 'Open Sans', verdana, arial, sans-serif; font-size: 12px; fill: rgb(51, 51, 51); fill-opacity: 1; white-space: pre;\">Components_Headers_Deleted</text></g></g></g><g class=\"annotation\" data-index=\"12\" style=\"opacity: 1;\"><g class=\"annotation-text-g\" transform=\"rotate(0,285.56,798.5)\"><g class=\"cursor-pointer\" transform=\"translate(172,789)\"><rect class=\"bg\" x=\"0.5\" y=\"0.5\" width=\"227\" height=\"18\" style=\"stroke-width: 1px; stroke: rgb(0, 0, 0); stroke-opacity: 0; fill: rgb(0, 0, 0); fill-opacity: 0;\"/><text class=\"annotation-text\" text-anchor=\"middle\" x=\"114.234375\" y=\"14\" style=\"font-family: 'Open Sans', verdana, arial, sans-serif; font-size: 12px; fill: rgb(51, 51, 51); fill-opacity: 1; white-space: pre;\">Components_Request_Bodies_Added</text></g></g></g><g class=\"annotation\" data-index=\"13\" style=\"opacity: 1;\"><g class=\"annotation-text-g\" transform=\"rotate(0,989.46,868.26)\"><g class=\"cursor-pointer\" transform=\"translate(871,859)\"><rect class=\"bg\" x=\"0.5\" y=\"0.5\" width=\"236\" height=\"18\" style=\"stroke-width: 1px; stroke: rgb(0, 0, 0); stroke-opacity: 0; fill: rgb(0, 0, 0); fill-opacity: 0;\"/><text class=\"annotation-text\" text-anchor=\"middle\" x=\"118.4375\" y=\"14\" style=\"font-family: 'Open Sans', verdana, arial, sans-serif; font-size: 12px; fill: rgb(51, 51, 51); fill-opacity: 1; white-space: pre;\">Components_Request_Bodies_Deleted</text></g></g></g><g class=\"annotation\" data-index=\"14\" style=\"opacity: 1;\"><g class=\"annotation-text-g\" transform=\"rotate(0,544.44,800.32)\"><g class=\"cursor-pointer\" transform=\"translate(446,791)\"><rect class=\"bg\" x=\"0.5\" y=\"0.5\" width=\"195\" height=\"18\" style=\"stroke-width: 1px; stroke: rgb(0, 0, 0); stroke-opacity: 0; fill: rgb(0, 0, 0); fill-opacity: 0;\"/><text class=\"annotation-text\" text-anchor=\"middle\" x=\"98.109375\" y=\"14\" style=\"font-family: 'Open Sans', verdana, arial, sans-serif; font-size: 12px; fill: rgb(51, 51, 51); fill-opacity: 1; white-space: pre;\">Components_Responses_Added</text></g></g></g><g class=\"annotation\" data-index=\"15\" style=\"opacity: 1;\"><g class=\"annotation-text-g\" transform=\"rotate(0,1055.62,865.92)\"><g class=\"cursor-pointer\" transform=\"translate(953,856)\"><rect class=\"bg\" x=\"0.5\" y=\"0.5\" width=\"204\" height=\"18\" style=\"stroke-width: 1px; stroke: rgb(0, 0, 0); stroke-opacity: 0; fill: rgb(0, 0, 0); fill-opacity: 0;\"/><text class=\"annotation-text\" text-anchor=\"middle\" x=\"102.3125\" y=\"14\" style=\"font-family: 'Open Sans', verdana, arial, sans-serif; font-size: 12px; fill: rgb(51, 51, 51); fill-opacity: 1; white-space: pre;\">Components_Responses_Deleted</text></g></g></g><g class=\"annotation\" data-index=\"16\" style=\"opacity: 1;\"><g class=\"annotation-text-g\" transform=\"rotate(0,406.69,701.46)\"><g class=\"cursor-pointer\" transform=\"translate(313,692)\"><rect class=\"bg\" x=\"0.5\" y=\"0.5\" width=\"186\" height=\"18\" style=\"stroke-width: 1px; stroke: rgb(0, 0, 0); stroke-opacity: 0; fill: rgb(0, 0, 0); fill-opacity: 0;\"/><text class=\"annotation-text\" text-anchor=\"middle\" x=\"93.390625\" y=\"14\" style=\"font-family: 'Open Sans', verdana, arial, sans-serif; font-size: 12px; fill: rgb(51, 51, 51); fill-opacity: 1; white-space: pre;\">Components_Schemas_Added</text></g></g></g><g class=\"annotation\" data-index=\"17\" style=\"opacity: 1;\"><g class=\"annotation-text-g\" transform=\"rotate(0,664.49,739.5)\"><g class=\"cursor-pointer\" transform=\"translate(567,730)\"><rect class=\"bg\" x=\"0.5\" y=\"0.5\" width=\"194\" height=\"18\" style=\"stroke-width: 1px; stroke: rgb(0, 0, 0); stroke-opacity: 0; fill: rgb(0, 0, 0); fill-opacity: 0;\"/><text class=\"annotation-text\" text-anchor=\"middle\" x=\"97.59375\" y=\"14\" style=\"font-family: 'Open Sans', verdana, arial, sans-serif; font-size: 12px; fill: rgb(51, 51, 51); fill-opacity: 1; white-space: pre;\">Components_Schemas_Deleted</text></g></g></g><g class=\"annotation\" data-index=\"18\" style=\"opacity: 1;\"><g class=\"annotation-text-g\" transform=\"rotate(0,989.46,868.26)\"><g class=\"cursor-pointer\" transform=\"translate(903,859)\"><rect class=\"bg\" x=\"0.5\" y=\"0.5\" width=\"171\" height=\"18\" style=\"stroke-width: 1px; stroke: rgb(0, 0, 0); stroke-opacity: 0; fill: rgb(0, 0, 0); fill-opacity: 0;\"/><text class=\"annotation-text\" text-anchor=\"middle\" x=\"85.890625\" y=\"14\" style=\"font-family: 'Open Sans', verdana, arial, sans-serif; font-size: 12px; fill: rgb(51, 51, 51); fill-opacity: 1; white-space: pre;\">Components_Links_Deleted</text></g></g></g><g class=\"annotation\" data-index=\"19\" style=\"opacity: 1;\"><g class=\"annotation-text-g\" transform=\"rotate(0,680.77,803.74)\"><g class=\"cursor-pointer\" transform=\"translate(623,794)\"><rect class=\"bg\" x=\"0.5\" y=\"0.5\" width=\"115\" height=\"18\" style=\"stroke-width: 1px; stroke: rgb(0, 0, 0); stroke-opacity: 0; fill: rgb(0, 0, 0); fill-opacity: 0;\"/><text class=\"annotation-text\" text-anchor=\"middle\" x=\"58.0625\" y=\"14\" style=\"font-family: 'Open Sans', verdana, arial, sans-serif; font-size: 12px; fill: rgb(51, 51, 51); fill-opacity: 1; white-space: pre;\">Info_title_changes</text></g></g></g><g class=\"annotation\" data-index=\"20\" style=\"opacity: 1;\"><g class=\"annotation-text-g\" transform=\"rotate(0,825.6,832.96)\"><g class=\"cursor-pointer\" transform=\"translate(745,823)\"><rect class=\"bg\" x=\"0.5\" y=\"0.5\" width=\"160\" height=\"18\" style=\"stroke-width: 1px; stroke: rgb(0, 0, 0); stroke-opacity: 0; fill: rgb(0, 0, 0); fill-opacity: 0;\"/><text class=\"annotation-text\" text-anchor=\"middle\" x=\"80.3125\" y=\"14\" style=\"font-family: 'Open Sans', verdana, arial, sans-serif; font-size: 12px; fill: rgb(51, 51, 51); fill-opacity: 1; white-space: pre;\">Info_contact_url_changes</text></g></g></g><g class=\"annotation\" data-index=\"21\" style=\"opacity: 1;\"><g class=\"annotation-text-g\" transform=\"rotate(0,841.21,829.27)\"><g class=\"cursor-pointer\" transform=\"translate(753,820)\"><rect class=\"bg\" x=\"0.5\" y=\"0.5\" width=\"176\" height=\"18\" style=\"stroke-width: 1px; stroke: rgb(0, 0, 0); stroke-opacity: 0; fill: rgb(0, 0, 0); fill-opacity: 0;\"/><text class=\"annotation-text\" text-anchor=\"middle\" x=\"88.609375\" y=\"14\" style=\"font-family: 'Open Sans', verdana, arial, sans-serif; font-size: 12px; fill: rgb(51, 51, 51); fill-opacity: 1; white-space: pre;\">Info_contact_email_changes</text></g></g></g><g class=\"annotation\" data-index=\"22\" style=\"opacity: 1;\"><g class=\"annotation-text-g\" transform=\"rotate(0,957.49,832.51)\"><g class=\"cursor-pointer\" transform=\"translate(870,823)\"><rect class=\"bg\" x=\"0.5\" y=\"0.5\" width=\"174\" height=\"18\" style=\"stroke-width: 1px; stroke: rgb(0, 0, 0); stroke-opacity: 0; fill: rgb(0, 0, 0); fill-opacity: 0;\"/><text class=\"annotation-text\" text-anchor=\"middle\" x=\"87.59375\" y=\"14\" style=\"font-family: 'Open Sans', verdana, arial, sans-serif; font-size: 12px; fill: rgb(51, 51, 51); fill-opacity: 1; white-space: pre;\">Info_license_name_changes</text></g></g></g><g class=\"annotation\" data-index=\"23\" style=\"opacity: 1;\"><g class=\"annotation-text-g\" transform=\"rotate(0,768.78,824.38)\"><g class=\"cursor-pointer\" transform=\"translate(690,815)\"><rect class=\"bg\" x=\"0.5\" y=\"0.5\" width=\"157\" height=\"18\" style=\"stroke-width: 1px; stroke: rgb(0, 0, 0); stroke-opacity: 0; fill: rgb(0, 0, 0); fill-opacity: 0;\"/><text class=\"annotation-text\" text-anchor=\"middle\" x=\"78.78125\" y=\"14\" style=\"font-family: 'Open Sans', verdana, arial, sans-serif; font-size: 12px; fill: rgb(51, 51, 51); fill-opacity: 1; white-space: pre;\">Info_license_url_changes</text></g></g></g><g class=\"annotation\" data-index=\"24\" style=\"opacity: 1;\"><g class=\"annotation-text-g\" transform=\"rotate(0,595.36,797.38)\"><g class=\"cursor-pointer\" transform=\"translate(502,788)\"><rect class=\"bg\" x=\"0.5\" y=\"0.5\" width=\"185\" height=\"18\" style=\"stroke-width: 1px; stroke: rgb(0, 0, 0); stroke-opacity: 0; fill: rgb(0, 0, 0); fill-opacity: 0;\"/><text class=\"annotation-text\" text-anchor=\"middle\" x=\"92.890625\" y=\"14\" style=\"font-family: 'Open Sans', verdana, arial, sans-serif; font-size: 12px; fill: rgb(51, 51, 51); fill-opacity: 1; white-space: pre;\">Info_termsOfService_changes</text></g></g></g><g class=\"annotation\" data-index=\"25\" style=\"opacity: 1;\"><g class=\"annotation-text-g\" transform=\"rotate(0,456.47,694.16)\"><g class=\"cursor-pointer\" transform=\"translate(352,685)\"><rect class=\"bg\" x=\"0.5\" y=\"0.5\" width=\"207\" height=\"18\" style=\"stroke-width: 1px; stroke: rgb(0, 0, 0); stroke-opacity: 0; fill: rgb(0, 0, 0); fill-opacity: 0;\"/><text class=\"annotation-text\" text-anchor=\"middle\" x=\"104.09375\" y=\"14\" style=\"font-family: 'Open Sans', verdana, arial, sans-serif; font-size: 12px; fill: rgb(51, 51, 51); fill-opacity: 1; white-space: pre;\">Components_parameters_deleted</text></g></g></g><g class=\"annotation\" data-index=\"26\" style=\"opacity: 1;\"><g class=\"annotation-text-g\" transform=\"rotate(0,319.5,703.46)\"><g class=\"cursor-pointer\" transform=\"translate(271,694)\"><rect class=\"bg\" x=\"0.5\" y=\"0.5\" width=\"96\" height=\"18\" style=\"stroke-width: 1px; stroke: rgb(0, 0, 0); stroke-opacity: 0; fill: rgb(0, 0, 0); fill-opacity: 0;\"/><text class=\"annotation-text\" text-anchor=\"middle\" x=\"48.265625\" y=\"14\" style=\"font-family: 'Open Sans', verdana, arial, sans-serif; font-size: 12px; fill: rgb(51, 51, 51); fill-opacity: 1; white-space: pre;\">Paths_modified</text></g></g></g><g class=\"annotation\" data-index=\"27\" style=\"opacity: 1;\"><g class=\"annotation-text-g\" transform=\"rotate(0,597.09,758.9)\"><g class=\"cursor-pointer\" transform=\"translate(548,749)\"><rect class=\"bg\" x=\"0.5\" y=\"0.5\" width=\"97\" height=\"18\" style=\"stroke-width: 1px; stroke: rgb(0, 0, 0); stroke-opacity: 0; fill: rgb(0, 0, 0); fill-opacity: 0;\"/><text class=\"annotation-text\" text-anchor=\"middle\" x=\"48.9375\" y=\"14\" style=\"font-family: 'Open Sans', verdana, arial, sans-serif; font-size: 12px; fill: rgb(51, 51, 51); fill-opacity: 1; white-space: pre;\">Security_added</text></g></g></g><g class=\"annotation\" data-index=\"28\" style=\"opacity: 1;\"><g class=\"annotation-text-g\" transform=\"rotate(0,1101.87,823.11)\"><g class=\"cursor-pointer\" transform=\"translate(1049,814)\"><rect class=\"bg\" x=\"0.5\" y=\"0.5\" width=\"105\" height=\"18\" style=\"stroke-width: 1px; stroke: rgb(0, 0, 0); stroke-opacity: 0; fill: rgb(0, 0, 0); fill-opacity: 0;\"/><text class=\"annotation-text\" text-anchor=\"middle\" x=\"52.75\" y=\"14\" style=\"font-family: 'Open Sans', verdana, arial, sans-serif; font-size: 12px; fill: rgb(51, 51, 51); fill-opacity: 1; white-space: pre;\">Security_deleted</text></g></g></g><g class=\"annotation\" data-index=\"29\" style=\"opacity: 1;\"><g class=\"annotation-text-g\" transform=\"rotate(0,291.32,710.39)\"><g class=\"cursor-pointer\" transform=\"translate(230,701)\"><rect class=\"bg\" x=\"0.5\" y=\"0.5\" width=\"122\" height=\"18\" style=\"stroke-width: 1px; stroke: rgb(0, 0, 0); stroke-opacity: 0; fill: rgb(0, 0, 0); fill-opacity: 0;\"/><text class=\"annotation-text\" text-anchor=\"middle\" x=\"61.390625\" y=\"14\" style=\"font-family: 'Open Sans', verdana, arial, sans-serif; font-size: 12px; fill: rgb(51, 51, 51); fill-opacity: 1; white-space: pre;\">Endpoints_modified</text></g></g></g></g></svg>"
     },
     "metadata": {},
     "output_type": "display_data"
    }
   ],
   "source": [
    "from sklearn.decomposition import PCA\n",
    "\n",
    "\n",
    "X = old_api.loc[:, \"Info_contact_name_changes\":\"Endpoints_modified\"]\n",
    "y = old_api['label']\n",
    "\n",
    "# data scaling\n",
    "x_scaled = StandardScaler().fit_transform(X)\n",
    "\n",
    "pca = PCA(n_components=2)\n",
    " \n",
    "pca_features = pca.fit_transform(x_scaled)\n",
    "\n",
    "# Principal components correlation coefficients\n",
    "loadings = pca.components_\n",
    " \n",
    "# Number of features before PCA\n",
    "n_features = pca.n_features_\n",
    " \n",
    "# Feature names before PCA\n",
    "feature_names = X.columns\n",
    " \n",
    "# PC names\n",
    "pc_list = [f'PC{i}' for i in list(range(1, n_features + 1))]\n",
    " \n",
    "# Match PC names to loadings\n",
    "pc_loadings = dict(zip(pc_list, loadings))\n",
    " \n",
    "# Matrix of corr coefs between feature names and PCs\n",
    "loadings_df = pd.DataFrame.from_dict(pc_loadings)\n",
    "loadings_df['feature_names'] = feature_names\n",
    "loadings_df = loadings_df.set_index('feature_names')\n",
    "\n",
    "# Set correlation threshold\n",
    "threshold = 0.01\n",
    "\n",
    "# Filter loadings_df based on threshold\n",
    "loadings_df_high_corr = loadings_df[loadings_df.abs() > threshold]\n",
    "\n",
    "# Drop rows with all NaN values\n",
    "loadings_df_high_corr = loadings_df_high_corr.dropna()\n",
    "\n",
    "import plotly.graph_objs as go\n",
    "import numpy as np\n",
    "\n",
    "# Get the loadings of x and y axes\n",
    "xs = loadings_df_high_corr['PC1']\n",
    "ys = loadings_df_high_corr['PC2']\n",
    "\n",
    "# Create a scatterplot of the loadings with vectors\n",
    "fig = go.Figure(data=[go.Scatter(\n",
    "    x=xs,\n",
    "    y=ys,\n",
    "    mode='markers',\n",
    "    marker=dict(\n",
    "        size=12,\n",
    "        color=np.random.randn(500), #set color equal to a variable\n",
    "        colorscale='spectral', # one of plotly colorscales\n",
    "        showscale=False\n",
    "    )\n",
    ")])\n",
    "for i in range(len(xs)):\n",
    " fig.add_shape(\n",
    "        type=\"line\",\n",
    "        x0=0,\n",
    "        y0=0,\n",
    "        x1=xs[i],\n",
    "        y1=ys[i],\n",
    "        line=dict(\n",
    "            color=\"black\",\n",
    "            width=0.4\n",
    "        )\n",
    "    )\n",
    "for i in range(len(xs)):\n",
    "    fig.add_annotation(\n",
    "        x=xs[i],\n",
    "        y=ys[i],\n",
    "        text=loadings_df_high_corr.index[i],\n",
    "        showarrow=False\n",
    "    )\n",
    "\n",
    "fig.update_layout(template='ggplot2', title='PCA Loadings for Old APIs', width=1400, height=1000, showlegend=False,xaxis_title='PC1', yaxis_title='PC2')\n",
    "\n",
    "fig.show(\"svg\")"
   ]
  },
  {
   "cell_type": "markdown",
   "metadata": {},
   "source": [
    "### PCA on all nine subsets of predicted and true labels"
   ]
  },
  {
   "cell_type": "code",
   "execution_count": 25,
   "metadata": {},
   "outputs": [],
   "source": [
    "# Split into dataframes based on label and predicted label\n",
    "major_patch = labels[(labels['label'] == 'major') & (labels['predicted_labels'] == 'patch')]\n",
    "major_minor = labels[(labels['label'] == 'major') & (labels['predicted_labels'] == 'minor')]\n",
    "major_major = labels[(labels['label'] == 'major') & (labels['predicted_labels'] == 'major')]\n",
    "\n",
    "minor_patch = labels[(labels['label'] == 'minor') & (labels['predicted_labels'] == 'patch')]\n",
    "minor_minor = labels[(labels['label'] == 'minor') & (labels['predicted_labels'] == 'minor')]\n",
    "minor_major = labels[(labels['label'] == 'minor') & (labels['predicted_labels'] == 'major')]\n",
    "\n",
    "\n",
    "patch_patch = labels[(labels['label'] == 'patch') & (labels['predicted_labels'] == 'patch')]\n",
    "patch_minor = labels[(labels['label'] == 'patch') & (labels['predicted_labels'] == 'minor')]\n",
    "patch_major = labels[(labels['label'] == 'patch') & (labels['predicted_labels'] == 'major')]\n"
   ]
  },
  {
   "cell_type": "code",
   "execution_count": 26,
   "metadata": {},
   "outputs": [],
   "source": [
    "from sklearn.datasets import load_wine\n",
    "import pandas as pd\n",
    "\n",
    "# Load dataset\n",
    "data = load_wine()\n",
    "X = labels.loc[:, \"externalDocs.added\":\"Endpoints_modified\"]\n",
    "y = labels['label']\n",
    "label_imp = X.columns\n",
    "# Make dataframe\n",
    "df = pd.DataFrame(data=X, columns=label_imp, index=y)\n",
    "\n",
    "df.to_csv('dff.csv')"
   ]
  },
  {
   "cell_type": "code",
   "execution_count": 27,
   "metadata": {},
   "outputs": [
    {
     "name": "stderr",
     "output_type": "stream",
     "text": [
      "/var/folders/27/mp6sy3_d6_lgz19hyp_8n8z40000gn/T/ipykernel_7135/1289569556.py:33: SettingWithCopyWarning:\n",
      "\n",
      "\n",
      "A value is trying to be set on a copy of a slice from a DataFrame.\n",
      "Try using .loc[row_indexer,col_indexer] = value instead\n",
      "\n",
      "See the caveats in the documentation: https://pandas.pydata.org/pandas-docs/stable/user_guide/indexing.html#returning-a-view-versus-a-copy\n",
      "\n",
      "/var/folders/27/mp6sy3_d6_lgz19hyp_8n8z40000gn/T/ipykernel_7135/1289569556.py:33: SettingWithCopyWarning:\n",
      "\n",
      "\n",
      "A value is trying to be set on a copy of a slice from a DataFrame.\n",
      "Try using .loc[row_indexer,col_indexer] = value instead\n",
      "\n",
      "See the caveats in the documentation: https://pandas.pydata.org/pandas-docs/stable/user_guide/indexing.html#returning-a-view-versus-a-copy\n",
      "\n"
     ]
    }
   ],
   "source": [
    "import pandas as pd\n",
    "import seaborn as sns\n",
    "from sklearn.manifold import TSNE\n",
    "\n",
    "X =labels[['Endpoints_modified', 'Endpoints_added', 'Endpoints_deleted', 'Paths_added','Paths_deleted','Paths_modified']]\n",
    "x_scaled = StandardScaler().fit_transform(X)\n",
    "\n",
    "pca = PCA(n_components=2)\n",
    "\n",
    "pca_features = pca.fit_transform(x_scaled)\n",
    "loadings = pca.components_\n",
    "n_features = pca.n_features_in_\n",
    "\n",
    "feature_names = X.columns\n",
    "\n",
    "pc_list = [f'PC{i}' for i in list(range(1, n_features + 1))]\n",
    "\n",
    "pc_loadings = dict(zip(pc_list, loadings))\n",
    "\n",
    "loadings_df = pd.DataFrame.from_dict(pc_loadings)\n",
    "loadings_df['feature_names'] = feature_names\n",
    "loadings_df = loadings_df.set_index('feature_names')\n",
    "loadings_df = loadings_df[(loadings_df.T != 0).any()]\n",
    "\n",
    "threshold = 0.01\n",
    "loadings_df_high_corr = loadings_df[loadings_df.abs() > threshold]\n",
    "\n",
    "loadings_df_high_corr = loadings_df_high_corr.dropna()\n",
    "\n",
    "xs = loadings_df_high_corr['PC1']\n",
    "ys = loadings_df_high_corr['PC2']\n",
    "\n",
    "labels[['PC1', 'PC2']] = pd.DataFrame(pca_features)\n"
   ]
  },
  {
   "cell_type": "code",
   "execution_count": 28,
   "metadata": {},
   "outputs": [],
   "source": [
    "from sklearn.preprocessing import StandardScaler\n",
    "from sklearn.decomposition import PCA\n",
    "import plotly.graph_objs as go\n",
    "import numpy as np\n",
    "import warnings\n",
    "from sklearn.exceptions import DataConversionWarning\n",
    "\n",
    "warnings.filterwarnings(action='ignore', category=FutureWarning)\n",
    "warnings.filterwarnings(action='ignore', category=DataConversionWarning)\n",
    "\n",
    "\n",
    "dfs = {\n",
    "    'major_patch': major_patch,\n",
    "    'major_minor': major_minor,\n",
    "    'major_major': major_major,\n",
    "    'minor_patch': minor_patch,\n",
    "    'minor_minor': minor_minor,\n",
    "    'minor_major': minor_major,\n",
    "    'patch_patch': patch_patch,\n",
    "    'patch_minor': patch_minor,\n",
    "    'patch_major': patch_major\n",
    "}\n",
    "\n",
    "for df in dfs:\n",
    " def plot_pca(df, title):\n",
    "    X = df[['Endpoints_modified', 'Endpoints_added', 'Endpoints_deleted', 'Paths_added','Paths_deleted','Paths_modified']]\n",
    "    y = df['label']\n",
    "\n",
    "    # data scaling\n",
    "    x_scaled = StandardScaler().fit_transform(X)\n",
    "\n",
    "    pca = PCA(n_components=2)\n",
    "\n",
    "    pca_features = pca.fit_transform(x_scaled)\n",
    "\n",
    "    # Principal components correlation coefficients\n",
    "    loadings = pca.components_\n",
    "\n",
    "    # Number of features before PCA\n",
    "    n_features = pca.n_features_in_\n",
    "\n",
    "    # Feature names before PCA\n",
    "    feature_names = X.columns\n",
    "\n",
    "    # PC names\n",
    "    pc_list = [f'PC{i}' for i in list(range(1, n_features + 1))]\n",
    "\n",
    "    # Match PC names to loadings\n",
    "    pc_loadings = dict(zip(pc_list, loadings))\n",
    "\n",
    "    # Matrix of corr coefs between feature names and PCs\n",
    "    loadings_df = pd.DataFrame.from_dict(pc_loadings)\n",
    "    loadings_df['feature_names'] = feature_names\n",
    "    loadings_df = loadings_df.set_index('feature_names')\n",
    "\n",
    "    # Remove feature names with zero correlation coefficient\n",
    "    loadings_df = loadings_df[(loadings_df.T != 0).any()]\n",
    "\n",
    "    # Set correlation threshold\n",
    "    threshold = 0.01\n",
    "\n",
    "    # Filter loadings_df based on threshold\n",
    "    loadings_df_high_corr = loadings_df[loadings_df.abs() > threshold]\n",
    "\n",
    "    # Drop rows with all NaN values\n",
    "    loadings_df_high_corr = loadings_df_high_corr.dropna()\n",
    "\n",
    "    # Get the loadings of x and y axes\n",
    "    xs = loadings_df_high_corr['PC1']\n",
    "    ys = loadings_df_high_corr['PC2']\n",
    "\n",
    "    # Create a scatterplot of the loadings with vectors\n",
    "    fig = go.Figure(data=[go.Scatter(\n",
    "        x=xs,\n",
    "        y=ys,\n",
    "        mode='markers',\n",
    "        marker=dict(\n",
    "            size=12,\n",
    "            color=np.random.randn(500), #set color equal to a variable\n",
    "            colorscale='spectral', # one of plotly colorscales\n",
    "            showscale=False\n",
    "        )\n",
    "    )])\n",
    "\n",
    "    # Add arrows to the scatterplot\n",
    "    for i in range(len(xs)):\n",
    "        fig.add_shape(\n",
    "            type=\"line\",\n",
    "            x0=0,\n",
    "            y0=0,\n",
    "            x1=xs[i],\n",
    "            y1=ys[i],\n",
    "            line=dict(\n",
    "                color=\"black\",\n",
    "                width=0.4\n",
    "            )\n",
    "        )\n",
    "\n",
    "    # Add text labels to the scatterplot\n",
    "    for i in range(len(xs)):\n",
    "        fig.add_annotation(\n",
    "            x=xs[i],\n",
    "            y=ys[i],\n",
    "            text=loadings_df_high_corr.index[i],\n",
    "            showarrow=False,\n",
    "            align='center',\n",
    "            yanchor='auto',\n",
    "            yshift=10\n",
    "            )\n",
    "            \n",
    "\n",
    "    fig.update_layout(template='ggplot2', title=title, width=1000, height=600, showlegend=False,xaxis_title='PC1', yaxis_title='PC2')\n",
    "\n",
    "    fig.show(\"svg\")\n"
   ]
  },
  {
   "cell_type": "code",
   "execution_count": 29,
   "metadata": {},
   "outputs": [
    {
     "data": {
      "image/svg+xml": "<svg class=\"main-svg\" xmlns=\"http://www.w3.org/2000/svg\" xmlns:xlink=\"http://www.w3.org/1999/xlink\" width=\"1000\" height=\"600\" style=\"\" viewBox=\"0 0 1000 600\"><rect x=\"0\" y=\"0\" width=\"1000\" height=\"600\" style=\"fill: rgb(255, 255, 255); fill-opacity: 1;\"/><defs id=\"defs-e509ef\"><g class=\"clips\"><clipPath id=\"clipe509efxyplot\" class=\"plotclip\"><rect width=\"840\" height=\"420\"/></clipPath><clipPath class=\"axesclip\" id=\"clipe509efx\"><rect x=\"80\" y=\"0\" width=\"840\" height=\"600\"/></clipPath><clipPath class=\"axesclip\" id=\"clipe509efy\"><rect x=\"0\" y=\"100\" width=\"1000\" height=\"420\"/></clipPath><clipPath class=\"axesclip\" id=\"clipe509efxy\"><rect x=\"80\" y=\"100\" width=\"840\" height=\"420\"/></clipPath></g><g class=\"gradients\"/><g class=\"patterns\"/></defs><g class=\"bglayer\"><rect class=\"bg\" x=\"80\" y=\"100\" width=\"840\" height=\"420\" style=\"fill: rgb(237, 237, 237); fill-opacity: 1; stroke-width: 0;\"/></g><g class=\"layer-below\"><g class=\"imagelayer\"/><g class=\"shapelayer\"/></g><g class=\"cartesianlayer\"><g class=\"subplot xy\"><g class=\"layer-subplot\"><g class=\"shapelayer\"/><g class=\"imagelayer\"/></g><g class=\"minor-gridlayer\"><g class=\"x\"/><g class=\"y\"/></g><g class=\"gridlayer\"><g class=\"x\"><path class=\"xgrid crisp\" transform=\"translate(207.28,0)\" d=\"M0,100v420\" style=\"stroke: rgb(255, 255, 255); stroke-opacity: 1; stroke-width: 1px;\"/><path class=\"xgrid crisp\" transform=\"translate(352.37,0)\" d=\"M0,100v420\" style=\"stroke: rgb(255, 255, 255); stroke-opacity: 1; stroke-width: 1px;\"/><path class=\"xgrid crisp\" transform=\"translate(642.55,0)\" d=\"M0,100v420\" style=\"stroke: rgb(255, 255, 255); stroke-opacity: 1; stroke-width: 1px;\"/><path class=\"xgrid crisp\" transform=\"translate(787.65,0)\" d=\"M0,100v420\" style=\"stroke: rgb(255, 255, 255); stroke-opacity: 1; stroke-width: 1px;\"/></g><g class=\"y\"><path class=\"ygrid crisp\" transform=\"translate(0,442.99)\" d=\"M80,0h840\" style=\"stroke: rgb(255, 255, 255); stroke-opacity: 1; stroke-width: 1px;\"/><path class=\"ygrid crisp\" transform=\"translate(0,366.19)\" d=\"M80,0h840\" style=\"stroke: rgb(255, 255, 255); stroke-opacity: 1; stroke-width: 1px;\"/><path class=\"ygrid crisp\" transform=\"translate(0,289.38)\" d=\"M80,0h840\" style=\"stroke: rgb(255, 255, 255); stroke-opacity: 1; stroke-width: 1px;\"/><path class=\"ygrid crisp\" transform=\"translate(0,212.57999999999998)\" d=\"M80,0h840\" style=\"stroke: rgb(255, 255, 255); stroke-opacity: 1; stroke-width: 1px;\"/><path class=\"ygrid crisp\" transform=\"translate(0,135.77)\" d=\"M80,0h840\" style=\"stroke: rgb(255, 255, 255); stroke-opacity: 1; stroke-width: 1px;\"/></g></g><g class=\"zerolinelayer\"><path class=\"xzl zl crisp\" transform=\"translate(497.46,0)\" d=\"M0,100v420\" style=\"stroke: rgb(255, 255, 255); stroke-opacity: 1; stroke-width: 1px;\"/><path class=\"yzl zl crisp\" transform=\"translate(0,519.8)\" d=\"M80,0h840\" style=\"stroke: rgb(255, 255, 255); stroke-opacity: 1; stroke-width: 1px;\"/></g><path class=\"xlines-below\"/><path class=\"ylines-below\"/><g class=\"overlines-below\"/><g class=\"xaxislayer-below\"/><g class=\"yaxislayer-below\"/><g class=\"overaxes-below\"/><g class=\"plot\" transform=\"translate(80,100)\" clip-path=\"url(#clipe509efxyplot)\"><g class=\"scatterlayer mlayer\"><g class=\"trace scatter tracef31cd2\" style=\"stroke-miterlimit: 2; opacity: 1;\"><g class=\"fills\"/><g class=\"errorbars\"/><g class=\"lines\"/><g class=\"points\"><path class=\"point\" transform=\"translate(61.5,28.5)\" d=\"M6,0A6,6 0 1,1 0,-6A6,6 0 0,1 6,0Z\" style=\"opacity: 1; stroke-width: 0px; fill: rgb(254, 222, 137); fill-opacity: 1;\"/><path class=\"point\" transform=\"translate(786,42.02)\" d=\"M6,0A6,6 0 1,1 0,-6A6,6 0 0,1 6,0Z\" style=\"opacity: 1; stroke-width: 0px; fill: rgb(229, 86, 73); fill-opacity: 1;\"/><path class=\"point\" transform=\"translate(786,42.02)\" d=\"M6,0A6,6 0 1,1 0,-6A6,6 0 0,1 6,0Z\" style=\"opacity: 1; stroke-width: 0px; fill: rgb(137, 208, 164); fill-opacity: 1;\"/><path class=\"point\" transform=\"translate(59.78,30.74)\" d=\"M6,0A6,6 0 1,1 0,-6A6,6 0 0,1 6,0Z\" style=\"opacity: 1; stroke-width: 0px; fill: rgb(254, 229, 148); fill-opacity: 1;\"/></g><g class=\"text\"/></g></g></g><g class=\"overplot\"/><path class=\"xlines-above crisp\" d=\"\" style=\"fill: none; stroke-width: 1px; stroke: rgb(0, 0, 0); stroke-opacity: 0;\"/><path class=\"ylines-above crisp\" d=\"\" style=\"fill: none; stroke-width: 1px; stroke: rgb(0, 0, 0); stroke-opacity: 0;\"/><g class=\"overlines-above\"/><g class=\"xaxislayer-above\"><path class=\"xtick ticks crisp\" d=\"M0,521v5\" transform=\"translate(207.28,0)\" style=\"stroke: rgb(51, 51, 51); stroke-opacity: 1; stroke-width: 1px;\"/><path class=\"xtick ticks crisp\" d=\"M0,521v5\" transform=\"translate(352.37,0)\" style=\"stroke: rgb(51, 51, 51); stroke-opacity: 1; stroke-width: 1px;\"/><path class=\"xtick ticks crisp\" d=\"M0,521v5\" transform=\"translate(497.46,0)\" style=\"stroke: rgb(51, 51, 51); stroke-opacity: 1; stroke-width: 1px;\"/><path class=\"xtick ticks crisp\" d=\"M0,521v5\" transform=\"translate(642.55,0)\" style=\"stroke: rgb(51, 51, 51); stroke-opacity: 1; stroke-width: 1px;\"/><path class=\"xtick ticks crisp\" d=\"M0,521v5\" transform=\"translate(787.65,0)\" style=\"stroke: rgb(51, 51, 51); stroke-opacity: 1; stroke-width: 1px;\"/><g class=\"xtick\"><text text-anchor=\"middle\" x=\"0\" y=\"540.4\" transform=\"translate(207.28,0)\" style=\"font-family: 'Open Sans', verdana, arial, sans-serif; font-size: 12px; fill: rgb(51, 51, 51); fill-opacity: 1; white-space: pre; opacity: 1;\">−0.4</text></g><g class=\"xtick\"><text text-anchor=\"middle\" x=\"0\" y=\"540.4\" style=\"font-family: 'Open Sans', verdana, arial, sans-serif; font-size: 12px; fill: rgb(51, 51, 51); fill-opacity: 1; white-space: pre; opacity: 1;\" transform=\"translate(352.37,0)\">−0.2</text></g><g class=\"xtick\"><text text-anchor=\"middle\" x=\"0\" y=\"540.4\" style=\"font-family: 'Open Sans', verdana, arial, sans-serif; font-size: 12px; fill: rgb(51, 51, 51); fill-opacity: 1; white-space: pre; opacity: 1;\" transform=\"translate(497.46,0)\">0</text></g><g class=\"xtick\"><text text-anchor=\"middle\" x=\"0\" y=\"540.4\" style=\"font-family: 'Open Sans', verdana, arial, sans-serif; font-size: 12px; fill: rgb(51, 51, 51); fill-opacity: 1; white-space: pre; opacity: 1;\" transform=\"translate(642.55,0)\">0.2</text></g><g class=\"xtick\"><text text-anchor=\"middle\" x=\"0\" y=\"540.4\" style=\"font-family: 'Open Sans', verdana, arial, sans-serif; font-size: 12px; fill: rgb(51, 51, 51); fill-opacity: 1; white-space: pre; opacity: 1;\" transform=\"translate(787.65,0)\">0.4</text></g></g><g class=\"yaxislayer-above\"><path class=\"ytick ticks crisp\" d=\"M79,0h-5\" transform=\"translate(0,519.8)\" style=\"stroke: rgb(51, 51, 51); stroke-opacity: 1; stroke-width: 1px;\"/><path class=\"ytick ticks crisp\" d=\"M79,0h-5\" transform=\"translate(0,442.99)\" style=\"stroke: rgb(51, 51, 51); stroke-opacity: 1; stroke-width: 1px;\"/><path class=\"ytick ticks crisp\" d=\"M79,0h-5\" transform=\"translate(0,366.19)\" style=\"stroke: rgb(51, 51, 51); stroke-opacity: 1; stroke-width: 1px;\"/><path class=\"ytick ticks crisp\" d=\"M79,0h-5\" transform=\"translate(0,289.38)\" style=\"stroke: rgb(51, 51, 51); stroke-opacity: 1; stroke-width: 1px;\"/><path class=\"ytick ticks crisp\" d=\"M79,0h-5\" transform=\"translate(0,212.57999999999998)\" style=\"stroke: rgb(51, 51, 51); stroke-opacity: 1; stroke-width: 1px;\"/><path class=\"ytick ticks crisp\" d=\"M79,0h-5\" transform=\"translate(0,135.77)\" style=\"stroke: rgb(51, 51, 51); stroke-opacity: 1; stroke-width: 1px;\"/><g class=\"ytick\"><text text-anchor=\"end\" x=\"71.6\" y=\"4.199999999999999\" transform=\"translate(0,519.8)\" style=\"font-family: 'Open Sans', verdana, arial, sans-serif; font-size: 12px; fill: rgb(51, 51, 51); fill-opacity: 1; white-space: pre; opacity: 1;\">0</text></g><g class=\"ytick\"><text text-anchor=\"end\" x=\"71.6\" y=\"4.199999999999999\" style=\"font-family: 'Open Sans', verdana, arial, sans-serif; font-size: 12px; fill: rgb(51, 51, 51); fill-opacity: 1; white-space: pre; opacity: 1;\" transform=\"translate(0,442.99)\">0.1</text></g><g class=\"ytick\"><text text-anchor=\"end\" x=\"71.6\" y=\"4.199999999999999\" style=\"font-family: 'Open Sans', verdana, arial, sans-serif; font-size: 12px; fill: rgb(51, 51, 51); fill-opacity: 1; white-space: pre; opacity: 1;\" transform=\"translate(0,366.19)\">0.2</text></g><g class=\"ytick\"><text text-anchor=\"end\" x=\"71.6\" y=\"4.199999999999999\" style=\"font-family: 'Open Sans', verdana, arial, sans-serif; font-size: 12px; fill: rgb(51, 51, 51); fill-opacity: 1; white-space: pre; opacity: 1;\" transform=\"translate(0,289.38)\">0.3</text></g><g class=\"ytick\"><text text-anchor=\"end\" x=\"71.6\" y=\"4.199999999999999\" style=\"font-family: 'Open Sans', verdana, arial, sans-serif; font-size: 12px; fill: rgb(51, 51, 51); fill-opacity: 1; white-space: pre; opacity: 1;\" transform=\"translate(0,212.57999999999998)\">0.4</text></g><g class=\"ytick\"><text text-anchor=\"end\" x=\"71.6\" y=\"4.199999999999999\" style=\"font-family: 'Open Sans', verdana, arial, sans-serif; font-size: 12px; fill: rgb(51, 51, 51); fill-opacity: 1; white-space: pre; opacity: 1;\" transform=\"translate(0,135.77)\">0.5</text></g></g><g class=\"overaxes-above\"/></g></g><g class=\"polarlayer\"/><g class=\"smithlayer\"/><g class=\"ternarylayer\"/><g class=\"geolayer\"/><g class=\"funnelarealayer\"/><g class=\"pielayer\"/><g class=\"iciclelayer\"/><g class=\"treemaplayer\"/><g class=\"sunburstlayer\"/><g class=\"glimages\"/><defs id=\"topdefs-e509ef\"><g class=\"clips\"/></defs><g class=\"layer-above\"><g class=\"imagelayer\"/><g class=\"shapelayer\"><g class=\"shape-group\" data-index=\"0\" clip-path=\"url(#clipe509efxy)\"><path data-index=\"0\" fill-rule=\"evenodd\" d=\"M497.46,519.8L141.5,128.5\" style=\"opacity: 0.3; stroke: rgb(0, 0, 0); stroke-opacity: 1; fill: rgb(0, 0, 0); fill-opacity: 1; stroke-width: 0.4px;\"/></g><g class=\"shape-group\" data-index=\"1\" clip-path=\"url(#clipe509efxy)\"><path data-index=\"1\" fill-rule=\"evenodd\" d=\"M497.46,519.8L866,142.02\" style=\"opacity: 0.3; stroke: rgb(0, 0, 0); stroke-opacity: 1; fill: rgb(0, 0, 0); fill-opacity: 1; stroke-width: 0.4px;\"/></g><g class=\"shape-group\" data-index=\"2\" clip-path=\"url(#clipe509efxy)\"><path data-index=\"2\" fill-rule=\"evenodd\" d=\"M497.46,519.8L866,142.02\" style=\"opacity: 0.3; stroke: rgb(0, 0, 0); stroke-opacity: 1; fill: rgb(0, 0, 0); fill-opacity: 1; stroke-width: 0.4px;\"/></g><g class=\"shape-group\" data-index=\"3\" clip-path=\"url(#clipe509efxy)\"><path data-index=\"3\" fill-rule=\"evenodd\" d=\"M497.46,519.8L139.78,130.74\" style=\"opacity: 0.3; stroke: rgb(0, 0, 0); stroke-opacity: 1; fill: rgb(0, 0, 0); fill-opacity: 1; stroke-width: 0.4px;\"/></g></g></g><g class=\"infolayer\"><g class=\"g-gtitle\"><text class=\"gtitle\" x=\"500\" y=\"50\" text-anchor=\"middle\" dy=\"0em\" style=\"font-family: 'Open Sans', verdana, arial, sans-serif; font-size: 17px; fill: rgb(51, 51, 51); opacity: 1; font-weight: normal; white-space: pre;\">PCA Loadings for major_patch</text></g><g class=\"g-xtitle\"><text class=\"xtitle\" x=\"500\" y=\"567.20625\" text-anchor=\"middle\" style=\"font-family: 'Open Sans', verdana, arial, sans-serif; font-size: 14px; fill: rgb(51, 51, 51); opacity: 1; font-weight: normal; white-space: pre;\">PC1</text></g><g class=\"g-ytitle\"><text class=\"ytitle\" transform=\"rotate(-90,27.668750000000003,310)\" x=\"27.668750000000003\" y=\"310\" text-anchor=\"middle\" style=\"font-family: 'Open Sans', verdana, arial, sans-serif; font-size: 14px; fill: rgb(51, 51, 51); opacity: 1; font-weight: normal; white-space: pre;\">PC2</text></g><g class=\"annotation\" data-index=\"0\" style=\"opacity: 1;\"><g class=\"annotation-text-g\" transform=\"rotate(0,141.5,118.5)\"><g class=\"cursor-pointer\" transform=\"translate(80,109)\"><rect class=\"bg\" x=\"0.5\" y=\"0.5\" width=\"122\" height=\"18\" style=\"stroke-width: 1px; stroke: rgb(0, 0, 0); stroke-opacity: 0; fill: rgb(0, 0, 0); fill-opacity: 0;\"/><text class=\"annotation-text\" text-anchor=\"middle\" x=\"61.390625\" y=\"14\" style=\"font-family: 'Open Sans', verdana, arial, sans-serif; font-size: 12px; fill: rgb(51, 51, 51); fill-opacity: 1; white-space: pre;\">Endpoints_modified</text></g></g></g><g class=\"annotation\" data-index=\"1\" style=\"opacity: 1;\"><g class=\"annotation-text-g\" transform=\"rotate(0,866,132.02)\"><g class=\"cursor-pointer\" transform=\"translate(812,123)\"><rect class=\"bg\" x=\"0.5\" y=\"0.5\" width=\"107\" height=\"18\" style=\"stroke-width: 1px; stroke: rgb(0, 0, 0); stroke-opacity: 0; fill: rgb(0, 0, 0); fill-opacity: 0;\"/><text class=\"annotation-text\" text-anchor=\"middle\" x=\"53.859375\" y=\"14\" style=\"font-family: 'Open Sans', verdana, arial, sans-serif; font-size: 12px; fill: rgb(51, 51, 51); fill-opacity: 1; white-space: pre;\">Endpoints_added</text></g></g></g><g class=\"annotation\" data-index=\"2\" style=\"opacity: 1;\"><g class=\"annotation-text-g\" transform=\"rotate(0,866,132.02)\"><g class=\"cursor-pointer\" transform=\"translate(826,123)\"><rect class=\"bg\" x=\"0.5\" y=\"0.5\" width=\"80\" height=\"18\" style=\"stroke-width: 1px; stroke: rgb(0, 0, 0); stroke-opacity: 0; fill: rgb(0, 0, 0); fill-opacity: 0;\"/><text class=\"annotation-text\" text-anchor=\"middle\" x=\"40.71875\" y=\"14\" style=\"font-family: 'Open Sans', verdana, arial, sans-serif; font-size: 12px; fill: rgb(51, 51, 51); fill-opacity: 1; white-space: pre;\">Paths_added</text></g></g></g><g class=\"annotation\" data-index=\"3\" style=\"opacity: 1;\"><g class=\"annotation-text-g\" transform=\"rotate(0,139.78,120.74000000000001)\"><g class=\"cursor-pointer\" transform=\"translate(91,111)\"><rect class=\"bg\" x=\"0.5\" y=\"0.5\" width=\"96\" height=\"18\" style=\"stroke-width: 1px; stroke: rgb(0, 0, 0); stroke-opacity: 0; fill: rgb(0, 0, 0); fill-opacity: 0;\"/><text class=\"annotation-text\" text-anchor=\"middle\" x=\"48.265625\" y=\"14\" style=\"font-family: 'Open Sans', verdana, arial, sans-serif; font-size: 12px; fill: rgb(51, 51, 51); fill-opacity: 1; white-space: pre;\">Paths_modified</text></g></g></g></g></svg>"
     },
     "metadata": {},
     "output_type": "display_data"
    },
    {
     "data": {
      "image/svg+xml": "<svg class=\"main-svg\" xmlns=\"http://www.w3.org/2000/svg\" xmlns:xlink=\"http://www.w3.org/1999/xlink\" width=\"1000\" height=\"600\" style=\"\" viewBox=\"0 0 1000 600\"><rect x=\"0\" y=\"0\" width=\"1000\" height=\"600\" style=\"fill: rgb(255, 255, 255); fill-opacity: 1;\"/><defs id=\"defs-c71093\"><g class=\"clips\"><clipPath id=\"clipc71093xyplot\" class=\"plotclip\"><rect width=\"840\" height=\"420\"/></clipPath><clipPath class=\"axesclip\" id=\"clipc71093x\"><rect x=\"80\" y=\"0\" width=\"840\" height=\"600\"/></clipPath><clipPath class=\"axesclip\" id=\"clipc71093y\"><rect x=\"0\" y=\"100\" width=\"1000\" height=\"420\"/></clipPath><clipPath class=\"axesclip\" id=\"clipc71093xy\"><rect x=\"80\" y=\"100\" width=\"840\" height=\"420\"/></clipPath></g><g class=\"gradients\"/><g class=\"patterns\"/></defs><g class=\"bglayer\"><rect class=\"bg\" x=\"80\" y=\"100\" width=\"840\" height=\"420\" style=\"fill: rgb(237, 237, 237); fill-opacity: 1; stroke-width: 0;\"/></g><g class=\"layer-below\"><g class=\"imagelayer\"/><g class=\"shapelayer\"/></g><g class=\"cartesianlayer\"><g class=\"subplot xy\"><g class=\"layer-subplot\"><g class=\"shapelayer\"/><g class=\"imagelayer\"/></g><g class=\"minor-gridlayer\"><g class=\"x\"/><g class=\"y\"/></g><g class=\"gridlayer\"><g class=\"x\"><path class=\"xgrid crisp\" transform=\"translate(83.39,0)\" d=\"M0,100v420\" style=\"stroke: rgb(255, 255, 255); stroke-opacity: 1; stroke-width: 1px;\"/><path class=\"xgrid crisp\" transform=\"translate(185.11,0)\" d=\"M0,100v420\" style=\"stroke: rgb(255, 255, 255); stroke-opacity: 1; stroke-width: 1px;\"/><path class=\"xgrid crisp\" transform=\"translate(286.84000000000003,0)\" d=\"M0,100v420\" style=\"stroke: rgb(255, 255, 255); stroke-opacity: 1; stroke-width: 1px;\"/><path class=\"xgrid crisp\" transform=\"translate(490.3,0)\" d=\"M0,100v420\" style=\"stroke: rgb(255, 255, 255); stroke-opacity: 1; stroke-width: 1px;\"/><path class=\"xgrid crisp\" transform=\"translate(592.03,0)\" d=\"M0,100v420\" style=\"stroke: rgb(255, 255, 255); stroke-opacity: 1; stroke-width: 1px;\"/><path class=\"xgrid crisp\" transform=\"translate(693.76,0)\" d=\"M0,100v420\" style=\"stroke: rgb(255, 255, 255); stroke-opacity: 1; stroke-width: 1px;\"/><path class=\"xgrid crisp\" transform=\"translate(795.48,0)\" d=\"M0,100v420\" style=\"stroke: rgb(255, 255, 255); stroke-opacity: 1; stroke-width: 1px;\"/><path class=\"xgrid crisp\" transform=\"translate(897.21,0)\" d=\"M0,100v420\" style=\"stroke: rgb(255, 255, 255); stroke-opacity: 1; stroke-width: 1px;\"/></g><g class=\"y\"><path class=\"ygrid crisp\" transform=\"translate(0,460.96)\" d=\"M80,0h840\" style=\"stroke: rgb(255, 255, 255); stroke-opacity: 1; stroke-width: 1px;\"/><path class=\"ygrid crisp\" transform=\"translate(0,402.11)\" d=\"M80,0h840\" style=\"stroke: rgb(255, 255, 255); stroke-opacity: 1; stroke-width: 1px;\"/><path class=\"ygrid crisp\" transform=\"translate(0,343.27)\" d=\"M80,0h840\" style=\"stroke: rgb(255, 255, 255); stroke-opacity: 1; stroke-width: 1px;\"/><path class=\"ygrid crisp\" transform=\"translate(0,284.43)\" d=\"M80,0h840\" style=\"stroke: rgb(255, 255, 255); stroke-opacity: 1; stroke-width: 1px;\"/><path class=\"ygrid crisp\" transform=\"translate(0,225.57999999999998)\" d=\"M80,0h840\" style=\"stroke: rgb(255, 255, 255); stroke-opacity: 1; stroke-width: 1px;\"/><path class=\"ygrid crisp\" transform=\"translate(0,166.74)\" d=\"M80,0h840\" style=\"stroke: rgb(255, 255, 255); stroke-opacity: 1; stroke-width: 1px;\"/><path class=\"ygrid crisp\" transform=\"translate(0,107.89)\" d=\"M80,0h840\" style=\"stroke: rgb(255, 255, 255); stroke-opacity: 1; stroke-width: 1px;\"/></g></g><g class=\"zerolinelayer\"><path class=\"xzl zl crisp\" transform=\"translate(388.57,0)\" d=\"M0,100v420\" style=\"stroke: rgb(255, 255, 255); stroke-opacity: 1; stroke-width: 1px;\"/><path class=\"yzl zl crisp\" transform=\"translate(0,519.8)\" d=\"M80,0h840\" style=\"stroke: rgb(255, 255, 255); stroke-opacity: 1; stroke-width: 1px;\"/></g><path class=\"xlines-below\"/><path class=\"ylines-below\"/><g class=\"overlines-below\"/><g class=\"xaxislayer-below\"/><g class=\"yaxislayer-below\"/><g class=\"overaxes-below\"/><g class=\"plot\" transform=\"translate(80,100)\" clip-path=\"url(#clipc71093xyplot)\"><g class=\"scatterlayer mlayer\"><g class=\"trace scatter tracea4f660\" style=\"stroke-miterlimit: 2; opacity: 1;\"><g class=\"fills\"/><g class=\"errorbars\"/><g class=\"lines\"/><g class=\"points\"><path class=\"point\" transform=\"translate(61.5,28.5)\" d=\"M6,0A6,6 0 1,1 0,-6A6,6 0 0,1 6,0Z\" style=\"opacity: 1; stroke-width: 0px; fill: rgb(118, 200, 165); fill-opacity: 1;\"/><path class=\"point\" transform=\"translate(780.06,342.38)\" d=\"M6,0A6,6 0 1,1 0,-6A6,6 0 0,1 6,0Z\" style=\"opacity: 1; stroke-width: 0px; fill: rgb(252, 166, 93); fill-opacity: 1;\"/><path class=\"point\" transform=\"translate(782.01,320.04)\" d=\"M6,0A6,6 0 1,1 0,-6A6,6 0 0,1 6,0Z\" style=\"opacity: 1; stroke-width: 0px; fill: rgb(254, 211, 128); fill-opacity: 1;\"/><path class=\"point\" transform=\"translate(790.5,305.86)\" d=\"M6,0A6,6 0 1,1 0,-6A6,6 0 0,1 6,0Z\" style=\"opacity: 1; stroke-width: 0px; fill: rgb(180, 225, 162); fill-opacity: 1;\"/><path class=\"point\" transform=\"translate(787.43,300.04)\" d=\"M6,0A6,6 0 1,1 0,-6A6,6 0 0,1 6,0Z\" style=\"opacity: 1; stroke-width: 0px; fill: rgb(253, 178, 100); fill-opacity: 1;\"/><path class=\"point\" transform=\"translate(52.04,32.67)\" d=\"M6,0A6,6 0 1,1 0,-6A6,6 0 0,1 6,0Z\" style=\"opacity: 1; stroke-width: 0px; fill: rgb(245, 117, 71); fill-opacity: 1;\"/></g><g class=\"text\"/></g></g></g><g class=\"overplot\"/><path class=\"xlines-above crisp\" d=\"\" style=\"fill: none; stroke-width: 1px; stroke: rgb(0, 0, 0); stroke-opacity: 0;\"/><path class=\"ylines-above crisp\" d=\"\" style=\"fill: none; stroke-width: 1px; stroke: rgb(0, 0, 0); stroke-opacity: 0;\"/><g class=\"overlines-above\"/><g class=\"xaxislayer-above\"><path class=\"xtick ticks crisp\" d=\"M0,521v5\" transform=\"translate(83.39,0)\" style=\"stroke: rgb(51, 51, 51); stroke-opacity: 1; stroke-width: 1px;\"/><path class=\"xtick ticks crisp\" d=\"M0,521v5\" transform=\"translate(185.11,0)\" style=\"stroke: rgb(51, 51, 51); stroke-opacity: 1; stroke-width: 1px;\"/><path class=\"xtick ticks crisp\" d=\"M0,521v5\" transform=\"translate(286.84000000000003,0)\" style=\"stroke: rgb(51, 51, 51); stroke-opacity: 1; stroke-width: 1px;\"/><path class=\"xtick ticks crisp\" d=\"M0,521v5\" transform=\"translate(388.57,0)\" style=\"stroke: rgb(51, 51, 51); stroke-opacity: 1; stroke-width: 1px;\"/><path class=\"xtick ticks crisp\" d=\"M0,521v5\" transform=\"translate(490.3,0)\" style=\"stroke: rgb(51, 51, 51); stroke-opacity: 1; stroke-width: 1px;\"/><path class=\"xtick ticks crisp\" d=\"M0,521v5\" transform=\"translate(592.03,0)\" style=\"stroke: rgb(51, 51, 51); stroke-opacity: 1; stroke-width: 1px;\"/><path class=\"xtick ticks crisp\" d=\"M0,521v5\" transform=\"translate(693.76,0)\" style=\"stroke: rgb(51, 51, 51); stroke-opacity: 1; stroke-width: 1px;\"/><path class=\"xtick ticks crisp\" d=\"M0,521v5\" transform=\"translate(795.48,0)\" style=\"stroke: rgb(51, 51, 51); stroke-opacity: 1; stroke-width: 1px;\"/><path class=\"xtick ticks crisp\" d=\"M0,521v5\" transform=\"translate(897.21,0)\" style=\"stroke: rgb(51, 51, 51); stroke-opacity: 1; stroke-width: 1px;\"/><g class=\"xtick\"><text text-anchor=\"middle\" x=\"0\" y=\"540.4\" transform=\"translate(83.39,0)\" style=\"font-family: 'Open Sans', verdana, arial, sans-serif; font-size: 12px; fill: rgb(51, 51, 51); fill-opacity: 1; white-space: pre; opacity: 1;\">−0.3</text></g><g class=\"xtick\"><text text-anchor=\"middle\" x=\"0\" y=\"540.4\" style=\"font-family: 'Open Sans', verdana, arial, sans-serif; font-size: 12px; fill: rgb(51, 51, 51); fill-opacity: 1; white-space: pre; opacity: 1;\" transform=\"translate(185.11,0)\">−0.2</text></g><g class=\"xtick\"><text text-anchor=\"middle\" x=\"0\" y=\"540.4\" style=\"font-family: 'Open Sans', verdana, arial, sans-serif; font-size: 12px; fill: rgb(51, 51, 51); fill-opacity: 1; white-space: pre; opacity: 1;\" transform=\"translate(286.84000000000003,0)\">−0.1</text></g><g class=\"xtick\"><text text-anchor=\"middle\" x=\"0\" y=\"540.4\" style=\"font-family: 'Open Sans', verdana, arial, sans-serif; font-size: 12px; fill: rgb(51, 51, 51); fill-opacity: 1; white-space: pre; opacity: 1;\" transform=\"translate(388.57,0)\">0</text></g><g class=\"xtick\"><text text-anchor=\"middle\" x=\"0\" y=\"540.4\" style=\"font-family: 'Open Sans', verdana, arial, sans-serif; font-size: 12px; fill: rgb(51, 51, 51); fill-opacity: 1; white-space: pre; opacity: 1;\" transform=\"translate(490.3,0)\">0.1</text></g><g class=\"xtick\"><text text-anchor=\"middle\" x=\"0\" y=\"540.4\" style=\"font-family: 'Open Sans', verdana, arial, sans-serif; font-size: 12px; fill: rgb(51, 51, 51); fill-opacity: 1; white-space: pre; opacity: 1;\" transform=\"translate(592.03,0)\">0.2</text></g><g class=\"xtick\"><text text-anchor=\"middle\" x=\"0\" y=\"540.4\" style=\"font-family: 'Open Sans', verdana, arial, sans-serif; font-size: 12px; fill: rgb(51, 51, 51); fill-opacity: 1; white-space: pre; opacity: 1;\" transform=\"translate(693.76,0)\">0.3</text></g><g class=\"xtick\"><text text-anchor=\"middle\" x=\"0\" y=\"540.4\" style=\"font-family: 'Open Sans', verdana, arial, sans-serif; font-size: 12px; fill: rgb(51, 51, 51); fill-opacity: 1; white-space: pre; opacity: 1;\" transform=\"translate(795.48,0)\">0.4</text></g><g class=\"xtick\"><text text-anchor=\"middle\" x=\"0\" y=\"540.4\" style=\"font-family: 'Open Sans', verdana, arial, sans-serif; font-size: 12px; fill: rgb(51, 51, 51); fill-opacity: 1; white-space: pre; opacity: 1;\" transform=\"translate(897.21,0)\">0.5</text></g></g><g class=\"yaxislayer-above\"><path class=\"ytick ticks crisp\" d=\"M79,0h-5\" transform=\"translate(0,519.8)\" style=\"stroke: rgb(51, 51, 51); stroke-opacity: 1; stroke-width: 1px;\"/><path class=\"ytick ticks crisp\" d=\"M79,0h-5\" transform=\"translate(0,460.96)\" style=\"stroke: rgb(51, 51, 51); stroke-opacity: 1; stroke-width: 1px;\"/><path class=\"ytick ticks crisp\" d=\"M79,0h-5\" transform=\"translate(0,402.11)\" style=\"stroke: rgb(51, 51, 51); stroke-opacity: 1; stroke-width: 1px;\"/><path class=\"ytick ticks crisp\" d=\"M79,0h-5\" transform=\"translate(0,343.27)\" style=\"stroke: rgb(51, 51, 51); stroke-opacity: 1; stroke-width: 1px;\"/><path class=\"ytick ticks crisp\" d=\"M79,0h-5\" transform=\"translate(0,284.43)\" style=\"stroke: rgb(51, 51, 51); stroke-opacity: 1; stroke-width: 1px;\"/><path class=\"ytick ticks crisp\" d=\"M79,0h-5\" transform=\"translate(0,225.57999999999998)\" style=\"stroke: rgb(51, 51, 51); stroke-opacity: 1; stroke-width: 1px;\"/><path class=\"ytick ticks crisp\" d=\"M79,0h-5\" transform=\"translate(0,166.74)\" style=\"stroke: rgb(51, 51, 51); stroke-opacity: 1; stroke-width: 1px;\"/><path class=\"ytick ticks crisp\" d=\"M79,0h-5\" transform=\"translate(0,107.89)\" style=\"stroke: rgb(51, 51, 51); stroke-opacity: 1; stroke-width: 1px;\"/><g class=\"ytick\"><text text-anchor=\"end\" x=\"71.6\" y=\"4.199999999999999\" transform=\"translate(0,519.8)\" style=\"font-family: 'Open Sans', verdana, arial, sans-serif; font-size: 12px; fill: rgb(51, 51, 51); fill-opacity: 1; white-space: pre; opacity: 1;\">0</text></g><g class=\"ytick\"><text text-anchor=\"end\" x=\"71.6\" y=\"4.199999999999999\" style=\"font-family: 'Open Sans', verdana, arial, sans-serif; font-size: 12px; fill: rgb(51, 51, 51); fill-opacity: 1; white-space: pre; opacity: 1;\" transform=\"translate(0,460.96)\">0.1</text></g><g class=\"ytick\"><text text-anchor=\"end\" x=\"71.6\" y=\"4.199999999999999\" style=\"font-family: 'Open Sans', verdana, arial, sans-serif; font-size: 12px; fill: rgb(51, 51, 51); fill-opacity: 1; white-space: pre; opacity: 1;\" transform=\"translate(0,402.11)\">0.2</text></g><g class=\"ytick\"><text text-anchor=\"end\" x=\"71.6\" y=\"4.199999999999999\" style=\"font-family: 'Open Sans', verdana, arial, sans-serif; font-size: 12px; fill: rgb(51, 51, 51); fill-opacity: 1; white-space: pre; opacity: 1;\" transform=\"translate(0,343.27)\">0.3</text></g><g class=\"ytick\"><text text-anchor=\"end\" x=\"71.6\" y=\"4.199999999999999\" style=\"font-family: 'Open Sans', verdana, arial, sans-serif; font-size: 12px; fill: rgb(51, 51, 51); fill-opacity: 1; white-space: pre; opacity: 1;\" transform=\"translate(0,284.43)\">0.4</text></g><g class=\"ytick\"><text text-anchor=\"end\" x=\"71.6\" y=\"4.199999999999999\" style=\"font-family: 'Open Sans', verdana, arial, sans-serif; font-size: 12px; fill: rgb(51, 51, 51); fill-opacity: 1; white-space: pre; opacity: 1;\" transform=\"translate(0,225.57999999999998)\">0.5</text></g><g class=\"ytick\"><text text-anchor=\"end\" x=\"71.6\" y=\"4.199999999999999\" style=\"font-family: 'Open Sans', verdana, arial, sans-serif; font-size: 12px; fill: rgb(51, 51, 51); fill-opacity: 1; white-space: pre; opacity: 1;\" transform=\"translate(0,166.74)\">0.6</text></g><g class=\"ytick\"><text text-anchor=\"end\" x=\"71.6\" y=\"4.199999999999999\" style=\"font-family: 'Open Sans', verdana, arial, sans-serif; font-size: 12px; fill: rgb(51, 51, 51); fill-opacity: 1; white-space: pre; opacity: 1;\" transform=\"translate(0,107.89)\">0.7</text></g></g><g class=\"overaxes-above\"/></g></g><g class=\"polarlayer\"/><g class=\"smithlayer\"/><g class=\"ternarylayer\"/><g class=\"geolayer\"/><g class=\"funnelarealayer\"/><g class=\"pielayer\"/><g class=\"iciclelayer\"/><g class=\"treemaplayer\"/><g class=\"sunburstlayer\"/><g class=\"glimages\"/><defs id=\"topdefs-c71093\"><g class=\"clips\"/></defs><g class=\"layer-above\"><g class=\"imagelayer\"/><g class=\"shapelayer\"><g class=\"shape-group\" data-index=\"0\" clip-path=\"url(#clipc71093xy)\"><path data-index=\"0\" fill-rule=\"evenodd\" d=\"M388.57,519.8L141.5,128.5\" style=\"opacity: 0.3; stroke: rgb(0, 0, 0); stroke-opacity: 1; fill: rgb(0, 0, 0); fill-opacity: 1; stroke-width: 0.4px;\"/></g><g class=\"shape-group\" data-index=\"1\" clip-path=\"url(#clipc71093xy)\"><path data-index=\"1\" fill-rule=\"evenodd\" d=\"M388.57,519.8L860.06,442.38\" style=\"opacity: 0.3; stroke: rgb(0, 0, 0); stroke-opacity: 1; fill: rgb(0, 0, 0); fill-opacity: 1; stroke-width: 0.4px;\"/></g><g class=\"shape-group\" data-index=\"2\" clip-path=\"url(#clipc71093xy)\"><path data-index=\"2\" fill-rule=\"evenodd\" d=\"M388.57,519.8L862.01,420.04\" style=\"opacity: 0.3; stroke: rgb(0, 0, 0); stroke-opacity: 1; fill: rgb(0, 0, 0); fill-opacity: 1; stroke-width: 0.4px;\"/></g><g class=\"shape-group\" data-index=\"3\" clip-path=\"url(#clipc71093xy)\"><path data-index=\"3\" fill-rule=\"evenodd\" d=\"M388.57,519.8L870.5,405.86\" style=\"opacity: 0.3; stroke: rgb(0, 0, 0); stroke-opacity: 1; fill: rgb(0, 0, 0); fill-opacity: 1; stroke-width: 0.4px;\"/></g><g class=\"shape-group\" data-index=\"4\" clip-path=\"url(#clipc71093xy)\"><path data-index=\"4\" fill-rule=\"evenodd\" d=\"M388.57,519.8L867.43,400.04\" style=\"opacity: 0.3; stroke: rgb(0, 0, 0); stroke-opacity: 1; fill: rgb(0, 0, 0); fill-opacity: 1; stroke-width: 0.4px;\"/></g><g class=\"shape-group\" data-index=\"5\" clip-path=\"url(#clipc71093xy)\"><path data-index=\"5\" fill-rule=\"evenodd\" d=\"M388.57,519.8L132.04,132.67000000000002\" style=\"opacity: 0.3; stroke: rgb(0, 0, 0); stroke-opacity: 1; fill: rgb(0, 0, 0); fill-opacity: 1; stroke-width: 0.4px;\"/></g></g></g><g class=\"infolayer\"><g class=\"g-gtitle\"><text class=\"gtitle\" x=\"500\" y=\"50\" text-anchor=\"middle\" dy=\"0em\" style=\"font-family: 'Open Sans', verdana, arial, sans-serif; font-size: 17px; fill: rgb(51, 51, 51); opacity: 1; font-weight: normal; white-space: pre;\">PCA Loadings for major_minor</text></g><g class=\"g-xtitle\"><text class=\"xtitle\" x=\"500\" y=\"567.20625\" text-anchor=\"middle\" style=\"font-family: 'Open Sans', verdana, arial, sans-serif; font-size: 14px; fill: rgb(51, 51, 51); opacity: 1; font-weight: normal; white-space: pre;\">PC1</text></g><g class=\"g-ytitle\"><text class=\"ytitle\" transform=\"rotate(-90,27.668750000000003,310)\" x=\"27.668750000000003\" y=\"310\" text-anchor=\"middle\" style=\"font-family: 'Open Sans', verdana, arial, sans-serif; font-size: 14px; fill: rgb(51, 51, 51); opacity: 1; font-weight: normal; white-space: pre;\">PC2</text></g><g class=\"annotation\" data-index=\"0\" style=\"opacity: 1;\"><g class=\"annotation-text-g\" transform=\"rotate(0,141.5,118.5)\"><g class=\"cursor-pointer\" transform=\"translate(80,109)\"><rect class=\"bg\" x=\"0.5\" y=\"0.5\" width=\"122\" height=\"18\" style=\"stroke-width: 1px; stroke: rgb(0, 0, 0); stroke-opacity: 0; fill: rgb(0, 0, 0); fill-opacity: 0;\"/><text class=\"annotation-text\" text-anchor=\"middle\" x=\"61.390625\" y=\"14\" style=\"font-family: 'Open Sans', verdana, arial, sans-serif; font-size: 12px; fill: rgb(51, 51, 51); fill-opacity: 1; white-space: pre;\">Endpoints_modified</text></g></g></g><g class=\"annotation\" data-index=\"1\" style=\"opacity: 1;\"><g class=\"annotation-text-g\" transform=\"rotate(0,860.06,432.38)\"><g class=\"cursor-pointer\" transform=\"translate(806,423)\"><rect class=\"bg\" x=\"0.5\" y=\"0.5\" width=\"107\" height=\"18\" style=\"stroke-width: 1px; stroke: rgb(0, 0, 0); stroke-opacity: 0; fill: rgb(0, 0, 0); fill-opacity: 0;\"/><text class=\"annotation-text\" text-anchor=\"middle\" x=\"53.859375\" y=\"14\" style=\"font-family: 'Open Sans', verdana, arial, sans-serif; font-size: 12px; fill: rgb(51, 51, 51); fill-opacity: 1; white-space: pre;\">Endpoints_added</text></g></g></g><g class=\"annotation\" data-index=\"2\" style=\"opacity: 1;\"><g class=\"annotation-text-g\" transform=\"rotate(0,862.01,410.04)\"><g class=\"cursor-pointer\" transform=\"translate(805,401)\"><rect class=\"bg\" x=\"0.5\" y=\"0.5\" width=\"114\" height=\"18\" style=\"stroke-width: 1px; stroke: rgb(0, 0, 0); stroke-opacity: 0; fill: rgb(0, 0, 0); fill-opacity: 0;\"/><text class=\"annotation-text\" text-anchor=\"middle\" x=\"57.671875\" y=\"14\" style=\"font-family: 'Open Sans', verdana, arial, sans-serif; font-size: 12px; fill: rgb(51, 51, 51); fill-opacity: 1; white-space: pre;\">Endpoints_deleted</text></g></g></g><g class=\"annotation\" data-index=\"3\" style=\"opacity: 1;\"><g class=\"annotation-text-g\" transform=\"rotate(0,870.5,395.86)\"><g class=\"cursor-pointer\" transform=\"translate(830,386)\"><rect class=\"bg\" x=\"0.5\" y=\"0.5\" width=\"80\" height=\"18\" style=\"stroke-width: 1px; stroke: rgb(0, 0, 0); stroke-opacity: 0; fill: rgb(0, 0, 0); fill-opacity: 0;\"/><text class=\"annotation-text\" text-anchor=\"middle\" x=\"40.71875\" y=\"14\" style=\"font-family: 'Open Sans', verdana, arial, sans-serif; font-size: 12px; fill: rgb(51, 51, 51); fill-opacity: 1; white-space: pre;\">Paths_added</text></g></g></g><g class=\"annotation\" data-index=\"4\" style=\"opacity: 1;\"><g class=\"annotation-text-g\" transform=\"rotate(0,867.43,390.04)\"><g class=\"cursor-pointer\" transform=\"translate(823,381)\"><rect class=\"bg\" x=\"0.5\" y=\"0.5\" width=\"88\" height=\"18\" style=\"stroke-width: 1px; stroke: rgb(0, 0, 0); stroke-opacity: 0; fill: rgb(0, 0, 0); fill-opacity: 0;\"/><text class=\"annotation-text\" text-anchor=\"middle\" x=\"44.546875\" y=\"14\" style=\"font-family: 'Open Sans', verdana, arial, sans-serif; font-size: 12px; fill: rgb(51, 51, 51); fill-opacity: 1; white-space: pre;\">Paths_deleted</text></g></g></g><g class=\"annotation\" data-index=\"5\" style=\"opacity: 1;\"><g class=\"annotation-text-g\" transform=\"rotate(0,132.04,122.67000000000002)\"><g class=\"cursor-pointer\" transform=\"translate(84,113)\"><rect class=\"bg\" x=\"0.5\" y=\"0.5\" width=\"96\" height=\"18\" style=\"stroke-width: 1px; stroke: rgb(0, 0, 0); stroke-opacity: 0; fill: rgb(0, 0, 0); fill-opacity: 0;\"/><text class=\"annotation-text\" text-anchor=\"middle\" x=\"48.265625\" y=\"14\" style=\"font-family: 'Open Sans', verdana, arial, sans-serif; font-size: 12px; fill: rgb(51, 51, 51); fill-opacity: 1; white-space: pre;\">Paths_modified</text></g></g></g></g></svg>"
     },
     "metadata": {},
     "output_type": "display_data"
    },
    {
     "data": {
      "image/svg+xml": "<svg class=\"main-svg\" xmlns=\"http://www.w3.org/2000/svg\" xmlns:xlink=\"http://www.w3.org/1999/xlink\" width=\"1000\" height=\"600\" style=\"\" viewBox=\"0 0 1000 600\"><rect x=\"0\" y=\"0\" width=\"1000\" height=\"600\" style=\"fill: rgb(255, 255, 255); fill-opacity: 1;\"/><defs id=\"defs-6d8b20\"><g class=\"clips\"><clipPath id=\"clip6d8b20xyplot\" class=\"plotclip\"><rect width=\"840\" height=\"420\"/></clipPath><clipPath class=\"axesclip\" id=\"clip6d8b20x\"><rect x=\"80\" y=\"0\" width=\"840\" height=\"600\"/></clipPath><clipPath class=\"axesclip\" id=\"clip6d8b20y\"><rect x=\"0\" y=\"100\" width=\"1000\" height=\"420\"/></clipPath><clipPath class=\"axesclip\" id=\"clip6d8b20xy\"><rect x=\"80\" y=\"100\" width=\"840\" height=\"420\"/></clipPath></g><g class=\"gradients\"/><g class=\"patterns\"/></defs><g class=\"bglayer\"><rect class=\"bg\" x=\"80\" y=\"100\" width=\"840\" height=\"420\" style=\"fill: rgb(237, 237, 237); fill-opacity: 1; stroke-width: 0;\"/></g><g class=\"layer-below\"><g class=\"imagelayer\"/><g class=\"shapelayer\"/></g><g class=\"cartesianlayer\"><g class=\"subplot xy\"><g class=\"layer-subplot\"><g class=\"shapelayer\"/><g class=\"imagelayer\"/></g><g class=\"minor-gridlayer\"><g class=\"x\"/><g class=\"y\"/></g><g class=\"gridlayer\"><g class=\"x\"><path class=\"xgrid crisp\" transform=\"translate(235.84,0)\" d=\"M0,100v420\" style=\"stroke: rgb(255, 255, 255); stroke-opacity: 1; stroke-width: 1px;\"/><path class=\"xgrid crisp\" transform=\"translate(391.48,0)\" d=\"M0,100v420\" style=\"stroke: rgb(255, 255, 255); stroke-opacity: 1; stroke-width: 1px;\"/><path class=\"xgrid crisp\" transform=\"translate(547.12,0)\" d=\"M0,100v420\" style=\"stroke: rgb(255, 255, 255); stroke-opacity: 1; stroke-width: 1px;\"/><path class=\"xgrid crisp\" transform=\"translate(702.76,0)\" d=\"M0,100v420\" style=\"stroke: rgb(255, 255, 255); stroke-opacity: 1; stroke-width: 1px;\"/><path class=\"xgrid crisp\" transform=\"translate(858.4,0)\" d=\"M0,100v420\" style=\"stroke: rgb(255, 255, 255); stroke-opacity: 1; stroke-width: 1px;\"/></g><g class=\"y\"><path class=\"ygrid crisp\" transform=\"translate(0,459.8)\" d=\"M80,0h840\" style=\"stroke: rgb(255, 255, 255); stroke-opacity: 1; stroke-width: 1px;\"/><path class=\"ygrid crisp\" transform=\"translate(0,302.98)\" d=\"M80,0h840\" style=\"stroke: rgb(255, 255, 255); stroke-opacity: 1; stroke-width: 1px;\"/><path class=\"ygrid crisp\" transform=\"translate(0,224.57999999999998)\" d=\"M80,0h840\" style=\"stroke: rgb(255, 255, 255); stroke-opacity: 1; stroke-width: 1px;\"/><path class=\"ygrid crisp\" transform=\"translate(0,146.17000000000002)\" d=\"M80,0h840\" style=\"stroke: rgb(255, 255, 255); stroke-opacity: 1; stroke-width: 1px;\"/></g></g><g class=\"zerolinelayer\"><path class=\"xzl zl crisp\" transform=\"translate(80.2,0)\" d=\"M0,100v420\" style=\"stroke: rgb(255, 255, 255); stroke-opacity: 1; stroke-width: 1px;\"/><path class=\"yzl zl crisp\" transform=\"translate(0,381.39)\" d=\"M80,0h840\" style=\"stroke: rgb(255, 255, 255); stroke-opacity: 1; stroke-width: 1px;\"/></g><path class=\"xlines-below\"/><path class=\"ylines-below\"/><g class=\"overlines-below\"/><g class=\"xaxislayer-below\"/><g class=\"yaxislayer-below\"/><g class=\"overaxes-below\"/><g class=\"plot\" transform=\"translate(80,100)\" clip-path=\"url(#clip6d8b20xyplot)\"><g class=\"scatterlayer mlayer\"><g class=\"trace scatter trace1a4bc2\" style=\"stroke-miterlimit: 2; opacity: 1;\"><g class=\"fills\"/><g class=\"errorbars\"/><g class=\"lines\"/><g class=\"points\"><path class=\"point\" transform=\"translate(227.42,28.82)\" d=\"M6,0A6,6 0 1,1 0,-6A6,6 0 0,1 6,0Z\" style=\"opacity: 1; stroke-width: 0px; fill: rgb(253, 254, 188); fill-opacity: 1;\"/><path class=\"point\" transform=\"translate(784.01,251.39)\" d=\"M6,0A6,6 0 1,1 0,-6A6,6 0 0,1 6,0Z\" style=\"opacity: 1; stroke-width: 0px; fill: rgb(236, 247, 161); fill-opacity: 1;\"/><path class=\"point\" transform=\"translate(734.51,391.5)\" d=\"M6,0A6,6 0 1,1 0,-6A6,6 0 0,1 6,0Z\" style=\"opacity: 1; stroke-width: 0px; fill: rgb(253, 254, 188); fill-opacity: 1;\"/><path class=\"point\" transform=\"translate(790.5,253.1)\" d=\"M6,0A6,6 0 1,1 0,-6A6,6 0 0,1 6,0Z\" style=\"opacity: 1; stroke-width: 0px; fill: rgb(254, 239, 164); fill-opacity: 1;\"/><path class=\"point\" transform=\"translate(734.51,391.5)\" d=\"M6,0A6,6 0 1,1 0,-6A6,6 0 0,1 6,0Z\" style=\"opacity: 1; stroke-width: 0px; fill: rgb(255, 244, 173); fill-opacity: 1;\"/><path class=\"point\" transform=\"translate(231.29,28.5)\" d=\"M6,0A6,6 0 1,1 0,-6A6,6 0 0,1 6,0Z\" style=\"opacity: 1; stroke-width: 0px; fill: rgb(254, 233, 154); fill-opacity: 1;\"/></g><g class=\"text\"/></g></g></g><g class=\"overplot\"/><path class=\"xlines-above crisp\" d=\"\" style=\"fill: none; stroke-width: 1px; stroke: rgb(0, 0, 0); stroke-opacity: 0;\"/><path class=\"ylines-above crisp\" d=\"\" style=\"fill: none; stroke-width: 1px; stroke: rgb(0, 0, 0); stroke-opacity: 0;\"/><g class=\"overlines-above\"/><g class=\"xaxislayer-above\"><path class=\"xtick ticks crisp\" d=\"M0,521v5\" transform=\"translate(80.2,0)\" style=\"stroke: rgb(51, 51, 51); stroke-opacity: 1; stroke-width: 1px;\"/><path class=\"xtick ticks crisp\" d=\"M0,521v5\" transform=\"translate(235.84,0)\" style=\"stroke: rgb(51, 51, 51); stroke-opacity: 1; stroke-width: 1px;\"/><path class=\"xtick ticks crisp\" d=\"M0,521v5\" transform=\"translate(391.48,0)\" style=\"stroke: rgb(51, 51, 51); stroke-opacity: 1; stroke-width: 1px;\"/><path class=\"xtick ticks crisp\" d=\"M0,521v5\" transform=\"translate(547.12,0)\" style=\"stroke: rgb(51, 51, 51); stroke-opacity: 1; stroke-width: 1px;\"/><path class=\"xtick ticks crisp\" d=\"M0,521v5\" transform=\"translate(702.76,0)\" style=\"stroke: rgb(51, 51, 51); stroke-opacity: 1; stroke-width: 1px;\"/><path class=\"xtick ticks crisp\" d=\"M0,521v5\" transform=\"translate(858.4,0)\" style=\"stroke: rgb(51, 51, 51); stroke-opacity: 1; stroke-width: 1px;\"/><g class=\"xtick\"><text text-anchor=\"middle\" x=\"0\" y=\"540.4\" transform=\"translate(80.2,0)\" style=\"font-family: 'Open Sans', verdana, arial, sans-serif; font-size: 12px; fill: rgb(51, 51, 51); fill-opacity: 1; white-space: pre; opacity: 1;\">0</text></g><g class=\"xtick\"><text text-anchor=\"middle\" x=\"0\" y=\"540.4\" style=\"font-family: 'Open Sans', verdana, arial, sans-serif; font-size: 12px; fill: rgb(51, 51, 51); fill-opacity: 1; white-space: pre; opacity: 1;\" transform=\"translate(235.84,0)\">0.1</text></g><g class=\"xtick\"><text text-anchor=\"middle\" x=\"0\" y=\"540.4\" style=\"font-family: 'Open Sans', verdana, arial, sans-serif; font-size: 12px; fill: rgb(51, 51, 51); fill-opacity: 1; white-space: pre; opacity: 1;\" transform=\"translate(391.48,0)\">0.2</text></g><g class=\"xtick\"><text text-anchor=\"middle\" x=\"0\" y=\"540.4\" style=\"font-family: 'Open Sans', verdana, arial, sans-serif; font-size: 12px; fill: rgb(51, 51, 51); fill-opacity: 1; white-space: pre; opacity: 1;\" transform=\"translate(547.12,0)\">0.3</text></g><g class=\"xtick\"><text text-anchor=\"middle\" x=\"0\" y=\"540.4\" style=\"font-family: 'Open Sans', verdana, arial, sans-serif; font-size: 12px; fill: rgb(51, 51, 51); fill-opacity: 1; white-space: pre; opacity: 1;\" transform=\"translate(702.76,0)\">0.4</text></g><g class=\"xtick\"><text text-anchor=\"middle\" x=\"0\" y=\"540.4\" style=\"font-family: 'Open Sans', verdana, arial, sans-serif; font-size: 12px; fill: rgb(51, 51, 51); fill-opacity: 1; white-space: pre; opacity: 1;\" transform=\"translate(858.4,0)\">0.5</text></g></g><g class=\"yaxislayer-above\"><path class=\"ytick ticks crisp\" d=\"M79,0h-5\" transform=\"translate(0,459.8)\" style=\"stroke: rgb(51, 51, 51); stroke-opacity: 1; stroke-width: 1px;\"/><path class=\"ytick ticks crisp\" d=\"M79,0h-5\" transform=\"translate(0,381.39)\" style=\"stroke: rgb(51, 51, 51); stroke-opacity: 1; stroke-width: 1px;\"/><path class=\"ytick ticks crisp\" d=\"M79,0h-5\" transform=\"translate(0,302.98)\" style=\"stroke: rgb(51, 51, 51); stroke-opacity: 1; stroke-width: 1px;\"/><path class=\"ytick ticks crisp\" d=\"M79,0h-5\" transform=\"translate(0,224.57999999999998)\" style=\"stroke: rgb(51, 51, 51); stroke-opacity: 1; stroke-width: 1px;\"/><path class=\"ytick ticks crisp\" d=\"M79,0h-5\" transform=\"translate(0,146.17000000000002)\" style=\"stroke: rgb(51, 51, 51); stroke-opacity: 1; stroke-width: 1px;\"/><g class=\"ytick\"><text text-anchor=\"end\" x=\"71.6\" y=\"4.199999999999999\" transform=\"translate(0,459.8)\" style=\"font-family: 'Open Sans', verdana, arial, sans-serif; font-size: 12px; fill: rgb(51, 51, 51); fill-opacity: 1; white-space: pre; opacity: 1;\">−0.2</text></g><g class=\"ytick\"><text text-anchor=\"end\" x=\"71.6\" y=\"4.199999999999999\" style=\"font-family: 'Open Sans', verdana, arial, sans-serif; font-size: 12px; fill: rgb(51, 51, 51); fill-opacity: 1; white-space: pre; opacity: 1;\" transform=\"translate(0,381.39)\">0</text></g><g class=\"ytick\"><text text-anchor=\"end\" x=\"71.6\" y=\"4.199999999999999\" style=\"font-family: 'Open Sans', verdana, arial, sans-serif; font-size: 12px; fill: rgb(51, 51, 51); fill-opacity: 1; white-space: pre; opacity: 1;\" transform=\"translate(0,302.98)\">0.2</text></g><g class=\"ytick\"><text text-anchor=\"end\" x=\"71.6\" y=\"4.199999999999999\" style=\"font-family: 'Open Sans', verdana, arial, sans-serif; font-size: 12px; fill: rgb(51, 51, 51); fill-opacity: 1; white-space: pre; opacity: 1;\" transform=\"translate(0,224.57999999999998)\">0.4</text></g><g class=\"ytick\"><text text-anchor=\"end\" x=\"71.6\" y=\"4.199999999999999\" style=\"font-family: 'Open Sans', verdana, arial, sans-serif; font-size: 12px; fill: rgb(51, 51, 51); fill-opacity: 1; white-space: pre; opacity: 1;\" transform=\"translate(0,146.17000000000002)\">0.6</text></g></g><g class=\"overaxes-above\"/></g></g><g class=\"polarlayer\"/><g class=\"smithlayer\"/><g class=\"ternarylayer\"/><g class=\"geolayer\"/><g class=\"funnelarealayer\"/><g class=\"pielayer\"/><g class=\"iciclelayer\"/><g class=\"treemaplayer\"/><g class=\"sunburstlayer\"/><g class=\"glimages\"/><defs id=\"topdefs-6d8b20\"><g class=\"clips\"/></defs><g class=\"layer-above\"><g class=\"imagelayer\"/><g class=\"shapelayer\"><g class=\"shape-group\" data-index=\"0\" clip-path=\"url(#clip6d8b20xy)\"><path data-index=\"0\" fill-rule=\"evenodd\" d=\"M80.2,381.39L307.41999999999996,128.82\" style=\"opacity: 0.3; stroke: rgb(0, 0, 0); stroke-opacity: 1; fill: rgb(0, 0, 0); fill-opacity: 1; stroke-width: 0.4px;\"/></g><g class=\"shape-group\" data-index=\"1\" clip-path=\"url(#clip6d8b20xy)\"><path data-index=\"1\" fill-rule=\"evenodd\" d=\"M80.2,381.39L864.01,351.39\" style=\"opacity: 0.3; stroke: rgb(0, 0, 0); stroke-opacity: 1; fill: rgb(0, 0, 0); fill-opacity: 1; stroke-width: 0.4px;\"/></g><g class=\"shape-group\" data-index=\"2\" clip-path=\"url(#clip6d8b20xy)\"><path data-index=\"2\" fill-rule=\"evenodd\" d=\"M80.2,381.39L814.51,491.5\" style=\"opacity: 0.3; stroke: rgb(0, 0, 0); stroke-opacity: 1; fill: rgb(0, 0, 0); fill-opacity: 1; stroke-width: 0.4px;\"/></g><g class=\"shape-group\" data-index=\"3\" clip-path=\"url(#clip6d8b20xy)\"><path data-index=\"3\" fill-rule=\"evenodd\" d=\"M80.2,381.39L870.5,353.1\" style=\"opacity: 0.3; stroke: rgb(0, 0, 0); stroke-opacity: 1; fill: rgb(0, 0, 0); fill-opacity: 1; stroke-width: 0.4px;\"/></g><g class=\"shape-group\" data-index=\"4\" clip-path=\"url(#clip6d8b20xy)\"><path data-index=\"4\" fill-rule=\"evenodd\" d=\"M80.2,381.39L814.51,491.5\" style=\"opacity: 0.3; stroke: rgb(0, 0, 0); stroke-opacity: 1; fill: rgb(0, 0, 0); fill-opacity: 1; stroke-width: 0.4px;\"/></g><g class=\"shape-group\" data-index=\"5\" clip-path=\"url(#clip6d8b20xy)\"><path data-index=\"5\" fill-rule=\"evenodd\" d=\"M80.2,381.39L311.28999999999996,128.5\" style=\"opacity: 0.3; stroke: rgb(0, 0, 0); stroke-opacity: 1; fill: rgb(0, 0, 0); fill-opacity: 1; stroke-width: 0.4px;\"/></g></g></g><g class=\"infolayer\"><g class=\"g-gtitle\"><text class=\"gtitle\" x=\"500\" y=\"50\" text-anchor=\"middle\" dy=\"0em\" style=\"font-family: 'Open Sans', verdana, arial, sans-serif; font-size: 17px; fill: rgb(51, 51, 51); opacity: 1; font-weight: normal; white-space: pre;\">PCA Loadings for major_major</text></g><g class=\"g-xtitle\"><text class=\"xtitle\" x=\"500\" y=\"567.20625\" text-anchor=\"middle\" style=\"font-family: 'Open Sans', verdana, arial, sans-serif; font-size: 14px; fill: rgb(51, 51, 51); opacity: 1; font-weight: normal; white-space: pre;\">PC1</text></g><g class=\"g-ytitle\"><text class=\"ytitle\" transform=\"rotate(-90,17.856250000000003,310)\" x=\"17.856250000000003\" y=\"310\" text-anchor=\"middle\" style=\"font-family: 'Open Sans', verdana, arial, sans-serif; font-size: 14px; fill: rgb(51, 51, 51); opacity: 1; font-weight: normal; white-space: pre;\">PC2</text></g><g class=\"annotation\" data-index=\"0\" style=\"opacity: 1;\"><g class=\"annotation-text-g\" transform=\"rotate(0,307.41999999999996,118.82)\"><g class=\"cursor-pointer\" transform=\"translate(246,109)\"><rect class=\"bg\" x=\"0.5\" y=\"0.5\" width=\"122\" height=\"18\" style=\"stroke-width: 1px; stroke: rgb(0, 0, 0); stroke-opacity: 0; fill: rgb(0, 0, 0); fill-opacity: 0;\"/><text class=\"annotation-text\" text-anchor=\"middle\" x=\"61.390625\" y=\"14\" style=\"font-family: 'Open Sans', verdana, arial, sans-serif; font-size: 12px; fill: rgb(51, 51, 51); fill-opacity: 1; white-space: pre;\">Endpoints_modified</text></g></g></g><g class=\"annotation\" data-index=\"1\" style=\"opacity: 1;\"><g class=\"annotation-text-g\" transform=\"rotate(0,864.01,341.39)\"><g class=\"cursor-pointer\" transform=\"translate(810,332)\"><rect class=\"bg\" x=\"0.5\" y=\"0.5\" width=\"107\" height=\"18\" style=\"stroke-width: 1px; stroke: rgb(0, 0, 0); stroke-opacity: 0; fill: rgb(0, 0, 0); fill-opacity: 0;\"/><text class=\"annotation-text\" text-anchor=\"middle\" x=\"53.859375\" y=\"14\" style=\"font-family: 'Open Sans', verdana, arial, sans-serif; font-size: 12px; fill: rgb(51, 51, 51); fill-opacity: 1; white-space: pre;\">Endpoints_added</text></g></g></g><g class=\"annotation\" data-index=\"2\" style=\"opacity: 1;\"><g class=\"annotation-text-g\" transform=\"rotate(0,814.51,481.5)\"><g class=\"cursor-pointer\" transform=\"translate(757,472)\"><rect class=\"bg\" x=\"0.5\" y=\"0.5\" width=\"114\" height=\"18\" style=\"stroke-width: 1px; stroke: rgb(0, 0, 0); stroke-opacity: 0; fill: rgb(0, 0, 0); fill-opacity: 0;\"/><text class=\"annotation-text\" text-anchor=\"middle\" x=\"57.671875\" y=\"14\" style=\"font-family: 'Open Sans', verdana, arial, sans-serif; font-size: 12px; fill: rgb(51, 51, 51); fill-opacity: 1; white-space: pre;\">Endpoints_deleted</text></g></g></g><g class=\"annotation\" data-index=\"3\" style=\"opacity: 1;\"><g class=\"annotation-text-g\" transform=\"rotate(0,870.5,343.1)\"><g class=\"cursor-pointer\" transform=\"translate(830,334)\"><rect class=\"bg\" x=\"0.5\" y=\"0.5\" width=\"80\" height=\"18\" style=\"stroke-width: 1px; stroke: rgb(0, 0, 0); stroke-opacity: 0; fill: rgb(0, 0, 0); fill-opacity: 0;\"/><text class=\"annotation-text\" text-anchor=\"middle\" x=\"40.71875\" y=\"14\" style=\"font-family: 'Open Sans', verdana, arial, sans-serif; font-size: 12px; fill: rgb(51, 51, 51); fill-opacity: 1; white-space: pre;\">Paths_added</text></g></g></g><g class=\"annotation\" data-index=\"4\" style=\"opacity: 1;\"><g class=\"annotation-text-g\" transform=\"rotate(0,814.51,481.5)\"><g class=\"cursor-pointer\" transform=\"translate(770,472)\"><rect class=\"bg\" x=\"0.5\" y=\"0.5\" width=\"88\" height=\"18\" style=\"stroke-width: 1px; stroke: rgb(0, 0, 0); stroke-opacity: 0; fill: rgb(0, 0, 0); fill-opacity: 0;\"/><text class=\"annotation-text\" text-anchor=\"middle\" x=\"44.546875\" y=\"14\" style=\"font-family: 'Open Sans', verdana, arial, sans-serif; font-size: 12px; fill: rgb(51, 51, 51); fill-opacity: 1; white-space: pre;\">Paths_deleted</text></g></g></g><g class=\"annotation\" data-index=\"5\" style=\"opacity: 1;\"><g class=\"annotation-text-g\" transform=\"rotate(0,311.28999999999996,118.5)\"><g class=\"cursor-pointer\" transform=\"translate(263,109)\"><rect class=\"bg\" x=\"0.5\" y=\"0.5\" width=\"96\" height=\"18\" style=\"stroke-width: 1px; stroke: rgb(0, 0, 0); stroke-opacity: 0; fill: rgb(0, 0, 0); fill-opacity: 0;\"/><text class=\"annotation-text\" text-anchor=\"middle\" x=\"48.265625\" y=\"14\" style=\"font-family: 'Open Sans', verdana, arial, sans-serif; font-size: 12px; fill: rgb(51, 51, 51); fill-opacity: 1; white-space: pre;\">Paths_modified</text></g></g></g></g></svg>"
     },
     "metadata": {},
     "output_type": "display_data"
    },
    {
     "data": {
      "image/svg+xml": "<svg class=\"main-svg\" xmlns=\"http://www.w3.org/2000/svg\" xmlns:xlink=\"http://www.w3.org/1999/xlink\" width=\"1000\" height=\"600\" style=\"\" viewBox=\"0 0 1000 600\"><rect x=\"0\" y=\"0\" width=\"1000\" height=\"600\" style=\"fill: rgb(255, 255, 255); fill-opacity: 1;\"/><defs id=\"defs-52dc45\"><g class=\"clips\"><clipPath id=\"clip52dc45xyplot\" class=\"plotclip\"><rect width=\"840\" height=\"420\"/></clipPath><clipPath class=\"axesclip\" id=\"clip52dc45x\"><rect x=\"80\" y=\"0\" width=\"840\" height=\"600\"/></clipPath><clipPath class=\"axesclip\" id=\"clip52dc45y\"><rect x=\"0\" y=\"100\" width=\"1000\" height=\"420\"/></clipPath><clipPath class=\"axesclip\" id=\"clip52dc45xy\"><rect x=\"80\" y=\"100\" width=\"840\" height=\"420\"/></clipPath></g><g class=\"gradients\"/><g class=\"patterns\"/></defs><g class=\"bglayer\"><rect class=\"bg\" x=\"80\" y=\"100\" width=\"840\" height=\"420\" style=\"fill: rgb(237, 237, 237); fill-opacity: 1; stroke-width: 0;\"/></g><g class=\"layer-below\"><g class=\"imagelayer\"/><g class=\"shapelayer\"/></g><g class=\"cartesianlayer\"><g class=\"subplot xy\"><g class=\"layer-subplot\"><g class=\"shapelayer\"/><g class=\"imagelayer\"/></g><g class=\"minor-gridlayer\"><g class=\"x\"/><g class=\"y\"/></g><g class=\"gridlayer\"><g class=\"x\"><path class=\"xgrid crisp\" transform=\"translate(240.2,0)\" d=\"M0,100v420\" style=\"stroke: rgb(255, 255, 255); stroke-opacity: 1; stroke-width: 1px;\"/><path class=\"xgrid crisp\" transform=\"translate(400.2,0)\" d=\"M0,100v420\" style=\"stroke: rgb(255, 255, 255); stroke-opacity: 1; stroke-width: 1px;\"/><path class=\"xgrid crisp\" transform=\"translate(560.2,0)\" d=\"M0,100v420\" style=\"stroke: rgb(255, 255, 255); stroke-opacity: 1; stroke-width: 1px;\"/><path class=\"xgrid crisp\" transform=\"translate(720.21,0)\" d=\"M0,100v420\" style=\"stroke: rgb(255, 255, 255); stroke-opacity: 1; stroke-width: 1px;\"/><path class=\"xgrid crisp\" transform=\"translate(880.21,0)\" d=\"M0,100v420\" style=\"stroke: rgb(255, 255, 255); stroke-opacity: 1; stroke-width: 1px;\"/></g><g class=\"y\"><path class=\"ygrid crisp\" transform=\"translate(0,464.78)\" d=\"M80,0h840\" style=\"stroke: rgb(255, 255, 255); stroke-opacity: 1; stroke-width: 1px;\"/><path class=\"ygrid crisp\" transform=\"translate(0,392.59)\" d=\"M80,0h840\" style=\"stroke: rgb(255, 255, 255); stroke-opacity: 1; stroke-width: 1px;\"/><path class=\"ygrid crisp\" transform=\"translate(0,248.19)\" d=\"M80,0h840\" style=\"stroke: rgb(255, 255, 255); stroke-opacity: 1; stroke-width: 1px;\"/><path class=\"ygrid crisp\" transform=\"translate(0,175.99)\" d=\"M80,0h840\" style=\"stroke: rgb(255, 255, 255); stroke-opacity: 1; stroke-width: 1px;\"/><path class=\"ygrid crisp\" transform=\"translate(0,103.79)\" d=\"M80,0h840\" style=\"stroke: rgb(255, 255, 255); stroke-opacity: 1; stroke-width: 1px;\"/></g></g><g class=\"zerolinelayer\"><path class=\"xzl zl crisp\" transform=\"translate(80.2,0)\" d=\"M0,100v420\" style=\"stroke: rgb(255, 255, 255); stroke-opacity: 1; stroke-width: 1px;\"/><path class=\"yzl zl crisp\" transform=\"translate(0,320.39)\" d=\"M80,0h840\" style=\"stroke: rgb(255, 255, 255); stroke-opacity: 1; stroke-width: 1px;\"/></g><path class=\"xlines-below\"/><path class=\"ylines-below\"/><g class=\"overlines-below\"/><g class=\"xaxislayer-below\"/><g class=\"yaxislayer-below\"/><g class=\"overaxes-below\"/><g class=\"plot\" transform=\"translate(80,100)\" clip-path=\"url(#clip52dc45xyplot)\"><g class=\"scatterlayer mlayer\"><g class=\"trace scatter tracece6754\" style=\"stroke-miterlimit: 2; opacity: 1;\"><g class=\"fills\"/><g class=\"errorbars\"/><g class=\"lines\"/><g class=\"points\"><path class=\"point\" transform=\"translate(619.42,384.92)\" d=\"M6,0A6,6 0 1,1 0,-6A6,6 0 0,1 6,0Z\" style=\"opacity: 1; stroke-width: 0px; fill: rgb(255, 254, 189); fill-opacity: 1;\"/><path class=\"point\" transform=\"translate(786,233.13)\" d=\"M6,0A6,6 0 1,1 0,-6A6,6 0 0,1 6,0Z\" style=\"opacity: 1; stroke-width: 0px; fill: rgb(254, 235, 158); fill-opacity: 1;\"/><path class=\"point\" transform=\"translate(564.24,28.5)\" d=\"M6,0A6,6 0 1,1 0,-6A6,6 0 0,1 6,0Z\" style=\"opacity: 1; stroke-width: 0px; fill: rgb(255, 241, 167); fill-opacity: 1;\"/><path class=\"point\" transform=\"translate(786,233.13)\" d=\"M6,0A6,6 0 1,1 0,-6A6,6 0 0,1 6,0Z\" style=\"opacity: 1; stroke-width: 0px; fill: rgb(234, 247, 158); fill-opacity: 1;\"/><path class=\"point\" transform=\"translate(564.24,28.5)\" d=\"M6,0A6,6 0 1,1 0,-6A6,6 0 0,1 6,0Z\" style=\"opacity: 1; stroke-width: 0px; fill: rgb(255, 255, 191); fill-opacity: 1;\"/><path class=\"point\" transform=\"translate(552.8,391.5)\" d=\"M6,0A6,6 0 1,1 0,-6A6,6 0 0,1 6,0Z\" style=\"opacity: 1; stroke-width: 0px; fill: rgb(254, 219, 135); fill-opacity: 1;\"/></g><g class=\"text\"/></g></g></g><g class=\"overplot\"/><path class=\"xlines-above crisp\" d=\"\" style=\"fill: none; stroke-width: 1px; stroke: rgb(0, 0, 0); stroke-opacity: 0;\"/><path class=\"ylines-above crisp\" d=\"\" style=\"fill: none; stroke-width: 1px; stroke: rgb(0, 0, 0); stroke-opacity: 0;\"/><g class=\"overlines-above\"/><g class=\"xaxislayer-above\"><path class=\"xtick ticks crisp\" d=\"M0,521v5\" transform=\"translate(80.2,0)\" style=\"stroke: rgb(51, 51, 51); stroke-opacity: 1; stroke-width: 1px;\"/><path class=\"xtick ticks crisp\" d=\"M0,521v5\" transform=\"translate(240.2,0)\" style=\"stroke: rgb(51, 51, 51); stroke-opacity: 1; stroke-width: 1px;\"/><path class=\"xtick ticks crisp\" d=\"M0,521v5\" transform=\"translate(400.2,0)\" style=\"stroke: rgb(51, 51, 51); stroke-opacity: 1; stroke-width: 1px;\"/><path class=\"xtick ticks crisp\" d=\"M0,521v5\" transform=\"translate(560.2,0)\" style=\"stroke: rgb(51, 51, 51); stroke-opacity: 1; stroke-width: 1px;\"/><path class=\"xtick ticks crisp\" d=\"M0,521v5\" transform=\"translate(720.21,0)\" style=\"stroke: rgb(51, 51, 51); stroke-opacity: 1; stroke-width: 1px;\"/><path class=\"xtick ticks crisp\" d=\"M0,521v5\" transform=\"translate(880.21,0)\" style=\"stroke: rgb(51, 51, 51); stroke-opacity: 1; stroke-width: 1px;\"/><g class=\"xtick\"><text text-anchor=\"middle\" x=\"0\" y=\"540.4\" transform=\"translate(80.2,0)\" style=\"font-family: 'Open Sans', verdana, arial, sans-serif; font-size: 12px; fill: rgb(51, 51, 51); fill-opacity: 1; white-space: pre; opacity: 1;\">0</text></g><g class=\"xtick\"><text text-anchor=\"middle\" x=\"0\" y=\"540.4\" style=\"font-family: 'Open Sans', verdana, arial, sans-serif; font-size: 12px; fill: rgb(51, 51, 51); fill-opacity: 1; white-space: pre; opacity: 1;\" transform=\"translate(240.2,0)\">0.1</text></g><g class=\"xtick\"><text text-anchor=\"middle\" x=\"0\" y=\"540.4\" style=\"font-family: 'Open Sans', verdana, arial, sans-serif; font-size: 12px; fill: rgb(51, 51, 51); fill-opacity: 1; white-space: pre; opacity: 1;\" transform=\"translate(400.2,0)\">0.2</text></g><g class=\"xtick\"><text text-anchor=\"middle\" x=\"0\" y=\"540.4\" style=\"font-family: 'Open Sans', verdana, arial, sans-serif; font-size: 12px; fill: rgb(51, 51, 51); fill-opacity: 1; white-space: pre; opacity: 1;\" transform=\"translate(560.2,0)\">0.3</text></g><g class=\"xtick\"><text text-anchor=\"middle\" x=\"0\" y=\"540.4\" style=\"font-family: 'Open Sans', verdana, arial, sans-serif; font-size: 12px; fill: rgb(51, 51, 51); fill-opacity: 1; white-space: pre; opacity: 1;\" transform=\"translate(720.21,0)\">0.4</text></g><g class=\"xtick\"><text text-anchor=\"middle\" x=\"0\" y=\"540.4\" style=\"font-family: 'Open Sans', verdana, arial, sans-serif; font-size: 12px; fill: rgb(51, 51, 51); fill-opacity: 1; white-space: pre; opacity: 1;\" transform=\"translate(880.21,0)\">0.5</text></g></g><g class=\"yaxislayer-above\"><path class=\"ytick ticks crisp\" d=\"M79,0h-5\" transform=\"translate(0,464.78)\" style=\"stroke: rgb(51, 51, 51); stroke-opacity: 1; stroke-width: 1px;\"/><path class=\"ytick ticks crisp\" d=\"M79,0h-5\" transform=\"translate(0,392.59)\" style=\"stroke: rgb(51, 51, 51); stroke-opacity: 1; stroke-width: 1px;\"/><path class=\"ytick ticks crisp\" d=\"M79,0h-5\" transform=\"translate(0,320.39)\" style=\"stroke: rgb(51, 51, 51); stroke-opacity: 1; stroke-width: 1px;\"/><path class=\"ytick ticks crisp\" d=\"M79,0h-5\" transform=\"translate(0,248.19)\" style=\"stroke: rgb(51, 51, 51); stroke-opacity: 1; stroke-width: 1px;\"/><path class=\"ytick ticks crisp\" d=\"M79,0h-5\" transform=\"translate(0,175.99)\" style=\"stroke: rgb(51, 51, 51); stroke-opacity: 1; stroke-width: 1px;\"/><path class=\"ytick ticks crisp\" d=\"M79,0h-5\" transform=\"translate(0,103.79)\" style=\"stroke: rgb(51, 51, 51); stroke-opacity: 1; stroke-width: 1px;\"/><g class=\"ytick\"><text text-anchor=\"end\" x=\"71.6\" y=\"4.199999999999999\" transform=\"translate(0,464.78)\" style=\"font-family: 'Open Sans', verdana, arial, sans-serif; font-size: 12px; fill: rgb(51, 51, 51); fill-opacity: 1; white-space: pre; opacity: 1;\">−0.4</text></g><g class=\"ytick\"><text text-anchor=\"end\" x=\"71.6\" y=\"4.199999999999999\" style=\"font-family: 'Open Sans', verdana, arial, sans-serif; font-size: 12px; fill: rgb(51, 51, 51); fill-opacity: 1; white-space: pre; opacity: 1;\" transform=\"translate(0,392.59)\">−0.2</text></g><g class=\"ytick\"><text text-anchor=\"end\" x=\"71.6\" y=\"4.199999999999999\" style=\"font-family: 'Open Sans', verdana, arial, sans-serif; font-size: 12px; fill: rgb(51, 51, 51); fill-opacity: 1; white-space: pre; opacity: 1;\" transform=\"translate(0,320.39)\">0</text></g><g class=\"ytick\"><text text-anchor=\"end\" x=\"71.6\" y=\"4.199999999999999\" style=\"font-family: 'Open Sans', verdana, arial, sans-serif; font-size: 12px; fill: rgb(51, 51, 51); fill-opacity: 1; white-space: pre; opacity: 1;\" transform=\"translate(0,248.19)\">0.2</text></g><g class=\"ytick\"><text text-anchor=\"end\" x=\"71.6\" y=\"4.199999999999999\" style=\"font-family: 'Open Sans', verdana, arial, sans-serif; font-size: 12px; fill: rgb(51, 51, 51); fill-opacity: 1; white-space: pre; opacity: 1;\" transform=\"translate(0,175.99)\">0.4</text></g><g class=\"ytick\"><text text-anchor=\"end\" x=\"71.6\" y=\"4.199999999999999\" style=\"font-family: 'Open Sans', verdana, arial, sans-serif; font-size: 12px; fill: rgb(51, 51, 51); fill-opacity: 1; white-space: pre; opacity: 1;\" transform=\"translate(0,103.79)\">0.6</text></g></g><g class=\"overaxes-above\"/></g></g><g class=\"polarlayer\"/><g class=\"smithlayer\"/><g class=\"ternarylayer\"/><g class=\"geolayer\"/><g class=\"funnelarealayer\"/><g class=\"pielayer\"/><g class=\"iciclelayer\"/><g class=\"treemaplayer\"/><g class=\"sunburstlayer\"/><g class=\"glimages\"/><defs id=\"topdefs-52dc45\"><g class=\"clips\"/></defs><g class=\"layer-above\"><g class=\"imagelayer\"/><g class=\"shapelayer\"><g class=\"shape-group\" data-index=\"0\" clip-path=\"url(#clip52dc45xy)\"><path data-index=\"0\" fill-rule=\"evenodd\" d=\"M80.2,320.39L699.42,484.92\" style=\"opacity: 0.3; stroke: rgb(0, 0, 0); stroke-opacity: 1; fill: rgb(0, 0, 0); fill-opacity: 1; stroke-width: 0.4px;\"/></g><g class=\"shape-group\" data-index=\"1\" clip-path=\"url(#clip52dc45xy)\"><path data-index=\"1\" fill-rule=\"evenodd\" d=\"M80.2,320.39L866,333.13\" style=\"opacity: 0.3; stroke: rgb(0, 0, 0); stroke-opacity: 1; fill: rgb(0, 0, 0); fill-opacity: 1; stroke-width: 0.4px;\"/></g><g class=\"shape-group\" data-index=\"2\" clip-path=\"url(#clip52dc45xy)\"><path data-index=\"2\" fill-rule=\"evenodd\" d=\"M80.2,320.39L644.24,128.5\" style=\"opacity: 0.3; stroke: rgb(0, 0, 0); stroke-opacity: 1; fill: rgb(0, 0, 0); fill-opacity: 1; stroke-width: 0.4px;\"/></g><g class=\"shape-group\" data-index=\"3\" clip-path=\"url(#clip52dc45xy)\"><path data-index=\"3\" fill-rule=\"evenodd\" d=\"M80.2,320.39L866,333.13\" style=\"opacity: 0.3; stroke: rgb(0, 0, 0); stroke-opacity: 1; fill: rgb(0, 0, 0); fill-opacity: 1; stroke-width: 0.4px;\"/></g><g class=\"shape-group\" data-index=\"4\" clip-path=\"url(#clip52dc45xy)\"><path data-index=\"4\" fill-rule=\"evenodd\" d=\"M80.2,320.39L644.24,128.5\" style=\"opacity: 0.3; stroke: rgb(0, 0, 0); stroke-opacity: 1; fill: rgb(0, 0, 0); fill-opacity: 1; stroke-width: 0.4px;\"/></g><g class=\"shape-group\" data-index=\"5\" clip-path=\"url(#clip52dc45xy)\"><path data-index=\"5\" fill-rule=\"evenodd\" d=\"M80.2,320.39L632.8,491.5\" style=\"opacity: 0.3; stroke: rgb(0, 0, 0); stroke-opacity: 1; fill: rgb(0, 0, 0); fill-opacity: 1; stroke-width: 0.4px;\"/></g></g></g><g class=\"infolayer\"><g class=\"g-gtitle\"><text class=\"gtitle\" x=\"500\" y=\"50\" text-anchor=\"middle\" dy=\"0em\" style=\"font-family: 'Open Sans', verdana, arial, sans-serif; font-size: 17px; fill: rgb(51, 51, 51); opacity: 1; font-weight: normal; white-space: pre;\">PCA Loadings for minor_patch</text></g><g class=\"g-xtitle\"><text class=\"xtitle\" x=\"500\" y=\"567.20625\" text-anchor=\"middle\" style=\"font-family: 'Open Sans', verdana, arial, sans-serif; font-size: 14px; fill: rgb(51, 51, 51); opacity: 1; font-weight: normal; white-space: pre;\">PC1</text></g><g class=\"g-ytitle\"><text class=\"ytitle\" transform=\"rotate(-90,17.856250000000003,310)\" x=\"17.856250000000003\" y=\"310\" text-anchor=\"middle\" style=\"font-family: 'Open Sans', verdana, arial, sans-serif; font-size: 14px; fill: rgb(51, 51, 51); opacity: 1; font-weight: normal; white-space: pre;\">PC2</text></g><g class=\"annotation\" data-index=\"0\" style=\"opacity: 1;\"><g class=\"annotation-text-g\" transform=\"rotate(0,699.42,474.92)\"><g class=\"cursor-pointer\" transform=\"translate(638,465)\"><rect class=\"bg\" x=\"0.5\" y=\"0.5\" width=\"122\" height=\"18\" style=\"stroke-width: 1px; stroke: rgb(0, 0, 0); stroke-opacity: 0; fill: rgb(0, 0, 0); fill-opacity: 0;\"/><text class=\"annotation-text\" text-anchor=\"middle\" x=\"61.390625\" y=\"14\" style=\"font-family: 'Open Sans', verdana, arial, sans-serif; font-size: 12px; fill: rgb(51, 51, 51); fill-opacity: 1; white-space: pre;\">Endpoints_modified</text></g></g></g><g class=\"annotation\" data-index=\"1\" style=\"opacity: 1;\"><g class=\"annotation-text-g\" transform=\"rotate(0,866,323.13)\"><g class=\"cursor-pointer\" transform=\"translate(812,314)\"><rect class=\"bg\" x=\"0.5\" y=\"0.5\" width=\"107\" height=\"18\" style=\"stroke-width: 1px; stroke: rgb(0, 0, 0); stroke-opacity: 0; fill: rgb(0, 0, 0); fill-opacity: 0;\"/><text class=\"annotation-text\" text-anchor=\"middle\" x=\"53.859375\" y=\"14\" style=\"font-family: 'Open Sans', verdana, arial, sans-serif; font-size: 12px; fill: rgb(51, 51, 51); fill-opacity: 1; white-space: pre;\">Endpoints_added</text></g></g></g><g class=\"annotation\" data-index=\"2\" style=\"opacity: 1;\"><g class=\"annotation-text-g\" transform=\"rotate(0,644.24,118.5)\"><g class=\"cursor-pointer\" transform=\"translate(587,109)\"><rect class=\"bg\" x=\"0.5\" y=\"0.5\" width=\"114\" height=\"18\" style=\"stroke-width: 1px; stroke: rgb(0, 0, 0); stroke-opacity: 0; fill: rgb(0, 0, 0); fill-opacity: 0;\"/><text class=\"annotation-text\" text-anchor=\"middle\" x=\"57.671875\" y=\"14\" style=\"font-family: 'Open Sans', verdana, arial, sans-serif; font-size: 12px; fill: rgb(51, 51, 51); fill-opacity: 1; white-space: pre;\">Endpoints_deleted</text></g></g></g><g class=\"annotation\" data-index=\"3\" style=\"opacity: 1;\"><g class=\"annotation-text-g\" transform=\"rotate(0,866,323.13)\"><g class=\"cursor-pointer\" transform=\"translate(826,314)\"><rect class=\"bg\" x=\"0.5\" y=\"0.5\" width=\"80\" height=\"18\" style=\"stroke-width: 1px; stroke: rgb(0, 0, 0); stroke-opacity: 0; fill: rgb(0, 0, 0); fill-opacity: 0;\"/><text class=\"annotation-text\" text-anchor=\"middle\" x=\"40.71875\" y=\"14\" style=\"font-family: 'Open Sans', verdana, arial, sans-serif; font-size: 12px; fill: rgb(51, 51, 51); fill-opacity: 1; white-space: pre;\">Paths_added</text></g></g></g><g class=\"annotation\" data-index=\"4\" style=\"opacity: 1;\"><g class=\"annotation-text-g\" transform=\"rotate(0,644.24,118.5)\"><g class=\"cursor-pointer\" transform=\"translate(600,109)\"><rect class=\"bg\" x=\"0.5\" y=\"0.5\" width=\"88\" height=\"18\" style=\"stroke-width: 1px; stroke: rgb(0, 0, 0); stroke-opacity: 0; fill: rgb(0, 0, 0); fill-opacity: 0;\"/><text class=\"annotation-text\" text-anchor=\"middle\" x=\"44.546875\" y=\"14\" style=\"font-family: 'Open Sans', verdana, arial, sans-serif; font-size: 12px; fill: rgb(51, 51, 51); fill-opacity: 1; white-space: pre;\">Paths_deleted</text></g></g></g><g class=\"annotation\" data-index=\"5\" style=\"opacity: 1;\"><g class=\"annotation-text-g\" transform=\"rotate(0,632.8,481.5)\"><g class=\"cursor-pointer\" transform=\"translate(584,472)\"><rect class=\"bg\" x=\"0.5\" y=\"0.5\" width=\"96\" height=\"18\" style=\"stroke-width: 1px; stroke: rgb(0, 0, 0); stroke-opacity: 0; fill: rgb(0, 0, 0); fill-opacity: 0;\"/><text class=\"annotation-text\" text-anchor=\"middle\" x=\"48.265625\" y=\"14\" style=\"font-family: 'Open Sans', verdana, arial, sans-serif; font-size: 12px; fill: rgb(51, 51, 51); fill-opacity: 1; white-space: pre;\">Paths_modified</text></g></g></g></g></svg>"
     },
     "metadata": {},
     "output_type": "display_data"
    },
    {
     "data": {
      "image/svg+xml": "<svg class=\"main-svg\" xmlns=\"http://www.w3.org/2000/svg\" xmlns:xlink=\"http://www.w3.org/1999/xlink\" width=\"1000\" height=\"600\" style=\"\" viewBox=\"0 0 1000 600\"><rect x=\"0\" y=\"0\" width=\"1000\" height=\"600\" style=\"fill: rgb(255, 255, 255); fill-opacity: 1;\"/><defs id=\"defs-41f2a8\"><g class=\"clips\"><clipPath id=\"clip41f2a8xyplot\" class=\"plotclip\"><rect width=\"840\" height=\"420\"/></clipPath><clipPath class=\"axesclip\" id=\"clip41f2a8x\"><rect x=\"80\" y=\"0\" width=\"840\" height=\"600\"/></clipPath><clipPath class=\"axesclip\" id=\"clip41f2a8y\"><rect x=\"0\" y=\"100\" width=\"1000\" height=\"420\"/></clipPath><clipPath class=\"axesclip\" id=\"clip41f2a8xy\"><rect x=\"80\" y=\"100\" width=\"840\" height=\"420\"/></clipPath></g><g class=\"gradients\"/><g class=\"patterns\"/></defs><g class=\"bglayer\"><rect class=\"bg\" x=\"80\" y=\"100\" width=\"840\" height=\"420\" style=\"fill: rgb(237, 237, 237); fill-opacity: 1; stroke-width: 0;\"/></g><g class=\"layer-below\"><g class=\"imagelayer\"/><g class=\"shapelayer\"/></g><g class=\"cartesianlayer\"><g class=\"subplot xy\"><g class=\"layer-subplot\"><g class=\"shapelayer\"/><g class=\"imagelayer\"/></g><g class=\"minor-gridlayer\"><g class=\"x\"/><g class=\"y\"/></g><g class=\"gridlayer\"><g class=\"x\"><path class=\"xgrid crisp\" transform=\"translate(97.14,0)\" d=\"M0,100v420\" style=\"stroke: rgb(255, 255, 255); stroke-opacity: 1; stroke-width: 1px;\"/><path class=\"xgrid crisp\" transform=\"translate(351.92,0)\" d=\"M0,100v420\" style=\"stroke: rgb(255, 255, 255); stroke-opacity: 1; stroke-width: 1px;\"/><path class=\"xgrid crisp\" transform=\"translate(479.32,0)\" d=\"M0,100v420\" style=\"stroke: rgb(255, 255, 255); stroke-opacity: 1; stroke-width: 1px;\"/><path class=\"xgrid crisp\" transform=\"translate(606.71,0)\" d=\"M0,100v420\" style=\"stroke: rgb(255, 255, 255); stroke-opacity: 1; stroke-width: 1px;\"/><path class=\"xgrid crisp\" transform=\"translate(734.11,0)\" d=\"M0,100v420\" style=\"stroke: rgb(255, 255, 255); stroke-opacity: 1; stroke-width: 1px;\"/><path class=\"xgrid crisp\" transform=\"translate(861.5,0)\" d=\"M0,100v420\" style=\"stroke: rgb(255, 255, 255); stroke-opacity: 1; stroke-width: 1px;\"/></g><g class=\"y\"><path class=\"ygrid crisp\" transform=\"translate(0,445.75)\" d=\"M80,0h840\" style=\"stroke: rgb(255, 255, 255); stroke-opacity: 1; stroke-width: 1px;\"/><path class=\"ygrid crisp\" transform=\"translate(0,393.05)\" d=\"M80,0h840\" style=\"stroke: rgb(255, 255, 255); stroke-opacity: 1; stroke-width: 1px;\"/><path class=\"ygrid crisp\" transform=\"translate(0,340.35)\" d=\"M80,0h840\" style=\"stroke: rgb(255, 255, 255); stroke-opacity: 1; stroke-width: 1px;\"/><path class=\"ygrid crisp\" transform=\"translate(0,287.64)\" d=\"M80,0h840\" style=\"stroke: rgb(255, 255, 255); stroke-opacity: 1; stroke-width: 1px;\"/><path class=\"ygrid crisp\" transform=\"translate(0,234.94)\" d=\"M80,0h840\" style=\"stroke: rgb(255, 255, 255); stroke-opacity: 1; stroke-width: 1px;\"/><path class=\"ygrid crisp\" transform=\"translate(0,182.24)\" d=\"M80,0h840\" style=\"stroke: rgb(255, 255, 255); stroke-opacity: 1; stroke-width: 1px;\"/><path class=\"ygrid crisp\" transform=\"translate(0,129.54)\" d=\"M80,0h840\" style=\"stroke: rgb(255, 255, 255); stroke-opacity: 1; stroke-width: 1px;\"/></g></g><g class=\"zerolinelayer\"><path class=\"xzl zl crisp\" transform=\"translate(224.53,0)\" d=\"M0,100v420\" style=\"stroke: rgb(255, 255, 255); stroke-opacity: 1; stroke-width: 1px;\"/><path class=\"yzl zl crisp\" transform=\"translate(0,498.45)\" d=\"M80,0h840\" style=\"stroke: rgb(255, 255, 255); stroke-opacity: 1; stroke-width: 1px;\"/></g><path class=\"xlines-below\"/><path class=\"ylines-below\"/><g class=\"overlines-below\"/><g class=\"xaxislayer-below\"/><g class=\"yaxislayer-below\"/><g class=\"overaxes-below\"/><g class=\"plot\" transform=\"translate(80,100)\" clip-path=\"url(#clip41f2a8xyplot)\"><g class=\"scatterlayer mlayer\"><g class=\"trace scatter trace7d65a1\" style=\"stroke-miterlimit: 2; opacity: 1;\"><g class=\"fills\"/><g class=\"errorbars\"/><g class=\"lines\"/><g class=\"points\"><path class=\"point\" transform=\"translate(61.5,28.51)\" d=\"M6,0A6,6 0 1,1 0,-6A6,6 0 0,1 6,0Z\" style=\"opacity: 1; stroke-width: 0px; fill: rgb(254, 204, 122); fill-opacity: 1;\"/><path class=\"point\" transform=\"translate(758.38,391.5)\" d=\"M6,0A6,6 0 1,1 0,-6A6,6 0 0,1 6,0Z\" style=\"opacity: 1; stroke-width: 0px; fill: rgb(205, 235, 157); fill-opacity: 1;\"/><path class=\"point\" transform=\"translate(782.5,354.59)\" d=\"M6,0A6,6 0 1,1 0,-6A6,6 0 0,1 6,0Z\" style=\"opacity: 1; stroke-width: 0px; fill: rgb(217, 240, 155); fill-opacity: 1;\"/><path class=\"point\" transform=\"translate(777.15,353.18)\" d=\"M6,0A6,6 0 1,1 0,-6A6,6 0 0,1 6,0Z\" style=\"opacity: 1; stroke-width: 0px; fill: rgb(254, 224, 140); fill-opacity: 1;\"/><path class=\"point\" transform=\"translate(58.95,28.5)\" d=\"M6,0A6,6 0 1,1 0,-6A6,6 0 0,1 6,0Z\" style=\"opacity: 1; stroke-width: 0px; fill: rgb(254, 255, 190); fill-opacity: 1;\"/></g><g class=\"text\"/></g></g></g><g class=\"overplot\"/><path class=\"xlines-above crisp\" d=\"\" style=\"fill: none; stroke-width: 1px; stroke: rgb(0, 0, 0); stroke-opacity: 0;\"/><path class=\"ylines-above crisp\" d=\"\" style=\"fill: none; stroke-width: 1px; stroke: rgb(0, 0, 0); stroke-opacity: 0;\"/><g class=\"overlines-above\"/><g class=\"xaxislayer-above\"><path class=\"xtick ticks crisp\" d=\"M0,521v5\" transform=\"translate(97.14,0)\" style=\"stroke: rgb(51, 51, 51); stroke-opacity: 1; stroke-width: 1px;\"/><path class=\"xtick ticks crisp\" d=\"M0,521v5\" transform=\"translate(224.53,0)\" style=\"stroke: rgb(51, 51, 51); stroke-opacity: 1; stroke-width: 1px;\"/><path class=\"xtick ticks crisp\" d=\"M0,521v5\" transform=\"translate(351.92,0)\" style=\"stroke: rgb(51, 51, 51); stroke-opacity: 1; stroke-width: 1px;\"/><path class=\"xtick ticks crisp\" d=\"M0,521v5\" transform=\"translate(479.32,0)\" style=\"stroke: rgb(51, 51, 51); stroke-opacity: 1; stroke-width: 1px;\"/><path class=\"xtick ticks crisp\" d=\"M0,521v5\" transform=\"translate(606.71,0)\" style=\"stroke: rgb(51, 51, 51); stroke-opacity: 1; stroke-width: 1px;\"/><path class=\"xtick ticks crisp\" d=\"M0,521v5\" transform=\"translate(734.11,0)\" style=\"stroke: rgb(51, 51, 51); stroke-opacity: 1; stroke-width: 1px;\"/><path class=\"xtick ticks crisp\" d=\"M0,521v5\" transform=\"translate(861.5,0)\" style=\"stroke: rgb(51, 51, 51); stroke-opacity: 1; stroke-width: 1px;\"/><g class=\"xtick\"><text text-anchor=\"middle\" x=\"0\" y=\"540.4\" transform=\"translate(97.14,0)\" style=\"font-family: 'Open Sans', verdana, arial, sans-serif; font-size: 12px; fill: rgb(51, 51, 51); fill-opacity: 1; white-space: pre; opacity: 1;\">−0.1</text></g><g class=\"xtick\"><text text-anchor=\"middle\" x=\"0\" y=\"540.4\" style=\"font-family: 'Open Sans', verdana, arial, sans-serif; font-size: 12px; fill: rgb(51, 51, 51); fill-opacity: 1; white-space: pre; opacity: 1;\" transform=\"translate(224.53,0)\">0</text></g><g class=\"xtick\"><text text-anchor=\"middle\" x=\"0\" y=\"540.4\" style=\"font-family: 'Open Sans', verdana, arial, sans-serif; font-size: 12px; fill: rgb(51, 51, 51); fill-opacity: 1; white-space: pre; opacity: 1;\" transform=\"translate(351.92,0)\">0.1</text></g><g class=\"xtick\"><text text-anchor=\"middle\" x=\"0\" y=\"540.4\" style=\"font-family: 'Open Sans', verdana, arial, sans-serif; font-size: 12px; fill: rgb(51, 51, 51); fill-opacity: 1; white-space: pre; opacity: 1;\" transform=\"translate(479.32,0)\">0.2</text></g><g class=\"xtick\"><text text-anchor=\"middle\" x=\"0\" y=\"540.4\" style=\"font-family: 'Open Sans', verdana, arial, sans-serif; font-size: 12px; fill: rgb(51, 51, 51); fill-opacity: 1; white-space: pre; opacity: 1;\" transform=\"translate(606.71,0)\">0.3</text></g><g class=\"xtick\"><text text-anchor=\"middle\" x=\"0\" y=\"540.4\" style=\"font-family: 'Open Sans', verdana, arial, sans-serif; font-size: 12px; fill: rgb(51, 51, 51); fill-opacity: 1; white-space: pre; opacity: 1;\" transform=\"translate(734.11,0)\">0.4</text></g><g class=\"xtick\"><text text-anchor=\"middle\" x=\"0\" y=\"540.4\" style=\"font-family: 'Open Sans', verdana, arial, sans-serif; font-size: 12px; fill: rgb(51, 51, 51); fill-opacity: 1; white-space: pre; opacity: 1;\" transform=\"translate(861.5,0)\">0.5</text></g></g><g class=\"yaxislayer-above\"><path class=\"ytick ticks crisp\" d=\"M79,0h-5\" transform=\"translate(0,498.45)\" style=\"stroke: rgb(51, 51, 51); stroke-opacity: 1; stroke-width: 1px;\"/><path class=\"ytick ticks crisp\" d=\"M79,0h-5\" transform=\"translate(0,445.75)\" style=\"stroke: rgb(51, 51, 51); stroke-opacity: 1; stroke-width: 1px;\"/><path class=\"ytick ticks crisp\" d=\"M79,0h-5\" transform=\"translate(0,393.05)\" style=\"stroke: rgb(51, 51, 51); stroke-opacity: 1; stroke-width: 1px;\"/><path class=\"ytick ticks crisp\" d=\"M79,0h-5\" transform=\"translate(0,340.35)\" style=\"stroke: rgb(51, 51, 51); stroke-opacity: 1; stroke-width: 1px;\"/><path class=\"ytick ticks crisp\" d=\"M79,0h-5\" transform=\"translate(0,287.64)\" style=\"stroke: rgb(51, 51, 51); stroke-opacity: 1; stroke-width: 1px;\"/><path class=\"ytick ticks crisp\" d=\"M79,0h-5\" transform=\"translate(0,234.94)\" style=\"stroke: rgb(51, 51, 51); stroke-opacity: 1; stroke-width: 1px;\"/><path class=\"ytick ticks crisp\" d=\"M79,0h-5\" transform=\"translate(0,182.24)\" style=\"stroke: rgb(51, 51, 51); stroke-opacity: 1; stroke-width: 1px;\"/><path class=\"ytick ticks crisp\" d=\"M79,0h-5\" transform=\"translate(0,129.54)\" style=\"stroke: rgb(51, 51, 51); stroke-opacity: 1; stroke-width: 1px;\"/><g class=\"ytick\"><text text-anchor=\"end\" x=\"71.6\" y=\"4.199999999999999\" transform=\"translate(0,498.45)\" style=\"font-family: 'Open Sans', verdana, arial, sans-serif; font-size: 12px; fill: rgb(51, 51, 51); fill-opacity: 1; white-space: pre; opacity: 1;\">0</text></g><g class=\"ytick\"><text text-anchor=\"end\" x=\"71.6\" y=\"4.199999999999999\" style=\"font-family: 'Open Sans', verdana, arial, sans-serif; font-size: 12px; fill: rgb(51, 51, 51); fill-opacity: 1; white-space: pre; opacity: 1;\" transform=\"translate(0,445.75)\">0.1</text></g><g class=\"ytick\"><text text-anchor=\"end\" x=\"71.6\" y=\"4.199999999999999\" style=\"font-family: 'Open Sans', verdana, arial, sans-serif; font-size: 12px; fill: rgb(51, 51, 51); fill-opacity: 1; white-space: pre; opacity: 1;\" transform=\"translate(0,393.05)\">0.2</text></g><g class=\"ytick\"><text text-anchor=\"end\" x=\"71.6\" y=\"4.199999999999999\" style=\"font-family: 'Open Sans', verdana, arial, sans-serif; font-size: 12px; fill: rgb(51, 51, 51); fill-opacity: 1; white-space: pre; opacity: 1;\" transform=\"translate(0,340.35)\">0.3</text></g><g class=\"ytick\"><text text-anchor=\"end\" x=\"71.6\" y=\"4.199999999999999\" style=\"font-family: 'Open Sans', verdana, arial, sans-serif; font-size: 12px; fill: rgb(51, 51, 51); fill-opacity: 1; white-space: pre; opacity: 1;\" transform=\"translate(0,287.64)\">0.4</text></g><g class=\"ytick\"><text text-anchor=\"end\" x=\"71.6\" y=\"4.199999999999999\" style=\"font-family: 'Open Sans', verdana, arial, sans-serif; font-size: 12px; fill: rgb(51, 51, 51); fill-opacity: 1; white-space: pre; opacity: 1;\" transform=\"translate(0,234.94)\">0.5</text></g><g class=\"ytick\"><text text-anchor=\"end\" x=\"71.6\" y=\"4.199999999999999\" style=\"font-family: 'Open Sans', verdana, arial, sans-serif; font-size: 12px; fill: rgb(51, 51, 51); fill-opacity: 1; white-space: pre; opacity: 1;\" transform=\"translate(0,182.24)\">0.6</text></g><g class=\"ytick\"><text text-anchor=\"end\" x=\"71.6\" y=\"4.199999999999999\" style=\"font-family: 'Open Sans', verdana, arial, sans-serif; font-size: 12px; fill: rgb(51, 51, 51); fill-opacity: 1; white-space: pre; opacity: 1;\" transform=\"translate(0,129.54)\">0.7</text></g></g><g class=\"overaxes-above\"/></g></g><g class=\"polarlayer\"/><g class=\"smithlayer\"/><g class=\"ternarylayer\"/><g class=\"geolayer\"/><g class=\"funnelarealayer\"/><g class=\"pielayer\"/><g class=\"iciclelayer\"/><g class=\"treemaplayer\"/><g class=\"sunburstlayer\"/><g class=\"glimages\"/><defs id=\"topdefs-41f2a8\"><g class=\"clips\"/></defs><g class=\"layer-above\"><g class=\"imagelayer\"/><g class=\"shapelayer\"><g class=\"shape-group\" data-index=\"0\" clip-path=\"url(#clip41f2a8xy)\"><path data-index=\"0\" fill-rule=\"evenodd\" d=\"M224.53,498.45L141.5,128.51\" style=\"opacity: 0.3; stroke: rgb(0, 0, 0); stroke-opacity: 1; fill: rgb(0, 0, 0); fill-opacity: 1; stroke-width: 0.4px;\"/></g><g class=\"shape-group\" data-index=\"1\" clip-path=\"url(#clip41f2a8xy)\"><path data-index=\"1\" fill-rule=\"evenodd\" d=\"M224.53,498.45L838.38,491.5\" style=\"opacity: 0.3; stroke: rgb(0, 0, 0); stroke-opacity: 1; fill: rgb(0, 0, 0); fill-opacity: 1; stroke-width: 0.4px;\"/></g><g class=\"shape-group\" data-index=\"2\" clip-path=\"url(#clip41f2a8xy)\"><path data-index=\"2\" fill-rule=\"evenodd\" d=\"M224.53,498.45L862.5,454.59\" style=\"opacity: 0.3; stroke: rgb(0, 0, 0); stroke-opacity: 1; fill: rgb(0, 0, 0); fill-opacity: 1; stroke-width: 0.4px;\"/></g><g class=\"shape-group\" data-index=\"3\" clip-path=\"url(#clip41f2a8xy)\"><path data-index=\"3\" fill-rule=\"evenodd\" d=\"M224.53,498.45L857.15,453.18\" style=\"opacity: 0.3; stroke: rgb(0, 0, 0); stroke-opacity: 1; fill: rgb(0, 0, 0); fill-opacity: 1; stroke-width: 0.4px;\"/></g><g class=\"shape-group\" data-index=\"4\" clip-path=\"url(#clip41f2a8xy)\"><path data-index=\"4\" fill-rule=\"evenodd\" d=\"M224.53,498.45L138.95,128.5\" style=\"opacity: 0.3; stroke: rgb(0, 0, 0); stroke-opacity: 1; fill: rgb(0, 0, 0); fill-opacity: 1; stroke-width: 0.4px;\"/></g></g></g><g class=\"infolayer\"><g class=\"g-gtitle\"><text class=\"gtitle\" x=\"500\" y=\"50\" text-anchor=\"middle\" dy=\"0em\" style=\"font-family: 'Open Sans', verdana, arial, sans-serif; font-size: 17px; fill: rgb(51, 51, 51); opacity: 1; font-weight: normal; white-space: pre;\">PCA Loadings for minor_minor</text></g><g class=\"g-xtitle\"><text class=\"xtitle\" x=\"500\" y=\"567.20625\" text-anchor=\"middle\" style=\"font-family: 'Open Sans', verdana, arial, sans-serif; font-size: 14px; fill: rgb(51, 51, 51); opacity: 1; font-weight: normal; white-space: pre;\">PC1</text></g><g class=\"g-ytitle\"><text class=\"ytitle\" transform=\"rotate(-90,27.668750000000003,310)\" x=\"27.668750000000003\" y=\"310\" text-anchor=\"middle\" style=\"font-family: 'Open Sans', verdana, arial, sans-serif; font-size: 14px; fill: rgb(51, 51, 51); opacity: 1; font-weight: normal; white-space: pre;\">PC2</text></g><g class=\"annotation\" data-index=\"0\" style=\"opacity: 1;\"><g class=\"annotation-text-g\" transform=\"rotate(0,141.5,118.50999999999999)\"><g class=\"cursor-pointer\" transform=\"translate(80,109)\"><rect class=\"bg\" x=\"0.5\" y=\"0.5\" width=\"122\" height=\"18\" style=\"stroke-width: 1px; stroke: rgb(0, 0, 0); stroke-opacity: 0; fill: rgb(0, 0, 0); fill-opacity: 0;\"/><text class=\"annotation-text\" text-anchor=\"middle\" x=\"61.390625\" y=\"14\" style=\"font-family: 'Open Sans', verdana, arial, sans-serif; font-size: 12px; fill: rgb(51, 51, 51); fill-opacity: 1; white-space: pre;\">Endpoints_modified</text></g></g></g><g class=\"annotation\" data-index=\"1\" style=\"opacity: 1;\"><g class=\"annotation-text-g\" transform=\"rotate(0,838.38,481.5)\"><g class=\"cursor-pointer\" transform=\"translate(784,472)\"><rect class=\"bg\" x=\"0.5\" y=\"0.5\" width=\"107\" height=\"18\" style=\"stroke-width: 1px; stroke: rgb(0, 0, 0); stroke-opacity: 0; fill: rgb(0, 0, 0); fill-opacity: 0;\"/><text class=\"annotation-text\" text-anchor=\"middle\" x=\"53.859375\" y=\"14\" style=\"font-family: 'Open Sans', verdana, arial, sans-serif; font-size: 12px; fill: rgb(51, 51, 51); fill-opacity: 1; white-space: pre;\">Endpoints_added</text></g></g></g><g class=\"annotation\" data-index=\"2\" style=\"opacity: 1;\"><g class=\"annotation-text-g\" transform=\"rotate(0,862.5,444.59)\"><g class=\"cursor-pointer\" transform=\"translate(805,435)\"><rect class=\"bg\" x=\"0.5\" y=\"0.5\" width=\"114\" height=\"18\" style=\"stroke-width: 1px; stroke: rgb(0, 0, 0); stroke-opacity: 0; fill: rgb(0, 0, 0); fill-opacity: 0;\"/><text class=\"annotation-text\" text-anchor=\"middle\" x=\"57.671875\" y=\"14\" style=\"font-family: 'Open Sans', verdana, arial, sans-serif; font-size: 12px; fill: rgb(51, 51, 51); fill-opacity: 1; white-space: pre;\">Endpoints_deleted</text></g></g></g><g class=\"annotation\" data-index=\"3\" style=\"opacity: 1;\"><g class=\"annotation-text-g\" transform=\"rotate(0,857.15,443.18)\"><g class=\"cursor-pointer\" transform=\"translate(813,434)\"><rect class=\"bg\" x=\"0.5\" y=\"0.5\" width=\"88\" height=\"18\" style=\"stroke-width: 1px; stroke: rgb(0, 0, 0); stroke-opacity: 0; fill: rgb(0, 0, 0); fill-opacity: 0;\"/><text class=\"annotation-text\" text-anchor=\"middle\" x=\"44.546875\" y=\"14\" style=\"font-family: 'Open Sans', verdana, arial, sans-serif; font-size: 12px; fill: rgb(51, 51, 51); fill-opacity: 1; white-space: pre;\">Paths_deleted</text></g></g></g><g class=\"annotation\" data-index=\"4\" style=\"opacity: 1;\"><g class=\"annotation-text-g\" transform=\"rotate(0,138.95,118.5)\"><g class=\"cursor-pointer\" transform=\"translate(90,109)\"><rect class=\"bg\" x=\"0.5\" y=\"0.5\" width=\"96\" height=\"18\" style=\"stroke-width: 1px; stroke: rgb(0, 0, 0); stroke-opacity: 0; fill: rgb(0, 0, 0); fill-opacity: 0;\"/><text class=\"annotation-text\" text-anchor=\"middle\" x=\"48.265625\" y=\"14\" style=\"font-family: 'Open Sans', verdana, arial, sans-serif; font-size: 12px; fill: rgb(51, 51, 51); fill-opacity: 1; white-space: pre;\">Paths_modified</text></g></g></g></g></svg>"
     },
     "metadata": {},
     "output_type": "display_data"
    },
    {
     "data": {
      "image/svg+xml": "<svg class=\"main-svg\" xmlns=\"http://www.w3.org/2000/svg\" xmlns:xlink=\"http://www.w3.org/1999/xlink\" width=\"1000\" height=\"600\" style=\"\" viewBox=\"0 0 1000 600\"><rect x=\"0\" y=\"0\" width=\"1000\" height=\"600\" style=\"fill: rgb(255, 255, 255); fill-opacity: 1;\"/><defs id=\"defs-093a5a\"><g class=\"clips\"><clipPath id=\"clip093a5axyplot\" class=\"plotclip\"><rect width=\"840\" height=\"420\"/></clipPath><clipPath class=\"axesclip\" id=\"clip093a5ax\"><rect x=\"80\" y=\"0\" width=\"840\" height=\"600\"/></clipPath><clipPath class=\"axesclip\" id=\"clip093a5ay\"><rect x=\"0\" y=\"100\" width=\"1000\" height=\"420\"/></clipPath><clipPath class=\"axesclip\" id=\"clip093a5axy\"><rect x=\"80\" y=\"100\" width=\"840\" height=\"420\"/></clipPath></g><g class=\"gradients\"/><g class=\"patterns\"/></defs><g class=\"bglayer\"><rect class=\"bg\" x=\"80\" y=\"100\" width=\"840\" height=\"420\" style=\"fill: rgb(237, 237, 237); fill-opacity: 1; stroke-width: 0;\"/></g><g class=\"layer-below\"><g class=\"imagelayer\"/><g class=\"shapelayer\"/></g><g class=\"cartesianlayer\"><g class=\"subplot xy\"><g class=\"layer-subplot\"><g class=\"shapelayer\"/><g class=\"imagelayer\"/></g><g class=\"minor-gridlayer\"><g class=\"x\"/><g class=\"y\"/></g><g class=\"gridlayer\"><g class=\"x\"><path class=\"xgrid crisp\" transform=\"translate(236.52,0)\" d=\"M0,100v420\" style=\"stroke: rgb(255, 255, 255); stroke-opacity: 1; stroke-width: 1px;\"/><path class=\"xgrid crisp\" transform=\"translate(392.84,0)\" d=\"M0,100v420\" style=\"stroke: rgb(255, 255, 255); stroke-opacity: 1; stroke-width: 1px;\"/><path class=\"xgrid crisp\" transform=\"translate(549.15,0)\" d=\"M0,100v420\" style=\"stroke: rgb(255, 255, 255); stroke-opacity: 1; stroke-width: 1px;\"/><path class=\"xgrid crisp\" transform=\"translate(705.47,0)\" d=\"M0,100v420\" style=\"stroke: rgb(255, 255, 255); stroke-opacity: 1; stroke-width: 1px;\"/><path class=\"xgrid crisp\" transform=\"translate(861.79,0)\" d=\"M0,100v420\" style=\"stroke: rgb(255, 255, 255); stroke-opacity: 1; stroke-width: 1px;\"/></g><g class=\"y\"><path class=\"ygrid crisp\" transform=\"translate(0,514)\" d=\"M80,0h840\" style=\"stroke: rgb(255, 255, 255); stroke-opacity: 1; stroke-width: 1px;\"/><path class=\"ygrid crisp\" transform=\"translate(0,418.17)\" d=\"M80,0h840\" style=\"stroke: rgb(255, 255, 255); stroke-opacity: 1; stroke-width: 1px;\"/><path class=\"ygrid crisp\" transform=\"translate(0,370.26)\" d=\"M80,0h840\" style=\"stroke: rgb(255, 255, 255); stroke-opacity: 1; stroke-width: 1px;\"/><path class=\"ygrid crisp\" transform=\"translate(0,322.34000000000003)\" d=\"M80,0h840\" style=\"stroke: rgb(255, 255, 255); stroke-opacity: 1; stroke-width: 1px;\"/><path class=\"ygrid crisp\" transform=\"translate(0,274.43)\" d=\"M80,0h840\" style=\"stroke: rgb(255, 255, 255); stroke-opacity: 1; stroke-width: 1px;\"/><path class=\"ygrid crisp\" transform=\"translate(0,226.51)\" d=\"M80,0h840\" style=\"stroke: rgb(255, 255, 255); stroke-opacity: 1; stroke-width: 1px;\"/><path class=\"ygrid crisp\" transform=\"translate(0,178.6)\" d=\"M80,0h840\" style=\"stroke: rgb(255, 255, 255); stroke-opacity: 1; stroke-width: 1px;\"/><path class=\"ygrid crisp\" transform=\"translate(0,130.68)\" d=\"M80,0h840\" style=\"stroke: rgb(255, 255, 255); stroke-opacity: 1; stroke-width: 1px;\"/></g></g><g class=\"zerolinelayer\"><path class=\"xzl zl crisp\" transform=\"translate(80.2,0)\" d=\"M0,100v420\" style=\"stroke: rgb(255, 255, 255); stroke-opacity: 1; stroke-width: 1px;\"/><path class=\"yzl zl crisp\" transform=\"translate(0,466.09)\" d=\"M80,0h840\" style=\"stroke: rgb(255, 255, 255); stroke-opacity: 1; stroke-width: 1px;\"/></g><path class=\"xlines-below\"/><path class=\"ylines-below\"/><g class=\"overlines-below\"/><g class=\"xaxislayer-below\"/><g class=\"yaxislayer-below\"/><g class=\"overaxes-below\"/><g class=\"plot\" transform=\"translate(80,100)\" clip-path=\"url(#clip093a5axyplot)\"><g class=\"scatterlayer mlayer\"><g class=\"trace scatter trace5fe079\" style=\"stroke-miterlimit: 2; opacity: 1;\"><g class=\"fills\"/><g class=\"errorbars\"/><g class=\"lines\"/><g class=\"points\"><path class=\"point\" transform=\"translate(89.58,28.5)\" d=\"M6,0A6,6 0 1,1 0,-6A6,6 0 0,1 6,0Z\" style=\"opacity: 1; stroke-width: 0px; fill: rgb(254, 228, 146); fill-opacity: 1;\"/><path class=\"point\" transform=\"translate(774.53,378.58)\" d=\"M6,0A6,6 0 1,1 0,-6A6,6 0 0,1 6,0Z\" style=\"opacity: 1; stroke-width: 0px; fill: rgb(235, 247, 159); fill-opacity: 1;\"/><path class=\"point\" transform=\"translate(782.5,391.5)\" d=\"M6,0A6,6 0 1,1 0,-6A6,6 0 0,1 6,0Z\" style=\"opacity: 1; stroke-width: 0px; fill: rgb(229, 245, 152); fill-opacity: 1;\"/><path class=\"point\" transform=\"translate(777.09,381.13)\" d=\"M6,0A6,6 0 1,1 0,-6A6,6 0 0,1 6,0Z\" style=\"opacity: 1; stroke-width: 0px; fill: rgb(254, 205, 123); fill-opacity: 1;\"/><path class=\"point\" transform=\"translate(782.5,391.5)\" d=\"M6,0A6,6 0 1,1 0,-6A6,6 0 0,1 6,0Z\" style=\"opacity: 1; stroke-width: 0px; fill: rgb(237, 99, 70); fill-opacity: 1;\"/><path class=\"point\" transform=\"translate(91.88,28.53)\" d=\"M6,0A6,6 0 1,1 0,-6A6,6 0 0,1 6,0Z\" style=\"opacity: 1; stroke-width: 0px; fill: rgb(254, 231, 151); fill-opacity: 1;\"/></g><g class=\"text\"/></g></g></g><g class=\"overplot\"/><path class=\"xlines-above crisp\" d=\"\" style=\"fill: none; stroke-width: 1px; stroke: rgb(0, 0, 0); stroke-opacity: 0;\"/><path class=\"ylines-above crisp\" d=\"\" style=\"fill: none; stroke-width: 1px; stroke: rgb(0, 0, 0); stroke-opacity: 0;\"/><g class=\"overlines-above\"/><g class=\"xaxislayer-above\"><path class=\"xtick ticks crisp\" d=\"M0,521v5\" transform=\"translate(80.2,0)\" style=\"stroke: rgb(51, 51, 51); stroke-opacity: 1; stroke-width: 1px;\"/><path class=\"xtick ticks crisp\" d=\"M0,521v5\" transform=\"translate(236.52,0)\" style=\"stroke: rgb(51, 51, 51); stroke-opacity: 1; stroke-width: 1px;\"/><path class=\"xtick ticks crisp\" d=\"M0,521v5\" transform=\"translate(392.84,0)\" style=\"stroke: rgb(51, 51, 51); stroke-opacity: 1; stroke-width: 1px;\"/><path class=\"xtick ticks crisp\" d=\"M0,521v5\" transform=\"translate(549.15,0)\" style=\"stroke: rgb(51, 51, 51); stroke-opacity: 1; stroke-width: 1px;\"/><path class=\"xtick ticks crisp\" d=\"M0,521v5\" transform=\"translate(705.47,0)\" style=\"stroke: rgb(51, 51, 51); stroke-opacity: 1; stroke-width: 1px;\"/><path class=\"xtick ticks crisp\" d=\"M0,521v5\" transform=\"translate(861.79,0)\" style=\"stroke: rgb(51, 51, 51); stroke-opacity: 1; stroke-width: 1px;\"/><g class=\"xtick\"><text text-anchor=\"middle\" x=\"0\" y=\"540.4\" transform=\"translate(80.2,0)\" style=\"font-family: 'Open Sans', verdana, arial, sans-serif; font-size: 12px; fill: rgb(51, 51, 51); fill-opacity: 1; white-space: pre; opacity: 1;\">0</text></g><g class=\"xtick\"><text text-anchor=\"middle\" x=\"0\" y=\"540.4\" style=\"font-family: 'Open Sans', verdana, arial, sans-serif; font-size: 12px; fill: rgb(51, 51, 51); fill-opacity: 1; white-space: pre; opacity: 1;\" transform=\"translate(236.52,0)\">0.1</text></g><g class=\"xtick\"><text text-anchor=\"middle\" x=\"0\" y=\"540.4\" style=\"font-family: 'Open Sans', verdana, arial, sans-serif; font-size: 12px; fill: rgb(51, 51, 51); fill-opacity: 1; white-space: pre; opacity: 1;\" transform=\"translate(392.84,0)\">0.2</text></g><g class=\"xtick\"><text text-anchor=\"middle\" x=\"0\" y=\"540.4\" style=\"font-family: 'Open Sans', verdana, arial, sans-serif; font-size: 12px; fill: rgb(51, 51, 51); fill-opacity: 1; white-space: pre; opacity: 1;\" transform=\"translate(549.15,0)\">0.3</text></g><g class=\"xtick\"><text text-anchor=\"middle\" x=\"0\" y=\"540.4\" style=\"font-family: 'Open Sans', verdana, arial, sans-serif; font-size: 12px; fill: rgb(51, 51, 51); fill-opacity: 1; white-space: pre; opacity: 1;\" transform=\"translate(705.47,0)\">0.4</text></g><g class=\"xtick\"><text text-anchor=\"middle\" x=\"0\" y=\"540.4\" style=\"font-family: 'Open Sans', verdana, arial, sans-serif; font-size: 12px; fill: rgb(51, 51, 51); fill-opacity: 1; white-space: pre; opacity: 1;\" transform=\"translate(861.79,0)\">0.5</text></g></g><g class=\"yaxislayer-above\"><path class=\"ytick ticks crisp\" d=\"M79,0h-5\" transform=\"translate(0,514)\" style=\"stroke: rgb(51, 51, 51); stroke-opacity: 1; stroke-width: 1px;\"/><path class=\"ytick ticks crisp\" d=\"M79,0h-5\" transform=\"translate(0,466.09)\" style=\"stroke: rgb(51, 51, 51); stroke-opacity: 1; stroke-width: 1px;\"/><path class=\"ytick ticks crisp\" d=\"M79,0h-5\" transform=\"translate(0,418.17)\" style=\"stroke: rgb(51, 51, 51); stroke-opacity: 1; stroke-width: 1px;\"/><path class=\"ytick ticks crisp\" d=\"M79,0h-5\" transform=\"translate(0,370.26)\" style=\"stroke: rgb(51, 51, 51); stroke-opacity: 1; stroke-width: 1px;\"/><path class=\"ytick ticks crisp\" d=\"M79,0h-5\" transform=\"translate(0,322.34000000000003)\" style=\"stroke: rgb(51, 51, 51); stroke-opacity: 1; stroke-width: 1px;\"/><path class=\"ytick ticks crisp\" d=\"M79,0h-5\" transform=\"translate(0,274.43)\" style=\"stroke: rgb(51, 51, 51); stroke-opacity: 1; stroke-width: 1px;\"/><path class=\"ytick ticks crisp\" d=\"M79,0h-5\" transform=\"translate(0,226.51)\" style=\"stroke: rgb(51, 51, 51); stroke-opacity: 1; stroke-width: 1px;\"/><path class=\"ytick ticks crisp\" d=\"M79,0h-5\" transform=\"translate(0,178.6)\" style=\"stroke: rgb(51, 51, 51); stroke-opacity: 1; stroke-width: 1px;\"/><path class=\"ytick ticks crisp\" d=\"M79,0h-5\" transform=\"translate(0,130.68)\" style=\"stroke: rgb(51, 51, 51); stroke-opacity: 1; stroke-width: 1px;\"/><g class=\"ytick\"><text text-anchor=\"end\" x=\"71.6\" y=\"4.199999999999999\" transform=\"translate(0,514)\" style=\"font-family: 'Open Sans', verdana, arial, sans-serif; font-size: 12px; fill: rgb(51, 51, 51); fill-opacity: 1; white-space: pre; opacity: 1;\">−0.1</text></g><g class=\"ytick\"><text text-anchor=\"end\" x=\"71.6\" y=\"4.199999999999999\" style=\"font-family: 'Open Sans', verdana, arial, sans-serif; font-size: 12px; fill: rgb(51, 51, 51); fill-opacity: 1; white-space: pre; opacity: 1;\" transform=\"translate(0,466.09)\">0</text></g><g class=\"ytick\"><text text-anchor=\"end\" x=\"71.6\" y=\"4.199999999999999\" style=\"font-family: 'Open Sans', verdana, arial, sans-serif; font-size: 12px; fill: rgb(51, 51, 51); fill-opacity: 1; white-space: pre; opacity: 1;\" transform=\"translate(0,418.17)\">0.1</text></g><g class=\"ytick\"><text text-anchor=\"end\" x=\"71.6\" y=\"4.199999999999999\" style=\"font-family: 'Open Sans', verdana, arial, sans-serif; font-size: 12px; fill: rgb(51, 51, 51); fill-opacity: 1; white-space: pre; opacity: 1;\" transform=\"translate(0,370.26)\">0.2</text></g><g class=\"ytick\"><text text-anchor=\"end\" x=\"71.6\" y=\"4.199999999999999\" style=\"font-family: 'Open Sans', verdana, arial, sans-serif; font-size: 12px; fill: rgb(51, 51, 51); fill-opacity: 1; white-space: pre; opacity: 1;\" transform=\"translate(0,322.34000000000003)\">0.3</text></g><g class=\"ytick\"><text text-anchor=\"end\" x=\"71.6\" y=\"4.199999999999999\" style=\"font-family: 'Open Sans', verdana, arial, sans-serif; font-size: 12px; fill: rgb(51, 51, 51); fill-opacity: 1; white-space: pre; opacity: 1;\" transform=\"translate(0,274.43)\">0.4</text></g><g class=\"ytick\"><text text-anchor=\"end\" x=\"71.6\" y=\"4.199999999999999\" style=\"font-family: 'Open Sans', verdana, arial, sans-serif; font-size: 12px; fill: rgb(51, 51, 51); fill-opacity: 1; white-space: pre; opacity: 1;\" transform=\"translate(0,226.51)\">0.5</text></g><g class=\"ytick\"><text text-anchor=\"end\" x=\"71.6\" y=\"4.199999999999999\" style=\"font-family: 'Open Sans', verdana, arial, sans-serif; font-size: 12px; fill: rgb(51, 51, 51); fill-opacity: 1; white-space: pre; opacity: 1;\" transform=\"translate(0,178.6)\">0.6</text></g><g class=\"ytick\"><text text-anchor=\"end\" x=\"71.6\" y=\"4.199999999999999\" style=\"font-family: 'Open Sans', verdana, arial, sans-serif; font-size: 12px; fill: rgb(51, 51, 51); fill-opacity: 1; white-space: pre; opacity: 1;\" transform=\"translate(0,130.68)\">0.7</text></g></g><g class=\"overaxes-above\"/></g></g><g class=\"polarlayer\"/><g class=\"smithlayer\"/><g class=\"ternarylayer\"/><g class=\"geolayer\"/><g class=\"funnelarealayer\"/><g class=\"pielayer\"/><g class=\"iciclelayer\"/><g class=\"treemaplayer\"/><g class=\"sunburstlayer\"/><g class=\"glimages\"/><defs id=\"topdefs-093a5a\"><g class=\"clips\"/></defs><g class=\"layer-above\"><g class=\"imagelayer\"/><g class=\"shapelayer\"><g class=\"shape-group\" data-index=\"0\" clip-path=\"url(#clip093a5axy)\"><path data-index=\"0\" fill-rule=\"evenodd\" d=\"M80.2,466.09L169.57999999999998,128.5\" style=\"opacity: 0.3; stroke: rgb(0, 0, 0); stroke-opacity: 1; fill: rgb(0, 0, 0); fill-opacity: 1; stroke-width: 0.4px;\"/></g><g class=\"shape-group\" data-index=\"1\" clip-path=\"url(#clip093a5axy)\"><path data-index=\"1\" fill-rule=\"evenodd\" d=\"M80.2,466.09L854.53,478.58\" style=\"opacity: 0.3; stroke: rgb(0, 0, 0); stroke-opacity: 1; fill: rgb(0, 0, 0); fill-opacity: 1; stroke-width: 0.4px;\"/></g><g class=\"shape-group\" data-index=\"2\" clip-path=\"url(#clip093a5axy)\"><path data-index=\"2\" fill-rule=\"evenodd\" d=\"M80.2,466.09L862.5,491.5\" style=\"opacity: 0.3; stroke: rgb(0, 0, 0); stroke-opacity: 1; fill: rgb(0, 0, 0); fill-opacity: 1; stroke-width: 0.4px;\"/></g><g class=\"shape-group\" data-index=\"3\" clip-path=\"url(#clip093a5axy)\"><path data-index=\"3\" fill-rule=\"evenodd\" d=\"M80.2,466.09L857.09,481.13\" style=\"opacity: 0.3; stroke: rgb(0, 0, 0); stroke-opacity: 1; fill: rgb(0, 0, 0); fill-opacity: 1; stroke-width: 0.4px;\"/></g><g class=\"shape-group\" data-index=\"4\" clip-path=\"url(#clip093a5axy)\"><path data-index=\"4\" fill-rule=\"evenodd\" d=\"M80.2,466.09L862.5,491.5\" style=\"opacity: 0.3; stroke: rgb(0, 0, 0); stroke-opacity: 1; fill: rgb(0, 0, 0); fill-opacity: 1; stroke-width: 0.4px;\"/></g><g class=\"shape-group\" data-index=\"5\" clip-path=\"url(#clip093a5axy)\"><path data-index=\"5\" fill-rule=\"evenodd\" d=\"M80.2,466.09L171.88,128.53\" style=\"opacity: 0.3; stroke: rgb(0, 0, 0); stroke-opacity: 1; fill: rgb(0, 0, 0); fill-opacity: 1; stroke-width: 0.4px;\"/></g></g></g><g class=\"infolayer\"><g class=\"g-gtitle\"><text class=\"gtitle\" x=\"500\" y=\"50\" text-anchor=\"middle\" dy=\"0em\" style=\"font-family: 'Open Sans', verdana, arial, sans-serif; font-size: 17px; fill: rgb(51, 51, 51); opacity: 1; font-weight: normal; white-space: pre;\">PCA Loadings for minor_major</text></g><g class=\"g-xtitle\"><text class=\"xtitle\" x=\"500\" y=\"567.20625\" text-anchor=\"middle\" style=\"font-family: 'Open Sans', verdana, arial, sans-serif; font-size: 14px; fill: rgb(51, 51, 51); opacity: 1; font-weight: normal; white-space: pre;\">PC1</text></g><g class=\"g-ytitle\"><text class=\"ytitle\" transform=\"rotate(-90,17.856250000000003,310)\" x=\"17.856250000000003\" y=\"310\" text-anchor=\"middle\" style=\"font-family: 'Open Sans', verdana, arial, sans-serif; font-size: 14px; fill: rgb(51, 51, 51); opacity: 1; font-weight: normal; white-space: pre;\">PC2</text></g><g class=\"annotation\" data-index=\"0\" style=\"opacity: 1;\"><g class=\"annotation-text-g\" transform=\"rotate(0,169.57999999999998,118.5)\"><g class=\"cursor-pointer\" transform=\"translate(108,109)\"><rect class=\"bg\" x=\"0.5\" y=\"0.5\" width=\"122\" height=\"18\" style=\"stroke-width: 1px; stroke: rgb(0, 0, 0); stroke-opacity: 0; fill: rgb(0, 0, 0); fill-opacity: 0;\"/><text class=\"annotation-text\" text-anchor=\"middle\" x=\"61.390625\" y=\"14\" style=\"font-family: 'Open Sans', verdana, arial, sans-serif; font-size: 12px; fill: rgb(51, 51, 51); fill-opacity: 1; white-space: pre;\">Endpoints_modified</text></g></g></g><g class=\"annotation\" data-index=\"1\" style=\"opacity: 1;\"><g class=\"annotation-text-g\" transform=\"rotate(0,854.53,468.58)\"><g class=\"cursor-pointer\" transform=\"translate(801,459)\"><rect class=\"bg\" x=\"0.5\" y=\"0.5\" width=\"107\" height=\"18\" style=\"stroke-width: 1px; stroke: rgb(0, 0, 0); stroke-opacity: 0; fill: rgb(0, 0, 0); fill-opacity: 0;\"/><text class=\"annotation-text\" text-anchor=\"middle\" x=\"53.859375\" y=\"14\" style=\"font-family: 'Open Sans', verdana, arial, sans-serif; font-size: 12px; fill: rgb(51, 51, 51); fill-opacity: 1; white-space: pre;\">Endpoints_added</text></g></g></g><g class=\"annotation\" data-index=\"2\" style=\"opacity: 1;\"><g class=\"annotation-text-g\" transform=\"rotate(0,862.5,481.5)\"><g class=\"cursor-pointer\" transform=\"translate(805,472)\"><rect class=\"bg\" x=\"0.5\" y=\"0.5\" width=\"114\" height=\"18\" style=\"stroke-width: 1px; stroke: rgb(0, 0, 0); stroke-opacity: 0; fill: rgb(0, 0, 0); fill-opacity: 0;\"/><text class=\"annotation-text\" text-anchor=\"middle\" x=\"57.671875\" y=\"14\" style=\"font-family: 'Open Sans', verdana, arial, sans-serif; font-size: 12px; fill: rgb(51, 51, 51); fill-opacity: 1; white-space: pre;\">Endpoints_deleted</text></g></g></g><g class=\"annotation\" data-index=\"3\" style=\"opacity: 1;\"><g class=\"annotation-text-g\" transform=\"rotate(0,857.09,471.13)\"><g class=\"cursor-pointer\" transform=\"translate(817,462)\"><rect class=\"bg\" x=\"0.5\" y=\"0.5\" width=\"80\" height=\"18\" style=\"stroke-width: 1px; stroke: rgb(0, 0, 0); stroke-opacity: 0; fill: rgb(0, 0, 0); fill-opacity: 0;\"/><text class=\"annotation-text\" text-anchor=\"middle\" x=\"40.71875\" y=\"14\" style=\"font-family: 'Open Sans', verdana, arial, sans-serif; font-size: 12px; fill: rgb(51, 51, 51); fill-opacity: 1; white-space: pre;\">Paths_added</text></g></g></g><g class=\"annotation\" data-index=\"4\" style=\"opacity: 1;\"><g class=\"annotation-text-g\" transform=\"rotate(0,862.5,481.5)\"><g class=\"cursor-pointer\" transform=\"translate(818,472)\"><rect class=\"bg\" x=\"0.5\" y=\"0.5\" width=\"88\" height=\"18\" style=\"stroke-width: 1px; stroke: rgb(0, 0, 0); stroke-opacity: 0; fill: rgb(0, 0, 0); fill-opacity: 0;\"/><text class=\"annotation-text\" text-anchor=\"middle\" x=\"44.546875\" y=\"14\" style=\"font-family: 'Open Sans', verdana, arial, sans-serif; font-size: 12px; fill: rgb(51, 51, 51); fill-opacity: 1; white-space: pre;\">Paths_deleted</text></g></g></g><g class=\"annotation\" data-index=\"5\" style=\"opacity: 1;\"><g class=\"annotation-text-g\" transform=\"rotate(0,171.88,118.53)\"><g class=\"cursor-pointer\" transform=\"translate(123,109)\"><rect class=\"bg\" x=\"0.5\" y=\"0.5\" width=\"96\" height=\"18\" style=\"stroke-width: 1px; stroke: rgb(0, 0, 0); stroke-opacity: 0; fill: rgb(0, 0, 0); fill-opacity: 0;\"/><text class=\"annotation-text\" text-anchor=\"middle\" x=\"48.265625\" y=\"14\" style=\"font-family: 'Open Sans', verdana, arial, sans-serif; font-size: 12px; fill: rgb(51, 51, 51); fill-opacity: 1; white-space: pre;\">Paths_modified</text></g></g></g></g></svg>"
     },
     "metadata": {},
     "output_type": "display_data"
    },
    {
     "data": {
      "image/svg+xml": "<svg class=\"main-svg\" xmlns=\"http://www.w3.org/2000/svg\" xmlns:xlink=\"http://www.w3.org/1999/xlink\" width=\"1000\" height=\"600\" style=\"\" viewBox=\"0 0 1000 600\"><rect x=\"0\" y=\"0\" width=\"1000\" height=\"600\" style=\"fill: rgb(255, 255, 255); fill-opacity: 1;\"/><defs id=\"defs-55af83\"><g class=\"clips\"><clipPath id=\"clip55af83xyplot\" class=\"plotclip\"><rect width=\"840\" height=\"420\"/></clipPath><clipPath class=\"axesclip\" id=\"clip55af83x\"><rect x=\"80\" y=\"0\" width=\"840\" height=\"600\"/></clipPath><clipPath class=\"axesclip\" id=\"clip55af83y\"><rect x=\"0\" y=\"100\" width=\"1000\" height=\"420\"/></clipPath><clipPath class=\"axesclip\" id=\"clip55af83xy\"><rect x=\"80\" y=\"100\" width=\"840\" height=\"420\"/></clipPath></g><g class=\"gradients\"/><g class=\"patterns\"/></defs><g class=\"bglayer\"><rect class=\"bg\" x=\"80\" y=\"100\" width=\"840\" height=\"420\" style=\"fill: rgb(237, 237, 237); fill-opacity: 1; stroke-width: 0;\"/></g><g class=\"layer-below\"><g class=\"imagelayer\"/><g class=\"shapelayer\"/></g><g class=\"cartesianlayer\"><g class=\"subplot xy\"><g class=\"layer-subplot\"><g class=\"shapelayer\"/><g class=\"imagelayer\"/></g><g class=\"minor-gridlayer\"><g class=\"x\"/><g class=\"y\"/></g><g class=\"gridlayer\"><g class=\"x\"><path class=\"xgrid crisp\" transform=\"translate(340.87,0)\" d=\"M0,100v420\" style=\"stroke: rgb(255, 255, 255); stroke-opacity: 1; stroke-width: 1px;\"/><path class=\"xgrid crisp\" transform=\"translate(471.69,0)\" d=\"M0,100v420\" style=\"stroke: rgb(255, 255, 255); stroke-opacity: 1; stroke-width: 1px;\"/><path class=\"xgrid crisp\" transform=\"translate(602.52,0)\" d=\"M0,100v420\" style=\"stroke: rgb(255, 255, 255); stroke-opacity: 1; stroke-width: 1px;\"/><path class=\"xgrid crisp\" transform=\"translate(733.35,0)\" d=\"M0,100v420\" style=\"stroke: rgb(255, 255, 255); stroke-opacity: 1; stroke-width: 1px;\"/><path class=\"xgrid crisp\" transform=\"translate(864.18,0)\" d=\"M0,100v420\" style=\"stroke: rgb(255, 255, 255); stroke-opacity: 1; stroke-width: 1px;\"/></g><g class=\"y\"><path class=\"ygrid crisp\" transform=\"translate(0,456.68)\" d=\"M80,0h840\" style=\"stroke: rgb(255, 255, 255); stroke-opacity: 1; stroke-width: 1px;\"/><path class=\"ygrid crisp\" transform=\"translate(0,402.49)\" d=\"M80,0h840\" style=\"stroke: rgb(255, 255, 255); stroke-opacity: 1; stroke-width: 1px;\"/><path class=\"ygrid crisp\" transform=\"translate(0,348.28999999999996)\" d=\"M80,0h840\" style=\"stroke: rgb(255, 255, 255); stroke-opacity: 1; stroke-width: 1px;\"/><path class=\"ygrid crisp\" transform=\"translate(0,294.09000000000003)\" d=\"M80,0h840\" style=\"stroke: rgb(255, 255, 255); stroke-opacity: 1; stroke-width: 1px;\"/><path class=\"ygrid crisp\" transform=\"translate(0,239.9)\" d=\"M80,0h840\" style=\"stroke: rgb(255, 255, 255); stroke-opacity: 1; stroke-width: 1px;\"/><path class=\"ygrid crisp\" transform=\"translate(0,185.7)\" d=\"M80,0h840\" style=\"stroke: rgb(255, 255, 255); stroke-opacity: 1; stroke-width: 1px;\"/><path class=\"ygrid crisp\" transform=\"translate(0,131.5)\" d=\"M80,0h840\" style=\"stroke: rgb(255, 255, 255); stroke-opacity: 1; stroke-width: 1px;\"/></g></g><g class=\"zerolinelayer\"><path class=\"xzl zl crisp\" transform=\"translate(210.04,0)\" d=\"M0,100v420\" style=\"stroke: rgb(255, 255, 255); stroke-opacity: 1; stroke-width: 1px;\"/><path class=\"yzl zl crisp\" transform=\"translate(0,510.88)\" d=\"M80,0h840\" style=\"stroke: rgb(255, 255, 255); stroke-opacity: 1; stroke-width: 1px;\"/></g><path class=\"xlines-below\"/><path class=\"ylines-below\"/><g class=\"overlines-below\"/><g class=\"xaxislayer-below\"/><g class=\"yaxislayer-below\"/><g class=\"overaxes-below\"/><g class=\"plot\" transform=\"translate(80,100)\" clip-path=\"url(#clip55af83xyplot)\"><g class=\"scatterlayer mlayer\"><g class=\"trace scatter tracec8fecc\" style=\"stroke-miterlimit: 2; opacity: 1;\"><g class=\"fills\"/><g class=\"errorbars\"/><g class=\"lines\"/><g class=\"points\"><path class=\"point\" transform=\"translate(61.5,28.77)\" d=\"M6,0A6,6 0 1,1 0,-6A6,6 0 0,1 6,0Z\" style=\"opacity: 1; stroke-width: 0px; fill: rgb(231, 245, 153); fill-opacity: 1;\"/><path class=\"point\" transform=\"translate(782.49,391.42)\" d=\"M6,0A6,6 0 1,1 0,-6A6,6 0 0,1 6,0Z\" style=\"opacity: 1; stroke-width: 0px; fill: rgb(202, 234, 158); fill-opacity: 1;\"/><path class=\"point\" transform=\"translate(782.5,391.5)\" d=\"M6,0A6,6 0 1,1 0,-6A6,6 0 0,1 6,0Z\" style=\"opacity: 1; stroke-width: 0px; fill: rgb(255, 250, 182); fill-opacity: 1;\"/><path class=\"point\" transform=\"translate(782.49,391.42)\" d=\"M6,0A6,6 0 1,1 0,-6A6,6 0 0,1 6,0Z\" style=\"opacity: 1; stroke-width: 0px; fill: rgb(255, 253, 187); fill-opacity: 1;\"/><path class=\"point\" transform=\"translate(782.5,391.5)\" d=\"M6,0A6,6 0 1,1 0,-6A6,6 0 0,1 6,0Z\" style=\"opacity: 1; stroke-width: 0px; fill: rgb(197, 232, 159); fill-opacity: 1;\"/><path class=\"point\" transform=\"translate(65.97,28.5)\" d=\"M6,0A6,6 0 1,1 0,-6A6,6 0 0,1 6,0Z\" style=\"opacity: 1; stroke-width: 0px; fill: rgb(254, 229, 147); fill-opacity: 1;\"/></g><g class=\"text\"/></g></g></g><g class=\"overplot\"/><path class=\"xlines-above crisp\" d=\"\" style=\"fill: none; stroke-width: 1px; stroke: rgb(0, 0, 0); stroke-opacity: 0;\"/><path class=\"ylines-above crisp\" d=\"\" style=\"fill: none; stroke-width: 1px; stroke: rgb(0, 0, 0); stroke-opacity: 0;\"/><g class=\"overlines-above\"/><g class=\"xaxislayer-above\"><path class=\"xtick ticks crisp\" d=\"M0,521v5\" transform=\"translate(210.04,0)\" style=\"stroke: rgb(51, 51, 51); stroke-opacity: 1; stroke-width: 1px;\"/><path class=\"xtick ticks crisp\" d=\"M0,521v5\" transform=\"translate(340.87,0)\" style=\"stroke: rgb(51, 51, 51); stroke-opacity: 1; stroke-width: 1px;\"/><path class=\"xtick ticks crisp\" d=\"M0,521v5\" transform=\"translate(471.69,0)\" style=\"stroke: rgb(51, 51, 51); stroke-opacity: 1; stroke-width: 1px;\"/><path class=\"xtick ticks crisp\" d=\"M0,521v5\" transform=\"translate(602.52,0)\" style=\"stroke: rgb(51, 51, 51); stroke-opacity: 1; stroke-width: 1px;\"/><path class=\"xtick ticks crisp\" d=\"M0,521v5\" transform=\"translate(733.35,0)\" style=\"stroke: rgb(51, 51, 51); stroke-opacity: 1; stroke-width: 1px;\"/><path class=\"xtick ticks crisp\" d=\"M0,521v5\" transform=\"translate(864.18,0)\" style=\"stroke: rgb(51, 51, 51); stroke-opacity: 1; stroke-width: 1px;\"/><g class=\"xtick\"><text text-anchor=\"middle\" x=\"0\" y=\"540.4\" transform=\"translate(210.04,0)\" style=\"font-family: 'Open Sans', verdana, arial, sans-serif; font-size: 12px; fill: rgb(51, 51, 51); fill-opacity: 1; white-space: pre; opacity: 1;\">0</text></g><g class=\"xtick\"><text text-anchor=\"middle\" x=\"0\" y=\"540.4\" style=\"font-family: 'Open Sans', verdana, arial, sans-serif; font-size: 12px; fill: rgb(51, 51, 51); fill-opacity: 1; white-space: pre; opacity: 1;\" transform=\"translate(340.87,0)\">0.1</text></g><g class=\"xtick\"><text text-anchor=\"middle\" x=\"0\" y=\"540.4\" style=\"font-family: 'Open Sans', verdana, arial, sans-serif; font-size: 12px; fill: rgb(51, 51, 51); fill-opacity: 1; white-space: pre; opacity: 1;\" transform=\"translate(471.69,0)\">0.2</text></g><g class=\"xtick\"><text text-anchor=\"middle\" x=\"0\" y=\"540.4\" style=\"font-family: 'Open Sans', verdana, arial, sans-serif; font-size: 12px; fill: rgb(51, 51, 51); fill-opacity: 1; white-space: pre; opacity: 1;\" transform=\"translate(602.52,0)\">0.3</text></g><g class=\"xtick\"><text text-anchor=\"middle\" x=\"0\" y=\"540.4\" style=\"font-family: 'Open Sans', verdana, arial, sans-serif; font-size: 12px; fill: rgb(51, 51, 51); fill-opacity: 1; white-space: pre; opacity: 1;\" transform=\"translate(733.35,0)\">0.4</text></g><g class=\"xtick\"><text text-anchor=\"middle\" x=\"0\" y=\"540.4\" style=\"font-family: 'Open Sans', verdana, arial, sans-serif; font-size: 12px; fill: rgb(51, 51, 51); fill-opacity: 1; white-space: pre; opacity: 1;\" transform=\"translate(864.18,0)\">0.5</text></g></g><g class=\"yaxislayer-above\"><path class=\"ytick ticks crisp\" d=\"M79,0h-5\" transform=\"translate(0,510.88)\" style=\"stroke: rgb(51, 51, 51); stroke-opacity: 1; stroke-width: 1px;\"/><path class=\"ytick ticks crisp\" d=\"M79,0h-5\" transform=\"translate(0,456.68)\" style=\"stroke: rgb(51, 51, 51); stroke-opacity: 1; stroke-width: 1px;\"/><path class=\"ytick ticks crisp\" d=\"M79,0h-5\" transform=\"translate(0,402.49)\" style=\"stroke: rgb(51, 51, 51); stroke-opacity: 1; stroke-width: 1px;\"/><path class=\"ytick ticks crisp\" d=\"M79,0h-5\" transform=\"translate(0,348.28999999999996)\" style=\"stroke: rgb(51, 51, 51); stroke-opacity: 1; stroke-width: 1px;\"/><path class=\"ytick ticks crisp\" d=\"M79,0h-5\" transform=\"translate(0,294.09000000000003)\" style=\"stroke: rgb(51, 51, 51); stroke-opacity: 1; stroke-width: 1px;\"/><path class=\"ytick ticks crisp\" d=\"M79,0h-5\" transform=\"translate(0,239.9)\" style=\"stroke: rgb(51, 51, 51); stroke-opacity: 1; stroke-width: 1px;\"/><path class=\"ytick ticks crisp\" d=\"M79,0h-5\" transform=\"translate(0,185.7)\" style=\"stroke: rgb(51, 51, 51); stroke-opacity: 1; stroke-width: 1px;\"/><path class=\"ytick ticks crisp\" d=\"M79,0h-5\" transform=\"translate(0,131.5)\" style=\"stroke: rgb(51, 51, 51); stroke-opacity: 1; stroke-width: 1px;\"/><g class=\"ytick\"><text text-anchor=\"end\" x=\"71.6\" y=\"4.199999999999999\" transform=\"translate(0,510.88)\" style=\"font-family: 'Open Sans', verdana, arial, sans-serif; font-size: 12px; fill: rgb(51, 51, 51); fill-opacity: 1; white-space: pre; opacity: 1;\">0</text></g><g class=\"ytick\"><text text-anchor=\"end\" x=\"71.6\" y=\"4.199999999999999\" style=\"font-family: 'Open Sans', verdana, arial, sans-serif; font-size: 12px; fill: rgb(51, 51, 51); fill-opacity: 1; white-space: pre; opacity: 1;\" transform=\"translate(0,456.68)\">0.1</text></g><g class=\"ytick\"><text text-anchor=\"end\" x=\"71.6\" y=\"4.199999999999999\" style=\"font-family: 'Open Sans', verdana, arial, sans-serif; font-size: 12px; fill: rgb(51, 51, 51); fill-opacity: 1; white-space: pre; opacity: 1;\" transform=\"translate(0,402.49)\">0.2</text></g><g class=\"ytick\"><text text-anchor=\"end\" x=\"71.6\" y=\"4.199999999999999\" style=\"font-family: 'Open Sans', verdana, arial, sans-serif; font-size: 12px; fill: rgb(51, 51, 51); fill-opacity: 1; white-space: pre; opacity: 1;\" transform=\"translate(0,348.28999999999996)\">0.3</text></g><g class=\"ytick\"><text text-anchor=\"end\" x=\"71.6\" y=\"4.199999999999999\" style=\"font-family: 'Open Sans', verdana, arial, sans-serif; font-size: 12px; fill: rgb(51, 51, 51); fill-opacity: 1; white-space: pre; opacity: 1;\" transform=\"translate(0,294.09000000000003)\">0.4</text></g><g class=\"ytick\"><text text-anchor=\"end\" x=\"71.6\" y=\"4.199999999999999\" style=\"font-family: 'Open Sans', verdana, arial, sans-serif; font-size: 12px; fill: rgb(51, 51, 51); fill-opacity: 1; white-space: pre; opacity: 1;\" transform=\"translate(0,239.9)\">0.5</text></g><g class=\"ytick\"><text text-anchor=\"end\" x=\"71.6\" y=\"4.199999999999999\" style=\"font-family: 'Open Sans', verdana, arial, sans-serif; font-size: 12px; fill: rgb(51, 51, 51); fill-opacity: 1; white-space: pre; opacity: 1;\" transform=\"translate(0,185.7)\">0.6</text></g><g class=\"ytick\"><text text-anchor=\"end\" x=\"71.6\" y=\"4.199999999999999\" style=\"font-family: 'Open Sans', verdana, arial, sans-serif; font-size: 12px; fill: rgb(51, 51, 51); fill-opacity: 1; white-space: pre; opacity: 1;\" transform=\"translate(0,131.5)\">0.7</text></g></g><g class=\"overaxes-above\"/></g></g><g class=\"polarlayer\"/><g class=\"smithlayer\"/><g class=\"ternarylayer\"/><g class=\"geolayer\"/><g class=\"funnelarealayer\"/><g class=\"pielayer\"/><g class=\"iciclelayer\"/><g class=\"treemaplayer\"/><g class=\"sunburstlayer\"/><g class=\"glimages\"/><defs id=\"topdefs-55af83\"><g class=\"clips\"/></defs><g class=\"layer-above\"><g class=\"imagelayer\"/><g class=\"shapelayer\"><g class=\"shape-group\" data-index=\"0\" clip-path=\"url(#clip55af83xy)\"><path data-index=\"0\" fill-rule=\"evenodd\" d=\"M210.04,510.88L141.5,128.77\" style=\"opacity: 0.3; stroke: rgb(0, 0, 0); stroke-opacity: 1; fill: rgb(0, 0, 0); fill-opacity: 1; stroke-width: 0.4px;\"/></g><g class=\"shape-group\" data-index=\"1\" clip-path=\"url(#clip55af83xy)\"><path data-index=\"1\" fill-rule=\"evenodd\" d=\"M210.04,510.88L862.49,491.42\" style=\"opacity: 0.3; stroke: rgb(0, 0, 0); stroke-opacity: 1; fill: rgb(0, 0, 0); fill-opacity: 1; stroke-width: 0.4px;\"/></g><g class=\"shape-group\" data-index=\"2\" clip-path=\"url(#clip55af83xy)\"><path data-index=\"2\" fill-rule=\"evenodd\" d=\"M210.04,510.88L862.5,491.5\" style=\"opacity: 0.3; stroke: rgb(0, 0, 0); stroke-opacity: 1; fill: rgb(0, 0, 0); fill-opacity: 1; stroke-width: 0.4px;\"/></g><g class=\"shape-group\" data-index=\"3\" clip-path=\"url(#clip55af83xy)\"><path data-index=\"3\" fill-rule=\"evenodd\" d=\"M210.04,510.88L862.49,491.42\" style=\"opacity: 0.3; stroke: rgb(0, 0, 0); stroke-opacity: 1; fill: rgb(0, 0, 0); fill-opacity: 1; stroke-width: 0.4px;\"/></g><g class=\"shape-group\" data-index=\"4\" clip-path=\"url(#clip55af83xy)\"><path data-index=\"4\" fill-rule=\"evenodd\" d=\"M210.04,510.88L862.5,491.5\" style=\"opacity: 0.3; stroke: rgb(0, 0, 0); stroke-opacity: 1; fill: rgb(0, 0, 0); fill-opacity: 1; stroke-width: 0.4px;\"/></g><g class=\"shape-group\" data-index=\"5\" clip-path=\"url(#clip55af83xy)\"><path data-index=\"5\" fill-rule=\"evenodd\" d=\"M210.04,510.88L145.97,128.5\" style=\"opacity: 0.3; stroke: rgb(0, 0, 0); stroke-opacity: 1; fill: rgb(0, 0, 0); fill-opacity: 1; stroke-width: 0.4px;\"/></g></g></g><g class=\"infolayer\"><g class=\"g-gtitle\"><text class=\"gtitle\" x=\"500\" y=\"50\" text-anchor=\"middle\" dy=\"0em\" style=\"font-family: 'Open Sans', verdana, arial, sans-serif; font-size: 17px; fill: rgb(51, 51, 51); opacity: 1; font-weight: normal; white-space: pre;\">PCA Loadings for patch_patch</text></g><g class=\"g-xtitle\"><text class=\"xtitle\" x=\"500\" y=\"567.20625\" text-anchor=\"middle\" style=\"font-family: 'Open Sans', verdana, arial, sans-serif; font-size: 14px; fill: rgb(51, 51, 51); opacity: 1; font-weight: normal; white-space: pre;\">PC1</text></g><g class=\"g-ytitle\"><text class=\"ytitle\" transform=\"rotate(-90,27.668750000000003,310)\" x=\"27.668750000000003\" y=\"310\" text-anchor=\"middle\" style=\"font-family: 'Open Sans', verdana, arial, sans-serif; font-size: 14px; fill: rgb(51, 51, 51); opacity: 1; font-weight: normal; white-space: pre;\">PC2</text></g><g class=\"annotation\" data-index=\"0\" style=\"opacity: 1;\"><g class=\"annotation-text-g\" transform=\"rotate(0,141.5,118.77000000000001)\"><g class=\"cursor-pointer\" transform=\"translate(80,109)\"><rect class=\"bg\" x=\"0.5\" y=\"0.5\" width=\"122\" height=\"18\" style=\"stroke-width: 1px; stroke: rgb(0, 0, 0); stroke-opacity: 0; fill: rgb(0, 0, 0); fill-opacity: 0;\"/><text class=\"annotation-text\" text-anchor=\"middle\" x=\"61.390625\" y=\"14\" style=\"font-family: 'Open Sans', verdana, arial, sans-serif; font-size: 12px; fill: rgb(51, 51, 51); fill-opacity: 1; white-space: pre;\">Endpoints_modified</text></g></g></g><g class=\"annotation\" data-index=\"1\" style=\"opacity: 1;\"><g class=\"annotation-text-g\" transform=\"rotate(0,862.49,481.42)\"><g class=\"cursor-pointer\" transform=\"translate(808,472)\"><rect class=\"bg\" x=\"0.5\" y=\"0.5\" width=\"107\" height=\"18\" style=\"stroke-width: 1px; stroke: rgb(0, 0, 0); stroke-opacity: 0; fill: rgb(0, 0, 0); fill-opacity: 0;\"/><text class=\"annotation-text\" text-anchor=\"middle\" x=\"53.859375\" y=\"14\" style=\"font-family: 'Open Sans', verdana, arial, sans-serif; font-size: 12px; fill: rgb(51, 51, 51); fill-opacity: 1; white-space: pre;\">Endpoints_added</text></g></g></g><g class=\"annotation\" data-index=\"2\" style=\"opacity: 1;\"><g class=\"annotation-text-g\" transform=\"rotate(0,862.5,481.5)\"><g class=\"cursor-pointer\" transform=\"translate(805,472)\"><rect class=\"bg\" x=\"0.5\" y=\"0.5\" width=\"114\" height=\"18\" style=\"stroke-width: 1px; stroke: rgb(0, 0, 0); stroke-opacity: 0; fill: rgb(0, 0, 0); fill-opacity: 0;\"/><text class=\"annotation-text\" text-anchor=\"middle\" x=\"57.671875\" y=\"14\" style=\"font-family: 'Open Sans', verdana, arial, sans-serif; font-size: 12px; fill: rgb(51, 51, 51); fill-opacity: 1; white-space: pre;\">Endpoints_deleted</text></g></g></g><g class=\"annotation\" data-index=\"3\" style=\"opacity: 1;\"><g class=\"annotation-text-g\" transform=\"rotate(0,862.49,481.42)\"><g class=\"cursor-pointer\" transform=\"translate(822,472)\"><rect class=\"bg\" x=\"0.5\" y=\"0.5\" width=\"80\" height=\"18\" style=\"stroke-width: 1px; stroke: rgb(0, 0, 0); stroke-opacity: 0; fill: rgb(0, 0, 0); fill-opacity: 0;\"/><text class=\"annotation-text\" text-anchor=\"middle\" x=\"40.71875\" y=\"14\" style=\"font-family: 'Open Sans', verdana, arial, sans-serif; font-size: 12px; fill: rgb(51, 51, 51); fill-opacity: 1; white-space: pre;\">Paths_added</text></g></g></g><g class=\"annotation\" data-index=\"4\" style=\"opacity: 1;\"><g class=\"annotation-text-g\" transform=\"rotate(0,862.5,481.5)\"><g class=\"cursor-pointer\" transform=\"translate(818,472)\"><rect class=\"bg\" x=\"0.5\" y=\"0.5\" width=\"88\" height=\"18\" style=\"stroke-width: 1px; stroke: rgb(0, 0, 0); stroke-opacity: 0; fill: rgb(0, 0, 0); fill-opacity: 0;\"/><text class=\"annotation-text\" text-anchor=\"middle\" x=\"44.546875\" y=\"14\" style=\"font-family: 'Open Sans', verdana, arial, sans-serif; font-size: 12px; fill: rgb(51, 51, 51); fill-opacity: 1; white-space: pre;\">Paths_deleted</text></g></g></g><g class=\"annotation\" data-index=\"5\" style=\"opacity: 1;\"><g class=\"annotation-text-g\" transform=\"rotate(0,145.97,118.5)\"><g class=\"cursor-pointer\" transform=\"translate(97,109)\"><rect class=\"bg\" x=\"0.5\" y=\"0.5\" width=\"96\" height=\"18\" style=\"stroke-width: 1px; stroke: rgb(0, 0, 0); stroke-opacity: 0; fill: rgb(0, 0, 0); fill-opacity: 0;\"/><text class=\"annotation-text\" text-anchor=\"middle\" x=\"48.265625\" y=\"14\" style=\"font-family: 'Open Sans', verdana, arial, sans-serif; font-size: 12px; fill: rgb(51, 51, 51); fill-opacity: 1; white-space: pre;\">Paths_modified</text></g></g></g></g></svg>"
     },
     "metadata": {},
     "output_type": "display_data"
    },
    {
     "data": {
      "image/svg+xml": "<svg class=\"main-svg\" xmlns=\"http://www.w3.org/2000/svg\" xmlns:xlink=\"http://www.w3.org/1999/xlink\" width=\"1000\" height=\"600\" style=\"\" viewBox=\"0 0 1000 600\"><rect x=\"0\" y=\"0\" width=\"1000\" height=\"600\" style=\"fill: rgb(255, 255, 255); fill-opacity: 1;\"/><defs id=\"defs-fd0aec\"><g class=\"clips\"><clipPath id=\"clipfd0aecxyplot\" class=\"plotclip\"><rect width=\"840\" height=\"420\"/></clipPath><clipPath class=\"axesclip\" id=\"clipfd0aecx\"><rect x=\"80\" y=\"0\" width=\"840\" height=\"600\"/></clipPath><clipPath class=\"axesclip\" id=\"clipfd0aecy\"><rect x=\"0\" y=\"100\" width=\"1000\" height=\"420\"/></clipPath><clipPath class=\"axesclip\" id=\"clipfd0aecxy\"><rect x=\"80\" y=\"100\" width=\"840\" height=\"420\"/></clipPath></g><g class=\"gradients\"/><g class=\"patterns\"/></defs><g class=\"bglayer\"><rect class=\"bg\" x=\"80\" y=\"100\" width=\"840\" height=\"420\" style=\"fill: rgb(237, 237, 237); fill-opacity: 1; stroke-width: 0;\"/></g><g class=\"layer-below\"><g class=\"imagelayer\"/><g class=\"shapelayer\"/></g><g class=\"cartesianlayer\"><g class=\"subplot xy\"><g class=\"layer-subplot\"><g class=\"shapelayer\"/><g class=\"imagelayer\"/></g><g class=\"minor-gridlayer\"><g class=\"x\"/><g class=\"y\"/></g><g class=\"gridlayer\"><g class=\"x\"><path class=\"xgrid crisp\" transform=\"translate(233.61,0)\" d=\"M0,100v420\" style=\"stroke: rgb(255, 255, 255); stroke-opacity: 1; stroke-width: 1px;\"/><path class=\"xgrid crisp\" transform=\"translate(387.03,0)\" d=\"M0,100v420\" style=\"stroke: rgb(255, 255, 255); stroke-opacity: 1; stroke-width: 1px;\"/><path class=\"xgrid crisp\" transform=\"translate(540.44,0)\" d=\"M0,100v420\" style=\"stroke: rgb(255, 255, 255); stroke-opacity: 1; stroke-width: 1px;\"/><path class=\"xgrid crisp\" transform=\"translate(693.85,0)\" d=\"M0,100v420\" style=\"stroke: rgb(255, 255, 255); stroke-opacity: 1; stroke-width: 1px;\"/><path class=\"xgrid crisp\" transform=\"translate(847.27,0)\" d=\"M0,100v420\" style=\"stroke: rgb(255, 255, 255); stroke-opacity: 1; stroke-width: 1px;\"/></g><g class=\"y\"><path class=\"ygrid crisp\" transform=\"translate(0,468.38)\" d=\"M80,0h840\" style=\"stroke: rgb(255, 255, 255); stroke-opacity: 1; stroke-width: 1px;\"/><path class=\"ygrid crisp\" transform=\"translate(0,309.78)\" d=\"M80,0h840\" style=\"stroke: rgb(255, 255, 255); stroke-opacity: 1; stroke-width: 1px;\"/><path class=\"ygrid crisp\" transform=\"translate(0,230.47)\" d=\"M80,0h840\" style=\"stroke: rgb(255, 255, 255); stroke-opacity: 1; stroke-width: 1px;\"/><path class=\"ygrid crisp\" transform=\"translate(0,151.17000000000002)\" d=\"M80,0h840\" style=\"stroke: rgb(255, 255, 255); stroke-opacity: 1; stroke-width: 1px;\"/></g></g><g class=\"zerolinelayer\"><path class=\"xzl zl crisp\" transform=\"translate(80.2,0)\" d=\"M0,100v420\" style=\"stroke: rgb(255, 255, 255); stroke-opacity: 1; stroke-width: 1px;\"/><path class=\"yzl zl crisp\" transform=\"translate(0,389.08)\" d=\"M80,0h840\" style=\"stroke: rgb(255, 255, 255); stroke-opacity: 1; stroke-width: 1px;\"/></g><path class=\"xlines-below\"/><path class=\"ylines-below\"/><g class=\"overlines-below\"/><g class=\"xaxislayer-below\"/><g class=\"yaxislayer-below\"/><g class=\"overaxes-below\"/><g class=\"plot\" transform=\"translate(80,100)\" clip-path=\"url(#clipfd0aecxyplot)\"><g class=\"scatterlayer mlayer\"><g class=\"trace scatter trace227860\" style=\"stroke-miterlimit: 2; opacity: 1;\"><g class=\"fills\"/><g class=\"errorbars\"/><g class=\"lines\"/><g class=\"points\"><path class=\"point\" transform=\"translate(196.52,30.15)\" d=\"M6,0A6,6 0 1,1 0,-6A6,6 0 0,1 6,0Z\" style=\"opacity: 1; stroke-width: 0px; fill: rgb(85, 175, 173); fill-opacity: 1;\"/><path class=\"point\" transform=\"translate(786,260.97)\" d=\"M6,0A6,6 0 1,1 0,-6A6,6 0 0,1 6,0Z\" style=\"opacity: 1; stroke-width: 0px; fill: rgb(254, 206, 124); fill-opacity: 1;\"/><path class=\"point\" transform=\"translate(739.59,387.85)\" d=\"M6,0A6,6 0 1,1 0,-6A6,6 0 0,1 6,0Z\" style=\"opacity: 1; stroke-width: 0px; fill: rgb(254, 228, 146); fill-opacity: 1;\"/><path class=\"point\" transform=\"translate(767.68,253.88)\" d=\"M6,0A6,6 0 1,1 0,-6A6,6 0 0,1 6,0Z\" style=\"opacity: 1; stroke-width: 0px; fill: rgb(252, 254, 186); fill-opacity: 1;\"/><path class=\"point\" transform=\"translate(727.19,391.5)\" d=\"M6,0A6,6 0 1,1 0,-6A6,6 0 0,1 6,0Z\" style=\"opacity: 1; stroke-width: 0px; fill: rgb(246, 125, 74); fill-opacity: 1;\"/><path class=\"point\" transform=\"translate(182.72,28.5)\" d=\"M6,0A6,6 0 1,1 0,-6A6,6 0 0,1 6,0Z\" style=\"opacity: 1; stroke-width: 0px; fill: rgb(254, 205, 123); fill-opacity: 1;\"/></g><g class=\"text\"/></g></g></g><g class=\"overplot\"/><path class=\"xlines-above crisp\" d=\"\" style=\"fill: none; stroke-width: 1px; stroke: rgb(0, 0, 0); stroke-opacity: 0;\"/><path class=\"ylines-above crisp\" d=\"\" style=\"fill: none; stroke-width: 1px; stroke: rgb(0, 0, 0); stroke-opacity: 0;\"/><g class=\"overlines-above\"/><g class=\"xaxislayer-above\"><path class=\"xtick ticks crisp\" d=\"M0,521v5\" transform=\"translate(80.2,0)\" style=\"stroke: rgb(51, 51, 51); stroke-opacity: 1; stroke-width: 1px;\"/><path class=\"xtick ticks crisp\" d=\"M0,521v5\" transform=\"translate(233.61,0)\" style=\"stroke: rgb(51, 51, 51); stroke-opacity: 1; stroke-width: 1px;\"/><path class=\"xtick ticks crisp\" d=\"M0,521v5\" transform=\"translate(387.03,0)\" style=\"stroke: rgb(51, 51, 51); stroke-opacity: 1; stroke-width: 1px;\"/><path class=\"xtick ticks crisp\" d=\"M0,521v5\" transform=\"translate(540.44,0)\" style=\"stroke: rgb(51, 51, 51); stroke-opacity: 1; stroke-width: 1px;\"/><path class=\"xtick ticks crisp\" d=\"M0,521v5\" transform=\"translate(693.85,0)\" style=\"stroke: rgb(51, 51, 51); stroke-opacity: 1; stroke-width: 1px;\"/><path class=\"xtick ticks crisp\" d=\"M0,521v5\" transform=\"translate(847.27,0)\" style=\"stroke: rgb(51, 51, 51); stroke-opacity: 1; stroke-width: 1px;\"/><g class=\"xtick\"><text text-anchor=\"middle\" x=\"0\" y=\"540.4\" transform=\"translate(80.2,0)\" style=\"font-family: 'Open Sans', verdana, arial, sans-serif; font-size: 12px; fill: rgb(51, 51, 51); fill-opacity: 1; white-space: pre; opacity: 1;\">0</text></g><g class=\"xtick\"><text text-anchor=\"middle\" x=\"0\" y=\"540.4\" style=\"font-family: 'Open Sans', verdana, arial, sans-serif; font-size: 12px; fill: rgb(51, 51, 51); fill-opacity: 1; white-space: pre; opacity: 1;\" transform=\"translate(233.61,0)\">0.1</text></g><g class=\"xtick\"><text text-anchor=\"middle\" x=\"0\" y=\"540.4\" style=\"font-family: 'Open Sans', verdana, arial, sans-serif; font-size: 12px; fill: rgb(51, 51, 51); fill-opacity: 1; white-space: pre; opacity: 1;\" transform=\"translate(387.03,0)\">0.2</text></g><g class=\"xtick\"><text text-anchor=\"middle\" x=\"0\" y=\"540.4\" style=\"font-family: 'Open Sans', verdana, arial, sans-serif; font-size: 12px; fill: rgb(51, 51, 51); fill-opacity: 1; white-space: pre; opacity: 1;\" transform=\"translate(540.44,0)\">0.3</text></g><g class=\"xtick\"><text text-anchor=\"middle\" x=\"0\" y=\"540.4\" style=\"font-family: 'Open Sans', verdana, arial, sans-serif; font-size: 12px; fill: rgb(51, 51, 51); fill-opacity: 1; white-space: pre; opacity: 1;\" transform=\"translate(693.85,0)\">0.4</text></g><g class=\"xtick\"><text text-anchor=\"middle\" x=\"0\" y=\"540.4\" style=\"font-family: 'Open Sans', verdana, arial, sans-serif; font-size: 12px; fill: rgb(51, 51, 51); fill-opacity: 1; white-space: pre; opacity: 1;\" transform=\"translate(847.27,0)\">0.5</text></g></g><g class=\"yaxislayer-above\"><path class=\"ytick ticks crisp\" d=\"M79,0h-5\" transform=\"translate(0,468.38)\" style=\"stroke: rgb(51, 51, 51); stroke-opacity: 1; stroke-width: 1px;\"/><path class=\"ytick ticks crisp\" d=\"M79,0h-5\" transform=\"translate(0,389.08)\" style=\"stroke: rgb(51, 51, 51); stroke-opacity: 1; stroke-width: 1px;\"/><path class=\"ytick ticks crisp\" d=\"M79,0h-5\" transform=\"translate(0,309.78)\" style=\"stroke: rgb(51, 51, 51); stroke-opacity: 1; stroke-width: 1px;\"/><path class=\"ytick ticks crisp\" d=\"M79,0h-5\" transform=\"translate(0,230.47)\" style=\"stroke: rgb(51, 51, 51); stroke-opacity: 1; stroke-width: 1px;\"/><path class=\"ytick ticks crisp\" d=\"M79,0h-5\" transform=\"translate(0,151.17000000000002)\" style=\"stroke: rgb(51, 51, 51); stroke-opacity: 1; stroke-width: 1px;\"/><g class=\"ytick\"><text text-anchor=\"end\" x=\"71.6\" y=\"4.199999999999999\" transform=\"translate(0,468.38)\" style=\"font-family: 'Open Sans', verdana, arial, sans-serif; font-size: 12px; fill: rgb(51, 51, 51); fill-opacity: 1; white-space: pre; opacity: 1;\">−0.2</text></g><g class=\"ytick\"><text text-anchor=\"end\" x=\"71.6\" y=\"4.199999999999999\" style=\"font-family: 'Open Sans', verdana, arial, sans-serif; font-size: 12px; fill: rgb(51, 51, 51); fill-opacity: 1; white-space: pre; opacity: 1;\" transform=\"translate(0,389.08)\">0</text></g><g class=\"ytick\"><text text-anchor=\"end\" x=\"71.6\" y=\"4.199999999999999\" style=\"font-family: 'Open Sans', verdana, arial, sans-serif; font-size: 12px; fill: rgb(51, 51, 51); fill-opacity: 1; white-space: pre; opacity: 1;\" transform=\"translate(0,309.78)\">0.2</text></g><g class=\"ytick\"><text text-anchor=\"end\" x=\"71.6\" y=\"4.199999999999999\" style=\"font-family: 'Open Sans', verdana, arial, sans-serif; font-size: 12px; fill: rgb(51, 51, 51); fill-opacity: 1; white-space: pre; opacity: 1;\" transform=\"translate(0,230.47)\">0.4</text></g><g class=\"ytick\"><text text-anchor=\"end\" x=\"71.6\" y=\"4.199999999999999\" style=\"font-family: 'Open Sans', verdana, arial, sans-serif; font-size: 12px; fill: rgb(51, 51, 51); fill-opacity: 1; white-space: pre; opacity: 1;\" transform=\"translate(0,151.17000000000002)\">0.6</text></g></g><g class=\"overaxes-above\"/></g></g><g class=\"polarlayer\"/><g class=\"smithlayer\"/><g class=\"ternarylayer\"/><g class=\"geolayer\"/><g class=\"funnelarealayer\"/><g class=\"pielayer\"/><g class=\"iciclelayer\"/><g class=\"treemaplayer\"/><g class=\"sunburstlayer\"/><g class=\"glimages\"/><defs id=\"topdefs-fd0aec\"><g class=\"clips\"/></defs><g class=\"layer-above\"><g class=\"imagelayer\"/><g class=\"shapelayer\"><g class=\"shape-group\" data-index=\"0\" clip-path=\"url(#clipfd0aecxy)\"><path data-index=\"0\" fill-rule=\"evenodd\" d=\"M80.2,389.08L276.52,130.15\" style=\"opacity: 0.3; stroke: rgb(0, 0, 0); stroke-opacity: 1; fill: rgb(0, 0, 0); fill-opacity: 1; stroke-width: 0.4px;\"/></g><g class=\"shape-group\" data-index=\"1\" clip-path=\"url(#clipfd0aecxy)\"><path data-index=\"1\" fill-rule=\"evenodd\" d=\"M80.2,389.08L866,360.97\" style=\"opacity: 0.3; stroke: rgb(0, 0, 0); stroke-opacity: 1; fill: rgb(0, 0, 0); fill-opacity: 1; stroke-width: 0.4px;\"/></g><g class=\"shape-group\" data-index=\"2\" clip-path=\"url(#clipfd0aecxy)\"><path data-index=\"2\" fill-rule=\"evenodd\" d=\"M80.2,389.08L819.59,487.85\" style=\"opacity: 0.3; stroke: rgb(0, 0, 0); stroke-opacity: 1; fill: rgb(0, 0, 0); fill-opacity: 1; stroke-width: 0.4px;\"/></g><g class=\"shape-group\" data-index=\"3\" clip-path=\"url(#clipfd0aecxy)\"><path data-index=\"3\" fill-rule=\"evenodd\" d=\"M80.2,389.08L847.68,353.88\" style=\"opacity: 0.3; stroke: rgb(0, 0, 0); stroke-opacity: 1; fill: rgb(0, 0, 0); fill-opacity: 1; stroke-width: 0.4px;\"/></g><g class=\"shape-group\" data-index=\"4\" clip-path=\"url(#clipfd0aecxy)\"><path data-index=\"4\" fill-rule=\"evenodd\" d=\"M80.2,389.08L807.19,491.5\" style=\"opacity: 0.3; stroke: rgb(0, 0, 0); stroke-opacity: 1; fill: rgb(0, 0, 0); fill-opacity: 1; stroke-width: 0.4px;\"/></g><g class=\"shape-group\" data-index=\"5\" clip-path=\"url(#clipfd0aecxy)\"><path data-index=\"5\" fill-rule=\"evenodd\" d=\"M80.2,389.08L262.72,128.5\" style=\"opacity: 0.3; stroke: rgb(0, 0, 0); stroke-opacity: 1; fill: rgb(0, 0, 0); fill-opacity: 1; stroke-width: 0.4px;\"/></g></g></g><g class=\"infolayer\"><g class=\"g-gtitle\"><text class=\"gtitle\" x=\"500\" y=\"50\" text-anchor=\"middle\" dy=\"0em\" style=\"font-family: 'Open Sans', verdana, arial, sans-serif; font-size: 17px; fill: rgb(51, 51, 51); opacity: 1; font-weight: normal; white-space: pre;\">PCA Loadings for patch_minor</text></g><g class=\"g-xtitle\"><text class=\"xtitle\" x=\"500\" y=\"567.20625\" text-anchor=\"middle\" style=\"font-family: 'Open Sans', verdana, arial, sans-serif; font-size: 14px; fill: rgb(51, 51, 51); opacity: 1; font-weight: normal; white-space: pre;\">PC1</text></g><g class=\"g-ytitle\"><text class=\"ytitle\" transform=\"rotate(-90,17.856250000000003,310)\" x=\"17.856250000000003\" y=\"310\" text-anchor=\"middle\" style=\"font-family: 'Open Sans', verdana, arial, sans-serif; font-size: 14px; fill: rgb(51, 51, 51); opacity: 1; font-weight: normal; white-space: pre;\">PC2</text></g><g class=\"annotation\" data-index=\"0\" style=\"opacity: 1;\"><g class=\"annotation-text-g\" transform=\"rotate(0,276.52,120.15)\"><g class=\"cursor-pointer\" transform=\"translate(215,111)\"><rect class=\"bg\" x=\"0.5\" y=\"0.5\" width=\"122\" height=\"18\" style=\"stroke-width: 1px; stroke: rgb(0, 0, 0); stroke-opacity: 0; fill: rgb(0, 0, 0); fill-opacity: 0;\"/><text class=\"annotation-text\" text-anchor=\"middle\" x=\"61.390625\" y=\"14\" style=\"font-family: 'Open Sans', verdana, arial, sans-serif; font-size: 12px; fill: rgb(51, 51, 51); fill-opacity: 1; white-space: pre;\">Endpoints_modified</text></g></g></g><g class=\"annotation\" data-index=\"1\" style=\"opacity: 1;\"><g class=\"annotation-text-g\" transform=\"rotate(0,866,350.97)\"><g class=\"cursor-pointer\" transform=\"translate(812,341)\"><rect class=\"bg\" x=\"0.5\" y=\"0.5\" width=\"107\" height=\"18\" style=\"stroke-width: 1px; stroke: rgb(0, 0, 0); stroke-opacity: 0; fill: rgb(0, 0, 0); fill-opacity: 0;\"/><text class=\"annotation-text\" text-anchor=\"middle\" x=\"53.859375\" y=\"14\" style=\"font-family: 'Open Sans', verdana, arial, sans-serif; font-size: 12px; fill: rgb(51, 51, 51); fill-opacity: 1; white-space: pre;\">Endpoints_added</text></g></g></g><g class=\"annotation\" data-index=\"2\" style=\"opacity: 1;\"><g class=\"annotation-text-g\" transform=\"rotate(0,819.59,477.85)\"><g class=\"cursor-pointer\" transform=\"translate(762,468)\"><rect class=\"bg\" x=\"0.5\" y=\"0.5\" width=\"114\" height=\"18\" style=\"stroke-width: 1px; stroke: rgb(0, 0, 0); stroke-opacity: 0; fill: rgb(0, 0, 0); fill-opacity: 0;\"/><text class=\"annotation-text\" text-anchor=\"middle\" x=\"57.671875\" y=\"14\" style=\"font-family: 'Open Sans', verdana, arial, sans-serif; font-size: 12px; fill: rgb(51, 51, 51); fill-opacity: 1; white-space: pre;\">Endpoints_deleted</text></g></g></g><g class=\"annotation\" data-index=\"3\" style=\"opacity: 1;\"><g class=\"annotation-text-g\" transform=\"rotate(0,847.68,343.88)\"><g class=\"cursor-pointer\" transform=\"translate(807,334)\"><rect class=\"bg\" x=\"0.5\" y=\"0.5\" width=\"80\" height=\"18\" style=\"stroke-width: 1px; stroke: rgb(0, 0, 0); stroke-opacity: 0; fill: rgb(0, 0, 0); fill-opacity: 0;\"/><text class=\"annotation-text\" text-anchor=\"middle\" x=\"40.71875\" y=\"14\" style=\"font-family: 'Open Sans', verdana, arial, sans-serif; font-size: 12px; fill: rgb(51, 51, 51); fill-opacity: 1; white-space: pre;\">Paths_added</text></g></g></g><g class=\"annotation\" data-index=\"4\" style=\"opacity: 1;\"><g class=\"annotation-text-g\" transform=\"rotate(0,807.19,481.5)\"><g class=\"cursor-pointer\" transform=\"translate(763,472)\"><rect class=\"bg\" x=\"0.5\" y=\"0.5\" width=\"88\" height=\"18\" style=\"stroke-width: 1px; stroke: rgb(0, 0, 0); stroke-opacity: 0; fill: rgb(0, 0, 0); fill-opacity: 0;\"/><text class=\"annotation-text\" text-anchor=\"middle\" x=\"44.546875\" y=\"14\" style=\"font-family: 'Open Sans', verdana, arial, sans-serif; font-size: 12px; fill: rgb(51, 51, 51); fill-opacity: 1; white-space: pre;\">Paths_deleted</text></g></g></g><g class=\"annotation\" data-index=\"5\" style=\"opacity: 1;\"><g class=\"annotation-text-g\" transform=\"rotate(0,262.72,118.5)\"><g class=\"cursor-pointer\" transform=\"translate(214,109)\"><rect class=\"bg\" x=\"0.5\" y=\"0.5\" width=\"96\" height=\"18\" style=\"stroke-width: 1px; stroke: rgb(0, 0, 0); stroke-opacity: 0; fill: rgb(0, 0, 0); fill-opacity: 0;\"/><text class=\"annotation-text\" text-anchor=\"middle\" x=\"48.265625\" y=\"14\" style=\"font-family: 'Open Sans', verdana, arial, sans-serif; font-size: 12px; fill: rgb(51, 51, 51); fill-opacity: 1; white-space: pre;\">Paths_modified</text></g></g></g></g></svg>"
     },
     "metadata": {},
     "output_type": "display_data"
    },
    {
     "data": {
      "image/svg+xml": "<svg class=\"main-svg\" xmlns=\"http://www.w3.org/2000/svg\" xmlns:xlink=\"http://www.w3.org/1999/xlink\" width=\"1000\" height=\"600\" style=\"\" viewBox=\"0 0 1000 600\"><rect x=\"0\" y=\"0\" width=\"1000\" height=\"600\" style=\"fill: rgb(255, 255, 255); fill-opacity: 1;\"/><defs id=\"defs-58c5d1\"><g class=\"clips\"><clipPath id=\"clip58c5d1xyplot\" class=\"plotclip\"><rect width=\"840\" height=\"420\"/></clipPath><clipPath class=\"axesclip\" id=\"clip58c5d1x\"><rect x=\"80\" y=\"0\" width=\"840\" height=\"600\"/></clipPath><clipPath class=\"axesclip\" id=\"clip58c5d1y\"><rect x=\"0\" y=\"100\" width=\"1000\" height=\"420\"/></clipPath><clipPath class=\"axesclip\" id=\"clip58c5d1xy\"><rect x=\"80\" y=\"100\" width=\"840\" height=\"420\"/></clipPath></g><g class=\"gradients\"/><g class=\"patterns\"/></defs><g class=\"bglayer\"><rect class=\"bg\" x=\"80\" y=\"100\" width=\"840\" height=\"420\" style=\"fill: rgb(237, 237, 237); fill-opacity: 1; stroke-width: 0;\"/></g><g class=\"layer-below\"><g class=\"imagelayer\"/><g class=\"shapelayer\"/></g><g class=\"cartesianlayer\"><g class=\"subplot xy\"><g class=\"layer-subplot\"><g class=\"shapelayer\"/><g class=\"imagelayer\"/></g><g class=\"minor-gridlayer\"><g class=\"x\"/><g class=\"y\"/></g><g class=\"gridlayer\"><g class=\"x\"><path class=\"xgrid crisp\" transform=\"translate(135.86,0)\" d=\"M0,100v420\" style=\"stroke: rgb(255, 255, 255); stroke-opacity: 1; stroke-width: 1px;\"/><path class=\"xgrid crisp\" transform=\"translate(375.28,0)\" d=\"M0,100v420\" style=\"stroke: rgb(255, 255, 255); stroke-opacity: 1; stroke-width: 1px;\"/><path class=\"xgrid crisp\" transform=\"translate(494.99,0)\" d=\"M0,100v420\" style=\"stroke: rgb(255, 255, 255); stroke-opacity: 1; stroke-width: 1px;\"/><path class=\"xgrid crisp\" transform=\"translate(614.7,0)\" d=\"M0,100v420\" style=\"stroke: rgb(255, 255, 255); stroke-opacity: 1; stroke-width: 1px;\"/><path class=\"xgrid crisp\" transform=\"translate(734.41,0)\" d=\"M0,100v420\" style=\"stroke: rgb(255, 255, 255); stroke-opacity: 1; stroke-width: 1px;\"/><path class=\"xgrid crisp\" transform=\"translate(854.12,0)\" d=\"M0,100v420\" style=\"stroke: rgb(255, 255, 255); stroke-opacity: 1; stroke-width: 1px;\"/></g><g class=\"y\"><path class=\"ygrid crisp\" transform=\"translate(0,459.5)\" d=\"M80,0h840\" style=\"stroke: rgb(255, 255, 255); stroke-opacity: 1; stroke-width: 1px;\"/><path class=\"ygrid crisp\" transform=\"translate(0,404.46)\" d=\"M80,0h840\" style=\"stroke: rgb(255, 255, 255); stroke-opacity: 1; stroke-width: 1px;\"/><path class=\"ygrid crisp\" transform=\"translate(0,349.40999999999997)\" d=\"M80,0h840\" style=\"stroke: rgb(255, 255, 255); stroke-opacity: 1; stroke-width: 1px;\"/><path class=\"ygrid crisp\" transform=\"translate(0,294.37)\" d=\"M80,0h840\" style=\"stroke: rgb(255, 255, 255); stroke-opacity: 1; stroke-width: 1px;\"/><path class=\"ygrid crisp\" transform=\"translate(0,239.32)\" d=\"M80,0h840\" style=\"stroke: rgb(255, 255, 255); stroke-opacity: 1; stroke-width: 1px;\"/><path class=\"ygrid crisp\" transform=\"translate(0,184.28)\" d=\"M80,0h840\" style=\"stroke: rgb(255, 255, 255); stroke-opacity: 1; stroke-width: 1px;\"/><path class=\"ygrid crisp\" transform=\"translate(0,129.23)\" d=\"M80,0h840\" style=\"stroke: rgb(255, 255, 255); stroke-opacity: 1; stroke-width: 1px;\"/></g></g><g class=\"zerolinelayer\"><path class=\"xzl zl crisp\" transform=\"translate(255.57,0)\" d=\"M0,100v420\" style=\"stroke: rgb(255, 255, 255); stroke-opacity: 1; stroke-width: 1px;\"/><path class=\"yzl zl crisp\" transform=\"translate(0,514.55)\" d=\"M80,0h840\" style=\"stroke: rgb(255, 255, 255); stroke-opacity: 1; stroke-width: 1px;\"/></g><path class=\"xlines-below\"/><path class=\"ylines-below\"/><g class=\"overlines-below\"/><g class=\"xaxislayer-below\"/><g class=\"yaxislayer-below\"/><g class=\"overaxes-below\"/><g class=\"plot\" transform=\"translate(80,100)\" clip-path=\"url(#clip58c5d1xyplot)\"><g class=\"scatterlayer mlayer\"><g class=\"trace scatter tracea93145\" style=\"stroke-miterlimit: 2; opacity: 1;\"><g class=\"fills\"/><g class=\"errorbars\"/><g class=\"lines\"/><g class=\"points\"><path class=\"point\" transform=\"translate(61.5,29.13)\" d=\"M6,0A6,6 0 1,1 0,-6A6,6 0 0,1 6,0Z\" style=\"opacity: 1; stroke-width: 0px; fill: rgb(255, 248, 179); fill-opacity: 1;\"/><path class=\"point\" transform=\"translate(755.27,387.05)\" d=\"M6,0A6,6 0 1,1 0,-6A6,6 0 0,1 6,0Z\" style=\"opacity: 1; stroke-width: 0px; fill: rgb(243, 250, 173); fill-opacity: 1;\"/><path class=\"point\" transform=\"translate(782.5,369.11)\" d=\"M6,0A6,6 0 1,1 0,-6A6,6 0 0,1 6,0Z\" style=\"opacity: 1; stroke-width: 0px; fill: rgb(245, 251, 175); fill-opacity: 1;\"/><path class=\"point\" transform=\"translate(755.46,391.5)\" d=\"M6,0A6,6 0 1,1 0,-6A6,6 0 0,1 6,0Z\" style=\"opacity: 1; stroke-width: 0px; fill: rgb(244, 251, 174); fill-opacity: 1;\"/><path class=\"point\" transform=\"translate(782.5,369.11)\" d=\"M6,0A6,6 0 1,1 0,-6A6,6 0 0,1 6,0Z\" style=\"opacity: 1; stroke-width: 0px; fill: rgb(255, 255, 191); fill-opacity: 1;\"/><path class=\"point\" transform=\"translate(70.68,28.5)\" d=\"M6,0A6,6 0 1,1 0,-6A6,6 0 0,1 6,0Z\" style=\"opacity: 1; stroke-width: 0px; fill: rgb(237, 248, 163); fill-opacity: 1;\"/></g><g class=\"text\"/></g></g></g><g class=\"overplot\"/><path class=\"xlines-above crisp\" d=\"\" style=\"fill: none; stroke-width: 1px; stroke: rgb(0, 0, 0); stroke-opacity: 0;\"/><path class=\"ylines-above crisp\" d=\"\" style=\"fill: none; stroke-width: 1px; stroke: rgb(0, 0, 0); stroke-opacity: 0;\"/><g class=\"overlines-above\"/><g class=\"xaxislayer-above\"><path class=\"xtick ticks crisp\" d=\"M0,521v5\" transform=\"translate(135.86,0)\" style=\"stroke: rgb(51, 51, 51); stroke-opacity: 1; stroke-width: 1px;\"/><path class=\"xtick ticks crisp\" d=\"M0,521v5\" transform=\"translate(255.57,0)\" style=\"stroke: rgb(51, 51, 51); stroke-opacity: 1; stroke-width: 1px;\"/><path class=\"xtick ticks crisp\" d=\"M0,521v5\" transform=\"translate(375.28,0)\" style=\"stroke: rgb(51, 51, 51); stroke-opacity: 1; stroke-width: 1px;\"/><path class=\"xtick ticks crisp\" d=\"M0,521v5\" transform=\"translate(494.99,0)\" style=\"stroke: rgb(51, 51, 51); stroke-opacity: 1; stroke-width: 1px;\"/><path class=\"xtick ticks crisp\" d=\"M0,521v5\" transform=\"translate(614.7,0)\" style=\"stroke: rgb(51, 51, 51); stroke-opacity: 1; stroke-width: 1px;\"/><path class=\"xtick ticks crisp\" d=\"M0,521v5\" transform=\"translate(734.41,0)\" style=\"stroke: rgb(51, 51, 51); stroke-opacity: 1; stroke-width: 1px;\"/><path class=\"xtick ticks crisp\" d=\"M0,521v5\" transform=\"translate(854.12,0)\" style=\"stroke: rgb(51, 51, 51); stroke-opacity: 1; stroke-width: 1px;\"/><g class=\"xtick\"><text text-anchor=\"middle\" x=\"0\" y=\"540.4\" transform=\"translate(135.86,0)\" style=\"font-family: 'Open Sans', verdana, arial, sans-serif; font-size: 12px; fill: rgb(51, 51, 51); fill-opacity: 1; white-space: pre; opacity: 1;\">−0.1</text></g><g class=\"xtick\"><text text-anchor=\"middle\" x=\"0\" y=\"540.4\" style=\"font-family: 'Open Sans', verdana, arial, sans-serif; font-size: 12px; fill: rgb(51, 51, 51); fill-opacity: 1; white-space: pre; opacity: 1;\" transform=\"translate(255.57,0)\">0</text></g><g class=\"xtick\"><text text-anchor=\"middle\" x=\"0\" y=\"540.4\" style=\"font-family: 'Open Sans', verdana, arial, sans-serif; font-size: 12px; fill: rgb(51, 51, 51); fill-opacity: 1; white-space: pre; opacity: 1;\" transform=\"translate(375.28,0)\">0.1</text></g><g class=\"xtick\"><text text-anchor=\"middle\" x=\"0\" y=\"540.4\" style=\"font-family: 'Open Sans', verdana, arial, sans-serif; font-size: 12px; fill: rgb(51, 51, 51); fill-opacity: 1; white-space: pre; opacity: 1;\" transform=\"translate(494.99,0)\">0.2</text></g><g class=\"xtick\"><text text-anchor=\"middle\" x=\"0\" y=\"540.4\" style=\"font-family: 'Open Sans', verdana, arial, sans-serif; font-size: 12px; fill: rgb(51, 51, 51); fill-opacity: 1; white-space: pre; opacity: 1;\" transform=\"translate(614.7,0)\">0.3</text></g><g class=\"xtick\"><text text-anchor=\"middle\" x=\"0\" y=\"540.4\" style=\"font-family: 'Open Sans', verdana, arial, sans-serif; font-size: 12px; fill: rgb(51, 51, 51); fill-opacity: 1; white-space: pre; opacity: 1;\" transform=\"translate(734.41,0)\">0.4</text></g><g class=\"xtick\"><text text-anchor=\"middle\" x=\"0\" y=\"540.4\" style=\"font-family: 'Open Sans', verdana, arial, sans-serif; font-size: 12px; fill: rgb(51, 51, 51); fill-opacity: 1; white-space: pre; opacity: 1;\" transform=\"translate(854.12,0)\">0.5</text></g></g><g class=\"yaxislayer-above\"><path class=\"ytick ticks crisp\" d=\"M79,0h-5\" transform=\"translate(0,514.55)\" style=\"stroke: rgb(51, 51, 51); stroke-opacity: 1; stroke-width: 1px;\"/><path class=\"ytick ticks crisp\" d=\"M79,0h-5\" transform=\"translate(0,459.5)\" style=\"stroke: rgb(51, 51, 51); stroke-opacity: 1; stroke-width: 1px;\"/><path class=\"ytick ticks crisp\" d=\"M79,0h-5\" transform=\"translate(0,404.46)\" style=\"stroke: rgb(51, 51, 51); stroke-opacity: 1; stroke-width: 1px;\"/><path class=\"ytick ticks crisp\" d=\"M79,0h-5\" transform=\"translate(0,349.40999999999997)\" style=\"stroke: rgb(51, 51, 51); stroke-opacity: 1; stroke-width: 1px;\"/><path class=\"ytick ticks crisp\" d=\"M79,0h-5\" transform=\"translate(0,294.37)\" style=\"stroke: rgb(51, 51, 51); stroke-opacity: 1; stroke-width: 1px;\"/><path class=\"ytick ticks crisp\" d=\"M79,0h-5\" transform=\"translate(0,239.32)\" style=\"stroke: rgb(51, 51, 51); stroke-opacity: 1; stroke-width: 1px;\"/><path class=\"ytick ticks crisp\" d=\"M79,0h-5\" transform=\"translate(0,184.28)\" style=\"stroke: rgb(51, 51, 51); stroke-opacity: 1; stroke-width: 1px;\"/><path class=\"ytick ticks crisp\" d=\"M79,0h-5\" transform=\"translate(0,129.23)\" style=\"stroke: rgb(51, 51, 51); stroke-opacity: 1; stroke-width: 1px;\"/><g class=\"ytick\"><text text-anchor=\"end\" x=\"71.6\" y=\"4.199999999999999\" transform=\"translate(0,514.55)\" style=\"font-family: 'Open Sans', verdana, arial, sans-serif; font-size: 12px; fill: rgb(51, 51, 51); fill-opacity: 1; white-space: pre; opacity: 1;\">0</text></g><g class=\"ytick\"><text text-anchor=\"end\" x=\"71.6\" y=\"4.199999999999999\" style=\"font-family: 'Open Sans', verdana, arial, sans-serif; font-size: 12px; fill: rgb(51, 51, 51); fill-opacity: 1; white-space: pre; opacity: 1;\" transform=\"translate(0,459.5)\">0.1</text></g><g class=\"ytick\"><text text-anchor=\"end\" x=\"71.6\" y=\"4.199999999999999\" style=\"font-family: 'Open Sans', verdana, arial, sans-serif; font-size: 12px; fill: rgb(51, 51, 51); fill-opacity: 1; white-space: pre; opacity: 1;\" transform=\"translate(0,404.46)\">0.2</text></g><g class=\"ytick\"><text text-anchor=\"end\" x=\"71.6\" y=\"4.199999999999999\" style=\"font-family: 'Open Sans', verdana, arial, sans-serif; font-size: 12px; fill: rgb(51, 51, 51); fill-opacity: 1; white-space: pre; opacity: 1;\" transform=\"translate(0,349.40999999999997)\">0.3</text></g><g class=\"ytick\"><text text-anchor=\"end\" x=\"71.6\" y=\"4.199999999999999\" style=\"font-family: 'Open Sans', verdana, arial, sans-serif; font-size: 12px; fill: rgb(51, 51, 51); fill-opacity: 1; white-space: pre; opacity: 1;\" transform=\"translate(0,294.37)\">0.4</text></g><g class=\"ytick\"><text text-anchor=\"end\" x=\"71.6\" y=\"4.199999999999999\" style=\"font-family: 'Open Sans', verdana, arial, sans-serif; font-size: 12px; fill: rgb(51, 51, 51); fill-opacity: 1; white-space: pre; opacity: 1;\" transform=\"translate(0,239.32)\">0.5</text></g><g class=\"ytick\"><text text-anchor=\"end\" x=\"71.6\" y=\"4.199999999999999\" style=\"font-family: 'Open Sans', verdana, arial, sans-serif; font-size: 12px; fill: rgb(51, 51, 51); fill-opacity: 1; white-space: pre; opacity: 1;\" transform=\"translate(0,184.28)\">0.6</text></g><g class=\"ytick\"><text text-anchor=\"end\" x=\"71.6\" y=\"4.199999999999999\" style=\"font-family: 'Open Sans', verdana, arial, sans-serif; font-size: 12px; fill: rgb(51, 51, 51); fill-opacity: 1; white-space: pre; opacity: 1;\" transform=\"translate(0,129.23)\">0.7</text></g></g><g class=\"overaxes-above\"/></g></g><g class=\"polarlayer\"/><g class=\"smithlayer\"/><g class=\"ternarylayer\"/><g class=\"geolayer\"/><g class=\"funnelarealayer\"/><g class=\"pielayer\"/><g class=\"iciclelayer\"/><g class=\"treemaplayer\"/><g class=\"sunburstlayer\"/><g class=\"glimages\"/><defs id=\"topdefs-58c5d1\"><g class=\"clips\"/></defs><g class=\"layer-above\"><g class=\"imagelayer\"/><g class=\"shapelayer\"><g class=\"shape-group\" data-index=\"0\" clip-path=\"url(#clip58c5d1xy)\"><path data-index=\"0\" fill-rule=\"evenodd\" d=\"M255.57,514.55L141.5,129.13\" style=\"opacity: 0.3; stroke: rgb(0, 0, 0); stroke-opacity: 1; fill: rgb(0, 0, 0); fill-opacity: 1; stroke-width: 0.4px;\"/></g><g class=\"shape-group\" data-index=\"1\" clip-path=\"url(#clip58c5d1xy)\"><path data-index=\"1\" fill-rule=\"evenodd\" d=\"M255.57,514.55L835.27,487.05\" style=\"opacity: 0.3; stroke: rgb(0, 0, 0); stroke-opacity: 1; fill: rgb(0, 0, 0); fill-opacity: 1; stroke-width: 0.4px;\"/></g><g class=\"shape-group\" data-index=\"2\" clip-path=\"url(#clip58c5d1xy)\"><path data-index=\"2\" fill-rule=\"evenodd\" d=\"M255.57,514.55L862.5,469.11\" style=\"opacity: 0.3; stroke: rgb(0, 0, 0); stroke-opacity: 1; fill: rgb(0, 0, 0); fill-opacity: 1; stroke-width: 0.4px;\"/></g><g class=\"shape-group\" data-index=\"3\" clip-path=\"url(#clip58c5d1xy)\"><path data-index=\"3\" fill-rule=\"evenodd\" d=\"M255.57,514.55L835.46,491.5\" style=\"opacity: 0.3; stroke: rgb(0, 0, 0); stroke-opacity: 1; fill: rgb(0, 0, 0); fill-opacity: 1; stroke-width: 0.4px;\"/></g><g class=\"shape-group\" data-index=\"4\" clip-path=\"url(#clip58c5d1xy)\"><path data-index=\"4\" fill-rule=\"evenodd\" d=\"M255.57,514.55L862.5,469.11\" style=\"opacity: 0.3; stroke: rgb(0, 0, 0); stroke-opacity: 1; fill: rgb(0, 0, 0); fill-opacity: 1; stroke-width: 0.4px;\"/></g><g class=\"shape-group\" data-index=\"5\" clip-path=\"url(#clip58c5d1xy)\"><path data-index=\"5\" fill-rule=\"evenodd\" d=\"M255.57,514.55L150.68,128.5\" style=\"opacity: 0.3; stroke: rgb(0, 0, 0); stroke-opacity: 1; fill: rgb(0, 0, 0); fill-opacity: 1; stroke-width: 0.4px;\"/></g></g></g><g class=\"infolayer\"><g class=\"g-gtitle\"><text class=\"gtitle\" x=\"500\" y=\"50\" text-anchor=\"middle\" dy=\"0em\" style=\"font-family: 'Open Sans', verdana, arial, sans-serif; font-size: 17px; fill: rgb(51, 51, 51); opacity: 1; font-weight: normal; white-space: pre;\">PCA Loadings for patch_major</text></g><g class=\"g-xtitle\"><text class=\"xtitle\" x=\"500\" y=\"567.20625\" text-anchor=\"middle\" style=\"font-family: 'Open Sans', verdana, arial, sans-serif; font-size: 14px; fill: rgb(51, 51, 51); opacity: 1; font-weight: normal; white-space: pre;\">PC1</text></g><g class=\"g-ytitle\"><text class=\"ytitle\" transform=\"rotate(-90,27.668750000000003,310)\" x=\"27.668750000000003\" y=\"310\" text-anchor=\"middle\" style=\"font-family: 'Open Sans', verdana, arial, sans-serif; font-size: 14px; fill: rgb(51, 51, 51); opacity: 1; font-weight: normal; white-space: pre;\">PC2</text></g><g class=\"annotation\" data-index=\"0\" style=\"opacity: 1;\"><g class=\"annotation-text-g\" transform=\"rotate(0,141.5,119.13)\"><g class=\"cursor-pointer\" transform=\"translate(80,110)\"><rect class=\"bg\" x=\"0.5\" y=\"0.5\" width=\"122\" height=\"18\" style=\"stroke-width: 1px; stroke: rgb(0, 0, 0); stroke-opacity: 0; fill: rgb(0, 0, 0); fill-opacity: 0;\"/><text class=\"annotation-text\" text-anchor=\"middle\" x=\"61.390625\" y=\"14\" style=\"font-family: 'Open Sans', verdana, arial, sans-serif; font-size: 12px; fill: rgb(51, 51, 51); fill-opacity: 1; white-space: pre;\">Endpoints_modified</text></g></g></g><g class=\"annotation\" data-index=\"1\" style=\"opacity: 1;\"><g class=\"annotation-text-g\" transform=\"rotate(0,835.27,477.05)\"><g class=\"cursor-pointer\" transform=\"translate(781,468)\"><rect class=\"bg\" x=\"0.5\" y=\"0.5\" width=\"107\" height=\"18\" style=\"stroke-width: 1px; stroke: rgb(0, 0, 0); stroke-opacity: 0; fill: rgb(0, 0, 0); fill-opacity: 0;\"/><text class=\"annotation-text\" text-anchor=\"middle\" x=\"53.859375\" y=\"14\" style=\"font-family: 'Open Sans', verdana, arial, sans-serif; font-size: 12px; fill: rgb(51, 51, 51); fill-opacity: 1; white-space: pre;\">Endpoints_added</text></g></g></g><g class=\"annotation\" data-index=\"2\" style=\"opacity: 1;\"><g class=\"annotation-text-g\" transform=\"rotate(0,862.5,459.11)\"><g class=\"cursor-pointer\" transform=\"translate(805,450)\"><rect class=\"bg\" x=\"0.5\" y=\"0.5\" width=\"114\" height=\"18\" style=\"stroke-width: 1px; stroke: rgb(0, 0, 0); stroke-opacity: 0; fill: rgb(0, 0, 0); fill-opacity: 0;\"/><text class=\"annotation-text\" text-anchor=\"middle\" x=\"57.671875\" y=\"14\" style=\"font-family: 'Open Sans', verdana, arial, sans-serif; font-size: 12px; fill: rgb(51, 51, 51); fill-opacity: 1; white-space: pre;\">Endpoints_deleted</text></g></g></g><g class=\"annotation\" data-index=\"3\" style=\"opacity: 1;\"><g class=\"annotation-text-g\" transform=\"rotate(0,835.46,481.5)\"><g class=\"cursor-pointer\" transform=\"translate(795,472)\"><rect class=\"bg\" x=\"0.5\" y=\"0.5\" width=\"80\" height=\"18\" style=\"stroke-width: 1px; stroke: rgb(0, 0, 0); stroke-opacity: 0; fill: rgb(0, 0, 0); fill-opacity: 0;\"/><text class=\"annotation-text\" text-anchor=\"middle\" x=\"40.71875\" y=\"14\" style=\"font-family: 'Open Sans', verdana, arial, sans-serif; font-size: 12px; fill: rgb(51, 51, 51); fill-opacity: 1; white-space: pre;\">Paths_added</text></g></g></g><g class=\"annotation\" data-index=\"4\" style=\"opacity: 1;\"><g class=\"annotation-text-g\" transform=\"rotate(0,862.5,459.11)\"><g class=\"cursor-pointer\" transform=\"translate(818,450)\"><rect class=\"bg\" x=\"0.5\" y=\"0.5\" width=\"88\" height=\"18\" style=\"stroke-width: 1px; stroke: rgb(0, 0, 0); stroke-opacity: 0; fill: rgb(0, 0, 0); fill-opacity: 0;\"/><text class=\"annotation-text\" text-anchor=\"middle\" x=\"44.546875\" y=\"14\" style=\"font-family: 'Open Sans', verdana, arial, sans-serif; font-size: 12px; fill: rgb(51, 51, 51); fill-opacity: 1; white-space: pre;\">Paths_deleted</text></g></g></g><g class=\"annotation\" data-index=\"5\" style=\"opacity: 1;\"><g class=\"annotation-text-g\" transform=\"rotate(0,150.68,118.5)\"><g class=\"cursor-pointer\" transform=\"translate(102,109)\"><rect class=\"bg\" x=\"0.5\" y=\"0.5\" width=\"96\" height=\"18\" style=\"stroke-width: 1px; stroke: rgb(0, 0, 0); stroke-opacity: 0; fill: rgb(0, 0, 0); fill-opacity: 0;\"/><text class=\"annotation-text\" text-anchor=\"middle\" x=\"48.265625\" y=\"14\" style=\"font-family: 'Open Sans', verdana, arial, sans-serif; font-size: 12px; fill: rgb(51, 51, 51); fill-opacity: 1; white-space: pre;\">Paths_modified</text></g></g></g></g></svg>"
     },
     "metadata": {},
     "output_type": "display_data"
    }
   ],
   "source": [
    "for name, df in dfs.items():\n",
    "    title = f'PCA Loadings for {name}'\n",
    "    plot_pca(df, title)"
   ]
  }
 ],
 "metadata": {
  "kernelspec": {
   "display_name": "Python 3.11.1 64-bit",
   "language": "python",
   "name": "python3"
  },
  "language_info": {
   "codemirror_mode": {
    "name": "ipython",
    "version": 3
   },
   "file_extension": ".py",
   "mimetype": "text/x-python",
   "name": "python",
   "nbconvert_exporter": "python",
   "pygments_lexer": "ipython3",
   "version": "3.11.3"
  },
  "orig_nbformat": 4,
  "vscode": {
   "interpreter": {
    "hash": "1a1af0ee75eeea9e2e1ee996c87e7a2b11a0bebd85af04bb136d915cefc0abce"
   }
  }
 },
 "nbformat": 4,
 "nbformat_minor": 2
}
