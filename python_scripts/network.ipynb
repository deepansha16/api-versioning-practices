{
 "cells": [
  {
   "cell_type": "code",
   "execution_count": 2,
   "metadata": {},
   "outputs": [],
   "source": [
    "import pandas as pd\n",
    "import networkx as nx\n",
    "import graphviz"
   ]
  },
  {
   "cell_type": "code",
   "execution_count": 3,
   "metadata": {},
   "outputs": [
    {
     "name": "stderr",
     "output_type": "stream",
     "text": [
      "/usr/local/lib/python3.9/site-packages/IPython/core/interactiveshell.py:3378: DtypeWarning: Columns (56) have mixed types.Specify dtype option on import or set low_memory=False.\n",
      "  exec(code_obj, self.user_global_ns, self.user_ns)\n"
     ]
    }
   ],
   "source": [
    "df=pd.read_csv('final_new.csv', encoding='utf-8')"
   ]
  },
  {
   "cell_type": "code",
   "execution_count": 189,
   "metadata": {},
   "outputs": [],
   "source": [
    "df.fillna(0, inplace=True)"
   ]
  },
  {
   "cell_type": "code",
   "execution_count": 5,
   "metadata": {},
   "outputs": [
    {
     "data": {
      "text/plain": [
       "Early         71693\n",
       "Other          1244\n",
       "Mature          912\n",
       "Developing      684\n",
       "Legacy           51\n",
       "Name: api_group, dtype: int64"
      ]
     },
     "execution_count": 5,
     "metadata": {},
     "output_type": "execute_result"
    }
   ],
   "source": [
    "df['api_group'].value_counts()"
   ]
  },
  {
   "cell_type": "code",
   "execution_count": 6,
   "metadata": {},
   "outputs": [],
   "source": [
    "early= df[df['api_group']=='Early']\n",
    "developing= df[df['api_group']=='Developing']\n",
    "legacy= df[df['api_group']=='Legacy']\n",
    "mature= df[df['api_group']=='Mature']\n"
   ]
  },
  {
   "cell_type": "code",
   "execution_count": 7,
   "metadata": {},
   "outputs": [
    {
     "data": {
      "text/html": [
       "<div>\n",
       "<style scoped>\n",
       "    .dataframe tbody tr th:only-of-type {\n",
       "        vertical-align: middle;\n",
       "    }\n",
       "\n",
       "    .dataframe tbody tr th {\n",
       "        vertical-align: top;\n",
       "    }\n",
       "\n",
       "    .dataframe thead th {\n",
       "        text-align: right;\n",
       "    }\n",
       "</style>\n",
       "<table border=\"1\" class=\"dataframe\">\n",
       "  <thead>\n",
       "    <tr style=\"text-align: right;\">\n",
       "      <th></th>\n",
       "      <th>api_spec_id</th>\n",
       "      <th>info_version</th>\n",
       "      <th>label</th>\n",
       "    </tr>\n",
       "  </thead>\n",
       "  <tbody>\n",
       "    <tr>\n",
       "      <th>2155</th>\n",
       "      <td>27514</td>\n",
       "      <td>1.0.1</td>\n",
       "      <td>0</td>\n",
       "    </tr>\n",
       "    <tr>\n",
       "      <th>2156</th>\n",
       "      <td>27514</td>\n",
       "      <td>2.2.2</td>\n",
       "      <td>major.minor.patch</td>\n",
       "    </tr>\n",
       "    <tr>\n",
       "      <th>2158</th>\n",
       "      <td>27514</td>\n",
       "      <td>2.2.2</td>\n",
       "      <td>0</td>\n",
       "    </tr>\n",
       "    <tr>\n",
       "      <th>2159</th>\n",
       "      <td>27514</td>\n",
       "      <td>2.2.2</td>\n",
       "      <td>0</td>\n",
       "    </tr>\n",
       "    <tr>\n",
       "      <th>2160</th>\n",
       "      <td>27514</td>\n",
       "      <td>2.2.2</td>\n",
       "      <td>0</td>\n",
       "    </tr>\n",
       "    <tr>\n",
       "      <th>2161</th>\n",
       "      <td>27514</td>\n",
       "      <td>2.2.2</td>\n",
       "      <td>0</td>\n",
       "    </tr>\n",
       "    <tr>\n",
       "      <th>2162</th>\n",
       "      <td>27514</td>\n",
       "      <td>2.2.2</td>\n",
       "      <td>0</td>\n",
       "    </tr>\n",
       "    <tr>\n",
       "      <th>2163</th>\n",
       "      <td>27514</td>\n",
       "      <td>2.2.2</td>\n",
       "      <td>0</td>\n",
       "    </tr>\n",
       "    <tr>\n",
       "      <th>2164</th>\n",
       "      <td>27514</td>\n",
       "      <td>2.2.2</td>\n",
       "      <td>0</td>\n",
       "    </tr>\n",
       "    <tr>\n",
       "      <th>2165</th>\n",
       "      <td>27514</td>\n",
       "      <td>2.2.2</td>\n",
       "      <td>0</td>\n",
       "    </tr>\n",
       "    <tr>\n",
       "      <th>2166</th>\n",
       "      <td>27514</td>\n",
       "      <td>2.2.2</td>\n",
       "      <td>0</td>\n",
       "    </tr>\n",
       "    <tr>\n",
       "      <th>2167</th>\n",
       "      <td>27514</td>\n",
       "      <td>2.2.2</td>\n",
       "      <td>0</td>\n",
       "    </tr>\n",
       "    <tr>\n",
       "      <th>2168</th>\n",
       "      <td>27514</td>\n",
       "      <td>2.2.2</td>\n",
       "      <td>0</td>\n",
       "    </tr>\n",
       "    <tr>\n",
       "      <th>2169</th>\n",
       "      <td>27514</td>\n",
       "      <td>2.2.3</td>\n",
       "      <td>patch</td>\n",
       "    </tr>\n",
       "    <tr>\n",
       "      <th>2170</th>\n",
       "      <td>27514</td>\n",
       "      <td>2.2.3</td>\n",
       "      <td>0</td>\n",
       "    </tr>\n",
       "    <tr>\n",
       "      <th>2171</th>\n",
       "      <td>27514</td>\n",
       "      <td>2.2.3</td>\n",
       "      <td>0</td>\n",
       "    </tr>\n",
       "    <tr>\n",
       "      <th>2172</th>\n",
       "      <td>27514</td>\n",
       "      <td>2.2.3</td>\n",
       "      <td>0</td>\n",
       "    </tr>\n",
       "  </tbody>\n",
       "</table>\n",
       "</div>"
      ],
      "text/plain": [
       "      api_spec_id info_version              label\n",
       "2155        27514        1.0.1                  0\n",
       "2156        27514        2.2.2  major.minor.patch\n",
       "2158        27514        2.2.2                  0\n",
       "2159        27514        2.2.2                  0\n",
       "2160        27514        2.2.2                  0\n",
       "2161        27514        2.2.2                  0\n",
       "2162        27514        2.2.2                  0\n",
       "2163        27514        2.2.2                  0\n",
       "2164        27514        2.2.2                  0\n",
       "2165        27514        2.2.2                  0\n",
       "2166        27514        2.2.2                  0\n",
       "2167        27514        2.2.2                  0\n",
       "2168        27514        2.2.2                  0\n",
       "2169        27514        2.2.3              patch\n",
       "2170        27514        2.2.3                  0\n",
       "2171        27514        2.2.3                  0\n",
       "2172        27514        2.2.3                  0"
      ]
     },
     "execution_count": 7,
     "metadata": {},
     "output_type": "execute_result"
    }
   ],
   "source": [
    "data = early.query('api_spec_id == 27514')\n",
    "data[['api_spec_id', 'info_version','label']]"
   ]
  },
  {
   "cell_type": "code",
   "execution_count": 8,
   "metadata": {},
   "outputs": [
    {
     "name": "stderr",
     "output_type": "stream",
     "text": [
      "/usr/local/lib/python3.9/site-packages/pandas/core/frame.py:5176: SettingWithCopyWarning: \n",
      "A value is trying to be set on a copy of a slice from a DataFrame\n",
      "\n",
      "See the caveats in the documentation: https://pandas.pydata.org/pandas-docs/stable/user_guide/indexing.html#returning-a-view-versus-a-copy\n",
      "  return super().fillna(\n"
     ]
    }
   ],
   "source": [
    "early.fillna(0, inplace=True)\n",
    "developing.fillna(0, inplace=True)\n",
    "legacy.fillna(0, inplace=True)\n",
    "mature.fillna(0, inplace=True)"
   ]
  },
  {
   "cell_type": "code",
   "execution_count": 9,
   "metadata": {},
   "outputs": [
    {
     "data": {
      "text/plain": [
       "patch                    3455\n",
       "minor                     968\n",
       "minor.patch               663\n",
       "major.minor.patch         405\n",
       "major                     215\n",
       "major.patch               171\n",
       "pre                       167\n",
       "major.minor               144\n",
       "minor.patch.pre            40\n",
       "minor.pre                  22\n",
       "dev                        18\n",
       "patch.pre                  13\n",
       "minor.dev                  10\n",
       "minor.patch.dev            10\n",
       "pre.dev                     7\n",
       "major.minor.pre             7\n",
       "major.pre                   6\n",
       "patch.post                  4\n",
       "post                        4\n",
       "minor.pre.dev               4\n",
       "patch.dev                   3\n",
       "major.minor.patch.dev       2\n",
       "major.minor.post            2\n",
       "major.minor.patch.pre       2\n",
       "major.patch.post            1\n",
       "major.minor.dev             1\n",
       "major.patch.dev             1\n",
       "major.patch.pre             1\n",
       "major.post                  1\n",
       "Name: label, dtype: int64"
      ]
     },
     "execution_count": 9,
     "metadata": {},
     "output_type": "execute_result"
    }
   ],
   "source": [
    "s = early['label'].astype(str).value_counts()\n",
    "s.drop('0', inplace=True)\n",
    "s"
   ]
  },
  {
   "cell_type": "code",
   "execution_count": 15,
   "metadata": {},
   "outputs": [],
   "source": [
    "early.to_csv('early.csv', index=False)"
   ]
  },
  {
   "cell_type": "code",
   "execution_count": 10,
   "metadata": {},
   "outputs": [
    {
     "data": {
      "image/svg+xml": "<?xml version=\"1.0\" encoding=\"UTF-8\" standalone=\"no\"?>\n<!DOCTYPE svg PUBLIC \"-//W3C//DTD SVG 1.1//EN\"\n \"http://www.w3.org/Graphics/SVG/1.1/DTD/svg11.dtd\">\n<!-- Generated by graphviz version 7.0.6 (20230106.0513)\n -->\n<!-- Pages: 1 -->\n<svg width=\"345pt\" height=\"415pt\"\n viewBox=\"0.00 0.00 345.50 415.00\" xmlns=\"http://www.w3.org/2000/svg\" xmlns:xlink=\"http://www.w3.org/1999/xlink\">\n<g id=\"graph0\" class=\"graph\" transform=\"scale(1 1) rotate(0) translate(4 411)\">\n<polygon fill=\"white\" stroke=\"none\" points=\"-4,4 -4,-411 341.5,-411 341.5,4 -4,4\"/>\n<text text-anchor=\"middle\" x=\"168.75\" y=\"-391.8\" font-family=\"Times,serif\" font-size=\"14.00\">Label Occurence Graph for Early APIs</text>\n<!-- dev -->\n<g id=\"node1\" class=\"node\">\n<title>dev</title>\n<ellipse fill=\"none\" stroke=\"black\" cx=\"82.5\" cy=\"-366\" rx=\"27\" ry=\"18\"/>\n<text text-anchor=\"middle\" x=\"82.5\" y=\"-362.3\" font-family=\"Times,serif\" font-size=\"14.00\">dev</text>\n</g>\n<!-- dev&#45;&#45;dev -->\n<g id=\"edge1\" class=\"edge\">\n<title>dev&#45;&#45;dev</title>\n<path fill=\"none\" stroke=\"black\" d=\"M107.03,-374.03C118,-374.79 127.5,-372.12 127.5,-366 127.5,-359.88 118,-357.21 107.03,-357.97\"/>\n<text text-anchor=\"middle\" x=\"134.5\" y=\"-362.3\" font-family=\"Times,serif\" font-size=\"14.00\">18</text>\n</g>\n<!-- pre -->\n<g id=\"node2\" class=\"node\">\n<title>pre</title>\n<ellipse fill=\"none\" stroke=\"black\" cx=\"82.5\" cy=\"-279\" rx=\"27\" ry=\"18\"/>\n<text text-anchor=\"middle\" x=\"82.5\" y=\"-275.3\" font-family=\"Times,serif\" font-size=\"14.00\">pre</text>\n</g>\n<!-- dev&#45;&#45;pre -->\n<g id=\"edge2\" class=\"edge\">\n<title>dev&#45;&#45;pre</title>\n<path fill=\"none\" stroke=\"black\" d=\"M82.5,-347.8C82.5,-333.15 82.5,-312.19 82.5,-297.47\"/>\n<text text-anchor=\"middle\" x=\"86\" y=\"-318.8\" font-family=\"Times,serif\" font-size=\"14.00\">7</text>\n</g>\n<!-- patch -->\n<g id=\"node4\" class=\"node\">\n<title>patch</title>\n<ellipse fill=\"none\" stroke=\"black\" cx=\"173.5\" cy=\"-192\" rx=\"29.8\" ry=\"18\"/>\n<text text-anchor=\"middle\" x=\"173.5\" y=\"-188.3\" font-family=\"Times,serif\" font-size=\"14.00\">patch</text>\n</g>\n<!-- dev&#45;&#45;patch -->\n<g id=\"edge3\" class=\"edge\">\n<title>dev&#45;&#45;patch</title>\n<path fill=\"none\" stroke=\"black\" d=\"M101.94,-353.03C119.5,-341.12 144.51,-321.15 157.5,-297 172.38,-269.33 174.49,-231.89 174.27,-210.31\"/>\n<text text-anchor=\"middle\" x=\"174\" y=\"-275.3\" font-family=\"Times,serif\" font-size=\"14.00\">3</text>\n</g>\n<!-- minor -->\n<g id=\"node5\" class=\"node\">\n<title>minor</title>\n<ellipse fill=\"none\" stroke=\"black\" cx=\"32.5\" cy=\"-105\" rx=\"32.49\" ry=\"18\"/>\n<text text-anchor=\"middle\" x=\"32.5\" y=\"-101.3\" font-family=\"Times,serif\" font-size=\"14.00\">minor</text>\n</g>\n<!-- dev&#45;&#45;minor -->\n<g id=\"edge4\" class=\"edge\">\n<title>dev&#45;&#45;minor</title>\n<path fill=\"none\" stroke=\"black\" d=\"M71.6,-349.05C63.14,-335.76 51.96,-316 46.5,-297 28.67,-235.01 29.82,-157.29 31.43,-123.27\"/>\n<text text-anchor=\"middle\" x=\"42.5\" y=\"-231.8\" font-family=\"Times,serif\" font-size=\"14.00\">10</text>\n</g>\n<!-- pre&#45;&#45;pre -->\n<g id=\"edge5\" class=\"edge\">\n<title>pre&#45;&#45;pre</title>\n<path fill=\"none\" stroke=\"black\" d=\"M107.03,-287.03C118,-287.79 127.5,-285.12 127.5,-279 127.5,-272.88 118,-270.21 107.03,-270.97\"/>\n<text text-anchor=\"middle\" x=\"138\" y=\"-275.3\" font-family=\"Times,serif\" font-size=\"14.00\">167</text>\n</g>\n<!-- pre&#45;&#45;patch -->\n<g id=\"edge8\" class=\"edge\">\n<title>pre&#45;&#45;patch</title>\n<path fill=\"none\" stroke=\"black\" d=\"M101.05,-265.55C109.99,-259.21 120.67,-251.14 129.5,-243 141.06,-232.34 152.76,-218.9 161.18,-208.63\"/>\n<text text-anchor=\"middle\" x=\"151.5\" y=\"-231.8\" font-family=\"Times,serif\" font-size=\"14.00\">13</text>\n</g>\n<!-- pre&#45;&#45;minor -->\n<g id=\"edge6\" class=\"edge\">\n<title>pre&#45;&#45;minor</title>\n<path fill=\"none\" stroke=\"black\" d=\"M77.52,-260.88C67.94,-227.91 47.02,-155.97 37.45,-123.05\"/>\n<text text-anchor=\"middle\" x=\"69.5\" y=\"-188.3\" font-family=\"Times,serif\" font-size=\"14.00\">22</text>\n</g>\n<!-- major -->\n<g id=\"node6\" class=\"node\">\n<title>major</title>\n<ellipse fill=\"none\" stroke=\"black\" cx=\"154.5\" cy=\"-18\" rx=\"31.7\" ry=\"18\"/>\n<text text-anchor=\"middle\" x=\"154.5\" y=\"-14.3\" font-family=\"Times,serif\" font-size=\"14.00\">major</text>\n</g>\n<!-- pre&#45;&#45;major -->\n<g id=\"edge7\" class=\"edge\">\n<title>pre&#45;&#45;major</title>\n<path fill=\"none\" stroke=\"black\" d=\"M86.77,-261.08C93.35,-235.17 106.47,-184.11 118.5,-141 129,-103.35 142.19,-59.44 149.33,-35.93\"/>\n<text text-anchor=\"middle\" x=\"122\" y=\"-144.8\" font-family=\"Times,serif\" font-size=\"14.00\">6</text>\n</g>\n<!-- post -->\n<g id=\"node3\" class=\"node\">\n<title>post</title>\n<ellipse fill=\"none\" stroke=\"black\" cx=\"285.5\" cy=\"-279\" rx=\"27\" ry=\"18\"/>\n<text text-anchor=\"middle\" x=\"285.5\" y=\"-275.3\" font-family=\"Times,serif\" font-size=\"14.00\">post</text>\n</g>\n<!-- post&#45;&#45;post -->\n<g id=\"edge9\" class=\"edge\">\n<title>post&#45;&#45;post</title>\n<path fill=\"none\" stroke=\"black\" d=\"M310.03,-287.03C321,-287.79 330.5,-285.12 330.5,-279 330.5,-272.88 321,-270.21 310.03,-270.97\"/>\n<text text-anchor=\"middle\" x=\"334\" y=\"-275.3\" font-family=\"Times,serif\" font-size=\"14.00\">4</text>\n</g>\n<!-- post&#45;&#45;patch -->\n<g id=\"edge10\" class=\"edge\">\n<title>post&#45;&#45;patch</title>\n<path fill=\"none\" stroke=\"black\" d=\"M268.49,-265.09C247.68,-249.3 212.62,-222.69 191.41,-206.59\"/>\n<text text-anchor=\"middle\" x=\"240\" y=\"-231.8\" font-family=\"Times,serif\" font-size=\"14.00\">4</text>\n</g>\n<!-- post&#45;&#45;minor -->\n<g id=\"edge12\" class=\"edge\">\n<title>post&#45;&#45;minor</title>\n<path fill=\"none\" stroke=\"black\" d=\"M285.7,-260.6C285.02,-237.88 280.47,-198.14 258.5,-174 232.09,-144.99 118.73,-121.33 63.28,-111.25\"/>\n<text text-anchor=\"middle\" x=\"281\" y=\"-188.3\" font-family=\"Times,serif\" font-size=\"14.00\">2</text>\n</g>\n<!-- post&#45;&#45;major -->\n<g id=\"edge11\" class=\"edge\">\n<title>post&#45;&#45;major</title>\n<path fill=\"none\" stroke=\"black\" d=\"M291.93,-261.16C293.79,-255.48 295.57,-249.04 296.5,-243 299.91,-220.79 289.26,-175.66 288.5,-174 260.62,-113.21 201.42,-58.11 171.94,-33.13\"/>\n<text text-anchor=\"middle\" x=\"282\" y=\"-144.8\" font-family=\"Times,serif\" font-size=\"14.00\">1</text>\n</g>\n<!-- patch&#45;&#45;patch -->\n<g id=\"edge13\" class=\"edge\">\n<title>patch&#45;&#45;patch</title>\n<path fill=\"none\" stroke=\"black\" d=\"M200.58,-200.08C211.84,-200.64 221.39,-197.95 221.39,-192 221.39,-186.05 211.84,-183.36 200.58,-183.92\"/>\n<text text-anchor=\"middle\" x=\"235.39\" y=\"-188.3\" font-family=\"Times,serif\" font-size=\"14.00\">3455</text>\n</g>\n<!-- patch&#45;&#45;minor -->\n<g id=\"edge15\" class=\"edge\">\n<title>patch&#45;&#45;minor</title>\n<path fill=\"none\" stroke=\"blue\" d=\"M160.88,-175.27C151.51,-164.44 137.91,-150.37 123.5,-141 104.34,-128.55 80.08,-119.5 61.43,-113.72\"/>\n<text text-anchor=\"middle\" x=\"153\" y=\"-144.8\" font-family=\"Times,serif\" font-size=\"14.00\">663</text>\n</g>\n<!-- patch&#45;&#45;major -->\n<g id=\"edge14\" class=\"edge\">\n<title>patch&#45;&#45;major</title>\n<path fill=\"none\" stroke=\"orange\" d=\"M171.57,-173.56C167.92,-140.51 160.03,-69.12 156.4,-36.23\"/>\n<text text-anchor=\"middle\" x=\"177\" y=\"-101.3\" font-family=\"Times,serif\" font-size=\"14.00\">171</text>\n</g>\n<!-- minor&#45;&#45;minor -->\n<g id=\"edge16\" class=\"edge\">\n<title>minor&#45;&#45;minor</title>\n<path fill=\"none\" stroke=\"black\" d=\"M62.06,-113.12C73.49,-113.49 82.99,-110.78 82.99,-105 82.99,-99.22 73.49,-96.51 62.06,-96.88\"/>\n<text text-anchor=\"middle\" x=\"93.49\" y=\"-101.3\" font-family=\"Times,serif\" font-size=\"14.00\">968</text>\n</g>\n<!-- minor&#45;&#45;major -->\n<g id=\"edge17\" class=\"edge\">\n<title>minor&#45;&#45;major</title>\n<path fill=\"none\" stroke=\"red\" d=\"M50,-89.4C62.62,-79.1 80.24,-65.2 96.5,-54 108.12,-46 121.59,-37.8 132.62,-31.36\"/>\n<text text-anchor=\"middle\" x=\"107\" y=\"-57.8\" font-family=\"Times,serif\" font-size=\"14.00\">144</text>\n</g>\n<!-- major&#45;&#45;major -->\n<g id=\"edge18\" class=\"edge\">\n<title>major&#45;&#45;major</title>\n<path fill=\"none\" stroke=\"black\" d=\"M183.18,-26.11C194.69,-26.56 204.34,-23.86 204.34,-18 204.34,-12.14 194.69,-9.44 183.18,-9.89\"/>\n<text text-anchor=\"middle\" x=\"214.84\" y=\"-14.3\" font-family=\"Times,serif\" font-size=\"14.00\">215</text>\n</g>\n</g>\n</svg>\n",
      "text/plain": [
       "<graphviz.graphs.Graph at 0x12462fb80>"
      ]
     },
     "execution_count": 10,
     "metadata": {},
     "output_type": "execute_result"
    }
   ],
   "source": [
    "# Network graph of Early APIs\n",
    "\n",
    "early = early[early['label'] != 0]\n",
    "s = early['label'].astype(str).value_counts()\n",
    "s.drop('0', inplace=True)\n",
    "\n",
    "tmp = (\n",
    "    s.reset_index(name='label')\n",
    "    .sort_values(by='index', key=lambda s: s.str.count('.'))\n",
    "    .pipe(lambda d: d.join(d['index'].str.extract(r'(?:([^.]+).)?(\\b[^.]+)$').bfill(axis=1)))\n",
    "    .drop_duplicates(subset=[0, 1])\n",
    "    .dropna(subset=[0, 1])\n",
    ")\n",
    "\n",
    "# Set up the edge colors for major, minor and patch edges\n",
    "edge_colors = {('minor', 'major'): 'red', ('patch', 'minor'): 'blue', ('patch', 'major'): 'orange'}\n",
    "\n",
    "G = nx.from_pandas_edgelist(tmp, source=0, target=1,\n",
    "                            create_using=nx.Graph, edge_attr='label')\n",
    "\n",
    "\n",
    "dot = graphviz.Graph(graph_attr={'label': 'Label Occurence Graph for Early APIs', 'labelloc': 't', 'labeljust': 'c', 'labeldistance': '2.0'})\n",
    "for node in G.nodes:\n",
    "    dot.node(str(node))\n",
    "\n",
    "for edge in G.edges:\n",
    "    label = G.edges[edge]['label']\n",
    "    # Update the edge color only for major, minor and patch edges\n",
    "    if (edge[0], edge[1]) in edge_colors:\n",
    "        dot.edge(str(edge[0]), str(edge[1]), label=str(label), color=edge_colors[(edge[0], edge[1])])\n",
    "    else:\n",
    "        dot.edge(str(edge[0]), str(edge[1]), label=str(label))\n",
    "    \n",
    "dot"
   ]
  },
  {
   "cell_type": "code",
   "execution_count": 17,
   "metadata": {},
   "outputs": [
    {
     "data": {
      "image/svg+xml": "<?xml version=\"1.0\" encoding=\"UTF-8\" standalone=\"no\"?>\n<!DOCTYPE svg PUBLIC \"-//W3C//DTD SVG 1.1//EN\"\n \"http://www.w3.org/Graphics/SVG/1.1/DTD/svg11.dtd\">\n<!-- Generated by graphviz version 7.0.6 (20230106.0513)\n -->\n<!-- Pages: 1 -->\n<svg width=\"271pt\" height=\"241pt\"\n viewBox=\"0.00 0.00 271.00 241.00\" xmlns=\"http://www.w3.org/2000/svg\" xmlns:xlink=\"http://www.w3.org/1999/xlink\">\n<g id=\"graph0\" class=\"graph\" transform=\"scale(1 1) rotate(0) translate(4 237)\">\n<polygon fill=\"white\" stroke=\"none\" points=\"-4,4 -4,-237 267,-237 267,4 -4,4\"/>\n<text text-anchor=\"middle\" x=\"131.5\" y=\"-217.8\" font-family=\"Times,serif\" font-size=\"14.00\">Label Occurence Graph for Developing APIs</text>\n<!-- patch -->\n<g id=\"node1\" class=\"node\">\n<title>patch</title>\n<ellipse fill=\"none\" stroke=\"black\" cx=\"154.3\" cy=\"-192\" rx=\"29.8\" ry=\"18\"/>\n<text text-anchor=\"middle\" x=\"154.3\" y=\"-188.3\" font-family=\"Times,serif\" font-size=\"14.00\">patch</text>\n</g>\n<!-- patch&#45;&#45;patch -->\n<g id=\"edge1\" class=\"edge\">\n<title>patch&#45;&#45;patch</title>\n<path fill=\"none\" stroke=\"black\" d=\"M181.38,-200.08C192.65,-200.64 202.2,-197.95 202.2,-192 202.2,-186.05 192.65,-183.36 181.38,-183.92\"/>\n<text text-anchor=\"middle\" x=\"209.2\" y=\"-188.3\" font-family=\"Times,serif\" font-size=\"14.00\">20</text>\n</g>\n<!-- minor -->\n<g id=\"node2\" class=\"node\">\n<title>minor</title>\n<ellipse fill=\"none\" stroke=\"black\" cx=\"79.3\" cy=\"-105\" rx=\"32.49\" ry=\"18\"/>\n<text text-anchor=\"middle\" x=\"79.3\" y=\"-101.3\" font-family=\"Times,serif\" font-size=\"14.00\">minor</text>\n</g>\n<!-- patch&#45;&#45;minor -->\n<g id=\"edge2\" class=\"edge\">\n<title>patch&#45;&#45;minor</title>\n<path fill=\"none\" stroke=\"blue\" d=\"M140.89,-175.8C127.41,-160.52 106.72,-137.08 93.1,-121.64\"/>\n<text text-anchor=\"middle\" x=\"124.8\" y=\"-144.8\" font-family=\"Times,serif\" font-size=\"14.00\">5</text>\n</g>\n<!-- major -->\n<g id=\"node3\" class=\"node\">\n<title>major</title>\n<ellipse fill=\"none\" stroke=\"black\" cx=\"129.3\" cy=\"-18\" rx=\"31.7\" ry=\"18\"/>\n<text text-anchor=\"middle\" x=\"129.3\" y=\"-14.3\" font-family=\"Times,serif\" font-size=\"14.00\">major</text>\n</g>\n<!-- patch&#45;&#45;major -->\n<g id=\"edge3\" class=\"edge\">\n<title>patch&#45;&#45;major</title>\n<path fill=\"none\" stroke=\"orange\" d=\"M155.58,-173.55C156.74,-152.76 157.54,-117.07 152.3,-87 149.17,-69.08 142.13,-49.48 136.66,-35.95\"/>\n<text text-anchor=\"middle\" x=\"159.8\" y=\"-101.3\" font-family=\"Times,serif\" font-size=\"14.00\">5</text>\n</g>\n<!-- minor&#45;&#45;minor -->\n<g id=\"edge4\" class=\"edge\">\n<title>minor&#45;&#45;minor</title>\n<path fill=\"none\" stroke=\"black\" d=\"M108.86,-113.12C120.3,-113.49 129.8,-110.78 129.8,-105 129.8,-99.22 120.3,-96.51 108.86,-96.88\"/>\n<text text-anchor=\"middle\" x=\"136.8\" y=\"-101.3\" font-family=\"Times,serif\" font-size=\"14.00\">12</text>\n</g>\n<!-- minor&#45;&#45;major -->\n<g id=\"edge5\" class=\"edge\">\n<title>minor&#45;&#45;major</title>\n<path fill=\"none\" stroke=\"red\" d=\"M88.94,-87.61C97.79,-72.56 110.84,-50.37 119.69,-35.34\"/>\n<text text-anchor=\"middle\" x=\"110.8\" y=\"-57.8\" font-family=\"Times,serif\" font-size=\"14.00\">1</text>\n</g>\n<!-- major&#45;&#45;major -->\n<g id=\"edge6\" class=\"edge\">\n<title>major&#45;&#45;major</title>\n<path fill=\"none\" stroke=\"black\" d=\"M157.99,-26.11C169.49,-26.56 179.15,-23.86 179.15,-18 179.15,-12.14 169.49,-9.44 157.99,-9.89\"/>\n<text text-anchor=\"middle\" x=\"182.65\" y=\"-14.3\" font-family=\"Times,serif\" font-size=\"14.00\">2</text>\n</g>\n</g>\n</svg>\n",
      "text/plain": [
       "<graphviz.graphs.Graph at 0x1250f4f10>"
      ]
     },
     "execution_count": 17,
     "metadata": {},
     "output_type": "execute_result"
    }
   ],
   "source": [
    "# Network graph of Developing APIs\n",
    "\n",
    "developing = developing[developing['label'] != 0]\n",
    "ds = developing['label'].astype(str).value_counts()\n",
    "ds.drop('0', inplace=True)\n",
    "\n",
    "tmp = (\n",
    "    ds.reset_index(name='label')\n",
    "    .sort_values(by='index', key=lambda s: s.str.count('.'))\n",
    "    .pipe(lambda d: d.join(d['index'].str.extract(r'(?:([^.]+).)?(\\b[^.]+)$').bfill(axis=1)))\n",
    "    .drop_duplicates(subset=[0, 1])\n",
    "    .dropna(subset=[0, 1])\n",
    ")\n",
    "\n",
    "# Set up the edge colors for major, minor and patch edges\n",
    "edge_colors = {('minor', 'major'): 'red', ('patch', 'minor'): 'blue', ('patch', 'major'): 'orange'}\n",
    "\n",
    "G = nx.from_pandas_edgelist(tmp, source=0, target=1,\n",
    "                            create_using=nx.Graph, edge_attr='label')\n",
    "\n",
    "\n",
    "dot = graphviz.Graph(graph_attr={'label': 'Label Occurence Graph for Developing APIs', 'labelloc': 't', 'labeljust': 'c', 'labeldistance': '2.0'})\n",
    "for node in G.nodes:\n",
    "    dot.node(str(node))\n",
    "\n",
    "for edge in G.edges:\n",
    "    label = G.edges[edge]['label']\n",
    "    # Update the edge color only for major, minor and patch edges\n",
    "    if (edge[0], edge[1]) in edge_colors:\n",
    "        dot.edge(str(edge[0]), str(edge[1]), label=str(label), color=edge_colors[(edge[0], edge[1])])\n",
    "    else:\n",
    "        dot.edge(str(edge[0]), str(edge[1]), label=str(label))\n",
    "    \n",
    "dot"
   ]
  },
  {
   "cell_type": "code",
   "execution_count": 20,
   "metadata": {},
   "outputs": [
    {
     "data": {
      "image/svg+xml": "<?xml version=\"1.0\" encoding=\"UTF-8\" standalone=\"no\"?>\n<!DOCTYPE svg PUBLIC \"-//W3C//DTD SVG 1.1//EN\"\n \"http://www.w3.org/Graphics/SVG/1.1/DTD/svg11.dtd\">\n<!-- Generated by graphviz version 7.0.6 (20230106.0513)\n -->\n<!-- Pages: 1 -->\n<svg width=\"247pt\" height=\"241pt\"\n viewBox=\"0.00 0.00 247.00 241.00\" xmlns=\"http://www.w3.org/2000/svg\" xmlns:xlink=\"http://www.w3.org/1999/xlink\">\n<g id=\"graph0\" class=\"graph\" transform=\"scale(1 1) rotate(0) translate(4 237)\">\n<polygon fill=\"white\" stroke=\"none\" points=\"-4,4 -4,-237 243,-237 243,4 -4,4\"/>\n<text text-anchor=\"middle\" x=\"119.5\" y=\"-217.8\" font-family=\"Times,serif\" font-size=\"14.00\">Label Occurence Graph for Mature APIs</text>\n<!-- patch -->\n<g id=\"node1\" class=\"node\">\n<title>patch</title>\n<ellipse fill=\"none\" stroke=\"black\" cx=\"103.5\" cy=\"-192\" rx=\"29.8\" ry=\"18\"/>\n<text text-anchor=\"middle\" x=\"103.5\" y=\"-188.3\" font-family=\"Times,serif\" font-size=\"14.00\">patch</text>\n</g>\n<!-- patch&#45;&#45;patch -->\n<g id=\"edge1\" class=\"edge\">\n<title>patch&#45;&#45;patch</title>\n<path fill=\"none\" stroke=\"black\" d=\"M130.58,-200.08C141.85,-200.64 151.4,-197.95 151.4,-192 151.4,-186.05 141.85,-183.36 130.58,-183.92\"/>\n<text text-anchor=\"middle\" x=\"158.4\" y=\"-188.3\" font-family=\"Times,serif\" font-size=\"14.00\">20</text>\n</g>\n<!-- minor -->\n<g id=\"node2\" class=\"node\">\n<title>minor</title>\n<ellipse fill=\"none\" stroke=\"black\" cx=\"103.5\" cy=\"-105\" rx=\"32.49\" ry=\"18\"/>\n<text text-anchor=\"middle\" x=\"103.5\" y=\"-101.3\" font-family=\"Times,serif\" font-size=\"14.00\">minor</text>\n</g>\n<!-- patch&#45;&#45;minor -->\n<g id=\"edge2\" class=\"edge\">\n<title>patch&#45;&#45;minor</title>\n<path fill=\"none\" stroke=\"blue\" d=\"M103.5,-173.8C103.5,-159.15 103.5,-138.19 103.5,-123.47\"/>\n<text text-anchor=\"middle\" x=\"110.5\" y=\"-144.8\" font-family=\"Times,serif\" font-size=\"14.00\">13</text>\n</g>\n<!-- minor&#45;&#45;minor -->\n<g id=\"edge3\" class=\"edge\">\n<title>minor&#45;&#45;minor</title>\n<path fill=\"none\" stroke=\"black\" d=\"M133.07,-113.12C144.5,-113.49 154,-110.78 154,-105 154,-99.22 144.5,-96.51 133.07,-96.88\"/>\n<text text-anchor=\"middle\" x=\"161\" y=\"-101.3\" font-family=\"Times,serif\" font-size=\"14.00\">11</text>\n</g>\n<!-- major -->\n<g id=\"node3\" class=\"node\">\n<title>major</title>\n<ellipse fill=\"none\" stroke=\"black\" cx=\"103.5\" cy=\"-18\" rx=\"31.7\" ry=\"18\"/>\n<text text-anchor=\"middle\" x=\"103.5\" y=\"-14.3\" font-family=\"Times,serif\" font-size=\"14.00\">major</text>\n</g>\n<!-- minor&#45;&#45;major -->\n<g id=\"edge4\" class=\"edge\">\n<title>minor&#45;&#45;major</title>\n<path fill=\"none\" stroke=\"red\" d=\"M103.5,-86.8C103.5,-72.15 103.5,-51.19 103.5,-36.47\"/>\n<text text-anchor=\"middle\" x=\"107\" y=\"-57.8\" font-family=\"Times,serif\" font-size=\"14.00\">5</text>\n</g>\n<!-- major&#45;&#45;major -->\n<g id=\"edge5\" class=\"edge\">\n<title>major&#45;&#45;major</title>\n<path fill=\"none\" stroke=\"black\" d=\"M132.19,-26.11C143.69,-26.56 153.35,-23.86 153.35,-18 153.35,-12.14 143.69,-9.44 132.19,-9.89\"/>\n<text text-anchor=\"middle\" x=\"156.85\" y=\"-14.3\" font-family=\"Times,serif\" font-size=\"14.00\">2</text>\n</g>\n</g>\n</svg>\n",
      "text/plain": [
       "<graphviz.graphs.Graph at 0x110a36ca0>"
      ]
     },
     "execution_count": 20,
     "metadata": {},
     "output_type": "execute_result"
    }
   ],
   "source": [
    "# Network graph of Mature APIs\n",
    "\n",
    "mature = mature[mature['label'] != 0]\n",
    "ms = mature['label'].astype(str).value_counts()\n",
    "ms.drop('0', inplace=True)\n",
    "\n",
    "tmp = (\n",
    "    ms.reset_index(name='label')\n",
    "    .sort_values(by='index', key=lambda s: s.str.count('.'))\n",
    "    .pipe(lambda d: d.join(d['index'].str.extract(r'(?:([^.]+).)?(\\b[^.]+)$').bfill(axis=1)))\n",
    "    .drop_duplicates(subset=[0, 1])\n",
    "    .dropna(subset=[0, 1])\n",
    ")\n",
    "\n",
    "edge_colors = {('minor', 'major'): 'red', ('patch', 'minor'): 'blue', ('patch', 'major'): 'orange'}\n",
    "\n",
    "G = nx.from_pandas_edgelist(tmp, source=0, target=1,\n",
    "                            create_using=nx.Graph, edge_attr='label')\n",
    "\n",
    "\n",
    "dot = graphviz.Graph(graph_attr={'label': 'Label Occurence Graph for Mature APIs', 'labelloc': 't', 'labeljust': 'c', 'labeldistance': '2.0'})\n",
    "for node in G.nodes:\n",
    "    dot.node(str(node))\n",
    "\n",
    "for edge in G.edges:\n",
    "    label = G.edges[edge]['label']\n",
    "    # Update the edge color only for major, minor and patch edges\n",
    "    if (edge[0], edge[1]) in edge_colors:\n",
    "        dot.edge(str(edge[0]), str(edge[1]), label=str(label), color=edge_colors[(edge[0], edge[1])])\n",
    "    else:\n",
    "        dot.edge(str(edge[0]), str(edge[1]), label=str(label))\n",
    "    \n",
    "dot"
   ]
  },
  {
   "cell_type": "code",
   "execution_count": 21,
   "metadata": {},
   "outputs": [
    {
     "data": {
      "image/svg+xml": "<?xml version=\"1.0\" encoding=\"UTF-8\" standalone=\"no\"?>\n<!DOCTYPE svg PUBLIC \"-//W3C//DTD SVG 1.1//EN\"\n \"http://www.w3.org/Graphics/SVG/1.1/DTD/svg11.dtd\">\n<!-- Generated by graphviz version 7.0.6 (20230106.0513)\n -->\n<!-- Pages: 1 -->\n<svg width=\"247pt\" height=\"154pt\"\n viewBox=\"0.00 0.00 247.00 154.00\" xmlns=\"http://www.w3.org/2000/svg\" xmlns:xlink=\"http://www.w3.org/1999/xlink\">\n<g id=\"graph0\" class=\"graph\" transform=\"scale(1 1) rotate(0) translate(4 150)\">\n<polygon fill=\"white\" stroke=\"none\" points=\"-4,4 -4,-150 243,-150 243,4 -4,4\"/>\n<text text-anchor=\"middle\" x=\"119.5\" y=\"-130.8\" font-family=\"Times,serif\" font-size=\"14.00\">Label Occurence Graph for Legacy APIs</text>\n<!-- patch -->\n<g id=\"node1\" class=\"node\">\n<title>patch</title>\n<ellipse fill=\"none\" stroke=\"black\" cx=\"108.3\" cy=\"-105\" rx=\"29.8\" ry=\"18\"/>\n<text text-anchor=\"middle\" x=\"108.3\" y=\"-101.3\" font-family=\"Times,serif\" font-size=\"14.00\">patch</text>\n</g>\n<!-- patch&#45;&#45;patch -->\n<g id=\"edge1\" class=\"edge\">\n<title>patch&#45;&#45;patch</title>\n<path fill=\"none\" stroke=\"black\" d=\"M135.38,-113.08C146.65,-113.64 156.2,-110.95 156.2,-105 156.2,-99.05 146.65,-96.36 135.38,-96.92\"/>\n<text text-anchor=\"middle\" x=\"159.7\" y=\"-101.3\" font-family=\"Times,serif\" font-size=\"14.00\">2</text>\n</g>\n<!-- minor -->\n<g id=\"node2\" class=\"node\">\n<title>minor</title>\n<ellipse fill=\"none\" stroke=\"black\" cx=\"108.3\" cy=\"-18\" rx=\"32.49\" ry=\"18\"/>\n<text text-anchor=\"middle\" x=\"108.3\" y=\"-14.3\" font-family=\"Times,serif\" font-size=\"14.00\">minor</text>\n</g>\n<!-- patch&#45;&#45;minor -->\n<g id=\"edge2\" class=\"edge\">\n<title>patch&#45;&#45;minor</title>\n<path fill=\"none\" stroke=\"blue\" d=\"M108.3,-86.8C108.3,-72.15 108.3,-51.19 108.3,-36.47\"/>\n<text text-anchor=\"middle\" x=\"111.8\" y=\"-57.8\" font-family=\"Times,serif\" font-size=\"14.00\">1</text>\n</g>\n</g>\n</svg>\n",
      "text/plain": [
       "<graphviz.graphs.Graph at 0x1251f4700>"
      ]
     },
     "execution_count": 21,
     "metadata": {},
     "output_type": "execute_result"
    }
   ],
   "source": [
    "# Network graph of Legacy APIs\n",
    "\n",
    "legacy = legacy[legacy['label'] != 0]\n",
    "ls = legacy['label'].astype(str).value_counts()\n",
    "ls.drop('0', inplace=True)\n",
    "\n",
    "tmp = (\n",
    "    ls.reset_index(name='label')\n",
    "    .sort_values(by='index', key=lambda s: s.str.count('.'))\n",
    "    .pipe(lambda d: d.join(d['index'].str.extract(r'(?:([^.]+).)?(\\b[^.]+)$').bfill(axis=1)))\n",
    "    .drop_duplicates(subset=[0, 1])\n",
    "    .dropna(subset=[0, 1])\n",
    ")\n",
    "\n",
    "edge_colors = {('minor', 'major'): 'red', ('patch', 'minor'): 'blue', ('patch', 'major'): 'orange'}\n",
    "\n",
    "G = nx.from_pandas_edgelist(tmp, source=0, target=1,\n",
    "                            create_using=nx.Graph, edge_attr='label')\n",
    "\n",
    "\n",
    "dot = graphviz.Graph(graph_attr={'label': 'Label Occurence Graph for Legacy APIs', 'labelloc': 't', 'labeljust': 'c', 'labeldistance': '2.0'})\n",
    "for node in G.nodes:\n",
    "    dot.node(str(node))\n",
    "\n",
    "for edge in G.edges:\n",
    "    label = G.edges[edge]['label']\n",
    "    # Update the edge color only for major, minor and patch edges\n",
    "    if (edge[0], edge[1]) in edge_colors:\n",
    "        dot.edge(str(edge[0]), str(edge[1]), label=str(label), color=edge_colors[(edge[0], edge[1])])\n",
    "    else:\n",
    "        dot.edge(str(edge[0]), str(edge[1]), label=str(label))\n",
    "    \n",
    "dot"
   ]
  },
  {
   "cell_type": "code",
   "execution_count": 190,
   "metadata": {},
   "outputs": [],
   "source": [
    "df['commit_date'] = pd.to_datetime(df['commit_date'])\n",
    "\n",
    "df_2014 = df.loc[df['commit_date'].dt.year == 2014]\n",
    "df_2015 = df.loc[df['commit_date'].dt.year == 2015]\n",
    "df_2016 = df.loc[df['commit_date'].dt.year == 2016]\n",
    "df_2017 = df.loc[df['commit_date'].dt.year == 2017]\n",
    "df_2018 = df.loc[df['commit_date'].dt.year == 2018]\n",
    "df_2019 = df.loc[df['commit_date'].dt.year == 2019]\n",
    "df_2020 = df.loc[df['commit_date'].dt.year == 2020]\n",
    "df_2021 = df.loc[df['commit_date'].dt.year == 2021]\n",
    "df_2022 = df.loc[df['commit_date'].dt.year == 2022]"
   ]
  },
  {
   "cell_type": "code",
   "execution_count": 191,
   "metadata": {},
   "outputs": [],
   "source": [
    "import warnings\n",
    "\n",
    "warnings.filterwarnings('ignore')\n",
    "\n",
    "df_2014.fillna(0, inplace=True)\n",
    "df_2015.fillna(0, inplace=True)\n",
    "df_2016.fillna(0, inplace=True)\n",
    "df_2017.fillna(0, inplace=True)\n",
    "df_2018.fillna(0, inplace=True)\n",
    "df_2019.fillna(0, inplace=True)\n",
    "df_2020.fillna(0, inplace=True)\n",
    "df_2021.fillna(0, inplace=True)\n",
    "df_2022.fillna(0, inplace=True)"
   ]
  },
  {
   "cell_type": "code",
   "execution_count": 47,
   "metadata": {},
   "outputs": [],
   "source": [
    "s = df_2016['label'].astype(str).value_counts().dropna()"
   ]
  },
  {
   "cell_type": "code",
   "execution_count": 12,
   "metadata": {},
   "outputs": [],
   "source": [
    "df.fillna(0, inplace=True)"
   ]
  },
  {
   "cell_type": "code",
   "execution_count": 13,
   "metadata": {},
   "outputs": [
    {
     "data": {
      "image/svg+xml": "<?xml version=\"1.0\" encoding=\"UTF-8\" standalone=\"no\"?>\n<!DOCTYPE svg PUBLIC \"-//W3C//DTD SVG 1.1//EN\"\n \"http://www.w3.org/Graphics/SVG/1.1/DTD/svg11.dtd\">\n<!-- Generated by graphviz version 7.0.6 (20230106.0513)\n -->\n<!-- Pages: 1 -->\n<svg width=\"341pt\" height=\"415pt\"\n viewBox=\"0.00 0.00 341.00 415.00\" xmlns=\"http://www.w3.org/2000/svg\" xmlns:xlink=\"http://www.w3.org/1999/xlink\">\n<g id=\"graph0\" class=\"graph\" transform=\"scale(1 1) rotate(0) translate(4 411)\">\n<polygon fill=\"white\" stroke=\"none\" points=\"-4,4 -4,-411 337,-411 337,4 -4,4\"/>\n<text text-anchor=\"middle\" x=\"166.5\" y=\"-391.8\" font-family=\"Times,serif\" font-size=\"14.00\">Label Occurence Graph for entire dataset</text>\n<!-- 0 -->\n<g id=\"node1\" class=\"node\">\n<title>0</title>\n<ellipse fill=\"none\" stroke=\"black\" cx=\"27\" cy=\"-366\" rx=\"27\" ry=\"18\"/>\n<text text-anchor=\"middle\" x=\"27\" y=\"-362.3\" font-family=\"Times,serif\" font-size=\"14.00\">0</text>\n</g>\n<!-- 0&#45;&#45;0 -->\n<g id=\"edge1\" class=\"edge\">\n<title>0&#45;&#45;0</title>\n<path fill=\"none\" stroke=\"black\" d=\"M51.53,-374.03C62.51,-374.79 72,-372.12 72,-366 72,-359.88 62.51,-357.21 51.53,-357.97\"/>\n<text text-anchor=\"middle\" x=\"89\" y=\"-362.3\" font-family=\"Times,serif\" font-size=\"14.00\">68046</text>\n</g>\n<!-- pre -->\n<g id=\"node2\" class=\"node\">\n<title>pre</title>\n<ellipse fill=\"none\" stroke=\"black\" cx=\"151\" cy=\"-366\" rx=\"27\" ry=\"18\"/>\n<text text-anchor=\"middle\" x=\"151\" y=\"-362.3\" font-family=\"Times,serif\" font-size=\"14.00\">pre</text>\n</g>\n<!-- pre&#45;&#45;pre -->\n<g id=\"edge2\" class=\"edge\">\n<title>pre&#45;&#45;pre</title>\n<path fill=\"none\" stroke=\"black\" d=\"M175.53,-374.03C186.51,-374.79 196,-372.12 196,-366 196,-359.88 186.51,-357.21 175.53,-357.97\"/>\n<text text-anchor=\"middle\" x=\"206.5\" y=\"-362.3\" font-family=\"Times,serif\" font-size=\"14.00\">169</text>\n</g>\n<!-- dev -->\n<g id=\"node3\" class=\"node\">\n<title>dev</title>\n<ellipse fill=\"none\" stroke=\"black\" cx=\"80\" cy=\"-279\" rx=\"27\" ry=\"18\"/>\n<text text-anchor=\"middle\" x=\"80\" y=\"-275.3\" font-family=\"Times,serif\" font-size=\"14.00\">dev</text>\n</g>\n<!-- pre&#45;&#45;dev -->\n<g id=\"edge3\" class=\"edge\">\n<title>pre&#45;&#45;dev</title>\n<path fill=\"none\" stroke=\"black\" d=\"M138.31,-349.8C125.46,-334.43 105.71,-310.78 92.82,-295.35\"/>\n<text text-anchor=\"middle\" x=\"123.5\" y=\"-318.8\" font-family=\"Times,serif\" font-size=\"14.00\">8</text>\n</g>\n<!-- patch -->\n<g id=\"node5\" class=\"node\">\n<title>patch</title>\n<ellipse fill=\"none\" stroke=\"black\" cx=\"133\" cy=\"-192\" rx=\"29.8\" ry=\"18\"/>\n<text text-anchor=\"middle\" x=\"133\" y=\"-188.3\" font-family=\"Times,serif\" font-size=\"14.00\">patch</text>\n</g>\n<!-- pre&#45;&#45;patch -->\n<g id=\"edge6\" class=\"edge\">\n<title>pre&#45;&#45;patch</title>\n<path fill=\"none\" stroke=\"black\" d=\"M151.49,-347.63C151.85,-326.92 151.74,-291.3 148,-261 145.83,-243.48 141.26,-223.83 137.73,-210.17\"/>\n<text text-anchor=\"middle\" x=\"158\" y=\"-275.3\" font-family=\"Times,serif\" font-size=\"14.00\">13</text>\n</g>\n<!-- minor -->\n<g id=\"node6\" class=\"node\">\n<title>minor</title>\n<ellipse fill=\"none\" stroke=\"black\" cx=\"106\" cy=\"-105\" rx=\"32.49\" ry=\"18\"/>\n<text text-anchor=\"middle\" x=\"106\" y=\"-101.3\" font-family=\"Times,serif\" font-size=\"14.00\">minor</text>\n</g>\n<!-- pre&#45;&#45;minor -->\n<g id=\"edge5\" class=\"edge\">\n<title>pre&#45;&#45;minor</title>\n<path fill=\"none\" stroke=\"black\" d=\"M129.88,-354.69C101.48,-340.34 53.43,-314.17 44,-297 10.76,-236.5 66.03,-155.33 92.78,-121.65\"/>\n<text text-anchor=\"middle\" x=\"44\" y=\"-231.8\" font-family=\"Times,serif\" font-size=\"14.00\">22</text>\n</g>\n<!-- major -->\n<g id=\"node7\" class=\"node\">\n<title>major</title>\n<ellipse fill=\"none\" stroke=\"black\" cx=\"250\" cy=\"-18\" rx=\"31.7\" ry=\"18\"/>\n<text text-anchor=\"middle\" x=\"250\" y=\"-14.3\" font-family=\"Times,serif\" font-size=\"14.00\">major</text>\n</g>\n<!-- pre&#45;&#45;major -->\n<g id=\"edge4\" class=\"edge\">\n<title>pre&#45;&#45;major</title>\n<path fill=\"none\" stroke=\"black\" d=\"M177.96,-363.91C227.05,-360.32 326,-345.02 326,-280 326,-280 326,-280 326,-104 326,-71.34 294.43,-45.47 271.98,-31.2\"/>\n<text text-anchor=\"middle\" x=\"329.5\" y=\"-188.3\" font-family=\"Times,serif\" font-size=\"14.00\">6</text>\n</g>\n<!-- dev&#45;&#45;dev -->\n<g id=\"edge7\" class=\"edge\">\n<title>dev&#45;&#45;dev</title>\n<path fill=\"none\" stroke=\"black\" d=\"M104.53,-287.03C115.51,-287.79 125,-285.12 125,-279 125,-272.88 115.51,-270.21 104.53,-270.97\"/>\n<text text-anchor=\"middle\" x=\"132\" y=\"-275.3\" font-family=\"Times,serif\" font-size=\"14.00\">18</text>\n</g>\n<!-- dev&#45;&#45;patch -->\n<g id=\"edge8\" class=\"edge\">\n<title>dev&#45;&#45;patch</title>\n<path fill=\"none\" stroke=\"black\" d=\"M89.97,-262.01C99.38,-246.91 113.44,-224.38 122.9,-209.21\"/>\n<text text-anchor=\"middle\" x=\"113.5\" y=\"-231.8\" font-family=\"Times,serif\" font-size=\"14.00\">3</text>\n</g>\n<!-- dev&#45;&#45;minor -->\n<g id=\"edge9\" class=\"edge\">\n<title>dev&#45;&#45;minor</title>\n<path fill=\"none\" stroke=\"black\" d=\"M78.11,-260.89C76.26,-240.14 74.43,-204.18 80,-174 83.35,-155.85 91.34,-136.29 97.58,-122.82\"/>\n<text text-anchor=\"middle\" x=\"87\" y=\"-188.3\" font-family=\"Times,serif\" font-size=\"14.00\">10</text>\n</g>\n<!-- post -->\n<g id=\"node4\" class=\"node\">\n<title>post</title>\n<ellipse fill=\"none\" stroke=\"black\" cx=\"245\" cy=\"-279\" rx=\"27\" ry=\"18\"/>\n<text text-anchor=\"middle\" x=\"245\" y=\"-275.3\" font-family=\"Times,serif\" font-size=\"14.00\">post</text>\n</g>\n<!-- post&#45;&#45;post -->\n<g id=\"edge10\" class=\"edge\">\n<title>post&#45;&#45;post</title>\n<path fill=\"none\" stroke=\"black\" d=\"M269.53,-287.03C280.51,-287.79 290,-285.12 290,-279 290,-272.88 280.51,-270.21 269.53,-270.97\"/>\n<text text-anchor=\"middle\" x=\"293.5\" y=\"-275.3\" font-family=\"Times,serif\" font-size=\"14.00\">4</text>\n</g>\n<!-- post&#45;&#45;patch -->\n<g id=\"edge11\" class=\"edge\">\n<title>post&#45;&#45;patch</title>\n<path fill=\"none\" stroke=\"black\" d=\"M230.38,-263.69C219.41,-253.28 203.8,-239.11 189,-228 178,-219.74 165,-211.54 154.3,-205.15\"/>\n<text text-anchor=\"middle\" x=\"209.5\" y=\"-231.8\" font-family=\"Times,serif\" font-size=\"14.00\">4</text>\n</g>\n<!-- post&#45;&#45;minor -->\n<g id=\"edge13\" class=\"edge\">\n<title>post&#45;&#45;minor</title>\n<path fill=\"none\" stroke=\"black\" d=\"M244.43,-260.84C242.88,-238.73 237.37,-200.04 218,-174 196.41,-144.98 158.44,-125.78 132.76,-115.39\"/>\n<text text-anchor=\"middle\" x=\"237.5\" y=\"-188.3\" font-family=\"Times,serif\" font-size=\"14.00\">2</text>\n</g>\n<!-- post&#45;&#45;major -->\n<g id=\"edge12\" class=\"edge\">\n<title>post&#45;&#45;major</title>\n<path fill=\"none\" stroke=\"black\" d=\"M250.85,-261.11C252.54,-255.43 254.16,-249.01 255,-243 255.92,-236.4 255.08,-234.67 255,-228 254.15,-156.87 251.67,-72.14 250.56,-36.34\"/>\n<text text-anchor=\"middle\" x=\"256.5\" y=\"-144.8\" font-family=\"Times,serif\" font-size=\"14.00\">1</text>\n</g>\n<!-- patch&#45;&#45;patch -->\n<g id=\"edge14\" class=\"edge\">\n<title>patch&#45;&#45;patch</title>\n<path fill=\"none\" stroke=\"black\" d=\"M160.08,-200.08C171.35,-200.64 180.9,-197.95 180.9,-192 180.9,-186.05 171.35,-183.36 160.08,-183.92\"/>\n<text text-anchor=\"middle\" x=\"194.9\" y=\"-188.3\" font-family=\"Times,serif\" font-size=\"14.00\">3538</text>\n</g>\n<!-- patch&#45;&#45;minor -->\n<g id=\"edge16\" class=\"edge\">\n<title>patch&#45;&#45;minor</title>\n<path fill=\"none\" stroke=\"blue\" d=\"M127.67,-174.21C122.96,-159.4 116.14,-137.93 111.42,-123.05\"/>\n<text text-anchor=\"middle\" x=\"132.5\" y=\"-144.8\" font-family=\"Times,serif\" font-size=\"14.00\">691</text>\n</g>\n<!-- patch&#45;&#45;major -->\n<g id=\"edge15\" class=\"edge\">\n<title>patch&#45;&#45;major</title>\n<path fill=\"none\" stroke=\"orange\" d=\"M147.85,-176.15C160.67,-162.89 179.25,-142.59 193,-123 213.35,-94.02 232.09,-57.03 242.19,-35.88\"/>\n<text text-anchor=\"middle\" x=\"225.5\" y=\"-101.3\" font-family=\"Times,serif\" font-size=\"14.00\">178</text>\n</g>\n<!-- minor&#45;&#45;minor -->\n<g id=\"edge17\" class=\"edge\">\n<title>minor&#45;&#45;minor</title>\n<path fill=\"none\" stroke=\"black\" d=\"M135.57,-113.12C147,-113.49 156.5,-110.78 156.5,-105 156.5,-99.22 147,-96.51 135.57,-96.88\"/>\n<text text-anchor=\"middle\" x=\"170.5\" y=\"-101.3\" font-family=\"Times,serif\" font-size=\"14.00\">1014</text>\n</g>\n<!-- minor&#45;&#45;major -->\n<g id=\"edge18\" class=\"edge\">\n<title>minor&#45;&#45;major</title>\n<path fill=\"none\" stroke=\"red\" d=\"M126.22,-90.65C142.04,-80.34 164.68,-65.88 185,-54 198.83,-45.91 214.65,-37.38 227.22,-30.76\"/>\n<text text-anchor=\"middle\" x=\"195.5\" y=\"-57.8\" font-family=\"Times,serif\" font-size=\"14.00\">151</text>\n</g>\n<!-- major&#45;&#45;major -->\n<g id=\"edge19\" class=\"edge\">\n<title>major&#45;&#45;major</title>\n<path fill=\"none\" stroke=\"black\" d=\"M278.69,-26.11C290.19,-26.56 299.85,-23.86 299.85,-18 299.85,-12.14 290.19,-9.44 278.69,-9.89\"/>\n<text text-anchor=\"middle\" x=\"310.35\" y=\"-14.3\" font-family=\"Times,serif\" font-size=\"14.00\">222</text>\n</g>\n</g>\n</svg>\n",
      "text/plain": [
       "<graphviz.graphs.Graph at 0x12634e490>"
      ]
     },
     "execution_count": 13,
     "metadata": {},
     "output_type": "execute_result"
    }
   ],
   "source": [
    "import networkx as nx\n",
    "import graphviz\n",
    "import numpy as np\n",
    "import matplotlib.pyplot as plt\n",
    "\n",
    "df = df[df['label'] != 0]\n",
    "\n",
    "s = df['label'].astype(str).value_counts()\n",
    "\n",
    "\n",
    "tmp = (\n",
    "    s.reset_index(name='label')\n",
    "    .sort_values(by='index', key=lambda s: s.str.count('.'))\n",
    "    .pipe(lambda d: d.join(d['index'].str.extract(r'(?:([^.]+).)?(\\b[^.]+)$').bfill(axis=1)))\n",
    "    .drop_duplicates(subset=[0, 1])\n",
    "    .dropna(subset=[0, 1])\n",
    ")\n",
    "\n",
    "# Set up the node colors based on their label values\n",
    "#node_colors = {'major': 'lightblue', 'minor': 'olive', 'patch': 'gray', 'pre': 'beige', 'dev': 'green','post': 'pink', 'prerelease_version': 'orange'}\n",
    "\n",
    "# Set up the edge colors for major, minor and patch edges\n",
    "edge_colors = {('minor', 'major'): 'red', ('patch', 'minor'): 'blue', ('patch', 'major'): 'orange'}\n",
    "\n",
    "G = nx.from_pandas_edgelist(tmp, source=0, target=1,\n",
    "                            create_using=nx.Graph, edge_attr='label')\n",
    "\n",
    "dot = graphviz.Graph(graph_attr={'label': 'Label Occurence Graph for entire dataset', 'labelloc': 't', 'labeljust': 'c', 'labeldistance': '2.0'})\n",
    "for node in G.nodes:\n",
    "    dot.node(str(node))\n",
    "\n",
    "for edge in G.edges:\n",
    "    label = G.edges[edge]['label']\n",
    "    # Update the edge color only for major, minor and patch edges\n",
    "    if (edge[0], edge[1]) in edge_colors:\n",
    "        dot.edge(str(edge[0]), str(edge[1]), label=str(label), color=edge_colors[(edge[0], edge[1])])\n",
    "    else:\n",
    "        dot.edge(str(edge[0]), str(edge[1]), label=str(label))\n",
    "    \n",
    "dot\n"
   ]
  },
  {
   "cell_type": "code",
   "execution_count": 197,
   "metadata": {},
   "outputs": [
    {
     "data": {
      "image/svg+xml": "<?xml version=\"1.0\" encoding=\"UTF-8\" standalone=\"no\"?>\n<!DOCTYPE svg PUBLIC \"-//W3C//DTD SVG 1.1//EN\"\n \"http://www.w3.org/Graphics/SVG/1.1/DTD/svg11.dtd\">\n<!-- Generated by graphviz version 7.0.6 (20230106.0513)\n -->\n<!-- Pages: 1 -->\n<svg width=\"205pt\" height=\"415pt\"\n viewBox=\"0.00 0.00 205.00 415.00\" xmlns=\"http://www.w3.org/2000/svg\" xmlns:xlink=\"http://www.w3.org/1999/xlink\">\n<g id=\"graph0\" class=\"graph\" transform=\"scale(1 1) rotate(0) translate(4 411)\">\n<polygon fill=\"white\" stroke=\"none\" points=\"-4,4 -4,-411 201,-411 201,4 -4,4\"/>\n<text text-anchor=\"middle\" x=\"98.5\" y=\"-391.8\" font-family=\"Times,serif\" font-size=\"14.00\">Label Occurence Graph for 2017</text>\n<!-- pre -->\n<g id=\"node1\" class=\"node\">\n<title>pre</title>\n<ellipse fill=\"none\" stroke=\"black\" cx=\"101.42\" cy=\"-366\" rx=\"27\" ry=\"18\"/>\n<text text-anchor=\"middle\" x=\"101.42\" y=\"-362.3\" font-family=\"Times,serif\" font-size=\"14.00\">pre</text>\n</g>\n<!-- pre&#45;&#45;pre -->\n<g id=\"edge1\" class=\"edge\">\n<title>pre&#45;&#45;pre</title>\n<path fill=\"none\" stroke=\"black\" d=\"M125.96,-374.03C136.93,-374.79 146.42,-372.12 146.42,-366 146.42,-359.88 136.93,-357.21 125.96,-357.97\"/>\n<text text-anchor=\"middle\" x=\"153.42\" y=\"-362.3\" font-family=\"Times,serif\" font-size=\"14.00\">23</text>\n</g>\n<!-- patch -->\n<g id=\"node2\" class=\"node\">\n<title>patch</title>\n<ellipse fill=\"none\" stroke=\"black\" cx=\"101.42\" cy=\"-279\" rx=\"29.8\" ry=\"18\"/>\n<text text-anchor=\"middle\" x=\"101.42\" y=\"-275.3\" font-family=\"Times,serif\" font-size=\"14.00\">patch</text>\n</g>\n<!-- pre&#45;&#45;patch -->\n<g id=\"edge2\" class=\"edge\">\n<title>pre&#45;&#45;patch</title>\n<path fill=\"none\" stroke=\"black\" d=\"M101.42,-347.8C101.42,-333.15 101.42,-312.19 101.42,-297.47\"/>\n<text text-anchor=\"middle\" x=\"104.92\" y=\"-318.8\" font-family=\"Times,serif\" font-size=\"14.00\">1</text>\n</g>\n<!-- minor -->\n<g id=\"node3\" class=\"node\">\n<title>minor</title>\n<ellipse fill=\"none\" stroke=\"black\" cx=\"101.42\" cy=\"-192\" rx=\"32.49\" ry=\"18\"/>\n<text text-anchor=\"middle\" x=\"101.42\" y=\"-188.3\" font-family=\"Times,serif\" font-size=\"14.00\">minor</text>\n</g>\n<!-- pre&#45;&#45;minor -->\n<g id=\"edge4\" class=\"edge\">\n<title>pre&#45;&#45;minor</title>\n<path fill=\"none\" stroke=\"black\" d=\"M122.16,-353.88C141.05,-342.43 167.75,-322.67 179.42,-297 186.05,-282.44 186.05,-275.56 179.42,-261 168.12,-236.14 142.74,-216.83 123.99,-205.24\"/>\n<text text-anchor=\"middle\" x=\"187.92\" y=\"-275.3\" font-family=\"Times,serif\" font-size=\"14.00\">1</text>\n</g>\n<!-- major -->\n<g id=\"node4\" class=\"node\">\n<title>major</title>\n<ellipse fill=\"none\" stroke=\"black\" cx=\"37.42\" cy=\"-105\" rx=\"31.7\" ry=\"18\"/>\n<text text-anchor=\"middle\" x=\"37.42\" y=\"-101.3\" font-family=\"Times,serif\" font-size=\"14.00\">major</text>\n</g>\n<!-- pre&#45;&#45;major -->\n<g id=\"edge3\" class=\"edge\">\n<title>pre&#45;&#45;major</title>\n<path fill=\"none\" stroke=\"black\" d=\"M90.97,-349.01C82.49,-335.54 70.62,-315.55 62.42,-297 46.01,-259.85 41.83,-249.94 34.42,-210 30.04,-186.37 32.09,-180.03 31.42,-156 31.24,-149.34 30.86,-147.64 31.42,-141 31.91,-135.23 32.85,-128.97 33.85,-123.37\"/>\n<text text-anchor=\"middle\" x=\"45.92\" y=\"-231.8\" font-family=\"Times,serif\" font-size=\"14.00\">4</text>\n</g>\n<!-- patch&#45;&#45;patch -->\n<g id=\"edge5\" class=\"edge\">\n<title>patch&#45;&#45;patch</title>\n<path fill=\"none\" stroke=\"black\" d=\"M128.51,-287.08C139.77,-287.64 149.32,-284.95 149.32,-279 149.32,-273.05 139.77,-270.36 128.51,-270.92\"/>\n<text text-anchor=\"middle\" x=\"159.82\" y=\"-275.3\" font-family=\"Times,serif\" font-size=\"14.00\">194</text>\n</g>\n<!-- patch&#45;&#45;minor -->\n<g id=\"edge7\" class=\"edge\">\n<title>patch&#45;&#45;minor</title>\n<path fill=\"none\" stroke=\"blue\" d=\"M101.42,-260.8C101.42,-246.15 101.42,-225.19 101.42,-210.47\"/>\n<text text-anchor=\"middle\" x=\"104.92\" y=\"-231.8\" font-family=\"Times,serif\" font-size=\"14.00\">1</text>\n</g>\n<!-- patch&#45;&#45;major -->\n<g id=\"edge6\" class=\"edge\">\n<title>patch&#45;&#45;major</title>\n<path fill=\"none\" stroke=\"orange\" d=\"M85.32,-263.54C72.36,-250.84 54.94,-231.12 46.42,-210 34.84,-181.26 34.71,-144.51 35.91,-123.28\"/>\n<text text-anchor=\"middle\" x=\"53.42\" y=\"-188.3\" font-family=\"Times,serif\" font-size=\"14.00\">50</text>\n</g>\n<!-- post -->\n<g id=\"node5\" class=\"node\">\n<title>post</title>\n<ellipse fill=\"none\" stroke=\"black\" cx=\"137.42\" cy=\"-18\" rx=\"27\" ry=\"18\"/>\n<text text-anchor=\"middle\" x=\"137.42\" y=\"-14.3\" font-family=\"Times,serif\" font-size=\"14.00\">post</text>\n</g>\n<!-- patch&#45;&#45;post -->\n<g id=\"edge8\" class=\"edge\">\n<title>patch&#45;&#45;post</title>\n<path fill=\"none\" stroke=\"black\" d=\"M122.23,-265.63C139.84,-253.84 163.85,-234.3 174.42,-210 200.91,-149.14 164.93,-69.18 146.78,-35.29\"/>\n<text text-anchor=\"middle\" x=\"187.92\" y=\"-144.8\" font-family=\"Times,serif\" font-size=\"14.00\">1</text>\n</g>\n<!-- minor&#45;&#45;minor -->\n<g id=\"edge9\" class=\"edge\">\n<title>minor&#45;&#45;minor</title>\n<path fill=\"none\" stroke=\"black\" d=\"M130.99,-200.12C142.42,-200.49 151.92,-197.78 151.92,-192 151.92,-186.22 142.42,-183.51 130.99,-183.88\"/>\n<text text-anchor=\"middle\" x=\"158.92\" y=\"-188.3\" font-family=\"Times,serif\" font-size=\"14.00\">27</text>\n</g>\n<!-- minor&#45;&#45;major -->\n<g id=\"edge10\" class=\"edge\">\n<title>minor&#45;&#45;major</title>\n<path fill=\"none\" stroke=\"red\" d=\"M89.39,-175.01C77.94,-159.82 60.83,-137.09 49.41,-121.92\"/>\n<text text-anchor=\"middle\" x=\"80.42\" y=\"-144.8\" font-family=\"Times,serif\" font-size=\"14.00\">43</text>\n</g>\n<!-- minor&#45;&#45;post -->\n<g id=\"edge11\" class=\"edge\">\n<title>minor&#45;&#45;post</title>\n<path fill=\"none\" stroke=\"black\" d=\"M105.01,-173.88C111.89,-141 126.89,-69.34 133.8,-36.31\"/>\n<text text-anchor=\"middle\" x=\"126.92\" y=\"-101.3\" font-family=\"Times,serif\" font-size=\"14.00\">2</text>\n</g>\n<!-- major&#45;&#45;major -->\n<g id=\"edge12\" class=\"edge\">\n<title>major&#45;&#45;major</title>\n<path fill=\"none\" stroke=\"black\" d=\"M66.11,-113.11C77.61,-113.56 87.27,-110.86 87.27,-105 87.27,-99.14 77.61,-96.44 66.11,-96.89\"/>\n<text text-anchor=\"middle\" x=\"94.27\" y=\"-101.3\" font-family=\"Times,serif\" font-size=\"14.00\">36</text>\n</g>\n<!-- major&#45;&#45;post -->\n<g id=\"edge13\" class=\"edge\">\n<title>major&#45;&#45;post</title>\n<path fill=\"none\" stroke=\"black\" d=\"M54.39,-89.58C73.11,-73.67 103.02,-48.24 121.37,-32.64\"/>\n<text text-anchor=\"middle\" x=\"96.92\" y=\"-57.8\" font-family=\"Times,serif\" font-size=\"14.00\">1</text>\n</g>\n</g>\n</svg>\n",
      "text/plain": [
       "<graphviz.graphs.Graph at 0x127c788d0>"
      ]
     },
     "execution_count": 197,
     "metadata": {},
     "output_type": "execute_result"
    }
   ],
   "source": [
    "import networkx as nx\n",
    "import graphviz\n",
    "import numpy as np\n",
    "import matplotlib.pyplot as plt\n",
    "\n",
    "df_2017 = df_2017[df_2017['label'] != 0]\n",
    "\n",
    "s = df_2017['label'].astype(str).value_counts()\n",
    "\n",
    "\n",
    "tmp = (\n",
    "    s.reset_index(name='label')\n",
    "    .sort_values(by='index', key=lambda s: s.str.count('.'))\n",
    "    .pipe(lambda d: d.join(d['index'].str.extract(r'(?:([^.]+).)?(\\b[^.]+)$').bfill(axis=1)))\n",
    "    .drop_duplicates(subset=[0, 1])\n",
    "    .dropna(subset=[0, 1])\n",
    ")\n",
    "\n",
    "# Set up the node colors based on their label values\n",
    "#node_colors = {'major': 'lightblue', 'minor': 'olive', 'patch': 'gray', 'pre': 'beige', 'dev': 'green','post': 'pink', 'prerelease_version': 'orange'}\n",
    "\n",
    "# Set up the edge colors for major, minor and patch edges\n",
    "edge_colors = {('minor', 'major'): 'red', ('patch', 'minor'): 'blue', ('patch', 'major'): 'orange'}\n",
    "\n",
    "G = nx.from_pandas_edgelist(tmp, source=0, target=1,\n",
    "                            create_using=nx.Graph, edge_attr='label')\n",
    "\n",
    "dot = graphviz.Graph(graph_attr={'label': 'Label Occurence Graph for 2017', 'labelloc': 't', 'labeljust': 'c', 'labeldistance': '2.0'})\n",
    "\n",
    "for node in G.nodes:\n",
    "    dot.node(str(node))\n",
    "\n",
    "for edge in G.edges:\n",
    "    label = G.edges[edge]['label']\n",
    "    # Update the edge color only for major, minor and patch edges\n",
    "    if (edge[0], edge[1]) in edge_colors:\n",
    "        dot.edge(str(edge[0]), str(edge[1]), label=str(label), color=edge_colors[(edge[0], edge[1])])\n",
    "    else:\n",
    "        dot.edge(str(edge[0]), str(edge[1]), label=str(label))\n",
    "\n",
    "dot\n",
    "\n"
   ]
  },
  {
   "cell_type": "code",
   "execution_count": 199,
   "metadata": {},
   "outputs": [
    {
     "data": {
      "image/svg+xml": "<?xml version=\"1.0\" encoding=\"UTF-8\" standalone=\"no\"?>\n<!DOCTYPE svg PUBLIC \"-//W3C//DTD SVG 1.1//EN\"\n \"http://www.w3.org/Graphics/SVG/1.1/DTD/svg11.dtd\">\n<!-- Generated by graphviz version 7.0.6 (20230106.0513)\n -->\n<!-- Pages: 1 -->\n<svg width=\"229pt\" height=\"328pt\"\n viewBox=\"0.00 0.00 228.90 328.00\" xmlns=\"http://www.w3.org/2000/svg\" xmlns:xlink=\"http://www.w3.org/1999/xlink\">\n<g id=\"graph0\" class=\"graph\" transform=\"scale(1 1) rotate(0) translate(4 324)\">\n<polygon fill=\"white\" stroke=\"none\" points=\"-4,4 -4,-324 224.9,-324 224.9,4 -4,4\"/>\n<text text-anchor=\"middle\" x=\"110.45\" y=\"-304.8\" font-family=\"Times,serif\" font-size=\"14.00\">Label Occurence Graph for 2016</text>\n<!-- pre -->\n<g id=\"node1\" class=\"node\">\n<title>pre</title>\n<ellipse fill=\"none\" stroke=\"black\" cx=\"27\" cy=\"-279\" rx=\"27\" ry=\"18\"/>\n<text text-anchor=\"middle\" x=\"27\" y=\"-275.3\" font-family=\"Times,serif\" font-size=\"14.00\">pre</text>\n</g>\n<!-- pre&#45;&#45;pre -->\n<g id=\"edge1\" class=\"edge\">\n<title>pre&#45;&#45;pre</title>\n<path fill=\"none\" stroke=\"black\" d=\"M51.53,-287.03C62.51,-287.79 72,-285.12 72,-279 72,-272.88 62.51,-270.21 51.53,-270.97\"/>\n<text text-anchor=\"middle\" x=\"79\" y=\"-275.3\" font-family=\"Times,serif\" font-size=\"14.00\">18</text>\n</g>\n<!-- major -->\n<g id=\"node3\" class=\"node\">\n<title>major</title>\n<ellipse fill=\"none\" stroke=\"black\" cx=\"71\" cy=\"-192\" rx=\"31.7\" ry=\"18\"/>\n<text text-anchor=\"middle\" x=\"71\" y=\"-188.3\" font-family=\"Times,serif\" font-size=\"14.00\">major</text>\n</g>\n<!-- pre&#45;&#45;major -->\n<g id=\"edge2\" class=\"edge\">\n<title>pre&#45;&#45;major</title>\n<path fill=\"none\" stroke=\"black\" d=\"M35.48,-261.61C43.23,-246.66 54.61,-224.66 62.39,-209.63\"/>\n<text text-anchor=\"middle\" x=\"55.5\" y=\"-231.8\" font-family=\"Times,serif\" font-size=\"14.00\">1</text>\n</g>\n<!-- minor -->\n<g id=\"node4\" class=\"node\">\n<title>minor</title>\n<ellipse fill=\"none\" stroke=\"black\" cx=\"71\" cy=\"-105\" rx=\"32.49\" ry=\"18\"/>\n<text text-anchor=\"middle\" x=\"71\" y=\"-101.3\" font-family=\"Times,serif\" font-size=\"14.00\">minor</text>\n</g>\n<!-- pre&#45;&#45;minor -->\n<g id=\"edge3\" class=\"edge\">\n<title>pre&#45;&#45;minor</title>\n<path fill=\"none\" stroke=\"black\" d=\"M22.88,-260.96C18.58,-239.96 13.65,-203.45 23,-174 29.47,-153.62 44.5,-134.07 56.03,-121.21\"/>\n<text text-anchor=\"middle\" x=\"26.5\" y=\"-188.3\" font-family=\"Times,serif\" font-size=\"14.00\">5</text>\n</g>\n<!-- patch -->\n<g id=\"node2\" class=\"node\">\n<title>patch</title>\n<ellipse fill=\"none\" stroke=\"black\" cx=\"159\" cy=\"-279\" rx=\"29.8\" ry=\"18\"/>\n<text text-anchor=\"middle\" x=\"159\" y=\"-275.3\" font-family=\"Times,serif\" font-size=\"14.00\">patch</text>\n</g>\n<!-- patch&#45;&#45;patch -->\n<g id=\"edge4\" class=\"edge\">\n<title>patch&#45;&#45;patch</title>\n<path fill=\"none\" stroke=\"black\" d=\"M186.08,-287.08C197.35,-287.64 206.9,-284.95 206.9,-279 206.9,-273.05 197.35,-270.36 186.08,-270.92\"/>\n<text text-anchor=\"middle\" x=\"213.9\" y=\"-275.3\" font-family=\"Times,serif\" font-size=\"14.00\">50</text>\n</g>\n<!-- patch&#45;&#45;major -->\n<g id=\"edge5\" class=\"edge\">\n<title>patch&#45;&#45;major</title>\n<path fill=\"none\" stroke=\"orange\" d=\"M143.67,-263.19C127.62,-247.69 102.55,-223.47 86.45,-207.92\"/>\n<text text-anchor=\"middle\" x=\"127\" y=\"-231.8\" font-family=\"Times,serif\" font-size=\"14.00\">25</text>\n</g>\n<!-- patch&#45;&#45;minor -->\n<g id=\"edge6\" class=\"edge\">\n<title>patch&#45;&#45;minor</title>\n<path fill=\"none\" stroke=\"blue\" d=\"M159.91,-260.74C160.32,-239.19 158.55,-201.8 144,-174 131.88,-150.83 108.66,-131.33 91.65,-119.24\"/>\n<text text-anchor=\"middle\" x=\"162\" y=\"-188.3\" font-family=\"Times,serif\" font-size=\"14.00\">23</text>\n</g>\n<!-- major&#45;&#45;major -->\n<g id=\"edge7\" class=\"edge\">\n<title>major&#45;&#45;major</title>\n<path fill=\"none\" stroke=\"black\" d=\"M99.69,-200.11C111.19,-200.56 120.85,-197.86 120.85,-192 120.85,-186.14 111.19,-183.44 99.69,-183.89\"/>\n<text text-anchor=\"middle\" x=\"127.85\" y=\"-188.3\" font-family=\"Times,serif\" font-size=\"14.00\">34</text>\n</g>\n<!-- major&#45;&#45;minor -->\n<g id=\"edge8\" class=\"edge\">\n<title>major&#45;&#45;minor</title>\n<path fill=\"none\" stroke=\"red\" d=\"M71,-173.8C71,-159.15 71,-138.19 71,-123.47\"/>\n<text text-anchor=\"middle\" x=\"78\" y=\"-144.8\" font-family=\"Times,serif\" font-size=\"14.00\">62</text>\n</g>\n<!-- minor&#45;&#45;minor -->\n<g id=\"edge9\" class=\"edge\">\n<title>minor&#45;&#45;minor</title>\n<path fill=\"none\" stroke=\"black\" d=\"M100.57,-113.12C112,-113.49 121.5,-110.78 121.5,-105 121.5,-99.22 112,-96.51 100.57,-96.88\"/>\n<text text-anchor=\"middle\" x=\"128.5\" y=\"-101.3\" font-family=\"Times,serif\" font-size=\"14.00\">27</text>\n</g>\n<!-- dev -->\n<g id=\"node5\" class=\"node\">\n<title>dev</title>\n<ellipse fill=\"none\" stroke=\"black\" cx=\"71\" cy=\"-18\" rx=\"27\" ry=\"18\"/>\n<text text-anchor=\"middle\" x=\"71\" y=\"-14.3\" font-family=\"Times,serif\" font-size=\"14.00\">dev</text>\n</g>\n<!-- minor&#45;&#45;dev -->\n<g id=\"edge10\" class=\"edge\">\n<title>minor&#45;&#45;dev</title>\n<path fill=\"none\" stroke=\"black\" d=\"M71,-86.8C71,-72.15 71,-51.19 71,-36.47\"/>\n<text text-anchor=\"middle\" x=\"74.5\" y=\"-57.8\" font-family=\"Times,serif\" font-size=\"14.00\">1</text>\n</g>\n</g>\n</svg>\n",
      "text/plain": [
       "<graphviz.graphs.Graph at 0x12e257490>"
      ]
     },
     "execution_count": 199,
     "metadata": {},
     "output_type": "execute_result"
    }
   ],
   "source": [
    "import networkx as nx\n",
    "import graphviz\n",
    "import numpy as np\n",
    "import matplotlib.pyplot as plt\n",
    "\n",
    "df_2016 = df_2016[df_2016['label'] != 0]\n",
    "\n",
    "s = df_2016['label'].astype(str).value_counts()\n",
    "\n",
    "\n",
    "tmp = (\n",
    "    s.reset_index(name='label')\n",
    "    .sort_values(by='index', key=lambda s: s.str.count('.'))\n",
    "    .pipe(lambda d: d.join(d['index'].str.extract(r'(?:([^.]+).)?(\\b[^.]+)$').bfill(axis=1)))\n",
    "    .drop_duplicates(subset=[0, 1])\n",
    "    .dropna(subset=[0, 1])\n",
    ")\n",
    "\n",
    "# Set up the node colors based on their label values\n",
    "#node_colors = {'major': 'lightblue', 'minor': 'olive', 'patch': 'gray', 'pre': 'beige', 'dev': 'green','post': 'pink', 'prerelease_version': 'orange'}\n",
    "\n",
    "# Set up the edge colors for major, minor and patch edges\n",
    "edge_colors = {('major', 'minor'): 'red', ('patch', 'minor'): 'blue', ('patch', 'major'): 'orange'}\n",
    "\n",
    "G = nx.from_pandas_edgelist(tmp, source=0, target=1,\n",
    "                            create_using=nx.Graph, edge_attr='label')\n",
    "\n",
    "\n",
    "dot = graphviz.Graph(graph_attr={'label': 'Label Occurence Graph for 2016', 'labelloc': 't', 'labeljust': 'c', 'labeldistance': '2.0'})\n",
    "for node in G.nodes:\n",
    "    dot.node(str(node))\n",
    "\n",
    "for edge in G.edges:\n",
    "    label = G.edges[edge]['label']\n",
    "    # Update the edge color only for major, minor and patch edges\n",
    "    if (edge[0], edge[1]) in edge_colors:\n",
    "        dot.edge(str(edge[0]), str(edge[1]), label=str(label), color=edge_colors[(edge[0], edge[1])])\n",
    "    else:\n",
    "        dot.edge(str(edge[0]), str(edge[1]), label=str(label))\n",
    "    \n",
    "dot\n"
   ]
  },
  {
   "cell_type": "code",
   "execution_count": 200,
   "metadata": {},
   "outputs": [
    {
     "data": {
      "image/svg+xml": "<?xml version=\"1.0\" encoding=\"UTF-8\" standalone=\"no\"?>\n<!DOCTYPE svg PUBLIC \"-//W3C//DTD SVG 1.1//EN\"\n \"http://www.w3.org/Graphics/SVG/1.1/DTD/svg11.dtd\">\n<!-- Generated by graphviz version 7.0.6 (20230106.0513)\n -->\n<!-- Pages: 1 -->\n<svg width=\"205pt\" height=\"328pt\"\n viewBox=\"0.00 0.00 205.00 328.00\" xmlns=\"http://www.w3.org/2000/svg\" xmlns:xlink=\"http://www.w3.org/1999/xlink\">\n<g id=\"graph0\" class=\"graph\" transform=\"scale(1 1) rotate(0) translate(4 324)\">\n<polygon fill=\"white\" stroke=\"none\" points=\"-4,4 -4,-324 201,-324 201,4 -4,4\"/>\n<text text-anchor=\"middle\" x=\"98.5\" y=\"-304.8\" font-family=\"Times,serif\" font-size=\"14.00\">Label Occurence Graph for 2015</text>\n<!-- pre -->\n<g id=\"node1\" class=\"node\">\n<title>pre</title>\n<ellipse fill=\"none\" stroke=\"black\" cx=\"91.18\" cy=\"-279\" rx=\"27\" ry=\"18\"/>\n<text text-anchor=\"middle\" x=\"91.18\" y=\"-275.3\" font-family=\"Times,serif\" font-size=\"14.00\">pre</text>\n</g>\n<!-- pre&#45;&#45;pre -->\n<g id=\"edge1\" class=\"edge\">\n<title>pre&#45;&#45;pre</title>\n<path fill=\"none\" stroke=\"black\" d=\"M115.71,-287.03C126.68,-287.79 136.18,-285.12 136.18,-279 136.18,-272.88 126.68,-270.21 115.71,-270.97\"/>\n<text text-anchor=\"middle\" x=\"143.18\" y=\"-275.3\" font-family=\"Times,serif\" font-size=\"14.00\">14</text>\n</g>\n<!-- major -->\n<g id=\"node2\" class=\"node\">\n<title>major</title>\n<ellipse fill=\"none\" stroke=\"black\" cx=\"41.18\" cy=\"-192\" rx=\"31.7\" ry=\"18\"/>\n<text text-anchor=\"middle\" x=\"41.18\" y=\"-188.3\" font-family=\"Times,serif\" font-size=\"14.00\">major</text>\n</g>\n<!-- pre&#45;&#45;major -->\n<g id=\"edge2\" class=\"edge\">\n<title>pre&#45;&#45;major</title>\n<path fill=\"none\" stroke=\"black\" d=\"M81.77,-262.01C72.94,-247.01 59.8,-224.66 50.88,-209.5\"/>\n<text text-anchor=\"middle\" x=\"72.68\" y=\"-231.8\" font-family=\"Times,serif\" font-size=\"14.00\">5</text>\n</g>\n<!-- minor -->\n<g id=\"node3\" class=\"node\">\n<title>minor</title>\n<ellipse fill=\"none\" stroke=\"black\" cx=\"123.18\" cy=\"-105\" rx=\"32.49\" ry=\"18\"/>\n<text text-anchor=\"middle\" x=\"123.18\" y=\"-101.3\" font-family=\"Times,serif\" font-size=\"14.00\">minor</text>\n</g>\n<!-- pre&#45;&#45;minor -->\n<g id=\"edge3\" class=\"edge\">\n<title>pre&#45;&#45;minor</title>\n<path fill=\"none\" stroke=\"black\" d=\"M98.09,-261.27C103.4,-247.69 110.42,-227.93 114.18,-210 120.45,-180.02 122.36,-144.3 122.94,-123.48\"/>\n<text text-anchor=\"middle\" x=\"123.68\" y=\"-188.3\" font-family=\"Times,serif\" font-size=\"14.00\">3</text>\n</g>\n<!-- major&#45;&#45;major -->\n<g id=\"edge4\" class=\"edge\">\n<title>major&#45;&#45;major</title>\n<path fill=\"none\" stroke=\"black\" d=\"M69.86,-200.11C81.37,-200.56 91.02,-197.86 91.02,-192 91.02,-186.14 81.37,-183.44 69.86,-183.89\"/>\n<text text-anchor=\"middle\" x=\"98.02\" y=\"-188.3\" font-family=\"Times,serif\" font-size=\"14.00\">35</text>\n</g>\n<!-- major&#45;&#45;minor -->\n<g id=\"edge5\" class=\"edge\">\n<title>major&#45;&#45;minor</title>\n<path fill=\"none\" stroke=\"red\" d=\"M55.83,-175.8C70.67,-160.43 93.48,-136.78 108.37,-121.35\"/>\n<text text-anchor=\"middle\" x=\"94.18\" y=\"-144.8\" font-family=\"Times,serif\" font-size=\"14.00\">27</text>\n</g>\n<!-- patch -->\n<g id=\"node4\" class=\"node\">\n<title>patch</title>\n<ellipse fill=\"none\" stroke=\"black\" cx=\"41.18\" cy=\"-18\" rx=\"29.8\" ry=\"18\"/>\n<text text-anchor=\"middle\" x=\"41.18\" y=\"-14.3\" font-family=\"Times,serif\" font-size=\"14.00\">patch</text>\n</g>\n<!-- major&#45;&#45;patch -->\n<g id=\"edge6\" class=\"edge\">\n<title>major&#45;&#45;patch</title>\n<path fill=\"none\" stroke=\"orange\" d=\"M41.18,-173.56C41.18,-140.59 41.18,-69.49 41.18,-36.48\"/>\n<text text-anchor=\"middle\" x=\"48.18\" y=\"-101.3\" font-family=\"Times,serif\" font-size=\"14.00\">19</text>\n</g>\n<!-- minor&#45;&#45;minor -->\n<g id=\"edge7\" class=\"edge\">\n<title>minor&#45;&#45;minor</title>\n<path fill=\"none\" stroke=\"black\" d=\"M152.74,-113.12C164.17,-113.49 173.67,-110.78 173.67,-105 173.67,-99.22 164.17,-96.51 152.74,-96.88\"/>\n<text text-anchor=\"middle\" x=\"180.67\" y=\"-101.3\" font-family=\"Times,serif\" font-size=\"14.00\">12</text>\n</g>\n<!-- minor&#45;&#45;patch -->\n<g id=\"edge8\" class=\"edge\">\n<title>minor&#45;&#45;patch</title>\n<path fill=\"none\" stroke=\"blue\" d=\"M108.52,-88.8C93.59,-73.33 70.59,-49.49 55.71,-34.06\"/>\n<text text-anchor=\"middle\" x=\"90.68\" y=\"-57.8\" font-family=\"Times,serif\" font-size=\"14.00\">4</text>\n</g>\n<!-- post -->\n<g id=\"node5\" class=\"node\">\n<title>post</title>\n<ellipse fill=\"none\" stroke=\"black\" cx=\"141.18\" cy=\"-18\" rx=\"27\" ry=\"18\"/>\n<text text-anchor=\"middle\" x=\"141.18\" y=\"-14.3\" font-family=\"Times,serif\" font-size=\"14.00\">post</text>\n</g>\n<!-- minor&#45;&#45;post -->\n<g id=\"edge9\" class=\"edge\">\n<title>minor&#45;&#45;post</title>\n<path fill=\"none\" stroke=\"black\" d=\"M126.82,-86.8C129.94,-72.05 134.42,-50.92 137.54,-36.18\"/>\n<text text-anchor=\"middle\" x=\"137.68\" y=\"-57.8\" font-family=\"Times,serif\" font-size=\"14.00\">1</text>\n</g>\n<!-- patch&#45;&#45;patch -->\n<g id=\"edge10\" class=\"edge\">\n<title>patch&#45;&#45;patch</title>\n<path fill=\"none\" stroke=\"black\" d=\"M68.26,-26.08C79.52,-26.64 89.07,-23.95 89.07,-18 89.07,-12.05 79.52,-9.36 68.26,-9.92\"/>\n<text text-anchor=\"middle\" x=\"92.57\" y=\"-14.3\" font-family=\"Times,serif\" font-size=\"14.00\">1</text>\n</g>\n</g>\n</svg>\n",
      "text/plain": [
       "<graphviz.graphs.Graph at 0x1279f1950>"
      ]
     },
     "execution_count": 200,
     "metadata": {},
     "output_type": "execute_result"
    }
   ],
   "source": [
    "import networkx as nx\n",
    "import graphviz\n",
    "import numpy as np\n",
    "import matplotlib.pyplot as plt\n",
    "\n",
    "df_2015 = df_2015[df_2015['label'] != 0]\n",
    "\n",
    "s = df_2015['label'].astype(str).value_counts()\n",
    "\n",
    "tmp = (\n",
    "    s.reset_index(name='label')\n",
    "    .sort_values(by='index', key=lambda s: s.str.count('.'))\n",
    "    .pipe(lambda d: d.join(d['index'].str.extract(r'(?:([^.]+).)?(\\b[^.]+)$').bfill(axis=1)))\n",
    "    .drop_duplicates(subset=[0, 1])\n",
    "    .dropna(subset=[0, 1])\n",
    ")\n",
    "\n",
    "# Set up the node colors based on their label values\n",
    "#node_colors = {'major': 'lightblue', 'minor': 'olive', 'patch': 'gray', 'pre': 'beige', 'dev': 'green','post': 'pink', 'prerelease_version': 'orange'}\n",
    "\n",
    "# Set up the edge colors for major, minor and patch edges\n",
    "edge_colors = {('major', 'minor'): 'red', ('minor', 'patch'): 'blue', ('major', 'patch'): 'orange'}\n",
    "\n",
    "G = nx.from_pandas_edgelist(tmp, source=0, target=1,\n",
    "                            create_using=nx.Graph, edge_attr='label')\n",
    "\n",
    "\n",
    "dot = graphviz.Graph(graph_attr={'label': 'Label Occurence Graph for 2015', 'labelloc': 't', 'labeljust': 'c', 'labeldistance': '2.0'})\n",
    "for node in G.nodes:\n",
    "    dot.node(str(node))\n",
    "\n",
    "for edge in G.edges:\n",
    "    label = G.edges[edge]['label']\n",
    "    # Update the edge color only for major, minor and patch edges\n",
    "    if (edge[0], edge[1]) in edge_colors:\n",
    "        dot.edge(str(edge[0]), str(edge[1]), label=str(label), color=edge_colors[(edge[0], edge[1])])\n",
    "    else:\n",
    "        dot.edge(str(edge[0]), str(edge[1]), label=str(label))\n",
    "    \n",
    "dot"
   ]
  },
  {
   "cell_type": "code",
   "execution_count": 201,
   "metadata": {},
   "outputs": [
    {
     "data": {
      "image/svg+xml": "<?xml version=\"1.0\" encoding=\"UTF-8\" standalone=\"no\"?>\n<!DOCTYPE svg PUBLIC \"-//W3C//DTD SVG 1.1//EN\"\n \"http://www.w3.org/Graphics/SVG/1.1/DTD/svg11.dtd\">\n<!-- Generated by graphviz version 7.0.6 (20230106.0513)\n -->\n<!-- Pages: 1 -->\n<svg width=\"278pt\" height=\"328pt\"\n viewBox=\"0.00 0.00 278.50 328.00\" xmlns=\"http://www.w3.org/2000/svg\" xmlns:xlink=\"http://www.w3.org/1999/xlink\">\n<g id=\"graph0\" class=\"graph\" transform=\"scale(1 1) rotate(0) translate(4 324)\">\n<polygon fill=\"white\" stroke=\"none\" points=\"-4,4 -4,-324 274.5,-324 274.5,4 -4,4\"/>\n<text text-anchor=\"middle\" x=\"135.25\" y=\"-304.8\" font-family=\"Times,serif\" font-size=\"14.00\">Label Occurence Graph for 2018</text>\n<!-- pre -->\n<g id=\"node1\" class=\"node\">\n<title>pre</title>\n<ellipse fill=\"none\" stroke=\"black\" cx=\"77.5\" cy=\"-279\" rx=\"27\" ry=\"18\"/>\n<text text-anchor=\"middle\" x=\"77.5\" y=\"-275.3\" font-family=\"Times,serif\" font-size=\"14.00\">pre</text>\n</g>\n<!-- pre&#45;&#45;pre -->\n<g id=\"edge1\" class=\"edge\">\n<title>pre&#45;&#45;pre</title>\n<path fill=\"none\" stroke=\"black\" d=\"M102.03,-287.03C113,-287.79 122.5,-285.12 122.5,-279 122.5,-272.88 113,-270.21 102.03,-270.97\"/>\n<text text-anchor=\"middle\" x=\"129.5\" y=\"-275.3\" font-family=\"Times,serif\" font-size=\"14.00\">10</text>\n</g>\n<!-- patch -->\n<g id=\"node3\" class=\"node\">\n<title>patch</title>\n<ellipse fill=\"none\" stroke=\"black\" cx=\"77.5\" cy=\"-192\" rx=\"29.8\" ry=\"18\"/>\n<text text-anchor=\"middle\" x=\"77.5\" y=\"-188.3\" font-family=\"Times,serif\" font-size=\"14.00\">patch</text>\n</g>\n<!-- pre&#45;&#45;patch -->\n<g id=\"edge3\" class=\"edge\">\n<title>pre&#45;&#45;patch</title>\n<path fill=\"none\" stroke=\"black\" d=\"M77.5,-260.8C77.5,-246.15 77.5,-225.19 77.5,-210.47\"/>\n<text text-anchor=\"middle\" x=\"81\" y=\"-231.8\" font-family=\"Times,serif\" font-size=\"14.00\">5</text>\n</g>\n<!-- minor -->\n<g id=\"node4\" class=\"node\">\n<title>minor</title>\n<ellipse fill=\"none\" stroke=\"black\" cx=\"32.5\" cy=\"-105\" rx=\"32.49\" ry=\"18\"/>\n<text text-anchor=\"middle\" x=\"32.5\" y=\"-101.3\" font-family=\"Times,serif\" font-size=\"14.00\">minor</text>\n</g>\n<!-- pre&#45;&#45;minor -->\n<g id=\"edge4\" class=\"edge\">\n<title>pre&#45;&#45;minor</title>\n<path fill=\"none\" stroke=\"black\" d=\"M63.59,-263.19C52.48,-250.27 37.76,-230.44 31.5,-210 22.5,-180.65 25.89,-144.42 29.19,-123.39\"/>\n<text text-anchor=\"middle\" x=\"35\" y=\"-188.3\" font-family=\"Times,serif\" font-size=\"14.00\">1</text>\n</g>\n<!-- major -->\n<g id=\"node5\" class=\"node\">\n<title>major</title>\n<ellipse fill=\"none\" stroke=\"black\" cx=\"153.5\" cy=\"-18\" rx=\"31.7\" ry=\"18\"/>\n<text text-anchor=\"middle\" x=\"153.5\" y=\"-14.3\" font-family=\"Times,serif\" font-size=\"14.00\">major</text>\n</g>\n<!-- pre&#45;&#45;major -->\n<g id=\"edge2\" class=\"edge\">\n<title>pre&#45;&#45;major</title>\n<path fill=\"none\" stroke=\"black\" d=\"M98.23,-266.88C117.13,-255.43 143.82,-235.67 155.5,-210 182.34,-150.99 167.02,-70.72 158.28,-36.07\"/>\n<text text-anchor=\"middle\" x=\"173\" y=\"-144.8\" font-family=\"Times,serif\" font-size=\"14.00\">1</text>\n</g>\n<!-- post -->\n<g id=\"node2\" class=\"node\">\n<title>post</title>\n<ellipse fill=\"none\" stroke=\"black\" cx=\"218.5\" cy=\"-279\" rx=\"27\" ry=\"18\"/>\n<text text-anchor=\"middle\" x=\"218.5\" y=\"-275.3\" font-family=\"Times,serif\" font-size=\"14.00\">post</text>\n</g>\n<!-- post&#45;&#45;post -->\n<g id=\"edge5\" class=\"edge\">\n<title>post&#45;&#45;post</title>\n<path fill=\"none\" stroke=\"black\" d=\"M243.03,-287.03C254,-287.79 263.5,-285.12 263.5,-279 263.5,-272.88 254,-270.21 243.03,-270.97\"/>\n<text text-anchor=\"middle\" x=\"267\" y=\"-275.3\" font-family=\"Times,serif\" font-size=\"14.00\">3</text>\n</g>\n<!-- post&#45;&#45;patch -->\n<g id=\"edge6\" class=\"edge\">\n<title>post&#45;&#45;patch</title>\n<path fill=\"none\" stroke=\"black\" d=\"M198.89,-266.18C172.26,-250.12 124.87,-221.56 97.85,-205.27\"/>\n<text text-anchor=\"middle\" x=\"159\" y=\"-231.8\" font-family=\"Times,serif\" font-size=\"14.00\">1</text>\n</g>\n<!-- post&#45;&#45;major -->\n<g id=\"edge7\" class=\"edge\">\n<title>post&#45;&#45;major</title>\n<path fill=\"none\" stroke=\"black\" d=\"M219.81,-260.63C222.03,-221.49 223.28,-124.34 188.5,-54 184.54,-45.99 178.02,-38.71 171.67,-32.89\"/>\n<text text-anchor=\"middle\" x=\"220\" y=\"-144.8\" font-family=\"Times,serif\" font-size=\"14.00\">1</text>\n</g>\n<!-- patch&#45;&#45;patch -->\n<g id=\"edge8\" class=\"edge\">\n<title>patch&#45;&#45;patch</title>\n<path fill=\"none\" stroke=\"black\" d=\"M104.58,-200.08C115.84,-200.64 125.39,-197.95 125.39,-192 125.39,-186.05 115.84,-183.36 104.58,-183.92\"/>\n<text text-anchor=\"middle\" x=\"135.89\" y=\"-188.3\" font-family=\"Times,serif\" font-size=\"14.00\">443</text>\n</g>\n<!-- patch&#45;&#45;minor -->\n<g id=\"edge9\" class=\"edge\">\n<title>patch&#45;&#45;minor</title>\n<path fill=\"none\" stroke=\"blue\" d=\"M68.82,-174.61C60.9,-159.66 49.26,-137.66 41.3,-122.63\"/>\n<text text-anchor=\"middle\" x=\"65.5\" y=\"-144.8\" font-family=\"Times,serif\" font-size=\"14.00\">63</text>\n</g>\n<!-- patch&#45;&#45;major -->\n<g id=\"edge10\" class=\"edge\">\n<title>patch&#45;&#45;major</title>\n<path fill=\"none\" stroke=\"orange\" d=\"M84.92,-174.19C99.45,-141.31 131.49,-68.81 146.04,-35.87\"/>\n<text text-anchor=\"middle\" x=\"129.5\" y=\"-101.3\" font-family=\"Times,serif\" font-size=\"14.00\">45</text>\n</g>\n<!-- minor&#45;&#45;minor -->\n<g id=\"edge11\" class=\"edge\">\n<title>minor&#45;&#45;minor</title>\n<path fill=\"none\" stroke=\"black\" d=\"M62.06,-113.12C73.49,-113.49 82.99,-110.78 82.99,-105 82.99,-99.22 73.49,-96.51 62.06,-96.88\"/>\n<text text-anchor=\"middle\" x=\"89.99\" y=\"-101.3\" font-family=\"Times,serif\" font-size=\"14.00\">62</text>\n</g>\n<!-- minor&#45;&#45;major -->\n<g id=\"edge13\" class=\"edge\">\n<title>minor&#45;&#45;major</title>\n<path fill=\"none\" stroke=\"red\" d=\"M51.94,-90.34C74.52,-74.48 111.55,-48.47 134.1,-32.62\"/>\n<text text-anchor=\"middle\" x=\"106.5\" y=\"-57.8\" font-family=\"Times,serif\" font-size=\"14.00\">42</text>\n</g>\n<!-- dev -->\n<g id=\"node6\" class=\"node\">\n<title>dev</title>\n<ellipse fill=\"none\" stroke=\"black\" cx=\"32.5\" cy=\"-18\" rx=\"27\" ry=\"18\"/>\n<text text-anchor=\"middle\" x=\"32.5\" y=\"-14.3\" font-family=\"Times,serif\" font-size=\"14.00\">dev</text>\n</g>\n<!-- minor&#45;&#45;dev -->\n<g id=\"edge12\" class=\"edge\">\n<title>minor&#45;&#45;dev</title>\n<path fill=\"none\" stroke=\"black\" d=\"M32.5,-86.8C32.5,-72.15 32.5,-51.19 32.5,-36.47\"/>\n<text text-anchor=\"middle\" x=\"36\" y=\"-57.8\" font-family=\"Times,serif\" font-size=\"14.00\">1</text>\n</g>\n<!-- major&#45;&#45;major -->\n<g id=\"edge14\" class=\"edge\">\n<title>major&#45;&#45;major</title>\n<path fill=\"none\" stroke=\"black\" d=\"M182.18,-26.11C193.69,-26.56 203.34,-23.86 203.34,-18 203.34,-12.14 193.69,-9.44 182.18,-9.89\"/>\n<text text-anchor=\"middle\" x=\"210.34\" y=\"-14.3\" font-family=\"Times,serif\" font-size=\"14.00\">56</text>\n</g>\n</g>\n</svg>\n",
      "text/plain": [
       "<graphviz.graphs.Graph at 0x12e256b10>"
      ]
     },
     "execution_count": 201,
     "metadata": {},
     "output_type": "execute_result"
    }
   ],
   "source": [
    "import networkx as nx\n",
    "import graphviz\n",
    "import numpy as np\n",
    "import matplotlib.pyplot as plt\n",
    "\n",
    "df_2018 = df_2018[df_2018['label'] != 0]\n",
    "\n",
    "s = df_2018['label'].astype(str).value_counts()\n",
    "\n",
    "\n",
    "tmp = (\n",
    "    s.reset_index(name='label')\n",
    "    .sort_values(by='index', key=lambda s: s.str.count('.'))\n",
    "    .pipe(lambda d: d.join(d['index'].str.extract(r'(?:([^.]+).)?(\\b[^.]+)$').bfill(axis=1)))\n",
    "    .drop_duplicates(subset=[0, 1])\n",
    "    .dropna(subset=[0, 1])\n",
    ")\n",
    "\n",
    "# Set up the node colors based on their label values\n",
    "#node_colors = {'major': 'lightblue', 'minor': 'olive', 'patch': 'gray', 'pre': 'beige', 'dev': 'green','post': 'pink', 'prerelease_version': 'orange'}\n",
    "\n",
    "# Set up the edge colors for major, minor and patch edges\n",
    "edge_colors = {('minor', 'major'): 'red', ('patch', 'minor'): 'blue', ('patch', 'major'): 'orange'}\n",
    "\n",
    "G = nx.from_pandas_edgelist(tmp, source=0, target=1,\n",
    "                            create_using=nx.Graph, edge_attr='label')\n",
    "\n",
    "\n",
    "dot = graphviz.Graph(graph_attr={'label': 'Label Occurence Graph for 2018', 'labelloc': 't', 'labeljust': 'c', 'labeldistance': '2.0'})\n",
    "for node in G.nodes:\n",
    "    dot.node(str(node))\n",
    "\n",
    "for edge in G.edges:\n",
    "    label = G.edges[edge]['label']\n",
    "    # Update the edge color only for major, minor and patch edges\n",
    "    if (edge[0], edge[1]) in edge_colors:\n",
    "        dot.edge(str(edge[0]), str(edge[1]), label=str(label), color=edge_colors[(edge[0], edge[1])])\n",
    "    else:\n",
    "        dot.edge(str(edge[0]), str(edge[1]), label=str(label))\n",
    "    \n",
    "dot\n"
   ]
  },
  {
   "cell_type": "code",
   "execution_count": 202,
   "metadata": {},
   "outputs": [
    {
     "data": {
      "image/svg+xml": "<?xml version=\"1.0\" encoding=\"UTF-8\" standalone=\"no\"?>\n<!DOCTYPE svg PUBLIC \"-//W3C//DTD SVG 1.1//EN\"\n \"http://www.w3.org/Graphics/SVG/1.1/DTD/svg11.dtd\">\n<!-- Generated by graphviz version 7.0.6 (20230106.0513)\n -->\n<!-- Pages: 1 -->\n<svg width=\"380pt\" height=\"328pt\"\n viewBox=\"0.00 0.00 380.00 328.00\" xmlns=\"http://www.w3.org/2000/svg\" xmlns:xlink=\"http://www.w3.org/1999/xlink\">\n<g id=\"graph0\" class=\"graph\" transform=\"scale(1 1) rotate(0) translate(4 324)\">\n<polygon fill=\"white\" stroke=\"none\" points=\"-4,4 -4,-324 376,-324 376,4 -4,4\"/>\n<text text-anchor=\"middle\" x=\"186\" y=\"-304.8\" font-family=\"Times,serif\" font-size=\"14.00\">Label Occurence Graph for 2019</text>\n<!-- dev -->\n<g id=\"node1\" class=\"node\">\n<title>dev</title>\n<ellipse fill=\"none\" stroke=\"black\" cx=\"27\" cy=\"-105\" rx=\"27\" ry=\"18\"/>\n<text text-anchor=\"middle\" x=\"27\" y=\"-101.3\" font-family=\"Times,serif\" font-size=\"14.00\">dev</text>\n</g>\n<!-- dev&#45;&#45;dev -->\n<g id=\"edge1\" class=\"edge\">\n<title>dev&#45;&#45;dev</title>\n<path fill=\"none\" stroke=\"black\" d=\"M51.53,-113.03C62.51,-113.79 72,-111.12 72,-105 72,-98.88 62.51,-96.21 51.53,-96.97\"/>\n<text text-anchor=\"middle\" x=\"75.5\" y=\"-101.3\" font-family=\"Times,serif\" font-size=\"14.00\">4</text>\n</g>\n<!-- minor -->\n<g id=\"node6\" class=\"node\">\n<title>minor</title>\n<ellipse fill=\"none\" stroke=\"black\" cx=\"167\" cy=\"-18\" rx=\"32.49\" ry=\"18\"/>\n<text text-anchor=\"middle\" x=\"167\" y=\"-14.3\" font-family=\"Times,serif\" font-size=\"14.00\">minor</text>\n</g>\n<!-- dev&#45;&#45;minor -->\n<g id=\"edge2\" class=\"edge\">\n<title>dev&#45;&#45;minor</title>\n<path fill=\"none\" stroke=\"black\" d=\"M41.56,-89.52C52.96,-78.74 69.57,-64.2 86,-54 103.05,-43.42 123.86,-34.5 140.12,-28.32\"/>\n<text text-anchor=\"middle\" x=\"89.5\" y=\"-57.8\" font-family=\"Times,serif\" font-size=\"14.00\">4</text>\n</g>\n<!-- pre -->\n<g id=\"node2\" class=\"node\">\n<title>pre</title>\n<ellipse fill=\"none\" stroke=\"black\" cx=\"153\" cy=\"-279\" rx=\"27\" ry=\"18\"/>\n<text text-anchor=\"middle\" x=\"153\" y=\"-275.3\" font-family=\"Times,serif\" font-size=\"14.00\">pre</text>\n</g>\n<!-- pre&#45;&#45;pre -->\n<g id=\"edge3\" class=\"edge\">\n<title>pre&#45;&#45;pre</title>\n<path fill=\"none\" stroke=\"black\" d=\"M177.53,-287.03C188.51,-287.79 198,-285.12 198,-279 198,-272.88 188.51,-270.21 177.53,-270.97\"/>\n<text text-anchor=\"middle\" x=\"205\" y=\"-275.3\" font-family=\"Times,serif\" font-size=\"14.00\">19</text>\n</g>\n<!-- patch -->\n<g id=\"node4\" class=\"node\">\n<title>patch</title>\n<ellipse fill=\"none\" stroke=\"black\" cx=\"208\" cy=\"-192\" rx=\"29.8\" ry=\"18\"/>\n<text text-anchor=\"middle\" x=\"208\" y=\"-188.3\" font-family=\"Times,serif\" font-size=\"14.00\">patch</text>\n</g>\n<!-- pre&#45;&#45;patch -->\n<g id=\"edge6\" class=\"edge\">\n<title>pre&#45;&#45;patch</title>\n<path fill=\"none\" stroke=\"black\" d=\"M163.35,-262.01C173.12,-246.91 187.7,-224.38 197.51,-209.21\"/>\n<text text-anchor=\"middle\" x=\"187.5\" y=\"-231.8\" font-family=\"Times,serif\" font-size=\"14.00\">2</text>\n</g>\n<!-- major -->\n<g id=\"node5\" class=\"node\">\n<title>major</title>\n<ellipse fill=\"none\" stroke=\"black\" cx=\"167\" cy=\"-105\" rx=\"31.7\" ry=\"18\"/>\n<text text-anchor=\"middle\" x=\"167\" y=\"-101.3\" font-family=\"Times,serif\" font-size=\"14.00\">major</text>\n</g>\n<!-- pre&#45;&#45;major -->\n<g id=\"edge5\" class=\"edge\">\n<title>pre&#45;&#45;major</title>\n<path fill=\"none\" stroke=\"black\" d=\"M154.42,-260.56C157.11,-227.51 162.92,-156.12 165.6,-123.23\"/>\n<text text-anchor=\"middle\" x=\"165.5\" y=\"-188.3\" font-family=\"Times,serif\" font-size=\"14.00\">5</text>\n</g>\n<!-- pre&#45;&#45;minor -->\n<g id=\"edge4\" class=\"edge\">\n<title>pre&#45;&#45;minor</title>\n<path fill=\"none\" stroke=\"black\" d=\"M146.15,-261.35C133.33,-227.8 108.5,-149.92 126,-87 131.43,-67.48 144.14,-47.95 153.98,-34.87\"/>\n<text text-anchor=\"middle\" x=\"124.5\" y=\"-144.8\" font-family=\"Times,serif\" font-size=\"14.00\">1</text>\n</g>\n<!-- post -->\n<g id=\"node3\" class=\"node\">\n<title>post</title>\n<ellipse fill=\"none\" stroke=\"black\" cx=\"320\" cy=\"-279\" rx=\"27\" ry=\"18\"/>\n<text text-anchor=\"middle\" x=\"320\" y=\"-275.3\" font-family=\"Times,serif\" font-size=\"14.00\">post</text>\n</g>\n<!-- post&#45;&#45;post -->\n<g id=\"edge7\" class=\"edge\">\n<title>post&#45;&#45;post</title>\n<path fill=\"none\" stroke=\"black\" d=\"M344.53,-287.03C355.51,-287.79 365,-285.12 365,-279 365,-272.88 355.51,-270.21 344.53,-270.97\"/>\n<text text-anchor=\"middle\" x=\"368.5\" y=\"-275.3\" font-family=\"Times,serif\" font-size=\"14.00\">2</text>\n</g>\n<!-- post&#45;&#45;patch -->\n<g id=\"edge8\" class=\"edge\">\n<title>post&#45;&#45;patch</title>\n<path fill=\"none\" stroke=\"black\" d=\"M302.99,-265.09C282.18,-249.3 247.12,-222.69 225.91,-206.59\"/>\n<text text-anchor=\"middle\" x=\"273.5\" y=\"-231.8\" font-family=\"Times,serif\" font-size=\"14.00\">3</text>\n</g>\n<!-- post&#45;&#45;major -->\n<g id=\"edge9\" class=\"edge\">\n<title>post&#45;&#45;major</title>\n<path fill=\"none\" stroke=\"black\" d=\"M319.63,-260.69C318.3,-238.41 313.03,-199.54 293,-174 268.08,-142.21 224.03,-123.38 195.17,-113.87\"/>\n<text text-anchor=\"middle\" x=\"313.5\" y=\"-188.3\" font-family=\"Times,serif\" font-size=\"14.00\">2</text>\n</g>\n<!-- post&#45;&#45;minor -->\n<g id=\"edge10\" class=\"edge\">\n<title>post&#45;&#45;minor</title>\n<path fill=\"none\" stroke=\"black\" d=\"M325.85,-261.11C327.54,-255.43 329.16,-249.01 330,-243 334.29,-212.37 332.21,-202.83 321,-174 297.95,-114.71 291.11,-95.61 243,-54 229.05,-41.93 210.23,-33.22 194.82,-27.51\"/>\n<text text-anchor=\"middle\" x=\"316.5\" y=\"-144.8\" font-family=\"Times,serif\" font-size=\"14.00\">2</text>\n</g>\n<!-- patch&#45;&#45;patch -->\n<g id=\"edge11\" class=\"edge\">\n<title>patch&#45;&#45;patch</title>\n<path fill=\"none\" stroke=\"black\" d=\"M235.08,-200.08C246.35,-200.64 255.9,-197.95 255.9,-192 255.9,-186.05 246.35,-183.36 235.08,-183.92\"/>\n<text text-anchor=\"middle\" x=\"269.9\" y=\"-188.3\" font-family=\"Times,serif\" font-size=\"14.00\">1145</text>\n</g>\n<!-- patch&#45;&#45;major -->\n<g id=\"edge12\" class=\"edge\">\n<title>patch&#45;&#45;major</title>\n<path fill=\"none\" stroke=\"orange\" d=\"M199.9,-174.21C192.71,-159.31 182.27,-137.65 175.08,-122.76\"/>\n<text text-anchor=\"middle\" x=\"197\" y=\"-144.8\" font-family=\"Times,serif\" font-size=\"14.00\">63</text>\n</g>\n<!-- patch&#45;&#45;minor -->\n<g id=\"edge13\" class=\"edge\">\n<title>patch&#45;&#45;minor</title>\n<path fill=\"none\" stroke=\"blue\" d=\"M221.5,-175.55C237.74,-154.98 261.16,-117.63 247,-87 235.37,-61.85 209.35,-42.59 190.12,-31.1\"/>\n<text text-anchor=\"middle\" x=\"254.5\" y=\"-101.3\" font-family=\"Times,serif\" font-size=\"14.00\">2</text>\n</g>\n<!-- major&#45;&#45;major -->\n<g id=\"edge14\" class=\"edge\">\n<title>major&#45;&#45;major</title>\n<path fill=\"none\" stroke=\"black\" d=\"M195.69,-113.11C207.19,-113.56 216.85,-110.86 216.85,-105 216.85,-99.14 207.19,-96.44 195.69,-96.89\"/>\n<text text-anchor=\"middle\" x=\"227.35\" y=\"-101.3\" font-family=\"Times,serif\" font-size=\"14.00\">150</text>\n</g>\n<!-- major&#45;&#45;minor -->\n<g id=\"edge15\" class=\"edge\">\n<title>major&#45;&#45;minor</title>\n<path fill=\"none\" stroke=\"red\" d=\"M167,-86.8C167,-72.15 167,-51.19 167,-36.47\"/>\n<text text-anchor=\"middle\" x=\"174\" y=\"-57.8\" font-family=\"Times,serif\" font-size=\"14.00\">92</text>\n</g>\n<!-- minor&#45;&#45;minor -->\n<g id=\"edge16\" class=\"edge\">\n<title>minor&#45;&#45;minor</title>\n<path fill=\"none\" stroke=\"black\" d=\"M196.57,-26.12C208,-26.49 217.5,-23.78 217.5,-18 217.5,-12.22 208,-9.51 196.57,-9.88\"/>\n<text text-anchor=\"middle\" x=\"228\" y=\"-14.3\" font-family=\"Times,serif\" font-size=\"14.00\">143</text>\n</g>\n</g>\n</svg>\n",
      "text/plain": [
       "<graphviz.graphs.Graph at 0x12e102910>"
      ]
     },
     "execution_count": 202,
     "metadata": {},
     "output_type": "execute_result"
    }
   ],
   "source": [
    "import networkx as nx\n",
    "import graphviz\n",
    "import numpy as np\n",
    "import matplotlib.pyplot as plt\n",
    "\n",
    "df_2019 = df_2019[df_2019['label'] != 0]\n",
    "\n",
    "s = df_2019['label'].astype(str).value_counts()\n",
    "\n",
    "\n",
    "tmp = (\n",
    "    s.reset_index(name='label')\n",
    "    .sort_values(by='index', key=lambda s: s.str.count('.'))\n",
    "    .pipe(lambda d: d.join(d['index'].str.extract(r'(?:([^.]+).)?(\\b[^.]+)$').bfill(axis=1)))\n",
    "    .drop_duplicates(subset=[0, 1])\n",
    "    .dropna(subset=[0, 1])\n",
    ")\n",
    "\n",
    "# Set up the node colors based on their label values\n",
    "#node_colors = {'major': 'lightblue', 'minor': 'olive', 'patch': 'gray', 'pre': 'beige', 'dev': 'green','post': 'pink', 'prerelease_version': 'orange'}\n",
    "\n",
    "# Set up the edge colors for major, minor and patch edges\n",
    "edge_colors = {('major', 'minor'): 'red', ('patch', 'minor'): 'blue', ('patch', 'major'): 'orange'}\n",
    "\n",
    "G = nx.from_pandas_edgelist(tmp, source=0, target=1,\n",
    "                            create_using=nx.Graph, edge_attr='label')\n",
    "\n",
    "\n",
    "dot = graphviz.Graph(graph_attr={'label': 'Label Occurence Graph for 2019', 'labelloc': 't', 'labeljust': 'c', 'labeldistance': '2.0'})\n",
    "for node in G.nodes:\n",
    "    dot.node(str(node))\n",
    "\n",
    "for edge in G.edges:\n",
    "    label = G.edges[edge]['label']\n",
    "    # Update the edge color only for major, minor and patch edges\n",
    "    if (edge[0], edge[1]) in edge_colors:\n",
    "        dot.edge(str(edge[0]), str(edge[1]), label=str(label), color=edge_colors[(edge[0], edge[1])])\n",
    "    else:\n",
    "        dot.edge(str(edge[0]), str(edge[1]), label=str(label))\n",
    "    \n",
    "dot\n"
   ]
  },
  {
   "cell_type": "code",
   "execution_count": 203,
   "metadata": {},
   "outputs": [
    {
     "data": {
      "image/svg+xml": "<?xml version=\"1.0\" encoding=\"UTF-8\" standalone=\"no\"?>\n<!DOCTYPE svg PUBLIC \"-//W3C//DTD SVG 1.1//EN\"\n \"http://www.w3.org/Graphics/SVG/1.1/DTD/svg11.dtd\">\n<!-- Generated by graphviz version 7.0.6 (20230106.0513)\n -->\n<!-- Pages: 1 -->\n<svg width=\"317pt\" height=\"415pt\"\n viewBox=\"0.00 0.00 317.00 415.00\" xmlns=\"http://www.w3.org/2000/svg\" xmlns:xlink=\"http://www.w3.org/1999/xlink\">\n<g id=\"graph0\" class=\"graph\" transform=\"scale(1 1) rotate(0) translate(4 411)\">\n<polygon fill=\"white\" stroke=\"none\" points=\"-4,4 -4,-411 313,-411 313,4 -4,4\"/>\n<text text-anchor=\"middle\" x=\"154.5\" y=\"-391.8\" font-family=\"Times,serif\" font-size=\"14.00\">Label Occurence Graph for 2020</text>\n<!-- pre -->\n<g id=\"node1\" class=\"node\">\n<title>pre</title>\n<ellipse fill=\"none\" stroke=\"black\" cx=\"88\" cy=\"-366\" rx=\"27\" ry=\"18\"/>\n<text text-anchor=\"middle\" x=\"88\" y=\"-362.3\" font-family=\"Times,serif\" font-size=\"14.00\">pre</text>\n</g>\n<!-- pre&#45;&#45;pre -->\n<g id=\"edge1\" class=\"edge\">\n<title>pre&#45;&#45;pre</title>\n<path fill=\"none\" stroke=\"black\" d=\"M112.53,-374.03C123.51,-374.79 133,-372.12 133,-366 133,-359.88 123.51,-357.21 112.53,-357.97\"/>\n<text text-anchor=\"middle\" x=\"140\" y=\"-362.3\" font-family=\"Times,serif\" font-size=\"14.00\">53</text>\n</g>\n<!-- dev -->\n<g id=\"node2\" class=\"node\">\n<title>dev</title>\n<ellipse fill=\"none\" stroke=\"black\" cx=\"114\" cy=\"-279\" rx=\"27\" ry=\"18\"/>\n<text text-anchor=\"middle\" x=\"114\" y=\"-275.3\" font-family=\"Times,serif\" font-size=\"14.00\">dev</text>\n</g>\n<!-- pre&#45;&#45;dev -->\n<g id=\"edge2\" class=\"edge\">\n<title>pre&#45;&#45;dev</title>\n<path fill=\"none\" stroke=\"black\" d=\"M93.14,-348.21C97.67,-333.4 104.23,-311.93 108.78,-297.05\"/>\n<text text-anchor=\"middle\" x=\"105.5\" y=\"-318.8\" font-family=\"Times,serif\" font-size=\"14.00\">6</text>\n</g>\n<!-- patch -->\n<g id=\"node4\" class=\"node\">\n<title>patch</title>\n<ellipse fill=\"none\" stroke=\"black\" cx=\"62\" cy=\"-192\" rx=\"29.8\" ry=\"18\"/>\n<text text-anchor=\"middle\" x=\"62\" y=\"-188.3\" font-family=\"Times,serif\" font-size=\"14.00\">patch</text>\n</g>\n<!-- pre&#45;&#45;patch -->\n<g id=\"edge3\" class=\"edge\">\n<title>pre&#45;&#45;patch</title>\n<path fill=\"none\" stroke=\"black\" d=\"M82.9,-347.83C79.05,-334.18 73.93,-314.52 71,-297 65.95,-266.79 63.65,-231.14 62.66,-210.4\"/>\n<text text-anchor=\"middle\" x=\"74.5\" y=\"-275.3\" font-family=\"Times,serif\" font-size=\"14.00\">7</text>\n</g>\n<!-- minor -->\n<g id=\"node5\" class=\"node\">\n<title>minor</title>\n<ellipse fill=\"none\" stroke=\"black\" cx=\"167\" cy=\"-105\" rx=\"32.49\" ry=\"18\"/>\n<text text-anchor=\"middle\" x=\"167\" y=\"-101.3\" font-family=\"Times,serif\" font-size=\"14.00\">minor</text>\n</g>\n<!-- pre&#45;&#45;minor -->\n<g id=\"edge5\" class=\"edge\">\n<title>pre&#45;&#45;minor</title>\n<path fill=\"none\" stroke=\"black\" d=\"M110.71,-355.98C133.46,-345.57 167.16,-326.06 182,-297 211.66,-238.94 187.11,-157.83 173.97,-122.99\"/>\n<text text-anchor=\"middle\" x=\"199.5\" y=\"-231.8\" font-family=\"Times,serif\" font-size=\"14.00\">3</text>\n</g>\n<!-- major -->\n<g id=\"node6\" class=\"node\">\n<title>major</title>\n<ellipse fill=\"none\" stroke=\"black\" cx=\"62\" cy=\"-18\" rx=\"31.7\" ry=\"18\"/>\n<text text-anchor=\"middle\" x=\"62\" y=\"-14.3\" font-family=\"Times,serif\" font-size=\"14.00\">major</text>\n</g>\n<!-- pre&#45;&#45;major -->\n<g id=\"edge4\" class=\"edge\">\n<title>pre&#45;&#45;major</title>\n<path fill=\"none\" stroke=\"black\" d=\"M65.79,-355.35C39.72,-342.35 0,-316.53 0,-280 0,-280 0,-280 0,-104 0,-74.23 25.14,-47.91 43.4,-32.72\"/>\n<text text-anchor=\"middle\" x=\"7\" y=\"-188.3\" font-family=\"Times,serif\" font-size=\"14.00\">11</text>\n</g>\n<!-- dev&#45;&#45;dev -->\n<g id=\"edge6\" class=\"edge\">\n<title>dev&#45;&#45;dev</title>\n<path fill=\"none\" stroke=\"black\" d=\"M138.53,-287.03C149.51,-287.79 159,-285.12 159,-279 159,-272.88 149.51,-270.21 138.53,-270.97\"/>\n<text text-anchor=\"middle\" x=\"166\" y=\"-275.3\" font-family=\"Times,serif\" font-size=\"14.00\">11</text>\n</g>\n<!-- dev&#45;&#45;patch -->\n<g id=\"edge8\" class=\"edge\">\n<title>dev&#45;&#45;patch</title>\n<path fill=\"none\" stroke=\"black\" d=\"M104.22,-262.01C94.98,-246.91 81.2,-224.38 71.91,-209.21\"/>\n<text text-anchor=\"middle\" x=\"94.5\" y=\"-231.8\" font-family=\"Times,serif\" font-size=\"14.00\">1</text>\n</g>\n<!-- dev&#45;&#45;minor -->\n<g id=\"edge7\" class=\"edge\">\n<title>dev&#45;&#45;minor</title>\n<path fill=\"none\" stroke=\"black\" d=\"M121.05,-261.14C126.61,-247.49 134.34,-227.7 140,-210 149.66,-179.8 158.4,-143.84 163.18,-123.1\"/>\n<text text-anchor=\"middle\" x=\"153.5\" y=\"-188.3\" font-family=\"Times,serif\" font-size=\"14.00\">5</text>\n</g>\n<!-- post -->\n<g id=\"node3\" class=\"node\">\n<title>post</title>\n<ellipse fill=\"none\" stroke=\"black\" cx=\"257\" cy=\"-192\" rx=\"27\" ry=\"18\"/>\n<text text-anchor=\"middle\" x=\"257\" y=\"-188.3\" font-family=\"Times,serif\" font-size=\"14.00\">post</text>\n</g>\n<!-- post&#45;&#45;post -->\n<g id=\"edge9\" class=\"edge\">\n<title>post&#45;&#45;post</title>\n<path fill=\"none\" stroke=\"black\" d=\"M281.53,-200.03C292.51,-200.79 302,-198.12 302,-192 302,-185.88 292.51,-183.21 281.53,-183.97\"/>\n<text text-anchor=\"middle\" x=\"305.5\" y=\"-188.3\" font-family=\"Times,serif\" font-size=\"14.00\">1</text>\n</g>\n<!-- post&#45;&#45;minor -->\n<g id=\"edge10\" class=\"edge\">\n<title>post&#45;&#45;minor</title>\n<path fill=\"none\" stroke=\"black\" d=\"M245.77,-175.22C238.02,-164.89 227.15,-151.43 216,-141 207.45,-133 197,-125.3 187.95,-119.17\"/>\n<text text-anchor=\"middle\" x=\"232.5\" y=\"-144.8\" font-family=\"Times,serif\" font-size=\"14.00\">1</text>\n</g>\n<!-- patch&#45;&#45;patch -->\n<g id=\"edge11\" class=\"edge\">\n<title>patch&#45;&#45;patch</title>\n<path fill=\"none\" stroke=\"black\" d=\"M89.08,-200.08C100.35,-200.64 109.9,-197.95 109.9,-192 109.9,-186.05 100.35,-183.36 89.08,-183.92\"/>\n<text text-anchor=\"middle\" x=\"120.4\" y=\"-188.3\" font-family=\"Times,serif\" font-size=\"14.00\">622</text>\n</g>\n<!-- patch&#45;&#45;minor -->\n<g id=\"edge13\" class=\"edge\">\n<title>patch&#45;&#45;minor</title>\n<path fill=\"none\" stroke=\"blue\" d=\"M79.34,-176.96C98.68,-161.31 129.79,-136.12 149.28,-120.34\"/>\n<text text-anchor=\"middle\" x=\"123.5\" y=\"-144.8\" font-family=\"Times,serif\" font-size=\"14.00\">2</text>\n</g>\n<!-- patch&#45;&#45;major -->\n<g id=\"edge12\" class=\"edge\">\n<title>patch&#45;&#45;major</title>\n<path fill=\"none\" stroke=\"orange\" d=\"M62,-173.56C62,-140.59 62,-69.49 62,-36.48\"/>\n<text text-anchor=\"middle\" x=\"69\" y=\"-101.3\" font-family=\"Times,serif\" font-size=\"14.00\">95</text>\n</g>\n<!-- minor&#45;&#45;minor -->\n<g id=\"edge14\" class=\"edge\">\n<title>minor&#45;&#45;minor</title>\n<path fill=\"none\" stroke=\"black\" d=\"M196.57,-113.12C208,-113.49 217.5,-110.78 217.5,-105 217.5,-99.22 208,-96.51 196.57,-96.88\"/>\n<text text-anchor=\"middle\" x=\"228\" y=\"-101.3\" font-family=\"Times,serif\" font-size=\"14.00\">289</text>\n</g>\n<!-- minor&#45;&#45;major -->\n<g id=\"edge15\" class=\"edge\">\n<title>minor&#45;&#45;major</title>\n<path fill=\"none\" stroke=\"red\" d=\"M149.19,-89.58C129.76,-73.86 98.87,-48.85 79.55,-33.21\"/>\n<text text-anchor=\"middle\" x=\"130.5\" y=\"-57.8\" font-family=\"Times,serif\" font-size=\"14.00\">181</text>\n</g>\n<!-- major&#45;&#45;major -->\n<g id=\"edge16\" class=\"edge\">\n<title>major&#45;&#45;major</title>\n<path fill=\"none\" stroke=\"black\" d=\"M90.69,-26.11C102.19,-26.56 111.85,-23.86 111.85,-18 111.85,-12.14 102.19,-9.44 90.69,-9.89\"/>\n<text text-anchor=\"middle\" x=\"122.35\" y=\"-14.3\" font-family=\"Times,serif\" font-size=\"14.00\">150</text>\n</g>\n</g>\n</svg>\n",
      "text/plain": [
       "<graphviz.graphs.Graph at 0x12e255e90>"
      ]
     },
     "execution_count": 203,
     "metadata": {},
     "output_type": "execute_result"
    }
   ],
   "source": [
    "import networkx as nx\n",
    "import graphviz\n",
    "import numpy as np\n",
    "import matplotlib.pyplot as plt\n",
    "\n",
    "df_2020 = df_2020[df_2020['label'] != 0]\n",
    "\n",
    "s = df_2020['label'].astype(str).value_counts()\n",
    "\n",
    "\n",
    "tmp = (\n",
    "    s.reset_index(name='label')\n",
    "    .sort_values(by='index', key=lambda s: s.str.count('.'))\n",
    "    .pipe(lambda d: d.join(d['index'].str.extract(r'(?:([^.]+).)?(\\b[^.]+)$').bfill(axis=1)))\n",
    "    .drop_duplicates(subset=[0, 1])\n",
    "    .dropna(subset=[0, 1])\n",
    ")\n",
    "\n",
    "# Set up the node colors based on their label values\n",
    "#node_colors = {'major': 'lightblue', 'minor': 'olive', 'patch': 'gray', 'pre': 'beige', 'dev': 'green','post': 'pink', 'prerelease_version': 'orange'}\n",
    "\n",
    "# Set up the edge colors for major, minor and patch edges\n",
    "edge_colors = {('minor', 'major'): 'red', ('patch', 'minor'): 'blue', ('patch', 'major'): 'orange'}\n",
    "\n",
    "G = nx.from_pandas_edgelist(tmp, source=0, target=1,\n",
    "                            create_using=nx.Graph, edge_attr='label')\n",
    "\n",
    "\n",
    "dot = graphviz.Graph(graph_attr={'label': 'Label Occurence Graph for 2020', 'labelloc': 't', 'labeljust': 'c', 'labeldistance': '2.0'})\n",
    "for node in G.nodes:\n",
    "    dot.node(str(node))\n",
    "\n",
    "for edge in G.edges:\n",
    "    label = G.edges[edge]['label']\n",
    "    # Update the edge color only for major, minor and patch edges\n",
    "    if (edge[0], edge[1]) in edge_colors:\n",
    "        dot.edge(str(edge[0]), str(edge[1]), label=str(label), color=edge_colors[(edge[0], edge[1])])\n",
    "    else:\n",
    "        dot.edge(str(edge[0]), str(edge[1]), label=str(label))\n",
    "    \n",
    "dot\n"
   ]
  },
  {
   "cell_type": "code",
   "execution_count": 204,
   "metadata": {},
   "outputs": [
    {
     "data": {
      "image/svg+xml": "<?xml version=\"1.0\" encoding=\"UTF-8\" standalone=\"no\"?>\n<!DOCTYPE svg PUBLIC \"-//W3C//DTD SVG 1.1//EN\"\n \"http://www.w3.org/Graphics/SVG/1.1/DTD/svg11.dtd\">\n<!-- Generated by graphviz version 7.0.6 (20230106.0513)\n -->\n<!-- Pages: 1 -->\n<svg width=\"247pt\" height=\"415pt\"\n viewBox=\"0.00 0.00 247.22 415.00\" xmlns=\"http://www.w3.org/2000/svg\" xmlns:xlink=\"http://www.w3.org/1999/xlink\">\n<g id=\"graph0\" class=\"graph\" transform=\"scale(1 1) rotate(0) translate(4 411)\">\n<polygon fill=\"white\" stroke=\"none\" points=\"-4,4 -4,-411 243.22,-411 243.22,4 -4,4\"/>\n<text text-anchor=\"middle\" x=\"119.61\" y=\"-391.8\" font-family=\"Times,serif\" font-size=\"14.00\">Label Occurence Graph for 2021</text>\n<!-- dev -->\n<g id=\"node1\" class=\"node\">\n<title>dev</title>\n<ellipse fill=\"none\" stroke=\"black\" cx=\"122\" cy=\"-366\" rx=\"27\" ry=\"18\"/>\n<text text-anchor=\"middle\" x=\"122\" y=\"-362.3\" font-family=\"Times,serif\" font-size=\"14.00\">dev</text>\n</g>\n<!-- dev&#45;&#45;dev -->\n<g id=\"edge1\" class=\"edge\">\n<title>dev&#45;&#45;dev</title>\n<path fill=\"none\" stroke=\"black\" d=\"M146.53,-374.03C157.51,-374.79 167,-372.12 167,-366 167,-359.88 157.51,-357.21 146.53,-357.97\"/>\n<text text-anchor=\"middle\" x=\"170.5\" y=\"-362.3\" font-family=\"Times,serif\" font-size=\"14.00\">3</text>\n</g>\n<!-- pre -->\n<g id=\"node2\" class=\"node\">\n<title>pre</title>\n<ellipse fill=\"none\" stroke=\"black\" cx=\"27\" cy=\"-279\" rx=\"27\" ry=\"18\"/>\n<text text-anchor=\"middle\" x=\"27\" y=\"-275.3\" font-family=\"Times,serif\" font-size=\"14.00\">pre</text>\n</g>\n<!-- dev&#45;&#45;pre -->\n<g id=\"edge2\" class=\"edge\">\n<title>dev&#45;&#45;pre</title>\n<path fill=\"none\" stroke=\"black\" d=\"M106.31,-350.96C88.71,-335.21 60.32,-309.81 42.71,-294.06\"/>\n<text text-anchor=\"middle\" x=\"84.5\" y=\"-318.8\" font-family=\"Times,serif\" font-size=\"14.00\">2</text>\n</g>\n<!-- patch -->\n<g id=\"node4\" class=\"node\">\n<title>patch</title>\n<ellipse fill=\"none\" stroke=\"black\" cx=\"114\" cy=\"-192\" rx=\"29.8\" ry=\"18\"/>\n<text text-anchor=\"middle\" x=\"114\" y=\"-188.3\" font-family=\"Times,serif\" font-size=\"14.00\">patch</text>\n</g>\n<!-- dev&#45;&#45;patch -->\n<g id=\"edge3\" class=\"edge\">\n<title>dev&#45;&#45;patch</title>\n<path fill=\"none\" stroke=\"black\" d=\"M121.19,-347.56C119.66,-314.59 116.35,-243.49 114.81,-210.48\"/>\n<text text-anchor=\"middle\" x=\"122.5\" y=\"-275.3\" font-family=\"Times,serif\" font-size=\"14.00\">2</text>\n</g>\n<!-- minor -->\n<g id=\"node5\" class=\"node\">\n<title>minor</title>\n<ellipse fill=\"none\" stroke=\"black\" cx=\"114\" cy=\"-105\" rx=\"32.49\" ry=\"18\"/>\n<text text-anchor=\"middle\" x=\"114\" y=\"-101.3\" font-family=\"Times,serif\" font-size=\"14.00\">minor</text>\n</g>\n<!-- dev&#45;&#45;minor -->\n<g id=\"edge4\" class=\"edge\">\n<title>dev&#45;&#45;minor</title>\n<path fill=\"none\" stroke=\"black\" d=\"M146.65,-358.13C173.83,-349.08 216.18,-330.29 235,-297 242.87,-283.07 237.4,-276.82 235,-261 226.44,-204.53 231.08,-179.62 189,-141 175.66,-128.76 157.28,-120.09 142.06,-114.44\"/>\n<text text-anchor=\"middle\" x=\"235.5\" y=\"-231.8\" font-family=\"Times,serif\" font-size=\"14.00\">2</text>\n</g>\n<!-- pre&#45;&#45;pre -->\n<g id=\"edge5\" class=\"edge\">\n<title>pre&#45;&#45;pre</title>\n<path fill=\"none\" stroke=\"black\" d=\"M51.53,-287.03C62.51,-287.79 72,-285.12 72,-279 72,-272.88 62.51,-270.21 51.53,-270.97\"/>\n<text text-anchor=\"middle\" x=\"79\" y=\"-275.3\" font-family=\"Times,serif\" font-size=\"14.00\">97</text>\n</g>\n<!-- pre&#45;&#45;patch -->\n<g id=\"edge8\" class=\"edge\">\n<title>pre&#45;&#45;patch</title>\n<path fill=\"none\" stroke=\"black\" d=\"M45.26,-265.62C54.04,-259.3 64.48,-251.22 73,-243 83.99,-232.4 94.87,-218.95 102.66,-208.67\"/>\n<text text-anchor=\"middle\" x=\"90.5\" y=\"-231.8\" font-family=\"Times,serif\" font-size=\"14.00\">7</text>\n</g>\n<!-- pre&#45;&#45;minor -->\n<g id=\"edge6\" class=\"edge\">\n<title>pre&#45;&#45;minor</title>\n<path fill=\"none\" stroke=\"black\" d=\"M32.44,-260.93C39.43,-239.9 52.52,-203.36 68,-174 77.84,-155.34 91.67,-135.53 101.6,-122.13\"/>\n<text text-anchor=\"middle\" x=\"71.5\" y=\"-188.3\" font-family=\"Times,serif\" font-size=\"14.00\">4</text>\n</g>\n<!-- major -->\n<g id=\"node6\" class=\"node\">\n<title>major</title>\n<ellipse fill=\"none\" stroke=\"black\" cx=\"39\" cy=\"-18\" rx=\"31.7\" ry=\"18\"/>\n<text text-anchor=\"middle\" x=\"39\" y=\"-14.3\" font-family=\"Times,serif\" font-size=\"14.00\">major</text>\n</g>\n<!-- pre&#45;&#45;major -->\n<g id=\"edge7\" class=\"edge\">\n<title>pre&#45;&#45;major</title>\n<path fill=\"none\" stroke=\"black\" d=\"M27.16,-260.55C27.61,-222.81 29.25,-130.83 35,-54 35.43,-48.27 36.08,-42.03 36.74,-36.42\"/>\n<text text-anchor=\"middle\" x=\"34.5\" y=\"-144.8\" font-family=\"Times,serif\" font-size=\"14.00\">5</text>\n</g>\n<!-- post -->\n<g id=\"node3\" class=\"node\">\n<title>post</title>\n<ellipse fill=\"none\" stroke=\"black\" cx=\"174\" cy=\"-279\" rx=\"27\" ry=\"18\"/>\n<text text-anchor=\"middle\" x=\"174\" y=\"-275.3\" font-family=\"Times,serif\" font-size=\"14.00\">post</text>\n</g>\n<!-- post&#45;&#45;post -->\n<g id=\"edge9\" class=\"edge\">\n<title>post&#45;&#45;post</title>\n<path fill=\"none\" stroke=\"black\" d=\"M198.53,-287.03C209.51,-287.79 219,-285.12 219,-279 219,-272.88 209.51,-270.21 198.53,-270.97\"/>\n<text text-anchor=\"middle\" x=\"222.5\" y=\"-275.3\" font-family=\"Times,serif\" font-size=\"14.00\">3</text>\n</g>\n<!-- post&#45;&#45;patch -->\n<g id=\"edge10\" class=\"edge\">\n<title>post&#45;&#45;patch</title>\n<path fill=\"none\" stroke=\"black\" d=\"M163,-262.41C152.3,-247.26 136.15,-224.37 125.34,-209.07\"/>\n<text text-anchor=\"middle\" x=\"151.5\" y=\"-231.8\" font-family=\"Times,serif\" font-size=\"14.00\">1</text>\n</g>\n<!-- post&#45;&#45;minor -->\n<g id=\"edge11\" class=\"edge\">\n<title>post&#45;&#45;minor</title>\n<path fill=\"none\" stroke=\"black\" d=\"M182.42,-261.76C192.14,-240.64 205.2,-203.02 192,-174 180.69,-149.14 155.32,-129.83 136.56,-118.24\"/>\n<text text-anchor=\"middle\" x=\"200.5\" y=\"-188.3\" font-family=\"Times,serif\" font-size=\"14.00\">1</text>\n</g>\n<!-- patch&#45;&#45;patch -->\n<g id=\"edge12\" class=\"edge\">\n<title>patch&#45;&#45;patch</title>\n<path fill=\"none\" stroke=\"black\" d=\"M141.08,-200.08C152.35,-200.64 161.9,-197.95 161.9,-192 161.9,-186.05 152.35,-183.36 141.08,-183.92\"/>\n<text text-anchor=\"middle\" x=\"172.4\" y=\"-188.3\" font-family=\"Times,serif\" font-size=\"14.00\">503</text>\n</g>\n<!-- patch&#45;&#45;minor -->\n<g id=\"edge14\" class=\"edge\">\n<title>patch&#45;&#45;minor</title>\n<path fill=\"none\" stroke=\"blue\" d=\"M114,-173.8C114,-159.15 114,-138.19 114,-123.47\"/>\n<text text-anchor=\"middle\" x=\"124.5\" y=\"-144.8\" font-family=\"Times,serif\" font-size=\"14.00\">190</text>\n</g>\n<!-- patch&#45;&#45;major -->\n<g id=\"edge13\" class=\"edge\">\n<title>patch&#45;&#45;major</title>\n<path fill=\"none\" stroke=\"orange\" d=\"M96.36,-177.12C81.85,-164.63 62.1,-144.91 52,-123 38.98,-94.74 37.55,-57.83 38.04,-36.44\"/>\n<text text-anchor=\"middle\" x=\"62.5\" y=\"-101.3\" font-family=\"Times,serif\" font-size=\"14.00\">167</text>\n</g>\n<!-- minor&#45;&#45;minor -->\n<g id=\"edge15\" class=\"edge\">\n<title>minor&#45;&#45;minor</title>\n<path fill=\"none\" stroke=\"black\" d=\"M143.57,-113.12C155,-113.49 164.5,-110.78 164.5,-105 164.5,-99.22 155,-96.51 143.57,-96.88\"/>\n<text text-anchor=\"middle\" x=\"175\" y=\"-101.3\" font-family=\"Times,serif\" font-size=\"14.00\">368</text>\n</g>\n<!-- minor&#45;&#45;major -->\n<g id=\"edge16\" class=\"edge\">\n<title>minor&#45;&#45;major</title>\n<path fill=\"none\" stroke=\"red\" d=\"M100.24,-88.41C86.71,-73.07 66.17,-49.79 52.67,-34.49\"/>\n<text text-anchor=\"middle\" x=\"91.5\" y=\"-57.8\" font-family=\"Times,serif\" font-size=\"14.00\">110</text>\n</g>\n<!-- major&#45;&#45;major -->\n<g id=\"edge17\" class=\"edge\">\n<title>major&#45;&#45;major</title>\n<path fill=\"none\" stroke=\"black\" d=\"M67.69,-26.11C79.19,-26.56 88.85,-23.86 88.85,-18 88.85,-12.14 79.19,-9.44 67.69,-9.89\"/>\n<text text-anchor=\"middle\" x=\"95.85\" y=\"-14.3\" font-family=\"Times,serif\" font-size=\"14.00\">85</text>\n</g>\n</g>\n</svg>\n",
      "text/plain": [
       "<graphviz.graphs.Graph at 0x12e17dc90>"
      ]
     },
     "execution_count": 204,
     "metadata": {},
     "output_type": "execute_result"
    }
   ],
   "source": [
    "import networkx as nx\n",
    "import graphviz\n",
    "import numpy as np\n",
    "import matplotlib.pyplot as plt\n",
    "\n",
    "df_2021 = df_2021[df_2021['label'] != 0]\n",
    "\n",
    "s = df_2021['label'].astype(str).value_counts()\n",
    "\n",
    "\n",
    "tmp = (\n",
    "    s.reset_index(name='label')\n",
    "    .sort_values(by='index', key=lambda s: s.str.count('.'))\n",
    "    .pipe(lambda d: d.join(d['index'].str.extract(r'(?:([^.]+).)?(\\b[^.]+)$').bfill(axis=1)))\n",
    "    .drop_duplicates(subset=[0, 1])\n",
    "    .dropna(subset=[0, 1])\n",
    ")\n",
    "\n",
    "# Set up the node colors based on their label values\n",
    "#node_colors = {'major': 'lightblue', 'minor': 'olive', 'patch': 'gray', 'pre': 'beige', 'dev': 'green','post': 'pink', 'prerelease_version': 'orange'}\n",
    "\n",
    "# Set up the edge colors for major, minor and patch edges\n",
    "edge_colors = {('minor', 'major'): 'red', ('patch', 'minor'): 'blue', ('patch', 'major'): 'orange'}\n",
    "\n",
    "G = nx.from_pandas_edgelist(tmp, source=0, target=1,\n",
    "                            create_using=nx.Graph, edge_attr='label')\n",
    "\n",
    "\n",
    "dot = graphviz.Graph(graph_attr={'label': 'Label Occurence Graph for 2021', 'labelloc': 't', 'labeljust': 'c', 'labeldistance': '2.0'})\n",
    "for node in G.nodes:\n",
    "    dot.node(str(node))\n",
    "\n",
    "for edge in G.edges:\n",
    "    label = G.edges[edge]['label']\n",
    "    # Update the edge color only for major, minor and patch edges\n",
    "    if (edge[0], edge[1]) in edge_colors:\n",
    "        dot.edge(str(edge[0]), str(edge[1]), label=str(label), color=edge_colors[(edge[0], edge[1])])\n",
    "    else:\n",
    "        dot.edge(str(edge[0]), str(edge[1]), label=str(label))\n",
    "    \n",
    "dot\n"
   ]
  },
  {
   "cell_type": "code",
   "execution_count": 205,
   "metadata": {},
   "outputs": [
    {
     "data": {
      "image/svg+xml": "<?xml version=\"1.0\" encoding=\"UTF-8\" standalone=\"no\"?>\n<!DOCTYPE svg PUBLIC \"-//W3C//DTD SVG 1.1//EN\"\n \"http://www.w3.org/Graphics/SVG/1.1/DTD/svg11.dtd\">\n<!-- Generated by graphviz version 7.0.6 (20230106.0513)\n -->\n<!-- Pages: 1 -->\n<svg width=\"205pt\" height=\"328pt\"\n viewBox=\"0.00 0.00 205.00 328.00\" xmlns=\"http://www.w3.org/2000/svg\" xmlns:xlink=\"http://www.w3.org/1999/xlink\">\n<g id=\"graph0\" class=\"graph\" transform=\"scale(1 1) rotate(0) translate(4 324)\">\n<polygon fill=\"white\" stroke=\"none\" points=\"-4,4 -4,-324 201,-324 201,4 -4,4\"/>\n<text text-anchor=\"middle\" x=\"98.5\" y=\"-304.8\" font-family=\"Times,serif\" font-size=\"14.00\">Label Occurence Graph for 2022</text>\n<!-- pre -->\n<g id=\"node1\" class=\"node\">\n<title>pre</title>\n<ellipse fill=\"none\" stroke=\"black\" cx=\"136.45\" cy=\"-279\" rx=\"27\" ry=\"18\"/>\n<text text-anchor=\"middle\" x=\"136.45\" y=\"-275.3\" font-family=\"Times,serif\" font-size=\"14.00\">pre</text>\n</g>\n<!-- pre&#45;&#45;pre -->\n<g id=\"edge1\" class=\"edge\">\n<title>pre&#45;&#45;pre</title>\n<path fill=\"none\" stroke=\"black\" d=\"M160.98,-287.03C171.96,-287.79 181.45,-285.12 181.45,-279 181.45,-272.88 171.96,-270.21 160.98,-270.97\"/>\n<text text-anchor=\"middle\" x=\"188.45\" y=\"-275.3\" font-family=\"Times,serif\" font-size=\"14.00\">40</text>\n</g>\n<!-- patch -->\n<g id=\"node2\" class=\"node\">\n<title>patch</title>\n<ellipse fill=\"none\" stroke=\"black\" cx=\"31.45\" cy=\"-192\" rx=\"29.8\" ry=\"18\"/>\n<text text-anchor=\"middle\" x=\"31.45\" y=\"-188.3\" font-family=\"Times,serif\" font-size=\"14.00\">patch</text>\n</g>\n<!-- pre&#45;&#45;patch -->\n<g id=\"edge3\" class=\"edge\">\n<title>pre&#45;&#45;patch</title>\n<path fill=\"none\" stroke=\"black\" d=\"M120.04,-264.72C100.66,-249.03 68.56,-223.05 48.79,-207.04\"/>\n<text text-anchor=\"middle\" x=\"93.95\" y=\"-231.8\" font-family=\"Times,serif\" font-size=\"14.00\">1</text>\n</g>\n<!-- minor -->\n<g id=\"node3\" class=\"node\">\n<title>minor</title>\n<ellipse fill=\"none\" stroke=\"black\" cx=\"80.45\" cy=\"-105\" rx=\"32.49\" ry=\"18\"/>\n<text text-anchor=\"middle\" x=\"80.45\" y=\"-101.3\" font-family=\"Times,serif\" font-size=\"14.00\">minor</text>\n</g>\n<!-- pre&#45;&#45;minor -->\n<g id=\"edge2\" class=\"edge\">\n<title>pre&#45;&#45;minor</title>\n<path fill=\"none\" stroke=\"black\" d=\"M132.82,-260.84C128.23,-240.03 119.68,-204.02 109.45,-174 103.36,-156.14 94.7,-136.37 88.43,-122.77\"/>\n<text text-anchor=\"middle\" x=\"123.95\" y=\"-188.3\" font-family=\"Times,serif\" font-size=\"14.00\">7</text>\n</g>\n<!-- major -->\n<g id=\"node4\" class=\"node\">\n<title>major</title>\n<ellipse fill=\"none\" stroke=\"black\" cx=\"80.45\" cy=\"-18\" rx=\"31.7\" ry=\"18\"/>\n<text text-anchor=\"middle\" x=\"80.45\" y=\"-14.3\" font-family=\"Times,serif\" font-size=\"14.00\">major</text>\n</g>\n<!-- pre&#45;&#45;major -->\n<g id=\"edge4\" class=\"edge\">\n<title>pre&#45;&#45;major</title>\n<path fill=\"none\" stroke=\"black\" d=\"M144.2,-261.5C159.12,-227.24 188.01,-146.61 160.45,-87 148.74,-61.69 122.45,-42.34 103.19,-30.87\"/>\n<text text-anchor=\"middle\" x=\"174.95\" y=\"-144.8\" font-family=\"Times,serif\" font-size=\"14.00\">1</text>\n</g>\n<!-- patch&#45;&#45;patch -->\n<g id=\"edge5\" class=\"edge\">\n<title>patch&#45;&#45;patch</title>\n<path fill=\"none\" stroke=\"black\" d=\"M58.53,-200.08C69.8,-200.64 79.35,-197.95 79.35,-192 79.35,-186.05 69.8,-183.36 58.53,-183.92\"/>\n<text text-anchor=\"middle\" x=\"89.85\" y=\"-188.3\" font-family=\"Times,serif\" font-size=\"14.00\">671</text>\n</g>\n<!-- patch&#45;&#45;minor -->\n<g id=\"edge6\" class=\"edge\">\n<title>patch&#45;&#45;minor</title>\n<path fill=\"none\" stroke=\"blue\" d=\"M40.9,-174.61C49.52,-159.66 62.2,-137.66 70.86,-122.63\"/>\n<text text-anchor=\"middle\" x=\"62.95\" y=\"-144.8\" font-family=\"Times,serif\" font-size=\"14.00\">5</text>\n</g>\n<!-- patch&#45;&#45;major -->\n<g id=\"edge7\" class=\"edge\">\n<title>patch&#45;&#45;major</title>\n<path fill=\"none\" stroke=\"orange\" d=\"M28.57,-173.94C25.71,-152.92 22.97,-116.38 32.45,-87 39.02,-66.65 54.03,-47.1 65.53,-34.23\"/>\n<text text-anchor=\"middle\" x=\"35.95\" y=\"-101.3\" font-family=\"Times,serif\" font-size=\"14.00\">4</text>\n</g>\n<!-- minor&#45;&#45;minor -->\n<g id=\"edge8\" class=\"edge\">\n<title>minor&#45;&#45;minor</title>\n<path fill=\"none\" stroke=\"black\" d=\"M110.01,-113.12C121.44,-113.49 130.95,-110.78 130.95,-105 130.95,-99.22 121.44,-96.51 110.01,-96.88\"/>\n<text text-anchor=\"middle\" x=\"141.45\" y=\"-101.3\" font-family=\"Times,serif\" font-size=\"14.00\">235</text>\n</g>\n<!-- minor&#45;&#45;major -->\n<g id=\"edge9\" class=\"edge\">\n<title>minor&#45;&#45;major</title>\n<path fill=\"none\" stroke=\"red\" d=\"M80.45,-86.8C80.45,-72.15 80.45,-51.19 80.45,-36.47\"/>\n<text text-anchor=\"middle\" x=\"87.45\" y=\"-57.8\" font-family=\"Times,serif\" font-size=\"14.00\">13</text>\n</g>\n<!-- major&#45;&#45;major -->\n<g id=\"edge10\" class=\"edge\">\n<title>major&#45;&#45;major</title>\n<path fill=\"none\" stroke=\"black\" d=\"M109.13,-26.11C120.64,-26.56 130.3,-23.86 130.3,-18 130.3,-12.14 120.64,-9.44 109.13,-9.89\"/>\n<text text-anchor=\"middle\" x=\"137.3\" y=\"-14.3\" font-family=\"Times,serif\" font-size=\"14.00\">15</text>\n</g>\n</g>\n</svg>\n",
      "text/plain": [
       "<graphviz.graphs.Graph at 0x12e0dfd90>"
      ]
     },
     "execution_count": 205,
     "metadata": {},
     "output_type": "execute_result"
    }
   ],
   "source": [
    "import networkx as nx\n",
    "import graphviz\n",
    "import numpy as np\n",
    "import matplotlib.pyplot as plt\n",
    "\n",
    "df_2022 = df_2022[df_2022['label'] != 0]\n",
    "\n",
    "s = df_2022['label'].astype(str).value_counts()\n",
    "\n",
    "\n",
    "tmp = (\n",
    "    s.reset_index(name='label')\n",
    "    .sort_values(by='index', key=lambda s: s.str.count('.'))\n",
    "    .pipe(lambda d: d.join(d['index'].str.extract(r'(?:([^.]+).)?(\\b[^.]+)$').bfill(axis=1)))\n",
    "    .drop_duplicates(subset=[0, 1])\n",
    "    .dropna(subset=[0, 1])\n",
    ")\n",
    "\n",
    "# Set up the node colors based on their label values\n",
    "#node_colors = {'major': 'lightblue', 'minor': 'olive', 'patch': 'gray', 'pre': 'beige', 'dev': 'green','post': 'pink', 'prerelease_version': 'orange'}\n",
    "\n",
    "# Set up the edge colors for major, minor and patch edges\n",
    "edge_colors = {('minor', 'major'): 'red', ('patch', 'minor'): 'blue', ('patch', 'major'): 'orange'}\n",
    "\n",
    "G = nx.from_pandas_edgelist(tmp, source=0, target=1,\n",
    "                            create_using=nx.Graph, edge_attr='label')\n",
    "\n",
    "\n",
    "dot = graphviz.Graph(graph_attr={'label': 'Label Occurence Graph for 2022', 'labelloc': 't', 'labeljust': 'c', 'labeldistance': '2.0'})\n",
    "for node in G.nodes:\n",
    "    dot.node(str(node))\n",
    "\n",
    "for edge in G.edges:\n",
    "    label = G.edges[edge]['label']\n",
    "    # Update the edge color only for major, minor and patch edges\n",
    "    if (edge[0], edge[1]) in edge_colors:\n",
    "        dot.edge(str(edge[0]), str(edge[1]), label=str(label), color=edge_colors[(edge[0], edge[1])])\n",
    "    else:\n",
    "        dot.edge(str(edge[0]), str(edge[1]), label=str(label))\n",
    "    \n",
    "dot\n"
   ]
  }
 ],
 "metadata": {
  "kernelspec": {
   "display_name": "Python 3.9.16 64-bit",
   "language": "python",
   "name": "python3"
  },
  "language_info": {
   "codemirror_mode": {
    "name": "ipython",
    "version": 3
   },
   "file_extension": ".py",
   "mimetype": "text/x-python",
   "name": "python",
   "nbconvert_exporter": "python",
   "pygments_lexer": "ipython3",
   "version": "3.9.16"
  },
  "orig_nbformat": 4,
  "vscode": {
   "interpreter": {
    "hash": "397704579725e15f5c7cb49fe5f0341eb7531c82d19f2c29d197e8b64ab5776b"
   }
  }
 },
 "nbformat": 4,
 "nbformat_minor": 2
}
